{
 "cells": [
  {
   "cell_type": "code",
   "execution_count": 1,
   "id": "39342f4b",
   "metadata": {
    "_cell_guid": "b1076dfc-b9ad-4769-8c92-a6c4dae69d19",
    "_uuid": "8f2839f25d086af736a60e9eeb907d3b93b6e0e5",
    "execution": {
     "iopub.execute_input": "2022-03-10T17:50:31.109288Z",
     "iopub.status.busy": "2022-03-10T17:50:31.107988Z",
     "iopub.status.idle": "2022-03-10T17:50:31.127444Z",
     "shell.execute_reply": "2022-03-10T17:50:31.128232Z",
     "shell.execute_reply.started": "2022-03-10T17:22:54.550926Z"
    },
    "papermill": {
     "duration": 0.058111,
     "end_time": "2022-03-10T17:50:31.128618",
     "exception": false,
     "start_time": "2022-03-10T17:50:31.070507",
     "status": "completed"
    },
    "tags": []
   },
   "outputs": [
    {
     "name": "stdout",
     "output_type": "stream",
     "text": [
      "/kaggle/input/healthy-lifestyle-cities-report-2021/healthy_lifestyle_city_2021.csv\n"
     ]
    }
   ],
   "source": [
    "# This Python 3 environment comes with many helpful analytics libraries installed\n",
    "# It is defined by the kaggle/python Docker image: https://github.com/kaggle/docker-python\n",
    "# For example, here's several helpful packages to load\n",
    "\n",
    "import numpy as np # linear algebra\n",
    "import pandas as pd # data processing, CSV file I/O (e.g. pd.read_csv)\n",
    "from warnings import filterwarnings\n",
    "filterwarnings(\"ignore\")\n",
    "\n",
    "# Input data files are available in the read-only \"../input/\" directory\n",
    "# For example, running this (by clicking run or pressing Shift+Enter) will list all files under the input directory\n",
    "\n",
    "import os\n",
    "for dirname, _, filenames in os.walk('/kaggle/input'):\n",
    "    for filename in filenames:\n",
    "        print(os.path.join(dirname, filename))\n",
    "\n",
    "# You can write up to 20GB to the current directory (/kaggle/working/) that gets preserved as output when you create a version using \"Save & Run All\" \n",
    "# You can also write temporary files to /kaggle/temp/, but they won't be saved outside of the current session"
   ]
  },
  {
   "cell_type": "markdown",
   "id": "2dfcddf9",
   "metadata": {
    "papermill": {
     "duration": 0.032205,
     "end_time": "2022-03-10T17:50:31.194952",
     "exception": false,
     "start_time": "2022-03-10T17:50:31.162747",
     "status": "completed"
    },
    "tags": []
   },
   "source": [
    "**Import Data**"
   ]
  },
  {
   "cell_type": "code",
   "execution_count": 2,
   "id": "4b8437c3",
   "metadata": {
    "execution": {
     "iopub.execute_input": "2022-03-10T17:50:31.263132Z",
     "iopub.status.busy": "2022-03-10T17:50:31.262437Z",
     "iopub.status.idle": "2022-03-10T17:50:31.300657Z",
     "shell.execute_reply": "2022-03-10T17:50:31.301239Z",
     "shell.execute_reply.started": "2022-03-10T17:22:56.816685Z"
    },
    "papermill": {
     "duration": 0.074053,
     "end_time": "2022-03-10T17:50:31.301418",
     "exception": false,
     "start_time": "2022-03-10T17:50:31.227365",
     "status": "completed"
    },
    "tags": []
   },
   "outputs": [
    {
     "data": {
      "text/html": [
       "<div>\n",
       "<style scoped>\n",
       "    .dataframe tbody tr th:only-of-type {\n",
       "        vertical-align: middle;\n",
       "    }\n",
       "\n",
       "    .dataframe tbody tr th {\n",
       "        vertical-align: top;\n",
       "    }\n",
       "\n",
       "    .dataframe thead th {\n",
       "        text-align: right;\n",
       "    }\n",
       "</style>\n",
       "<table border=\"1\" class=\"dataframe\">\n",
       "  <thead>\n",
       "    <tr style=\"text-align: right;\">\n",
       "      <th></th>\n",
       "      <th>City</th>\n",
       "      <th>Rank</th>\n",
       "      <th>Sunshine hours(City)</th>\n",
       "      <th>Cost of a bottle of water(City)</th>\n",
       "      <th>Obesity levels(Country)</th>\n",
       "      <th>Life expectancy(years) (Country)</th>\n",
       "      <th>Pollution(Index score) (City)</th>\n",
       "      <th>Annual avg. hours worked</th>\n",
       "      <th>Happiness levels(Country)</th>\n",
       "      <th>Outdoor activities(City)</th>\n",
       "      <th>Number of take out places(City)</th>\n",
       "      <th>Cost of a monthly gym membership(City)</th>\n",
       "    </tr>\n",
       "  </thead>\n",
       "  <tbody>\n",
       "    <tr>\n",
       "      <th>0</th>\n",
       "      <td>Amsterdam</td>\n",
       "      <td>1</td>\n",
       "      <td>1858</td>\n",
       "      <td>£1.92</td>\n",
       "      <td>20.40%</td>\n",
       "      <td>81.2</td>\n",
       "      <td>30.93</td>\n",
       "      <td>1434</td>\n",
       "      <td>7.44</td>\n",
       "      <td>422</td>\n",
       "      <td>1048</td>\n",
       "      <td>£34.90</td>\n",
       "    </tr>\n",
       "    <tr>\n",
       "      <th>1</th>\n",
       "      <td>Sydney</td>\n",
       "      <td>2</td>\n",
       "      <td>2636</td>\n",
       "      <td>£1.48</td>\n",
       "      <td>29.00%</td>\n",
       "      <td>82.1</td>\n",
       "      <td>26.86</td>\n",
       "      <td>1712</td>\n",
       "      <td>7.22</td>\n",
       "      <td>406</td>\n",
       "      <td>1103</td>\n",
       "      <td>£41.66</td>\n",
       "    </tr>\n",
       "    <tr>\n",
       "      <th>2</th>\n",
       "      <td>Vienna</td>\n",
       "      <td>3</td>\n",
       "      <td>1884</td>\n",
       "      <td>£1.94</td>\n",
       "      <td>20.10%</td>\n",
       "      <td>81.0</td>\n",
       "      <td>17.33</td>\n",
       "      <td>1501</td>\n",
       "      <td>7.29</td>\n",
       "      <td>132</td>\n",
       "      <td>1008</td>\n",
       "      <td>£25.74</td>\n",
       "    </tr>\n",
       "    <tr>\n",
       "      <th>3</th>\n",
       "      <td>Stockholm</td>\n",
       "      <td>4</td>\n",
       "      <td>1821</td>\n",
       "      <td>£1.72</td>\n",
       "      <td>20.60%</td>\n",
       "      <td>81.8</td>\n",
       "      <td>19.63</td>\n",
       "      <td>1452</td>\n",
       "      <td>7.35</td>\n",
       "      <td>129</td>\n",
       "      <td>598</td>\n",
       "      <td>£37.31</td>\n",
       "    </tr>\n",
       "    <tr>\n",
       "      <th>4</th>\n",
       "      <td>Copenhagen</td>\n",
       "      <td>5</td>\n",
       "      <td>1630</td>\n",
       "      <td>£2.19</td>\n",
       "      <td>19.70%</td>\n",
       "      <td>79.8</td>\n",
       "      <td>21.24</td>\n",
       "      <td>1380</td>\n",
       "      <td>7.64</td>\n",
       "      <td>154</td>\n",
       "      <td>523</td>\n",
       "      <td>£32.53</td>\n",
       "    </tr>\n",
       "  </tbody>\n",
       "</table>\n",
       "</div>"
      ],
      "text/plain": [
       "         City  Rank Sunshine hours(City) Cost of a bottle of water(City)  \\\n",
       "0   Amsterdam     1                 1858                           £1.92   \n",
       "1      Sydney     2                 2636                           £1.48   \n",
       "2      Vienna     3                 1884                           £1.94   \n",
       "3   Stockholm     4                 1821                           £1.72   \n",
       "4  Copenhagen     5                 1630                           £2.19   \n",
       "\n",
       "  Obesity levels(Country)  Life expectancy(years) (Country)  \\\n",
       "0                  20.40%                              81.2   \n",
       "1                  29.00%                              82.1   \n",
       "2                  20.10%                              81.0   \n",
       "3                  20.60%                              81.8   \n",
       "4                  19.70%                              79.8   \n",
       "\n",
       "  Pollution(Index score) (City) Annual avg. hours worked  \\\n",
       "0                         30.93                     1434   \n",
       "1                         26.86                     1712   \n",
       "2                         17.33                     1501   \n",
       "3                         19.63                     1452   \n",
       "4                         21.24                     1380   \n",
       "\n",
       "   Happiness levels(Country)  Outdoor activities(City)  \\\n",
       "0                       7.44                       422   \n",
       "1                       7.22                       406   \n",
       "2                       7.29                       132   \n",
       "3                       7.35                       129   \n",
       "4                       7.64                       154   \n",
       "\n",
       "   Number of take out places(City) Cost of a monthly gym membership(City)  \n",
       "0                             1048                                 £34.90  \n",
       "1                             1103                                 £41.66  \n",
       "2                             1008                                 £25.74  \n",
       "3                              598                                 £37.31  \n",
       "4                              523                                 £32.53  "
      ]
     },
     "execution_count": 2,
     "metadata": {},
     "output_type": "execute_result"
    }
   ],
   "source": [
    "lifestyle = pd.read_csv(\"/kaggle/input/healthy-lifestyle-cities-report-2021/healthy_lifestyle_city_2021.csv\")\n",
    "df = lifestyle.copy()\n",
    "df.head()\n"
   ]
  },
  {
   "cell_type": "markdown",
   "id": "b3b90944",
   "metadata": {
    "papermill": {
     "duration": 0.033081,
     "end_time": "2022-03-10T17:50:31.369252",
     "exception": false,
     "start_time": "2022-03-10T17:50:31.336171",
     "status": "completed"
    },
    "tags": []
   },
   "source": [
    "**See some calculation about data**"
   ]
  },
  {
   "cell_type": "code",
   "execution_count": 3,
   "id": "c586fea9",
   "metadata": {
    "execution": {
     "iopub.execute_input": "2022-03-10T17:50:31.454467Z",
     "iopub.status.busy": "2022-03-10T17:50:31.453682Z",
     "iopub.status.idle": "2022-03-10T17:50:31.479045Z",
     "shell.execute_reply": "2022-03-10T17:50:31.478340Z",
     "shell.execute_reply.started": "2022-03-10T17:22:58.009772Z"
    },
    "papermill": {
     "duration": 0.07563,
     "end_time": "2022-03-10T17:50:31.479193",
     "exception": false,
     "start_time": "2022-03-10T17:50:31.403563",
     "status": "completed"
    },
    "tags": []
   },
   "outputs": [
    {
     "data": {
      "text/html": [
       "<div>\n",
       "<style scoped>\n",
       "    .dataframe tbody tr th:only-of-type {\n",
       "        vertical-align: middle;\n",
       "    }\n",
       "\n",
       "    .dataframe tbody tr th {\n",
       "        vertical-align: top;\n",
       "    }\n",
       "\n",
       "    .dataframe thead th {\n",
       "        text-align: right;\n",
       "    }\n",
       "</style>\n",
       "<table border=\"1\" class=\"dataframe\">\n",
       "  <thead>\n",
       "    <tr style=\"text-align: right;\">\n",
       "      <th></th>\n",
       "      <th>count</th>\n",
       "      <th>mean</th>\n",
       "      <th>std</th>\n",
       "      <th>min</th>\n",
       "      <th>25%</th>\n",
       "      <th>50%</th>\n",
       "      <th>75%</th>\n",
       "      <th>max</th>\n",
       "    </tr>\n",
       "  </thead>\n",
       "  <tbody>\n",
       "    <tr>\n",
       "      <th>Rank</th>\n",
       "      <td>44.0</td>\n",
       "      <td>22.500000</td>\n",
       "      <td>12.845233</td>\n",
       "      <td>1.00</td>\n",
       "      <td>11.75</td>\n",
       "      <td>22.5</td>\n",
       "      <td>33.250</td>\n",
       "      <td>44.0</td>\n",
       "    </tr>\n",
       "    <tr>\n",
       "      <th>Life expectancy(years) (Country)</th>\n",
       "      <td>44.0</td>\n",
       "      <td>78.175000</td>\n",
       "      <td>5.304370</td>\n",
       "      <td>56.30</td>\n",
       "      <td>75.40</td>\n",
       "      <td>80.4</td>\n",
       "      <td>81.800</td>\n",
       "      <td>83.2</td>\n",
       "    </tr>\n",
       "    <tr>\n",
       "      <th>Happiness levels(Country)</th>\n",
       "      <td>44.0</td>\n",
       "      <td>6.435000</td>\n",
       "      <td>0.991202</td>\n",
       "      <td>3.57</td>\n",
       "      <td>5.87</td>\n",
       "      <td>6.9</td>\n",
       "      <td>7.175</td>\n",
       "      <td>7.8</td>\n",
       "    </tr>\n",
       "    <tr>\n",
       "      <th>Outdoor activities(City)</th>\n",
       "      <td>44.0</td>\n",
       "      <td>213.977273</td>\n",
       "      <td>127.190297</td>\n",
       "      <td>23.00</td>\n",
       "      <td>125.25</td>\n",
       "      <td>189.5</td>\n",
       "      <td>288.250</td>\n",
       "      <td>585.0</td>\n",
       "    </tr>\n",
       "    <tr>\n",
       "      <th>Number of take out places(City)</th>\n",
       "      <td>44.0</td>\n",
       "      <td>1443.113636</td>\n",
       "      <td>1388.803270</td>\n",
       "      <td>250.00</td>\n",
       "      <td>548.00</td>\n",
       "      <td>998.0</td>\n",
       "      <td>1674.250</td>\n",
       "      <td>6417.0</td>\n",
       "    </tr>\n",
       "  </tbody>\n",
       "</table>\n",
       "</div>"
      ],
      "text/plain": [
       "                                  count         mean          std     min  \\\n",
       "Rank                               44.0    22.500000    12.845233    1.00   \n",
       "Life expectancy(years) (Country)   44.0    78.175000     5.304370   56.30   \n",
       "Happiness levels(Country)          44.0     6.435000     0.991202    3.57   \n",
       "Outdoor activities(City)           44.0   213.977273   127.190297   23.00   \n",
       "Number of take out places(City)    44.0  1443.113636  1388.803270  250.00   \n",
       "\n",
       "                                     25%    50%       75%     max  \n",
       "Rank                               11.75   22.5    33.250    44.0  \n",
       "Life expectancy(years) (Country)   75.40   80.4    81.800    83.2  \n",
       "Happiness levels(Country)           5.87    6.9     7.175     7.8  \n",
       "Outdoor activities(City)          125.25  189.5   288.250   585.0  \n",
       "Number of take out places(City)   548.00  998.0  1674.250  6417.0  "
      ]
     },
     "execution_count": 3,
     "metadata": {},
     "output_type": "execute_result"
    }
   ],
   "source": [
    "df.describe().T"
   ]
  },
  {
   "cell_type": "code",
   "execution_count": 4,
   "id": "fdcfcb30",
   "metadata": {
    "execution": {
     "iopub.execute_input": "2022-03-10T17:50:31.555743Z",
     "iopub.status.busy": "2022-03-10T17:50:31.555056Z",
     "iopub.status.idle": "2022-03-10T17:50:31.558241Z",
     "shell.execute_reply": "2022-03-10T17:50:31.557686Z",
     "shell.execute_reply.started": "2022-03-10T17:22:58.374366Z"
    },
    "papermill": {
     "duration": 0.042941,
     "end_time": "2022-03-10T17:50:31.558401",
     "exception": false,
     "start_time": "2022-03-10T17:50:31.515460",
     "status": "completed"
    },
    "tags": []
   },
   "outputs": [],
   "source": [
    "import matplotlib.pyplot as plt\n"
   ]
  },
  {
   "cell_type": "code",
   "execution_count": 5,
   "id": "cc211e41",
   "metadata": {
    "execution": {
     "iopub.execute_input": "2022-03-10T17:50:31.631239Z",
     "iopub.status.busy": "2022-03-10T17:50:31.630579Z",
     "iopub.status.idle": "2022-03-10T17:50:31.648338Z",
     "shell.execute_reply": "2022-03-10T17:50:31.648956Z",
     "shell.execute_reply.started": "2022-03-10T17:22:58.731350Z"
    },
    "papermill": {
     "duration": 0.055889,
     "end_time": "2022-03-10T17:50:31.649140",
     "exception": false,
     "start_time": "2022-03-10T17:50:31.593251",
     "status": "completed"
    },
    "tags": []
   },
   "outputs": [
    {
     "name": "stdout",
     "output_type": "stream",
     "text": [
      "<class 'pandas.core.frame.DataFrame'>\n",
      "RangeIndex: 44 entries, 0 to 43\n",
      "Data columns (total 12 columns):\n",
      " #   Column                                  Non-Null Count  Dtype  \n",
      "---  ------                                  --------------  -----  \n",
      " 0   City                                    44 non-null     object \n",
      " 1   Rank                                    44 non-null     int64  \n",
      " 2   Sunshine hours(City)                    44 non-null     object \n",
      " 3   Cost of a bottle of water(City)         44 non-null     object \n",
      " 4   Obesity levels(Country)                 44 non-null     object \n",
      " 5   Life expectancy(years) (Country)        44 non-null     float64\n",
      " 6   Pollution(Index score) (City)           44 non-null     object \n",
      " 7   Annual avg. hours worked                44 non-null     object \n",
      " 8   Happiness levels(Country)               44 non-null     float64\n",
      " 9   Outdoor activities(City)                44 non-null     int64  \n",
      " 10  Number of take out places(City)         44 non-null     int64  \n",
      " 11  Cost of a monthly gym membership(City)  44 non-null     object \n",
      "dtypes: float64(2), int64(3), object(7)\n",
      "memory usage: 4.2+ KB\n"
     ]
    }
   ],
   "source": [
    "df.info()"
   ]
  },
  {
   "cell_type": "code",
   "execution_count": 6,
   "id": "25439e08",
   "metadata": {
    "execution": {
     "iopub.execute_input": "2022-03-10T17:50:31.722213Z",
     "iopub.status.busy": "2022-03-10T17:50:31.721423Z",
     "iopub.status.idle": "2022-03-10T17:50:31.726721Z",
     "shell.execute_reply": "2022-03-10T17:50:31.726189Z",
     "shell.execute_reply.started": "2022-03-10T17:22:59.116447Z"
    },
    "papermill": {
     "duration": 0.043376,
     "end_time": "2022-03-10T17:50:31.726871",
     "exception": false,
     "start_time": "2022-03-10T17:50:31.683495",
     "status": "completed"
    },
    "tags": []
   },
   "outputs": [
    {
     "data": {
      "text/plain": [
       "(44, 12)"
      ]
     },
     "execution_count": 6,
     "metadata": {},
     "output_type": "execute_result"
    }
   ],
   "source": [
    "df.shape"
   ]
  },
  {
   "cell_type": "code",
   "execution_count": 7,
   "id": "db5defac",
   "metadata": {
    "execution": {
     "iopub.execute_input": "2022-03-10T17:50:31.803754Z",
     "iopub.status.busy": "2022-03-10T17:50:31.803003Z",
     "iopub.status.idle": "2022-03-10T17:50:31.806383Z",
     "shell.execute_reply": "2022-03-10T17:50:31.806946Z",
     "shell.execute_reply.started": "2022-03-10T17:22:59.478369Z"
    },
    "papermill": {
     "duration": 0.045337,
     "end_time": "2022-03-10T17:50:31.807134",
     "exception": false,
     "start_time": "2022-03-10T17:50:31.761797",
     "status": "completed"
    },
    "tags": []
   },
   "outputs": [
    {
     "data": {
      "text/plain": [
       "Index(['City', 'Rank', 'Sunshine hours(City)',\n",
       "       'Cost of a bottle of water(City)', 'Obesity levels(Country)',\n",
       "       'Life expectancy(years) (Country)', 'Pollution(Index score) (City)',\n",
       "       'Annual avg. hours worked', 'Happiness levels(Country)',\n",
       "       'Outdoor activities(City)', 'Number of take out places(City)',\n",
       "       'Cost of a monthly gym membership(City)'],\n",
       "      dtype='object')"
      ]
     },
     "execution_count": 7,
     "metadata": {},
     "output_type": "execute_result"
    }
   ],
   "source": [
    "df.columns"
   ]
  },
  {
   "cell_type": "code",
   "execution_count": 8,
   "id": "86d5bfa6",
   "metadata": {
    "execution": {
     "iopub.execute_input": "2022-03-10T17:50:31.889377Z",
     "iopub.status.busy": "2022-03-10T17:50:31.888692Z",
     "iopub.status.idle": "2022-03-10T17:50:32.154984Z",
     "shell.execute_reply": "2022-03-10T17:50:32.155452Z",
     "shell.execute_reply.started": "2022-03-10T17:22:59.836507Z"
    },
    "papermill": {
     "duration": 0.312982,
     "end_time": "2022-03-10T17:50:32.155651",
     "exception": false,
     "start_time": "2022-03-10T17:50:31.842669",
     "status": "completed"
    },
    "tags": []
   },
   "outputs": [
    {
     "data": {
      "image/png": "[encoded data removed]",
      "text/plain": [
       "<Figure size 432x288 with 1 Axes>"
      ]
     },
     "metadata": {
      "needs_background": "light"
     },
     "output_type": "display_data"
    }
   ],
   "source": [
    "plt.scatter(df[\"Happiness levels(Country)\"],df['Life expectancy(years) (Country)'],c=\"r\");\n",
    "plt.xlabel(\"Happiness levels\");\n",
    "plt.ylabel(\"Life expectancy\");\n"
   ]
  },
  {
   "cell_type": "markdown",
   "id": "61d9e6a8",
   "metadata": {
    "papermill": {
     "duration": 0.036646,
     "end_time": "2022-03-10T17:50:32.228697",
     "exception": false,
     "start_time": "2022-03-10T17:50:32.192051",
     "status": "completed"
    },
    "tags": []
   },
   "source": [
    "**LinearRegression Model just 1 independent variable**"
   ]
  },
  {
   "cell_type": "code",
   "execution_count": 9,
   "id": "8d14ae2d",
   "metadata": {
    "execution": {
     "iopub.execute_input": "2022-03-10T17:50:32.304536Z",
     "iopub.status.busy": "2022-03-10T17:50:32.303875Z",
     "iopub.status.idle": "2022-03-10T17:50:33.640224Z",
     "shell.execute_reply": "2022-03-10T17:50:33.640754Z",
     "shell.execute_reply.started": "2022-03-10T17:46:45.516915Z"
    },
    "papermill": {
     "duration": 1.37604,
     "end_time": "2022-03-10T17:50:33.640946",
     "exception": false,
     "start_time": "2022-03-10T17:50:32.264906",
     "status": "completed"
    },
    "tags": []
   },
   "outputs": [],
   "source": [
    "from sklearn.linear_model import LinearRegression\n",
    "from sklearn.model_selection import train_test_split,cross_val_score\n",
    "from sklearn.metrics import mean_squared_error,r2_score\n",
    "import seaborn as sns"
   ]
  },
  {
   "cell_type": "code",
   "execution_count": 10,
   "id": "7febcb96",
   "metadata": {
    "execution": {
     "iopub.execute_input": "2022-03-10T17:50:33.720384Z",
     "iopub.status.busy": "2022-03-10T17:50:33.719684Z",
     "iopub.status.idle": "2022-03-10T17:50:33.725107Z",
     "shell.execute_reply": "2022-03-10T17:50:33.725660Z",
     "shell.execute_reply.started": "2022-03-10T17:43:02.871193Z"
    },
    "papermill": {
     "duration": 0.045735,
     "end_time": "2022-03-10T17:50:33.725834",
     "exception": false,
     "start_time": "2022-03-10T17:50:33.680099",
     "status": "completed"
    },
    "tags": []
   },
   "outputs": [],
   "source": [
    "x = df[\"Happiness levels(Country)\"].values.reshape(-1,1)\n",
    "y = df[\"Life expectancy(years) (Country)\"].values.reshape(-1,1)\n",
    "\n",
    "x_train,x_test,y_train,y_test = train_test_split(x,y,train_size=0.40,random_state=1)\n"
   ]
  },
  {
   "cell_type": "markdown",
   "id": "9dd5bc44",
   "metadata": {
    "papermill": {
     "duration": 0.036379,
     "end_time": "2022-03-10T17:50:33.798951",
     "exception": false,
     "start_time": "2022-03-10T17:50:33.762572",
     "status": "completed"
    },
    "tags": []
   },
   "source": [
    "**Make a model with train set**"
   ]
  },
  {
   "cell_type": "code",
   "execution_count": 11,
   "id": "351a5e04",
   "metadata": {
    "execution": {
     "iopub.execute_input": "2022-03-10T17:50:33.882264Z",
     "iopub.status.busy": "2022-03-10T17:50:33.881481Z",
     "iopub.status.idle": "2022-03-10T17:50:33.890226Z",
     "shell.execute_reply": "2022-03-10T17:50:33.890752Z",
     "shell.execute_reply.started": "2022-03-10T17:43:05.706386Z"
    },
    "papermill": {
     "duration": 0.055495,
     "end_time": "2022-03-10T17:50:33.890930",
     "exception": false,
     "start_time": "2022-03-10T17:50:33.835435",
     "status": "completed"
    },
    "tags": []
   },
   "outputs": [],
   "source": [
    "lin_reg = LinearRegression().fit(x_train,y_train)"
   ]
  },
  {
   "cell_type": "code",
   "execution_count": 12,
   "id": "f7577944",
   "metadata": {
    "execution": {
     "iopub.execute_input": "2022-03-10T17:50:33.966186Z",
     "iopub.status.busy": "2022-03-10T17:50:33.965477Z",
     "iopub.status.idle": "2022-03-10T17:50:33.970500Z",
     "shell.execute_reply": "2022-03-10T17:50:33.971119Z",
     "shell.execute_reply.started": "2022-03-10T17:43:06.281411Z"
    },
    "papermill": {
     "duration": 0.0444,
     "end_time": "2022-03-10T17:50:33.971296",
     "exception": false,
     "start_time": "2022-03-10T17:50:33.926896",
     "status": "completed"
    },
    "tags": []
   },
   "outputs": [
    {
     "data": {
      "text/plain": [
       "3.685781609106456"
      ]
     },
     "execution_count": 12,
     "metadata": {},
     "output_type": "execute_result"
    }
   ],
   "source": [
    "lin_reg.coef_[0][0]"
   ]
  },
  {
   "cell_type": "code",
   "execution_count": 13,
   "id": "5dc60431",
   "metadata": {
    "execution": {
     "iopub.execute_input": "2022-03-10T17:50:34.048348Z",
     "iopub.status.busy": "2022-03-10T17:50:34.047680Z",
     "iopub.status.idle": "2022-03-10T17:50:34.052457Z",
     "shell.execute_reply": "2022-03-10T17:50:34.053063Z",
     "shell.execute_reply.started": "2022-03-10T17:43:07.041417Z"
    },
    "papermill": {
     "duration": 0.04474,
     "end_time": "2022-03-10T17:50:34.053238",
     "exception": false,
     "start_time": "2022-03-10T17:50:34.008498",
     "status": "completed"
    },
    "tags": []
   },
   "outputs": [
    {
     "data": {
      "text/plain": [
       "54.94831575444759"
      ]
     },
     "execution_count": 13,
     "metadata": {},
     "output_type": "execute_result"
    }
   ],
   "source": [
    "lin_reg.intercept_[0]"
   ]
  },
  {
   "cell_type": "code",
   "execution_count": 14,
   "id": "1659336c",
   "metadata": {
    "execution": {
     "iopub.execute_input": "2022-03-10T17:50:34.131164Z",
     "iopub.status.busy": "2022-03-10T17:50:34.129401Z",
     "iopub.status.idle": "2022-03-10T17:50:34.134391Z",
     "shell.execute_reply": "2022-03-10T17:50:34.135106Z",
     "shell.execute_reply.started": "2022-03-10T17:43:07.688599Z"
    },
    "papermill": {
     "duration": 0.045149,
     "end_time": "2022-03-10T17:50:34.135335",
     "exception": false,
     "start_time": "2022-03-10T17:50:34.090186",
     "status": "completed"
    },
    "tags": []
   },
   "outputs": [
    {
     "name": "stdout",
     "output_type": "stream",
     "text": [
      "54.94831575444759+3.685781609106456*Happiness Level\n"
     ]
    }
   ],
   "source": [
    "print(\"{0}+{1}*Happiness Level\".format(lin_reg.intercept_[0],lin_reg.coef_[0][0]))"
   ]
  },
  {
   "cell_type": "markdown",
   "id": "84044a3c",
   "metadata": {
    "papermill": {
     "duration": 0.036641,
     "end_time": "2022-03-10T17:50:34.209763",
     "exception": false,
     "start_time": "2022-03-10T17:50:34.173122",
     "status": "completed"
    },
    "tags": []
   },
   "source": [
    "**Prediction about model**"
   ]
  },
  {
   "cell_type": "code",
   "execution_count": 15,
   "id": "072a5dff",
   "metadata": {
    "execution": {
     "iopub.execute_input": "2022-03-10T17:50:34.290547Z",
     "iopub.status.busy": "2022-03-10T17:50:34.289796Z",
     "iopub.status.idle": "2022-03-10T17:50:34.293005Z",
     "shell.execute_reply": "2022-03-10T17:50:34.293498Z",
     "shell.execute_reply.started": "2022-03-10T17:43:09.038693Z"
    },
    "papermill": {
     "duration": 0.047162,
     "end_time": "2022-03-10T17:50:34.293686",
     "exception": false,
     "start_time": "2022-03-10T17:50:34.246524",
     "status": "completed"
    },
    "tags": []
   },
   "outputs": [
    {
     "data": {
      "text/plain": [
       "array([[82.03881058],\n",
       "       [81.81766368],\n",
       "       [75.25697242],\n",
       "       [73.85637541],\n",
       "       [70.24430943],\n",
       "       [80.52764012],\n",
       "       [82.81282472],\n",
       "       [78.4267446 ],\n",
       "       [79.49562127],\n",
       "       [80.52764012]])"
      ]
     },
     "execution_count": 15,
     "metadata": {},
     "output_type": "execute_result"
    }
   ],
   "source": [
    "y_pred = lin_reg.predict(x_test)\n",
    "y_pred[0:10]"
   ]
  },
  {
   "cell_type": "code",
   "execution_count": 16,
   "id": "e401db6b",
   "metadata": {
    "execution": {
     "iopub.execute_input": "2022-03-10T17:50:34.372518Z",
     "iopub.status.busy": "2022-03-10T17:50:34.371531Z",
     "iopub.status.idle": "2022-03-10T17:50:34.377530Z",
     "shell.execute_reply": "2022-03-10T17:50:34.377995Z",
     "shell.execute_reply.started": "2022-03-10T17:44:25.459360Z"
    },
    "papermill": {
     "duration": 0.047127,
     "end_time": "2022-03-10T17:50:34.378179",
     "exception": false,
     "start_time": "2022-03-10T17:50:34.331052",
     "status": "completed"
    },
    "tags": []
   },
   "outputs": [
    {
     "data": {
      "text/plain": [
       "3.734364962273343"
      ]
     },
     "execution_count": 16,
     "metadata": {},
     "output_type": "execute_result"
    }
   ],
   "source": [
    "np.sqrt(mean_squared_error(y_test,y_pred))"
   ]
  },
  {
   "cell_type": "code",
   "execution_count": 17,
   "id": "17dcfaa1",
   "metadata": {
    "execution": {
     "iopub.execute_input": "2022-03-10T17:50:34.457833Z",
     "iopub.status.busy": "2022-03-10T17:50:34.456763Z",
     "iopub.status.idle": "2022-03-10T17:50:34.776269Z",
     "shell.execute_reply": "2022-03-10T17:50:34.775672Z",
     "shell.execute_reply.started": "2022-03-10T17:44:33.481596Z"
    },
    "papermill": {
     "duration": 0.360733,
     "end_time": "2022-03-10T17:50:34.776421",
     "exception": false,
     "start_time": "2022-03-10T17:50:34.415688",
     "status": "completed"
    },
    "tags": []
   },
   "outputs": [
    {
     "data": {
      "image/png": "[encoded data removed]",
      "text/plain": [
       "<Figure size 432x288 with 1 Axes>"
      ]
     },
     "metadata": {
      "needs_background": "light"
     },
     "output_type": "display_data"
    }
   ],
   "source": [
    "g = sns.regplot(df[\"Happiness levels(Country)\"],df[\"Life expectancy(years) (Country)\"],scatter_kws={\"color\":\"r\"});\n"
   ]
  },
  {
   "cell_type": "markdown",
   "id": "53f28d44",
   "metadata": {
    "papermill": {
     "duration": 0.040354,
     "end_time": "2022-03-10T17:50:34.856260",
     "exception": false,
     "start_time": "2022-03-10T17:50:34.815906",
     "status": "completed"
    },
    "tags": []
   },
   "source": [
    "***Multiple LinearRegression Model***"
   ]
  },
  {
   "cell_type": "code",
   "execution_count": 18,
   "id": "b14c92ef",
   "metadata": {
    "execution": {
     "iopub.execute_input": "2022-03-10T17:50:34.942316Z",
     "iopub.status.busy": "2022-03-10T17:50:34.941598Z",
     "iopub.status.idle": "2022-03-10T17:50:34.954964Z",
     "shell.execute_reply": "2022-03-10T17:50:34.955434Z",
     "shell.execute_reply.started": "2022-03-10T17:44:35.615125Z"
    },
    "papermill": {
     "duration": 0.059051,
     "end_time": "2022-03-10T17:50:34.955609",
     "exception": false,
     "start_time": "2022-03-10T17:50:34.896558",
     "status": "completed"
    },
    "tags": []
   },
   "outputs": [
    {
     "data": {
      "text/html": [
       "<div>\n",
       "<style scoped>\n",
       "    .dataframe tbody tr th:only-of-type {\n",
       "        vertical-align: middle;\n",
       "    }\n",
       "\n",
       "    .dataframe tbody tr th {\n",
       "        vertical-align: top;\n",
       "    }\n",
       "\n",
       "    .dataframe thead th {\n",
       "        text-align: right;\n",
       "    }\n",
       "</style>\n",
       "<table border=\"1\" class=\"dataframe\">\n",
       "  <thead>\n",
       "    <tr style=\"text-align: right;\">\n",
       "      <th></th>\n",
       "      <th>City</th>\n",
       "      <th>Rank</th>\n",
       "      <th>Sunshine hours(City)</th>\n",
       "      <th>Cost of a bottle of water(City)</th>\n",
       "      <th>Obesity levels(Country)</th>\n",
       "      <th>Life expectancy(years) (Country)</th>\n",
       "      <th>Pollution(Index score) (City)</th>\n",
       "      <th>Annual avg. hours worked</th>\n",
       "      <th>Happiness levels(Country)</th>\n",
       "      <th>Outdoor activities(City)</th>\n",
       "      <th>Number of take out places(City)</th>\n",
       "      <th>Cost of a monthly gym membership(City)</th>\n",
       "    </tr>\n",
       "  </thead>\n",
       "  <tbody>\n",
       "    <tr>\n",
       "      <th>0</th>\n",
       "      <td>Amsterdam</td>\n",
       "      <td>1</td>\n",
       "      <td>1858</td>\n",
       "      <td>£1.92</td>\n",
       "      <td>20.40%</td>\n",
       "      <td>81.2</td>\n",
       "      <td>30.93</td>\n",
       "      <td>1434</td>\n",
       "      <td>7.44</td>\n",
       "      <td>422</td>\n",
       "      <td>1048</td>\n",
       "      <td>£34.90</td>\n",
       "    </tr>\n",
       "    <tr>\n",
       "      <th>1</th>\n",
       "      <td>Sydney</td>\n",
       "      <td>2</td>\n",
       "      <td>2636</td>\n",
       "      <td>£1.48</td>\n",
       "      <td>29.00%</td>\n",
       "      <td>82.1</td>\n",
       "      <td>26.86</td>\n",
       "      <td>1712</td>\n",
       "      <td>7.22</td>\n",
       "      <td>406</td>\n",
       "      <td>1103</td>\n",
       "      <td>£41.66</td>\n",
       "    </tr>\n",
       "    <tr>\n",
       "      <th>2</th>\n",
       "      <td>Vienna</td>\n",
       "      <td>3</td>\n",
       "      <td>1884</td>\n",
       "      <td>£1.94</td>\n",
       "      <td>20.10%</td>\n",
       "      <td>81.0</td>\n",
       "      <td>17.33</td>\n",
       "      <td>1501</td>\n",
       "      <td>7.29</td>\n",
       "      <td>132</td>\n",
       "      <td>1008</td>\n",
       "      <td>£25.74</td>\n",
       "    </tr>\n",
       "    <tr>\n",
       "      <th>3</th>\n",
       "      <td>Stockholm</td>\n",
       "      <td>4</td>\n",
       "      <td>1821</td>\n",
       "      <td>£1.72</td>\n",
       "      <td>20.60%</td>\n",
       "      <td>81.8</td>\n",
       "      <td>19.63</td>\n",
       "      <td>1452</td>\n",
       "      <td>7.35</td>\n",
       "      <td>129</td>\n",
       "      <td>598</td>\n",
       "      <td>£37.31</td>\n",
       "    </tr>\n",
       "    <tr>\n",
       "      <th>4</th>\n",
       "      <td>Copenhagen</td>\n",
       "      <td>5</td>\n",
       "      <td>1630</td>\n",
       "      <td>£2.19</td>\n",
       "      <td>19.70%</td>\n",
       "      <td>79.8</td>\n",
       "      <td>21.24</td>\n",
       "      <td>1380</td>\n",
       "      <td>7.64</td>\n",
       "      <td>154</td>\n",
       "      <td>523</td>\n",
       "      <td>£32.53</td>\n",
       "    </tr>\n",
       "  </tbody>\n",
       "</table>\n",
       "</div>"
      ],
      "text/plain": [
       "         City  Rank Sunshine hours(City) Cost of a bottle of water(City)  \\\n",
       "0   Amsterdam     1                 1858                           £1.92   \n",
       "1      Sydney     2                 2636                           £1.48   \n",
       "2      Vienna     3                 1884                           £1.94   \n",
       "3   Stockholm     4                 1821                           £1.72   \n",
       "4  Copenhagen     5                 1630                           £2.19   \n",
       "\n",
       "  Obesity levels(Country)  Life expectancy(years) (Country)  \\\n",
       "0                  20.40%                              81.2   \n",
       "1                  29.00%                              82.1   \n",
       "2                  20.10%                              81.0   \n",
       "3                  20.60%                              81.8   \n",
       "4                  19.70%                              79.8   \n",
       "\n",
       "  Pollution(Index score) (City) Annual avg. hours worked  \\\n",
       "0                         30.93                     1434   \n",
       "1                         26.86                     1712   \n",
       "2                         17.33                     1501   \n",
       "3                         19.63                     1452   \n",
       "4                         21.24                     1380   \n",
       "\n",
       "   Happiness levels(Country)  Outdoor activities(City)  \\\n",
       "0                       7.44                       422   \n",
       "1                       7.22                       406   \n",
       "2                       7.29                       132   \n",
       "3                       7.35                       129   \n",
       "4                       7.64                       154   \n",
       "\n",
       "   Number of take out places(City) Cost of a monthly gym membership(City)  \n",
       "0                             1048                                 £34.90  \n",
       "1                             1103                                 £41.66  \n",
       "2                             1008                                 £25.74  \n",
       "3                              598                                 £37.31  \n",
       "4                              523                                 £32.53  "
      ]
     },
     "execution_count": 18,
     "metadata": {},
     "output_type": "execute_result"
    }
   ],
   "source": [
    "mdf =df.copy()\n",
    "mdf.head()"
   ]
  },
  {
   "cell_type": "code",
   "execution_count": 19,
   "id": "bc5af2f9",
   "metadata": {
    "execution": {
     "iopub.execute_input": "2022-03-10T17:50:35.043342Z",
     "iopub.status.busy": "2022-03-10T17:50:35.040248Z",
     "iopub.status.idle": "2022-03-10T17:50:35.067327Z",
     "shell.execute_reply": "2022-03-10T17:50:35.066712Z",
     "shell.execute_reply.started": "2022-03-10T17:30:04.008953Z"
    },
    "papermill": {
     "duration": 0.072238,
     "end_time": "2022-03-10T17:50:35.067478",
     "exception": false,
     "start_time": "2022-03-10T17:50:34.995240",
     "status": "completed"
    },
    "tags": []
   },
   "outputs": [
    {
     "data": {
      "text/html": [
       "<div>\n",
       "<style scoped>\n",
       "    .dataframe tbody tr th:only-of-type {\n",
       "        vertical-align: middle;\n",
       "    }\n",
       "\n",
       "    .dataframe tbody tr th {\n",
       "        vertical-align: top;\n",
       "    }\n",
       "\n",
       "    .dataframe thead th {\n",
       "        text-align: right;\n",
       "    }\n",
       "</style>\n",
       "<table border=\"1\" class=\"dataframe\">\n",
       "  <thead>\n",
       "    <tr style=\"text-align: right;\">\n",
       "      <th></th>\n",
       "      <th>count</th>\n",
       "      <th>mean</th>\n",
       "      <th>std</th>\n",
       "      <th>min</th>\n",
       "      <th>25%</th>\n",
       "      <th>50%</th>\n",
       "      <th>75%</th>\n",
       "      <th>max</th>\n",
       "    </tr>\n",
       "  </thead>\n",
       "  <tbody>\n",
       "    <tr>\n",
       "      <th>Rank</th>\n",
       "      <td>44.0</td>\n",
       "      <td>22.500000</td>\n",
       "      <td>12.845233</td>\n",
       "      <td>1.00</td>\n",
       "      <td>11.75</td>\n",
       "      <td>22.5</td>\n",
       "      <td>33.250</td>\n",
       "      <td>44.0</td>\n",
       "    </tr>\n",
       "    <tr>\n",
       "      <th>Life expectancy(years) (Country)</th>\n",
       "      <td>44.0</td>\n",
       "      <td>78.175000</td>\n",
       "      <td>5.304370</td>\n",
       "      <td>56.30</td>\n",
       "      <td>75.40</td>\n",
       "      <td>80.4</td>\n",
       "      <td>81.800</td>\n",
       "      <td>83.2</td>\n",
       "    </tr>\n",
       "    <tr>\n",
       "      <th>Happiness levels(Country)</th>\n",
       "      <td>44.0</td>\n",
       "      <td>6.435000</td>\n",
       "      <td>0.991202</td>\n",
       "      <td>3.57</td>\n",
       "      <td>5.87</td>\n",
       "      <td>6.9</td>\n",
       "      <td>7.175</td>\n",
       "      <td>7.8</td>\n",
       "    </tr>\n",
       "    <tr>\n",
       "      <th>Outdoor activities(City)</th>\n",
       "      <td>44.0</td>\n",
       "      <td>213.977273</td>\n",
       "      <td>127.190297</td>\n",
       "      <td>23.00</td>\n",
       "      <td>125.25</td>\n",
       "      <td>189.5</td>\n",
       "      <td>288.250</td>\n",
       "      <td>585.0</td>\n",
       "    </tr>\n",
       "    <tr>\n",
       "      <th>Number of take out places(City)</th>\n",
       "      <td>44.0</td>\n",
       "      <td>1443.113636</td>\n",
       "      <td>1388.803270</td>\n",
       "      <td>250.00</td>\n",
       "      <td>548.00</td>\n",
       "      <td>998.0</td>\n",
       "      <td>1674.250</td>\n",
       "      <td>6417.0</td>\n",
       "    </tr>\n",
       "  </tbody>\n",
       "</table>\n",
       "</div>"
      ],
      "text/plain": [
       "                                  count         mean          std     min  \\\n",
       "Rank                               44.0    22.500000    12.845233    1.00   \n",
       "Life expectancy(years) (Country)   44.0    78.175000     5.304370   56.30   \n",
       "Happiness levels(Country)          44.0     6.435000     0.991202    3.57   \n",
       "Outdoor activities(City)           44.0   213.977273   127.190297   23.00   \n",
       "Number of take out places(City)    44.0  1443.113636  1388.803270  250.00   \n",
       "\n",
       "                                     25%    50%       75%     max  \n",
       "Rank                               11.75   22.5    33.250    44.0  \n",
       "Life expectancy(years) (Country)   75.40   80.4    81.800    83.2  \n",
       "Happiness levels(Country)           5.87    6.9     7.175     7.8  \n",
       "Outdoor activities(City)          125.25  189.5   288.250   585.0  \n",
       "Number of take out places(City)   548.00  998.0  1674.250  6417.0  "
      ]
     },
     "execution_count": 19,
     "metadata": {},
     "output_type": "execute_result"
    }
   ],
   "source": [
    "mdf.describe().T"
   ]
  },
  {
   "cell_type": "code",
   "execution_count": 20,
   "id": "32488d67",
   "metadata": {
    "execution": {
     "iopub.execute_input": "2022-03-10T17:50:35.151669Z",
     "iopub.status.busy": "2022-03-10T17:50:35.150999Z",
     "iopub.status.idle": "2022-03-10T17:50:35.156858Z",
     "shell.execute_reply": "2022-03-10T17:50:35.156330Z",
     "shell.execute_reply.started": "2022-03-10T17:30:04.730160Z"
    },
    "papermill": {
     "duration": 0.049039,
     "end_time": "2022-03-10T17:50:35.157006",
     "exception": false,
     "start_time": "2022-03-10T17:50:35.107967",
     "status": "completed"
    },
    "tags": []
   },
   "outputs": [
    {
     "data": {
      "text/plain": [
       "Index(['City', 'Rank', 'Sunshine hours(City)',\n",
       "       'Cost of a bottle of water(City)', 'Obesity levels(Country)',\n",
       "       'Life expectancy(years) (Country)', 'Pollution(Index score) (City)',\n",
       "       'Annual avg. hours worked', 'Happiness levels(Country)',\n",
       "       'Outdoor activities(City)', 'Number of take out places(City)',\n",
       "       'Cost of a monthly gym membership(City)'],\n",
       "      dtype='object')"
      ]
     },
     "execution_count": 20,
     "metadata": {},
     "output_type": "execute_result"
    }
   ],
   "source": [
    "mdf.columns"
   ]
  },
  {
   "cell_type": "markdown",
   "id": "90604708",
   "metadata": {
    "papermill": {
     "duration": 0.040344,
     "end_time": "2022-03-10T17:50:35.238177",
     "exception": false,
     "start_time": "2022-03-10T17:50:35.197833",
     "status": "completed"
    },
    "tags": []
   },
   "source": [
    "**Drop some axis from data**"
   ]
  },
  {
   "cell_type": "code",
   "execution_count": 21,
   "id": "33f881a8",
   "metadata": {
    "execution": {
     "iopub.execute_input": "2022-03-10T17:50:35.331185Z",
     "iopub.status.busy": "2022-03-10T17:50:35.322463Z",
     "iopub.status.idle": "2022-03-10T17:50:35.334071Z",
     "shell.execute_reply": "2022-03-10T17:50:35.334561Z",
     "shell.execute_reply.started": "2022-03-10T17:44:50.519822Z"
    },
    "papermill": {
     "duration": 0.055834,
     "end_time": "2022-03-10T17:50:35.334755",
     "exception": false,
     "start_time": "2022-03-10T17:50:35.278921",
     "status": "completed"
    },
    "tags": []
   },
   "outputs": [
    {
     "data": {
      "text/html": [
       "<div>\n",
       "<style scoped>\n",
       "    .dataframe tbody tr th:only-of-type {\n",
       "        vertical-align: middle;\n",
       "    }\n",
       "\n",
       "    .dataframe tbody tr th {\n",
       "        vertical-align: top;\n",
       "    }\n",
       "\n",
       "    .dataframe thead th {\n",
       "        text-align: right;\n",
       "    }\n",
       "</style>\n",
       "<table border=\"1\" class=\"dataframe\">\n",
       "  <thead>\n",
       "    <tr style=\"text-align: right;\">\n",
       "      <th></th>\n",
       "      <th>Happiness levels(Country)</th>\n",
       "      <th>Outdoor activities(City)</th>\n",
       "      <th>Number of take out places(City)</th>\n",
       "    </tr>\n",
       "  </thead>\n",
       "  <tbody>\n",
       "    <tr>\n",
       "      <th>0</th>\n",
       "      <td>7.44</td>\n",
       "      <td>422</td>\n",
       "      <td>1048</td>\n",
       "    </tr>\n",
       "    <tr>\n",
       "      <th>1</th>\n",
       "      <td>7.22</td>\n",
       "      <td>406</td>\n",
       "      <td>1103</td>\n",
       "    </tr>\n",
       "    <tr>\n",
       "      <th>2</th>\n",
       "      <td>7.29</td>\n",
       "      <td>132</td>\n",
       "      <td>1008</td>\n",
       "    </tr>\n",
       "    <tr>\n",
       "      <th>3</th>\n",
       "      <td>7.35</td>\n",
       "      <td>129</td>\n",
       "      <td>598</td>\n",
       "    </tr>\n",
       "    <tr>\n",
       "      <th>4</th>\n",
       "      <td>7.64</td>\n",
       "      <td>154</td>\n",
       "      <td>523</td>\n",
       "    </tr>\n",
       "  </tbody>\n",
       "</table>\n",
       "</div>"
      ],
      "text/plain": [
       "   Happiness levels(Country)  Outdoor activities(City)  \\\n",
       "0                       7.44                       422   \n",
       "1                       7.22                       406   \n",
       "2                       7.29                       132   \n",
       "3                       7.35                       129   \n",
       "4                       7.64                       154   \n",
       "\n",
       "   Number of take out places(City)  \n",
       "0                             1048  \n",
       "1                             1103  \n",
       "2                             1008  \n",
       "3                              598  \n",
       "4                              523  "
      ]
     },
     "execution_count": 21,
     "metadata": {},
     "output_type": "execute_result"
    }
   ],
   "source": [
    "X = mdf.drop(['City',\n",
    "              'Rank',\n",
    "              'Sunshine hours(City)',\n",
    "              'Cost of a bottle of water(City)',\n",
    "              'Obesity levels(Country)',\n",
    "              'Life expectancy(years) (Country)',\n",
    "              'Pollution(Index score) (City)',\n",
    "              'Annual avg. hours worked',\n",
    "             'Cost of a monthly gym membership(City)'],axis=1)\n",
    "X.head()\n"
   ]
  },
  {
   "cell_type": "code",
   "execution_count": 22,
   "id": "1f795aad",
   "metadata": {
    "execution": {
     "iopub.execute_input": "2022-03-10T17:50:35.423218Z",
     "iopub.status.busy": "2022-03-10T17:50:35.422478Z",
     "iopub.status.idle": "2022-03-10T17:50:35.425092Z",
     "shell.execute_reply": "2022-03-10T17:50:35.424583Z",
     "shell.execute_reply.started": "2022-03-10T17:44:50.886199Z"
    },
    "papermill": {
     "duration": 0.049095,
     "end_time": "2022-03-10T17:50:35.425235",
     "exception": false,
     "start_time": "2022-03-10T17:50:35.376140",
     "status": "completed"
    },
    "tags": []
   },
   "outputs": [],
   "source": [
    "Y = mdf['Life expectancy(years) (Country)'].values.reshape(-1,1)\n",
    "\n"
   ]
  },
  {
   "cell_type": "code",
   "execution_count": 23,
   "id": "24b5caf1",
   "metadata": {
    "execution": {
     "iopub.execute_input": "2022-03-10T17:50:35.515208Z",
     "iopub.status.busy": "2022-03-10T17:50:35.514563Z",
     "iopub.status.idle": "2022-03-10T17:50:35.516402Z",
     "shell.execute_reply": "2022-03-10T17:50:35.516930Z",
     "shell.execute_reply.started": "2022-03-10T17:45:00.192007Z"
    },
    "papermill": {
     "duration": 0.050505,
     "end_time": "2022-03-10T17:50:35.517110",
     "exception": false,
     "start_time": "2022-03-10T17:50:35.466605",
     "status": "completed"
    },
    "tags": []
   },
   "outputs": [],
   "source": [
    "x_train,x_test,y_train,y_test = train_test_split(X,Y,train_size=0.4,random_state =1)"
   ]
  },
  {
   "cell_type": "code",
   "execution_count": 24,
   "id": "584de78d",
   "metadata": {
    "execution": {
     "iopub.execute_input": "2022-03-10T17:50:35.603537Z",
     "iopub.status.busy": "2022-03-10T17:50:35.602917Z",
     "iopub.status.idle": "2022-03-10T17:50:35.613275Z",
     "shell.execute_reply": "2022-03-10T17:50:35.612660Z",
     "shell.execute_reply.started": "2022-03-10T17:45:00.846644Z"
    },
    "papermill": {
     "duration": 0.055037,
     "end_time": "2022-03-10T17:50:35.613431",
     "exception": false,
     "start_time": "2022-03-10T17:50:35.558394",
     "status": "completed"
    },
    "tags": []
   },
   "outputs": [],
   "source": [
    "linear_model = LinearRegression().fit(x_train,y_train)"
   ]
  },
  {
   "cell_type": "code",
   "execution_count": 25,
   "id": "048b8dc5",
   "metadata": {
    "execution": {
     "iopub.execute_input": "2022-03-10T17:50:35.703985Z",
     "iopub.status.busy": "2022-03-10T17:50:35.703296Z",
     "iopub.status.idle": "2022-03-10T17:50:35.705830Z",
     "shell.execute_reply": "2022-03-10T17:50:35.706364Z",
     "shell.execute_reply.started": "2022-03-10T17:45:01.214522Z"
    },
    "papermill": {
     "duration": 0.049944,
     "end_time": "2022-03-10T17:50:35.706533",
     "exception": false,
     "start_time": "2022-03-10T17:50:35.656589",
     "status": "completed"
    },
    "tags": []
   },
   "outputs": [
    {
     "data": {
      "text/plain": [
       "array([ 3.67513559e+00, -2.92132778e-04,  4.05959866e-04])"
      ]
     },
     "execution_count": 25,
     "metadata": {},
     "output_type": "execute_result"
    }
   ],
   "source": [
    "linear_model.coef_[0]"
   ]
  },
  {
   "cell_type": "code",
   "execution_count": 26,
   "id": "b9894364",
   "metadata": {
    "execution": {
     "iopub.execute_input": "2022-03-10T17:50:35.795235Z",
     "iopub.status.busy": "2022-03-10T17:50:35.792858Z",
     "iopub.status.idle": "2022-03-10T17:50:35.798721Z",
     "shell.execute_reply": "2022-03-10T17:50:35.799336Z",
     "shell.execute_reply.started": "2022-03-10T17:45:01.916662Z"
    },
    "papermill": {
     "duration": 0.051294,
     "end_time": "2022-03-10T17:50:35.799522",
     "exception": false,
     "start_time": "2022-03-10T17:50:35.748228",
     "status": "completed"
    },
    "tags": []
   },
   "outputs": [
    {
     "data": {
      "text/plain": [
       "54.333481026883724"
      ]
     },
     "execution_count": 26,
     "metadata": {},
     "output_type": "execute_result"
    }
   ],
   "source": [
    "linear_model.intercept_[0]"
   ]
  },
  {
   "cell_type": "code",
   "execution_count": 27,
   "id": "33791753",
   "metadata": {
    "execution": {
     "iopub.execute_input": "2022-03-10T17:50:35.888775Z",
     "iopub.status.busy": "2022-03-10T17:50:35.887609Z",
     "iopub.status.idle": "2022-03-10T17:50:35.895690Z",
     "shell.execute_reply": "2022-03-10T17:50:35.896297Z",
     "shell.execute_reply.started": "2022-03-10T17:45:02.622148Z"
    },
    "papermill": {
     "duration": 0.05437,
     "end_time": "2022-03-10T17:50:35.896478",
     "exception": false,
     "start_time": "2022-03-10T17:50:35.842108",
     "status": "completed"
    },
    "tags": []
   },
   "outputs": [
    {
     "data": {
      "text/plain": [
       "array([[81.55080646],\n",
       "       [81.49586547],\n",
       "       [75.01284888],\n",
       "       [73.44368947],\n",
       "       [69.59242479]])"
      ]
     },
     "execution_count": 27,
     "metadata": {},
     "output_type": "execute_result"
    }
   ],
   "source": [
    "y_pred = linear_model.predict(x_test)\n",
    "y_pred[0:5]"
   ]
  },
  {
   "cell_type": "code",
   "execution_count": 28,
   "id": "13564b3b",
   "metadata": {
    "execution": {
     "iopub.execute_input": "2022-03-10T17:50:35.985229Z",
     "iopub.status.busy": "2022-03-10T17:50:35.984239Z",
     "iopub.status.idle": "2022-03-10T17:50:35.990428Z",
     "shell.execute_reply": "2022-03-10T17:50:35.991048Z",
     "shell.execute_reply.started": "2022-03-10T17:45:03.261782Z"
    },
    "papermill": {
     "duration": 0.052045,
     "end_time": "2022-03-10T17:50:35.991224",
     "exception": false,
     "start_time": "2022-03-10T17:50:35.939179",
     "status": "completed"
    },
    "tags": []
   },
   "outputs": [
    {
     "data": {
      "text/plain": [
       "3.678406873584574"
      ]
     },
     "execution_count": 28,
     "metadata": {},
     "output_type": "execute_result"
    }
   ],
   "source": [
    "np.sqrt(mean_squared_error(y_test,y_pred))"
   ]
  }
 ],
 "metadata": {
  "kernelspec": {
   "display_name": "Python 3",
   "language": "python",
   "name": "python3"
  },
  "language_info": {
   "codemirror_mode": {
    "name": "ipython",
    "version": 3
   },
   "file_extension": ".py",
   "mimetype": "text/x-python",
   "name": "python",
   "nbconvert_exporter": "python",
   "pygments_lexer": "ipython3",
   "version": "3.7.12"
  },
  "papermill": {
   "default_parameters": {},
   "duration": 15.514016,
   "end_time": "2022-03-10T17:50:36.744835",
   "environment_variables": {},
   "exception": null,
   "input_path": "__notebook__.ipynb",
   "output_path": "__notebook__.ipynb",
   "parameters": {},
   "start_time": "2022-03-10T17:50:21.230819",
   "version": "2.3.3"
  }
 },
 "nbformat": 4,
 "nbformat_minor": 5
}
