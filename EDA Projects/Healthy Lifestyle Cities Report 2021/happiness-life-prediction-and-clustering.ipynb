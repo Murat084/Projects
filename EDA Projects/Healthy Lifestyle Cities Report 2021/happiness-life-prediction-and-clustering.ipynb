{
 "cells": [
  {
   "cell_type": "code",
   "execution_count": 1,
   "id": "5eee1e89",
   "metadata": {
    "execution": {
     "iopub.execute_input": "2023-01-12T08:15:57.186571Z",
     "iopub.status.busy": "2023-01-12T08:15:57.185337Z",
     "iopub.status.idle": "2023-01-12T08:15:58.284664Z",
     "shell.execute_reply": "2023-01-12T08:15:58.285399Z",
     "shell.execute_reply.started": "2022-03-05T09:54:55.438734Z"
    },
    "papermill": {
     "duration": 1.177881,
     "end_time": "2023-01-12T08:15:58.285765",
     "exception": false,
     "start_time": "2023-01-12T08:15:57.107884",
     "status": "completed"
    },
    "tags": []
   },
   "outputs": [],
   "source": [
    "import pandas as pd\n",
    "import numpy as np\n",
    "import seaborn as sns\n",
    "import matplotlib.pyplot as plt\n",
    "\n",
    "import warnings \n",
    "warnings.filterwarnings('ignore')"
   ]
  },
  {
   "cell_type": "code",
   "execution_count": 2,
   "id": "0bb89798",
   "metadata": {
    "execution": {
     "iopub.execute_input": "2023-01-12T08:15:58.425872Z",
     "iopub.status.busy": "2023-01-12T08:15:58.425111Z",
     "iopub.status.idle": "2023-01-12T08:15:58.474278Z",
     "shell.execute_reply": "2023-01-12T08:15:58.474846Z",
     "shell.execute_reply.started": "2022-03-05T09:54:56.46172Z"
    },
    "papermill": {
     "duration": 0.120152,
     "end_time": "2023-01-12T08:15:58.475025",
     "exception": false,
     "start_time": "2023-01-12T08:15:58.354873",
     "status": "completed"
    },
    "tags": []
   },
   "outputs": [
    {
     "data": {
      "text/html": [
       "<div>\n",
       "<style scoped>\n",
       "    .dataframe tbody tr th:only-of-type {\n",
       "        vertical-align: middle;\n",
       "    }\n",
       "\n",
       "    .dataframe tbody tr th {\n",
       "        vertical-align: top;\n",
       "    }\n",
       "\n",
       "    .dataframe thead th {\n",
       "        text-align: right;\n",
       "    }\n",
       "</style>\n",
       "<table border=\"1\" class=\"dataframe\">\n",
       "  <thead>\n",
       "    <tr style=\"text-align: right;\">\n",
       "      <th></th>\n",
       "      <th>City</th>\n",
       "      <th>Rank</th>\n",
       "      <th>Sunshine hours(City)</th>\n",
       "      <th>Cost of a bottle of water(City)</th>\n",
       "      <th>Obesity levels(Country)</th>\n",
       "      <th>Life expectancy(years) (Country)</th>\n",
       "      <th>Pollution(Index score) (City)</th>\n",
       "      <th>Annual avg. hours worked</th>\n",
       "      <th>Happiness levels(Country)</th>\n",
       "      <th>Outdoor activities(City)</th>\n",
       "      <th>Number of take out places(City)</th>\n",
       "      <th>Cost of a monthly gym membership(City)</th>\n",
       "    </tr>\n",
       "  </thead>\n",
       "  <tbody>\n",
       "    <tr>\n",
       "      <th>0</th>\n",
       "      <td>Amsterdam</td>\n",
       "      <td>1</td>\n",
       "      <td>1858</td>\n",
       "      <td>£1.92</td>\n",
       "      <td>20.40%</td>\n",
       "      <td>81.2</td>\n",
       "      <td>30.93</td>\n",
       "      <td>1434</td>\n",
       "      <td>7.44</td>\n",
       "      <td>422</td>\n",
       "      <td>1048</td>\n",
       "      <td>£34.90</td>\n",
       "    </tr>\n",
       "    <tr>\n",
       "      <th>1</th>\n",
       "      <td>Sydney</td>\n",
       "      <td>2</td>\n",
       "      <td>2636</td>\n",
       "      <td>£1.48</td>\n",
       "      <td>29.00%</td>\n",
       "      <td>82.1</td>\n",
       "      <td>26.86</td>\n",
       "      <td>1712</td>\n",
       "      <td>7.22</td>\n",
       "      <td>406</td>\n",
       "      <td>1103</td>\n",
       "      <td>£41.66</td>\n",
       "    </tr>\n",
       "    <tr>\n",
       "      <th>2</th>\n",
       "      <td>Vienna</td>\n",
       "      <td>3</td>\n",
       "      <td>1884</td>\n",
       "      <td>£1.94</td>\n",
       "      <td>20.10%</td>\n",
       "      <td>81.0</td>\n",
       "      <td>17.33</td>\n",
       "      <td>1501</td>\n",
       "      <td>7.29</td>\n",
       "      <td>132</td>\n",
       "      <td>1008</td>\n",
       "      <td>£25.74</td>\n",
       "    </tr>\n",
       "    <tr>\n",
       "      <th>3</th>\n",
       "      <td>Stockholm</td>\n",
       "      <td>4</td>\n",
       "      <td>1821</td>\n",
       "      <td>£1.72</td>\n",
       "      <td>20.60%</td>\n",
       "      <td>81.8</td>\n",
       "      <td>19.63</td>\n",
       "      <td>1452</td>\n",
       "      <td>7.35</td>\n",
       "      <td>129</td>\n",
       "      <td>598</td>\n",
       "      <td>£37.31</td>\n",
       "    </tr>\n",
       "    <tr>\n",
       "      <th>4</th>\n",
       "      <td>Copenhagen</td>\n",
       "      <td>5</td>\n",
       "      <td>1630</td>\n",
       "      <td>£2.19</td>\n",
       "      <td>19.70%</td>\n",
       "      <td>79.8</td>\n",
       "      <td>21.24</td>\n",
       "      <td>1380</td>\n",
       "      <td>7.64</td>\n",
       "      <td>154</td>\n",
       "      <td>523</td>\n",
       "      <td>£32.53</td>\n",
       "    </tr>\n",
       "  </tbody>\n",
       "</table>\n",
       "</div>"
      ],
      "text/plain": [
       "         City  Rank Sunshine hours(City) Cost of a bottle of water(City)  \\\n",
       "0   Amsterdam     1                 1858                           £1.92   \n",
       "1      Sydney     2                 2636                           £1.48   \n",
       "2      Vienna     3                 1884                           £1.94   \n",
       "3   Stockholm     4                 1821                           £1.72   \n",
       "4  Copenhagen     5                 1630                           £2.19   \n",
       "\n",
       "  Obesity levels(Country)  Life expectancy(years) (Country)  \\\n",
       "0                  20.40%                              81.2   \n",
       "1                  29.00%                              82.1   \n",
       "2                  20.10%                              81.0   \n",
       "3                  20.60%                              81.8   \n",
       "4                  19.70%                              79.8   \n",
       "\n",
       "  Pollution(Index score) (City) Annual avg. hours worked  \\\n",
       "0                         30.93                     1434   \n",
       "1                         26.86                     1712   \n",
       "2                         17.33                     1501   \n",
       "3                         19.63                     1452   \n",
       "4                         21.24                     1380   \n",
       "\n",
       "   Happiness levels(Country)  Outdoor activities(City)  \\\n",
       "0                       7.44                       422   \n",
       "1                       7.22                       406   \n",
       "2                       7.29                       132   \n",
       "3                       7.35                       129   \n",
       "4                       7.64                       154   \n",
       "\n",
       "   Number of take out places(City) Cost of a monthly gym membership(City)  \n",
       "0                             1048                                 £34.90  \n",
       "1                             1103                                 £41.66  \n",
       "2                             1008                                 £25.74  \n",
       "3                              598                                 £37.31  \n",
       "4                              523                                 £32.53  "
      ]
     },
     "execution_count": 2,
     "metadata": {},
     "output_type": "execute_result"
    }
   ],
   "source": [
    "Healthy = pd.read_csv('../input/healthy-lifestyle-cities-report-2021/healthy_lifestyle_city_2021.csv')\n",
    "Healthy.head()"
   ]
  },
  {
   "cell_type": "code",
   "execution_count": 3,
   "id": "508a2173",
   "metadata": {
    "execution": {
     "iopub.execute_input": "2023-01-12T08:15:58.615405Z",
     "iopub.status.busy": "2023-01-12T08:15:58.614704Z",
     "iopub.status.idle": "2023-01-12T08:15:58.617928Z",
     "shell.execute_reply": "2023-01-12T08:15:58.618444Z",
     "shell.execute_reply.started": "2022-03-05T09:54:56.512519Z"
    },
    "papermill": {
     "duration": 0.074308,
     "end_time": "2023-01-12T08:15:58.618627",
     "exception": false,
     "start_time": "2023-01-12T08:15:58.544319",
     "status": "completed"
    },
    "tags": []
   },
   "outputs": [],
   "source": [
    "#Data inspection and cleaning"
   ]
  },
  {
   "cell_type": "code",
   "execution_count": 4,
   "id": "daf0216c",
   "metadata": {
    "execution": {
     "iopub.execute_input": "2023-01-12T08:15:58.762132Z",
     "iopub.status.busy": "2023-01-12T08:15:58.761402Z",
     "iopub.status.idle": "2023-01-12T08:15:58.785851Z",
     "shell.execute_reply": "2023-01-12T08:15:58.786419Z",
     "shell.execute_reply.started": "2022-03-05T09:54:56.51817Z"
    },
    "papermill": {
     "duration": 0.097716,
     "end_time": "2023-01-12T08:15:58.786597",
     "exception": false,
     "start_time": "2023-01-12T08:15:58.688881",
     "status": "completed"
    },
    "tags": []
   },
   "outputs": [
    {
     "name": "stdout",
     "output_type": "stream",
     "text": [
      "<class 'pandas.core.frame.DataFrame'>\n",
      "RangeIndex: 44 entries, 0 to 43\n",
      "Data columns (total 12 columns):\n",
      " #   Column                                  Non-Null Count  Dtype  \n",
      "---  ------                                  --------------  -----  \n",
      " 0   City                                    44 non-null     object \n",
      " 1   Rank                                    44 non-null     int64  \n",
      " 2   Sunshine hours(City)                    44 non-null     object \n",
      " 3   Cost of a bottle of water(City)         44 non-null     object \n",
      " 4   Obesity levels(Country)                 44 non-null     object \n",
      " 5   Life expectancy(years) (Country)        44 non-null     float64\n",
      " 6   Pollution(Index score) (City)           44 non-null     object \n",
      " 7   Annual avg. hours worked                44 non-null     object \n",
      " 8   Happiness levels(Country)               44 non-null     float64\n",
      " 9   Outdoor activities(City)                44 non-null     int64  \n",
      " 10  Number of take out places(City)         44 non-null     int64  \n",
      " 11  Cost of a monthly gym membership(City)  44 non-null     object \n",
      "dtypes: float64(2), int64(3), object(7)\n",
      "memory usage: 4.2+ KB\n"
     ]
    }
   ],
   "source": [
    "Healthy.info()"
   ]
  },
  {
   "cell_type": "code",
   "execution_count": 5,
   "id": "f212d571",
   "metadata": {
    "execution": {
     "iopub.execute_input": "2023-01-12T08:15:58.930625Z",
     "iopub.status.busy": "2023-01-12T08:15:58.929835Z",
     "iopub.status.idle": "2023-01-12T08:15:58.940714Z",
     "shell.execute_reply": "2023-01-12T08:15:58.941287Z",
     "shell.execute_reply.started": "2022-03-05T09:54:56.553041Z"
    },
    "papermill": {
     "duration": 0.085648,
     "end_time": "2023-01-12T08:15:58.941474",
     "exception": false,
     "start_time": "2023-01-12T08:15:58.855826",
     "status": "completed"
    },
    "tags": []
   },
   "outputs": [],
   "source": [
    "Healthy['Sunshine hours(City)'] = Healthy['Sunshine hours(City)'].apply(lambda x: np.nan if x == '-' else int(x))\n",
    "Healthy['Cost of a bottle of water(City)'] = Healthy['Cost of a bottle of water(City)'].apply(lambda x: float(x[1:]))\n",
    "Healthy['Obesity levels(Country)'] = Healthy['Obesity levels(Country)'].apply(lambda x:  float(x.split('%')[0]))\n",
    "Healthy['Pollution(Index score) (City)'] = Healthy['Pollution(Index score) (City)'].apply(lambda x: np.nan if x == '-' else float(x))\n",
    "Healthy['Annual avg. hours worked'] = Healthy['Annual avg. hours worked'].apply(lambda x: np.nan if x == '-' else int(x))\n",
    "Healthy['Cost of a monthly gym membership(City)'] = Healthy['Cost of a monthly gym membership(City)'].apply(lambda x: float(x[1:]))"
   ]
  },
  {
   "cell_type": "code",
   "execution_count": 6,
   "id": "9ab54752",
   "metadata": {
    "execution": {
     "iopub.execute_input": "2023-01-12T08:15:59.082690Z",
     "iopub.status.busy": "2023-01-12T08:15:59.081999Z",
     "iopub.status.idle": "2023-01-12T08:15:59.096160Z",
     "shell.execute_reply": "2023-01-12T08:15:59.095615Z",
     "shell.execute_reply.started": "2022-03-05T09:54:56.568323Z"
    },
    "papermill": {
     "duration": 0.085278,
     "end_time": "2023-01-12T08:15:59.096329",
     "exception": false,
     "start_time": "2023-01-12T08:15:59.011051",
     "status": "completed"
    },
    "tags": []
   },
   "outputs": [
    {
     "name": "stdout",
     "output_type": "stream",
     "text": [
      "<class 'pandas.core.frame.DataFrame'>\n",
      "RangeIndex: 44 entries, 0 to 43\n",
      "Data columns (total 12 columns):\n",
      " #   Column                                  Non-Null Count  Dtype  \n",
      "---  ------                                  --------------  -----  \n",
      " 0   City                                    44 non-null     object \n",
      " 1   Rank                                    44 non-null     int64  \n",
      " 2   Sunshine hours(City)                    43 non-null     float64\n",
      " 3   Cost of a bottle of water(City)         44 non-null     float64\n",
      " 4   Obesity levels(Country)                 44 non-null     float64\n",
      " 5   Life expectancy(years) (Country)        44 non-null     float64\n",
      " 6   Pollution(Index score) (City)           43 non-null     float64\n",
      " 7   Annual avg. hours worked                33 non-null     float64\n",
      " 8   Happiness levels(Country)               44 non-null     float64\n",
      " 9   Outdoor activities(City)                44 non-null     int64  \n",
      " 10  Number of take out places(City)         44 non-null     int64  \n",
      " 11  Cost of a monthly gym membership(City)  44 non-null     float64\n",
      "dtypes: float64(8), int64(3), object(1)\n",
      "memory usage: 4.2+ KB\n"
     ]
    }
   ],
   "source": [
    "Healthy.info()"
   ]
  },
  {
   "cell_type": "code",
   "execution_count": 7,
   "id": "31a8998e",
   "metadata": {
    "execution": {
     "iopub.execute_input": "2023-01-12T08:15:59.240865Z",
     "iopub.status.busy": "2023-01-12T08:15:59.239953Z",
     "iopub.status.idle": "2023-01-12T08:15:59.258228Z",
     "shell.execute_reply": "2023-01-12T08:15:59.258748Z",
     "shell.execute_reply.started": "2022-03-05T09:54:56.586193Z"
    },
    "papermill": {
     "duration": 0.092556,
     "end_time": "2023-01-12T08:15:59.258941",
     "exception": false,
     "start_time": "2023-01-12T08:15:59.166385",
     "status": "completed"
    },
    "tags": []
   },
   "outputs": [
    {
     "data": {
      "text/html": [
       "<div>\n",
       "<style scoped>\n",
       "    .dataframe tbody tr th:only-of-type {\n",
       "        vertical-align: middle;\n",
       "    }\n",
       "\n",
       "    .dataframe tbody tr th {\n",
       "        vertical-align: top;\n",
       "    }\n",
       "\n",
       "    .dataframe thead th {\n",
       "        text-align: right;\n",
       "    }\n",
       "</style>\n",
       "<table border=\"1\" class=\"dataframe\">\n",
       "  <thead>\n",
       "    <tr style=\"text-align: right;\">\n",
       "      <th></th>\n",
       "      <th>City</th>\n",
       "      <th>Rank</th>\n",
       "      <th>Sunshine hours(City)</th>\n",
       "      <th>Cost of a bottle of water(City)</th>\n",
       "      <th>Obesity levels(Country)</th>\n",
       "      <th>Life expectancy(years) (Country)</th>\n",
       "      <th>Pollution(Index score) (City)</th>\n",
       "      <th>Annual avg. hours worked</th>\n",
       "      <th>Happiness levels(Country)</th>\n",
       "      <th>Outdoor activities(City)</th>\n",
       "      <th>Number of take out places(City)</th>\n",
       "      <th>Cost of a monthly gym membership(City)</th>\n",
       "    </tr>\n",
       "  </thead>\n",
       "  <tbody>\n",
       "    <tr>\n",
       "      <th>0</th>\n",
       "      <td>Amsterdam</td>\n",
       "      <td>1</td>\n",
       "      <td>1858.0</td>\n",
       "      <td>1.92</td>\n",
       "      <td>20.4</td>\n",
       "      <td>81.2</td>\n",
       "      <td>30.93</td>\n",
       "      <td>1434.0</td>\n",
       "      <td>7.44</td>\n",
       "      <td>422</td>\n",
       "      <td>1048</td>\n",
       "      <td>34.90</td>\n",
       "    </tr>\n",
       "    <tr>\n",
       "      <th>1</th>\n",
       "      <td>Sydney</td>\n",
       "      <td>2</td>\n",
       "      <td>2636.0</td>\n",
       "      <td>1.48</td>\n",
       "      <td>29.0</td>\n",
       "      <td>82.1</td>\n",
       "      <td>26.86</td>\n",
       "      <td>1712.0</td>\n",
       "      <td>7.22</td>\n",
       "      <td>406</td>\n",
       "      <td>1103</td>\n",
       "      <td>41.66</td>\n",
       "    </tr>\n",
       "    <tr>\n",
       "      <th>2</th>\n",
       "      <td>Vienna</td>\n",
       "      <td>3</td>\n",
       "      <td>1884.0</td>\n",
       "      <td>1.94</td>\n",
       "      <td>20.1</td>\n",
       "      <td>81.0</td>\n",
       "      <td>17.33</td>\n",
       "      <td>1501.0</td>\n",
       "      <td>7.29</td>\n",
       "      <td>132</td>\n",
       "      <td>1008</td>\n",
       "      <td>25.74</td>\n",
       "    </tr>\n",
       "    <tr>\n",
       "      <th>3</th>\n",
       "      <td>Stockholm</td>\n",
       "      <td>4</td>\n",
       "      <td>1821.0</td>\n",
       "      <td>1.72</td>\n",
       "      <td>20.6</td>\n",
       "      <td>81.8</td>\n",
       "      <td>19.63</td>\n",
       "      <td>1452.0</td>\n",
       "      <td>7.35</td>\n",
       "      <td>129</td>\n",
       "      <td>598</td>\n",
       "      <td>37.31</td>\n",
       "    </tr>\n",
       "    <tr>\n",
       "      <th>4</th>\n",
       "      <td>Copenhagen</td>\n",
       "      <td>5</td>\n",
       "      <td>1630.0</td>\n",
       "      <td>2.19</td>\n",
       "      <td>19.7</td>\n",
       "      <td>79.8</td>\n",
       "      <td>21.24</td>\n",
       "      <td>1380.0</td>\n",
       "      <td>7.64</td>\n",
       "      <td>154</td>\n",
       "      <td>523</td>\n",
       "      <td>32.53</td>\n",
       "    </tr>\n",
       "  </tbody>\n",
       "</table>\n",
       "</div>"
      ],
      "text/plain": [
       "         City  Rank  Sunshine hours(City)  Cost of a bottle of water(City)  \\\n",
       "0   Amsterdam     1                1858.0                             1.92   \n",
       "1      Sydney     2                2636.0                             1.48   \n",
       "2      Vienna     3                1884.0                             1.94   \n",
       "3   Stockholm     4                1821.0                             1.72   \n",
       "4  Copenhagen     5                1630.0                             2.19   \n",
       "\n",
       "   Obesity levels(Country)  Life expectancy(years) (Country)  \\\n",
       "0                     20.4                              81.2   \n",
       "1                     29.0                              82.1   \n",
       "2                     20.1                              81.0   \n",
       "3                     20.6                              81.8   \n",
       "4                     19.7                              79.8   \n",
       "\n",
       "   Pollution(Index score) (City)  Annual avg. hours worked  \\\n",
       "0                          30.93                    1434.0   \n",
       "1                          26.86                    1712.0   \n",
       "2                          17.33                    1501.0   \n",
       "3                          19.63                    1452.0   \n",
       "4                          21.24                    1380.0   \n",
       "\n",
       "   Happiness levels(Country)  Outdoor activities(City)  \\\n",
       "0                       7.44                       422   \n",
       "1                       7.22                       406   \n",
       "2                       7.29                       132   \n",
       "3                       7.35                       129   \n",
       "4                       7.64                       154   \n",
       "\n",
       "   Number of take out places(City)  Cost of a monthly gym membership(City)  \n",
       "0                             1048                                   34.90  \n",
       "1                             1103                                   41.66  \n",
       "2                             1008                                   25.74  \n",
       "3                              598                                   37.31  \n",
       "4                              523                                   32.53  "
      ]
     },
     "execution_count": 7,
     "metadata": {},
     "output_type": "execute_result"
    }
   ],
   "source": [
    "Healthy.head()"
   ]
  },
  {
   "cell_type": "code",
   "execution_count": 8,
   "id": "964c6c73",
   "metadata": {
    "execution": {
     "iopub.execute_input": "2023-01-12T08:15:59.409356Z",
     "iopub.status.busy": "2023-01-12T08:15:59.406266Z",
     "iopub.status.idle": "2023-01-12T08:15:59.411501Z",
     "shell.execute_reply": "2023-01-12T08:15:59.412034Z",
     "shell.execute_reply.started": "2022-03-05T09:54:56.608251Z"
    },
    "papermill": {
     "duration": 0.081395,
     "end_time": "2023-01-12T08:15:59.412243",
     "exception": false,
     "start_time": "2023-01-12T08:15:59.330848",
     "status": "completed"
    },
    "tags": []
   },
   "outputs": [],
   "source": [
    "Healthy.drop('Rank',axis=1,inplace=True)"
   ]
  },
  {
   "cell_type": "code",
   "execution_count": 9,
   "id": "aaf5cfd7",
   "metadata": {
    "execution": {
     "iopub.execute_input": "2023-01-12T08:15:59.556239Z",
     "iopub.status.busy": "2023-01-12T08:15:59.554146Z",
     "iopub.status.idle": "2023-01-12T08:15:59.909702Z",
     "shell.execute_reply": "2023-01-12T08:15:59.910313Z",
     "shell.execute_reply.started": "2022-03-05T09:54:56.617379Z"
    },
    "papermill": {
     "duration": 0.428764,
     "end_time": "2023-01-12T08:15:59.910509",
     "exception": false,
     "start_time": "2023-01-12T08:15:59.481745",
     "status": "completed"
    },
    "tags": []
   },
   "outputs": [],
   "source": [
    "from sklearn.experimental import enable_iterative_imputer\n",
    "from sklearn.impute import IterativeImputer"
   ]
  },
  {
   "cell_type": "code",
   "execution_count": 10,
   "id": "55b4b9aa",
   "metadata": {
    "execution": {
     "iopub.execute_input": "2023-01-12T08:16:00.056004Z",
     "iopub.status.busy": "2023-01-12T08:16:00.055280Z",
     "iopub.status.idle": "2023-01-12T08:16:00.153552Z",
     "shell.execute_reply": "2023-01-12T08:16:00.152927Z",
     "shell.execute_reply.started": "2022-03-05T09:54:56.966461Z"
    },
    "papermill": {
     "duration": 0.172489,
     "end_time": "2023-01-12T08:16:00.153765",
     "exception": false,
     "start_time": "2023-01-12T08:15:59.981276",
     "status": "completed"
    },
    "tags": []
   },
   "outputs": [
    {
     "name": "stdout",
     "output_type": "stream",
     "text": [
      "<class 'pandas.core.frame.DataFrame'>\n",
      "RangeIndex: 44 entries, 0 to 43\n",
      "Data columns (total 11 columns):\n",
      " #   Column                                  Non-Null Count  Dtype  \n",
      "---  ------                                  --------------  -----  \n",
      " 0   Sunshine hours(City)                    44 non-null     float64\n",
      " 1   Cost of a bottle of water(City)         44 non-null     float64\n",
      " 2   Obesity levels(Country)                 44 non-null     float64\n",
      " 3   Life expectancy(years) (Country)        44 non-null     float64\n",
      " 4   Pollution(Index score) (City)           44 non-null     float64\n",
      " 5   Annual avg. hours worked                44 non-null     float64\n",
      " 6   Happiness levels(Country)               44 non-null     float64\n",
      " 7   Outdoor activities(City)                44 non-null     float64\n",
      " 8   Number of take out places(City)         44 non-null     float64\n",
      " 9   Cost of a monthly gym membership(City)  44 non-null     float64\n",
      " 10  City                                    44 non-null     object \n",
      "dtypes: float64(10), object(1)\n",
      "memory usage: 3.9+ KB\n"
     ]
    }
   ],
   "source": [
    "City = Healthy.City\n",
    "Healthy.drop('City',axis=1,inplace=True)\n",
    "col = Healthy.columns\n",
    "imputer = IterativeImputer(max_iter=100)\n",
    "Healthy = imputer.fit_transform(Healthy)\n",
    "Healthy = pd.DataFrame(Healthy,columns=col)\n",
    "Healthy['City'] = City\n",
    "Healthy.info()"
   ]
  },
  {
   "cell_type": "code",
   "execution_count": 11,
   "id": "e8206c01",
   "metadata": {
    "execution": {
     "iopub.execute_input": "2023-01-12T08:16:00.316374Z",
     "iopub.status.busy": "2023-01-12T08:16:00.315651Z",
     "iopub.status.idle": "2023-01-12T08:16:00.319935Z",
     "shell.execute_reply": "2023-01-12T08:16:00.319334Z",
     "shell.execute_reply.started": "2022-03-05T09:54:57.065474Z"
    },
    "papermill": {
     "duration": 0.092991,
     "end_time": "2023-01-12T08:16:00.320088",
     "exception": false,
     "start_time": "2023-01-12T08:16:00.227097",
     "status": "completed"
    },
    "tags": []
   },
   "outputs": [
    {
     "data": {
      "text/html": [
       "<div>\n",
       "<style scoped>\n",
       "    .dataframe tbody tr th:only-of-type {\n",
       "        vertical-align: middle;\n",
       "    }\n",
       "\n",
       "    .dataframe tbody tr th {\n",
       "        vertical-align: top;\n",
       "    }\n",
       "\n",
       "    .dataframe thead th {\n",
       "        text-align: right;\n",
       "    }\n",
       "</style>\n",
       "<table border=\"1\" class=\"dataframe\">\n",
       "  <thead>\n",
       "    <tr style=\"text-align: right;\">\n",
       "      <th></th>\n",
       "      <th>Sunshine hours(City)</th>\n",
       "      <th>Cost of a bottle of water(City)</th>\n",
       "      <th>Obesity levels(Country)</th>\n",
       "      <th>Life expectancy(years) (Country)</th>\n",
       "      <th>Pollution(Index score) (City)</th>\n",
       "      <th>Annual avg. hours worked</th>\n",
       "      <th>Happiness levels(Country)</th>\n",
       "      <th>Outdoor activities(City)</th>\n",
       "      <th>Number of take out places(City)</th>\n",
       "      <th>Cost of a monthly gym membership(City)</th>\n",
       "      <th>City</th>\n",
       "    </tr>\n",
       "  </thead>\n",
       "  <tbody>\n",
       "    <tr>\n",
       "      <th>0</th>\n",
       "      <td>1858.0</td>\n",
       "      <td>1.92</td>\n",
       "      <td>20.4</td>\n",
       "      <td>81.2</td>\n",
       "      <td>30.93</td>\n",
       "      <td>1434.0</td>\n",
       "      <td>7.44</td>\n",
       "      <td>422.0</td>\n",
       "      <td>1048.0</td>\n",
       "      <td>34.90</td>\n",
       "      <td>Amsterdam</td>\n",
       "    </tr>\n",
       "    <tr>\n",
       "      <th>1</th>\n",
       "      <td>2636.0</td>\n",
       "      <td>1.48</td>\n",
       "      <td>29.0</td>\n",
       "      <td>82.1</td>\n",
       "      <td>26.86</td>\n",
       "      <td>1712.0</td>\n",
       "      <td>7.22</td>\n",
       "      <td>406.0</td>\n",
       "      <td>1103.0</td>\n",
       "      <td>41.66</td>\n",
       "      <td>Sydney</td>\n",
       "    </tr>\n",
       "    <tr>\n",
       "      <th>2</th>\n",
       "      <td>1884.0</td>\n",
       "      <td>1.94</td>\n",
       "      <td>20.1</td>\n",
       "      <td>81.0</td>\n",
       "      <td>17.33</td>\n",
       "      <td>1501.0</td>\n",
       "      <td>7.29</td>\n",
       "      <td>132.0</td>\n",
       "      <td>1008.0</td>\n",
       "      <td>25.74</td>\n",
       "      <td>Vienna</td>\n",
       "    </tr>\n",
       "    <tr>\n",
       "      <th>3</th>\n",
       "      <td>1821.0</td>\n",
       "      <td>1.72</td>\n",
       "      <td>20.6</td>\n",
       "      <td>81.8</td>\n",
       "      <td>19.63</td>\n",
       "      <td>1452.0</td>\n",
       "      <td>7.35</td>\n",
       "      <td>129.0</td>\n",
       "      <td>598.0</td>\n",
       "      <td>37.31</td>\n",
       "      <td>Stockholm</td>\n",
       "    </tr>\n",
       "    <tr>\n",
       "      <th>4</th>\n",
       "      <td>1630.0</td>\n",
       "      <td>2.19</td>\n",
       "      <td>19.7</td>\n",
       "      <td>79.8</td>\n",
       "      <td>21.24</td>\n",
       "      <td>1380.0</td>\n",
       "      <td>7.64</td>\n",
       "      <td>154.0</td>\n",
       "      <td>523.0</td>\n",
       "      <td>32.53</td>\n",
       "      <td>Copenhagen</td>\n",
       "    </tr>\n",
       "  </tbody>\n",
       "</table>\n",
       "</div>"
      ],
      "text/plain": [
       "   Sunshine hours(City)  Cost of a bottle of water(City)  \\\n",
       "0                1858.0                             1.92   \n",
       "1                2636.0                             1.48   \n",
       "2                1884.0                             1.94   \n",
       "3                1821.0                             1.72   \n",
       "4                1630.0                             2.19   \n",
       "\n",
       "   Obesity levels(Country)  Life expectancy(years) (Country)  \\\n",
       "0                     20.4                              81.2   \n",
       "1                     29.0                              82.1   \n",
       "2                     20.1                              81.0   \n",
       "3                     20.6                              81.8   \n",
       "4                     19.7                              79.8   \n",
       "\n",
       "   Pollution(Index score) (City)  Annual avg. hours worked  \\\n",
       "0                          30.93                    1434.0   \n",
       "1                          26.86                    1712.0   \n",
       "2                          17.33                    1501.0   \n",
       "3                          19.63                    1452.0   \n",
       "4                          21.24                    1380.0   \n",
       "\n",
       "   Happiness levels(Country)  Outdoor activities(City)  \\\n",
       "0                       7.44                     422.0   \n",
       "1                       7.22                     406.0   \n",
       "2                       7.29                     132.0   \n",
       "3                       7.35                     129.0   \n",
       "4                       7.64                     154.0   \n",
       "\n",
       "   Number of take out places(City)  Cost of a monthly gym membership(City)  \\\n",
       "0                           1048.0                                   34.90   \n",
       "1                           1103.0                                   41.66   \n",
       "2                           1008.0                                   25.74   \n",
       "3                            598.0                                   37.31   \n",
       "4                            523.0                                   32.53   \n",
       "\n",
       "         City  \n",
       "0   Amsterdam  \n",
       "1      Sydney  \n",
       "2      Vienna  \n",
       "3   Stockholm  \n",
       "4  Copenhagen  "
      ]
     },
     "execution_count": 11,
     "metadata": {},
     "output_type": "execute_result"
    }
   ],
   "source": [
    "Healthy.head()"
   ]
  },
  {
   "cell_type": "code",
   "execution_count": 12,
   "id": "1ca39edb",
   "metadata": {
    "execution": {
     "iopub.execute_input": "2023-01-12T08:16:00.466943Z",
     "iopub.status.busy": "2023-01-12T08:16:00.466134Z",
     "iopub.status.idle": "2023-01-12T08:16:00.469110Z",
     "shell.execute_reply": "2023-01-12T08:16:00.468562Z",
     "shell.execute_reply.started": "2022-03-05T09:54:57.087899Z"
    },
    "papermill": {
     "duration": 0.077767,
     "end_time": "2023-01-12T08:16:00.469283",
     "exception": false,
     "start_time": "2023-01-12T08:16:00.391516",
     "status": "completed"
    },
    "tags": []
   },
   "outputs": [],
   "source": [
    "#EDA"
   ]
  },
  {
   "cell_type": "code",
   "execution_count": 13,
   "id": "e3faad97",
   "metadata": {
    "execution": {
     "iopub.execute_input": "2023-01-12T08:16:00.622732Z",
     "iopub.status.busy": "2023-01-12T08:16:00.621937Z",
     "iopub.status.idle": "2023-01-12T08:16:01.525388Z",
     "shell.execute_reply": "2023-01-12T08:16:01.525945Z",
     "shell.execute_reply.started": "2022-03-05T09:54:57.099615Z"
    },
    "papermill": {
     "duration": 0.985613,
     "end_time": "2023-01-12T08:16:01.526127",
     "exception": false,
     "start_time": "2023-01-12T08:16:00.540514",
     "status": "completed"
    },
    "tags": []
   },
   "outputs": [
    {
     "data": {
      "image/png": "[encoded data removed]",
      "text/plain": [
       "<Figure size 936x576 with 2 Axes>"
      ]
     },
     "metadata": {
      "needs_background": "light"
     },
     "output_type": "display_data"
    }
   ],
   "source": [
    "plt.figure(figsize=(13,8))\n",
    "sns.heatmap(Healthy.corr(),annot=True)\n",
    "plt.title('Heatmap of Variable Correlations')\n",
    "plt.show()"
   ]
  },
  {
   "cell_type": "code",
   "execution_count": 14,
   "id": "ed34922d",
   "metadata": {
    "execution": {
     "iopub.execute_input": "2023-01-12T08:16:01.678848Z",
     "iopub.status.busy": "2023-01-12T08:16:01.678127Z",
     "iopub.status.idle": "2023-01-12T08:16:01.680997Z",
     "shell.execute_reply": "2023-01-12T08:16:01.681638Z",
     "shell.execute_reply.started": "2022-03-05T09:54:57.963092Z"
    },
    "papermill": {
     "duration": 0.082096,
     "end_time": "2023-01-12T08:16:01.681841",
     "exception": false,
     "start_time": "2023-01-12T08:16:01.599745",
     "status": "completed"
    },
    "tags": []
   },
   "outputs": [],
   "source": [
    "#Let us plot the Happiness levels against the rest of the variables. "
   ]
  },
  {
   "cell_type": "code",
   "execution_count": 15,
   "id": "7ac794ff",
   "metadata": {
    "execution": {
     "iopub.execute_input": "2023-01-12T08:16:01.837059Z",
     "iopub.status.busy": "2023-01-12T08:16:01.836350Z",
     "iopub.status.idle": "2023-01-12T08:16:02.154725Z",
     "shell.execute_reply": "2023-01-12T08:16:02.154169Z",
     "shell.execute_reply.started": "2022-03-05T09:54:57.967977Z"
    },
    "papermill": {
     "duration": 0.397337,
     "end_time": "2023-01-12T08:16:02.154878",
     "exception": false,
     "start_time": "2023-01-12T08:16:01.757541",
     "status": "completed"
    },
    "tags": []
   },
   "outputs": [
    {
     "data": {
      "image/png": "[encoded data removed]",
      "text/plain": [
       "<Figure size 1080x360 with 1 Axes>"
      ]
     },
     "metadata": {
      "needs_background": "light"
     },
     "output_type": "display_data"
    }
   ],
   "source": [
    "plt.figure(figsize=(15,5))\n",
    "sns.lineplot(x='Sunshine hours(City)',y='Happiness levels(Country)',data=Healthy)\n",
    "plt.title('Happiness Levels vs Sunshine Hours')\n",
    "plt.show()"
   ]
  },
  {
   "cell_type": "code",
   "execution_count": 16,
   "id": "fdce2f88",
   "metadata": {
    "execution": {
     "iopub.execute_input": "2023-01-12T08:16:02.312647Z",
     "iopub.status.busy": "2023-01-12T08:16:02.311896Z",
     "iopub.status.idle": "2023-01-12T08:16:02.675180Z",
     "shell.execute_reply": "2023-01-12T08:16:02.675932Z",
     "shell.execute_reply.started": "2022-03-05T09:54:58.300847Z"
    },
    "papermill": {
     "duration": 0.443167,
     "end_time": "2023-01-12T08:16:02.676126",
     "exception": false,
     "start_time": "2023-01-12T08:16:02.232959",
     "status": "completed"
    },
    "tags": []
   },
   "outputs": [
    {
     "data": {
      "image/png": "[encoded data removed]",
      "text/plain": [
       "<Figure size 1080x360 with 1 Axes>"
      ]
     },
     "metadata": {
      "needs_background": "light"
     },
     "output_type": "display_data"
    }
   ],
   "source": [
    "plt.figure(figsize=(15,5))\n",
    "sns.lineplot(x='Cost of a bottle of water(City)',y='Happiness levels(Country)',data=Healthy)\n",
    "plt.title('Happiness Levels vs Cost of a Bottle of Water')\n",
    "plt.show()"
   ]
  },
  {
   "cell_type": "code",
   "execution_count": 17,
   "id": "ee312b00",
   "metadata": {
    "execution": {
     "iopub.execute_input": "2023-01-12T08:16:02.835997Z",
     "iopub.status.busy": "2023-01-12T08:16:02.835312Z",
     "iopub.status.idle": "2023-01-12T08:16:03.308948Z",
     "shell.execute_reply": "2023-01-12T08:16:03.309867Z",
     "shell.execute_reply.started": "2022-03-05T09:54:58.701912Z"
    },
    "papermill": {
     "duration": 0.555714,
     "end_time": "2023-01-12T08:16:03.310173",
     "exception": false,
     "start_time": "2023-01-12T08:16:02.754459",
     "status": "completed"
    },
    "tags": []
   },
   "outputs": [
    {
     "data": {
      "image/png": "[encoded data removed]",
      "text/plain": [
       "<Figure size 1080x360 with 1 Axes>"
      ]
     },
     "metadata": {
      "needs_background": "light"
     },
     "output_type": "display_data"
    }
   ],
   "source": [
    "plt.figure(figsize=(15,5))\n",
    "sns.lineplot(x='Obesity levels(Country)',y='Happiness levels(Country)',data=Healthy)\n",
    "plt.title('Happiness Levels vs Obesity Levels')\n",
    "plt.show()"
   ]
  },
  {
   "cell_type": "code",
   "execution_count": 18,
   "id": "cfb5c230",
   "metadata": {
    "execution": {
     "iopub.execute_input": "2023-01-12T08:16:03.487633Z",
     "iopub.status.busy": "2023-01-12T08:16:03.480699Z",
     "iopub.status.idle": "2023-01-12T08:16:03.946712Z",
     "shell.execute_reply": "2023-01-12T08:16:03.947314Z",
     "shell.execute_reply.started": "2022-03-05T09:54:59.245949Z"
    },
    "papermill": {
     "duration": 0.556466,
     "end_time": "2023-01-12T08:16:03.947512",
     "exception": false,
     "start_time": "2023-01-12T08:16:03.391046",
     "status": "completed"
    },
    "tags": []
   },
   "outputs": [
    {
     "data": {
      "image/png": "[encoded data removed]",
      "text/plain": [
       "<Figure size 1080x360 with 1 Axes>"
      ]
     },
     "metadata": {
      "needs_background": "light"
     },
     "output_type": "display_data"
    }
   ],
   "source": [
    "plt.figure(figsize=(15,5))\n",
    "sns.lineplot(x='Life expectancy(years) (Country)',y='Happiness levels(Country)',data=Healthy)\n",
    "plt.title('Happiness Levels vs Life Expectancy')\n",
    "plt.show()"
   ]
  },
  {
   "cell_type": "code",
   "execution_count": 19,
   "id": "bc0a761b",
   "metadata": {
    "execution": {
     "iopub.execute_input": "2023-01-12T08:16:04.116735Z",
     "iopub.status.busy": "2023-01-12T08:16:04.115763Z",
     "iopub.status.idle": "2023-01-12T08:16:04.523534Z",
     "shell.execute_reply": "2023-01-12T08:16:04.524040Z",
     "shell.execute_reply.started": "2022-03-05T09:54:59.790263Z"
    },
    "papermill": {
     "duration": 0.494265,
     "end_time": "2023-01-12T08:16:04.524249",
     "exception": false,
     "start_time": "2023-01-12T08:16:04.029984",
     "status": "completed"
    },
    "tags": []
   },
   "outputs": [
    {
     "data": {
      "image/png": "[encoded data removed]",
      "text/plain": [
       "<Figure size 1080x360 with 1 Axes>"
      ]
     },
     "metadata": {
      "needs_background": "light"
     },
     "output_type": "display_data"
    }
   ],
   "source": [
    "plt.figure(figsize=(15,5))\n",
    "sns.lineplot(x='Annual avg. hours worked',y='Happiness levels(Country)',data=Healthy)\n",
    "plt.title('Happiness Levels vs Annual Average Hours Worked')\n",
    "plt.show()"
   ]
  },
  {
   "cell_type": "code",
   "execution_count": 20,
   "id": "35dc8d54",
   "metadata": {
    "execution": {
     "iopub.execute_input": "2023-01-12T08:16:04.693926Z",
     "iopub.status.busy": "2023-01-12T08:16:04.693260Z",
     "iopub.status.idle": "2023-01-12T08:16:05.094769Z",
     "shell.execute_reply": "2023-01-12T08:16:05.093829Z",
     "shell.execute_reply.started": "2022-03-05T09:55:00.234591Z"
    },
    "papermill": {
     "duration": 0.488722,
     "end_time": "2023-01-12T08:16:05.094916",
     "exception": false,
     "start_time": "2023-01-12T08:16:04.606194",
     "status": "completed"
    },
    "tags": []
   },
   "outputs": [
    {
     "data": {
      "image/png": "[encoded data removed]",
      "text/plain": [
       "<Figure size 1080x360 with 1 Axes>"
      ]
     },
     "metadata": {
      "needs_background": "light"
     },
     "output_type": "display_data"
    }
   ],
   "source": [
    "plt.figure(figsize=(15,5))\n",
    "sns.lineplot(x='Outdoor activities(City)',y='Happiness levels(Country)',data=Healthy)\n",
    "plt.title('Happiness Levels vs Outdoor Activities')\n",
    "plt.show()"
   ]
  },
  {
   "cell_type": "code",
   "execution_count": 21,
   "id": "55d5af38",
   "metadata": {
    "execution": {
     "iopub.execute_input": "2023-01-12T08:16:05.271480Z",
     "iopub.status.busy": "2023-01-12T08:16:05.270761Z",
     "iopub.status.idle": "2023-01-12T08:16:05.510767Z",
     "shell.execute_reply": "2023-01-12T08:16:05.510246Z",
     "shell.execute_reply.started": "2022-03-05T09:55:00.628201Z"
    },
    "papermill": {
     "duration": 0.3325,
     "end_time": "2023-01-12T08:16:05.510918",
     "exception": false,
     "start_time": "2023-01-12T08:16:05.178418",
     "status": "completed"
    },
    "tags": []
   },
   "outputs": [
    {
     "data": {
      "image/png": "[encoded data removed]",
      "text/plain": [
       "<Figure size 1080x360 with 1 Axes>"
      ]
     },
     "metadata": {
      "needs_background": "light"
     },
     "output_type": "display_data"
    }
   ],
   "source": [
    "plt.figure(figsize=(15,5))\n",
    "sns.lineplot(x='Number of take out places(City)',y='Happiness levels(Country)',data=Healthy)\n",
    "plt.title('Happiness Levels vs Number of Takeouts')\n",
    "plt.show()"
   ]
  },
  {
   "cell_type": "code",
   "execution_count": 22,
   "id": "6fea284c",
   "metadata": {
    "execution": {
     "iopub.execute_input": "2023-01-12T08:16:05.743387Z",
     "iopub.status.busy": "2023-01-12T08:16:05.712014Z",
     "iopub.status.idle": "2023-01-12T08:16:05.936780Z",
     "shell.execute_reply": "2023-01-12T08:16:05.937317Z",
     "shell.execute_reply.started": "2022-03-05T09:55:00.855186Z"
    },
    "papermill": {
     "duration": 0.34165,
     "end_time": "2023-01-12T08:16:05.937501",
     "exception": false,
     "start_time": "2023-01-12T08:16:05.595851",
     "status": "completed"
    },
    "tags": []
   },
   "outputs": [
    {
     "data": {
      "image/png": "[encoded data removed]",
      "text/plain": [
       "<Figure size 1080x360 with 1 Axes>"
      ]
     },
     "metadata": {
      "needs_background": "light"
     },
     "output_type": "display_data"
    }
   ],
   "source": [
    "plt.figure(figsize=(15,5))\n",
    "sns.lineplot(x='Cost of a monthly gym membership(City)',y='Happiness levels(Country)',data=Healthy)\n",
    "plt.title('Happiness Levels vs Cost of Gym Membership')\n",
    "plt.show()"
   ]
  },
  {
   "cell_type": "code",
   "execution_count": 23,
   "id": "4f3218e2",
   "metadata": {
    "execution": {
     "iopub.execute_input": "2023-01-12T08:16:06.114964Z",
     "iopub.status.busy": "2023-01-12T08:16:06.114227Z",
     "iopub.status.idle": "2023-01-12T08:16:06.117256Z",
     "shell.execute_reply": "2023-01-12T08:16:06.117788Z",
     "shell.execute_reply.started": "2022-03-05T09:55:01.07672Z"
    },
    "papermill": {
     "duration": 0.094026,
     "end_time": "2023-01-12T08:16:06.117964",
     "exception": false,
     "start_time": "2023-01-12T08:16:06.023938",
     "status": "completed"
    },
    "tags": []
   },
   "outputs": [],
   "source": [
    "#Model building"
   ]
  },
  {
   "cell_type": "code",
   "execution_count": 24,
   "id": "b8789d3b",
   "metadata": {
    "execution": {
     "iopub.execute_input": "2023-01-12T08:16:06.327861Z",
     "iopub.status.busy": "2023-01-12T08:16:06.327045Z",
     "iopub.status.idle": "2023-01-12T08:16:06.331359Z",
     "shell.execute_reply": "2023-01-12T08:16:06.330686Z",
     "shell.execute_reply.started": "2022-03-05T09:55:01.082801Z"
    },
    "papermill": {
     "duration": 0.120442,
     "end_time": "2023-01-12T08:16:06.331525",
     "exception": false,
     "start_time": "2023-01-12T08:16:06.211083",
     "status": "completed"
    },
    "tags": []
   },
   "outputs": [],
   "source": [
    "#We will build models to predict levels of happiness as well as cluster the cities based on all these variables. "
   ]
  },
  {
   "cell_type": "code",
   "execution_count": 25,
   "id": "f39fd025",
   "metadata": {
    "execution": {
     "iopub.execute_input": "2023-01-12T08:16:06.521676Z",
     "iopub.status.busy": "2023-01-12T08:16:06.520867Z",
     "iopub.status.idle": "2023-01-12T08:16:06.533178Z",
     "shell.execute_reply": "2023-01-12T08:16:06.533734Z",
     "shell.execute_reply.started": "2022-03-05T09:55:01.093979Z"
    },
    "papermill": {
     "duration": 0.111022,
     "end_time": "2023-01-12T08:16:06.533918",
     "exception": false,
     "start_time": "2023-01-12T08:16:06.422896",
     "status": "completed"
    },
    "tags": []
   },
   "outputs": [
    {
     "data": {
      "text/html": [
       "<div>\n",
       "<style scoped>\n",
       "    .dataframe tbody tr th:only-of-type {\n",
       "        vertical-align: middle;\n",
       "    }\n",
       "\n",
       "    .dataframe tbody tr th {\n",
       "        vertical-align: top;\n",
       "    }\n",
       "\n",
       "    .dataframe thead th {\n",
       "        text-align: right;\n",
       "    }\n",
       "</style>\n",
       "<table border=\"1\" class=\"dataframe\">\n",
       "  <thead>\n",
       "    <tr style=\"text-align: right;\">\n",
       "      <th></th>\n",
       "      <th>Sunshine hours(City)</th>\n",
       "      <th>Cost of a bottle of water(City)</th>\n",
       "      <th>Obesity levels(Country)</th>\n",
       "      <th>Life expectancy(years) (Country)</th>\n",
       "      <th>Pollution(Index score) (City)</th>\n",
       "      <th>Annual avg. hours worked</th>\n",
       "      <th>Happiness levels(Country)</th>\n",
       "      <th>Outdoor activities(City)</th>\n",
       "      <th>Number of take out places(City)</th>\n",
       "      <th>Cost of a monthly gym membership(City)</th>\n",
       "      <th>City</th>\n",
       "    </tr>\n",
       "  </thead>\n",
       "  <tbody>\n",
       "    <tr>\n",
       "      <th>0</th>\n",
       "      <td>1858.0</td>\n",
       "      <td>1.92</td>\n",
       "      <td>20.4</td>\n",
       "      <td>81.2</td>\n",
       "      <td>30.93</td>\n",
       "      <td>1434.0</td>\n",
       "      <td>7.44</td>\n",
       "      <td>422.0</td>\n",
       "      <td>1048.0</td>\n",
       "      <td>34.90</td>\n",
       "      <td>Amsterdam</td>\n",
       "    </tr>\n",
       "    <tr>\n",
       "      <th>1</th>\n",
       "      <td>2636.0</td>\n",
       "      <td>1.48</td>\n",
       "      <td>29.0</td>\n",
       "      <td>82.1</td>\n",
       "      <td>26.86</td>\n",
       "      <td>1712.0</td>\n",
       "      <td>7.22</td>\n",
       "      <td>406.0</td>\n",
       "      <td>1103.0</td>\n",
       "      <td>41.66</td>\n",
       "      <td>Sydney</td>\n",
       "    </tr>\n",
       "    <tr>\n",
       "      <th>2</th>\n",
       "      <td>1884.0</td>\n",
       "      <td>1.94</td>\n",
       "      <td>20.1</td>\n",
       "      <td>81.0</td>\n",
       "      <td>17.33</td>\n",
       "      <td>1501.0</td>\n",
       "      <td>7.29</td>\n",
       "      <td>132.0</td>\n",
       "      <td>1008.0</td>\n",
       "      <td>25.74</td>\n",
       "      <td>Vienna</td>\n",
       "    </tr>\n",
       "    <tr>\n",
       "      <th>3</th>\n",
       "      <td>1821.0</td>\n",
       "      <td>1.72</td>\n",
       "      <td>20.6</td>\n",
       "      <td>81.8</td>\n",
       "      <td>19.63</td>\n",
       "      <td>1452.0</td>\n",
       "      <td>7.35</td>\n",
       "      <td>129.0</td>\n",
       "      <td>598.0</td>\n",
       "      <td>37.31</td>\n",
       "      <td>Stockholm</td>\n",
       "    </tr>\n",
       "    <tr>\n",
       "      <th>4</th>\n",
       "      <td>1630.0</td>\n",
       "      <td>2.19</td>\n",
       "      <td>19.7</td>\n",
       "      <td>79.8</td>\n",
       "      <td>21.24</td>\n",
       "      <td>1380.0</td>\n",
       "      <td>7.64</td>\n",
       "      <td>154.0</td>\n",
       "      <td>523.0</td>\n",
       "      <td>32.53</td>\n",
       "      <td>Copenhagen</td>\n",
       "    </tr>\n",
       "  </tbody>\n",
       "</table>\n",
       "</div>"
      ],
      "text/plain": [
       "   Sunshine hours(City)  Cost of a bottle of water(City)  \\\n",
       "0                1858.0                             1.92   \n",
       "1                2636.0                             1.48   \n",
       "2                1884.0                             1.94   \n",
       "3                1821.0                             1.72   \n",
       "4                1630.0                             2.19   \n",
       "\n",
       "   Obesity levels(Country)  Life expectancy(years) (Country)  \\\n",
       "0                     20.4                              81.2   \n",
       "1                     29.0                              82.1   \n",
       "2                     20.1                              81.0   \n",
       "3                     20.6                              81.8   \n",
       "4                     19.7                              79.8   \n",
       "\n",
       "   Pollution(Index score) (City)  Annual avg. hours worked  \\\n",
       "0                          30.93                    1434.0   \n",
       "1                          26.86                    1712.0   \n",
       "2                          17.33                    1501.0   \n",
       "3                          19.63                    1452.0   \n",
       "4                          21.24                    1380.0   \n",
       "\n",
       "   Happiness levels(Country)  Outdoor activities(City)  \\\n",
       "0                       7.44                     422.0   \n",
       "1                       7.22                     406.0   \n",
       "2                       7.29                     132.0   \n",
       "3                       7.35                     129.0   \n",
       "4                       7.64                     154.0   \n",
       "\n",
       "   Number of take out places(City)  Cost of a monthly gym membership(City)  \\\n",
       "0                           1048.0                                   34.90   \n",
       "1                           1103.0                                   41.66   \n",
       "2                           1008.0                                   25.74   \n",
       "3                            598.0                                   37.31   \n",
       "4                            523.0                                   32.53   \n",
       "\n",
       "         City  \n",
       "0   Amsterdam  \n",
       "1      Sydney  \n",
       "2      Vienna  \n",
       "3   Stockholm  \n",
       "4  Copenhagen  "
      ]
     },
     "execution_count": 25,
     "metadata": {},
     "output_type": "execute_result"
    }
   ],
   "source": [
    "Healthy.head()"
   ]
  },
  {
   "cell_type": "code",
   "execution_count": 26,
   "id": "6148c812",
   "metadata": {
    "execution": {
     "iopub.execute_input": "2023-01-12T08:16:06.715007Z",
     "iopub.status.busy": "2023-01-12T08:16:06.714340Z",
     "iopub.status.idle": "2023-01-12T08:16:06.721687Z",
     "shell.execute_reply": "2023-01-12T08:16:06.720954Z",
     "shell.execute_reply.started": "2022-03-05T09:55:01.12198Z"
    },
    "papermill": {
     "duration": 0.100724,
     "end_time": "2023-01-12T08:16:06.721841",
     "exception": false,
     "start_time": "2023-01-12T08:16:06.621117",
     "status": "completed"
    },
    "tags": []
   },
   "outputs": [
    {
     "data": {
      "text/plain": [
       "count    44.000000\n",
       "mean      6.435000\n",
       "std       0.991202\n",
       "min       3.570000\n",
       "25%       5.870000\n",
       "50%       6.900000\n",
       "75%       7.175000\n",
       "max       7.800000\n",
       "Name: Happiness levels(Country), dtype: float64"
      ]
     },
     "execution_count": 26,
     "metadata": {},
     "output_type": "execute_result"
    }
   ],
   "source": [
    "Healthy['Happiness levels(Country)'].describe()"
   ]
  },
  {
   "cell_type": "code",
   "execution_count": 27,
   "id": "6ce45f71",
   "metadata": {
    "execution": {
     "iopub.execute_input": "2023-01-12T08:16:06.903976Z",
     "iopub.status.busy": "2023-01-12T08:16:06.903261Z",
     "iopub.status.idle": "2023-01-12T08:16:06.905750Z",
     "shell.execute_reply": "2023-01-12T08:16:06.906448Z",
     "shell.execute_reply.started": "2022-03-05T09:55:01.132478Z"
    },
    "papermill": {
     "duration": 0.09554,
     "end_time": "2023-01-12T08:16:06.906646",
     "exception": false,
     "start_time": "2023-01-12T08:16:06.811106",
     "status": "completed"
    },
    "tags": []
   },
   "outputs": [],
   "source": [
    "#We can use a linear model since we have pretty good correlations between the target and independent variables. "
   ]
  },
  {
   "cell_type": "code",
   "execution_count": 28,
   "id": "19f593b9",
   "metadata": {
    "execution": {
     "iopub.execute_input": "2023-01-12T08:16:07.087697Z",
     "iopub.status.busy": "2023-01-12T08:16:07.086994Z",
     "iopub.status.idle": "2023-01-12T08:16:07.104795Z",
     "shell.execute_reply": "2023-01-12T08:16:07.104084Z",
     "shell.execute_reply.started": "2022-03-05T09:55:01.141348Z"
    },
    "papermill": {
     "duration": 0.110569,
     "end_time": "2023-01-12T08:16:07.104947",
     "exception": false,
     "start_time": "2023-01-12T08:16:06.994378",
     "status": "completed"
    },
    "tags": []
   },
   "outputs": [
    {
     "data": {
      "text/html": [
       "<div>\n",
       "<style scoped>\n",
       "    .dataframe tbody tr th:only-of-type {\n",
       "        vertical-align: middle;\n",
       "    }\n",
       "\n",
       "    .dataframe tbody tr th {\n",
       "        vertical-align: top;\n",
       "    }\n",
       "\n",
       "    .dataframe thead th {\n",
       "        text-align: right;\n",
       "    }\n",
       "</style>\n",
       "<table border=\"1\" class=\"dataframe\">\n",
       "  <thead>\n",
       "    <tr style=\"text-align: right;\">\n",
       "      <th></th>\n",
       "      <th>Sunshine hours(City)</th>\n",
       "      <th>Cost of a bottle of water(City)</th>\n",
       "      <th>Obesity levels(Country)</th>\n",
       "      <th>Life expectancy(years) (Country)</th>\n",
       "      <th>Pollution(Index score) (City)</th>\n",
       "      <th>Annual avg. hours worked</th>\n",
       "      <th>Happiness levels(Country)</th>\n",
       "      <th>Outdoor activities(City)</th>\n",
       "      <th>Number of take out places(City)</th>\n",
       "      <th>Cost of a monthly gym membership(City)</th>\n",
       "    </tr>\n",
       "  </thead>\n",
       "  <tbody>\n",
       "    <tr>\n",
       "      <th>0</th>\n",
       "      <td>1858.0</td>\n",
       "      <td>1.92</td>\n",
       "      <td>20.4</td>\n",
       "      <td>81.2</td>\n",
       "      <td>30.93</td>\n",
       "      <td>1434.0</td>\n",
       "      <td>7.44</td>\n",
       "      <td>422.0</td>\n",
       "      <td>1048.0</td>\n",
       "      <td>34.90</td>\n",
       "    </tr>\n",
       "    <tr>\n",
       "      <th>1</th>\n",
       "      <td>2636.0</td>\n",
       "      <td>1.48</td>\n",
       "      <td>29.0</td>\n",
       "      <td>82.1</td>\n",
       "      <td>26.86</td>\n",
       "      <td>1712.0</td>\n",
       "      <td>7.22</td>\n",
       "      <td>406.0</td>\n",
       "      <td>1103.0</td>\n",
       "      <td>41.66</td>\n",
       "    </tr>\n",
       "    <tr>\n",
       "      <th>2</th>\n",
       "      <td>1884.0</td>\n",
       "      <td>1.94</td>\n",
       "      <td>20.1</td>\n",
       "      <td>81.0</td>\n",
       "      <td>17.33</td>\n",
       "      <td>1501.0</td>\n",
       "      <td>7.29</td>\n",
       "      <td>132.0</td>\n",
       "      <td>1008.0</td>\n",
       "      <td>25.74</td>\n",
       "    </tr>\n",
       "    <tr>\n",
       "      <th>3</th>\n",
       "      <td>1821.0</td>\n",
       "      <td>1.72</td>\n",
       "      <td>20.6</td>\n",
       "      <td>81.8</td>\n",
       "      <td>19.63</td>\n",
       "      <td>1452.0</td>\n",
       "      <td>7.35</td>\n",
       "      <td>129.0</td>\n",
       "      <td>598.0</td>\n",
       "      <td>37.31</td>\n",
       "    </tr>\n",
       "    <tr>\n",
       "      <th>4</th>\n",
       "      <td>1630.0</td>\n",
       "      <td>2.19</td>\n",
       "      <td>19.7</td>\n",
       "      <td>79.8</td>\n",
       "      <td>21.24</td>\n",
       "      <td>1380.0</td>\n",
       "      <td>7.64</td>\n",
       "      <td>154.0</td>\n",
       "      <td>523.0</td>\n",
       "      <td>32.53</td>\n",
       "    </tr>\n",
       "  </tbody>\n",
       "</table>\n",
       "</div>"
      ],
      "text/plain": [
       "   Sunshine hours(City)  Cost of a bottle of water(City)  \\\n",
       "0                1858.0                             1.92   \n",
       "1                2636.0                             1.48   \n",
       "2                1884.0                             1.94   \n",
       "3                1821.0                             1.72   \n",
       "4                1630.0                             2.19   \n",
       "\n",
       "   Obesity levels(Country)  Life expectancy(years) (Country)  \\\n",
       "0                     20.4                              81.2   \n",
       "1                     29.0                              82.1   \n",
       "2                     20.1                              81.0   \n",
       "3                     20.6                              81.8   \n",
       "4                     19.7                              79.8   \n",
       "\n",
       "   Pollution(Index score) (City)  Annual avg. hours worked  \\\n",
       "0                          30.93                    1434.0   \n",
       "1                          26.86                    1712.0   \n",
       "2                          17.33                    1501.0   \n",
       "3                          19.63                    1452.0   \n",
       "4                          21.24                    1380.0   \n",
       "\n",
       "   Happiness levels(Country)  Outdoor activities(City)  \\\n",
       "0                       7.44                     422.0   \n",
       "1                       7.22                     406.0   \n",
       "2                       7.29                     132.0   \n",
       "3                       7.35                     129.0   \n",
       "4                       7.64                     154.0   \n",
       "\n",
       "   Number of take out places(City)  Cost of a monthly gym membership(City)  \n",
       "0                           1048.0                                   34.90  \n",
       "1                           1103.0                                   41.66  \n",
       "2                           1008.0                                   25.74  \n",
       "3                            598.0                                   37.31  \n",
       "4                            523.0                                   32.53  "
      ]
     },
     "execution_count": 28,
     "metadata": {},
     "output_type": "execute_result"
    }
   ],
   "source": [
    "Healthy_Pred = Healthy.drop('City',axis=1)\n",
    "Healthy_Pred.head()"
   ]
  },
  {
   "cell_type": "code",
   "execution_count": 29,
   "id": "e441ea1a",
   "metadata": {
    "execution": {
     "iopub.execute_input": "2023-01-12T08:16:07.292084Z",
     "iopub.status.busy": "2023-01-12T08:16:07.291436Z",
     "iopub.status.idle": "2023-01-12T08:16:07.294365Z",
     "shell.execute_reply": "2023-01-12T08:16:07.293772Z",
     "shell.execute_reply.started": "2022-03-05T09:55:01.170267Z"
    },
    "papermill": {
     "duration": 0.100151,
     "end_time": "2023-01-12T08:16:07.294515",
     "exception": false,
     "start_time": "2023-01-12T08:16:07.194364",
     "status": "completed"
    },
    "tags": []
   },
   "outputs": [],
   "source": [
    "from sklearn.preprocessing import StandardScaler\n",
    "from sklearn.model_selection import train_test_split"
   ]
  },
  {
   "cell_type": "code",
   "execution_count": 30,
   "id": "dd62f66b",
   "metadata": {
    "execution": {
     "iopub.execute_input": "2023-01-12T08:16:07.480472Z",
     "iopub.status.busy": "2023-01-12T08:16:07.479444Z",
     "iopub.status.idle": "2023-01-12T08:16:07.498402Z",
     "shell.execute_reply": "2023-01-12T08:16:07.497722Z",
     "shell.execute_reply.started": "2022-03-05T09:55:01.177714Z"
    },
    "papermill": {
     "duration": 0.113384,
     "end_time": "2023-01-12T08:16:07.498550",
     "exception": false,
     "start_time": "2023-01-12T08:16:07.385166",
     "status": "completed"
    },
    "tags": []
   },
   "outputs": [
    {
     "data": {
      "text/html": [
       "<div>\n",
       "<style scoped>\n",
       "    .dataframe tbody tr th:only-of-type {\n",
       "        vertical-align: middle;\n",
       "    }\n",
       "\n",
       "    .dataframe tbody tr th {\n",
       "        vertical-align: top;\n",
       "    }\n",
       "\n",
       "    .dataframe thead th {\n",
       "        text-align: right;\n",
       "    }\n",
       "</style>\n",
       "<table border=\"1\" class=\"dataframe\">\n",
       "  <thead>\n",
       "    <tr style=\"text-align: right;\">\n",
       "      <th></th>\n",
       "      <th>Sunshine hours(City)</th>\n",
       "      <th>Cost of a bottle of water(City)</th>\n",
       "      <th>Obesity levels(Country)</th>\n",
       "      <th>Life expectancy(years) (Country)</th>\n",
       "      <th>Pollution(Index score) (City)</th>\n",
       "      <th>Annual avg. hours worked</th>\n",
       "      <th>Outdoor activities(City)</th>\n",
       "      <th>Number of take out places(City)</th>\n",
       "      <th>Cost of a monthly gym membership(City)</th>\n",
       "    </tr>\n",
       "  </thead>\n",
       "  <tbody>\n",
       "    <tr>\n",
       "      <th>20</th>\n",
       "      <td>3311.0</td>\n",
       "      <td>1.63</td>\n",
       "      <td>26.1</td>\n",
       "      <td>81.9</td>\n",
       "      <td>47.28</td>\n",
       "      <td>1898.0</td>\n",
       "      <td>139.0</td>\n",
       "      <td>420.0</td>\n",
       "      <td>58.31</td>\n",
       "    </tr>\n",
       "    <tr>\n",
       "      <th>7</th>\n",
       "      <td>1626.0</td>\n",
       "      <td>1.55</td>\n",
       "      <td>22.3</td>\n",
       "      <td>80.6</td>\n",
       "      <td>39.41</td>\n",
       "      <td>1386.0</td>\n",
       "      <td>254.0</td>\n",
       "      <td>1729.0</td>\n",
       "      <td>26.11</td>\n",
       "    </tr>\n",
       "    <tr>\n",
       "      <th>41</th>\n",
       "      <td>2535.0</td>\n",
       "      <td>1.32</td>\n",
       "      <td>36.2</td>\n",
       "      <td>78.8</td>\n",
       "      <td>57.36</td>\n",
       "      <td>1779.0</td>\n",
       "      <td>359.0</td>\n",
       "      <td>3081.0</td>\n",
       "      <td>64.66</td>\n",
       "    </tr>\n",
       "    <tr>\n",
       "      <th>18</th>\n",
       "      <td>1662.0</td>\n",
       "      <td>1.95</td>\n",
       "      <td>22.3</td>\n",
       "      <td>80.6</td>\n",
       "      <td>37.78</td>\n",
       "      <td>1386.0</td>\n",
       "      <td>23.0</td>\n",
       "      <td>551.0</td>\n",
       "      <td>39.01</td>\n",
       "    </tr>\n",
       "    <tr>\n",
       "      <th>21</th>\n",
       "      <td>2218.0</td>\n",
       "      <td>0.15</td>\n",
       "      <td>32.1</td>\n",
       "      <td>74.7</td>\n",
       "      <td>69.49</td>\n",
       "      <td>1832.0</td>\n",
       "      <td>419.0</td>\n",
       "      <td>934.0</td>\n",
       "      <td>16.97</td>\n",
       "    </tr>\n",
       "  </tbody>\n",
       "</table>\n",
       "</div>"
      ],
      "text/plain": [
       "    Sunshine hours(City)  Cost of a bottle of water(City)  \\\n",
       "20                3311.0                             1.63   \n",
       "7                 1626.0                             1.55   \n",
       "41                2535.0                             1.32   \n",
       "18                1662.0                             1.95   \n",
       "21                2218.0                             0.15   \n",
       "\n",
       "    Obesity levels(Country)  Life expectancy(years) (Country)  \\\n",
       "20                     26.1                              81.9   \n",
       "7                      22.3                              80.6   \n",
       "41                     36.2                              78.8   \n",
       "18                     22.3                              80.6   \n",
       "21                     32.1                              74.7   \n",
       "\n",
       "    Pollution(Index score) (City)  Annual avg. hours worked  \\\n",
       "20                          47.28                    1898.0   \n",
       "7                           39.41                    1386.0   \n",
       "41                          57.36                    1779.0   \n",
       "18                          37.78                    1386.0   \n",
       "21                          69.49                    1832.0   \n",
       "\n",
       "    Outdoor activities(City)  Number of take out places(City)  \\\n",
       "20                     139.0                            420.0   \n",
       "7                      254.0                           1729.0   \n",
       "41                     359.0                           3081.0   \n",
       "18                      23.0                            551.0   \n",
       "21                     419.0                            934.0   \n",
       "\n",
       "    Cost of a monthly gym membership(City)  \n",
       "20                                   58.31  \n",
       "7                                    26.11  \n",
       "41                                   64.66  \n",
       "18                                   39.01  \n",
       "21                                   16.97  "
      ]
     },
     "execution_count": 30,
     "metadata": {},
     "output_type": "execute_result"
    }
   ],
   "source": [
    "X = Healthy_Pred.drop('Happiness levels(Country)',axis=1)\n",
    "y = Healthy_Pred['Happiness levels(Country)']\n",
    "X_train, X_test, y_train, y_test = train_test_split(X,y,train_size=0.7,random_state=100)\n",
    "X_train.head()"
   ]
  },
  {
   "cell_type": "code",
   "execution_count": 31,
   "id": "ba511d50",
   "metadata": {
    "execution": {
     "iopub.execute_input": "2023-01-12T08:16:07.683753Z",
     "iopub.status.busy": "2023-01-12T08:16:07.683040Z",
     "iopub.status.idle": "2023-01-12T08:16:07.698564Z",
     "shell.execute_reply": "2023-01-12T08:16:07.699053Z",
     "shell.execute_reply.started": "2022-03-05T09:55:01.204658Z"
    },
    "papermill": {
     "duration": 0.111924,
     "end_time": "2023-01-12T08:16:07.699272",
     "exception": false,
     "start_time": "2023-01-12T08:16:07.587348",
     "status": "completed"
    },
    "tags": []
   },
   "outputs": [
    {
     "data": {
      "text/html": [
       "<div>\n",
       "<style scoped>\n",
       "    .dataframe tbody tr th:only-of-type {\n",
       "        vertical-align: middle;\n",
       "    }\n",
       "\n",
       "    .dataframe tbody tr th {\n",
       "        vertical-align: top;\n",
       "    }\n",
       "\n",
       "    .dataframe thead th {\n",
       "        text-align: right;\n",
       "    }\n",
       "</style>\n",
       "<table border=\"1\" class=\"dataframe\">\n",
       "  <thead>\n",
       "    <tr style=\"text-align: right;\">\n",
       "      <th></th>\n",
       "      <th>Sunshine hours(City)</th>\n",
       "      <th>Cost of a bottle of water(City)</th>\n",
       "      <th>Obesity levels(Country)</th>\n",
       "      <th>Life expectancy(years) (Country)</th>\n",
       "      <th>Pollution(Index score) (City)</th>\n",
       "      <th>Annual avg. hours worked</th>\n",
       "      <th>Outdoor activities(City)</th>\n",
       "      <th>Number of take out places(City)</th>\n",
       "      <th>Cost of a monthly gym membership(City)</th>\n",
       "    </tr>\n",
       "  </thead>\n",
       "  <tbody>\n",
       "    <tr>\n",
       "      <th>0</th>\n",
       "      <td>1.781379</td>\n",
       "      <td>0.680680</td>\n",
       "      <td>0.404037</td>\n",
       "      <td>0.712019</td>\n",
       "      <td>-0.177094</td>\n",
       "      <td>1.458412</td>\n",
       "      <td>-0.772843</td>\n",
       "      <td>-0.876574</td>\n",
       "      <td>1.351445</td>\n",
       "    </tr>\n",
       "    <tr>\n",
       "      <th>1</th>\n",
       "      <td>-1.146273</td>\n",
       "      <td>0.568711</td>\n",
       "      <td>-0.006482</td>\n",
       "      <td>0.485889</td>\n",
       "      <td>-0.536796</td>\n",
       "      <td>-1.901333</td>\n",
       "      <td>0.160412</td>\n",
       "      <td>0.130920</td>\n",
       "      <td>-0.847396</td>\n",
       "    </tr>\n",
       "    <tr>\n",
       "      <th>2</th>\n",
       "      <td>0.433096</td>\n",
       "      <td>0.246799</td>\n",
       "      <td>1.495152</td>\n",
       "      <td>0.172786</td>\n",
       "      <td>0.283618</td>\n",
       "      <td>0.677534</td>\n",
       "      <td>1.012514</td>\n",
       "      <td>1.171511</td>\n",
       "      <td>1.785068</td>\n",
       "    </tr>\n",
       "    <tr>\n",
       "      <th>3</th>\n",
       "      <td>-1.083723</td>\n",
       "      <td>1.128558</td>\n",
       "      <td>-0.006482</td>\n",
       "      <td>0.485889</td>\n",
       "      <td>-0.611296</td>\n",
       "      <td>-1.901333</td>\n",
       "      <td>-1.714213</td>\n",
       "      <td>-0.775748</td>\n",
       "      <td>0.033506</td>\n",
       "    </tr>\n",
       "    <tr>\n",
       "      <th>4</th>\n",
       "      <td>-0.117685</td>\n",
       "      <td>-1.390753</td>\n",
       "      <td>1.052224</td>\n",
       "      <td>-0.540392</td>\n",
       "      <td>0.838025</td>\n",
       "      <td>1.025320</td>\n",
       "      <td>1.499430</td>\n",
       "      <td>-0.480965</td>\n",
       "      <td>-1.471539</td>\n",
       "    </tr>\n",
       "  </tbody>\n",
       "</table>\n",
       "</div>"
      ],
      "text/plain": [
       "   Sunshine hours(City)  Cost of a bottle of water(City)  \\\n",
       "0              1.781379                         0.680680   \n",
       "1             -1.146273                         0.568711   \n",
       "2              0.433096                         0.246799   \n",
       "3             -1.083723                         1.128558   \n",
       "4             -0.117685                        -1.390753   \n",
       "\n",
       "   Obesity levels(Country)  Life expectancy(years) (Country)  \\\n",
       "0                 0.404037                          0.712019   \n",
       "1                -0.006482                          0.485889   \n",
       "2                 1.495152                          0.172786   \n",
       "3                -0.006482                          0.485889   \n",
       "4                 1.052224                         -0.540392   \n",
       "\n",
       "   Pollution(Index score) (City)  Annual avg. hours worked  \\\n",
       "0                      -0.177094                  1.458412   \n",
       "1                      -0.536796                 -1.901333   \n",
       "2                       0.283618                  0.677534   \n",
       "3                      -0.611296                 -1.901333   \n",
       "4                       0.838025                  1.025320   \n",
       "\n",
       "   Outdoor activities(City)  Number of take out places(City)  \\\n",
       "0                 -0.772843                        -0.876574   \n",
       "1                  0.160412                         0.130920   \n",
       "2                  1.012514                         1.171511   \n",
       "3                 -1.714213                        -0.775748   \n",
       "4                  1.499430                        -0.480965   \n",
       "\n",
       "   Cost of a monthly gym membership(City)  \n",
       "0                                1.351445  \n",
       "1                               -0.847396  \n",
       "2                                1.785068  \n",
       "3                                0.033506  \n",
       "4                               -1.471539  "
      ]
     },
     "execution_count": 31,
     "metadata": {},
     "output_type": "execute_result"
    }
   ],
   "source": [
    "col = X_train.columns\n",
    "scaler = StandardScaler()\n",
    "X_train = scaler.fit_transform(X_train)\n",
    "X_train = pd.DataFrame(X_train,columns=col)\n",
    "X_train.head()"
   ]
  },
  {
   "cell_type": "code",
   "execution_count": 32,
   "id": "e59b3261",
   "metadata": {
    "execution": {
     "iopub.execute_input": "2023-01-12T08:16:07.884352Z",
     "iopub.status.busy": "2023-01-12T08:16:07.883607Z",
     "iopub.status.idle": "2023-01-12T08:16:07.900191Z",
     "shell.execute_reply": "2023-01-12T08:16:07.900741Z",
     "shell.execute_reply.started": "2022-03-05T09:55:01.224852Z"
    },
    "papermill": {
     "duration": 0.112075,
     "end_time": "2023-01-12T08:16:07.900939",
     "exception": false,
     "start_time": "2023-01-12T08:16:07.788864",
     "status": "completed"
    },
    "tags": []
   },
   "outputs": [
    {
     "data": {
      "text/html": [
       "<div>\n",
       "<style scoped>\n",
       "    .dataframe tbody tr th:only-of-type {\n",
       "        vertical-align: middle;\n",
       "    }\n",
       "\n",
       "    .dataframe tbody tr th {\n",
       "        vertical-align: top;\n",
       "    }\n",
       "\n",
       "    .dataframe thead th {\n",
       "        text-align: right;\n",
       "    }\n",
       "</style>\n",
       "<table border=\"1\" class=\"dataframe\">\n",
       "  <thead>\n",
       "    <tr style=\"text-align: right;\">\n",
       "      <th></th>\n",
       "      <th>Sunshine hours(City)</th>\n",
       "      <th>Cost of a bottle of water(City)</th>\n",
       "      <th>Obesity levels(Country)</th>\n",
       "      <th>Life expectancy(years) (Country)</th>\n",
       "      <th>Pollution(Index score) (City)</th>\n",
       "      <th>Annual avg. hours worked</th>\n",
       "      <th>Outdoor activities(City)</th>\n",
       "      <th>Number of take out places(City)</th>\n",
       "      <th>Cost of a monthly gym membership(City)</th>\n",
       "    </tr>\n",
       "  </thead>\n",
       "  <tbody>\n",
       "    <tr>\n",
       "      <th>0</th>\n",
       "      <td>0.839666</td>\n",
       "      <td>-0.508994</td>\n",
       "      <td>-1.951043</td>\n",
       "      <td>0.938149</td>\n",
       "      <td>0.162415</td>\n",
       "      <td>-0.208337</td>\n",
       "      <td>-1.616830</td>\n",
       "      <td>-0.784984</td>\n",
       "      <td>1.184825</td>\n",
       "    </tr>\n",
       "    <tr>\n",
       "      <th>1</th>\n",
       "      <td>-0.381782</td>\n",
       "      <td>-0.774921</td>\n",
       "      <td>-1.907831</td>\n",
       "      <td>0.607652</td>\n",
       "      <td>0.304642</td>\n",
       "      <td>1.911190</td>\n",
       "      <td>-0.732267</td>\n",
       "      <td>-0.900434</td>\n",
       "      <td>0.308020</td>\n",
       "    </tr>\n",
       "    <tr>\n",
       "      <th>2</th>\n",
       "      <td>-0.541640</td>\n",
       "      <td>2.066301</td>\n",
       "      <td>-0.308969</td>\n",
       "      <td>0.833781</td>\n",
       "      <td>-1.092574</td>\n",
       "      <td>-0.779231</td>\n",
       "      <td>-1.543793</td>\n",
       "      <td>-0.858102</td>\n",
       "      <td>2.149720</td>\n",
       "    </tr>\n",
       "    <tr>\n",
       "      <th>3</th>\n",
       "      <td>0.386184</td>\n",
       "      <td>0.078845</td>\n",
       "      <td>1.495152</td>\n",
       "      <td>0.172786</td>\n",
       "      <td>-0.357630</td>\n",
       "      <td>0.677534</td>\n",
       "      <td>-0.513155</td>\n",
       "      <td>-0.183874</td>\n",
       "      <td>0.178957</td>\n",
       "    </tr>\n",
       "    <tr>\n",
       "      <th>4</th>\n",
       "      <td>-1.134110</td>\n",
       "      <td>0.022860</td>\n",
       "      <td>0.587690</td>\n",
       "      <td>0.451100</td>\n",
       "      <td>0.354461</td>\n",
       "      <td>-0.903909</td>\n",
       "      <td>1.613043</td>\n",
       "      <td>3.739122</td>\n",
       "      <td>0.286168</td>\n",
       "    </tr>\n",
       "  </tbody>\n",
       "</table>\n",
       "</div>"
      ],
      "text/plain": [
       "   Sunshine hours(City)  Cost of a bottle of water(City)  \\\n",
       "0              0.839666                        -0.508994   \n",
       "1             -0.381782                        -0.774921   \n",
       "2             -0.541640                         2.066301   \n",
       "3              0.386184                         0.078845   \n",
       "4             -1.134110                         0.022860   \n",
       "\n",
       "   Obesity levels(Country)  Life expectancy(years) (Country)  \\\n",
       "0                -1.951043                          0.938149   \n",
       "1                -1.907831                          0.607652   \n",
       "2                -0.308969                          0.833781   \n",
       "3                 1.495152                          0.172786   \n",
       "4                 0.587690                          0.451100   \n",
       "\n",
       "   Pollution(Index score) (City)  Annual avg. hours worked  \\\n",
       "0                       0.162415                 -0.208337   \n",
       "1                       0.304642                  1.911190   \n",
       "2                      -1.092574                 -0.779231   \n",
       "3                      -0.357630                  0.677534   \n",
       "4                       0.354461                 -0.903909   \n",
       "\n",
       "   Outdoor activities(City)  Number of take out places(City)  \\\n",
       "0                 -1.616830                        -0.784984   \n",
       "1                 -0.732267                        -0.900434   \n",
       "2                 -1.543793                        -0.858102   \n",
       "3                 -0.513155                        -0.183874   \n",
       "4                  1.613043                         3.739122   \n",
       "\n",
       "   Cost of a monthly gym membership(City)  \n",
       "0                                1.184825  \n",
       "1                                0.308020  \n",
       "2                                2.149720  \n",
       "3                                0.178957  \n",
       "4                                0.286168  "
      ]
     },
     "execution_count": 32,
     "metadata": {},
     "output_type": "execute_result"
    }
   ],
   "source": [
    "X_test = scaler.transform(X_test)\n",
    "X_test = pd.DataFrame(X_test,columns=col)\n",
    "X_test.head()"
   ]
  },
  {
   "cell_type": "code",
   "execution_count": 33,
   "id": "766da99e",
   "metadata": {
    "execution": {
     "iopub.execute_input": "2023-01-12T08:16:08.088091Z",
     "iopub.status.busy": "2023-01-12T08:16:08.087309Z",
     "iopub.status.idle": "2023-01-12T08:16:08.089494Z",
     "shell.execute_reply": "2023-01-12T08:16:08.090097Z",
     "shell.execute_reply.started": "2022-03-05T09:55:01.244051Z"
    },
    "papermill": {
     "duration": 0.096924,
     "end_time": "2023-01-12T08:16:08.090308",
     "exception": false,
     "start_time": "2023-01-12T08:16:07.993384",
     "status": "completed"
    },
    "tags": []
   },
   "outputs": [],
   "source": [
    "#Ridge Regression"
   ]
  },
  {
   "cell_type": "code",
   "execution_count": 34,
   "id": "ab7f57d5",
   "metadata": {
    "execution": {
     "iopub.execute_input": "2023-01-12T08:16:08.276664Z",
     "iopub.status.busy": "2023-01-12T08:16:08.275989Z",
     "iopub.status.idle": "2023-01-12T08:16:08.279902Z",
     "shell.execute_reply": "2023-01-12T08:16:08.280426Z",
     "shell.execute_reply.started": "2022-03-05T09:55:01.254093Z"
    },
    "papermill": {
     "duration": 0.098454,
     "end_time": "2023-01-12T08:16:08.280607",
     "exception": false,
     "start_time": "2023-01-12T08:16:08.182153",
     "status": "completed"
    },
    "tags": []
   },
   "outputs": [],
   "source": [
    "from sklearn.linear_model import Ridge \n",
    "from sklearn.model_selection import GridSearchCV"
   ]
  },
  {
   "cell_type": "code",
   "execution_count": 35,
   "id": "4f8840ef",
   "metadata": {
    "execution": {
     "iopub.execute_input": "2023-01-12T08:16:08.468255Z",
     "iopub.status.busy": "2023-01-12T08:16:08.467500Z",
     "iopub.status.idle": "2023-01-12T08:16:10.366426Z",
     "shell.execute_reply": "2023-01-12T08:16:10.367646Z",
     "shell.execute_reply.started": "2022-03-05T09:55:01.266622Z"
    },
    "papermill": {
     "duration": 1.996724,
     "end_time": "2023-01-12T08:16:10.368011",
     "exception": false,
     "start_time": "2023-01-12T08:16:08.371287",
     "status": "completed"
    },
    "tags": []
   },
   "outputs": [
    {
     "name": "stdout",
     "output_type": "stream",
     "text": [
      "Fitting 5 folds for each of 9 candidates, totalling 45 fits\n"
     ]
    },
    {
     "data": {
      "text/plain": [
       "GridSearchCV(estimator=Ridge(random_state=100), n_jobs=-1,\n",
       "             param_grid={'alpha': [0.0001, 0.001, 0.01, 0.1, 1, 10, 100, 1000,\n",
       "                                   10000]},\n",
       "             scoring='r2', verbose=1)"
      ]
     },
     "execution_count": 35,
     "metadata": {},
     "output_type": "execute_result"
    }
   ],
   "source": [
    "Model = Ridge(random_state=100)\n",
    "\n",
    "params = {'alpha':[0.0001,0.001,0.01,0.1,1,10,100,1000,10000]}\n",
    "\n",
    "grid_search = GridSearchCV(estimator=Model,param_grid=params,scoring='r2',verbose=1,n_jobs=-1)\n",
    "grid_search.fit(X_train,y_train)"
   ]
  },
  {
   "cell_type": "code",
   "execution_count": 36,
   "id": "2c9b324d",
   "metadata": {
    "execution": {
     "iopub.execute_input": "2023-01-12T08:16:10.628751Z",
     "iopub.status.busy": "2023-01-12T08:16:10.626161Z",
     "iopub.status.idle": "2023-01-12T08:16:10.630827Z",
     "shell.execute_reply": "2023-01-12T08:16:10.631452Z",
     "shell.execute_reply.started": "2022-03-05T09:55:03.144206Z"
    },
    "papermill": {
     "duration": 0.105184,
     "end_time": "2023-01-12T08:16:10.631646",
     "exception": false,
     "start_time": "2023-01-12T08:16:10.526462",
     "status": "completed"
    },
    "tags": []
   },
   "outputs": [],
   "source": [
    "Model_best = grid_search.best_estimator_"
   ]
  },
  {
   "cell_type": "code",
   "execution_count": 37,
   "id": "5b39b050",
   "metadata": {
    "execution": {
     "iopub.execute_input": "2023-01-12T08:16:10.824005Z",
     "iopub.status.busy": "2023-01-12T08:16:10.822179Z",
     "iopub.status.idle": "2023-01-12T08:16:10.827661Z",
     "shell.execute_reply": "2023-01-12T08:16:10.826856Z",
     "shell.execute_reply.started": "2022-03-05T09:55:03.1527Z"
    },
    "papermill": {
     "duration": 0.100463,
     "end_time": "2023-01-12T08:16:10.827826",
     "exception": false,
     "start_time": "2023-01-12T08:16:10.727363",
     "status": "completed"
    },
    "tags": []
   },
   "outputs": [],
   "source": [
    "from sklearn.metrics import r2_score"
   ]
  },
  {
   "cell_type": "code",
   "execution_count": 38,
   "id": "3750c958",
   "metadata": {
    "execution": {
     "iopub.execute_input": "2023-01-12T08:16:11.023049Z",
     "iopub.status.busy": "2023-01-12T08:16:11.022192Z",
     "iopub.status.idle": "2023-01-12T08:16:11.026423Z",
     "shell.execute_reply": "2023-01-12T08:16:11.025738Z",
     "shell.execute_reply.started": "2022-03-05T09:55:03.172924Z"
    },
    "papermill": {
     "duration": 0.105187,
     "end_time": "2023-01-12T08:16:11.026586",
     "exception": false,
     "start_time": "2023-01-12T08:16:10.921399",
     "status": "completed"
    },
    "tags": []
   },
   "outputs": [
    {
     "name": "stdout",
     "output_type": "stream",
     "text": [
      "Train R Squared Score : 0.8222455169845134\n",
      "Test R Squared Score : 0.7633738377458963\n"
     ]
    }
   ],
   "source": [
    "y_train_pred = Model_best.predict(X_train)\n",
    "y_test_pred = Model_best.predict(X_test)\n",
    "\n",
    "print('Train R Squared Score :',r2_score(y_train,y_train_pred))\n",
    "print('Test R Squared Score :',r2_score(y_test,y_test_pred))"
   ]
  },
  {
   "cell_type": "code",
   "execution_count": 39,
   "id": "e4bc7294",
   "metadata": {
    "execution": {
     "iopub.execute_input": "2023-01-12T08:16:11.227725Z",
     "iopub.status.busy": "2023-01-12T08:16:11.226796Z",
     "iopub.status.idle": "2023-01-12T08:16:11.231070Z",
     "shell.execute_reply": "2023-01-12T08:16:11.230408Z",
     "shell.execute_reply.started": "2022-03-05T09:55:03.20375Z"
    },
    "papermill": {
     "duration": 0.111508,
     "end_time": "2023-01-12T08:16:11.231239",
     "exception": false,
     "start_time": "2023-01-12T08:16:11.119731",
     "status": "completed"
    },
    "tags": []
   },
   "outputs": [
    {
     "data": {
      "text/html": [
       "<div>\n",
       "<style scoped>\n",
       "    .dataframe tbody tr th:only-of-type {\n",
       "        vertical-align: middle;\n",
       "    }\n",
       "\n",
       "    .dataframe tbody tr th {\n",
       "        vertical-align: top;\n",
       "    }\n",
       "\n",
       "    .dataframe thead th {\n",
       "        text-align: right;\n",
       "    }\n",
       "</style>\n",
       "<table border=\"1\" class=\"dataframe\">\n",
       "  <thead>\n",
       "    <tr style=\"text-align: right;\">\n",
       "      <th></th>\n",
       "      <th>Coefficient</th>\n",
       "    </tr>\n",
       "    <tr>\n",
       "      <th>Feature</th>\n",
       "      <th></th>\n",
       "    </tr>\n",
       "  </thead>\n",
       "  <tbody>\n",
       "    <tr>\n",
       "      <th>Life expectancy(years) (Country)</th>\n",
       "      <td>0.252846</td>\n",
       "    </tr>\n",
       "    <tr>\n",
       "      <th>Cost of a bottle of water(City)</th>\n",
       "      <td>0.246715</td>\n",
       "    </tr>\n",
       "    <tr>\n",
       "      <th>Obesity levels(Country)</th>\n",
       "      <td>0.159363</td>\n",
       "    </tr>\n",
       "    <tr>\n",
       "      <th>Number of take out places(City)</th>\n",
       "      <td>0.045527</td>\n",
       "    </tr>\n",
       "    <tr>\n",
       "      <th>Cost of a monthly gym membership(City)</th>\n",
       "      <td>0.022416</td>\n",
       "    </tr>\n",
       "    <tr>\n",
       "      <th>Sunshine hours(City)</th>\n",
       "      <td>0.007499</td>\n",
       "    </tr>\n",
       "    <tr>\n",
       "      <th>Outdoor activities(City)</th>\n",
       "      <td>-0.070956</td>\n",
       "    </tr>\n",
       "    <tr>\n",
       "      <th>Annual avg. hours worked</th>\n",
       "      <td>-0.093478</td>\n",
       "    </tr>\n",
       "    <tr>\n",
       "      <th>Pollution(Index score) (City)</th>\n",
       "      <td>-0.223373</td>\n",
       "    </tr>\n",
       "  </tbody>\n",
       "</table>\n",
       "</div>"
      ],
      "text/plain": [
       "                                        Coefficient\n",
       "Feature                                            \n",
       "Life expectancy(years) (Country)           0.252846\n",
       "Cost of a bottle of water(City)            0.246715\n",
       "Obesity levels(Country)                    0.159363\n",
       "Number of take out places(City)            0.045527\n",
       "Cost of a monthly gym membership(City)     0.022416\n",
       "Sunshine hours(City)                       0.007499\n",
       "Outdoor activities(City)                  -0.070956\n",
       "Annual avg. hours worked                  -0.093478\n",
       "Pollution(Index score) (City)             -0.223373"
      ]
     },
     "execution_count": 39,
     "metadata": {},
     "output_type": "execute_result"
    }
   ],
   "source": [
    "Feature_Coef = pd.DataFrame({'Feature':X_train.columns,'Coefficient':Model_best.coef_})\n",
    "Feature_Coef.sort_values('Coefficient',ascending=False,inplace=True)\n",
    "Feature_Coef.set_index('Feature',inplace=True)\n",
    "Feature_Coef"
   ]
  },
  {
   "cell_type": "code",
   "execution_count": 40,
   "id": "afa7c14e",
   "metadata": {
    "execution": {
     "iopub.execute_input": "2023-01-12T08:16:11.423269Z",
     "iopub.status.busy": "2023-01-12T08:16:11.422117Z",
     "iopub.status.idle": "2023-01-12T08:16:11.424716Z",
     "shell.execute_reply": "2023-01-12T08:16:11.424046Z",
     "shell.execute_reply.started": "2022-03-05T09:55:03.245169Z"
    },
    "papermill": {
     "duration": 0.101349,
     "end_time": "2023-01-12T08:16:11.424866",
     "exception": false,
     "start_time": "2023-01-12T08:16:11.323517",
     "status": "completed"
    },
    "tags": []
   },
   "outputs": [],
   "source": [
    "#As get pretty good R squared scores. We will now try some Ensemble models like random forests and gradient boosting."
   ]
  },
  {
   "cell_type": "code",
   "execution_count": 41,
   "id": "a16b6a3c",
   "metadata": {
    "execution": {
     "iopub.execute_input": "2023-01-12T08:16:11.614305Z",
     "iopub.status.busy": "2023-01-12T08:16:11.613499Z",
     "iopub.status.idle": "2023-01-12T08:16:11.704494Z",
     "shell.execute_reply": "2023-01-12T08:16:11.704998Z",
     "shell.execute_reply.started": "2022-03-05T09:55:03.265062Z"
    },
    "papermill": {
     "duration": 0.188613,
     "end_time": "2023-01-12T08:16:11.705204",
     "exception": false,
     "start_time": "2023-01-12T08:16:11.516591",
     "status": "completed"
    },
    "tags": []
   },
   "outputs": [],
   "source": [
    "from sklearn.ensemble import RandomForestRegressor"
   ]
  },
  {
   "cell_type": "code",
   "execution_count": 42,
   "id": "d531ac8a",
   "metadata": {
    "execution": {
     "iopub.execute_input": "2023-01-12T08:16:11.900378Z",
     "iopub.status.busy": "2023-01-12T08:16:11.899240Z",
     "iopub.status.idle": "2023-01-12T08:16:45.866918Z",
     "shell.execute_reply": "2023-01-12T08:16:45.867466Z",
     "shell.execute_reply.started": "2022-03-05T09:55:03.356538Z"
    },
    "papermill": {
     "duration": 34.068975,
     "end_time": "2023-01-12T08:16:45.867656",
     "exception": false,
     "start_time": "2023-01-12T08:16:11.798681",
     "status": "completed"
    },
    "tags": []
   },
   "outputs": [
    {
     "name": "stdout",
     "output_type": "stream",
     "text": [
      "Fitting 5 folds for each of 72 candidates, totalling 360 fits\n"
     ]
    },
    {
     "data": {
      "text/plain": [
       "GridSearchCV(estimator=RandomForestRegressor(n_jobs=-1, random_state=100),\n",
       "             n_jobs=-1,\n",
       "             param_grid={'max_depth': [3, 5, 8, 10, 11, 12],\n",
       "                         'max_features': [0.05, 0.1, 0.15, 0.2],\n",
       "                         'min_samples_leaf': [1, 2, 3], 'n_estimators': [100]},\n",
       "             scoring='r2', verbose=1)"
      ]
     },
     "execution_count": 42,
     "metadata": {},
     "output_type": "execute_result"
    }
   ],
   "source": [
    "Model = RandomForestRegressor(random_state=100,n_jobs=-1)\n",
    "\n",
    "params = {'n_estimators':[100],\n",
    "          'max_depth':[3,5,8,10,11,12],\n",
    "          'min_samples_leaf':[1,2,3],\n",
    "          'max_features':[0.05,0.1,0.15,0.2]}\n",
    "\n",
    "grid_search = GridSearchCV(estimator=Model,param_grid=params,scoring='r2',verbose=1,n_jobs=-1)\n",
    "grid_search.fit(X_train,y_train)"
   ]
  },
  {
   "cell_type": "code",
   "execution_count": 43,
   "id": "3020bca8",
   "metadata": {
    "execution": {
     "iopub.execute_input": "2023-01-12T08:16:46.058622Z",
     "iopub.status.busy": "2023-01-12T08:16:46.057925Z",
     "iopub.status.idle": "2023-01-12T08:16:46.061833Z",
     "shell.execute_reply": "2023-01-12T08:16:46.062399Z",
     "shell.execute_reply.started": "2022-03-05T09:55:38.883889Z"
    },
    "papermill": {
     "duration": 0.100509,
     "end_time": "2023-01-12T08:16:46.062590",
     "exception": false,
     "start_time": "2023-01-12T08:16:45.962081",
     "status": "completed"
    },
    "tags": []
   },
   "outputs": [],
   "source": [
    "Model_best = grid_search.best_estimator_"
   ]
  },
  {
   "cell_type": "code",
   "execution_count": 44,
   "id": "2953d622",
   "metadata": {
    "execution": {
     "iopub.execute_input": "2023-01-12T08:16:46.258463Z",
     "iopub.status.busy": "2023-01-12T08:16:46.257732Z",
     "iopub.status.idle": "2023-01-12T08:16:46.475057Z",
     "shell.execute_reply": "2023-01-12T08:16:46.474499Z",
     "shell.execute_reply.started": "2022-03-05T09:55:38.890161Z"
    },
    "papermill": {
     "duration": 0.317192,
     "end_time": "2023-01-12T08:16:46.475227",
     "exception": false,
     "start_time": "2023-01-12T08:16:46.158035",
     "status": "completed"
    },
    "tags": []
   },
   "outputs": [
    {
     "name": "stdout",
     "output_type": "stream",
     "text": [
      "Train R Squared Score : 0.9484797032090311\n",
      "Test R Squared Score : 0.6092106449847168\n"
     ]
    }
   ],
   "source": [
    "y_train_pred = Model_best.predict(X_train)\n",
    "y_test_pred = Model_best.predict(X_test)\n",
    "\n",
    "print('Train R Squared Score :',r2_score(y_train,y_train_pred))\n",
    "print('Test R Squared Score :',r2_score(y_test,y_test_pred))"
   ]
  },
  {
   "cell_type": "code",
   "execution_count": 45,
   "id": "cbd325b9",
   "metadata": {
    "execution": {
     "iopub.execute_input": "2023-01-12T08:16:46.674880Z",
     "iopub.status.busy": "2023-01-12T08:16:46.673997Z",
     "iopub.status.idle": "2023-01-12T08:16:46.787167Z",
     "shell.execute_reply": "2023-01-12T08:16:46.786413Z",
     "shell.execute_reply.started": "2022-03-05T09:55:39.11693Z"
    },
    "papermill": {
     "duration": 0.215862,
     "end_time": "2023-01-12T08:16:46.787352",
     "exception": false,
     "start_time": "2023-01-12T08:16:46.571490",
     "status": "completed"
    },
    "tags": []
   },
   "outputs": [
    {
     "data": {
      "text/html": [
       "<div>\n",
       "<style scoped>\n",
       "    .dataframe tbody tr th:only-of-type {\n",
       "        vertical-align: middle;\n",
       "    }\n",
       "\n",
       "    .dataframe tbody tr th {\n",
       "        vertical-align: top;\n",
       "    }\n",
       "\n",
       "    .dataframe thead th {\n",
       "        text-align: right;\n",
       "    }\n",
       "</style>\n",
       "<table border=\"1\" class=\"dataframe\">\n",
       "  <thead>\n",
       "    <tr style=\"text-align: right;\">\n",
       "      <th></th>\n",
       "      <th>Importance</th>\n",
       "    </tr>\n",
       "    <tr>\n",
       "      <th>Feature</th>\n",
       "      <th></th>\n",
       "    </tr>\n",
       "  </thead>\n",
       "  <tbody>\n",
       "    <tr>\n",
       "      <th>Life expectancy(years) (Country)</th>\n",
       "      <td>0.171987</td>\n",
       "    </tr>\n",
       "    <tr>\n",
       "      <th>Cost of a bottle of water(City)</th>\n",
       "      <td>0.147237</td>\n",
       "    </tr>\n",
       "    <tr>\n",
       "      <th>Pollution(Index score) (City)</th>\n",
       "      <td>0.136514</td>\n",
       "    </tr>\n",
       "    <tr>\n",
       "      <th>Sunshine hours(City)</th>\n",
       "      <td>0.104362</td>\n",
       "    </tr>\n",
       "    <tr>\n",
       "      <th>Obesity levels(Country)</th>\n",
       "      <td>0.102288</td>\n",
       "    </tr>\n",
       "    <tr>\n",
       "      <th>Annual avg. hours worked</th>\n",
       "      <td>0.099180</td>\n",
       "    </tr>\n",
       "    <tr>\n",
       "      <th>Number of take out places(City)</th>\n",
       "      <td>0.093141</td>\n",
       "    </tr>\n",
       "    <tr>\n",
       "      <th>Cost of a monthly gym membership(City)</th>\n",
       "      <td>0.090108</td>\n",
       "    </tr>\n",
       "    <tr>\n",
       "      <th>Outdoor activities(City)</th>\n",
       "      <td>0.055183</td>\n",
       "    </tr>\n",
       "  </tbody>\n",
       "</table>\n",
       "</div>"
      ],
      "text/plain": [
       "                                        Importance\n",
       "Feature                                           \n",
       "Life expectancy(years) (Country)          0.171987\n",
       "Cost of a bottle of water(City)           0.147237\n",
       "Pollution(Index score) (City)             0.136514\n",
       "Sunshine hours(City)                      0.104362\n",
       "Obesity levels(Country)                   0.102288\n",
       "Annual avg. hours worked                  0.099180\n",
       "Number of take out places(City)           0.093141\n",
       "Cost of a monthly gym membership(City)    0.090108\n",
       "Outdoor activities(City)                  0.055183"
      ]
     },
     "execution_count": 45,
     "metadata": {},
     "output_type": "execute_result"
    }
   ],
   "source": [
    "Feature_Importances = pd.DataFrame({'Feature':X_train.columns,'Importance':Model_best.feature_importances_})\n",
    "Feature_Importances.sort_values('Importance',ascending=False,inplace=True)\n",
    "Feature_Importances.set_index('Feature',inplace=True)\n",
    "Feature_Importances"
   ]
  },
  {
   "cell_type": "code",
   "execution_count": 46,
   "id": "57d0114c",
   "metadata": {
    "execution": {
     "iopub.execute_input": "2023-01-12T08:16:46.984017Z",
     "iopub.status.busy": "2023-01-12T08:16:46.983265Z",
     "iopub.status.idle": "2023-01-12T08:16:46.986950Z",
     "shell.execute_reply": "2023-01-12T08:16:46.986180Z",
     "shell.execute_reply.started": "2022-03-05T09:55:39.234109Z"
    },
    "papermill": {
     "duration": 0.104312,
     "end_time": "2023-01-12T08:16:46.987110",
     "exception": false,
     "start_time": "2023-01-12T08:16:46.882798",
     "status": "completed"
    },
    "tags": []
   },
   "outputs": [],
   "source": [
    "#As we can see the model overfits a lot more than the linear ridge model. We will nowt try gradient boosting. "
   ]
  },
  {
   "cell_type": "code",
   "execution_count": 47,
   "id": "92444c39",
   "metadata": {
    "execution": {
     "iopub.execute_input": "2023-01-12T08:16:47.180924Z",
     "iopub.status.busy": "2023-01-12T08:16:47.180193Z",
     "iopub.status.idle": "2023-01-12T08:16:47.183420Z",
     "shell.execute_reply": "2023-01-12T08:16:47.182844Z",
     "shell.execute_reply.started": "2022-03-05T09:55:39.239749Z"
    },
    "papermill": {
     "duration": 0.102249,
     "end_time": "2023-01-12T08:16:47.183603",
     "exception": false,
     "start_time": "2023-01-12T08:16:47.081354",
     "status": "completed"
    },
    "tags": []
   },
   "outputs": [],
   "source": [
    "from sklearn.ensemble import GradientBoostingRegressor"
   ]
  },
  {
   "cell_type": "code",
   "execution_count": 48,
   "id": "def865c6",
   "metadata": {
    "execution": {
     "iopub.execute_input": "2023-01-12T08:16:47.381412Z",
     "iopub.status.busy": "2023-01-12T08:16:47.380523Z",
     "iopub.status.idle": "2023-01-12T08:17:05.423962Z",
     "shell.execute_reply": "2023-01-12T08:17:05.423168Z",
     "shell.execute_reply.started": "2022-03-05T09:55:39.252658Z"
    },
    "papermill": {
     "duration": 18.145308,
     "end_time": "2023-01-12T08:17:05.424112",
     "exception": false,
     "start_time": "2023-01-12T08:16:47.278804",
     "status": "completed"
    },
    "tags": []
   },
   "outputs": [
    {
     "name": "stdout",
     "output_type": "stream",
     "text": [
      "Fitting 5 folds for each of 288 candidates, totalling 1440 fits\n"
     ]
    },
    {
     "data": {
      "text/plain": [
       "GridSearchCV(estimator=GradientBoostingRegressor(random_state=100), n_jobs=-1,\n",
       "             param_grid={'learning_rate': [0.1, 0.2, 0.3, 0.4],\n",
       "                         'max_depth': [3, 5, 8, 10, 11, 12],\n",
       "                         'max_features': [0.05, 0.1, 0.15, 0.2],\n",
       "                         'min_samples_leaf': [1, 2, 3]},\n",
       "             scoring='r2', verbose=1)"
      ]
     },
     "execution_count": 48,
     "metadata": {},
     "output_type": "execute_result"
    }
   ],
   "source": [
    "Model = GradientBoostingRegressor(random_state=100)\n",
    "\n",
    "params = {'learning_rate':[0.1,0.2,0.3,0.4],\n",
    "          'max_depth':[3,5,8,10,11,12],\n",
    "          'min_samples_leaf':[1,2,3],\n",
    "          'max_features':[0.05,0.1,0.15,0.2]}\n",
    "\n",
    "grid_search = GridSearchCV(estimator=Model,param_grid=params,scoring='r2',verbose=1,n_jobs=-1)\n",
    "grid_search.fit(X_train,y_train)"
   ]
  },
  {
   "cell_type": "code",
   "execution_count": 49,
   "id": "114b6eea",
   "metadata": {
    "execution": {
     "iopub.execute_input": "2023-01-12T08:17:05.617836Z",
     "iopub.status.busy": "2023-01-12T08:17:05.616778Z",
     "iopub.status.idle": "2023-01-12T08:17:05.620119Z",
     "shell.execute_reply": "2023-01-12T08:17:05.620694Z",
     "shell.execute_reply.started": "2022-03-05T09:55:56.582167Z"
    },
    "papermill": {
     "duration": 0.102571,
     "end_time": "2023-01-12T08:17:05.620871",
     "exception": false,
     "start_time": "2023-01-12T08:17:05.518300",
     "status": "completed"
    },
    "tags": []
   },
   "outputs": [],
   "source": [
    "Model_best = grid_search.best_estimator_"
   ]
  },
  {
   "cell_type": "code",
   "execution_count": 50,
   "id": "84209f54",
   "metadata": {
    "execution": {
     "iopub.execute_input": "2023-01-12T08:17:05.814117Z",
     "iopub.status.busy": "2023-01-12T08:17:05.813473Z",
     "iopub.status.idle": "2023-01-12T08:17:05.824357Z",
     "shell.execute_reply": "2023-01-12T08:17:05.824906Z",
     "shell.execute_reply.started": "2022-03-05T09:55:56.588354Z"
    },
    "papermill": {
     "duration": 0.110261,
     "end_time": "2023-01-12T08:17:05.825108",
     "exception": false,
     "start_time": "2023-01-12T08:17:05.714847",
     "status": "completed"
    },
    "tags": []
   },
   "outputs": [
    {
     "name": "stdout",
     "output_type": "stream",
     "text": [
      "Train R Squared Score : 0.9999999560240235\n",
      "Test R Squared Score : 0.643239522050594\n"
     ]
    }
   ],
   "source": [
    "y_train_pred = Model_best.predict(X_train)\n",
    "y_test_pred = Model_best.predict(X_test)\n",
    "\n",
    "print('Train R Squared Score :',r2_score(y_train,y_train_pred))\n",
    "print('Test R Squared Score :',r2_score(y_test,y_test_pred))"
   ]
  },
  {
   "cell_type": "code",
   "execution_count": 51,
   "id": "a7ed29a6",
   "metadata": {
    "execution": {
     "iopub.execute_input": "2023-01-12T08:17:06.022589Z",
     "iopub.status.busy": "2023-01-12T08:17:06.021580Z",
     "iopub.status.idle": "2023-01-12T08:17:06.032484Z",
     "shell.execute_reply": "2023-01-12T08:17:06.033023Z",
     "shell.execute_reply.started": "2022-03-05T09:55:56.606383Z"
    },
    "papermill": {
     "duration": 0.112424,
     "end_time": "2023-01-12T08:17:06.033225",
     "exception": false,
     "start_time": "2023-01-12T08:17:05.920801",
     "status": "completed"
    },
    "tags": []
   },
   "outputs": [
    {
     "data": {
      "text/html": [
       "<div>\n",
       "<style scoped>\n",
       "    .dataframe tbody tr th:only-of-type {\n",
       "        vertical-align: middle;\n",
       "    }\n",
       "\n",
       "    .dataframe tbody tr th {\n",
       "        vertical-align: top;\n",
       "    }\n",
       "\n",
       "    .dataframe thead th {\n",
       "        text-align: right;\n",
       "    }\n",
       "</style>\n",
       "<table border=\"1\" class=\"dataframe\">\n",
       "  <thead>\n",
       "    <tr style=\"text-align: right;\">\n",
       "      <th></th>\n",
       "      <th>Importance</th>\n",
       "    </tr>\n",
       "    <tr>\n",
       "      <th>Feature</th>\n",
       "      <th></th>\n",
       "    </tr>\n",
       "  </thead>\n",
       "  <tbody>\n",
       "    <tr>\n",
       "      <th>Cost of a bottle of water(City)</th>\n",
       "      <td>0.180316</td>\n",
       "    </tr>\n",
       "    <tr>\n",
       "      <th>Cost of a monthly gym membership(City)</th>\n",
       "      <td>0.179046</td>\n",
       "    </tr>\n",
       "    <tr>\n",
       "      <th>Obesity levels(Country)</th>\n",
       "      <td>0.158438</td>\n",
       "    </tr>\n",
       "    <tr>\n",
       "      <th>Pollution(Index score) (City)</th>\n",
       "      <td>0.108360</td>\n",
       "    </tr>\n",
       "    <tr>\n",
       "      <th>Life expectancy(years) (Country)</th>\n",
       "      <td>0.088269</td>\n",
       "    </tr>\n",
       "    <tr>\n",
       "      <th>Annual avg. hours worked</th>\n",
       "      <td>0.086994</td>\n",
       "    </tr>\n",
       "    <tr>\n",
       "      <th>Number of take out places(City)</th>\n",
       "      <td>0.080901</td>\n",
       "    </tr>\n",
       "    <tr>\n",
       "      <th>Sunshine hours(City)</th>\n",
       "      <td>0.073136</td>\n",
       "    </tr>\n",
       "    <tr>\n",
       "      <th>Outdoor activities(City)</th>\n",
       "      <td>0.044539</td>\n",
       "    </tr>\n",
       "  </tbody>\n",
       "</table>\n",
       "</div>"
      ],
      "text/plain": [
       "                                        Importance\n",
       "Feature                                           \n",
       "Cost of a bottle of water(City)           0.180316\n",
       "Cost of a monthly gym membership(City)    0.179046\n",
       "Obesity levels(Country)                   0.158438\n",
       "Pollution(Index score) (City)             0.108360\n",
       "Life expectancy(years) (Country)          0.088269\n",
       "Annual avg. hours worked                  0.086994\n",
       "Number of take out places(City)           0.080901\n",
       "Sunshine hours(City)                      0.073136\n",
       "Outdoor activities(City)                  0.044539"
      ]
     },
     "execution_count": 51,
     "metadata": {},
     "output_type": "execute_result"
    }
   ],
   "source": [
    "Feature_Importances = pd.DataFrame({'Feature':X_train.columns,'Importance':Model_best.feature_importances_})\n",
    "Feature_Importances.sort_values('Importance',ascending=False,inplace=True)\n",
    "Feature_Importances.set_index('Feature',inplace=True)\n",
    "Feature_Importances"
   ]
  },
  {
   "cell_type": "code",
   "execution_count": 52,
   "id": "b6230a34",
   "metadata": {
    "execution": {
     "iopub.execute_input": "2023-01-12T08:17:06.227859Z",
     "iopub.status.busy": "2023-01-12T08:17:06.226891Z",
     "iopub.status.idle": "2023-01-12T08:17:06.229980Z",
     "shell.execute_reply": "2023-01-12T08:17:06.230484Z",
     "shell.execute_reply.started": "2022-03-05T09:55:56.622598Z"
    },
    "papermill": {
     "duration": 0.102221,
     "end_time": "2023-01-12T08:17:06.230683",
     "exception": false,
     "start_time": "2023-01-12T08:17:06.128462",
     "status": "completed"
    },
    "tags": []
   },
   "outputs": [],
   "source": [
    "#The model overfits the data even more. This is probably because of the low number of sample available. "
   ]
  },
  {
   "cell_type": "code",
   "execution_count": 53,
   "id": "1685e5dc",
   "metadata": {
    "execution": {
     "iopub.execute_input": "2023-01-12T08:17:06.423678Z",
     "iopub.status.busy": "2023-01-12T08:17:06.422705Z",
     "iopub.status.idle": "2023-01-12T08:17:06.425864Z",
     "shell.execute_reply": "2023-01-12T08:17:06.426376Z",
     "shell.execute_reply.started": "2022-03-05T09:55:56.628599Z"
    },
    "papermill": {
     "duration": 0.10155,
     "end_time": "2023-01-12T08:17:06.426563",
     "exception": false,
     "start_time": "2023-01-12T08:17:06.325013",
     "status": "completed"
    },
    "tags": []
   },
   "outputs": [],
   "source": [
    "#Clustering Cities "
   ]
  },
  {
   "cell_type": "code",
   "execution_count": 54,
   "id": "788a7acf",
   "metadata": {
    "execution": {
     "iopub.execute_input": "2023-01-12T08:17:06.620708Z",
     "iopub.status.busy": "2023-01-12T08:17:06.619730Z",
     "iopub.status.idle": "2023-01-12T08:17:06.640050Z",
     "shell.execute_reply": "2023-01-12T08:17:06.640580Z",
     "shell.execute_reply.started": "2022-03-05T09:55:56.641731Z"
    },
    "papermill": {
     "duration": 0.119282,
     "end_time": "2023-01-12T08:17:06.640758",
     "exception": false,
     "start_time": "2023-01-12T08:17:06.521476",
     "status": "completed"
    },
    "tags": []
   },
   "outputs": [
    {
     "data": {
      "text/html": [
       "<div>\n",
       "<style scoped>\n",
       "    .dataframe tbody tr th:only-of-type {\n",
       "        vertical-align: middle;\n",
       "    }\n",
       "\n",
       "    .dataframe tbody tr th {\n",
       "        vertical-align: top;\n",
       "    }\n",
       "\n",
       "    .dataframe thead th {\n",
       "        text-align: right;\n",
       "    }\n",
       "</style>\n",
       "<table border=\"1\" class=\"dataframe\">\n",
       "  <thead>\n",
       "    <tr style=\"text-align: right;\">\n",
       "      <th></th>\n",
       "      <th>Sunshine hours(City)</th>\n",
       "      <th>Cost of a bottle of water(City)</th>\n",
       "      <th>Obesity levels(Country)</th>\n",
       "      <th>Life expectancy(years) (Country)</th>\n",
       "      <th>Pollution(Index score) (City)</th>\n",
       "      <th>Annual avg. hours worked</th>\n",
       "      <th>Happiness levels(Country)</th>\n",
       "      <th>Outdoor activities(City)</th>\n",
       "      <th>Number of take out places(City)</th>\n",
       "      <th>Cost of a monthly gym membership(City)</th>\n",
       "    </tr>\n",
       "    <tr>\n",
       "      <th>City</th>\n",
       "      <th></th>\n",
       "      <th></th>\n",
       "      <th></th>\n",
       "      <th></th>\n",
       "      <th></th>\n",
       "      <th></th>\n",
       "      <th></th>\n",
       "      <th></th>\n",
       "      <th></th>\n",
       "      <th></th>\n",
       "    </tr>\n",
       "  </thead>\n",
       "  <tbody>\n",
       "    <tr>\n",
       "      <th>Amsterdam</th>\n",
       "      <td>1858.0</td>\n",
       "      <td>1.92</td>\n",
       "      <td>20.4</td>\n",
       "      <td>81.2</td>\n",
       "      <td>30.93</td>\n",
       "      <td>1434.000000</td>\n",
       "      <td>7.44</td>\n",
       "      <td>422.0</td>\n",
       "      <td>1048.0</td>\n",
       "      <td>34.90</td>\n",
       "    </tr>\n",
       "    <tr>\n",
       "      <th>Bangkok</th>\n",
       "      <td>2624.0</td>\n",
       "      <td>0.22</td>\n",
       "      <td>10.0</td>\n",
       "      <td>74.1</td>\n",
       "      <td>76.64</td>\n",
       "      <td>1750.652313</td>\n",
       "      <td>5.99</td>\n",
       "      <td>377.0</td>\n",
       "      <td>1796.0</td>\n",
       "      <td>50.03</td>\n",
       "    </tr>\n",
       "    <tr>\n",
       "      <th>Barcelona</th>\n",
       "      <td>2591.0</td>\n",
       "      <td>1.19</td>\n",
       "      <td>23.8</td>\n",
       "      <td>82.2</td>\n",
       "      <td>65.19</td>\n",
       "      <td>1686.000000</td>\n",
       "      <td>6.40</td>\n",
       "      <td>585.0</td>\n",
       "      <td>2344.0</td>\n",
       "      <td>37.80</td>\n",
       "    </tr>\n",
       "    <tr>\n",
       "      <th>Beijing</th>\n",
       "      <td>2671.0</td>\n",
       "      <td>0.26</td>\n",
       "      <td>6.2</td>\n",
       "      <td>75.4</td>\n",
       "      <td>85.43</td>\n",
       "      <td>1751.432008</td>\n",
       "      <td>5.12</td>\n",
       "      <td>223.0</td>\n",
       "      <td>261.0</td>\n",
       "      <td>38.62</td>\n",
       "    </tr>\n",
       "    <tr>\n",
       "      <th>Berlin</th>\n",
       "      <td>1626.0</td>\n",
       "      <td>1.55</td>\n",
       "      <td>22.3</td>\n",
       "      <td>80.6</td>\n",
       "      <td>39.41</td>\n",
       "      <td>1386.000000</td>\n",
       "      <td>7.07</td>\n",
       "      <td>254.0</td>\n",
       "      <td>1729.0</td>\n",
       "      <td>26.11</td>\n",
       "    </tr>\n",
       "  </tbody>\n",
       "</table>\n",
       "</div>"
      ],
      "text/plain": [
       "           Sunshine hours(City)  Cost of a bottle of water(City)  \\\n",
       "City                                                               \n",
       "Amsterdam                1858.0                             1.92   \n",
       "Bangkok                  2624.0                             0.22   \n",
       "Barcelona                2591.0                             1.19   \n",
       "Beijing                  2671.0                             0.26   \n",
       "Berlin                   1626.0                             1.55   \n",
       "\n",
       "           Obesity levels(Country)  Life expectancy(years) (Country)  \\\n",
       "City                                                                   \n",
       "Amsterdam                     20.4                              81.2   \n",
       "Bangkok                       10.0                              74.1   \n",
       "Barcelona                     23.8                              82.2   \n",
       "Beijing                        6.2                              75.4   \n",
       "Berlin                        22.3                              80.6   \n",
       "\n",
       "           Pollution(Index score) (City)  Annual avg. hours worked  \\\n",
       "City                                                                 \n",
       "Amsterdam                          30.93               1434.000000   \n",
       "Bangkok                            76.64               1750.652313   \n",
       "Barcelona                          65.19               1686.000000   \n",
       "Beijing                            85.43               1751.432008   \n",
       "Berlin                             39.41               1386.000000   \n",
       "\n",
       "           Happiness levels(Country)  Outdoor activities(City)  \\\n",
       "City                                                             \n",
       "Amsterdam                       7.44                     422.0   \n",
       "Bangkok                         5.99                     377.0   \n",
       "Barcelona                       6.40                     585.0   \n",
       "Beijing                         5.12                     223.0   \n",
       "Berlin                          7.07                     254.0   \n",
       "\n",
       "           Number of take out places(City)  \\\n",
       "City                                         \n",
       "Amsterdam                           1048.0   \n",
       "Bangkok                             1796.0   \n",
       "Barcelona                           2344.0   \n",
       "Beijing                              261.0   \n",
       "Berlin                              1729.0   \n",
       "\n",
       "           Cost of a monthly gym membership(City)  \n",
       "City                                               \n",
       "Amsterdam                                   34.90  \n",
       "Bangkok                                     50.03  \n",
       "Barcelona                                   37.80  \n",
       "Beijing                                     38.62  \n",
       "Berlin                                      26.11  "
      ]
     },
     "execution_count": 54,
     "metadata": {},
     "output_type": "execute_result"
    }
   ],
   "source": [
    "Healthy = Healthy.groupby('City').mean()\n",
    "Healthy.head()"
   ]
  },
  {
   "cell_type": "code",
   "execution_count": 55,
   "id": "772267bc",
   "metadata": {
    "execution": {
     "iopub.execute_input": "2023-01-12T08:17:06.836964Z",
     "iopub.status.busy": "2023-01-12T08:17:06.835999Z",
     "iopub.status.idle": "2023-01-12T08:17:06.856092Z",
     "shell.execute_reply": "2023-01-12T08:17:06.855458Z",
     "shell.execute_reply.started": "2022-03-05T09:55:56.672486Z"
    },
    "papermill": {
     "duration": 0.119227,
     "end_time": "2023-01-12T08:17:06.856277",
     "exception": false,
     "start_time": "2023-01-12T08:17:06.737050",
     "status": "completed"
    },
    "tags": []
   },
   "outputs": [
    {
     "data": {
      "text/html": [
       "<div>\n",
       "<style scoped>\n",
       "    .dataframe tbody tr th:only-of-type {\n",
       "        vertical-align: middle;\n",
       "    }\n",
       "\n",
       "    .dataframe tbody tr th {\n",
       "        vertical-align: top;\n",
       "    }\n",
       "\n",
       "    .dataframe thead th {\n",
       "        text-align: right;\n",
       "    }\n",
       "</style>\n",
       "<table border=\"1\" class=\"dataframe\">\n",
       "  <thead>\n",
       "    <tr style=\"text-align: right;\">\n",
       "      <th></th>\n",
       "      <th>Sunshine hours(City)</th>\n",
       "      <th>Cost of a bottle of water(City)</th>\n",
       "      <th>Obesity levels(Country)</th>\n",
       "      <th>Life expectancy(years) (Country)</th>\n",
       "      <th>Pollution(Index score) (City)</th>\n",
       "      <th>Annual avg. hours worked</th>\n",
       "      <th>Happiness levels(Country)</th>\n",
       "      <th>Outdoor activities(City)</th>\n",
       "      <th>Number of take out places(City)</th>\n",
       "      <th>Cost of a monthly gym membership(City)</th>\n",
       "    </tr>\n",
       "  </thead>\n",
       "  <tbody>\n",
       "    <tr>\n",
       "      <th>0</th>\n",
       "      <td>-0.686679</td>\n",
       "      <td>1.050902</td>\n",
       "      <td>-0.151303</td>\n",
       "      <td>0.576878</td>\n",
       "      <td>-0.949133</td>\n",
       "      <td>-1.543390</td>\n",
       "      <td>1.025642</td>\n",
       "      <td>1.654432</td>\n",
       "      <td>-0.287788</td>\n",
       "      <td>-0.372094</td>\n",
       "    </tr>\n",
       "    <tr>\n",
       "      <th>1</th>\n",
       "      <td>0.691423</td>\n",
       "      <td>-1.342020</td>\n",
       "      <td>-1.183136</td>\n",
       "      <td>-0.777116</td>\n",
       "      <td>1.190812</td>\n",
       "      <td>0.406091</td>\n",
       "      <td>-0.454140</td>\n",
       "      <td>1.296541</td>\n",
       "      <td>0.257031</td>\n",
       "      <td>0.647795</td>\n",
       "    </tr>\n",
       "    <tr>\n",
       "      <th>2</th>\n",
       "      <td>0.632053</td>\n",
       "      <td>0.023353</td>\n",
       "      <td>0.186028</td>\n",
       "      <td>0.767581</td>\n",
       "      <td>0.654772</td>\n",
       "      <td>0.008057</td>\n",
       "      <td>-0.035719</td>\n",
       "      <td>2.950792</td>\n",
       "      <td>0.656178</td>\n",
       "      <td>-0.176610</td>\n",
       "    </tr>\n",
       "    <tr>\n",
       "      <th>3</th>\n",
       "      <td>0.775980</td>\n",
       "      <td>-1.285715</td>\n",
       "      <td>-1.560152</td>\n",
       "      <td>-0.529202</td>\n",
       "      <td>1.602322</td>\n",
       "      <td>0.410891</td>\n",
       "      <td>-1.342010</td>\n",
       "      <td>0.071759</td>\n",
       "      <td>-0.861015</td>\n",
       "      <td>-0.121335</td>\n",
       "    </tr>\n",
       "    <tr>\n",
       "      <th>4</th>\n",
       "      <td>-1.104068</td>\n",
       "      <td>0.530090</td>\n",
       "      <td>0.037206</td>\n",
       "      <td>0.462456</td>\n",
       "      <td>-0.552136</td>\n",
       "      <td>-1.838904</td>\n",
       "      <td>0.648043</td>\n",
       "      <td>0.318306</td>\n",
       "      <td>0.208231</td>\n",
       "      <td>-0.964614</td>\n",
       "    </tr>\n",
       "  </tbody>\n",
       "</table>\n",
       "</div>"
      ],
      "text/plain": [
       "   Sunshine hours(City)  Cost of a bottle of water(City)  \\\n",
       "0             -0.686679                         1.050902   \n",
       "1              0.691423                        -1.342020   \n",
       "2              0.632053                         0.023353   \n",
       "3              0.775980                        -1.285715   \n",
       "4             -1.104068                         0.530090   \n",
       "\n",
       "   Obesity levels(Country)  Life expectancy(years) (Country)  \\\n",
       "0                -0.151303                          0.576878   \n",
       "1                -1.183136                         -0.777116   \n",
       "2                 0.186028                          0.767581   \n",
       "3                -1.560152                         -0.529202   \n",
       "4                 0.037206                          0.462456   \n",
       "\n",
       "   Pollution(Index score) (City)  Annual avg. hours worked  \\\n",
       "0                      -0.949133                 -1.543390   \n",
       "1                       1.190812                  0.406091   \n",
       "2                       0.654772                  0.008057   \n",
       "3                       1.602322                  0.410891   \n",
       "4                      -0.552136                 -1.838904   \n",
       "\n",
       "   Happiness levels(Country)  Outdoor activities(City)  \\\n",
       "0                   1.025642                  1.654432   \n",
       "1                  -0.454140                  1.296541   \n",
       "2                  -0.035719                  2.950792   \n",
       "3                  -1.342010                  0.071759   \n",
       "4                   0.648043                  0.318306   \n",
       "\n",
       "   Number of take out places(City)  Cost of a monthly gym membership(City)  \n",
       "0                        -0.287788                               -0.372094  \n",
       "1                         0.257031                                0.647795  \n",
       "2                         0.656178                               -0.176610  \n",
       "3                        -0.861015                               -0.121335  \n",
       "4                         0.208231                               -0.964614  "
      ]
     },
     "execution_count": 55,
     "metadata": {},
     "output_type": "execute_result"
    }
   ],
   "source": [
    "scaler = StandardScaler()\n",
    "col = Healthy.columns\n",
    "Healthy_Clust = scaler.fit_transform(Healthy)\n",
    "Healthy_Clust = pd.DataFrame(Healthy_Clust,columns=col)\n",
    "Healthy_Clust.head()"
   ]
  },
  {
   "cell_type": "code",
   "execution_count": 56,
   "id": "8749bfbb",
   "metadata": {
    "execution": {
     "iopub.execute_input": "2023-01-12T08:17:07.059155Z",
     "iopub.status.busy": "2023-01-12T08:17:07.058037Z",
     "iopub.status.idle": "2023-01-12T08:17:07.062649Z",
     "shell.execute_reply": "2023-01-12T08:17:07.063256Z",
     "shell.execute_reply.started": "2022-03-05T09:55:56.694002Z"
    },
    "papermill": {
     "duration": 0.110758,
     "end_time": "2023-01-12T08:17:07.063442",
     "exception": false,
     "start_time": "2023-01-12T08:17:06.952684",
     "status": "completed"
    },
    "tags": []
   },
   "outputs": [],
   "source": [
    "from sklearn.neighbors import NearestNeighbors\n",
    "from random import sample\n",
    "from numpy.random import uniform\n",
    "import numpy as np\n",
    "from math import isnan\n",
    " \n",
    "def hopkins(X):\n",
    "    d = X.shape[1]\n",
    "    #d = len(vars) # columns\n",
    "    n = len(X) # rows\n",
    "    m = int(0.1 * n) \n",
    "    nbrs = NearestNeighbors(n_neighbors=1).fit(X.values)\n",
    " \n",
    "    rand_X = sample(range(0, n, 1), m)\n",
    " \n",
    "    ujd = []\n",
    "    wjd = []\n",
    "    for j in range(0, m):\n",
    "        u_dist, _ = nbrs.kneighbors(uniform(np.amin(X,axis=0),np.amax(X,axis=0),d).reshape(1, -1), 2, return_distance=True)\n",
    "        ujd.append(u_dist[0][1])\n",
    "        w_dist, _ = nbrs.kneighbors(X.iloc[rand_X[j]].values.reshape(1, -1), 2, return_distance=True)\n",
    "        wjd.append(w_dist[0][1])\n",
    " \n",
    "    H = sum(ujd) / (sum(ujd) + sum(wjd))\n",
    "    if isnan(H):\n",
    "        print(ujd, wjd)\n",
    "        H = 0\n",
    " \n",
    "    return H"
   ]
  },
  {
   "cell_type": "code",
   "execution_count": 57,
   "id": "7ba6bc8d",
   "metadata": {
    "execution": {
     "iopub.execute_input": "2023-01-12T08:17:07.260947Z",
     "iopub.status.busy": "2023-01-12T08:17:07.258303Z",
     "iopub.status.idle": "2023-01-12T08:17:07.274880Z",
     "shell.execute_reply": "2023-01-12T08:17:07.274325Z",
     "shell.execute_reply.started": "2022-03-05T09:55:56.706239Z"
    },
    "papermill": {
     "duration": 0.115746,
     "end_time": "2023-01-12T08:17:07.275033",
     "exception": false,
     "start_time": "2023-01-12T08:17:07.159287",
     "status": "completed"
    },
    "tags": []
   },
   "outputs": [
    {
     "data": {
      "text/plain": [
       "0.6250050943697079"
      ]
     },
     "execution_count": 57,
     "metadata": {},
     "output_type": "execute_result"
    }
   ],
   "source": [
    "hopkins(Healthy_Clust)"
   ]
  },
  {
   "cell_type": "code",
   "execution_count": 58,
   "id": "a178ffc6",
   "metadata": {
    "execution": {
     "iopub.execute_input": "2023-01-12T08:17:07.474929Z",
     "iopub.status.busy": "2023-01-12T08:17:07.473926Z",
     "iopub.status.idle": "2023-01-12T08:17:07.901761Z",
     "shell.execute_reply": "2023-01-12T08:17:07.901125Z",
     "shell.execute_reply.started": "2022-03-05T09:55:56.736097Z"
    },
    "papermill": {
     "duration": 0.530574,
     "end_time": "2023-01-12T08:17:07.901911",
     "exception": false,
     "start_time": "2023-01-12T08:17:07.371337",
     "status": "completed"
    },
    "tags": []
   },
   "outputs": [
    {
     "data": {
      "image/png": "[encoded data removed]",
      "text/plain": [
       "<Figure size 432x288 with 1 Axes>"
      ]
     },
     "metadata": {
      "needs_background": "light"
     },
     "output_type": "display_data"
    }
   ],
   "source": [
    "from sklearn.cluster import KMeans\n",
    "from sklearn.metrics import silhouette_score\n",
    "ssd = []\n",
    "range_n_clusters = [2, 3, 4, 5, 6, 7, 8]\n",
    "for num_clusters in range_n_clusters:\n",
    "    kmeans = KMeans(n_clusters=num_clusters, max_iter=50)\n",
    "    kmeans.fit(Healthy_Clust)\n",
    "    \n",
    "    ssd.append(kmeans.inertia_)\n",
    "    \n",
    "plt.plot(ssd)\n",
    "plt.show()"
   ]
  },
  {
   "cell_type": "code",
   "execution_count": 59,
   "id": "7d2828e2",
   "metadata": {
    "execution": {
     "iopub.execute_input": "2023-01-12T08:17:08.123276Z",
     "iopub.status.busy": "2023-01-12T08:17:08.122447Z",
     "iopub.status.idle": "2023-01-12T08:17:08.800944Z",
     "shell.execute_reply": "2023-01-12T08:17:08.801533Z",
     "shell.execute_reply.started": "2022-03-05T09:55:57.17093Z"
    },
    "papermill": {
     "duration": 0.799494,
     "end_time": "2023-01-12T08:17:08.801741",
     "exception": false,
     "start_time": "2023-01-12T08:17:08.002247",
     "status": "completed"
    },
    "tags": []
   },
   "outputs": [
    {
     "name": "stdout",
     "output_type": "stream",
     "text": [
      "For n_clusters=2, the silhouette score is 0.2620818916259195\n",
      "For n_clusters=3, the silhouette score is 0.20250194926609488\n",
      "For n_clusters=4, the silhouette score is 0.22295286363047156\n",
      "For n_clusters=5, the silhouette score is 0.22818678276473803\n",
      "For n_clusters=6, the silhouette score is 0.21938337317585013\n",
      "For n_clusters=7, the silhouette score is 0.2541915120017516\n",
      "For n_clusters=8, the silhouette score is 0.23261043914281865\n"
     ]
    }
   ],
   "source": [
    "range_n_clusters = [2, 3, 4, 5, 6, 7, 8]\n",
    "\n",
    "for num_clusters in range_n_clusters:\n",
    "    \n",
    "    kmeans = KMeans(n_clusters=num_clusters, max_iter=50)\n",
    "    kmeans.fit(Healthy_Clust)\n",
    "    \n",
    "    cluster_labels = kmeans.labels_\n",
    "    \n",
    "    silhouette_avg = silhouette_score(Healthy_Clust, cluster_labels)\n",
    "    print(\"For n_clusters={0}, the silhouette score is {1}\".format(num_clusters, silhouette_avg))"
   ]
  },
  {
   "cell_type": "code",
   "execution_count": 60,
   "id": "a9bedcd6",
   "metadata": {
    "execution": {
     "iopub.execute_input": "2023-01-12T08:17:09.072489Z",
     "iopub.status.busy": "2023-01-12T08:17:09.071424Z",
     "iopub.status.idle": "2023-01-12T08:17:09.074804Z",
     "shell.execute_reply": "2023-01-12T08:17:09.074242Z",
     "shell.execute_reply.started": "2022-03-05T09:55:58.031834Z"
    },
    "papermill": {
     "duration": 0.107706,
     "end_time": "2023-01-12T08:17:09.074961",
     "exception": false,
     "start_time": "2023-01-12T08:17:08.967255",
     "status": "completed"
    },
    "tags": []
   },
   "outputs": [],
   "source": [
    "#Clustering the authors into 5 clusters."
   ]
  },
  {
   "cell_type": "code",
   "execution_count": 61,
   "id": "8e1b78ab",
   "metadata": {
    "execution": {
     "iopub.execute_input": "2023-01-12T08:17:09.279961Z",
     "iopub.status.busy": "2023-01-12T08:17:09.279243Z",
     "iopub.status.idle": "2023-01-12T08:17:09.316879Z",
     "shell.execute_reply": "2023-01-12T08:17:09.316168Z",
     "shell.execute_reply.started": "2022-03-05T09:55:58.046331Z"
    },
    "papermill": {
     "duration": 0.142005,
     "end_time": "2023-01-12T08:17:09.317048",
     "exception": false,
     "start_time": "2023-01-12T08:17:09.175043",
     "status": "completed"
    },
    "tags": []
   },
   "outputs": [
    {
     "data": {
      "text/plain": [
       "KMeans(max_iter=100, n_clusters=5)"
      ]
     },
     "execution_count": 61,
     "metadata": {},
     "output_type": "execute_result"
    }
   ],
   "source": [
    "kmeans = KMeans(n_clusters=5,max_iter=100)\n",
    "kmeans.fit(Healthy_Clust)"
   ]
  },
  {
   "cell_type": "code",
   "execution_count": 62,
   "id": "0a0e50e4",
   "metadata": {
    "execution": {
     "iopub.execute_input": "2023-01-12T08:17:09.532015Z",
     "iopub.status.busy": "2023-01-12T08:17:09.530932Z",
     "iopub.status.idle": "2023-01-12T08:17:09.543008Z",
     "shell.execute_reply": "2023-01-12T08:17:09.543581Z",
     "shell.execute_reply.started": "2022-03-05T09:55:58.178556Z"
    },
    "papermill": {
     "duration": 0.125486,
     "end_time": "2023-01-12T08:17:09.543761",
     "exception": false,
     "start_time": "2023-01-12T08:17:09.418275",
     "status": "completed"
    },
    "tags": []
   },
   "outputs": [
    {
     "data": {
      "text/html": [
       "<div>\n",
       "<style scoped>\n",
       "    .dataframe tbody tr th:only-of-type {\n",
       "        vertical-align: middle;\n",
       "    }\n",
       "\n",
       "    .dataframe tbody tr th {\n",
       "        vertical-align: top;\n",
       "    }\n",
       "\n",
       "    .dataframe thead th {\n",
       "        text-align: right;\n",
       "    }\n",
       "</style>\n",
       "<table border=\"1\" class=\"dataframe\">\n",
       "  <thead>\n",
       "    <tr style=\"text-align: right;\">\n",
       "      <th></th>\n",
       "      <th>Sunshine hours(City)</th>\n",
       "      <th>Cost of a bottle of water(City)</th>\n",
       "      <th>Obesity levels(Country)</th>\n",
       "      <th>Life expectancy(years) (Country)</th>\n",
       "      <th>Pollution(Index score) (City)</th>\n",
       "      <th>Annual avg. hours worked</th>\n",
       "      <th>Happiness levels(Country)</th>\n",
       "      <th>Outdoor activities(City)</th>\n",
       "      <th>Number of take out places(City)</th>\n",
       "      <th>Cost of a monthly gym membership(City)</th>\n",
       "      <th>Cluster_ID</th>\n",
       "    </tr>\n",
       "    <tr>\n",
       "      <th>City</th>\n",
       "      <th></th>\n",
       "      <th></th>\n",
       "      <th></th>\n",
       "      <th></th>\n",
       "      <th></th>\n",
       "      <th></th>\n",
       "      <th></th>\n",
       "      <th></th>\n",
       "      <th></th>\n",
       "      <th></th>\n",
       "      <th></th>\n",
       "    </tr>\n",
       "  </thead>\n",
       "  <tbody>\n",
       "    <tr>\n",
       "      <th>Amsterdam</th>\n",
       "      <td>1858.0</td>\n",
       "      <td>1.92</td>\n",
       "      <td>20.4</td>\n",
       "      <td>81.2</td>\n",
       "      <td>30.93</td>\n",
       "      <td>1434.000000</td>\n",
       "      <td>7.44</td>\n",
       "      <td>422.0</td>\n",
       "      <td>1048.0</td>\n",
       "      <td>34.90</td>\n",
       "      <td>0</td>\n",
       "    </tr>\n",
       "    <tr>\n",
       "      <th>Bangkok</th>\n",
       "      <td>2624.0</td>\n",
       "      <td>0.22</td>\n",
       "      <td>10.0</td>\n",
       "      <td>74.1</td>\n",
       "      <td>76.64</td>\n",
       "      <td>1750.652313</td>\n",
       "      <td>5.99</td>\n",
       "      <td>377.0</td>\n",
       "      <td>1796.0</td>\n",
       "      <td>50.03</td>\n",
       "      <td>4</td>\n",
       "    </tr>\n",
       "    <tr>\n",
       "      <th>Barcelona</th>\n",
       "      <td>2591.0</td>\n",
       "      <td>1.19</td>\n",
       "      <td>23.8</td>\n",
       "      <td>82.2</td>\n",
       "      <td>65.19</td>\n",
       "      <td>1686.000000</td>\n",
       "      <td>6.40</td>\n",
       "      <td>585.0</td>\n",
       "      <td>2344.0</td>\n",
       "      <td>37.80</td>\n",
       "      <td>3</td>\n",
       "    </tr>\n",
       "    <tr>\n",
       "      <th>Beijing</th>\n",
       "      <td>2671.0</td>\n",
       "      <td>0.26</td>\n",
       "      <td>6.2</td>\n",
       "      <td>75.4</td>\n",
       "      <td>85.43</td>\n",
       "      <td>1751.432008</td>\n",
       "      <td>5.12</td>\n",
       "      <td>223.0</td>\n",
       "      <td>261.0</td>\n",
       "      <td>38.62</td>\n",
       "      <td>4</td>\n",
       "    </tr>\n",
       "    <tr>\n",
       "      <th>Berlin</th>\n",
       "      <td>1626.0</td>\n",
       "      <td>1.55</td>\n",
       "      <td>22.3</td>\n",
       "      <td>80.6</td>\n",
       "      <td>39.41</td>\n",
       "      <td>1386.000000</td>\n",
       "      <td>7.07</td>\n",
       "      <td>254.0</td>\n",
       "      <td>1729.0</td>\n",
       "      <td>26.11</td>\n",
       "      <td>0</td>\n",
       "    </tr>\n",
       "  </tbody>\n",
       "</table>\n",
       "</div>"
      ],
      "text/plain": [
       "           Sunshine hours(City)  Cost of a bottle of water(City)  \\\n",
       "City                                                               \n",
       "Amsterdam                1858.0                             1.92   \n",
       "Bangkok                  2624.0                             0.22   \n",
       "Barcelona                2591.0                             1.19   \n",
       "Beijing                  2671.0                             0.26   \n",
       "Berlin                   1626.0                             1.55   \n",
       "\n",
       "           Obesity levels(Country)  Life expectancy(years) (Country)  \\\n",
       "City                                                                   \n",
       "Amsterdam                     20.4                              81.2   \n",
       "Bangkok                       10.0                              74.1   \n",
       "Barcelona                     23.8                              82.2   \n",
       "Beijing                        6.2                              75.4   \n",
       "Berlin                        22.3                              80.6   \n",
       "\n",
       "           Pollution(Index score) (City)  Annual avg. hours worked  \\\n",
       "City                                                                 \n",
       "Amsterdam                          30.93               1434.000000   \n",
       "Bangkok                            76.64               1750.652313   \n",
       "Barcelona                          65.19               1686.000000   \n",
       "Beijing                            85.43               1751.432008   \n",
       "Berlin                             39.41               1386.000000   \n",
       "\n",
       "           Happiness levels(Country)  Outdoor activities(City)  \\\n",
       "City                                                             \n",
       "Amsterdam                       7.44                     422.0   \n",
       "Bangkok                         5.99                     377.0   \n",
       "Barcelona                       6.40                     585.0   \n",
       "Beijing                         5.12                     223.0   \n",
       "Berlin                          7.07                     254.0   \n",
       "\n",
       "           Number of take out places(City)  \\\n",
       "City                                         \n",
       "Amsterdam                           1048.0   \n",
       "Bangkok                             1796.0   \n",
       "Barcelona                           2344.0   \n",
       "Beijing                              261.0   \n",
       "Berlin                              1729.0   \n",
       "\n",
       "           Cost of a monthly gym membership(City)  Cluster_ID  \n",
       "City                                                           \n",
       "Amsterdam                                   34.90           0  \n",
       "Bangkok                                     50.03           4  \n",
       "Barcelona                                   37.80           3  \n",
       "Beijing                                     38.62           4  \n",
       "Berlin                                      26.11           0  "
      ]
     },
     "execution_count": 62,
     "metadata": {},
     "output_type": "execute_result"
    }
   ],
   "source": [
    "Healthy['Cluster_ID'] = kmeans.labels_\n",
    "Healthy.head()"
   ]
  },
  {
   "cell_type": "code",
   "execution_count": 63,
   "id": "5638e8e0",
   "metadata": {
    "execution": {
     "iopub.execute_input": "2023-01-12T08:17:09.752913Z",
     "iopub.status.busy": "2023-01-12T08:17:09.751706Z",
     "iopub.status.idle": "2023-01-12T08:17:09.753991Z",
     "shell.execute_reply": "2023-01-12T08:17:09.754674Z",
     "shell.execute_reply.started": "2022-03-05T09:55:58.207711Z"
    },
    "papermill": {
     "duration": 0.110587,
     "end_time": "2023-01-12T08:17:09.754864",
     "exception": false,
     "start_time": "2023-01-12T08:17:09.644277",
     "status": "completed"
    },
    "tags": []
   },
   "outputs": [],
   "source": [
    "#Plotting the Clusters"
   ]
  },
  {
   "cell_type": "code",
   "execution_count": 64,
   "id": "ffb0ee52",
   "metadata": {
    "execution": {
     "iopub.execute_input": "2023-01-12T08:17:09.960131Z",
     "iopub.status.busy": "2023-01-12T08:17:09.959068Z",
     "iopub.status.idle": "2023-01-12T08:17:10.310569Z",
     "shell.execute_reply": "2023-01-12T08:17:10.311137Z",
     "shell.execute_reply.started": "2022-03-05T09:55:58.21683Z"
    },
    "papermill": {
     "duration": 0.456171,
     "end_time": "2023-01-12T08:17:10.311344",
     "exception": false,
     "start_time": "2023-01-12T08:17:09.855173",
     "status": "completed"
    },
    "tags": []
   },
   "outputs": [
    {
     "data": {
      "image/png": "[encoded data removed]",
      "text/plain": [
       "<Figure size 720x360 with 1 Axes>"
      ]
     },
     "metadata": {
      "needs_background": "light"
     },
     "output_type": "display_data"
    }
   ],
   "source": [
    "plt.figure(figsize=(10,5))\n",
    "sns.barplot(y='Happiness levels(Country)',x='Cluster_ID',data=Healthy)\n",
    "plt.title('Clusters vs Happiness Levels')\n",
    "plt.show()"
   ]
  },
  {
   "cell_type": "code",
   "execution_count": 65,
   "id": "7ccc0c7a",
   "metadata": {
    "execution": {
     "iopub.execute_input": "2023-01-12T08:17:10.520994Z",
     "iopub.status.busy": "2023-01-12T08:17:10.520264Z",
     "iopub.status.idle": "2023-01-12T08:17:10.856475Z",
     "shell.execute_reply": "2023-01-12T08:17:10.855588Z",
     "shell.execute_reply.started": "2022-03-05T09:55:58.605405Z"
    },
    "papermill": {
     "duration": 0.444981,
     "end_time": "2023-01-12T08:17:10.856634",
     "exception": false,
     "start_time": "2023-01-12T08:17:10.411653",
     "status": "completed"
    },
    "tags": []
   },
   "outputs": [
    {
     "data": {
      "image/png": "[encoded data removed]",
      "text/plain": [
       "<Figure size 720x360 with 1 Axes>"
      ]
     },
     "metadata": {
      "needs_background": "light"
     },
     "output_type": "display_data"
    }
   ],
   "source": [
    "plt.figure(figsize=(10,5))\n",
    "sns.barplot(y='Cost of a bottle of water(City)',x='Cluster_ID',data=Healthy)\n",
    "plt.title('Clusters vs Cost of a bottle of Water')\n",
    "plt.show()"
   ]
  },
  {
   "cell_type": "code",
   "execution_count": 66,
   "id": "e36f558b",
   "metadata": {
    "execution": {
     "iopub.execute_input": "2023-01-12T08:17:11.068574Z",
     "iopub.status.busy": "2023-01-12T08:17:11.067434Z",
     "iopub.status.idle": "2023-01-12T08:17:11.425243Z",
     "shell.execute_reply": "2023-01-12T08:17:11.424571Z",
     "shell.execute_reply.started": "2022-03-05T09:55:58.969606Z"
    },
    "papermill": {
     "duration": 0.465474,
     "end_time": "2023-01-12T08:17:11.425395",
     "exception": false,
     "start_time": "2023-01-12T08:17:10.959921",
     "status": "completed"
    },
    "tags": []
   },
   "outputs": [
    {
     "data": {
      "image/png": "[encoded data removed]",
      "text/plain": [
       "<Figure size 720x360 with 1 Axes>"
      ]
     },
     "metadata": {
      "needs_background": "light"
     },
     "output_type": "display_data"
    }
   ],
   "source": [
    "plt.figure(figsize=(10,5))\n",
    "sns.barplot(y='Obesity levels(Country)',x='Cluster_ID',data=Healthy)\n",
    "plt.title('Clusters vs Obesitiy Levels')\n",
    "plt.show()"
   ]
  },
  {
   "cell_type": "code",
   "execution_count": 67,
   "id": "534fb833",
   "metadata": {
    "execution": {
     "iopub.execute_input": "2023-01-12T08:17:11.645693Z",
     "iopub.status.busy": "2023-01-12T08:17:11.644814Z",
     "iopub.status.idle": "2023-01-12T08:17:12.001428Z",
     "shell.execute_reply": "2023-01-12T08:17:12.000865Z",
     "shell.execute_reply.started": "2022-03-05T09:55:59.352791Z"
    },
    "papermill": {
     "duration": 0.469671,
     "end_time": "2023-01-12T08:17:12.001581",
     "exception": false,
     "start_time": "2023-01-12T08:17:11.531910",
     "status": "completed"
    },
    "tags": []
   },
   "outputs": [
    {
     "data": {
      "image/png": "[encoded data removed]",
      "text/plain": [
       "<Figure size 720x360 with 1 Axes>"
      ]
     },
     "metadata": {
      "needs_background": "light"
     },
     "output_type": "display_data"
    }
   ],
   "source": [
    "plt.figure(figsize=(10,5))\n",
    "sns.barplot(y='Annual avg. hours worked',x='Cluster_ID',data=Healthy)\n",
    "plt.title('Clusters vs Annual average Work Hours')\n",
    "plt.show()"
   ]
  },
  {
   "cell_type": "code",
   "execution_count": 68,
   "id": "af484099",
   "metadata": {
    "execution": {
     "iopub.execute_input": "2023-01-12T08:17:12.234126Z",
     "iopub.status.busy": "2023-01-12T08:17:12.233046Z",
     "iopub.status.idle": "2023-01-12T08:17:12.610508Z",
     "shell.execute_reply": "2023-01-12T08:17:12.609927Z",
     "shell.execute_reply.started": "2022-03-05T09:55:59.732741Z"
    },
    "papermill": {
     "duration": 0.500303,
     "end_time": "2023-01-12T08:17:12.610669",
     "exception": false,
     "start_time": "2023-01-12T08:17:12.110366",
     "status": "completed"
    },
    "tags": []
   },
   "outputs": [
    {
     "data": {
      "image/png": "[encoded data removed]",
      "text/plain": [
       "<Figure size 720x360 with 1 Axes>"
      ]
     },
     "metadata": {
      "needs_background": "light"
     },
     "output_type": "display_data"
    }
   ],
   "source": [
    "plt.figure(figsize=(10,5))\n",
    "sns.barplot(y='Pollution(Index score) (City)',x='Cluster_ID',data=Healthy)\n",
    "plt.title('Clusters vs Pollution')\n",
    "plt.show()"
   ]
  },
  {
   "cell_type": "code",
   "execution_count": 69,
   "id": "7d1e5d24",
   "metadata": {
    "execution": {
     "iopub.execute_input": "2023-01-12T08:17:12.839455Z",
     "iopub.status.busy": "2023-01-12T08:17:12.838698Z",
     "iopub.status.idle": "2023-01-12T08:17:13.190614Z",
     "shell.execute_reply": "2023-01-12T08:17:13.191702Z",
     "shell.execute_reply.started": "2022-03-05T09:56:00.134953Z"
    },
    "papermill": {
     "duration": 0.472206,
     "end_time": "2023-01-12T08:17:13.192020",
     "exception": false,
     "start_time": "2023-01-12T08:17:12.719814",
     "status": "completed"
    },
    "tags": []
   },
   "outputs": [
    {
     "data": {
      "image/png": "[encoded data removed]",
      "text/plain": [
       "<Figure size 720x360 with 1 Axes>"
      ]
     },
     "metadata": {
      "needs_background": "light"
     },
     "output_type": "display_data"
    }
   ],
   "source": [
    "plt.figure(figsize=(10,5))\n",
    "sns.barplot(y='Life expectancy(years) (Country)',x='Cluster_ID',data=Healthy)\n",
    "plt.title('Clusters vs Life Expectancy')\n",
    "plt.show()"
   ]
  },
  {
   "cell_type": "code",
   "execution_count": 70,
   "id": "0b0f859d",
   "metadata": {
    "execution": {
     "iopub.execute_input": "2023-01-12T08:17:13.413478Z",
     "iopub.status.busy": "2023-01-12T08:17:13.412810Z",
     "iopub.status.idle": "2023-01-12T08:17:13.415900Z",
     "shell.execute_reply": "2023-01-12T08:17:13.416435Z",
     "shell.execute_reply.started": "2022-03-05T09:56:00.503454Z"
    },
    "papermill": {
     "duration": 0.112614,
     "end_time": "2023-01-12T08:17:13.416673",
     "exception": false,
     "start_time": "2023-01-12T08:17:13.304059",
     "status": "completed"
    },
    "tags": []
   },
   "outputs": [],
   "source": [
    "#Printing the Clusters"
   ]
  },
  {
   "cell_type": "code",
   "execution_count": 71,
   "id": "eee8e026",
   "metadata": {
    "execution": {
     "iopub.execute_input": "2023-01-12T08:17:13.634596Z",
     "iopub.status.busy": "2023-01-12T08:17:13.633837Z",
     "iopub.status.idle": "2023-01-12T08:17:13.641772Z",
     "shell.execute_reply": "2023-01-12T08:17:13.642343Z",
     "shell.execute_reply.started": "2022-03-05T09:56:00.509072Z"
    },
    "papermill": {
     "duration": 0.118846,
     "end_time": "2023-01-12T08:17:13.642536",
     "exception": false,
     "start_time": "2023-01-12T08:17:13.523690",
     "status": "completed"
    },
    "tags": []
   },
   "outputs": [
    {
     "name": "stdout",
     "output_type": "stream",
     "text": [
      "Cluster 1: ['Amsterdam', 'Berlin', 'Brussels', 'Copenhagen', 'Dublin', 'Frankfurt', 'Geneva', 'Helsinki', 'Stockholm', 'Vancouver', 'Vienna', 'Zurich']\n"
     ]
    }
   ],
   "source": [
    "print('Cluster 1:',list(Healthy[Healthy.Cluster_ID==0].index))"
   ]
  },
  {
   "cell_type": "code",
   "execution_count": 72,
   "id": "b8c1d211",
   "metadata": {
    "execution": {
     "iopub.execute_input": "2023-01-12T08:17:13.864503Z",
     "iopub.status.busy": "2023-01-12T08:17:13.863791Z",
     "iopub.status.idle": "2023-01-12T08:17:13.870386Z",
     "shell.execute_reply": "2023-01-12T08:17:13.869804Z",
     "shell.execute_reply.started": "2022-03-05T09:56:00.526435Z"
    },
    "papermill": {
     "duration": 0.11913,
     "end_time": "2023-01-12T08:17:13.870536",
     "exception": false,
     "start_time": "2023-01-12T08:17:13.751406",
     "status": "completed"
    },
    "tags": []
   },
   "outputs": [
    {
     "name": "stdout",
     "output_type": "stream",
     "text": [
      "Cluster 2 : ['Buenos Aires', 'Cairo', 'Istanbul', 'Johannesburg', 'Mexico City', 'Moscow', 'Sao Paulo']\n"
     ]
    }
   ],
   "source": [
    "print('Cluster 2 :',list(Healthy[Healthy.Cluster_ID==1].index))"
   ]
  },
  {
   "cell_type": "code",
   "execution_count": 73,
   "id": "e95e69d5",
   "metadata": {
    "execution": {
     "iopub.execute_input": "2023-01-12T08:17:14.096014Z",
     "iopub.status.busy": "2023-01-12T08:17:14.095182Z",
     "iopub.status.idle": "2023-01-12T08:17:14.098688Z",
     "shell.execute_reply": "2023-01-12T08:17:14.099202Z",
     "shell.execute_reply.started": "2022-03-05T09:56:00.540753Z"
    },
    "papermill": {
     "duration": 0.118934,
     "end_time": "2023-01-12T08:17:14.099415",
     "exception": false,
     "start_time": "2023-01-12T08:17:13.980481",
     "status": "completed"
    },
    "tags": []
   },
   "outputs": [
    {
     "name": "stdout",
     "output_type": "stream",
     "text": [
      "Cluster 3 : ['Boston', 'Chicago', 'Los Angeles', 'Madrid', 'Melbourne', 'Milan', 'New York', 'San Francisco', 'Sydney', 'Tel Aviv', 'Toronto', 'Washington, D.C.']\n"
     ]
    }
   ],
   "source": [
    "print('Cluster 3 :',list(Healthy[Healthy.Cluster_ID==2].index))"
   ]
  },
  {
   "cell_type": "code",
   "execution_count": 74,
   "id": "49d8d607",
   "metadata": {
    "execution": {
     "iopub.execute_input": "2023-01-12T08:17:14.321607Z",
     "iopub.status.busy": "2023-01-12T08:17:14.318848Z",
     "iopub.status.idle": "2023-01-12T08:17:14.324652Z",
     "shell.execute_reply": "2023-01-12T08:17:14.325304Z",
     "shell.execute_reply.started": "2022-03-05T09:56:00.554806Z"
    },
    "papermill": {
     "duration": 0.118096,
     "end_time": "2023-01-12T08:17:14.325493",
     "exception": false,
     "start_time": "2023-01-12T08:17:14.207397",
     "status": "completed"
    },
    "tags": []
   },
   "outputs": [
    {
     "name": "stdout",
     "output_type": "stream",
     "text": [
      "Cluster 4 : ['Barcelona', 'London', 'Paris', 'Tokyo']\n"
     ]
    }
   ],
   "source": [
    "print('Cluster 4 :',list(Healthy[Healthy.Cluster_ID==3].index))"
   ]
  },
  {
   "cell_type": "code",
   "execution_count": 75,
   "id": "4ac5d370",
   "metadata": {
    "execution": {
     "iopub.execute_input": "2023-01-12T08:17:14.548632Z",
     "iopub.status.busy": "2023-01-12T08:17:14.547572Z",
     "iopub.status.idle": "2023-01-12T08:17:14.553668Z",
     "shell.execute_reply": "2023-01-12T08:17:14.554201Z",
     "shell.execute_reply.started": "2022-03-05T09:56:00.568659Z"
    },
    "papermill": {
     "duration": 0.119534,
     "end_time": "2023-01-12T08:17:14.554405",
     "exception": false,
     "start_time": "2023-01-12T08:17:14.434871",
     "status": "completed"
    },
    "tags": []
   },
   "outputs": [
    {
     "name": "stdout",
     "output_type": "stream",
     "text": [
      "Cluster 5 : ['Bangkok', 'Beijing', 'Fukuoka', 'Hong Kong', 'Jakarta', 'Mumbai', 'Seoul', 'Shanghai', 'Taipei']\n"
     ]
    }
   ],
   "source": [
    "print('Cluster 5 :',list(Healthy[Healthy.Cluster_ID==4].index))"
   ]
  },
  {
   "cell_type": "code",
   "execution_count": 76,
   "id": "c7c852cb",
   "metadata": {
    "execution": {
     "iopub.execute_input": "2023-01-12T08:17:14.775259Z",
     "iopub.status.busy": "2023-01-12T08:17:14.774511Z",
     "iopub.status.idle": "2023-01-12T08:17:14.777798Z",
     "shell.execute_reply": "2023-01-12T08:17:14.778399Z",
     "shell.execute_reply.started": "2022-03-05T09:56:00.581933Z"
    },
    "papermill": {
     "duration": 0.116461,
     "end_time": "2023-01-12T08:17:14.778693",
     "exception": false,
     "start_time": "2023-01-12T08:17:14.662232",
     "status": "completed"
    },
    "tags": []
   },
   "outputs": [],
   "source": [
    "# END FOR NOW #"
   ]
  }
 ],
 "metadata": {
  "kernelspec": {
   "display_name": "Python 3",
   "language": "python",
   "name": "python3"
  },
  "language_info": {
   "codemirror_mode": {
    "name": "ipython",
    "version": 3
   },
   "file_extension": ".py",
   "mimetype": "text/x-python",
   "name": "python",
   "nbconvert_exporter": "python",
   "pygments_lexer": "ipython3",
   "version": "3.7.12"
  },
  "papermill": {
   "default_parameters": {},
   "duration": 89.017487,
   "end_time": "2023-01-12T08:17:15.800848",
   "environment_variables": {},
   "exception": null,
   "input_path": "__notebook__.ipynb",
   "output_path": "__notebook__.ipynb",
   "parameters": {},
   "start_time": "2023-01-12T08:15:46.783361",
   "version": "2.3.3"
  }
 },
 "nbformat": 4,
 "nbformat_minor": 5
}
