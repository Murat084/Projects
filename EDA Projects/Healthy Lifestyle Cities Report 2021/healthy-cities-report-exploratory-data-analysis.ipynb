{
 "cells": [
  {
   "cell_type": "markdown",
   "id": "5dc6856a",
   "metadata": {
    "papermill": {
     "duration": 0.021447,
     "end_time": "2022-03-13T13:02:31.436726",
     "exception": false,
     "start_time": "2022-03-13T13:02:31.415279",
     "status": "completed"
    },
    "tags": []
   },
   "source": [
    "## First Healty Cities Report - Quick EDA\n",
    "\n",
    "In this notebook i tried to expand the data for better understanding on real dataset. Hope you enjoy!"
   ]
  },
  {
   "cell_type": "markdown",
   "id": "718af210",
   "metadata": {
    "papermill": {
     "duration": 0.019812,
     "end_time": "2022-03-13T13:02:31.477320",
     "exception": false,
     "start_time": "2022-03-13T13:02:31.457508",
     "status": "completed"
    },
    "tags": []
   },
   "source": [
    "### First we need to import necessary libraries for exploring data"
   ]
  },
  {
   "cell_type": "code",
   "execution_count": 1,
   "id": "43611dde",
   "metadata": {
    "execution": {
     "iopub.execute_input": "2022-03-13T13:02:31.522456Z",
     "iopub.status.busy": "2022-03-13T13:02:31.520764Z",
     "iopub.status.idle": "2022-03-13T13:02:32.644206Z",
     "shell.execute_reply": "2022-03-13T13:02:32.645147Z",
     "shell.execute_reply.started": "2022-03-13T13:00:43.032757Z"
    },
    "papermill": {
     "duration": 1.148459,
     "end_time": "2022-03-13T13:02:32.645606",
     "exception": false,
     "start_time": "2022-03-13T13:02:31.497147",
     "status": "completed"
    },
    "tags": []
   },
   "outputs": [
    {
     "name": "stdout",
     "output_type": "stream",
     "text": [
      "/kaggle/input/healthy-lifestyle-cities-report-2021/healthy_lifestyle_city_2021.csv\n"
     ]
    }
   ],
   "source": [
    "import numpy as np # for linear algebra.\n",
    "import pandas as pd\n",
    "import matplotlib.pyplot as plt # for visualization.\n",
    "import seaborn as sns # for visualization visualization aswell.\n",
    "\n",
    "# this command is making our plots visible on notebooks.\n",
    "%matplotlib inline\n",
    "# setting our figure size for following graphs and plots.\n",
    "plt.rcParams[\"figure.figsize\"] = (12,5)\n",
    "\n",
    "import os\n",
    "for dirname, _, filenames in os.walk('/kaggle/input'):\n",
    "    for filename in filenames:\n",
    "        print(os.path.join(dirname, filename))\n",
    "# readed 'csv' file with using read_csv method.\n",
    "df = pd.read_csv('/kaggle/input/healthy-lifestyle-cities-report-2021/healthy_lifestyle_city_2021.csv', sep=',')"
   ]
  },
  {
   "cell_type": "markdown",
   "id": "258a5e4d",
   "metadata": {
    "papermill": {
     "duration": 0.020091,
     "end_time": "2022-03-13T13:02:32.688691",
     "exception": false,
     "start_time": "2022-03-13T13:02:32.668600",
     "status": "completed"
    },
    "tags": []
   },
   "source": [
    "Let's look how is our data look like"
   ]
  },
  {
   "cell_type": "code",
   "execution_count": 2,
   "id": "18025d1b",
   "metadata": {
    "execution": {
     "iopub.execute_input": "2022-03-13T13:02:32.733972Z",
     "iopub.status.busy": "2022-03-13T13:02:32.733241Z",
     "iopub.status.idle": "2022-03-13T13:02:32.758402Z",
     "shell.execute_reply": "2022-03-13T13:02:32.758879Z",
     "shell.execute_reply.started": "2022-03-13T13:00:43.055343Z"
    },
    "papermill": {
     "duration": 0.04894,
     "end_time": "2022-03-13T13:02:32.759054",
     "exception": false,
     "start_time": "2022-03-13T13:02:32.710114",
     "status": "completed"
    },
    "tags": []
   },
   "outputs": [
    {
     "data": {
      "text/html": [
       "<div>\n",
       "<style scoped>\n",
       "    .dataframe tbody tr th:only-of-type {\n",
       "        vertical-align: middle;\n",
       "    }\n",
       "\n",
       "    .dataframe tbody tr th {\n",
       "        vertical-align: top;\n",
       "    }\n",
       "\n",
       "    .dataframe thead th {\n",
       "        text-align: right;\n",
       "    }\n",
       "</style>\n",
       "<table border=\"1\" class=\"dataframe\">\n",
       "  <thead>\n",
       "    <tr style=\"text-align: right;\">\n",
       "      <th></th>\n",
       "      <th>City</th>\n",
       "      <th>Rank</th>\n",
       "      <th>Sunshine hours(City)</th>\n",
       "      <th>Cost of a bottle of water(City)</th>\n",
       "      <th>Obesity levels(Country)</th>\n",
       "      <th>Life expectancy(years) (Country)</th>\n",
       "      <th>Pollution(Index score) (City)</th>\n",
       "      <th>Annual avg. hours worked</th>\n",
       "      <th>Happiness levels(Country)</th>\n",
       "      <th>Outdoor activities(City)</th>\n",
       "      <th>Number of take out places(City)</th>\n",
       "      <th>Cost of a monthly gym membership(City)</th>\n",
       "    </tr>\n",
       "  </thead>\n",
       "  <tbody>\n",
       "    <tr>\n",
       "      <th>0</th>\n",
       "      <td>Amsterdam</td>\n",
       "      <td>1</td>\n",
       "      <td>1858</td>\n",
       "      <td>£1.92</td>\n",
       "      <td>20.40%</td>\n",
       "      <td>81.2</td>\n",
       "      <td>30.93</td>\n",
       "      <td>1434</td>\n",
       "      <td>7.44</td>\n",
       "      <td>422</td>\n",
       "      <td>1048</td>\n",
       "      <td>£34.90</td>\n",
       "    </tr>\n",
       "    <tr>\n",
       "      <th>1</th>\n",
       "      <td>Sydney</td>\n",
       "      <td>2</td>\n",
       "      <td>2636</td>\n",
       "      <td>£1.48</td>\n",
       "      <td>29.00%</td>\n",
       "      <td>82.1</td>\n",
       "      <td>26.86</td>\n",
       "      <td>1712</td>\n",
       "      <td>7.22</td>\n",
       "      <td>406</td>\n",
       "      <td>1103</td>\n",
       "      <td>£41.66</td>\n",
       "    </tr>\n",
       "    <tr>\n",
       "      <th>2</th>\n",
       "      <td>Vienna</td>\n",
       "      <td>3</td>\n",
       "      <td>1884</td>\n",
       "      <td>£1.94</td>\n",
       "      <td>20.10%</td>\n",
       "      <td>81.0</td>\n",
       "      <td>17.33</td>\n",
       "      <td>1501</td>\n",
       "      <td>7.29</td>\n",
       "      <td>132</td>\n",
       "      <td>1008</td>\n",
       "      <td>£25.74</td>\n",
       "    </tr>\n",
       "    <tr>\n",
       "      <th>3</th>\n",
       "      <td>Stockholm</td>\n",
       "      <td>4</td>\n",
       "      <td>1821</td>\n",
       "      <td>£1.72</td>\n",
       "      <td>20.60%</td>\n",
       "      <td>81.8</td>\n",
       "      <td>19.63</td>\n",
       "      <td>1452</td>\n",
       "      <td>7.35</td>\n",
       "      <td>129</td>\n",
       "      <td>598</td>\n",
       "      <td>£37.31</td>\n",
       "    </tr>\n",
       "    <tr>\n",
       "      <th>4</th>\n",
       "      <td>Copenhagen</td>\n",
       "      <td>5</td>\n",
       "      <td>1630</td>\n",
       "      <td>£2.19</td>\n",
       "      <td>19.70%</td>\n",
       "      <td>79.8</td>\n",
       "      <td>21.24</td>\n",
       "      <td>1380</td>\n",
       "      <td>7.64</td>\n",
       "      <td>154</td>\n",
       "      <td>523</td>\n",
       "      <td>£32.53</td>\n",
       "    </tr>\n",
       "  </tbody>\n",
       "</table>\n",
       "</div>"
      ],
      "text/plain": [
       "         City  Rank Sunshine hours(City) Cost of a bottle of water(City)  \\\n",
       "0   Amsterdam     1                 1858                           £1.92   \n",
       "1      Sydney     2                 2636                           £1.48   \n",
       "2      Vienna     3                 1884                           £1.94   \n",
       "3   Stockholm     4                 1821                           £1.72   \n",
       "4  Copenhagen     5                 1630                           £2.19   \n",
       "\n",
       "  Obesity levels(Country)  Life expectancy(years) (Country)  \\\n",
       "0                  20.40%                              81.2   \n",
       "1                  29.00%                              82.1   \n",
       "2                  20.10%                              81.0   \n",
       "3                  20.60%                              81.8   \n",
       "4                  19.70%                              79.8   \n",
       "\n",
       "  Pollution(Index score) (City) Annual avg. hours worked  \\\n",
       "0                         30.93                     1434   \n",
       "1                         26.86                     1712   \n",
       "2                         17.33                     1501   \n",
       "3                         19.63                     1452   \n",
       "4                         21.24                     1380   \n",
       "\n",
       "   Happiness levels(Country)  Outdoor activities(City)  \\\n",
       "0                       7.44                       422   \n",
       "1                       7.22                       406   \n",
       "2                       7.29                       132   \n",
       "3                       7.35                       129   \n",
       "4                       7.64                       154   \n",
       "\n",
       "   Number of take out places(City) Cost of a monthly gym membership(City)  \n",
       "0                             1048                                 £34.90  \n",
       "1                             1103                                 £41.66  \n",
       "2                             1008                                 £25.74  \n",
       "3                              598                                 £37.31  \n",
       "4                              523                                 £32.53  "
      ]
     },
     "execution_count": 2,
     "metadata": {},
     "output_type": "execute_result"
    }
   ],
   "source": [
    "# looking first 5 rows of the data. Make sure everything is ok.\n",
    "df.head(5)"
   ]
  },
  {
   "cell_type": "markdown",
   "id": "bbf3eb31",
   "metadata": {
    "papermill": {
     "duration": 0.020532,
     "end_time": "2022-03-13T13:02:32.800853",
     "exception": false,
     "start_time": "2022-03-13T13:02:32.780321",
     "status": "completed"
    },
    "tags": []
   },
   "source": [
    "Now we want to see how many columns we have totally"
   ]
  },
  {
   "cell_type": "code",
   "execution_count": 3,
   "id": "e52ccea2",
   "metadata": {
    "execution": {
     "iopub.execute_input": "2022-03-13T13:02:32.848360Z",
     "iopub.status.busy": "2022-03-13T13:02:32.847415Z",
     "iopub.status.idle": "2022-03-13T13:02:32.852230Z",
     "shell.execute_reply": "2022-03-13T13:02:32.852688Z",
     "shell.execute_reply.started": "2022-03-13T13:00:43.088005Z"
    },
    "papermill": {
     "duration": 0.03112,
     "end_time": "2022-03-13T13:02:32.852857",
     "exception": false,
     "start_time": "2022-03-13T13:02:32.821737",
     "status": "completed"
    },
    "tags": []
   },
   "outputs": [
    {
     "data": {
      "text/plain": [
       "12"
      ]
     },
     "execution_count": 3,
     "metadata": {},
     "output_type": "execute_result"
    }
   ],
   "source": [
    "# shape method is used for looking how many rows and columns we have. \n",
    "# [0] represent rows for each data and [1] is for every how many columns we have.\n",
    "df.shape[1]"
   ]
  },
  {
   "cell_type": "code",
   "execution_count": 4,
   "id": "f338585e",
   "metadata": {
    "execution": {
     "iopub.execute_input": "2022-03-13T13:02:32.898799Z",
     "iopub.status.busy": "2022-03-13T13:02:32.897791Z",
     "iopub.status.idle": "2022-03-13T13:02:32.905470Z",
     "shell.execute_reply": "2022-03-13T13:02:32.905982Z",
     "shell.execute_reply.started": "2022-03-13T13:00:43.097517Z"
    },
    "papermill": {
     "duration": 0.03244,
     "end_time": "2022-03-13T13:02:32.906208",
     "exception": false,
     "start_time": "2022-03-13T13:02:32.873768",
     "status": "completed"
    },
    "tags": []
   },
   "outputs": [
    {
     "data": {
      "text/plain": [
       "City                                      0\n",
       "Rank                                      0\n",
       "Sunshine hours(City)                      0\n",
       "Cost of a bottle of water(City)           0\n",
       "Obesity levels(Country)                   0\n",
       "Life expectancy(years) (Country)          0\n",
       "Pollution(Index score) (City)             0\n",
       "Annual avg. hours worked                  0\n",
       "Happiness levels(Country)                 0\n",
       "Outdoor activities(City)                  0\n",
       "Number of take out places(City)           0\n",
       "Cost of a monthly gym membership(City)    0\n",
       "dtype: int64"
      ]
     },
     "execution_count": 4,
     "metadata": {},
     "output_type": "execute_result"
    }
   ],
   "source": [
    "# checking if there is any null value in this dataset.\n",
    "df.isnull().sum()"
   ]
  },
  {
   "cell_type": "markdown",
   "id": "7058f89f",
   "metadata": {
    "papermill": {
     "duration": 0.022552,
     "end_time": "2022-03-13T13:02:32.951503",
     "exception": false,
     "start_time": "2022-03-13T13:02:32.928951",
     "status": "completed"
    },
    "tags": []
   },
   "source": [
    "\n",
    "There is no null data in this dataset, <b>but</b> there is missing values in this dataset represented with '-' character, Let's continue."
   ]
  },
  {
   "cell_type": "code",
   "execution_count": 5,
   "id": "a0797fc7",
   "metadata": {
    "execution": {
     "iopub.execute_input": "2022-03-13T13:02:33.007163Z",
     "iopub.status.busy": "2022-03-13T13:02:33.006446Z",
     "iopub.status.idle": "2022-03-13T13:02:33.034603Z",
     "shell.execute_reply": "2022-03-13T13:02:33.034038Z",
     "shell.execute_reply.started": "2022-03-13T13:00:43.111948Z"
    },
    "papermill": {
     "duration": 0.060817,
     "end_time": "2022-03-13T13:02:33.034753",
     "exception": false,
     "start_time": "2022-03-13T13:02:32.973936",
     "status": "completed"
    },
    "tags": []
   },
   "outputs": [
    {
     "data": {
      "text/html": [
       "<div>\n",
       "<style scoped>\n",
       "    .dataframe tbody tr th:only-of-type {\n",
       "        vertical-align: middle;\n",
       "    }\n",
       "\n",
       "    .dataframe tbody tr th {\n",
       "        vertical-align: top;\n",
       "    }\n",
       "\n",
       "    .dataframe thead th {\n",
       "        text-align: right;\n",
       "    }\n",
       "</style>\n",
       "<table border=\"1\" class=\"dataframe\">\n",
       "  <thead>\n",
       "    <tr style=\"text-align: right;\">\n",
       "      <th></th>\n",
       "      <th>Rank</th>\n",
       "      <th>Life expectancy(years) (Country)</th>\n",
       "      <th>Happiness levels(Country)</th>\n",
       "      <th>Outdoor activities(City)</th>\n",
       "      <th>Number of take out places(City)</th>\n",
       "    </tr>\n",
       "  </thead>\n",
       "  <tbody>\n",
       "    <tr>\n",
       "      <th>count</th>\n",
       "      <td>44.000000</td>\n",
       "      <td>44.00000</td>\n",
       "      <td>44.000000</td>\n",
       "      <td>44.000000</td>\n",
       "      <td>44.000000</td>\n",
       "    </tr>\n",
       "    <tr>\n",
       "      <th>mean</th>\n",
       "      <td>22.500000</td>\n",
       "      <td>78.17500</td>\n",
       "      <td>6.435000</td>\n",
       "      <td>213.977273</td>\n",
       "      <td>1443.113636</td>\n",
       "    </tr>\n",
       "    <tr>\n",
       "      <th>std</th>\n",
       "      <td>12.845233</td>\n",
       "      <td>5.30437</td>\n",
       "      <td>0.991202</td>\n",
       "      <td>127.190297</td>\n",
       "      <td>1388.803270</td>\n",
       "    </tr>\n",
       "    <tr>\n",
       "      <th>min</th>\n",
       "      <td>1.000000</td>\n",
       "      <td>56.30000</td>\n",
       "      <td>3.570000</td>\n",
       "      <td>23.000000</td>\n",
       "      <td>250.000000</td>\n",
       "    </tr>\n",
       "    <tr>\n",
       "      <th>25%</th>\n",
       "      <td>11.750000</td>\n",
       "      <td>75.40000</td>\n",
       "      <td>5.870000</td>\n",
       "      <td>125.250000</td>\n",
       "      <td>548.000000</td>\n",
       "    </tr>\n",
       "    <tr>\n",
       "      <th>50%</th>\n",
       "      <td>22.500000</td>\n",
       "      <td>80.40000</td>\n",
       "      <td>6.900000</td>\n",
       "      <td>189.500000</td>\n",
       "      <td>998.000000</td>\n",
       "    </tr>\n",
       "    <tr>\n",
       "      <th>75%</th>\n",
       "      <td>33.250000</td>\n",
       "      <td>81.80000</td>\n",
       "      <td>7.175000</td>\n",
       "      <td>288.250000</td>\n",
       "      <td>1674.250000</td>\n",
       "    </tr>\n",
       "    <tr>\n",
       "      <th>max</th>\n",
       "      <td>44.000000</td>\n",
       "      <td>83.20000</td>\n",
       "      <td>7.800000</td>\n",
       "      <td>585.000000</td>\n",
       "      <td>6417.000000</td>\n",
       "    </tr>\n",
       "  </tbody>\n",
       "</table>\n",
       "</div>"
      ],
      "text/plain": [
       "            Rank  Life expectancy(years) (Country)  Happiness levels(Country)  \\\n",
       "count  44.000000                          44.00000                  44.000000   \n",
       "mean   22.500000                          78.17500                   6.435000   \n",
       "std    12.845233                           5.30437                   0.991202   \n",
       "min     1.000000                          56.30000                   3.570000   \n",
       "25%    11.750000                          75.40000                   5.870000   \n",
       "50%    22.500000                          80.40000                   6.900000   \n",
       "75%    33.250000                          81.80000                   7.175000   \n",
       "max    44.000000                          83.20000                   7.800000   \n",
       "\n",
       "       Outdoor activities(City)  Number of take out places(City)  \n",
       "count                 44.000000                        44.000000  \n",
       "mean                 213.977273                      1443.113636  \n",
       "std                  127.190297                      1388.803270  \n",
       "min                   23.000000                       250.000000  \n",
       "25%                  125.250000                       548.000000  \n",
       "50%                  189.500000                       998.000000  \n",
       "75%                  288.250000                      1674.250000  \n",
       "max                  585.000000                      6417.000000  "
      ]
     },
     "execution_count": 5,
     "metadata": {},
     "output_type": "execute_result"
    }
   ],
   "source": [
    "# this method is used for quick understanding of descriptive statistics about our dataset.\n",
    "df.describe()"
   ]
  },
  {
   "cell_type": "markdown",
   "id": "efdd10c7",
   "metadata": {
    "papermill": {
     "duration": 0.023157,
     "end_time": "2022-03-13T13:02:33.080341",
     "exception": false,
     "start_time": "2022-03-13T13:02:33.057184",
     "status": "completed"
    },
    "tags": []
   },
   "source": [
    "Some of the data is not showing here because there is some missing values and different dtypes on this datalist lets make them iterable for this method.\n",
    "First of all we need to implement a lambda function for some columns having '%' and '£' sign."
   ]
  },
  {
   "cell_type": "code",
   "execution_count": 6,
   "id": "035134b2",
   "metadata": {
    "execution": {
     "iopub.execute_input": "2022-03-13T13:02:33.134154Z",
     "iopub.status.busy": "2022-03-13T13:02:33.133491Z",
     "iopub.status.idle": "2022-03-13T13:02:33.136092Z",
     "shell.execute_reply": "2022-03-13T13:02:33.136566Z",
     "shell.execute_reply.started": "2022-03-13T13:00:43.158541Z"
    },
    "papermill": {
     "duration": 0.032812,
     "end_time": "2022-03-13T13:02:33.136737",
     "exception": false,
     "start_time": "2022-03-13T13:02:33.103925",
     "status": "completed"
    },
    "tags": []
   },
   "outputs": [
    {
     "data": {
      "text/plain": [
       "City                                       object\n",
       "Rank                                        int64\n",
       "Sunshine hours(City)                       object\n",
       "Cost of a bottle of water(City)            object\n",
       "Obesity levels(Country)                    object\n",
       "Life expectancy(years) (Country)          float64\n",
       "Pollution(Index score) (City)              object\n",
       "Annual avg. hours worked                   object\n",
       "Happiness levels(Country)                 float64\n",
       "Outdoor activities(City)                    int64\n",
       "Number of take out places(City)             int64\n",
       "Cost of a monthly gym membership(City)     object\n",
       "dtype: object"
      ]
     },
     "execution_count": 6,
     "metadata": {},
     "output_type": "execute_result"
    }
   ],
   "source": [
    "# checking data types of each column in this dataset.\n",
    "df.dtypes"
   ]
  },
  {
   "cell_type": "markdown",
   "id": "0ba9dc5d",
   "metadata": {
    "papermill": {
     "duration": 0.022875,
     "end_time": "2022-03-13T13:02:33.182838",
     "exception": false,
     "start_time": "2022-03-13T13:02:33.159963",
     "status": "completed"
    },
    "tags": []
   },
   "source": [
    "### Making type conversions"
   ]
  },
  {
   "cell_type": "code",
   "execution_count": 7,
   "id": "6d174cb4",
   "metadata": {
    "execution": {
     "iopub.execute_input": "2022-03-13T13:02:33.235461Z",
     "iopub.status.busy": "2022-03-13T13:02:33.234837Z",
     "iopub.status.idle": "2022-03-13T13:02:33.243971Z",
     "shell.execute_reply": "2022-03-13T13:02:33.244530Z",
     "shell.execute_reply.started": "2022-03-13T13:00:43.168056Z"
    },
    "papermill": {
     "duration": 0.038525,
     "end_time": "2022-03-13T13:02:33.244713",
     "exception": false,
     "start_time": "2022-03-13T13:02:33.206188",
     "status": "completed"
    },
    "tags": []
   },
   "outputs": [],
   "source": [
    "# first we need to get rid of '-' on Sunshine hours(City) column and '-' Pollution(Index score) (City) column for able to convert their dtypes.\n",
    "df['Sunshine hours(City)'] = df['Sunshine hours(City)'].replace(['-'], None)\n",
    "df['Pollution(Index score) (City)'] = df['Pollution(Index score) (City)'].replace(['-'], None)\n",
    "df = df.astype({'Rank': int, 'Sunshine hours(City)': int, 'Pollution(Index score) (City)': float})"
   ]
  },
  {
   "cell_type": "code",
   "execution_count": 8,
   "id": "e616e70a",
   "metadata": {
    "execution": {
     "iopub.execute_input": "2022-03-13T13:02:33.294827Z",
     "iopub.status.busy": "2022-03-13T13:02:33.294143Z",
     "iopub.status.idle": "2022-03-13T13:02:33.302699Z",
     "shell.execute_reply": "2022-03-13T13:02:33.302164Z",
     "shell.execute_reply.started": "2022-03-13T13:00:43.187365Z"
    },
    "papermill": {
     "duration": 0.035056,
     "end_time": "2022-03-13T13:02:33.302863",
     "exception": false,
     "start_time": "2022-03-13T13:02:33.267807",
     "status": "completed"
    },
    "tags": []
   },
   "outputs": [],
   "source": [
    "# The meaning of the function is we are taking the data 'x' and pass the first character, start from index 1 and go through the last character [:-1].\n",
    "float_maker = lambda x: float(x[1:-1])\n",
    "df['Cost of a bottle of water(City)'] = df['Cost of a bottle of water(City)'].apply(float_maker)\n",
    "df['Cost of a monthly gym membership(City)'] = df['Cost of a monthly gym membership(City)'].apply(float_maker)\n",
    "# For obesity levels we need to take the data 'x' and start from index 0 and go through last character - 1 [:-2].\n",
    "float_maker_2 = lambda x: float(x[0:-2])\n",
    "df['Obesity levels(Country)'] = df['Obesity levels(Country)'].apply(float_maker_2)"
   ]
  },
  {
   "cell_type": "code",
   "execution_count": 9,
   "id": "7f5f0671",
   "metadata": {
    "execution": {
     "iopub.execute_input": "2022-03-13T13:02:33.355520Z",
     "iopub.status.busy": "2022-03-13T13:02:33.354858Z",
     "iopub.status.idle": "2022-03-13T13:02:33.356651Z",
     "shell.execute_reply": "2022-03-13T13:02:33.357057Z",
     "shell.execute_reply.started": "2022-03-13T13:00:43.201480Z"
    },
    "papermill": {
     "duration": 0.031088,
     "end_time": "2022-03-13T13:02:33.357251",
     "exception": false,
     "start_time": "2022-03-13T13:02:33.326163",
     "status": "completed"
    },
    "tags": []
   },
   "outputs": [],
   "source": [
    "# We need to replace all nan values with mean values of their column.\n",
    "df['Sunshine hours(City)'].fillna((df['Sunshine hours(City)'].mean()), inplace = True)\n",
    "df['Pollution(Index score) (City)'].fillna((df['Pollution(Index score) (City)'].mean()), inplace = True)"
   ]
  },
  {
   "cell_type": "code",
   "execution_count": 10,
   "id": "f99428e3",
   "metadata": {
    "execution": {
     "iopub.execute_input": "2022-03-13T13:02:33.410629Z",
     "iopub.status.busy": "2022-03-13T13:02:33.406040Z",
     "iopub.status.idle": "2022-03-13T13:02:33.413100Z",
     "shell.execute_reply": "2022-03-13T13:02:33.413562Z",
     "shell.execute_reply.started": "2022-03-13T13:00:43.215087Z"
    },
    "papermill": {
     "duration": 0.033996,
     "end_time": "2022-03-13T13:02:33.413726",
     "exception": false,
     "start_time": "2022-03-13T13:02:33.379730",
     "status": "completed"
    },
    "tags": []
   },
   "outputs": [
    {
     "data": {
      "text/plain": [
       "25"
      ]
     },
     "execution_count": 10,
     "metadata": {},
     "output_type": "execute_result"
    }
   ],
   "source": [
    "# Percentage of missing values on Avg Hours Worked column.\n",
    "(round(len(df[df['Annual avg. hours worked'] == '-']) / len(df['Annual avg. hours worked']) * 100))"
   ]
  },
  {
   "cell_type": "markdown",
   "id": "440530fd",
   "metadata": {
    "papermill": {
     "duration": 0.022375,
     "end_time": "2022-03-13T13:02:33.459689",
     "exception": false,
     "start_time": "2022-03-13T13:02:33.437314",
     "status": "completed"
    },
    "tags": []
   },
   "source": [
    "Now we need to decide what we are going to do with '-' characters which represent missing values on this dataset. I decided to give Geneva mean value of sunshine hours column. But for Annual avg. hours worked column there is too much missing data. It is <b> %25</b> of the dataset. I decided to drop this column."
   ]
  },
  {
   "cell_type": "code",
   "execution_count": 11,
   "id": "420083f6",
   "metadata": {
    "execution": {
     "iopub.execute_input": "2022-03-13T13:02:33.509266Z",
     "iopub.status.busy": "2022-03-13T13:02:33.508660Z",
     "iopub.status.idle": "2022-03-13T13:02:33.514761Z",
     "shell.execute_reply": "2022-03-13T13:02:33.514209Z",
     "shell.execute_reply.started": "2022-03-13T13:00:43.228424Z"
    },
    "papermill": {
     "duration": 0.032679,
     "end_time": "2022-03-13T13:02:33.514905",
     "exception": false,
     "start_time": "2022-03-13T13:02:33.482226",
     "status": "completed"
    },
    "tags": []
   },
   "outputs": [],
   "source": [
    "df.drop('Annual avg. hours worked', axis=1, inplace=True)"
   ]
  },
  {
   "cell_type": "code",
   "execution_count": 12,
   "id": "31972116",
   "metadata": {
    "execution": {
     "iopub.execute_input": "2022-03-13T13:02:33.566561Z",
     "iopub.status.busy": "2022-03-13T13:02:33.565903Z",
     "iopub.status.idle": "2022-03-13T13:02:33.568296Z",
     "shell.execute_reply": "2022-03-13T13:02:33.568914Z",
     "shell.execute_reply.started": "2022-03-13T13:00:43.243037Z"
    },
    "papermill": {
     "duration": 0.03114,
     "end_time": "2022-03-13T13:02:33.569085",
     "exception": false,
     "start_time": "2022-03-13T13:02:33.537945",
     "status": "completed"
    },
    "tags": []
   },
   "outputs": [],
   "source": [
    "# we are setting our rank column as a index.\n",
    "df = df.set_index('Rank')"
   ]
  },
  {
   "cell_type": "markdown",
   "id": "29fb7475",
   "metadata": {
    "papermill": {
     "duration": 0.02223,
     "end_time": "2022-03-13T13:02:33.614308",
     "exception": false,
     "start_time": "2022-03-13T13:02:33.592078",
     "status": "completed"
    },
    "tags": []
   },
   "source": [
    "Finally, we can see other columns statistical values with describe method."
   ]
  },
  {
   "cell_type": "code",
   "execution_count": 13,
   "id": "f0162764",
   "metadata": {
    "execution": {
     "iopub.execute_input": "2022-03-13T13:02:33.701917Z",
     "iopub.status.busy": "2022-03-13T13:02:33.681979Z",
     "iopub.status.idle": "2022-03-13T13:02:33.706070Z",
     "shell.execute_reply": "2022-03-13T13:02:33.705620Z",
     "shell.execute_reply.started": "2022-03-13T13:00:43.263189Z"
    },
    "papermill": {
     "duration": 0.069319,
     "end_time": "2022-03-13T13:02:33.706214",
     "exception": false,
     "start_time": "2022-03-13T13:02:33.636895",
     "status": "completed"
    },
    "tags": []
   },
   "outputs": [
    {
     "data": {
      "text/html": [
       "<div>\n",
       "<style scoped>\n",
       "    .dataframe tbody tr th:only-of-type {\n",
       "        vertical-align: middle;\n",
       "    }\n",
       "\n",
       "    .dataframe tbody tr th {\n",
       "        vertical-align: top;\n",
       "    }\n",
       "\n",
       "    .dataframe thead th {\n",
       "        text-align: right;\n",
       "    }\n",
       "</style>\n",
       "<table border=\"1\" class=\"dataframe\">\n",
       "  <thead>\n",
       "    <tr style=\"text-align: right;\">\n",
       "      <th></th>\n",
       "      <th>Sunshine hours(City)</th>\n",
       "      <th>Cost of a bottle of water(City)</th>\n",
       "      <th>Obesity levels(Country)</th>\n",
       "      <th>Life expectancy(years) (Country)</th>\n",
       "      <th>Pollution(Index score) (City)</th>\n",
       "      <th>Happiness levels(Country)</th>\n",
       "      <th>Outdoor activities(City)</th>\n",
       "      <th>Number of take out places(City)</th>\n",
       "      <th>Cost of a monthly gym membership(City)</th>\n",
       "    </tr>\n",
       "  </thead>\n",
       "  <tbody>\n",
       "    <tr>\n",
       "      <th>count</th>\n",
       "      <td>44.000</td>\n",
       "      <td>44.000</td>\n",
       "      <td>44.000</td>\n",
       "      <td>44.000</td>\n",
       "      <td>44.000</td>\n",
       "      <td>44.000</td>\n",
       "      <td>44.000</td>\n",
       "      <td>44.000</td>\n",
       "      <td>44.000</td>\n",
       "    </tr>\n",
       "    <tr>\n",
       "      <th>mean</th>\n",
       "      <td>2232.591</td>\n",
       "      <td>1.127</td>\n",
       "      <td>21.925</td>\n",
       "      <td>78.175</td>\n",
       "      <td>50.258</td>\n",
       "      <td>6.435</td>\n",
       "      <td>213.977</td>\n",
       "      <td>1443.114</td>\n",
       "      <td>40.380</td>\n",
       "    </tr>\n",
       "    <tr>\n",
       "      <th>std</th>\n",
       "      <td>567.633</td>\n",
       "      <td>0.729</td>\n",
       "      <td>10.196</td>\n",
       "      <td>5.304</td>\n",
       "      <td>22.349</td>\n",
       "      <td>0.991</td>\n",
       "      <td>127.190</td>\n",
       "      <td>1388.803</td>\n",
       "      <td>15.008</td>\n",
       "    </tr>\n",
       "    <tr>\n",
       "      <th>min</th>\n",
       "      <td>1405.000</td>\n",
       "      <td>0.100</td>\n",
       "      <td>3.900</td>\n",
       "      <td>56.300</td>\n",
       "      <td>13.080</td>\n",
       "      <td>3.570</td>\n",
       "      <td>23.000</td>\n",
       "      <td>250.000</td>\n",
       "      <td>16.000</td>\n",
       "    </tr>\n",
       "    <tr>\n",
       "      <th>25%</th>\n",
       "      <td>1747.500</td>\n",
       "      <td>0.500</td>\n",
       "      <td>19.500</td>\n",
       "      <td>75.400</td>\n",
       "      <td>30.010</td>\n",
       "      <td>5.870</td>\n",
       "      <td>125.250</td>\n",
       "      <td>548.000</td>\n",
       "      <td>31.300</td>\n",
       "    </tr>\n",
       "    <tr>\n",
       "      <th>50%</th>\n",
       "      <td>2066.000</td>\n",
       "      <td>1.150</td>\n",
       "      <td>22.300</td>\n",
       "      <td>80.400</td>\n",
       "      <td>50.980</td>\n",
       "      <td>6.900</td>\n",
       "      <td>189.500</td>\n",
       "      <td>998.000</td>\n",
       "      <td>37.300</td>\n",
       "    </tr>\n",
       "    <tr>\n",
       "      <th>75%</th>\n",
       "      <td>2626.500</td>\n",
       "      <td>1.600</td>\n",
       "      <td>29.000</td>\n",
       "      <td>81.800</td>\n",
       "      <td>66.350</td>\n",
       "      <td>7.175</td>\n",
       "      <td>288.250</td>\n",
       "      <td>1674.250</td>\n",
       "      <td>47.150</td>\n",
       "    </tr>\n",
       "    <tr>\n",
       "      <th>max</th>\n",
       "      <td>3542.000</td>\n",
       "      <td>3.200</td>\n",
       "      <td>36.200</td>\n",
       "      <td>83.200</td>\n",
       "      <td>91.740</td>\n",
       "      <td>7.800</td>\n",
       "      <td>585.000</td>\n",
       "      <td>6417.000</td>\n",
       "      <td>73.100</td>\n",
       "    </tr>\n",
       "  </tbody>\n",
       "</table>\n",
       "</div>"
      ],
      "text/plain": [
       "       Sunshine hours(City)  Cost of a bottle of water(City)  \\\n",
       "count                44.000                           44.000   \n",
       "mean               2232.591                            1.127   \n",
       "std                 567.633                            0.729   \n",
       "min                1405.000                            0.100   \n",
       "25%                1747.500                            0.500   \n",
       "50%                2066.000                            1.150   \n",
       "75%                2626.500                            1.600   \n",
       "max                3542.000                            3.200   \n",
       "\n",
       "       Obesity levels(Country)  Life expectancy(years) (Country)  \\\n",
       "count                   44.000                            44.000   \n",
       "mean                    21.925                            78.175   \n",
       "std                     10.196                             5.304   \n",
       "min                      3.900                            56.300   \n",
       "25%                     19.500                            75.400   \n",
       "50%                     22.300                            80.400   \n",
       "75%                     29.000                            81.800   \n",
       "max                     36.200                            83.200   \n",
       "\n",
       "       Pollution(Index score) (City)  Happiness levels(Country)  \\\n",
       "count                         44.000                     44.000   \n",
       "mean                          50.258                      6.435   \n",
       "std                           22.349                      0.991   \n",
       "min                           13.080                      3.570   \n",
       "25%                           30.010                      5.870   \n",
       "50%                           50.980                      6.900   \n",
       "75%                           66.350                      7.175   \n",
       "max                           91.740                      7.800   \n",
       "\n",
       "       Outdoor activities(City)  Number of take out places(City)  \\\n",
       "count                    44.000                           44.000   \n",
       "mean                    213.977                         1443.114   \n",
       "std                     127.190                         1388.803   \n",
       "min                      23.000                          250.000   \n",
       "25%                     125.250                          548.000   \n",
       "50%                     189.500                          998.000   \n",
       "75%                     288.250                         1674.250   \n",
       "max                     585.000                         6417.000   \n",
       "\n",
       "       Cost of a monthly gym membership(City)  \n",
       "count                                  44.000  \n",
       "mean                                   40.380  \n",
       "std                                    15.008  \n",
       "min                                    16.000  \n",
       "25%                                    31.300  \n",
       "50%                                    37.300  \n",
       "75%                                    47.150  \n",
       "max                                    73.100  "
      ]
     },
     "execution_count": 13,
     "metadata": {},
     "output_type": "execute_result"
    }
   ],
   "source": [
    "df.describe().round(3)"
   ]
  },
  {
   "cell_type": "markdown",
   "id": "9a0e0e13",
   "metadata": {
    "papermill": {
     "duration": 0.023496,
     "end_time": "2022-03-13T13:02:33.753446",
     "exception": false,
     "start_time": "2022-03-13T13:02:33.729950",
     "status": "completed"
    },
    "tags": []
   },
   "source": [
    "### Now we can Visualize Data"
   ]
  },
  {
   "cell_type": "code",
   "execution_count": 14,
   "id": "7d635575",
   "metadata": {
    "execution": {
     "iopub.execute_input": "2022-03-13T13:02:33.805876Z",
     "iopub.status.busy": "2022-03-13T13:02:33.804907Z",
     "iopub.status.idle": "2022-03-13T13:02:34.527782Z",
     "shell.execute_reply": "2022-03-13T13:02:34.528251Z",
     "shell.execute_reply.started": "2022-03-13T13:00:43.312287Z"
    },
    "papermill": {
     "duration": 0.750871,
     "end_time": "2022-03-13T13:02:34.528434",
     "exception": false,
     "start_time": "2022-03-13T13:02:33.777563",
     "status": "completed"
    },
    "tags": []
   },
   "outputs": [
    {
     "data": {
      "image/png": "[encoded data removed]",
      "text/plain": [
       "<Figure size 720x576 with 2 Axes>"
      ]
     },
     "metadata": {
      "needs_background": "light"
     },
     "output_type": "display_data"
    }
   ],
   "source": [
    "corr = df.corr()\n",
    "\n",
    "sns.heatmap(corr,xticklabels=corr.columns, yticklabels=corr.columns, annot=True, cmap='viridis')\n",
    "fig=plt.gcf()\n",
    "fig.set_size_inches(10,8)\n",
    "plt.show()"
   ]
  },
  {
   "cell_type": "code",
   "execution_count": 15,
   "id": "92f89553",
   "metadata": {
    "execution": {
     "iopub.execute_input": "2022-03-13T13:02:34.587352Z",
     "iopub.status.busy": "2022-03-13T13:02:34.586376Z",
     "iopub.status.idle": "2022-03-13T13:02:34.905092Z",
     "shell.execute_reply": "2022-03-13T13:02:34.905671Z",
     "shell.execute_reply.started": "2022-03-13T13:00:44.100382Z"
    },
    "papermill": {
     "duration": 0.348371,
     "end_time": "2022-03-13T13:02:34.905872",
     "exception": false,
     "start_time": "2022-03-13T13:02:34.557501",
     "status": "completed"
    },
    "tags": []
   },
   "outputs": [
    {
     "data": {
      "image/png": "[encoded data removed]",
      "text/plain": [
       "<Figure size 864x360 with 1 Axes>"
      ]
     },
     "metadata": {
      "needs_background": "light"
     },
     "output_type": "display_data"
    }
   ],
   "source": [
    "sns.scatterplot(x='Cost of a bottle of water(City)', y='Happiness levels(Country)', data=df, hue='Rank', s= 100)\n",
    "plt.show()"
   ]
  },
  {
   "cell_type": "markdown",
   "id": "0017629c",
   "metadata": {
    "papermill": {
     "duration": 0.026623,
     "end_time": "2022-03-13T13:02:34.960082",
     "exception": false,
     "start_time": "2022-03-13T13:02:34.933459",
     "status": "completed"
    },
    "tags": []
   },
   "source": [
    "This is kind a wrong relation. And also there is couple outlier values.\n",
    "<b>Be Careful!</b> This dataset do not have enough data to validate this relation is correct or not."
   ]
  },
  {
   "cell_type": "code",
   "execution_count": 16,
   "id": "fd1d4a91",
   "metadata": {
    "execution": {
     "iopub.execute_input": "2022-03-13T13:02:35.018391Z",
     "iopub.status.busy": "2022-03-13T13:02:35.017344Z",
     "iopub.status.idle": "2022-03-13T13:02:35.333826Z",
     "shell.execute_reply": "2022-03-13T13:02:35.334323Z",
     "shell.execute_reply.started": "2022-03-13T13:00:44.398233Z"
    },
    "papermill": {
     "duration": 0.34691,
     "end_time": "2022-03-13T13:02:35.334513",
     "exception": false,
     "start_time": "2022-03-13T13:02:34.987603",
     "status": "completed"
    },
    "tags": []
   },
   "outputs": [
    {
     "data": {
      "image/png": "[encoded data removed]",
      "text/plain": [
       "<Figure size 864x360 with 1 Axes>"
      ]
     },
     "metadata": {
      "needs_background": "light"
     },
     "output_type": "display_data"
    }
   ],
   "source": [
    "sns.scatterplot(x='Pollution(Index score) (City)', y='Happiness levels(Country)', data=df, hue='Rank', s= 100)\n",
    "plt.show()"
   ]
  },
  {
   "cell_type": "markdown",
   "id": "f9fc7907",
   "metadata": {
    "papermill": {
     "duration": 0.027643,
     "end_time": "2022-03-13T13:02:35.389912",
     "exception": false,
     "start_time": "2022-03-13T13:02:35.362269",
     "status": "completed"
    },
    "tags": []
   },
   "source": [
    "This might be a correct relation!. If the city have lower pollution levels Happiness level is higher."
   ]
  },
  {
   "cell_type": "code",
   "execution_count": 17,
   "id": "e2cf87b9",
   "metadata": {
    "execution": {
     "iopub.execute_input": "2022-03-13T13:02:35.450035Z",
     "iopub.status.busy": "2022-03-13T13:02:35.449214Z",
     "iopub.status.idle": "2022-03-13T13:02:35.785557Z",
     "shell.execute_reply": "2022-03-13T13:02:35.786611Z",
     "shell.execute_reply.started": "2022-03-13T13:00:44.691944Z"
    },
    "papermill": {
     "duration": 0.368591,
     "end_time": "2022-03-13T13:02:35.786788",
     "exception": false,
     "start_time": "2022-03-13T13:02:35.418197",
     "status": "completed"
    },
    "tags": []
   },
   "outputs": [
    {
     "data": {
      "image/png": "[encoded data removed]",
      "text/plain": [
       "<Figure size 864x360 with 1 Axes>"
      ]
     },
     "metadata": {
      "needs_background": "light"
     },
     "output_type": "display_data"
    }
   ],
   "source": [
    "sns.scatterplot(x='Pollution(Index score) (City)', y='Cost of a bottle of water(City)', data=df, hue='Rank',s= 100)\n",
    "plt.show()"
   ]
  },
  {
   "cell_type": "markdown",
   "id": "6543e398",
   "metadata": {
    "papermill": {
     "duration": 0.030616,
     "end_time": "2022-03-13T13:02:35.846440",
     "exception": false,
     "start_time": "2022-03-13T13:02:35.815824",
     "status": "completed"
    },
    "tags": []
   },
   "source": [
    "Scatterplot between <b>bottle of water price and pollution</b>. Interesting ??<br>\n",
    "If you know why this is happened let me know in the comments."
   ]
  },
  {
   "cell_type": "code",
   "execution_count": 18,
   "id": "8690db4f",
   "metadata": {
    "execution": {
     "iopub.execute_input": "2022-03-13T13:02:35.928777Z",
     "iopub.status.busy": "2022-03-13T13:02:35.927742Z",
     "iopub.status.idle": "2022-03-13T13:02:36.147070Z",
     "shell.execute_reply": "2022-03-13T13:02:36.146549Z",
     "shell.execute_reply.started": "2022-03-13T13:00:45.052888Z"
    },
    "papermill": {
     "duration": 0.270384,
     "end_time": "2022-03-13T13:02:36.147218",
     "exception": false,
     "start_time": "2022-03-13T13:02:35.876834",
     "status": "completed"
    },
    "tags": []
   },
   "outputs": [
    {
     "data": {
      "image/png": "[encoded data removed]",
      "text/plain": [
       "<Figure size 864x360 with 1 Axes>"
      ]
     },
     "metadata": {
      "needs_background": "light"
     },
     "output_type": "display_data"
    }
   ],
   "source": [
    "sns.histplot(data=df, x='Happiness levels(Country)', bins = 10, kde=True)\n",
    "plt.show()"
   ]
  },
  {
   "cell_type": "markdown",
   "id": "10c4bc0e",
   "metadata": {
    "papermill": {
     "duration": 0.029857,
     "end_time": "2022-03-13T13:02:36.207347",
     "exception": false,
     "start_time": "2022-03-13T13:02:36.177490",
     "status": "completed"
    },
    "tags": []
   },
   "source": [
    "### Conclusion\n",
    "\n",
    "Thanks for reading my notebook. This is my first EDA work so if there is something wrong let me know on the comments! Thank you :)"
   ]
  }
 ],
 "metadata": {
  "kernelspec": {
   "display_name": "Python 3",
   "language": "python",
   "name": "python3"
  },
  "language_info": {
   "codemirror_mode": {
    "name": "ipython",
    "version": 3
   },
   "file_extension": ".py",
   "mimetype": "text/x-python",
   "name": "python",
   "nbconvert_exporter": "python",
   "pygments_lexer": "ipython3",
   "version": "3.7.12"
  },
  "papermill": {
   "default_parameters": {},
   "duration": 14.666604,
   "end_time": "2022-03-13T13:02:36.948807",
   "environment_variables": {},
   "exception": null,
   "input_path": "__notebook__.ipynb",
   "output_path": "__notebook__.ipynb",
   "parameters": {},
   "start_time": "2022-03-13T13:02:22.282203",
   "version": "2.3.3"
  }
 },
 "nbformat": 4,
 "nbformat_minor": 5
}
