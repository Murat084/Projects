{
 "cells": [
  {
   "cell_type": "code",
   "execution_count": 1,
   "id": "2b157557",
   "metadata": {
    "_cell_guid": "b1076dfc-b9ad-4769-8c92-a6c4dae69d19",
    "_uuid": "8f2839f25d086af736a60e9eeb907d3b93b6e0e5",
    "execution": {
     "iopub.execute_input": "2022-03-03T15:08:53.651999Z",
     "iopub.status.busy": "2022-03-03T15:08:53.650920Z",
     "iopub.status.idle": "2022-03-03T15:08:53.677024Z",
     "shell.execute_reply": "2022-03-03T15:08:53.676257Z",
     "shell.execute_reply.started": "2022-03-03T14:36:57.938999Z"
    },
    "papermill": {
     "duration": 0.042464,
     "end_time": "2022-03-03T15:08:53.677203",
     "exception": false,
     "start_time": "2022-03-03T15:08:53.634739",
     "status": "completed"
    },
    "tags": []
   },
   "outputs": [
    {
     "name": "stdout",
     "output_type": "stream",
     "text": [
      "/kaggle/input/healthy-lifestyle-cities-report-2021/healthy_lifestyle_city_2021.csv\n"
     ]
    }
   ],
   "source": [
    "# This Python 3 environment comes with many helpful analytics libraries installed\n",
    "# It is defined by the kaggle/python Docker image: https://github.com/kaggle/docker-python\n",
    "# For example, here's several helpful packages to load\n",
    "\n",
    "import numpy as np # linear algebra\n",
    "import pandas as pd # data processing, CSV file I/O (e.g. pd.read_csv)\n",
    "\n",
    "# Input data files are available in the read-only \"../input/\" directory\n",
    "# For example, running this (by clicking run or pressing Shift+Enter) will list all files under the input directory\n",
    "\n",
    "import os\n",
    "for dirname, _, filenames in os.walk('/kaggle/input'):\n",
    "    for filename in filenames:\n",
    "        print(os.path.join(dirname, filename))\n",
    "\n",
    "# You can write up to 20GB to the current directory (/kaggle/working/) that gets preserved as output when you create a version using \"Save & Run All\" \n",
    "# You can also write temporary files to /kaggle/temp/, but they won't be saved outside of the current session\n",
    "%config Completer.use_jedi = False"
   ]
  },
  {
   "cell_type": "markdown",
   "id": "b6cc3c19",
   "metadata": {
    "papermill": {
     "duration": 0.01138,
     "end_time": "2022-03-03T15:08:53.701155",
     "exception": false,
     "start_time": "2022-03-03T15:08:53.689775",
     "status": "completed"
    },
    "tags": []
   },
   "source": [
    "# import Libraries "
   ]
  },
  {
   "cell_type": "code",
   "execution_count": 2,
   "id": "97d57fc6",
   "metadata": {
    "execution": {
     "iopub.execute_input": "2022-03-03T15:08:53.729575Z",
     "iopub.status.busy": "2022-03-03T15:08:53.728948Z",
     "iopub.status.idle": "2022-03-03T15:08:54.746394Z",
     "shell.execute_reply": "2022-03-03T15:08:54.745859Z",
     "shell.execute_reply.started": "2022-03-03T14:37:03.012562Z"
    },
    "papermill": {
     "duration": 1.033696,
     "end_time": "2022-03-03T15:08:54.746537",
     "exception": false,
     "start_time": "2022-03-03T15:08:53.712841",
     "status": "completed"
    },
    "tags": []
   },
   "outputs": [],
   "source": [
    "import pandas as pd\n",
    "import numpy as np\n",
    "\n",
    "import matplotlib.pyplot as plt\n",
    "import seaborn as sns"
   ]
  },
  {
   "cell_type": "markdown",
   "id": "1c5d89c5",
   "metadata": {
    "papermill": {
     "duration": 0.011903,
     "end_time": "2022-03-03T15:08:54.770459",
     "exception": false,
     "start_time": "2022-03-03T15:08:54.758556",
     "status": "completed"
    },
    "tags": []
   },
   "source": [
    "# Read Data"
   ]
  },
  {
   "cell_type": "code",
   "execution_count": 3,
   "id": "96f2eab7",
   "metadata": {
    "execution": {
     "iopub.execute_input": "2022-03-03T15:08:54.800433Z",
     "iopub.status.busy": "2022-03-03T15:08:54.799742Z",
     "iopub.status.idle": "2022-03-03T15:08:54.812880Z",
     "shell.execute_reply": "2022-03-03T15:08:54.813465Z",
     "shell.execute_reply.started": "2022-03-03T14:37:05.912226Z"
    },
    "papermill": {
     "duration": 0.03149,
     "end_time": "2022-03-03T15:08:54.813639",
     "exception": false,
     "start_time": "2022-03-03T15:08:54.782149",
     "status": "completed"
    },
    "tags": []
   },
   "outputs": [],
   "source": [
    "data = pd.read_csv('/kaggle/input/healthy-lifestyle-cities-report-2021/healthy_lifestyle_city_2021.csv')"
   ]
  },
  {
   "cell_type": "code",
   "execution_count": 4,
   "id": "1ce188ff",
   "metadata": {
    "execution": {
     "iopub.execute_input": "2022-03-03T15:08:54.841449Z",
     "iopub.status.busy": "2022-03-03T15:08:54.840484Z",
     "iopub.status.idle": "2022-03-03T15:08:54.865271Z",
     "shell.execute_reply": "2022-03-03T15:08:54.865757Z",
     "shell.execute_reply.started": "2022-03-03T14:37:09.032527Z"
    },
    "papermill": {
     "duration": 0.040206,
     "end_time": "2022-03-03T15:08:54.865950",
     "exception": false,
     "start_time": "2022-03-03T15:08:54.825744",
     "status": "completed"
    },
    "tags": []
   },
   "outputs": [
    {
     "data": {
      "text/html": [
       "<div>\n",
       "<style scoped>\n",
       "    .dataframe tbody tr th:only-of-type {\n",
       "        vertical-align: middle;\n",
       "    }\n",
       "\n",
       "    .dataframe tbody tr th {\n",
       "        vertical-align: top;\n",
       "    }\n",
       "\n",
       "    .dataframe thead th {\n",
       "        text-align: right;\n",
       "    }\n",
       "</style>\n",
       "<table border=\"1\" class=\"dataframe\">\n",
       "  <thead>\n",
       "    <tr style=\"text-align: right;\">\n",
       "      <th></th>\n",
       "      <th>City</th>\n",
       "      <th>Rank</th>\n",
       "      <th>Sunshine hours(City)</th>\n",
       "      <th>Cost of a bottle of water(City)</th>\n",
       "      <th>Obesity levels(Country)</th>\n",
       "      <th>Life expectancy(years) (Country)</th>\n",
       "      <th>Pollution(Index score) (City)</th>\n",
       "      <th>Annual avg. hours worked</th>\n",
       "      <th>Happiness levels(Country)</th>\n",
       "      <th>Outdoor activities(City)</th>\n",
       "      <th>Number of take out places(City)</th>\n",
       "      <th>Cost of a monthly gym membership(City)</th>\n",
       "    </tr>\n",
       "  </thead>\n",
       "  <tbody>\n",
       "    <tr>\n",
       "      <th>0</th>\n",
       "      <td>Amsterdam</td>\n",
       "      <td>1</td>\n",
       "      <td>1858</td>\n",
       "      <td>£1.92</td>\n",
       "      <td>20.40%</td>\n",
       "      <td>81.2</td>\n",
       "      <td>30.93</td>\n",
       "      <td>1434</td>\n",
       "      <td>7.44</td>\n",
       "      <td>422</td>\n",
       "      <td>1048</td>\n",
       "      <td>£34.90</td>\n",
       "    </tr>\n",
       "    <tr>\n",
       "      <th>1</th>\n",
       "      <td>Sydney</td>\n",
       "      <td>2</td>\n",
       "      <td>2636</td>\n",
       "      <td>£1.48</td>\n",
       "      <td>29.00%</td>\n",
       "      <td>82.1</td>\n",
       "      <td>26.86</td>\n",
       "      <td>1712</td>\n",
       "      <td>7.22</td>\n",
       "      <td>406</td>\n",
       "      <td>1103</td>\n",
       "      <td>£41.66</td>\n",
       "    </tr>\n",
       "    <tr>\n",
       "      <th>2</th>\n",
       "      <td>Vienna</td>\n",
       "      <td>3</td>\n",
       "      <td>1884</td>\n",
       "      <td>£1.94</td>\n",
       "      <td>20.10%</td>\n",
       "      <td>81.0</td>\n",
       "      <td>17.33</td>\n",
       "      <td>1501</td>\n",
       "      <td>7.29</td>\n",
       "      <td>132</td>\n",
       "      <td>1008</td>\n",
       "      <td>£25.74</td>\n",
       "    </tr>\n",
       "    <tr>\n",
       "      <th>3</th>\n",
       "      <td>Stockholm</td>\n",
       "      <td>4</td>\n",
       "      <td>1821</td>\n",
       "      <td>£1.72</td>\n",
       "      <td>20.60%</td>\n",
       "      <td>81.8</td>\n",
       "      <td>19.63</td>\n",
       "      <td>1452</td>\n",
       "      <td>7.35</td>\n",
       "      <td>129</td>\n",
       "      <td>598</td>\n",
       "      <td>£37.31</td>\n",
       "    </tr>\n",
       "    <tr>\n",
       "      <th>4</th>\n",
       "      <td>Copenhagen</td>\n",
       "      <td>5</td>\n",
       "      <td>1630</td>\n",
       "      <td>£2.19</td>\n",
       "      <td>19.70%</td>\n",
       "      <td>79.8</td>\n",
       "      <td>21.24</td>\n",
       "      <td>1380</td>\n",
       "      <td>7.64</td>\n",
       "      <td>154</td>\n",
       "      <td>523</td>\n",
       "      <td>£32.53</td>\n",
       "    </tr>\n",
       "  </tbody>\n",
       "</table>\n",
       "</div>"
      ],
      "text/plain": [
       "         City  Rank Sunshine hours(City) Cost of a bottle of water(City)  \\\n",
       "0   Amsterdam     1                 1858                           £1.92   \n",
       "1      Sydney     2                 2636                           £1.48   \n",
       "2      Vienna     3                 1884                           £1.94   \n",
       "3   Stockholm     4                 1821                           £1.72   \n",
       "4  Copenhagen     5                 1630                           £2.19   \n",
       "\n",
       "  Obesity levels(Country)  Life expectancy(years) (Country)  \\\n",
       "0                  20.40%                              81.2   \n",
       "1                  29.00%                              82.1   \n",
       "2                  20.10%                              81.0   \n",
       "3                  20.60%                              81.8   \n",
       "4                  19.70%                              79.8   \n",
       "\n",
       "  Pollution(Index score) (City) Annual avg. hours worked  \\\n",
       "0                         30.93                     1434   \n",
       "1                         26.86                     1712   \n",
       "2                         17.33                     1501   \n",
       "3                         19.63                     1452   \n",
       "4                         21.24                     1380   \n",
       "\n",
       "   Happiness levels(Country)  Outdoor activities(City)  \\\n",
       "0                       7.44                       422   \n",
       "1                       7.22                       406   \n",
       "2                       7.29                       132   \n",
       "3                       7.35                       129   \n",
       "4                       7.64                       154   \n",
       "\n",
       "   Number of take out places(City) Cost of a monthly gym membership(City)  \n",
       "0                             1048                                 £34.90  \n",
       "1                             1103                                 £41.66  \n",
       "2                             1008                                 £25.74  \n",
       "3                              598                                 £37.31  \n",
       "4                              523                                 £32.53  "
      ]
     },
     "execution_count": 4,
     "metadata": {},
     "output_type": "execute_result"
    }
   ],
   "source": [
    "data.head()"
   ]
  },
  {
   "cell_type": "code",
   "execution_count": 5,
   "id": "a3ce9129",
   "metadata": {
    "execution": {
     "iopub.execute_input": "2022-03-03T15:08:54.899830Z",
     "iopub.status.busy": "2022-03-03T15:08:54.898928Z",
     "iopub.status.idle": "2022-03-03T15:08:54.904189Z",
     "shell.execute_reply": "2022-03-03T15:08:54.904735Z",
     "shell.execute_reply.started": "2022-03-03T14:37:12.631434Z"
    },
    "papermill": {
     "duration": 0.026267,
     "end_time": "2022-03-03T15:08:54.904933",
     "exception": false,
     "start_time": "2022-03-03T15:08:54.878666",
     "status": "completed"
    },
    "tags": []
   },
   "outputs": [
    {
     "data": {
      "text/plain": [
       "(44, 12)"
      ]
     },
     "execution_count": 5,
     "metadata": {},
     "output_type": "execute_result"
    }
   ],
   "source": [
    "data.shape"
   ]
  },
  {
   "cell_type": "code",
   "execution_count": 6,
   "id": "9d33a93c",
   "metadata": {
    "execution": {
     "iopub.execute_input": "2022-03-03T15:08:54.938426Z",
     "iopub.status.busy": "2022-03-03T15:08:54.937639Z",
     "iopub.status.idle": "2022-03-03T15:08:54.940783Z",
     "shell.execute_reply": "2022-03-03T15:08:54.941238Z",
     "shell.execute_reply.started": "2022-03-03T14:37:21.633389Z"
    },
    "papermill": {
     "duration": 0.0239,
     "end_time": "2022-03-03T15:08:54.941400",
     "exception": false,
     "start_time": "2022-03-03T15:08:54.917500",
     "status": "completed"
    },
    "tags": []
   },
   "outputs": [
    {
     "data": {
      "text/plain": [
       "City                                      0\n",
       "Rank                                      0\n",
       "Sunshine hours(City)                      0\n",
       "Cost of a bottle of water(City)           0\n",
       "Obesity levels(Country)                   0\n",
       "Life expectancy(years) (Country)          0\n",
       "Pollution(Index score) (City)             0\n",
       "Annual avg. hours worked                  0\n",
       "Happiness levels(Country)                 0\n",
       "Outdoor activities(City)                  0\n",
       "Number of take out places(City)           0\n",
       "Cost of a monthly gym membership(City)    0\n",
       "dtype: int64"
      ]
     },
     "execution_count": 6,
     "metadata": {},
     "output_type": "execute_result"
    }
   ],
   "source": [
    "# Checking Null Values \n",
    "data.isnull().sum()"
   ]
  },
  {
   "cell_type": "markdown",
   "id": "6d6ae101",
   "metadata": {
    "papermill": {
     "duration": 0.013679,
     "end_time": "2022-03-03T15:08:54.967915",
     "exception": false,
     "start_time": "2022-03-03T15:08:54.954236",
     "status": "completed"
    },
    "tags": []
   },
   "source": [
    "No Null Values\n"
   ]
  },
  {
   "cell_type": "markdown",
   "id": "ce1fe196",
   "metadata": {
    "papermill": {
     "duration": 0.013098,
     "end_time": "2022-03-03T15:08:54.993812",
     "exception": false,
     "start_time": "2022-03-03T15:08:54.980714",
     "status": "completed"
    },
    "tags": []
   },
   "source": [
    "# Data Visualization "
   ]
  },
  {
   "cell_type": "code",
   "execution_count": 7,
   "id": "7d958cd1",
   "metadata": {
    "execution": {
     "iopub.execute_input": "2022-03-03T15:08:55.025605Z",
     "iopub.status.busy": "2022-03-03T15:08:55.024692Z",
     "iopub.status.idle": "2022-03-03T15:08:55.034192Z",
     "shell.execute_reply": "2022-03-03T15:08:55.034604Z",
     "shell.execute_reply.started": "2022-03-03T14:38:47.368143Z"
    },
    "papermill": {
     "duration": 0.027481,
     "end_time": "2022-03-03T15:08:55.034769",
     "exception": false,
     "start_time": "2022-03-03T15:08:55.007288",
     "status": "completed"
    },
    "tags": []
   },
   "outputs": [
    {
     "name": "stdout",
     "output_type": "stream",
     "text": [
      "0     Amsterdam\n",
      "1        Sydney\n",
      "2        Vienna\n",
      "3     Stockholm\n",
      "4    Copenhagen\n",
      "5      Helsinki\n",
      "6       Fukuoka\n",
      "7        Berlin\n",
      "8     Barcelona\n",
      "9     Vancouver\n",
      "Name: City, dtype: object\n"
     ]
    }
   ],
   "source": [
    "#Top 10 Healthiest Cities \n",
    "\n",
    "print(data['City'][:10])\n",
    "\n"
   ]
  },
  {
   "cell_type": "code",
   "execution_count": 8,
   "id": "70377aa1",
   "metadata": {
    "execution": {
     "iopub.execute_input": "2022-03-03T15:08:55.064796Z",
     "iopub.status.busy": "2022-03-03T15:08:55.063841Z",
     "iopub.status.idle": "2022-03-03T15:08:55.406455Z",
     "shell.execute_reply": "2022-03-03T15:08:55.406975Z",
     "shell.execute_reply.started": "2022-03-03T14:45:42.424239Z"
    },
    "papermill": {
     "duration": 0.359106,
     "end_time": "2022-03-03T15:08:55.407150",
     "exception": false,
     "start_time": "2022-03-03T15:08:55.048044",
     "status": "completed"
    },
    "tags": []
   },
   "outputs": [
    {
     "data": {
      "text/plain": [
       "<AxesSubplot:xlabel='City', ylabel='Life expectancy(years) (Country)'>"
      ]
     },
     "execution_count": 8,
     "metadata": {},
     "output_type": "execute_result"
    },
    {
     "data": {
      "image/png": "[encoded data removed]",
      "text/plain": [
       "<Figure size 842.4x379.44 with 1 Axes>"
      ]
     },
     "metadata": {},
     "output_type": "display_data"
    }
   ],
   "source": [
    "# Top 10 Countries with Highest Life Expectancy Rate\n",
    "sns.set(rc={'figure.figsize':(11.7,5.27)})\n",
    "sns.barplot(x='City', \n",
    "            y='Life expectancy(years) (Country)',\n",
    "            data=data.nlargest(10, 'Life expectancy(years) (Country)'))"
   ]
  },
  {
   "cell_type": "code",
   "execution_count": 9,
   "id": "b2fe51f1",
   "metadata": {
    "execution": {
     "iopub.execute_input": "2022-03-03T15:08:55.453230Z",
     "iopub.status.busy": "2022-03-03T15:08:55.447292Z",
     "iopub.status.idle": "2022-03-03T15:08:55.732725Z",
     "shell.execute_reply": "2022-03-03T15:08:55.732266Z",
     "shell.execute_reply.started": "2022-03-03T14:48:10.572256Z"
    },
    "papermill": {
     "duration": 0.309972,
     "end_time": "2022-03-03T15:08:55.732859",
     "exception": false,
     "start_time": "2022-03-03T15:08:55.422887",
     "status": "completed"
    },
    "tags": []
   },
   "outputs": [
    {
     "data": {
      "text/plain": [
       "<AxesSubplot:xlabel='City', ylabel='Happiness levels(Country)'>"
      ]
     },
     "execution_count": 9,
     "metadata": {},
     "output_type": "execute_result"
    },
    {
     "data": {
      "image/png": "[encoded data removed]",
      "text/plain": [
       "<Figure size 842.4x379.44 with 1 Axes>"
      ]
     },
     "metadata": {},
     "output_type": "display_data"
    }
   ],
   "source": [
    "# Top 10 Countries with Happiness Rate \n",
    "sns.set(rc={'figure.figsize':(11.7,5.27)})\n",
    "sns.barplot(x='City', \n",
    "            y='Happiness levels(Country)',\n",
    "            data=data.nlargest(10, 'Happiness levels(Country)'))"
   ]
  },
  {
   "cell_type": "code",
   "execution_count": 10,
   "id": "ccda0e81",
   "metadata": {
    "execution": {
     "iopub.execute_input": "2022-03-03T15:08:55.771995Z",
     "iopub.status.busy": "2022-03-03T15:08:55.771323Z",
     "iopub.status.idle": "2022-03-03T15:08:56.040856Z",
     "shell.execute_reply": "2022-03-03T15:08:56.040334Z",
     "shell.execute_reply.started": "2022-03-03T15:03:17.074931Z"
    },
    "papermill": {
     "duration": 0.291724,
     "end_time": "2022-03-03T15:08:56.041021",
     "exception": false,
     "start_time": "2022-03-03T15:08:55.749297",
     "status": "completed"
    },
    "tags": []
   },
   "outputs": [
    {
     "data": {
      "text/plain": [
       "<AxesSubplot:xlabel='Happiness levels(Country)', ylabel='Rank'>"
      ]
     },
     "execution_count": 10,
     "metadata": {},
     "output_type": "execute_result"
    },
    {
     "data": {
      "image/png": "[encoded data removed]",
      "text/plain": [
       "<Figure size 842.4x379.44 with 1 Axes>"
      ]
     },
     "metadata": {},
     "output_type": "display_data"
    }
   ],
   "source": [
    "# Relation between Rank and Happiness Level \n",
    "sns.set(style='whitegrid')\n",
    "sns.scatterplot(x='Happiness levels(Country)',y='Rank',data=data)"
   ]
  },
  {
   "cell_type": "code",
   "execution_count": 11,
   "id": "852c0642",
   "metadata": {
    "execution": {
     "iopub.execute_input": "2022-03-03T15:08:56.101534Z",
     "iopub.status.busy": "2022-03-03T15:08:56.100860Z",
     "iopub.status.idle": "2022-03-03T15:08:56.359506Z",
     "shell.execute_reply": "2022-03-03T15:08:56.358826Z",
     "shell.execute_reply.started": "2022-03-03T15:07:55.512631Z"
    },
    "papermill": {
     "duration": 0.301682,
     "end_time": "2022-03-03T15:08:56.359651",
     "exception": false,
     "start_time": "2022-03-03T15:08:56.057969",
     "status": "completed"
    },
    "tags": []
   },
   "outputs": [
    {
     "data": {
      "text/plain": [
       "<AxesSubplot:xlabel='Life expectancy(years) (Country)', ylabel='Rank'>"
      ]
     },
     "execution_count": 11,
     "metadata": {},
     "output_type": "execute_result"
    },
    {
     "data": {
      "image/png": "[encoded data removed]",
      "text/plain": [
       "<Figure size 842.4x379.44 with 1 Axes>"
      ]
     },
     "metadata": {},
     "output_type": "display_data"
    }
   ],
   "source": [
    "# Relation between Rank and Life Expectancy\n",
    "sns.set(style='whitegrid')\n",
    "sns.scatterplot(x='Life expectancy(years) (Country)',y='Rank',data=data)\n"
   ]
  },
  {
   "cell_type": "code",
   "execution_count": null,
   "id": "0bcb38f9",
   "metadata": {
    "papermill": {
     "duration": 0.01794,
     "end_time": "2022-03-03T15:08:56.396149",
     "exception": false,
     "start_time": "2022-03-03T15:08:56.378209",
     "status": "completed"
    },
    "tags": []
   },
   "outputs": [],
   "source": []
  }
 ],
 "metadata": {
  "kernelspec": {
   "display_name": "Python 3",
   "language": "python",
   "name": "python3"
  },
  "language_info": {
   "codemirror_mode": {
    "name": "ipython",
    "version": 3
   },
   "file_extension": ".py",
   "mimetype": "text/x-python",
   "name": "python",
   "nbconvert_exporter": "python",
   "pygments_lexer": "ipython3",
   "version": "3.7.12"
  },
  "papermill": {
   "default_parameters": {},
   "duration": 12.780822,
   "end_time": "2022-03-03T15:08:57.125656",
   "environment_variables": {},
   "exception": null,
   "input_path": "__notebook__.ipynb",
   "output_path": "__notebook__.ipynb",
   "parameters": {},
   "start_time": "2022-03-03T15:08:44.344834",
   "version": "2.3.3"
  }
 },
 "nbformat": 4,
 "nbformat_minor": 5
}
