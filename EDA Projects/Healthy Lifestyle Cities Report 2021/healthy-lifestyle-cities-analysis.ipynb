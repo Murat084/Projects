{
 "cells": [
  {
   "cell_type": "code",
   "execution_count": 1,
   "id": "8a6ca4b4",
   "metadata": {
    "_cell_guid": "b1076dfc-b9ad-4769-8c92-a6c4dae69d19",
    "_uuid": "8f2839f25d086af736a60e9eeb907d3b93b6e0e5",
    "execution": {
     "iopub.execute_input": "2022-03-14T19:12:11.079839Z",
     "iopub.status.busy": "2022-03-14T19:12:11.079156Z",
     "iopub.status.idle": "2022-03-14T19:12:12.156431Z",
     "shell.execute_reply": "2022-03-14T19:12:12.157151Z",
     "shell.execute_reply.started": "2022-03-14T16:30:34.117535Z"
    },
    "papermill": {
     "duration": 1.119583,
     "end_time": "2022-03-14T19:12:12.157549",
     "exception": false,
     "start_time": "2022-03-14T19:12:11.037966",
     "status": "completed"
    },
    "tags": []
   },
   "outputs": [
    {
     "name": "stdout",
     "output_type": "stream",
     "text": [
      "/kaggle/input/healthy-lifestyle-cities-report-2021/healthy_lifestyle_city_2021.csv\n",
      "Setup Complete\n"
     ]
    }
   ],
   "source": [
    "import os\n",
    "for dirname, _, filenames in os.walk('/kaggle/input'):\n",
    "    for filename in filenames:\n",
    "        print(os.path.join(dirname, filename))\n",
    "\n",
    "import seaborn as sns\n",
    "import matplotlib.pyplot as plt\n",
    "import pandas as pd\n",
    "pd.plotting.register_matplotlib_converters()\n",
    "%matplotlib inline\n",
    "print(\"Setup Complete\")\n",
    "\n"
   ]
  },
  {
   "cell_type": "markdown",
   "id": "51ddb141",
   "metadata": {
    "papermill": {
     "duration": 0.028199,
     "end_time": "2022-03-14T19:12:12.214754",
     "exception": false,
     "start_time": "2022-03-14T19:12:12.186555",
     "status": "completed"
    },
    "tags": []
   },
   "source": [
    "# **Introduction**\n",
    "This is an anlyisis of the healthy-lifestyle-city-2021.csv dataset on Kaggle. Looking into the data source I found that the rankings of each city were made from 10 wieghted metrics giving each city a score out of 100. I will forgo the Rank in my analysis and focus on the measured obvservations to find relationships in the data."
   ]
  },
  {
   "cell_type": "markdown",
   "id": "ea4772de",
   "metadata": {
    "papermill": {
     "duration": 0.026715,
     "end_time": "2022-03-14T19:12:12.269145",
     "exception": false,
     "start_time": "2022-03-14T19:12:12.242430",
     "status": "completed"
    },
    "tags": []
   },
   "source": [
    "### **First I will load and preview the data**"
   ]
  },
  {
   "cell_type": "code",
   "execution_count": 2,
   "id": "94596b4b",
   "metadata": {
    "execution": {
     "iopub.execute_input": "2022-03-14T19:12:12.330203Z",
     "iopub.status.busy": "2022-03-14T19:12:12.327637Z",
     "iopub.status.idle": "2022-03-14T19:12:12.362430Z",
     "shell.execute_reply": "2022-03-14T19:12:12.362969Z",
     "shell.execute_reply.started": "2022-03-14T17:22:55.830712Z"
    },
    "papermill": {
     "duration": 0.066149,
     "end_time": "2022-03-14T19:12:12.363140",
     "exception": false,
     "start_time": "2022-03-14T19:12:12.296991",
     "status": "completed"
    },
    "tags": []
   },
   "outputs": [
    {
     "name": "stdout",
     "output_type": "stream",
     "text": [
      "Preview of the data: \n"
     ]
    },
    {
     "data": {
      "text/html": [
       "<div>\n",
       "<style scoped>\n",
       "    .dataframe tbody tr th:only-of-type {\n",
       "        vertical-align: middle;\n",
       "    }\n",
       "\n",
       "    .dataframe tbody tr th {\n",
       "        vertical-align: top;\n",
       "    }\n",
       "\n",
       "    .dataframe thead th {\n",
       "        text-align: right;\n",
       "    }\n",
       "</style>\n",
       "<table border=\"1\" class=\"dataframe\">\n",
       "  <thead>\n",
       "    <tr style=\"text-align: right;\">\n",
       "      <th></th>\n",
       "      <th>City</th>\n",
       "      <th>Rank</th>\n",
       "      <th>Sunshine hours(City)</th>\n",
       "      <th>Cost of a bottle of water(City)</th>\n",
       "      <th>Obesity levels(Country)</th>\n",
       "      <th>Life expectancy(years) (Country)</th>\n",
       "      <th>Pollution(Index score) (City)</th>\n",
       "      <th>Annual avg. hours worked</th>\n",
       "      <th>Happiness levels(Country)</th>\n",
       "      <th>Outdoor activities(City)</th>\n",
       "      <th>Number of take out places(City)</th>\n",
       "      <th>Cost of a monthly gym membership(City)</th>\n",
       "    </tr>\n",
       "  </thead>\n",
       "  <tbody>\n",
       "    <tr>\n",
       "      <th>0</th>\n",
       "      <td>Amsterdam</td>\n",
       "      <td>1</td>\n",
       "      <td>1858</td>\n",
       "      <td>£1.92</td>\n",
       "      <td>20.40%</td>\n",
       "      <td>81.2</td>\n",
       "      <td>30.93</td>\n",
       "      <td>1434</td>\n",
       "      <td>7.44</td>\n",
       "      <td>422</td>\n",
       "      <td>1048</td>\n",
       "      <td>£34.90</td>\n",
       "    </tr>\n",
       "    <tr>\n",
       "      <th>1</th>\n",
       "      <td>Sydney</td>\n",
       "      <td>2</td>\n",
       "      <td>2636</td>\n",
       "      <td>£1.48</td>\n",
       "      <td>29.00%</td>\n",
       "      <td>82.1</td>\n",
       "      <td>26.86</td>\n",
       "      <td>1712</td>\n",
       "      <td>7.22</td>\n",
       "      <td>406</td>\n",
       "      <td>1103</td>\n",
       "      <td>£41.66</td>\n",
       "    </tr>\n",
       "    <tr>\n",
       "      <th>2</th>\n",
       "      <td>Vienna</td>\n",
       "      <td>3</td>\n",
       "      <td>1884</td>\n",
       "      <td>£1.94</td>\n",
       "      <td>20.10%</td>\n",
       "      <td>81.0</td>\n",
       "      <td>17.33</td>\n",
       "      <td>1501</td>\n",
       "      <td>7.29</td>\n",
       "      <td>132</td>\n",
       "      <td>1008</td>\n",
       "      <td>£25.74</td>\n",
       "    </tr>\n",
       "    <tr>\n",
       "      <th>3</th>\n",
       "      <td>Stockholm</td>\n",
       "      <td>4</td>\n",
       "      <td>1821</td>\n",
       "      <td>£1.72</td>\n",
       "      <td>20.60%</td>\n",
       "      <td>81.8</td>\n",
       "      <td>19.63</td>\n",
       "      <td>1452</td>\n",
       "      <td>7.35</td>\n",
       "      <td>129</td>\n",
       "      <td>598</td>\n",
       "      <td>£37.31</td>\n",
       "    </tr>\n",
       "    <tr>\n",
       "      <th>4</th>\n",
       "      <td>Copenhagen</td>\n",
       "      <td>5</td>\n",
       "      <td>1630</td>\n",
       "      <td>£2.19</td>\n",
       "      <td>19.70%</td>\n",
       "      <td>79.8</td>\n",
       "      <td>21.24</td>\n",
       "      <td>1380</td>\n",
       "      <td>7.64</td>\n",
       "      <td>154</td>\n",
       "      <td>523</td>\n",
       "      <td>£32.53</td>\n",
       "    </tr>\n",
       "  </tbody>\n",
       "</table>\n",
       "</div>"
      ],
      "text/plain": [
       "         City  Rank Sunshine hours(City) Cost of a bottle of water(City)  \\\n",
       "0   Amsterdam     1                 1858                           £1.92   \n",
       "1      Sydney     2                 2636                           £1.48   \n",
       "2      Vienna     3                 1884                           £1.94   \n",
       "3   Stockholm     4                 1821                           £1.72   \n",
       "4  Copenhagen     5                 1630                           £2.19   \n",
       "\n",
       "  Obesity levels(Country)  Life expectancy(years) (Country)  \\\n",
       "0                  20.40%                              81.2   \n",
       "1                  29.00%                              82.1   \n",
       "2                  20.10%                              81.0   \n",
       "3                  20.60%                              81.8   \n",
       "4                  19.70%                              79.8   \n",
       "\n",
       "  Pollution(Index score) (City) Annual avg. hours worked  \\\n",
       "0                         30.93                     1434   \n",
       "1                         26.86                     1712   \n",
       "2                         17.33                     1501   \n",
       "3                         19.63                     1452   \n",
       "4                         21.24                     1380   \n",
       "\n",
       "   Happiness levels(Country)  Outdoor activities(City)  \\\n",
       "0                       7.44                       422   \n",
       "1                       7.22                       406   \n",
       "2                       7.29                       132   \n",
       "3                       7.35                       129   \n",
       "4                       7.64                       154   \n",
       "\n",
       "   Number of take out places(City) Cost of a monthly gym membership(City)  \n",
       "0                             1048                                 £34.90  \n",
       "1                             1103                                 £41.66  \n",
       "2                             1008                                 £25.74  \n",
       "3                              598                                 £37.31  \n",
       "4                              523                                 £32.53  "
      ]
     },
     "execution_count": 2,
     "metadata": {},
     "output_type": "execute_result"
    }
   ],
   "source": [
    "print('Preview of the data: ')\n",
    "hlc_data = pd.read_csv('../input/healthy-lifestyle-cities-report-2021/healthy_lifestyle_city_2021.csv')\n",
    "hlc_data.head(5)"
   ]
  },
  {
   "cell_type": "code",
   "execution_count": 3,
   "id": "1769241c",
   "metadata": {
    "execution": {
     "iopub.execute_input": "2022-03-14T19:12:12.423731Z",
     "iopub.status.busy": "2022-03-14T19:12:12.422746Z",
     "iopub.status.idle": "2022-03-14T19:12:12.430602Z",
     "shell.execute_reply": "2022-03-14T19:12:12.431453Z",
     "shell.execute_reply.started": "2022-03-14T16:30:35.098478Z"
    },
    "papermill": {
     "duration": 0.040196,
     "end_time": "2022-03-14T19:12:12.431682",
     "exception": false,
     "start_time": "2022-03-14T19:12:12.391486",
     "status": "completed"
    },
    "tags": []
   },
   "outputs": [
    {
     "name": "stdout",
     "output_type": "stream",
     "text": [
      "City and Rank + The 10 metrics: \n"
     ]
    },
    {
     "data": {
      "text/plain": [
       "Index(['City', 'Rank', 'Sunshine hours(City)',\n",
       "       'Cost of a bottle of water(City)', 'Obesity levels(Country)',\n",
       "       'Life expectancy(years) (Country)', 'Pollution(Index score) (City)',\n",
       "       'Annual avg. hours worked', 'Happiness levels(Country)',\n",
       "       'Outdoor activities(City)', 'Number of take out places(City)',\n",
       "       'Cost of a monthly gym membership(City)'],\n",
       "      dtype='object')"
      ]
     },
     "execution_count": 3,
     "metadata": {},
     "output_type": "execute_result"
    }
   ],
   "source": [
    "print('City and Rank + The 10 metrics: ')\n",
    "hlc_data.columns"
   ]
  },
  {
   "cell_type": "code",
   "execution_count": 4,
   "id": "59803e3d",
   "metadata": {
    "execution": {
     "iopub.execute_input": "2022-03-14T19:12:12.493880Z",
     "iopub.status.busy": "2022-03-14T19:12:12.492915Z",
     "iopub.status.idle": "2022-03-14T19:12:12.530120Z",
     "shell.execute_reply": "2022-03-14T19:12:12.529600Z",
     "shell.execute_reply.started": "2022-03-14T16:30:35.109006Z"
    },
    "papermill": {
     "duration": 0.069534,
     "end_time": "2022-03-14T19:12:12.530261",
     "exception": false,
     "start_time": "2022-03-14T19:12:12.460727",
     "status": "completed"
    },
    "tags": []
   },
   "outputs": [
    {
     "name": "stdout",
     "output_type": "stream",
     "text": [
      "Description of the data: \n"
     ]
    },
    {
     "data": {
      "text/html": [
       "<div>\n",
       "<style scoped>\n",
       "    .dataframe tbody tr th:only-of-type {\n",
       "        vertical-align: middle;\n",
       "    }\n",
       "\n",
       "    .dataframe tbody tr th {\n",
       "        vertical-align: top;\n",
       "    }\n",
       "\n",
       "    .dataframe thead th {\n",
       "        text-align: right;\n",
       "    }\n",
       "</style>\n",
       "<table border=\"1\" class=\"dataframe\">\n",
       "  <thead>\n",
       "    <tr style=\"text-align: right;\">\n",
       "      <th></th>\n",
       "      <th>Rank</th>\n",
       "      <th>Life expectancy(years) (Country)</th>\n",
       "      <th>Happiness levels(Country)</th>\n",
       "      <th>Outdoor activities(City)</th>\n",
       "      <th>Number of take out places(City)</th>\n",
       "    </tr>\n",
       "  </thead>\n",
       "  <tbody>\n",
       "    <tr>\n",
       "      <th>count</th>\n",
       "      <td>44.000000</td>\n",
       "      <td>44.00000</td>\n",
       "      <td>44.000000</td>\n",
       "      <td>44.000000</td>\n",
       "      <td>44.000000</td>\n",
       "    </tr>\n",
       "    <tr>\n",
       "      <th>mean</th>\n",
       "      <td>22.500000</td>\n",
       "      <td>78.17500</td>\n",
       "      <td>6.435000</td>\n",
       "      <td>213.977273</td>\n",
       "      <td>1443.113636</td>\n",
       "    </tr>\n",
       "    <tr>\n",
       "      <th>std</th>\n",
       "      <td>12.845233</td>\n",
       "      <td>5.30437</td>\n",
       "      <td>0.991202</td>\n",
       "      <td>127.190297</td>\n",
       "      <td>1388.803270</td>\n",
       "    </tr>\n",
       "    <tr>\n",
       "      <th>min</th>\n",
       "      <td>1.000000</td>\n",
       "      <td>56.30000</td>\n",
       "      <td>3.570000</td>\n",
       "      <td>23.000000</td>\n",
       "      <td>250.000000</td>\n",
       "    </tr>\n",
       "    <tr>\n",
       "      <th>25%</th>\n",
       "      <td>11.750000</td>\n",
       "      <td>75.40000</td>\n",
       "      <td>5.870000</td>\n",
       "      <td>125.250000</td>\n",
       "      <td>548.000000</td>\n",
       "    </tr>\n",
       "    <tr>\n",
       "      <th>50%</th>\n",
       "      <td>22.500000</td>\n",
       "      <td>80.40000</td>\n",
       "      <td>6.900000</td>\n",
       "      <td>189.500000</td>\n",
       "      <td>998.000000</td>\n",
       "    </tr>\n",
       "    <tr>\n",
       "      <th>75%</th>\n",
       "      <td>33.250000</td>\n",
       "      <td>81.80000</td>\n",
       "      <td>7.175000</td>\n",
       "      <td>288.250000</td>\n",
       "      <td>1674.250000</td>\n",
       "    </tr>\n",
       "    <tr>\n",
       "      <th>max</th>\n",
       "      <td>44.000000</td>\n",
       "      <td>83.20000</td>\n",
       "      <td>7.800000</td>\n",
       "      <td>585.000000</td>\n",
       "      <td>6417.000000</td>\n",
       "    </tr>\n",
       "  </tbody>\n",
       "</table>\n",
       "</div>"
      ],
      "text/plain": [
       "            Rank  Life expectancy(years) (Country)  Happiness levels(Country)  \\\n",
       "count  44.000000                          44.00000                  44.000000   \n",
       "mean   22.500000                          78.17500                   6.435000   \n",
       "std    12.845233                           5.30437                   0.991202   \n",
       "min     1.000000                          56.30000                   3.570000   \n",
       "25%    11.750000                          75.40000                   5.870000   \n",
       "50%    22.500000                          80.40000                   6.900000   \n",
       "75%    33.250000                          81.80000                   7.175000   \n",
       "max    44.000000                          83.20000                   7.800000   \n",
       "\n",
       "       Outdoor activities(City)  Number of take out places(City)  \n",
       "count                 44.000000                        44.000000  \n",
       "mean                 213.977273                      1443.113636  \n",
       "std                  127.190297                      1388.803270  \n",
       "min                   23.000000                       250.000000  \n",
       "25%                  125.250000                       548.000000  \n",
       "50%                  189.500000                       998.000000  \n",
       "75%                  288.250000                      1674.250000  \n",
       "max                  585.000000                      6417.000000  "
      ]
     },
     "execution_count": 4,
     "metadata": {},
     "output_type": "execute_result"
    }
   ],
   "source": [
    "print('Description of the data: ')\n",
    "hlc_data.describe()"
   ]
  },
  {
   "cell_type": "markdown",
   "id": "76e4a04f",
   "metadata": {
    "papermill": {
     "duration": 0.029781,
     "end_time": "2022-03-14T19:12:12.591903",
     "exception": false,
     "start_time": "2022-03-14T19:12:12.562122",
     "status": "completed"
    },
    "tags": []
   },
   "source": [
    "#### Many columns had incompatible datatypes and missing data, so i will create new dataframes with compatible datatypes and cleaned data so that i can easily manipulate the data.\n",
    "\n",
    "after cleaning the desired data i will check the correlation coefficients to find areas in the data to investigate firther."
   ]
  },
  {
   "cell_type": "code",
   "execution_count": 5,
   "id": "ffefa5ca",
   "metadata": {
    "execution": {
     "iopub.execute_input": "2022-03-14T19:12:12.666246Z",
     "iopub.status.busy": "2022-03-14T19:12:12.664579Z",
     "iopub.status.idle": "2022-03-14T19:12:12.681110Z",
     "shell.execute_reply": "2022-03-14T19:12:12.681581Z",
     "shell.execute_reply.started": "2022-03-14T17:57:54.378968Z"
    },
    "papermill": {
     "duration": 0.060004,
     "end_time": "2022-03-14T19:12:12.681778",
     "exception": false,
     "start_time": "2022-03-14T19:12:12.621774",
     "status": "completed"
    },
    "tags": []
   },
   "outputs": [
    {
     "data": {
      "text/html": [
       "<div>\n",
       "<style scoped>\n",
       "    .dataframe tbody tr th:only-of-type {\n",
       "        vertical-align: middle;\n",
       "    }\n",
       "\n",
       "    .dataframe tbody tr th {\n",
       "        vertical-align: top;\n",
       "    }\n",
       "\n",
       "    .dataframe thead th {\n",
       "        text-align: right;\n",
       "    }\n",
       "</style>\n",
       "<table border=\"1\" class=\"dataframe\">\n",
       "  <thead>\n",
       "    <tr style=\"text-align: right;\">\n",
       "      <th></th>\n",
       "      <th>Rank</th>\n",
       "      <th>Cost of a bottle of water(City)</th>\n",
       "      <th>Obesity levels(Country)</th>\n",
       "      <th>Life expectancy(years) (Country)</th>\n",
       "      <th>Happiness levels(Country)</th>\n",
       "      <th>Outdoor activities(City)</th>\n",
       "      <th>Number of take out places(City)</th>\n",
       "      <th>Cost of a monthly gym membership(City)</th>\n",
       "    </tr>\n",
       "  </thead>\n",
       "  <tbody>\n",
       "    <tr>\n",
       "      <th>Rank</th>\n",
       "      <td>1.000000</td>\n",
       "      <td>-0.141420</td>\n",
       "      <td>0.197486</td>\n",
       "      <td>-0.320034</td>\n",
       "      <td>-0.231970</td>\n",
       "      <td>-0.076972</td>\n",
       "      <td>0.363058</td>\n",
       "      <td>0.272521</td>\n",
       "    </tr>\n",
       "    <tr>\n",
       "      <th>Cost of a bottle of water(City)</th>\n",
       "      <td>-0.141420</td>\n",
       "      <td>1.000000</td>\n",
       "      <td>0.293047</td>\n",
       "      <td>0.612382</td>\n",
       "      <td>0.813159</td>\n",
       "      <td>-0.260297</td>\n",
       "      <td>-0.089963</td>\n",
       "      <td>0.356461</td>\n",
       "    </tr>\n",
       "    <tr>\n",
       "      <th>Obesity levels(Country)</th>\n",
       "      <td>0.197486</td>\n",
       "      <td>0.293047</td>\n",
       "      <td>1.000000</td>\n",
       "      <td>0.091071</td>\n",
       "      <td>0.446399</td>\n",
       "      <td>0.150171</td>\n",
       "      <td>0.016833</td>\n",
       "      <td>-0.070904</td>\n",
       "    </tr>\n",
       "    <tr>\n",
       "      <th>Life expectancy(years) (Country)</th>\n",
       "      <td>-0.320034</td>\n",
       "      <td>0.612382</td>\n",
       "      <td>0.091071</td>\n",
       "      <td>1.000000</td>\n",
       "      <td>0.724587</td>\n",
       "      <td>-0.044864</td>\n",
       "      <td>0.128163</td>\n",
       "      <td>0.417986</td>\n",
       "    </tr>\n",
       "    <tr>\n",
       "      <th>Happiness levels(Country)</th>\n",
       "      <td>-0.231970</td>\n",
       "      <td>0.813159</td>\n",
       "      <td>0.446399</td>\n",
       "      <td>0.724587</td>\n",
       "      <td>1.000000</td>\n",
       "      <td>-0.137612</td>\n",
       "      <td>0.033116</td>\n",
       "      <td>0.297425</td>\n",
       "    </tr>\n",
       "    <tr>\n",
       "      <th>Outdoor activities(City)</th>\n",
       "      <td>-0.076972</td>\n",
       "      <td>-0.260297</td>\n",
       "      <td>0.150171</td>\n",
       "      <td>-0.044864</td>\n",
       "      <td>-0.137612</td>\n",
       "      <td>1.000000</td>\n",
       "      <td>0.528200</td>\n",
       "      <td>-0.115400</td>\n",
       "    </tr>\n",
       "    <tr>\n",
       "      <th>Number of take out places(City)</th>\n",
       "      <td>0.363058</td>\n",
       "      <td>-0.089963</td>\n",
       "      <td>0.016833</td>\n",
       "      <td>0.128163</td>\n",
       "      <td>0.033116</td>\n",
       "      <td>0.528200</td>\n",
       "      <td>1.000000</td>\n",
       "      <td>0.092610</td>\n",
       "    </tr>\n",
       "    <tr>\n",
       "      <th>Cost of a monthly gym membership(City)</th>\n",
       "      <td>0.272521</td>\n",
       "      <td>0.356461</td>\n",
       "      <td>-0.070904</td>\n",
       "      <td>0.417986</td>\n",
       "      <td>0.297425</td>\n",
       "      <td>-0.115400</td>\n",
       "      <td>0.092610</td>\n",
       "      <td>1.000000</td>\n",
       "    </tr>\n",
       "  </tbody>\n",
       "</table>\n",
       "</div>"
      ],
      "text/plain": [
       "                                            Rank  \\\n",
       "Rank                                    1.000000   \n",
       "Cost of a bottle of water(City)        -0.141420   \n",
       "Obesity levels(Country)                 0.197486   \n",
       "Life expectancy(years) (Country)       -0.320034   \n",
       "Happiness levels(Country)              -0.231970   \n",
       "Outdoor activities(City)               -0.076972   \n",
       "Number of take out places(City)         0.363058   \n",
       "Cost of a monthly gym membership(City)  0.272521   \n",
       "\n",
       "                                        Cost of a bottle of water(City)  \\\n",
       "Rank                                                          -0.141420   \n",
       "Cost of a bottle of water(City)                                1.000000   \n",
       "Obesity levels(Country)                                        0.293047   \n",
       "Life expectancy(years) (Country)                               0.612382   \n",
       "Happiness levels(Country)                                      0.813159   \n",
       "Outdoor activities(City)                                      -0.260297   \n",
       "Number of take out places(City)                               -0.089963   \n",
       "Cost of a monthly gym membership(City)                         0.356461   \n",
       "\n",
       "                                        Obesity levels(Country)  \\\n",
       "Rank                                                   0.197486   \n",
       "Cost of a bottle of water(City)                        0.293047   \n",
       "Obesity levels(Country)                                1.000000   \n",
       "Life expectancy(years) (Country)                       0.091071   \n",
       "Happiness levels(Country)                              0.446399   \n",
       "Outdoor activities(City)                               0.150171   \n",
       "Number of take out places(City)                        0.016833   \n",
       "Cost of a monthly gym membership(City)                -0.070904   \n",
       "\n",
       "                                        Life expectancy(years) (Country)  \\\n",
       "Rank                                                           -0.320034   \n",
       "Cost of a bottle of water(City)                                 0.612382   \n",
       "Obesity levels(Country)                                         0.091071   \n",
       "Life expectancy(years) (Country)                                1.000000   \n",
       "Happiness levels(Country)                                       0.724587   \n",
       "Outdoor activities(City)                                       -0.044864   \n",
       "Number of take out places(City)                                 0.128163   \n",
       "Cost of a monthly gym membership(City)                          0.417986   \n",
       "\n",
       "                                        Happiness levels(Country)  \\\n",
       "Rank                                                    -0.231970   \n",
       "Cost of a bottle of water(City)                          0.813159   \n",
       "Obesity levels(Country)                                  0.446399   \n",
       "Life expectancy(years) (Country)                         0.724587   \n",
       "Happiness levels(Country)                                1.000000   \n",
       "Outdoor activities(City)                                -0.137612   \n",
       "Number of take out places(City)                          0.033116   \n",
       "Cost of a monthly gym membership(City)                   0.297425   \n",
       "\n",
       "                                        Outdoor activities(City)  \\\n",
       "Rank                                                   -0.076972   \n",
       "Cost of a bottle of water(City)                        -0.260297   \n",
       "Obesity levels(Country)                                 0.150171   \n",
       "Life expectancy(years) (Country)                       -0.044864   \n",
       "Happiness levels(Country)                              -0.137612   \n",
       "Outdoor activities(City)                                1.000000   \n",
       "Number of take out places(City)                         0.528200   \n",
       "Cost of a monthly gym membership(City)                 -0.115400   \n",
       "\n",
       "                                        Number of take out places(City)  \\\n",
       "Rank                                                           0.363058   \n",
       "Cost of a bottle of water(City)                               -0.089963   \n",
       "Obesity levels(Country)                                        0.016833   \n",
       "Life expectancy(years) (Country)                               0.128163   \n",
       "Happiness levels(Country)                                      0.033116   \n",
       "Outdoor activities(City)                                       0.528200   \n",
       "Number of take out places(City)                                1.000000   \n",
       "Cost of a monthly gym membership(City)                         0.092610   \n",
       "\n",
       "                                        Cost of a monthly gym membership(City)  \n",
       "Rank                                                                  0.272521  \n",
       "Cost of a bottle of water(City)                                       0.356461  \n",
       "Obesity levels(Country)                                              -0.070904  \n",
       "Life expectancy(years) (Country)                                      0.417986  \n",
       "Happiness levels(Country)                                             0.297425  \n",
       "Outdoor activities(City)                                             -0.115400  \n",
       "Number of take out places(City)                                       0.092610  \n",
       "Cost of a monthly gym membership(City)                                1.000000  "
      ]
     },
     "execution_count": 5,
     "metadata": {},
     "output_type": "execute_result"
    }
   ],
   "source": [
    "cleaned_hlc_data = hlc_data.copy()\n",
    "#obe_hlc_data = hlc_data\n",
    "cleaned_hlc_data['Obesity levels(Country)'] = cleaned_hlc_data['Obesity levels(Country)'].str.replace('%', '', regex=False)\n",
    "cleaned_hlc_data['Obesity levels(Country)'] = cleaned_hlc_data['Obesity levels(Country)'].astype(str).astype(float)\n",
    "#print(obe_hlc_data['Obesity levels(Country)'])\n",
    "\n",
    "#cost_hlc_data = hlc_data\n",
    "cleaned_hlc_data['Cost of a bottle of water(City)'] = cleaned_hlc_data['Cost of a bottle of water(City)'].str.replace('£', '', regex=False)\n",
    "cleaned_hlc_data['Cost of a bottle of water(City)'] = cleaned_hlc_data['Cost of a bottle of water(City)'].astype(str).astype(float)\n",
    "#print(cost_hlc_data['Cost of a bottle of water(City)'])\n",
    "\n",
    "\n",
    "#gymcost_hlc_data = hlc_data\n",
    "cleaned_hlc_data['Cost of a monthly gym membership(City)'] = cleaned_hlc_data['Cost of a monthly gym membership(City)'].str.replace('£', '', regex=False)\n",
    "cleaned_hlc_data['Cost of a monthly gym membership(City)'] = cleaned_hlc_data['Cost of a monthly gym membership(City)'].astype(str).astype(float)\n",
    "#print(gymcost_hlc_data['Cost of a monthly gym membership(City)'])\n",
    "#print(cleaned_hlc_data)\n",
    "\n",
    "cleaned_hlc_data.corr()\n"
   ]
  },
  {
   "cell_type": "markdown",
   "id": "d883cfe9",
   "metadata": {
    "papermill": {
     "duration": 0.030761,
     "end_time": "2022-03-14T19:12:12.744639",
     "exception": false,
     "start_time": "2022-03-14T19:12:12.713878",
     "status": "completed"
    },
    "tags": []
   },
   "source": [
    "Some of the data had missing values so i will check the correlation coefficient for those data individually, as i will have to drop rows without values."
   ]
  },
  {
   "cell_type": "code",
   "execution_count": 6,
   "id": "26167063",
   "metadata": {
    "execution": {
     "iopub.execute_input": "2022-03-14T19:12:12.828386Z",
     "iopub.status.busy": "2022-03-14T19:12:12.814496Z",
     "iopub.status.idle": "2022-03-14T19:12:12.831972Z",
     "shell.execute_reply": "2022-03-14T19:12:12.832416Z",
     "shell.execute_reply.started": "2022-03-14T17:58:08.972168Z"
    },
    "papermill": {
     "duration": 0.05713,
     "end_time": "2022-03-14T19:12:12.832582",
     "exception": false,
     "start_time": "2022-03-14T19:12:12.775452",
     "status": "completed"
    },
    "tags": []
   },
   "outputs": [
    {
     "data": {
      "text/html": [
       "<div>\n",
       "<style scoped>\n",
       "    .dataframe tbody tr th:only-of-type {\n",
       "        vertical-align: middle;\n",
       "    }\n",
       "\n",
       "    .dataframe tbody tr th {\n",
       "        vertical-align: top;\n",
       "    }\n",
       "\n",
       "    .dataframe thead th {\n",
       "        text-align: right;\n",
       "    }\n",
       "</style>\n",
       "<table border=\"1\" class=\"dataframe\">\n",
       "  <thead>\n",
       "    <tr style=\"text-align: right;\">\n",
       "      <th></th>\n",
       "      <th>Rank</th>\n",
       "      <th>Cost of a bottle of water(City)</th>\n",
       "      <th>Obesity levels(Country)</th>\n",
       "      <th>Life expectancy(years) (Country)</th>\n",
       "      <th>Annual avg. hours worked</th>\n",
       "      <th>Happiness levels(Country)</th>\n",
       "      <th>Outdoor activities(City)</th>\n",
       "      <th>Number of take out places(City)</th>\n",
       "      <th>Cost of a monthly gym membership(City)</th>\n",
       "    </tr>\n",
       "  </thead>\n",
       "  <tbody>\n",
       "    <tr>\n",
       "      <th>Rank</th>\n",
       "      <td>1.000000</td>\n",
       "      <td>-0.156477</td>\n",
       "      <td>0.290423</td>\n",
       "      <td>-0.431469</td>\n",
       "      <td>0.498113</td>\n",
       "      <td>-0.308642</td>\n",
       "      <td>-0.037535</td>\n",
       "      <td>0.407923</td>\n",
       "      <td>0.406191</td>\n",
       "    </tr>\n",
       "    <tr>\n",
       "      <th>Cost of a bottle of water(City)</th>\n",
       "      <td>-0.156477</td>\n",
       "      <td>1.000000</td>\n",
       "      <td>-0.004787</td>\n",
       "      <td>0.447720</td>\n",
       "      <td>-0.636100</td>\n",
       "      <td>0.766225</td>\n",
       "      <td>-0.366549</td>\n",
       "      <td>-0.275817</td>\n",
       "      <td>0.241377</td>\n",
       "    </tr>\n",
       "    <tr>\n",
       "      <th>Obesity levels(Country)</th>\n",
       "      <td>0.290423</td>\n",
       "      <td>-0.004787</td>\n",
       "      <td>1.000000</td>\n",
       "      <td>-0.407865</td>\n",
       "      <td>0.265088</td>\n",
       "      <td>0.253585</td>\n",
       "      <td>0.138793</td>\n",
       "      <td>-0.100645</td>\n",
       "      <td>-0.117215</td>\n",
       "    </tr>\n",
       "    <tr>\n",
       "      <th>Life expectancy(years) (Country)</th>\n",
       "      <td>-0.431469</td>\n",
       "      <td>0.447720</td>\n",
       "      <td>-0.407865</td>\n",
       "      <td>1.000000</td>\n",
       "      <td>-0.480859</td>\n",
       "      <td>0.407255</td>\n",
       "      <td>-0.167352</td>\n",
       "      <td>-0.043328</td>\n",
       "      <td>0.290493</td>\n",
       "    </tr>\n",
       "    <tr>\n",
       "      <th>Annual avg. hours worked</th>\n",
       "      <td>0.498113</td>\n",
       "      <td>-0.636100</td>\n",
       "      <td>0.265088</td>\n",
       "      <td>-0.480859</td>\n",
       "      <td>1.000000</td>\n",
       "      <td>-0.531554</td>\n",
       "      <td>0.083404</td>\n",
       "      <td>-0.035817</td>\n",
       "      <td>0.144633</td>\n",
       "    </tr>\n",
       "    <tr>\n",
       "      <th>Happiness levels(Country)</th>\n",
       "      <td>-0.308642</td>\n",
       "      <td>0.766225</td>\n",
       "      <td>0.253585</td>\n",
       "      <td>0.407255</td>\n",
       "      <td>-0.531554</td>\n",
       "      <td>1.000000</td>\n",
       "      <td>-0.292265</td>\n",
       "      <td>-0.305360</td>\n",
       "      <td>0.082452</td>\n",
       "    </tr>\n",
       "    <tr>\n",
       "      <th>Outdoor activities(City)</th>\n",
       "      <td>-0.037535</td>\n",
       "      <td>-0.366549</td>\n",
       "      <td>0.138793</td>\n",
       "      <td>-0.167352</td>\n",
       "      <td>0.083404</td>\n",
       "      <td>-0.292265</td>\n",
       "      <td>1.000000</td>\n",
       "      <td>0.588237</td>\n",
       "      <td>-0.197376</td>\n",
       "    </tr>\n",
       "    <tr>\n",
       "      <th>Number of take out places(City)</th>\n",
       "      <td>0.407923</td>\n",
       "      <td>-0.275817</td>\n",
       "      <td>-0.100645</td>\n",
       "      <td>-0.043328</td>\n",
       "      <td>-0.035817</td>\n",
       "      <td>-0.305360</td>\n",
       "      <td>0.588237</td>\n",
       "      <td>1.000000</td>\n",
       "      <td>0.098211</td>\n",
       "    </tr>\n",
       "    <tr>\n",
       "      <th>Cost of a monthly gym membership(City)</th>\n",
       "      <td>0.406191</td>\n",
       "      <td>0.241377</td>\n",
       "      <td>-0.117215</td>\n",
       "      <td>0.290493</td>\n",
       "      <td>0.144633</td>\n",
       "      <td>0.082452</td>\n",
       "      <td>-0.197376</td>\n",
       "      <td>0.098211</td>\n",
       "      <td>1.000000</td>\n",
       "    </tr>\n",
       "  </tbody>\n",
       "</table>\n",
       "</div>"
      ],
      "text/plain": [
       "                                            Rank  \\\n",
       "Rank                                    1.000000   \n",
       "Cost of a bottle of water(City)        -0.156477   \n",
       "Obesity levels(Country)                 0.290423   \n",
       "Life expectancy(years) (Country)       -0.431469   \n",
       "Annual avg. hours worked                0.498113   \n",
       "Happiness levels(Country)              -0.308642   \n",
       "Outdoor activities(City)               -0.037535   \n",
       "Number of take out places(City)         0.407923   \n",
       "Cost of a monthly gym membership(City)  0.406191   \n",
       "\n",
       "                                        Cost of a bottle of water(City)  \\\n",
       "Rank                                                          -0.156477   \n",
       "Cost of a bottle of water(City)                                1.000000   \n",
       "Obesity levels(Country)                                       -0.004787   \n",
       "Life expectancy(years) (Country)                               0.447720   \n",
       "Annual avg. hours worked                                      -0.636100   \n",
       "Happiness levels(Country)                                      0.766225   \n",
       "Outdoor activities(City)                                      -0.366549   \n",
       "Number of take out places(City)                               -0.275817   \n",
       "Cost of a monthly gym membership(City)                         0.241377   \n",
       "\n",
       "                                        Obesity levels(Country)  \\\n",
       "Rank                                                   0.290423   \n",
       "Cost of a bottle of water(City)                       -0.004787   \n",
       "Obesity levels(Country)                                1.000000   \n",
       "Life expectancy(years) (Country)                      -0.407865   \n",
       "Annual avg. hours worked                               0.265088   \n",
       "Happiness levels(Country)                              0.253585   \n",
       "Outdoor activities(City)                               0.138793   \n",
       "Number of take out places(City)                       -0.100645   \n",
       "Cost of a monthly gym membership(City)                -0.117215   \n",
       "\n",
       "                                        Life expectancy(years) (Country)  \\\n",
       "Rank                                                           -0.431469   \n",
       "Cost of a bottle of water(City)                                 0.447720   \n",
       "Obesity levels(Country)                                        -0.407865   \n",
       "Life expectancy(years) (Country)                                1.000000   \n",
       "Annual avg. hours worked                                       -0.480859   \n",
       "Happiness levels(Country)                                       0.407255   \n",
       "Outdoor activities(City)                                       -0.167352   \n",
       "Number of take out places(City)                                -0.043328   \n",
       "Cost of a monthly gym membership(City)                          0.290493   \n",
       "\n",
       "                                        Annual avg. hours worked  \\\n",
       "Rank                                                    0.498113   \n",
       "Cost of a bottle of water(City)                        -0.636100   \n",
       "Obesity levels(Country)                                 0.265088   \n",
       "Life expectancy(years) (Country)                       -0.480859   \n",
       "Annual avg. hours worked                                1.000000   \n",
       "Happiness levels(Country)                              -0.531554   \n",
       "Outdoor activities(City)                                0.083404   \n",
       "Number of take out places(City)                        -0.035817   \n",
       "Cost of a monthly gym membership(City)                  0.144633   \n",
       "\n",
       "                                        Happiness levels(Country)  \\\n",
       "Rank                                                    -0.308642   \n",
       "Cost of a bottle of water(City)                          0.766225   \n",
       "Obesity levels(Country)                                  0.253585   \n",
       "Life expectancy(years) (Country)                         0.407255   \n",
       "Annual avg. hours worked                                -0.531554   \n",
       "Happiness levels(Country)                                1.000000   \n",
       "Outdoor activities(City)                                -0.292265   \n",
       "Number of take out places(City)                         -0.305360   \n",
       "Cost of a monthly gym membership(City)                   0.082452   \n",
       "\n",
       "                                        Outdoor activities(City)  \\\n",
       "Rank                                                   -0.037535   \n",
       "Cost of a bottle of water(City)                        -0.366549   \n",
       "Obesity levels(Country)                                 0.138793   \n",
       "Life expectancy(years) (Country)                       -0.167352   \n",
       "Annual avg. hours worked                                0.083404   \n",
       "Happiness levels(Country)                              -0.292265   \n",
       "Outdoor activities(City)                                1.000000   \n",
       "Number of take out places(City)                         0.588237   \n",
       "Cost of a monthly gym membership(City)                 -0.197376   \n",
       "\n",
       "                                        Number of take out places(City)  \\\n",
       "Rank                                                           0.407923   \n",
       "Cost of a bottle of water(City)                               -0.275817   \n",
       "Obesity levels(Country)                                       -0.100645   \n",
       "Life expectancy(years) (Country)                              -0.043328   \n",
       "Annual avg. hours worked                                      -0.035817   \n",
       "Happiness levels(Country)                                     -0.305360   \n",
       "Outdoor activities(City)                                       0.588237   \n",
       "Number of take out places(City)                                1.000000   \n",
       "Cost of a monthly gym membership(City)                         0.098211   \n",
       "\n",
       "                                        Cost of a monthly gym membership(City)  \n",
       "Rank                                                                  0.406191  \n",
       "Cost of a bottle of water(City)                                       0.241377  \n",
       "Obesity levels(Country)                                              -0.117215  \n",
       "Life expectancy(years) (Country)                                      0.290493  \n",
       "Annual avg. hours worked                                              0.144633  \n",
       "Happiness levels(Country)                                             0.082452  \n",
       "Outdoor activities(City)                                             -0.197376  \n",
       "Number of take out places(City)                                       0.098211  \n",
       "Cost of a monthly gym membership(City)                                1.000000  "
      ]
     },
     "execution_count": 6,
     "metadata": {},
     "output_type": "execute_result"
    }
   ],
   "source": [
    "hours_hlc_data = cleaned_hlc_data.copy()\n",
    "hours_hlc_data = hours_hlc_data[hours_hlc_data['Annual avg. hours worked'] != '-']\n",
    "hours_hlc_data['Annual avg. hours worked'] = hours_hlc_data['Annual avg. hours worked'].astype(str).astype(int)\n",
    "hours_hlc_data.corr()"
   ]
  },
  {
   "cell_type": "code",
   "execution_count": 7,
   "id": "d32f29b9",
   "metadata": {
    "execution": {
     "iopub.execute_input": "2022-03-14T19:12:12.901206Z",
     "iopub.status.busy": "2022-03-14T19:12:12.900529Z",
     "iopub.status.idle": "2022-03-14T19:12:12.919852Z",
     "shell.execute_reply": "2022-03-14T19:12:12.920338Z",
     "shell.execute_reply.started": "2022-03-14T17:58:55.505352Z"
    },
    "papermill": {
     "duration": 0.055983,
     "end_time": "2022-03-14T19:12:12.920505",
     "exception": false,
     "start_time": "2022-03-14T19:12:12.864522",
     "status": "completed"
    },
    "tags": []
   },
   "outputs": [
    {
     "data": {
      "text/html": [
       "<div>\n",
       "<style scoped>\n",
       "    .dataframe tbody tr th:only-of-type {\n",
       "        vertical-align: middle;\n",
       "    }\n",
       "\n",
       "    .dataframe tbody tr th {\n",
       "        vertical-align: top;\n",
       "    }\n",
       "\n",
       "    .dataframe thead th {\n",
       "        text-align: right;\n",
       "    }\n",
       "</style>\n",
       "<table border=\"1\" class=\"dataframe\">\n",
       "  <thead>\n",
       "    <tr style=\"text-align: right;\">\n",
       "      <th></th>\n",
       "      <th>Rank</th>\n",
       "      <th>Sunshine hours(City)</th>\n",
       "      <th>Cost of a bottle of water(City)</th>\n",
       "      <th>Obesity levels(Country)</th>\n",
       "      <th>Life expectancy(years) (Country)</th>\n",
       "      <th>Happiness levels(Country)</th>\n",
       "      <th>Outdoor activities(City)</th>\n",
       "      <th>Number of take out places(City)</th>\n",
       "      <th>Cost of a monthly gym membership(City)</th>\n",
       "    </tr>\n",
       "  </thead>\n",
       "  <tbody>\n",
       "    <tr>\n",
       "      <th>Rank</th>\n",
       "      <td>1.000000</td>\n",
       "      <td>0.007940</td>\n",
       "      <td>-0.139029</td>\n",
       "      <td>0.196606</td>\n",
       "      <td>-0.318965</td>\n",
       "      <td>-0.230374</td>\n",
       "      <td>-0.085025</td>\n",
       "      <td>0.362126</td>\n",
       "      <td>0.295783</td>\n",
       "    </tr>\n",
       "    <tr>\n",
       "      <th>Sunshine hours(City)</th>\n",
       "      <td>0.007940</td>\n",
       "      <td>1.000000</td>\n",
       "      <td>-0.348465</td>\n",
       "      <td>0.281304</td>\n",
       "      <td>-0.356351</td>\n",
       "      <td>-0.334141</td>\n",
       "      <td>0.129550</td>\n",
       "      <td>-0.211848</td>\n",
       "      <td>0.030697</td>\n",
       "    </tr>\n",
       "    <tr>\n",
       "      <th>Cost of a bottle of water(City)</th>\n",
       "      <td>-0.139029</td>\n",
       "      <td>-0.348465</td>\n",
       "      <td>1.000000</td>\n",
       "      <td>0.320489</td>\n",
       "      <td>0.607240</td>\n",
       "      <td>0.810776</td>\n",
       "      <td>-0.211022</td>\n",
       "      <td>-0.058752</td>\n",
       "      <td>0.289369</td>\n",
       "    </tr>\n",
       "    <tr>\n",
       "      <th>Obesity levels(Country)</th>\n",
       "      <td>0.196606</td>\n",
       "      <td>0.281304</td>\n",
       "      <td>0.320489</td>\n",
       "      <td>1.000000</td>\n",
       "      <td>0.096661</td>\n",
       "      <td>0.460237</td>\n",
       "      <td>0.145836</td>\n",
       "      <td>0.012849</td>\n",
       "      <td>-0.062760</td>\n",
       "    </tr>\n",
       "    <tr>\n",
       "      <th>Life expectancy(years) (Country)</th>\n",
       "      <td>-0.318965</td>\n",
       "      <td>-0.356351</td>\n",
       "      <td>0.607240</td>\n",
       "      <td>0.096661</td>\n",
       "      <td>1.000000</td>\n",
       "      <td>0.719049</td>\n",
       "      <td>-0.018894</td>\n",
       "      <td>0.144531</td>\n",
       "      <td>0.401021</td>\n",
       "    </tr>\n",
       "    <tr>\n",
       "      <th>Happiness levels(Country)</th>\n",
       "      <td>-0.230374</td>\n",
       "      <td>-0.334141</td>\n",
       "      <td>0.810776</td>\n",
       "      <td>0.460237</td>\n",
       "      <td>0.719049</td>\n",
       "      <td>1.000000</td>\n",
       "      <td>-0.105374</td>\n",
       "      <td>0.053702</td>\n",
       "      <td>0.260345</td>\n",
       "    </tr>\n",
       "    <tr>\n",
       "      <th>Outdoor activities(City)</th>\n",
       "      <td>-0.085025</td>\n",
       "      <td>0.129550</td>\n",
       "      <td>-0.211022</td>\n",
       "      <td>0.145836</td>\n",
       "      <td>-0.018894</td>\n",
       "      <td>-0.105374</td>\n",
       "      <td>1.000000</td>\n",
       "      <td>0.519624</td>\n",
       "      <td>-0.056549</td>\n",
       "    </tr>\n",
       "    <tr>\n",
       "      <th>Number of take out places(City)</th>\n",
       "      <td>0.362126</td>\n",
       "      <td>-0.211848</td>\n",
       "      <td>-0.058752</td>\n",
       "      <td>0.012849</td>\n",
       "      <td>0.144531</td>\n",
       "      <td>0.053702</td>\n",
       "      <td>0.519624</td>\n",
       "      <td>1.000000</td>\n",
       "      <td>0.133460</td>\n",
       "    </tr>\n",
       "    <tr>\n",
       "      <th>Cost of a monthly gym membership(City)</th>\n",
       "      <td>0.295783</td>\n",
       "      <td>0.030697</td>\n",
       "      <td>0.289369</td>\n",
       "      <td>-0.062760</td>\n",
       "      <td>0.401021</td>\n",
       "      <td>0.260345</td>\n",
       "      <td>-0.056549</td>\n",
       "      <td>0.133460</td>\n",
       "      <td>1.000000</td>\n",
       "    </tr>\n",
       "  </tbody>\n",
       "</table>\n",
       "</div>"
      ],
      "text/plain": [
       "                                            Rank  Sunshine hours(City)  \\\n",
       "Rank                                    1.000000              0.007940   \n",
       "Sunshine hours(City)                    0.007940              1.000000   \n",
       "Cost of a bottle of water(City)        -0.139029             -0.348465   \n",
       "Obesity levels(Country)                 0.196606              0.281304   \n",
       "Life expectancy(years) (Country)       -0.318965             -0.356351   \n",
       "Happiness levels(Country)              -0.230374             -0.334141   \n",
       "Outdoor activities(City)               -0.085025              0.129550   \n",
       "Number of take out places(City)         0.362126             -0.211848   \n",
       "Cost of a monthly gym membership(City)  0.295783              0.030697   \n",
       "\n",
       "                                        Cost of a bottle of water(City)  \\\n",
       "Rank                                                          -0.139029   \n",
       "Sunshine hours(City)                                          -0.348465   \n",
       "Cost of a bottle of water(City)                                1.000000   \n",
       "Obesity levels(Country)                                        0.320489   \n",
       "Life expectancy(years) (Country)                               0.607240   \n",
       "Happiness levels(Country)                                      0.810776   \n",
       "Outdoor activities(City)                                      -0.211022   \n",
       "Number of take out places(City)                               -0.058752   \n",
       "Cost of a monthly gym membership(City)                         0.289369   \n",
       "\n",
       "                                        Obesity levels(Country)  \\\n",
       "Rank                                                   0.196606   \n",
       "Sunshine hours(City)                                   0.281304   \n",
       "Cost of a bottle of water(City)                        0.320489   \n",
       "Obesity levels(Country)                                1.000000   \n",
       "Life expectancy(years) (Country)                       0.096661   \n",
       "Happiness levels(Country)                              0.460237   \n",
       "Outdoor activities(City)                               0.145836   \n",
       "Number of take out places(City)                        0.012849   \n",
       "Cost of a monthly gym membership(City)                -0.062760   \n",
       "\n",
       "                                        Life expectancy(years) (Country)  \\\n",
       "Rank                                                           -0.318965   \n",
       "Sunshine hours(City)                                           -0.356351   \n",
       "Cost of a bottle of water(City)                                 0.607240   \n",
       "Obesity levels(Country)                                         0.096661   \n",
       "Life expectancy(years) (Country)                                1.000000   \n",
       "Happiness levels(Country)                                       0.719049   \n",
       "Outdoor activities(City)                                       -0.018894   \n",
       "Number of take out places(City)                                 0.144531   \n",
       "Cost of a monthly gym membership(City)                          0.401021   \n",
       "\n",
       "                                        Happiness levels(Country)  \\\n",
       "Rank                                                    -0.230374   \n",
       "Sunshine hours(City)                                    -0.334141   \n",
       "Cost of a bottle of water(City)                          0.810776   \n",
       "Obesity levels(Country)                                  0.460237   \n",
       "Life expectancy(years) (Country)                         0.719049   \n",
       "Happiness levels(Country)                                1.000000   \n",
       "Outdoor activities(City)                                -0.105374   \n",
       "Number of take out places(City)                          0.053702   \n",
       "Cost of a monthly gym membership(City)                   0.260345   \n",
       "\n",
       "                                        Outdoor activities(City)  \\\n",
       "Rank                                                   -0.085025   \n",
       "Sunshine hours(City)                                    0.129550   \n",
       "Cost of a bottle of water(City)                        -0.211022   \n",
       "Obesity levels(Country)                                 0.145836   \n",
       "Life expectancy(years) (Country)                       -0.018894   \n",
       "Happiness levels(Country)                              -0.105374   \n",
       "Outdoor activities(City)                                1.000000   \n",
       "Number of take out places(City)                         0.519624   \n",
       "Cost of a monthly gym membership(City)                 -0.056549   \n",
       "\n",
       "                                        Number of take out places(City)  \\\n",
       "Rank                                                           0.362126   \n",
       "Sunshine hours(City)                                          -0.211848   \n",
       "Cost of a bottle of water(City)                               -0.058752   \n",
       "Obesity levels(Country)                                        0.012849   \n",
       "Life expectancy(years) (Country)                               0.144531   \n",
       "Happiness levels(Country)                                      0.053702   \n",
       "Outdoor activities(City)                                       0.519624   \n",
       "Number of take out places(City)                                1.000000   \n",
       "Cost of a monthly gym membership(City)                         0.133460   \n",
       "\n",
       "                                        Cost of a monthly gym membership(City)  \n",
       "Rank                                                                  0.295783  \n",
       "Sunshine hours(City)                                                  0.030697  \n",
       "Cost of a bottle of water(City)                                       0.289369  \n",
       "Obesity levels(Country)                                              -0.062760  \n",
       "Life expectancy(years) (Country)                                      0.401021  \n",
       "Happiness levels(Country)                                             0.260345  \n",
       "Outdoor activities(City)                                             -0.056549  \n",
       "Number of take out places(City)                                       0.133460  \n",
       "Cost of a monthly gym membership(City)                                1.000000  "
      ]
     },
     "execution_count": 7,
     "metadata": {},
     "output_type": "execute_result"
    }
   ],
   "source": [
    "sun_hlc_data = cleaned_hlc_data.copy()\n",
    "sun_hlc_data = sun_hlc_data[sun_hlc_data['Sunshine hours(City)'] != '-']\n",
    "sun_hlc_data['Sunshine hours(City)'] = sun_hlc_data['Sunshine hours(City)'].astype(str).astype(int)\n",
    "sun_hlc_data.corr()"
   ]
  },
  {
   "cell_type": "code",
   "execution_count": 8,
   "id": "0460e4e4",
   "metadata": {
    "execution": {
     "iopub.execute_input": "2022-03-14T19:12:12.989153Z",
     "iopub.status.busy": "2022-03-14T19:12:12.988334Z",
     "iopub.status.idle": "2022-03-14T19:12:13.007882Z",
     "shell.execute_reply": "2022-03-14T19:12:13.008383Z",
     "shell.execute_reply.started": "2022-03-14T18:05:07.838686Z"
    },
    "papermill": {
     "duration": 0.055415,
     "end_time": "2022-03-14T19:12:13.008553",
     "exception": false,
     "start_time": "2022-03-14T19:12:12.953138",
     "status": "completed"
    },
    "tags": []
   },
   "outputs": [
    {
     "data": {
      "text/html": [
       "<div>\n",
       "<style scoped>\n",
       "    .dataframe tbody tr th:only-of-type {\n",
       "        vertical-align: middle;\n",
       "    }\n",
       "\n",
       "    .dataframe tbody tr th {\n",
       "        vertical-align: top;\n",
       "    }\n",
       "\n",
       "    .dataframe thead th {\n",
       "        text-align: right;\n",
       "    }\n",
       "</style>\n",
       "<table border=\"1\" class=\"dataframe\">\n",
       "  <thead>\n",
       "    <tr style=\"text-align: right;\">\n",
       "      <th></th>\n",
       "      <th>Rank</th>\n",
       "      <th>Cost of a bottle of water(City)</th>\n",
       "      <th>Obesity levels(Country)</th>\n",
       "      <th>Life expectancy(years) (Country)</th>\n",
       "      <th>Pollution(Index score) (City)</th>\n",
       "      <th>Happiness levels(Country)</th>\n",
       "      <th>Outdoor activities(City)</th>\n",
       "      <th>Number of take out places(City)</th>\n",
       "      <th>Cost of a monthly gym membership(City)</th>\n",
       "    </tr>\n",
       "  </thead>\n",
       "  <tbody>\n",
       "    <tr>\n",
       "      <th>Rank</th>\n",
       "      <td>1.000000</td>\n",
       "      <td>-0.160508</td>\n",
       "      <td>0.156132</td>\n",
       "      <td>-0.301275</td>\n",
       "      <td>0.427297</td>\n",
       "      <td>-0.253738</td>\n",
       "      <td>-0.122384</td>\n",
       "      <td>0.352271</td>\n",
       "      <td>0.311411</td>\n",
       "    </tr>\n",
       "    <tr>\n",
       "      <th>Cost of a bottle of water(City)</th>\n",
       "      <td>-0.160508</td>\n",
       "      <td>1.000000</td>\n",
       "      <td>0.281698</td>\n",
       "      <td>0.633767</td>\n",
       "      <td>-0.735286</td>\n",
       "      <td>0.811766</td>\n",
       "      <td>-0.286457</td>\n",
       "      <td>-0.099299</td>\n",
       "      <td>0.375971</td>\n",
       "    </tr>\n",
       "    <tr>\n",
       "      <th>Obesity levels(Country)</th>\n",
       "      <td>0.156132</td>\n",
       "      <td>0.281698</td>\n",
       "      <td>1.000000</td>\n",
       "      <td>0.136392</td>\n",
       "      <td>-0.256251</td>\n",
       "      <td>0.440548</td>\n",
       "      <td>0.098091</td>\n",
       "      <td>-0.010373</td>\n",
       "      <td>-0.030005</td>\n",
       "    </tr>\n",
       "    <tr>\n",
       "      <th>Life expectancy(years) (Country)</th>\n",
       "      <td>-0.301275</td>\n",
       "      <td>0.633767</td>\n",
       "      <td>0.136392</td>\n",
       "      <td>1.000000</td>\n",
       "      <td>-0.558713</td>\n",
       "      <td>0.748339</td>\n",
       "      <td>-0.013609</td>\n",
       "      <td>0.145122</td>\n",
       "      <td>0.404191</td>\n",
       "    </tr>\n",
       "    <tr>\n",
       "      <th>Pollution(Index score) (City)</th>\n",
       "      <td>0.427297</td>\n",
       "      <td>-0.735286</td>\n",
       "      <td>-0.256251</td>\n",
       "      <td>-0.558713</td>\n",
       "      <td>1.000000</td>\n",
       "      <td>-0.765902</td>\n",
       "      <td>0.242622</td>\n",
       "      <td>0.187227</td>\n",
       "      <td>-0.244865</td>\n",
       "    </tr>\n",
       "    <tr>\n",
       "      <th>Happiness levels(Country)</th>\n",
       "      <td>-0.253738</td>\n",
       "      <td>0.811766</td>\n",
       "      <td>0.440548</td>\n",
       "      <td>0.748339</td>\n",
       "      <td>-0.765902</td>\n",
       "      <td>1.000000</td>\n",
       "      <td>-0.161151</td>\n",
       "      <td>0.024503</td>\n",
       "      <td>0.316620</td>\n",
       "    </tr>\n",
       "    <tr>\n",
       "      <th>Outdoor activities(City)</th>\n",
       "      <td>-0.122384</td>\n",
       "      <td>-0.286457</td>\n",
       "      <td>0.098091</td>\n",
       "      <td>-0.013609</td>\n",
       "      <td>0.242622</td>\n",
       "      <td>-0.161151</td>\n",
       "      <td>1.000000</td>\n",
       "      <td>0.521406</td>\n",
       "      <td>-0.083967</td>\n",
       "    </tr>\n",
       "    <tr>\n",
       "      <th>Number of take out places(City)</th>\n",
       "      <td>0.352271</td>\n",
       "      <td>-0.099299</td>\n",
       "      <td>-0.010373</td>\n",
       "      <td>0.145122</td>\n",
       "      <td>0.187227</td>\n",
       "      <td>0.024503</td>\n",
       "      <td>0.521406</td>\n",
       "      <td>1.000000</td>\n",
       "      <td>0.110514</td>\n",
       "    </tr>\n",
       "    <tr>\n",
       "      <th>Cost of a monthly gym membership(City)</th>\n",
       "      <td>0.311411</td>\n",
       "      <td>0.375971</td>\n",
       "      <td>-0.030005</td>\n",
       "      <td>0.404191</td>\n",
       "      <td>-0.244865</td>\n",
       "      <td>0.316620</td>\n",
       "      <td>-0.083967</td>\n",
       "      <td>0.110514</td>\n",
       "      <td>1.000000</td>\n",
       "    </tr>\n",
       "  </tbody>\n",
       "</table>\n",
       "</div>"
      ],
      "text/plain": [
       "                                            Rank  \\\n",
       "Rank                                    1.000000   \n",
       "Cost of a bottle of water(City)        -0.160508   \n",
       "Obesity levels(Country)                 0.156132   \n",
       "Life expectancy(years) (Country)       -0.301275   \n",
       "Pollution(Index score) (City)           0.427297   \n",
       "Happiness levels(Country)              -0.253738   \n",
       "Outdoor activities(City)               -0.122384   \n",
       "Number of take out places(City)         0.352271   \n",
       "Cost of a monthly gym membership(City)  0.311411   \n",
       "\n",
       "                                        Cost of a bottle of water(City)  \\\n",
       "Rank                                                          -0.160508   \n",
       "Cost of a bottle of water(City)                                1.000000   \n",
       "Obesity levels(Country)                                        0.281698   \n",
       "Life expectancy(years) (Country)                               0.633767   \n",
       "Pollution(Index score) (City)                                 -0.735286   \n",
       "Happiness levels(Country)                                      0.811766   \n",
       "Outdoor activities(City)                                      -0.286457   \n",
       "Number of take out places(City)                               -0.099299   \n",
       "Cost of a monthly gym membership(City)                         0.375971   \n",
       "\n",
       "                                        Obesity levels(Country)  \\\n",
       "Rank                                                   0.156132   \n",
       "Cost of a bottle of water(City)                        0.281698   \n",
       "Obesity levels(Country)                                1.000000   \n",
       "Life expectancy(years) (Country)                       0.136392   \n",
       "Pollution(Index score) (City)                         -0.256251   \n",
       "Happiness levels(Country)                              0.440548   \n",
       "Outdoor activities(City)                               0.098091   \n",
       "Number of take out places(City)                       -0.010373   \n",
       "Cost of a monthly gym membership(City)                -0.030005   \n",
       "\n",
       "                                        Life expectancy(years) (Country)  \\\n",
       "Rank                                                           -0.301275   \n",
       "Cost of a bottle of water(City)                                 0.633767   \n",
       "Obesity levels(Country)                                         0.136392   \n",
       "Life expectancy(years) (Country)                                1.000000   \n",
       "Pollution(Index score) (City)                                  -0.558713   \n",
       "Happiness levels(Country)                                       0.748339   \n",
       "Outdoor activities(City)                                       -0.013609   \n",
       "Number of take out places(City)                                 0.145122   \n",
       "Cost of a monthly gym membership(City)                          0.404191   \n",
       "\n",
       "                                        Pollution(Index score) (City)  \\\n",
       "Rank                                                         0.427297   \n",
       "Cost of a bottle of water(City)                             -0.735286   \n",
       "Obesity levels(Country)                                     -0.256251   \n",
       "Life expectancy(years) (Country)                            -0.558713   \n",
       "Pollution(Index score) (City)                                1.000000   \n",
       "Happiness levels(Country)                                   -0.765902   \n",
       "Outdoor activities(City)                                     0.242622   \n",
       "Number of take out places(City)                              0.187227   \n",
       "Cost of a monthly gym membership(City)                      -0.244865   \n",
       "\n",
       "                                        Happiness levels(Country)  \\\n",
       "Rank                                                    -0.253738   \n",
       "Cost of a bottle of water(City)                          0.811766   \n",
       "Obesity levels(Country)                                  0.440548   \n",
       "Life expectancy(years) (Country)                         0.748339   \n",
       "Pollution(Index score) (City)                           -0.765902   \n",
       "Happiness levels(Country)                                1.000000   \n",
       "Outdoor activities(City)                                -0.161151   \n",
       "Number of take out places(City)                          0.024503   \n",
       "Cost of a monthly gym membership(City)                   0.316620   \n",
       "\n",
       "                                        Outdoor activities(City)  \\\n",
       "Rank                                                   -0.122384   \n",
       "Cost of a bottle of water(City)                        -0.286457   \n",
       "Obesity levels(Country)                                 0.098091   \n",
       "Life expectancy(years) (Country)                       -0.013609   \n",
       "Pollution(Index score) (City)                           0.242622   \n",
       "Happiness levels(Country)                              -0.161151   \n",
       "Outdoor activities(City)                                1.000000   \n",
       "Number of take out places(City)                         0.521406   \n",
       "Cost of a monthly gym membership(City)                 -0.083967   \n",
       "\n",
       "                                        Number of take out places(City)  \\\n",
       "Rank                                                           0.352271   \n",
       "Cost of a bottle of water(City)                               -0.099299   \n",
       "Obesity levels(Country)                                       -0.010373   \n",
       "Life expectancy(years) (Country)                               0.145122   \n",
       "Pollution(Index score) (City)                                  0.187227   \n",
       "Happiness levels(Country)                                      0.024503   \n",
       "Outdoor activities(City)                                       0.521406   \n",
       "Number of take out places(City)                                1.000000   \n",
       "Cost of a monthly gym membership(City)                         0.110514   \n",
       "\n",
       "                                        Cost of a monthly gym membership(City)  \n",
       "Rank                                                                  0.311411  \n",
       "Cost of a bottle of water(City)                                       0.375971  \n",
       "Obesity levels(Country)                                              -0.030005  \n",
       "Life expectancy(years) (Country)                                      0.404191  \n",
       "Pollution(Index score) (City)                                        -0.244865  \n",
       "Happiness levels(Country)                                             0.316620  \n",
       "Outdoor activities(City)                                             -0.083967  \n",
       "Number of take out places(City)                                       0.110514  \n",
       "Cost of a monthly gym membership(City)                                1.000000  "
      ]
     },
     "execution_count": 8,
     "metadata": {},
     "output_type": "execute_result"
    }
   ],
   "source": [
    "pol_hlc_data = cleaned_hlc_data.copy()\n",
    "pol_hlc_data = pol_hlc_data[pol_hlc_data['Pollution(Index score) (City)'] != '-']\n",
    "pol_hlc_data['Pollution(Index score) (City)'] = pol_hlc_data['Pollution(Index score) (City)'].astype(str).astype(float)\n",
    "pol_hlc_data.corr()"
   ]
  },
  {
   "cell_type": "markdown",
   "id": "794cbc9b",
   "metadata": {
    "papermill": {
     "duration": 0.033965,
     "end_time": "2022-03-14T19:12:13.076499",
     "exception": false,
     "start_time": "2022-03-14T19:12:13.042534",
     "status": "completed"
    },
    "tags": []
   },
   "source": [
    "# **Analysis**\n",
    "### **Now I will begin to analyze the data looking for trends, relationships and/or destributions among the data**\n",
    "The data is not based over a period of time so, therefor finding a pattern of change (trends) will not be possible. Relationships seem to be what the data will show best so i will begin with analyzing relationships with the aforementioned correlation coefficients. I will start with graphing the less surprising data."
   ]
  },
  {
   "cell_type": "markdown",
   "id": "f5340c47",
   "metadata": {
    "papermill": {
     "duration": 0.03363,
     "end_time": "2022-03-14T19:12:13.143612",
     "exception": false,
     "start_time": "2022-03-14T19:12:13.109982",
     "status": "completed"
    },
    "tags": []
   },
   "source": []
  },
  {
   "cell_type": "code",
   "execution_count": 9,
   "id": "b415a68e",
   "metadata": {
    "execution": {
     "iopub.execute_input": "2022-03-14T19:12:13.216855Z",
     "iopub.status.busy": "2022-03-14T19:12:13.216224Z",
     "iopub.status.idle": "2022-03-14T19:12:13.455642Z",
     "shell.execute_reply": "2022-03-14T19:12:13.454966Z",
     "shell.execute_reply.started": "2022-03-14T16:30:35.144826Z"
    },
    "papermill": {
     "duration": 0.276077,
     "end_time": "2022-03-14T19:12:13.455819",
     "exception": false,
     "start_time": "2022-03-14T19:12:13.179742",
     "status": "completed"
    },
    "tags": []
   },
   "outputs": [
    {
     "data": {
      "text/plain": [
       "<AxesSubplot:title={'center':'Happiness and Life Expactancy Viz'}, xlabel='Happiness', ylabel='Life Expectancy'>"
      ]
     },
     "execution_count": 9,
     "metadata": {},
     "output_type": "execute_result"
    },
    {
     "data": {
      "image/png": "[encoded data removed]",
      "text/plain": [
       "<Figure size 720x360 with 1 Axes>"
      ]
     },
     "metadata": {
      "needs_background": "light"
     },
     "output_type": "display_data"
    }
   ],
   "source": [
    "plt.figure(figsize = (10,5))\n",
    "plt.xlabel('Happiness')\n",
    "plt.ylabel('Life Expectancy')\n",
    "plt.title('Happiness and Life Expactancy Viz')\n",
    "sns.scatterplot(data=cleaned_hlc_data, x = 'Happiness levels(Country)', y = 'Life expectancy(years) (Country)')"
   ]
  },
  {
   "cell_type": "markdown",
   "id": "bdf0c7b4",
   "metadata": {
    "papermill": {
     "duration": 0.034405,
     "end_time": "2022-03-14T19:12:13.525627",
     "exception": false,
     "start_time": "2022-03-14T19:12:13.491222",
     "status": "completed"
    },
    "tags": []
   },
   "source": [
    "#### It is no surprise that there is a strong correlation between Happiness and Life expectancy.\n",
    "  The correlation can be better seen using a scatter plot graph with an added line of best fit."
   ]
  },
  {
   "cell_type": "code",
   "execution_count": 10,
   "id": "11b0f615",
   "metadata": {
    "execution": {
     "iopub.execute_input": "2022-03-14T19:12:13.601095Z",
     "iopub.status.busy": "2022-03-14T19:12:13.600396Z",
     "iopub.status.idle": "2022-03-14T19:12:13.890627Z",
     "shell.execute_reply": "2022-03-14T19:12:13.891115Z",
     "shell.execute_reply.started": "2022-03-14T19:09:47.426283Z"
    },
    "papermill": {
     "duration": 0.33041,
     "end_time": "2022-03-14T19:12:13.891293",
     "exception": false,
     "start_time": "2022-03-14T19:12:13.560883",
     "status": "completed"
    },
    "tags": []
   },
   "outputs": [
    {
     "data": {
      "text/plain": [
       "<AxesSubplot:title={'center':'Happiness and Life Expactancy Viz'}, xlabel='Happiness levels(Country)', ylabel='Life expectancy(years) (Country)'>"
      ]
     },
     "execution_count": 10,
     "metadata": {},
     "output_type": "execute_result"
    },
    {
     "data": {
      "image/png": "[encoded data removed]",
      "text/plain": [
       "<Figure size 720x360 with 1 Axes>"
      ]
     },
     "metadata": {
      "needs_background": "light"
     },
     "output_type": "display_data"
    }
   ],
   "source": [
    "plt.figure(figsize = (10,5))\n",
    "plt.xlabel('Happiness')\n",
    "plt.ylabel('Life Expectancy')\n",
    "plt.title('Happiness and Life Expactancy Viz')\n",
    "sns.regplot(data=cleaned_hlc_data, x = 'Happiness levels(Country)', y = 'Life expectancy(years) (Country)')"
   ]
  },
  {
   "cell_type": "markdown",
   "id": "f11be97b",
   "metadata": {
    "papermill": {
     "duration": 0.036121,
     "end_time": "2022-03-14T19:12:13.963608",
     "exception": false,
     "start_time": "2022-03-14T19:12:13.927487",
     "status": "completed"
    },
    "tags": []
   },
   "source": [
    "#### Here we can see a clear positive correlation with the line of best fit and very few outliers.\n",
    "Lets now dig deeper into the data to see if we can find surprising correlations "
   ]
  },
  {
   "cell_type": "code",
   "execution_count": 11,
   "id": "a018c8d3",
   "metadata": {
    "execution": {
     "iopub.execute_input": "2022-03-14T19:12:14.040731Z",
     "iopub.status.busy": "2022-03-14T19:12:14.039779Z",
     "iopub.status.idle": "2022-03-14T19:12:14.238539Z",
     "shell.execute_reply": "2022-03-14T19:12:14.239093Z",
     "shell.execute_reply.started": "2022-03-14T18:05:51.002517Z"
    },
    "papermill": {
     "duration": 0.239274,
     "end_time": "2022-03-14T19:12:14.239262",
     "exception": false,
     "start_time": "2022-03-14T19:12:13.999988",
     "status": "completed"
    },
    "tags": []
   },
   "outputs": [
    {
     "data": {
      "text/plain": [
       "<AxesSubplot:title={'center':'Happiness and Hours Worked Viz'}, xlabel='Happiness', ylabel='Annual avg. hours worked'>"
      ]
     },
     "execution_count": 11,
     "metadata": {},
     "output_type": "execute_result"
    },
    {
     "data": {
      "image/png": "[encoded data removed]",
      "text/plain": [
       "<Figure size 720x360 with 1 Axes>"
      ]
     },
     "metadata": {
      "needs_background": "light"
     },
     "output_type": "display_data"
    }
   ],
   "source": [
    "\n",
    "plt.figure(figsize = (10,5))\n",
    "plt.xlabel('Happiness')\n",
    "plt.ylabel('Annual avg. hours worked')\n",
    "plt.title('Happiness and Hours Worked Viz')\n",
    "sns.scatterplot(data=hours_hlc_data, x = 'Happiness levels(Country)', y = 'Annual avg. hours worked')"
   ]
  },
  {
   "cell_type": "markdown",
   "id": "45bd8124",
   "metadata": {
    "papermill": {
     "duration": 0.037486,
     "end_time": "2022-03-14T19:12:14.314382",
     "exception": false,
     "start_time": "2022-03-14T19:12:14.276896",
     "status": "completed"
    },
    "tags": []
   },
   "source": [
    "There may be a negative correlation between annual hours worked and happiness. That is, less hours worked, the happier people tend to be. Lets check using a scatter plot with a line of best fit."
   ]
  },
  {
   "cell_type": "code",
   "execution_count": 12,
   "id": "b88025d5",
   "metadata": {
    "execution": {
     "iopub.execute_input": "2022-03-14T19:12:14.397657Z",
     "iopub.status.busy": "2022-03-14T19:12:14.396688Z",
     "iopub.status.idle": "2022-03-14T19:12:14.694084Z",
     "shell.execute_reply": "2022-03-14T19:12:14.693419Z",
     "shell.execute_reply.started": "2022-03-14T18:06:04.930216Z"
    },
    "papermill": {
     "duration": 0.339259,
     "end_time": "2022-03-14T19:12:14.694227",
     "exception": false,
     "start_time": "2022-03-14T19:12:14.354968",
     "status": "completed"
    },
    "tags": []
   },
   "outputs": [
    {
     "data": {
      "text/plain": [
       "<AxesSubplot:title={'center':'Happiness and Hours Worked Viz'}, xlabel='Happiness levels(Country)', ylabel='Annual avg. hours worked'>"
      ]
     },
     "execution_count": 12,
     "metadata": {},
     "output_type": "execute_result"
    },
    {
     "data": {
      "image/png": "[encoded data removed]",
      "text/plain": [
       "<Figure size 720x360 with 1 Axes>"
      ]
     },
     "metadata": {
      "needs_background": "light"
     },
     "output_type": "display_data"
    }
   ],
   "source": [
    "plt.figure(figsize = (10,5))\n",
    "plt.xlabel('Happiness')\n",
    "plt.ylabel('Annual avg. hours worked')\n",
    "plt.title('Happiness and Hours Worked Viz')\n",
    "sns.regplot(data=hours_hlc_data, x = 'Happiness levels(Country)', y = 'Annual avg. hours worked')"
   ]
  },
  {
   "cell_type": "markdown",
   "id": "64fa5d7a",
   "metadata": {
    "papermill": {
     "duration": 0.039305,
     "end_time": "2022-03-14T19:12:14.775157",
     "exception": false,
     "start_time": "2022-03-14T19:12:14.735852",
     "status": "completed"
    },
    "tags": []
   },
   "source": [
    "Yes there is a negative correlation between annual hours worked and happiness, however the correlation is not as strong as we might have ecpected."
   ]
  },
  {
   "cell_type": "code",
   "execution_count": 13,
   "id": "62adfe9e",
   "metadata": {
    "execution": {
     "iopub.execute_input": "2022-03-14T19:12:14.861570Z",
     "iopub.status.busy": "2022-03-14T19:12:14.860512Z",
     "iopub.status.idle": "2022-03-14T19:12:15.134474Z",
     "shell.execute_reply": "2022-03-14T19:12:15.134978Z",
     "shell.execute_reply.started": "2022-03-14T18:06:13.169691Z"
    },
    "papermill": {
     "duration": 0.320408,
     "end_time": "2022-03-14T19:12:15.135151",
     "exception": false,
     "start_time": "2022-03-14T19:12:14.814743",
     "status": "completed"
    },
    "tags": []
   },
   "outputs": [
    {
     "data": {
      "text/plain": [
       "<AxesSubplot:title={'center':'Happiness and Pollution Viz'}, xlabel='Happiness levels(Country)', ylabel='Pollution(Index score) (City)'>"
      ]
     },
     "execution_count": 13,
     "metadata": {},
     "output_type": "execute_result"
    },
    {
     "data": {
      "image/png": "[encoded data removed]",
      "text/plain": [
       "<Figure size 720x360 with 1 Axes>"
      ]
     },
     "metadata": {
      "needs_background": "light"
     },
     "output_type": "display_data"
    }
   ],
   "source": [
    "plt.figure(figsize = (10,5))\n",
    "plt.xlabel('Happiness')\n",
    "plt.ylabel('Pollution(Index Score)')\n",
    "plt.title('Happiness and Pollution Viz')\n",
    "sns.regplot(data=pol_hlc_data, x = 'Happiness levels(Country)', y = 'Pollution(Index score) (City)')"
   ]
  },
  {
   "cell_type": "markdown",
   "id": "3b774d1b",
   "metadata": {
    "papermill": {
     "duration": 0.041756,
     "end_time": "2022-03-14T19:12:15.219210",
     "exception": false,
     "start_time": "2022-03-14T19:12:15.177454",
     "status": "completed"
    },
    "tags": []
   },
   "source": [
    "Less pollution also has a negative correlation with happiness scores and the correlation is much stronger than that of hours worked. possibly pollution would have an impact on health and that in turn could have an impact on happiness."
   ]
  },
  {
   "cell_type": "code",
   "execution_count": 14,
   "id": "0f4e03a2",
   "metadata": {
    "execution": {
     "iopub.execute_input": "2022-03-14T19:12:15.306241Z",
     "iopub.status.busy": "2022-03-14T19:12:15.305228Z",
     "iopub.status.idle": "2022-03-14T19:12:15.601854Z",
     "shell.execute_reply": "2022-03-14T19:12:15.602324Z",
     "shell.execute_reply.started": "2022-03-14T18:06:24.281817Z"
    },
    "papermill": {
     "duration": 0.341157,
     "end_time": "2022-03-14T19:12:15.602502",
     "exception": false,
     "start_time": "2022-03-14T19:12:15.261345",
     "status": "completed"
    },
    "tags": []
   },
   "outputs": [
    {
     "data": {
      "text/plain": [
       "<AxesSubplot:title={'center':'Life Expactancy and Pollution Viz'}, xlabel='Life expectancy(years) (Country)', ylabel='Pollution(Index score) (City)'>"
      ]
     },
     "execution_count": 14,
     "metadata": {},
     "output_type": "execute_result"
    },
    {
     "data": {
      "image/png": "[encoded data removed]",
      "text/plain": [
       "<Figure size 720x360 with 1 Axes>"
      ]
     },
     "metadata": {
      "needs_background": "light"
     },
     "output_type": "display_data"
    }
   ],
   "source": [
    "plt.figure(figsize = (10,5))\n",
    "plt.xlabel('Life expactancy')\n",
    "plt.ylabel('Pollution(Index Score)')\n",
    "plt.title('Life Expactancy and Pollution Viz')\n",
    "sns.regplot(data=pol_hlc_data, x = 'Life expectancy(years) (Country)', y = 'Pollution(Index score) (City)')"
   ]
  },
  {
   "cell_type": "markdown",
   "id": "b8cce33e",
   "metadata": {
    "papermill": {
     "duration": 0.042754,
     "end_time": "2022-03-14T19:12:15.688869",
     "exception": false,
     "start_time": "2022-03-14T19:12:15.646115",
     "status": "completed"
    },
    "tags": []
   },
   "source": [
    "Our correlation isn't quite as strong as we would expect; However there is a negative correlation between pollution and life expectancy. The lower the pollution, the longer the average life expectancy. I think we would find stronger correlations with life expactancy if it was per city as opposed to country, as some countries can be quite large with some cities being much more or less polluted than others."
   ]
  },
  {
   "cell_type": "markdown",
   "id": "64c287a2",
   "metadata": {
    "papermill": {
     "duration": 0.043015,
     "end_time": "2022-03-14T19:12:15.776042",
     "exception": false,
     "start_time": "2022-03-14T19:12:15.733027",
     "status": "completed"
    },
    "tags": []
   },
   "source": [
    "#### **Surprising results**\n",
    "After looking at the more obvious correlations, let's now look at the more surprising correlations and see if we can figure out why there is correlation where we might otherwise not expect there to be."
   ]
  },
  {
   "cell_type": "code",
   "execution_count": 15,
   "id": "1085f739",
   "metadata": {
    "execution": {
     "iopub.execute_input": "2022-03-14T19:12:15.868239Z",
     "iopub.status.busy": "2022-03-14T19:12:15.867154Z",
     "iopub.status.idle": "2022-03-14T19:12:16.138250Z",
     "shell.execute_reply": "2022-03-14T19:12:16.138731Z",
     "shell.execute_reply.started": "2022-03-14T17:42:32.442801Z"
    },
    "papermill": {
     "duration": 0.319973,
     "end_time": "2022-03-14T19:12:16.138905",
     "exception": false,
     "start_time": "2022-03-14T19:12:15.818932",
     "status": "completed"
    },
    "tags": []
   },
   "outputs": [
    {
     "data": {
      "text/plain": [
       "<AxesSubplot:title={'center':'Happiness and Sunshine Viz'}, xlabel='Happiness levels(Country)', ylabel='Sunshine hours(City)'>"
      ]
     },
     "execution_count": 15,
     "metadata": {},
     "output_type": "execute_result"
    },
    {
     "data": {
      "image/png": "[encoded data removed]",
      "text/plain": [
       "<Figure size 720x360 with 1 Axes>"
      ]
     },
     "metadata": {
      "needs_background": "light"
     },
     "output_type": "display_data"
    }
   ],
   "source": [
    "plt.figure(figsize = (10,5))\n",
    "plt.xlabel('Happiness')\n",
    "plt.ylabel('Sunshine')\n",
    "plt.title('Happiness and Sunshine Viz')\n",
    "sns.regplot(data=sun_hlc_data, x = 'Happiness levels(Country)', y = 'Sunshine hours(City)')"
   ]
  },
  {
   "cell_type": "markdown",
   "id": "b9581bd6",
   "metadata": {
    "papermill": {
     "duration": 0.044729,
     "end_time": "2022-03-14T19:12:16.228413",
     "exception": false,
     "start_time": "2022-03-14T19:12:16.183684",
     "status": "completed"
    },
    "tags": []
   },
   "source": [
    "Surprisingly There is only a small negative correlation between happiness and sunshine hours, which means that sunshine doesnt seem to play as big of a role on happiness as we might expect."
   ]
  },
  {
   "cell_type": "code",
   "execution_count": 16,
   "id": "ddb1724e",
   "metadata": {
    "execution": {
     "iopub.execute_input": "2022-03-14T19:12:16.324182Z",
     "iopub.status.busy": "2022-03-14T19:12:16.323159Z",
     "iopub.status.idle": "2022-03-14T19:12:16.595229Z",
     "shell.execute_reply": "2022-03-14T19:12:16.594611Z",
     "shell.execute_reply.started": "2022-03-14T18:21:16.087734Z"
    },
    "papermill": {
     "duration": 0.322256,
     "end_time": "2022-03-14T19:12:16.595367",
     "exception": false,
     "start_time": "2022-03-14T19:12:16.273111",
     "status": "completed"
    },
    "tags": []
   },
   "outputs": [
    {
     "data": {
      "text/plain": [
       "<AxesSubplot:title={'center':'Happiness and Cost of a bottle of water Viz'}, xlabel='Happiness levels(Country)', ylabel='Cost of a bottle of water(City)'>"
      ]
     },
     "execution_count": 16,
     "metadata": {},
     "output_type": "execute_result"
    },
    {
     "data": {
      "image/png": "[encoded data removed]",
      "text/plain": [
       "<Figure size 720x360 with 1 Axes>"
      ]
     },
     "metadata": {
      "needs_background": "light"
     },
     "output_type": "display_data"
    }
   ],
   "source": [
    "plt.figure(figsize = (10,5))\n",
    "plt.xlabel('Happiness')\n",
    "plt.ylabel('Cost of a bottle of water')\n",
    "plt.title('Happiness and Cost of a bottle of water Viz')\n",
    "sns.regplot(data=sun_hlc_data, x = 'Happiness levels(Country)', y = 'Cost of a bottle of water(City)')"
   ]
  },
  {
   "cell_type": "markdown",
   "id": "b5efde5d",
   "metadata": {
    "papermill": {
     "duration": 0.045864,
     "end_time": "2022-03-14T19:12:16.688043",
     "exception": false,
     "start_time": "2022-03-14T19:12:16.642179",
     "status": "completed"
    },
    "tags": []
   },
   "source": [
    "This is a very surprising positive correlation. The higher the cost of a bottle of water strongly correlates with higher happiness levels. You may expect that a negative correlation would mean lower water costs that would be indicitive of lower living costs which would make a population happier. So why is a higher cost of water positively correlated to happiness? Unless this is a spurious correlation I think this has to do with the wealth of a country/city. Higher costs for items may indicate that the population can afford to pay that much for an essential item which would mean that the population is wealthier and therefore has higher living standards/conditions which would no doubt contribute to happiness.  "
   ]
  },
  {
   "cell_type": "markdown",
   "id": "a0bd3d25",
   "metadata": {
    "papermill": {
     "duration": 0.04636,
     "end_time": "2022-03-14T19:12:16.781198",
     "exception": false,
     "start_time": "2022-03-14T19:12:16.734838",
     "status": "completed"
    },
    "tags": []
   },
   "source": [
    "# **Conclusion**\n",
    "After reviewing the data set healthy-lifestyle-city-2021.csv I have come to some conlusions and criticisms regarding the data set:\n",
    "\n",
    "### Criticisms/Limitations\n",
    "1. The dataset required cleaning and the data was not easily manipulated because of missing data and differing datatypes.\n",
    "\n",
    "2. After cleaning the data I noticed some discrepancies between what was actually measured. The data claims to rank the healthiest cities in the world based on data from cities and also countries, which the latter could skew the results of data analysis. For example the life expactancy was taken from the country as a whole while there could be cities within a country that have much higher or lower life expectancies than the entire country.\n",
    "\n",
    "3. Each city in the data was given a ranking from 1 to 44 declaring the healthiest places in the world; However, the data source claims to weigh their observations to determine this rank in an unknown way, which is why i ommitted Rank from any analysis.\n",
    "\n",
    "4. The data only covers 44 cities, with such a small sample it may be difficult to generalize findings from the analysis to all cities around the world.\n",
    "\n",
    "### Review\n",
    "1. There were some not so surprising findings like the correlation between life expectancy and happiness, but there were some correlations and non-correlations which were quite surprising.\n",
    "\n",
    "2. The lack of correlation between sun light and happiness was interesting because the lack of sun light can cause depression in some individuals and sun is generally associated with happiness.\n",
    "\n",
    "3. The positive correlation between the cost of water and happiness was the most interesting and also the strongest correlation with happiness out of all of the metrics. The reason for this correlation may be due to higher costs of living which is associated with higher income and thus higher living standards/conditions and a wealthier city."
   ]
  }
 ],
 "metadata": {
  "kernelspec": {
   "display_name": "Python 3",
   "language": "python",
   "name": "python3"
  },
  "language_info": {
   "codemirror_mode": {
    "name": "ipython",
    "version": 3
   },
   "file_extension": ".py",
   "mimetype": "text/x-python",
   "name": "python",
   "nbconvert_exporter": "python",
   "pygments_lexer": "ipython3",
   "version": "3.7.12"
  },
  "papermill": {
   "default_parameters": {},
   "duration": 16.473565,
   "end_time": "2022-03-14T19:12:17.538147",
   "environment_variables": {},
   "exception": null,
   "input_path": "__notebook__.ipynb",
   "output_path": "__notebook__.ipynb",
   "parameters": {},
   "start_time": "2022-03-14T19:12:01.064582",
   "version": "2.3.3"
  }
 },
 "nbformat": 4,
 "nbformat_minor": 5
}
