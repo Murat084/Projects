{
 "cells": [
  {
   "cell_type": "markdown",
   "id": "maritime-entrepreneur",
   "metadata": {
    "papermill": {
     "duration": 0.072428,
     "end_time": "2021-06-05T06:15:10.178095",
     "exception": false,
     "start_time": "2021-06-05T06:15:10.105667",
     "status": "completed"
    },
    "tags": []
   },
   "source": [
    "![](https://logos-download.com/wp-content/uploads/2016/03/Netflix_logo.png)"
   ]
  },
  {
   "cell_type": "markdown",
   "id": "published-format",
   "metadata": {
    "papermill": {
     "duration": 0.070756,
     "end_time": "2021-06-05T06:15:10.319929",
     "exception": false,
     "start_time": "2021-06-05T06:15:10.249173",
     "status": "completed"
    },
    "tags": []
   },
   "source": [
    " # 📽‍️ Netflix EDA for beginners 📺"
   ]
  },
  {
   "cell_type": "markdown",
   "id": "stretch-carpet",
   "metadata": {
    "papermill": {
     "duration": 0.070486,
     "end_time": "2021-06-05T06:15:10.461488",
     "exception": false,
     "start_time": "2021-06-05T06:15:10.391002",
     "status": "completed"
    },
    "tags": []
   },
   "source": [
    "> Netflix is a streaming service that offers a wide variety of award-winning TV shows, movies, anime, documentaries, and more on thousands of internet-connected devices. You can watch as much as you want, whenever you want without a single commercial – all for one low monthly price."
   ]
  },
  {
   "cell_type": "markdown",
   "id": "boolean-density",
   "metadata": {
    "papermill": {
     "duration": 0.070474,
     "end_time": "2021-06-05T06:15:10.603074",
     "exception": false,
     "start_time": "2021-06-05T06:15:10.532600",
     "status": "completed"
    },
    "tags": []
   },
   "source": [
    "----------------------------------------"
   ]
  },
  {
   "cell_type": "markdown",
   "id": "specific-playlist",
   "metadata": {
    "papermill": {
     "duration": 0.070883,
     "end_time": "2021-06-05T06:15:10.744311",
     "exception": false,
     "start_time": "2021-06-05T06:15:10.673428",
     "status": "completed"
    },
    "tags": []
   },
   "source": [
    "# **1. Introduction**"
   ]
  },
  {
   "cell_type": "markdown",
   "id": "informational-efficiency",
   "metadata": {
    "papermill": {
     "duration": 0.070222,
     "end_time": "2021-06-05T06:15:10.884955",
     "exception": false,
     "start_time": "2021-06-05T06:15:10.814733",
     "status": "completed"
    },
    "tags": []
   },
   "source": [
    "**Libraries** 📚⬇"
   ]
  },
  {
   "cell_type": "code",
   "execution_count": 1,
   "id": "wound-active",
   "metadata": {
    "execution": {
     "iopub.execute_input": "2021-06-05T06:15:11.034213Z",
     "iopub.status.busy": "2021-06-05T06:15:11.033228Z",
     "iopub.status.idle": "2021-06-05T06:15:13.692738Z",
     "shell.execute_reply": "2021-06-05T06:15:13.691255Z",
     "shell.execute_reply.started": "2021-06-05T05:33:09.160575Z"
    },
    "papermill": {
     "duration": 2.734122,
     "end_time": "2021-06-05T06:15:13.692911",
     "exception": false,
     "start_time": "2021-06-05T06:15:10.958789",
     "status": "completed"
    },
    "tags": []
   },
   "outputs": [],
   "source": [
    "import pandas as pd\n",
    "import numpy as np\n",
    "import matplotlib.pyplot as plt\n",
    "import seaborn as sns\n",
    "import plotly.express as px\n",
    "import plotly.graph_objects as go\n",
    "import spacy\n",
    "from wordcloud import WordCloud"
   ]
  },
  {
   "cell_type": "markdown",
   "id": "canadian-sixth",
   "metadata": {
    "papermill": {
     "duration": 0.071075,
     "end_time": "2021-06-05T06:15:13.835435",
     "exception": false,
     "start_time": "2021-06-05T06:15:13.764360",
     "status": "completed"
    },
    "tags": []
   },
   "source": [
    "# Read the .csv files 📁 and create a copy of the dataframe 📃 "
   ]
  },
  {
   "cell_type": "markdown",
   "id": "celtic-designer",
   "metadata": {
    "papermill": {
     "duration": 0.071355,
     "end_time": "2021-06-05T06:15:13.977859",
     "exception": false,
     "start_time": "2021-06-05T06:15:13.906504",
     "status": "completed"
    },
    "tags": []
   },
   "source": [
    "> 📌 Note:\n",
    "> - The [**file.csv**](https://it.wikipedia.org/wiki/Comma-separated_values) contains all the information we need to analyze a bit of everything we know about Netflix and the products within it. It contains 29 unique columns and 15480 rows\n",
    "> - I create a **copy of the [dataframe](https://pandas.pydata.org/pandas-docs/stable/reference/api/pandas.DataFrame.html)** so that I can use and modify it without touching the original file which could always serve as a backup  "
   ]
  },
  {
   "cell_type": "code",
   "execution_count": 2,
   "id": "adult-retirement",
   "metadata": {
    "execution": {
     "iopub.execute_input": "2021-06-05T06:15:14.123507Z",
     "iopub.status.busy": "2021-06-05T06:15:14.122920Z",
     "iopub.status.idle": "2021-06-05T06:15:14.717618Z",
     "shell.execute_reply": "2021-06-05T06:15:14.718076Z",
     "shell.execute_reply.started": "2021-06-05T05:33:12.128891Z"
    },
    "papermill": {
     "duration": 0.669912,
     "end_time": "2021-06-05T06:15:14.718253",
     "exception": false,
     "start_time": "2021-06-05T06:15:14.048341",
     "status": "completed"
    },
    "tags": []
   },
   "outputs": [
    {
     "data": {
      "text/html": [
       "<div>\n",
       "<style scoped>\n",
       "    .dataframe tbody tr th:only-of-type {\n",
       "        vertical-align: middle;\n",
       "    }\n",
       "\n",
       "    .dataframe tbody tr th {\n",
       "        vertical-align: top;\n",
       "    }\n",
       "\n",
       "    .dataframe thead th {\n",
       "        text-align: right;\n",
       "    }\n",
       "</style>\n",
       "<table border=\"1\" class=\"dataframe\">\n",
       "  <thead>\n",
       "    <tr style=\"text-align: right;\">\n",
       "      <th></th>\n",
       "      <th>Title</th>\n",
       "      <th>Genre</th>\n",
       "      <th>Tags</th>\n",
       "      <th>Languages</th>\n",
       "      <th>Series or Movie</th>\n",
       "      <th>Hidden Gem Score</th>\n",
       "      <th>Country Availability</th>\n",
       "      <th>Runtime</th>\n",
       "      <th>Director</th>\n",
       "      <th>Writer</th>\n",
       "      <th>...</th>\n",
       "      <th>Netflix Release Date</th>\n",
       "      <th>Production House</th>\n",
       "      <th>Netflix Link</th>\n",
       "      <th>IMDb Link</th>\n",
       "      <th>Summary</th>\n",
       "      <th>IMDb Votes</th>\n",
       "      <th>Image</th>\n",
       "      <th>Poster</th>\n",
       "      <th>TMDb Trailer</th>\n",
       "      <th>Trailer Site</th>\n",
       "    </tr>\n",
       "  </thead>\n",
       "  <tbody>\n",
       "    <tr>\n",
       "      <th>0</th>\n",
       "      <td>Lets Fight Ghost</td>\n",
       "      <td>Crime, Drama, Fantasy, Horror, Romance</td>\n",
       "      <td>Comedy Programmes,Romantic TV Comedies,Horror ...</td>\n",
       "      <td>Swedish, Spanish</td>\n",
       "      <td>Series</td>\n",
       "      <td>4.3</td>\n",
       "      <td>Thailand</td>\n",
       "      <td>&lt; 30 minutes</td>\n",
       "      <td>Tomas Alfredson</td>\n",
       "      <td>John Ajvide Lindqvist</td>\n",
       "      <td>...</td>\n",
       "      <td>2021-03-04</td>\n",
       "      <td>Canal+, Sandrew Metronome</td>\n",
       "      <td>https://www.netflix.com/watch/81415947</td>\n",
       "      <td>https://www.imdb.com/title/tt1139797</td>\n",
       "      <td>A med student with a supernatural gift tries t...</td>\n",
       "      <td>205926.0</td>\n",
       "      <td>https://occ-0-4708-64.1.nflxso.net/dnm/api/v6/...</td>\n",
       "      <td>https://m.media-amazon.com/images/M/MV5BOWM4NT...</td>\n",
       "      <td>NaN</td>\n",
       "      <td>NaN</td>\n",
       "    </tr>\n",
       "    <tr>\n",
       "      <th>1</th>\n",
       "      <td>HOW TO BUILD A GIRL</td>\n",
       "      <td>Comedy</td>\n",
       "      <td>Dramas,Comedies,Films Based on Books,British</td>\n",
       "      <td>English</td>\n",
       "      <td>Movie</td>\n",
       "      <td>7.0</td>\n",
       "      <td>Canada</td>\n",
       "      <td>1-2 hour</td>\n",
       "      <td>Coky Giedroyc</td>\n",
       "      <td>Caitlin Moran</td>\n",
       "      <td>...</td>\n",
       "      <td>2021-03-04</td>\n",
       "      <td>Film 4, Monumental Pictures, Lionsgate</td>\n",
       "      <td>https://www.netflix.com/watch/81041267</td>\n",
       "      <td>https://www.imdb.com/title/tt4193072</td>\n",
       "      <td>When nerdy Johanna moves to London, things get...</td>\n",
       "      <td>2838.0</td>\n",
       "      <td>https://occ-0-1081-999.1.nflxso.net/dnm/api/v6...</td>\n",
       "      <td>https://m.media-amazon.com/images/M/MV5BZGUyN2...</td>\n",
       "      <td>https://www.youtube.com/watch?v=eIbcxPy4okQ</td>\n",
       "      <td>YouTube</td>\n",
       "    </tr>\n",
       "    <tr>\n",
       "      <th>2</th>\n",
       "      <td>Centigrade</td>\n",
       "      <td>Drama, Thriller</td>\n",
       "      <td>Thrillers</td>\n",
       "      <td>English</td>\n",
       "      <td>Movie</td>\n",
       "      <td>6.4</td>\n",
       "      <td>Canada</td>\n",
       "      <td>1-2 hour</td>\n",
       "      <td>Brendan Walsh</td>\n",
       "      <td>Brendan Walsh, Daley Nixon</td>\n",
       "      <td>...</td>\n",
       "      <td>2021-03-04</td>\n",
       "      <td>NaN</td>\n",
       "      <td>https://www.netflix.com/watch/81305978</td>\n",
       "      <td>https://www.imdb.com/title/tt8945942</td>\n",
       "      <td>Trapped in a frozen car during a blizzard, a p...</td>\n",
       "      <td>1720.0</td>\n",
       "      <td>https://occ-0-1081-999.1.nflxso.net/dnm/api/v6...</td>\n",
       "      <td>https://m.media-amazon.com/images/M/MV5BODM2MD...</td>\n",
       "      <td>https://www.youtube.com/watch?v=0RvV7TNUlkQ</td>\n",
       "      <td>YouTube</td>\n",
       "    </tr>\n",
       "    <tr>\n",
       "      <th>3</th>\n",
       "      <td>ANNE+</td>\n",
       "      <td>Drama</td>\n",
       "      <td>TV Dramas,Romantic TV Dramas,Dutch TV Shows</td>\n",
       "      <td>Turkish</td>\n",
       "      <td>Series</td>\n",
       "      <td>7.7</td>\n",
       "      <td>Belgium,Netherlands</td>\n",
       "      <td>&lt; 30 minutes</td>\n",
       "      <td>NaN</td>\n",
       "      <td>NaN</td>\n",
       "      <td>...</td>\n",
       "      <td>2021-03-04</td>\n",
       "      <td>NaN</td>\n",
       "      <td>https://www.netflix.com/watch/81336456</td>\n",
       "      <td>https://www.imdb.com/title/tt6132758</td>\n",
       "      <td>Upon moving into a new place, a 20-something r...</td>\n",
       "      <td>1147.0</td>\n",
       "      <td>https://occ-0-1489-1490.1.nflxso.net/dnm/api/v...</td>\n",
       "      <td>https://m.media-amazon.com/images/M/MV5BNWRkMz...</td>\n",
       "      <td>NaN</td>\n",
       "      <td>NaN</td>\n",
       "    </tr>\n",
       "    <tr>\n",
       "      <th>4</th>\n",
       "      <td>Moxie</td>\n",
       "      <td>Animation, Short, Drama</td>\n",
       "      <td>Social Issue Dramas,Teen Movies,Dramas,Comedie...</td>\n",
       "      <td>English</td>\n",
       "      <td>Movie</td>\n",
       "      <td>8.1</td>\n",
       "      <td>Lithuania,Poland,France,Iceland,Italy,Spain,Gr...</td>\n",
       "      <td>1-2 hour</td>\n",
       "      <td>Stephen Irwin</td>\n",
       "      <td>NaN</td>\n",
       "      <td>...</td>\n",
       "      <td>2021-03-04</td>\n",
       "      <td>NaN</td>\n",
       "      <td>https://www.netflix.com/watch/81078393</td>\n",
       "      <td>https://www.imdb.com/title/tt2023611</td>\n",
       "      <td>Inspired by her moms rebellious past and a con...</td>\n",
       "      <td>63.0</td>\n",
       "      <td>https://occ-0-4039-1500.1.nflxso.net/dnm/api/v...</td>\n",
       "      <td>https://m.media-amazon.com/images/M/MV5BODYyNW...</td>\n",
       "      <td>NaN</td>\n",
       "      <td>NaN</td>\n",
       "    </tr>\n",
       "  </tbody>\n",
       "</table>\n",
       "<p>5 rows × 29 columns</p>\n",
       "</div>"
      ],
      "text/plain": [
       "                 Title                                   Genre  \\\n",
       "0     Lets Fight Ghost  Crime, Drama, Fantasy, Horror, Romance   \n",
       "1  HOW TO BUILD A GIRL                                  Comedy   \n",
       "2           Centigrade                         Drama, Thriller   \n",
       "3                ANNE+                                   Drama   \n",
       "4                Moxie                 Animation, Short, Drama   \n",
       "\n",
       "                                                Tags         Languages  \\\n",
       "0  Comedy Programmes,Romantic TV Comedies,Horror ...  Swedish, Spanish   \n",
       "1       Dramas,Comedies,Films Based on Books,British           English   \n",
       "2                                          Thrillers           English   \n",
       "3        TV Dramas,Romantic TV Dramas,Dutch TV Shows           Turkish   \n",
       "4  Social Issue Dramas,Teen Movies,Dramas,Comedie...           English   \n",
       "\n",
       "  Series or Movie  Hidden Gem Score  \\\n",
       "0          Series               4.3   \n",
       "1           Movie               7.0   \n",
       "2           Movie               6.4   \n",
       "3          Series               7.7   \n",
       "4           Movie               8.1   \n",
       "\n",
       "                                Country Availability       Runtime  \\\n",
       "0                                           Thailand  < 30 minutes   \n",
       "1                                             Canada      1-2 hour   \n",
       "2                                             Canada      1-2 hour   \n",
       "3                                Belgium,Netherlands  < 30 minutes   \n",
       "4  Lithuania,Poland,France,Iceland,Italy,Spain,Gr...      1-2 hour   \n",
       "\n",
       "          Director                      Writer  ... Netflix Release Date  \\\n",
       "0  Tomas Alfredson       John Ajvide Lindqvist  ...           2021-03-04   \n",
       "1    Coky Giedroyc               Caitlin Moran  ...           2021-03-04   \n",
       "2    Brendan Walsh  Brendan Walsh, Daley Nixon  ...           2021-03-04   \n",
       "3              NaN                         NaN  ...           2021-03-04   \n",
       "4    Stephen Irwin                         NaN  ...           2021-03-04   \n",
       "\n",
       "                         Production House  \\\n",
       "0               Canal+, Sandrew Metronome   \n",
       "1  Film 4, Monumental Pictures, Lionsgate   \n",
       "2                                     NaN   \n",
       "3                                     NaN   \n",
       "4                                     NaN   \n",
       "\n",
       "                             Netflix Link  \\\n",
       "0  https://www.netflix.com/watch/81415947   \n",
       "1  https://www.netflix.com/watch/81041267   \n",
       "2  https://www.netflix.com/watch/81305978   \n",
       "3  https://www.netflix.com/watch/81336456   \n",
       "4  https://www.netflix.com/watch/81078393   \n",
       "\n",
       "                              IMDb Link  \\\n",
       "0  https://www.imdb.com/title/tt1139797   \n",
       "1  https://www.imdb.com/title/tt4193072   \n",
       "2  https://www.imdb.com/title/tt8945942   \n",
       "3  https://www.imdb.com/title/tt6132758   \n",
       "4  https://www.imdb.com/title/tt2023611   \n",
       "\n",
       "                                             Summary  IMDb Votes  \\\n",
       "0  A med student with a supernatural gift tries t...    205926.0   \n",
       "1  When nerdy Johanna moves to London, things get...      2838.0   \n",
       "2  Trapped in a frozen car during a blizzard, a p...      1720.0   \n",
       "3  Upon moving into a new place, a 20-something r...      1147.0   \n",
       "4  Inspired by her moms rebellious past and a con...        63.0   \n",
       "\n",
       "                                               Image  \\\n",
       "0  https://occ-0-4708-64.1.nflxso.net/dnm/api/v6/...   \n",
       "1  https://occ-0-1081-999.1.nflxso.net/dnm/api/v6...   \n",
       "2  https://occ-0-1081-999.1.nflxso.net/dnm/api/v6...   \n",
       "3  https://occ-0-1489-1490.1.nflxso.net/dnm/api/v...   \n",
       "4  https://occ-0-4039-1500.1.nflxso.net/dnm/api/v...   \n",
       "\n",
       "                                              Poster  \\\n",
       "0  https://m.media-amazon.com/images/M/MV5BOWM4NT...   \n",
       "1  https://m.media-amazon.com/images/M/MV5BZGUyN2...   \n",
       "2  https://m.media-amazon.com/images/M/MV5BODM2MD...   \n",
       "3  https://m.media-amazon.com/images/M/MV5BNWRkMz...   \n",
       "4  https://m.media-amazon.com/images/M/MV5BODYyNW...   \n",
       "\n",
       "                                  TMDb Trailer Trailer Site  \n",
       "0                                          NaN          NaN  \n",
       "1  https://www.youtube.com/watch?v=eIbcxPy4okQ      YouTube  \n",
       "2  https://www.youtube.com/watch?v=0RvV7TNUlkQ      YouTube  \n",
       "3                                          NaN          NaN  \n",
       "4                                          NaN          NaN  \n",
       "\n",
       "[5 rows x 29 columns]"
      ]
     },
     "execution_count": 2,
     "metadata": {},
     "output_type": "execute_result"
    }
   ],
   "source": [
    "data = pd.read_csv('../input/netflix-rotten-tomatoes-metacritic-imdb/netflix-rotten-tomatoes-metacritic-imdb.csv')\n",
    "df = data.copy()\n",
    "df.head()"
   ]
  },
  {
   "cell_type": "markdown",
   "id": "simplified-toner",
   "metadata": {
    "papermill": {
     "duration": 0.074239,
     "end_time": "2021-06-05T06:15:14.865543",
     "exception": false,
     "start_time": "2021-06-05T06:15:14.791304",
     "status": "completed"
    },
    "tags": []
   },
   "source": [
    "> 📝 Let's take a look at our dataframe so we can open a few things:\n",
    "> - let's start by observing what [**types of data**](https://realpython.com/python-data-types/) we have inside it with the **.info ()** function;"
   ]
  },
  {
   "cell_type": "code",
   "execution_count": 3,
   "id": "durable-season",
   "metadata": {
    "execution": {
     "iopub.execute_input": "2021-06-05T06:15:15.031988Z",
     "iopub.status.busy": "2021-06-05T06:15:15.030982Z",
     "iopub.status.idle": "2021-06-05T06:15:15.049301Z",
     "shell.execute_reply": "2021-06-05T06:15:15.049800Z",
     "shell.execute_reply.started": "2021-06-05T05:33:12.767306Z"
    },
    "papermill": {
     "duration": 0.111873,
     "end_time": "2021-06-05T06:15:15.049990",
     "exception": false,
     "start_time": "2021-06-05T06:15:14.938117",
     "status": "completed"
    },
    "tags": []
   },
   "outputs": [
    {
     "name": "stdout",
     "output_type": "stream",
     "text": [
      "<class 'pandas.core.frame.DataFrame'>\n",
      "RangeIndex: 15480 entries, 0 to 15479\n",
      "Data columns (total 29 columns):\n",
      " #   Column                 Non-Null Count  Dtype  \n",
      "---  ------                 --------------  -----  \n",
      " 0   Title                  15480 non-null  object \n",
      " 1   Genre                  13770 non-null  object \n",
      " 2   Tags                   15413 non-null  object \n",
      " 3   Languages              13545 non-null  object \n",
      " 4   Series or Movie        15480 non-null  object \n",
      " 5   Hidden Gem Score       13379 non-null  float64\n",
      " 6   Country Availability   15461 non-null  object \n",
      " 7   Runtime                15479 non-null  object \n",
      " 8   Director               10772 non-null  object \n",
      " 9   Writer                 11150 non-null  object \n",
      " 10  Actors                 13555 non-null  object \n",
      " 11  View Rating            8456 non-null   object \n",
      " 12  IMDb Score             13381 non-null  float64\n",
      " 13  Rotten Tomatoes Score  6382 non-null   float64\n",
      " 14  Metacritic Score       4336 non-null   float64\n",
      " 15  Awards Received        6075 non-null   float64\n",
      " 16  Awards Nominated For   7661 non-null   float64\n",
      " 17  Boxoffice              4007 non-null   object \n",
      " 18  Release Date           13373 non-null  object \n",
      " 19  Netflix Release Date   15480 non-null  object \n",
      " 20  Production House       5149 non-null   object \n",
      " 21  Netflix Link           15480 non-null  object \n",
      " 22  IMDb Link              13177 non-null  object \n",
      " 23  Summary                15471 non-null  object \n",
      " 24  IMDb Votes             13379 non-null  float64\n",
      " 25  Image                  15480 non-null  object \n",
      " 26  Poster                 11842 non-null  object \n",
      " 27  TMDb Trailer           7194 non-null   object \n",
      " 28  Trailer Site           7194 non-null   object \n",
      "dtypes: float64(7), object(22)\n",
      "memory usage: 3.4+ MB\n"
     ]
    }
   ],
   "source": [
    "df.info()"
   ]
  },
  {
   "cell_type": "markdown",
   "id": "answering-shield",
   "metadata": {
    "papermill": {
     "duration": 0.074552,
     "end_time": "2021-06-05T06:15:15.196946",
     "exception": false,
     "start_time": "2021-06-05T06:15:15.122394",
     "status": "completed"
    },
    "tags": []
   },
   "source": [
    "> - Let's continue our analysis by checking if and how many [**missing values**](https://en.wikipedia.org/wiki/Missing_data) there are; "
   ]
  },
  {
   "cell_type": "code",
   "execution_count": 4,
   "id": "thick-class",
   "metadata": {
    "execution": {
     "iopub.execute_input": "2021-06-05T06:15:15.348044Z",
     "iopub.status.busy": "2021-06-05T06:15:15.347401Z",
     "iopub.status.idle": "2021-06-05T06:15:15.368293Z",
     "shell.execute_reply": "2021-06-05T06:15:15.368729Z",
     "shell.execute_reply.started": "2021-06-05T05:33:12.819500Z"
    },
    "papermill": {
     "duration": 0.097371,
     "end_time": "2021-06-05T06:15:15.368902",
     "exception": false,
     "start_time": "2021-06-05T06:15:15.271531",
     "status": "completed"
    },
    "tags": []
   },
   "outputs": [
    {
     "data": {
      "text/plain": [
       "Title                        0\n",
       "Genre                     1710\n",
       "Tags                        67\n",
       "Languages                 1935\n",
       "Series or Movie              0\n",
       "Hidden Gem Score          2101\n",
       "Country Availability        19\n",
       "Runtime                      1\n",
       "Director                  4708\n",
       "Writer                    4330\n",
       "Actors                    1925\n",
       "View Rating               7024\n",
       "IMDb Score                2099\n",
       "Rotten Tomatoes Score     9098\n",
       "Metacritic Score         11144\n",
       "Awards Received           9405\n",
       "Awards Nominated For      7819\n",
       "Boxoffice                11473\n",
       "Release Date              2107\n",
       "Netflix Release Date         0\n",
       "Production House         10331\n",
       "Netflix Link                 0\n",
       "IMDb Link                 2303\n",
       "Summary                      9\n",
       "IMDb Votes                2101\n",
       "Image                        0\n",
       "Poster                    3638\n",
       "TMDb Trailer              8286\n",
       "Trailer Site              8286\n",
       "dtype: int64"
      ]
     },
     "execution_count": 4,
     "metadata": {},
     "output_type": "execute_result"
    }
   ],
   "source": [
    "df.isnull().sum()"
   ]
  },
  {
   "cell_type": "markdown",
   "id": "short-niagara",
   "metadata": {
    "papermill": {
     "duration": 0.073738,
     "end_time": "2021-06-05T06:15:15.516370",
     "exception": false,
     "start_time": "2021-06-05T06:15:15.442632",
     "status": "completed"
    },
    "tags": []
   },
   "source": [
    "> - As we can see there are many missing values in the various features so I decide to keep the most important columns in my opinion, even if they have different missing values that we will then remove, and to **drop** other **columns** that I consider superfluous for the analysis also for the large number of missing values they have;"
   ]
  },
  {
   "cell_type": "code",
   "execution_count": 5,
   "id": "israeli-adolescent",
   "metadata": {
    "execution": {
     "iopub.execute_input": "2021-06-05T06:15:15.665393Z",
     "iopub.status.busy": "2021-06-05T06:15:15.664863Z",
     "iopub.status.idle": "2021-06-05T06:15:15.674717Z",
     "shell.execute_reply": "2021-06-05T06:15:15.674131Z",
     "shell.execute_reply.started": "2021-06-05T05:33:12.858717Z"
    },
    "papermill": {
     "duration": 0.085656,
     "end_time": "2021-06-05T06:15:15.674846",
     "exception": false,
     "start_time": "2021-06-05T06:15:15.589190",
     "status": "completed"
    },
    "tags": []
   },
   "outputs": [],
   "source": [
    "df = df.drop(columns = [ 'Metacritic Score', 'Boxoffice', 'Production House', 'Netflix Link', 'IMDb Link',\n",
    "        'Poster', 'TMDb Trailer', 'Trailer Site'], axis = 1)"
   ]
  },
  {
   "cell_type": "markdown",
   "id": "dominican-above",
   "metadata": {
    "papermill": {
     "duration": 0.073613,
     "end_time": "2021-06-05T06:15:15.821441",
     "exception": false,
     "start_time": "2021-06-05T06:15:15.747828",
     "status": "completed"
    },
    "tags": []
   },
   "source": [
    "> - Now since we have 2 features (**'Release Date'** and **'Netflix Release Date'**) indicating a date as object datatype, I 'transform' them into **datetime features** so that we can use them as real dates;"
   ]
  },
  {
   "cell_type": "code",
   "execution_count": 6,
   "id": "present-fiber",
   "metadata": {
    "execution": {
     "iopub.execute_input": "2021-06-05T06:15:15.971926Z",
     "iopub.status.busy": "2021-06-05T06:15:15.971344Z",
     "iopub.status.idle": "2021-06-05T06:15:16.972259Z",
     "shell.execute_reply": "2021-06-05T06:15:16.971767Z",
     "shell.execute_reply.started": "2021-06-05T05:33:12.868969Z"
    },
    "papermill": {
     "duration": 1.078106,
     "end_time": "2021-06-05T06:15:16.972387",
     "exception": false,
     "start_time": "2021-06-05T06:15:15.894281",
     "status": "completed"
    },
    "tags": []
   },
   "outputs": [],
   "source": [
    "df['Release Date']= pd.to_datetime(df['Release Date'])\n",
    "df['Netflix Release Date']= pd.to_datetime(df['Netflix Release Date'])"
   ]
  },
  {
   "cell_type": "markdown",
   "id": "controlled-premiere",
   "metadata": {
    "papermill": {
     "duration": 0.071936,
     "end_time": "2021-06-05T06:15:17.116907",
     "exception": false,
     "start_time": "2021-06-05T06:15:17.044971",
     "status": "completed"
    },
    "tags": []
   },
   "source": [
    "> - After this transformation of datatype for these 2 features, I create **2 new features** (one for the released year and one for the released year on Netflix) happy only for the year so as to be able to subsequently emerge an analysis on the productivity of the TV Series and Movie based on the various years;"
   ]
  },
  {
   "cell_type": "code",
   "execution_count": 7,
   "id": "spectacular-morgan",
   "metadata": {
    "execution": {
     "iopub.execute_input": "2021-06-05T06:15:17.267976Z",
     "iopub.status.busy": "2021-06-05T06:15:17.267124Z",
     "iopub.status.idle": "2021-06-05T06:15:17.275012Z",
     "shell.execute_reply": "2021-06-05T06:15:17.274542Z",
     "shell.execute_reply.started": "2021-06-05T05:33:14.216895Z"
    },
    "papermill": {
     "duration": 0.085637,
     "end_time": "2021-06-05T06:15:17.275170",
     "exception": false,
     "start_time": "2021-06-05T06:15:17.189533",
     "status": "completed"
    },
    "tags": []
   },
   "outputs": [],
   "source": [
    "df['Released_Year'] = pd.DatetimeIndex(df['Release Date']).year\n",
    "df['Released_Year_Net'] = pd.DatetimeIndex(df['Netflix Release Date']).year"
   ]
  },
  {
   "cell_type": "markdown",
   "id": "satisfactory-liberia",
   "metadata": {
    "papermill": {
     "duration": 0.073444,
     "end_time": "2021-06-05T06:15:17.420773",
     "exception": false,
     "start_time": "2021-06-05T06:15:17.347329",
     "status": "completed"
    },
    "tags": []
   },
   "source": [
    "> - Finally, let's take a **look at our dataframe** after the various changes we've made to it."
   ]
  },
  {
   "cell_type": "code",
   "execution_count": 8,
   "id": "gorgeous-minimum",
   "metadata": {
    "execution": {
     "iopub.execute_input": "2021-06-05T06:15:17.593858Z",
     "iopub.status.busy": "2021-06-05T06:15:17.576336Z",
     "iopub.status.idle": "2021-06-05T06:15:17.597535Z",
     "shell.execute_reply": "2021-06-05T06:15:17.597090Z",
     "shell.execute_reply.started": "2021-06-05T05:33:14.229589Z"
    },
    "papermill": {
     "duration": 0.103566,
     "end_time": "2021-06-05T06:15:17.597674",
     "exception": false,
     "start_time": "2021-06-05T06:15:17.494108",
     "status": "completed"
    },
    "tags": []
   },
   "outputs": [
    {
     "data": {
      "text/html": [
       "<div>\n",
       "<style scoped>\n",
       "    .dataframe tbody tr th:only-of-type {\n",
       "        vertical-align: middle;\n",
       "    }\n",
       "\n",
       "    .dataframe tbody tr th {\n",
       "        vertical-align: top;\n",
       "    }\n",
       "\n",
       "    .dataframe thead th {\n",
       "        text-align: right;\n",
       "    }\n",
       "</style>\n",
       "<table border=\"1\" class=\"dataframe\">\n",
       "  <thead>\n",
       "    <tr style=\"text-align: right;\">\n",
       "      <th></th>\n",
       "      <th>Title</th>\n",
       "      <th>Genre</th>\n",
       "      <th>Tags</th>\n",
       "      <th>Languages</th>\n",
       "      <th>Series or Movie</th>\n",
       "      <th>Hidden Gem Score</th>\n",
       "      <th>Country Availability</th>\n",
       "      <th>Runtime</th>\n",
       "      <th>Director</th>\n",
       "      <th>Writer</th>\n",
       "      <th>...</th>\n",
       "      <th>Rotten Tomatoes Score</th>\n",
       "      <th>Awards Received</th>\n",
       "      <th>Awards Nominated For</th>\n",
       "      <th>Release Date</th>\n",
       "      <th>Netflix Release Date</th>\n",
       "      <th>Summary</th>\n",
       "      <th>IMDb Votes</th>\n",
       "      <th>Image</th>\n",
       "      <th>Released_Year</th>\n",
       "      <th>Released_Year_Net</th>\n",
       "    </tr>\n",
       "  </thead>\n",
       "  <tbody>\n",
       "    <tr>\n",
       "      <th>0</th>\n",
       "      <td>Lets Fight Ghost</td>\n",
       "      <td>Crime, Drama, Fantasy, Horror, Romance</td>\n",
       "      <td>Comedy Programmes,Romantic TV Comedies,Horror ...</td>\n",
       "      <td>Swedish, Spanish</td>\n",
       "      <td>Series</td>\n",
       "      <td>4.3</td>\n",
       "      <td>Thailand</td>\n",
       "      <td>&lt; 30 minutes</td>\n",
       "      <td>Tomas Alfredson</td>\n",
       "      <td>John Ajvide Lindqvist</td>\n",
       "      <td>...</td>\n",
       "      <td>98.0</td>\n",
       "      <td>74.0</td>\n",
       "      <td>57.0</td>\n",
       "      <td>2008-12-12</td>\n",
       "      <td>2021-03-04</td>\n",
       "      <td>A med student with a supernatural gift tries t...</td>\n",
       "      <td>205926.0</td>\n",
       "      <td>https://occ-0-4708-64.1.nflxso.net/dnm/api/v6/...</td>\n",
       "      <td>2008.0</td>\n",
       "      <td>2021</td>\n",
       "    </tr>\n",
       "  </tbody>\n",
       "</table>\n",
       "<p>1 rows × 23 columns</p>\n",
       "</div>"
      ],
      "text/plain": [
       "              Title                                   Genre  \\\n",
       "0  Lets Fight Ghost  Crime, Drama, Fantasy, Horror, Romance   \n",
       "\n",
       "                                                Tags         Languages  \\\n",
       "0  Comedy Programmes,Romantic TV Comedies,Horror ...  Swedish, Spanish   \n",
       "\n",
       "  Series or Movie  Hidden Gem Score Country Availability       Runtime  \\\n",
       "0          Series               4.3             Thailand  < 30 minutes   \n",
       "\n",
       "          Director                 Writer  ... Rotten Tomatoes Score  \\\n",
       "0  Tomas Alfredson  John Ajvide Lindqvist  ...                  98.0   \n",
       "\n",
       "  Awards Received  Awards Nominated For  Release Date  Netflix Release Date  \\\n",
       "0            74.0                  57.0    2008-12-12            2021-03-04   \n",
       "\n",
       "                                             Summary IMDb Votes  \\\n",
       "0  A med student with a supernatural gift tries t...   205926.0   \n",
       "\n",
       "                                               Image Released_Year  \\\n",
       "0  https://occ-0-4708-64.1.nflxso.net/dnm/api/v6/...        2008.0   \n",
       "\n",
       "   Released_Year_Net  \n",
       "0               2021  \n",
       "\n",
       "[1 rows x 23 columns]"
      ]
     },
     "execution_count": 8,
     "metadata": {},
     "output_type": "execute_result"
    }
   ],
   "source": [
    "df.head(1)"
   ]
  },
  {
   "cell_type": "markdown",
   "id": "incomplete-appeal",
   "metadata": {
    "papermill": {
     "duration": 0.071814,
     "end_time": "2021-06-05T06:15:17.742085",
     "exception": false,
     "start_time": "2021-06-05T06:15:17.670271",
     "status": "completed"
    },
    "tags": []
   },
   "source": [
    "A **little description** of the features:\n",
    "> * **Title**: Tells us the name of the movie / series\n",
    "> * **Genre**: Describes the genre of the movie / series\n",
    "> * **Tag**: is a list of tags on the movie / series\n",
    "> * **Language**: Indicates in which language the film / series is available\n",
    "> * **Series or Movie**: Indicates whether this product is a TV series or a movie\n",
    "> * **Hidden Gem Score**: This is a score that suggests if this movie / series is a hidden gem (i.e. something that is not mainstream but is a great product and may deserve more attention)\n",
    "> * **Country Availability**: Please indicate in which country this film / series is available\n",
    "> * **Runtime**: Indicates the duration of the movie or an episode of the series\n",
    "> * **Director**: Tells us how is the director of this product\n",
    "> * **Writer**: Tells us how is the writer of this product,\n",
    "> * **Actors**: Tells us how are the main actors of this product,\n",
    "> * **View Rating**: Indicates the rating of the product,\n",
    "> * **IMDb Score**: This is the score given to the product by IMDb,\n",
    "> * **Rotten Tomatoes Score**: This is the score given to the product by Rotten Tomatoes,\n",
    "> * **Awards Received**: It tells us how much awards this film/serie has received ,\n",
    "> * **Awards Nominated For**: It tells us for which awards this film/movie has been nominated,\n",
    "> * **Release Date**: It indicates when this product has been released,\n",
    "> * **Netflix Release Date**: It indicates when this product has been released on Netflix,\n",
    "> * **Summary**: It tells us a little summary of the plot of the product,\n",
    "> * **IMDb Votes**: It indicates the scores given by IMDb,\n",
    "> * **Image**: An Image\n",
    "> * **Released_Year**: It indicates the year the product was released\n",
    "> * **Released_Year_Net**: It indicates the year the product was released on Netflix"
   ]
  },
  {
   "cell_type": "markdown",
   "id": "natural-rhythm",
   "metadata": {
    "papermill": {
     "duration": 0.071972,
     "end_time": "2021-06-05T06:15:17.886576",
     "exception": false,
     "start_time": "2021-06-05T06:15:17.814604",
     "status": "completed"
    },
    "tags": []
   },
   "source": [
    "------------------------"
   ]
  },
  {
   "cell_type": "markdown",
   "id": "sufficient-bidder",
   "metadata": {
    "papermill": {
     "duration": 0.073551,
     "end_time": "2021-06-05T06:15:18.033238",
     "exception": false,
     "start_time": "2021-06-05T06:15:17.959687",
     "status": "completed"
    },
    "tags": []
   },
   "source": [
    "# **2. Easy Data Analysis 🔬🧐**"
   ]
  },
  {
   "cell_type": "markdown",
   "id": "weekly-halloween",
   "metadata": {
    "papermill": {
     "duration": 0.075372,
     "end_time": "2021-06-05T06:15:18.181795",
     "exception": false,
     "start_time": "2021-06-05T06:15:18.106423",
     "status": "completed"
    },
    "tags": []
   },
   "source": [
    "# 2.1 Movie 📽‍️ vs Tv Series 📺"
   ]
  },
  {
   "cell_type": "markdown",
   "id": "boxed-bowling",
   "metadata": {
    "papermill": {
     "duration": 0.073597,
     "end_time": "2021-06-05T06:15:18.330629",
     "exception": false,
     "start_time": "2021-06-05T06:15:18.257032",
     "status": "completed"
    },
    "tags": []
   },
   "source": [
    "> 📌 Note:\n",
    "> The **2 large macro categories** of products that we can find in the Netflix catalog are Movies and TV Series.\n",
    "> - A **[movie](https://simple.wikipedia.org/wiki/Movie#:~:text=A%20movie%2C%20or%20film%2C%20is%20a%20type%20of,of%20entertainment%20or%20a%20way%20to%20have%20fun.)**, or film, is a type of visual communication which uses moving pictures and sound to tell stories or teach people something. Most people watch (view) movies as a type of entertainment or a way to have fun;\n",
    "> - A television show is also called a television program (British English: programme), especially if it lacks a narrative structure. A **[television series](https://en.wikipedia.org/wiki/Television_show)** is usually released in episodes that follow a narrative, and are usually divided into seasons (US and Canada) or series (UK) – yearly or semiannual sets of new episodes.\n",
    "\n",
    "So, knowing the presence of these 2 macro categories, now **let's figure out which of the 2 is more present** in the Netflix product catalog."
   ]
  },
  {
   "cell_type": "code",
   "execution_count": 9,
   "id": "described-purse",
   "metadata": {
    "execution": {
     "iopub.execute_input": "2021-06-05T06:15:18.488311Z",
     "iopub.status.busy": "2021-06-05T06:15:18.487694Z",
     "iopub.status.idle": "2021-06-05T06:15:18.694635Z",
     "shell.execute_reply": "2021-06-05T06:15:18.693988Z",
     "shell.execute_reply.started": "2021-06-05T05:37:50.551613Z"
    },
    "papermill": {
     "duration": 0.289725,
     "end_time": "2021-06-05T06:15:18.694771",
     "exception": false,
     "start_time": "2021-06-05T06:15:18.405046",
     "status": "completed"
    },
    "tags": []
   },
   "outputs": [
    {
     "data": {
      "text/html": [
       "        <script type=\"text/javascript\">\n",
       "        window.PlotlyConfig = {MathJaxConfig: 'local'};\n",
       "        if (window.MathJax) {MathJax.Hub.Config({SVG: {font: \"STIX-Web\"}});}\n",
       "        if (typeof require !== 'undefined') {\n",
       "        require.undef(\"plotly\");\n",
       "        requirejs.config({\n",
       "            paths: {\n",
       "                'plotly': ['https://cdn.plot.ly/plotly-latest.min']\n",
       "            }\n",
       "        });\n",
       "        require(['plotly'], function(Plotly) {\n",
       "            window._Plotly = Plotly;\n",
       "        });\n",
       "        }\n",
       "        </script>\n",
       "        "
      ]
     },
     "metadata": {},
     "output_type": "display_data"
    },
    {
     "data": {
      "text/html": [
       "<div>                            <div id=\"621c82a8-b998-40e5-b1d1-0b27c7f39a78\" class=\"plotly-graph-div\" style=\"height:525px; width:100%;\"></div>            <script type=\"text/javascript\">                require([\"plotly\"], function(Plotly) {                    window.PLOTLYENV=window.PLOTLYENV || {};                                    if (document.getElementById(\"621c82a8-b998-40e5-b1d1-0b27c7f39a78\")) {                    Plotly.newPlot(                        \"621c82a8-b998-40e5-b1d1-0b27c7f39a78\",                        [{\"marker\": {\"color\": [\"crimson\", \"black\"]}, \"text\": [11697.0, 3783.0], \"textposition\": \"outside\", \"texttemplate\": \"%{text:.2s}\", \"type\": \"bar\", \"x\": [\"Series\", \"Movie\", \"Movie\", \"Series\", \"Movie\", \"Movie\", \"Series\", \"Series\", \"Movie\", \"Movie\", \"Movie\", \"Movie\", \"Movie\", \"Movie\", \"Movie\", \"Movie\", \"Movie\", \"Movie\", \"Movie\", \"Movie\", \"Movie\", \"Movie\", \"Movie\", \"Series\", \"Movie\", \"Series\", \"Series\", \"Movie\", \"Movie\", \"Movie\", \"Movie\", \"Movie\", \"Movie\", \"Movie\", \"Movie\", \"Movie\", \"Movie\", \"Movie\", \"Movie\", \"Movie\", \"Movie\", \"Movie\", \"Movie\", \"Movie\", \"Movie\", \"Series\", \"Series\", \"Movie\", \"Movie\", \"Movie\", \"Movie\", \"Movie\", \"Movie\", \"Series\", \"Series\", \"Movie\", \"Movie\", \"Movie\", \"Movie\", \"Movie\", \"Movie\", \"Movie\", \"Movie\", \"Movie\", \"Movie\", \"Movie\", \"Movie\", \"Movie\", \"Movie\", \"Movie\", \"Movie\", \"Movie\", \"Movie\", \"Movie\", \"Movie\", \"Movie\", \"Movie\", \"Movie\", \"Movie\", \"Movie\", \"Movie\", \"Movie\", \"Movie\", \"Movie\", \"Movie\", \"Movie\", \"Movie\", \"Movie\", \"Movie\", \"Movie\", \"Movie\", \"Movie\", \"Movie\", \"Movie\", \"Series\", \"Movie\", \"Movie\", \"Movie\", \"Movie\", \"Movie\", \"Movie\", \"Movie\", \"Movie\", \"Movie\", \"Movie\", \"Series\", \"Series\", \"Movie\", \"Movie\", \"Movie\", \"Movie\", \"Movie\", \"Series\", \"Movie\", \"Series\", \"Movie\", \"Movie\", \"Movie\", \"Movie\", \"Movie\", \"Movie\", \"Movie\", \"Movie\", \"Movie\", \"Movie\", \"Series\", \"Movie\", \"Series\", \"Movie\", \"Movie\", \"Movie\", \"Movie\", \"Movie\", \"Movie\", \"Movie\", \"Movie\", \"Movie\", \"Series\", \"Movie\", \"Movie\", \"Movie\", \"Movie\", \"Movie\", \"Movie\", \"Movie\", \"Movie\", \"Series\", \"Movie\", \"Movie\", \"Movie\", \"Movie\", \"Movie\", \"Movie\", \"Movie\", \"Movie\", \"Movie\", \"Movie\", \"Movie\", \"Series\", \"Series\", \"Series\", \"Movie\", \"Movie\", \"Movie\", \"Series\", \"Movie\", \"Movie\", \"Series\", \"Movie\", \"Movie\", \"Movie\", \"Movie\", \"Movie\", \"Movie\", \"Movie\", \"Movie\", \"Movie\", \"Movie\", \"Movie\", \"Series\", \"Movie\", \"Movie\", \"Movie\", \"Movie\", \"Movie\", \"Movie\", \"Movie\", \"Movie\", \"Movie\", \"Series\", \"Movie\", \"Movie\", \"Movie\", \"Movie\", \"Series\", \"Movie\", \"Movie\", \"Movie\", \"Movie\", \"Movie\", \"Movie\", \"Movie\", \"Movie\", \"Movie\", \"Movie\", \"Movie\", \"Movie\", \"Movie\", \"Movie\", \"Movie\", \"Movie\", \"Movie\", \"Movie\", \"Movie\", \"Movie\", \"Movie\", \"Movie\", \"Movie\", \"Movie\", \"Movie\", \"Series\", \"Movie\", \"Movie\", \"Series\", \"Series\", \"Series\", \"Series\", \"Series\", \"Series\", \"Movie\", \"Movie\", \"Movie\", \"Movie\", \"Movie\", \"Movie\", \"Movie\", \"Movie\", \"Movie\", \"Movie\", \"Series\", \"Movie\", \"Movie\", \"Movie\", \"Movie\", \"Movie\", \"Movie\", \"Movie\", \"Series\", \"Movie\", \"Series\", \"Movie\", \"Movie\", \"Movie\", \"Series\", \"Series\", \"Movie\", \"Movie\", \"Movie\", \"Movie\", \"Movie\", \"Movie\", \"Movie\", \"Movie\", \"Movie\", \"Movie\", \"Movie\", \"Movie\", \"Series\", \"Movie\", \"Movie\", \"Series\", \"Movie\", \"Movie\", \"Movie\", \"Movie\", \"Movie\", \"Movie\", \"Movie\", \"Movie\", \"Series\", \"Movie\", \"Movie\", \"Movie\", \"Movie\", \"Movie\", \"Movie\", \"Movie\", \"Movie\", \"Movie\", \"Movie\", \"Movie\", \"Movie\", \"Movie\", \"Movie\", \"Movie\", \"Movie\", \"Movie\", \"Series\", \"Series\", \"Movie\", \"Movie\", \"Series\", \"Movie\", \"Movie\", \"Movie\", \"Series\", \"Series\", \"Movie\", \"Movie\", \"Series\", \"Series\", \"Movie\", \"Movie\", \"Movie\", \"Movie\", \"Movie\", \"Series\", \"Series\", \"Movie\", \"Series\", \"Series\", \"Movie\", \"Movie\", \"Movie\", \"Movie\", \"Series\", \"Series\", \"Movie\", \"Movie\", \"Movie\", \"Movie\", \"Movie\", \"Movie\", \"Series\", \"Movie\", \"Movie\", \"Series\", \"Series\", \"Series\", \"Movie\", \"Series\", \"Movie\", \"Movie\", \"Series\", \"Movie\", \"Movie\", \"Movie\", \"Movie\", \"Movie\", \"Movie\", \"Movie\", \"Movie\", \"Series\", \"Series\", \"Movie\", \"Movie\", \"Movie\", \"Series\", \"Movie\", \"Movie\", \"Movie\", \"Movie\", \"Series\", \"Series\", \"Movie\", \"Movie\", \"Movie\", \"Series\", \"Movie\", \"Movie\", \"Movie\", \"Movie\", \"Movie\", \"Movie\", \"Movie\", \"Movie\", \"Movie\", \"Movie\", \"Series\", \"Movie\", \"Series\", \"Movie\", \"Movie\", \"Movie\", \"Movie\", \"Movie\", \"Series\", \"Series\", \"Series\", \"Movie\", \"Movie\", \"Movie\", \"Movie\", \"Movie\", \"Movie\", \"Movie\", \"Series\", \"Movie\", \"Movie\", \"Movie\", \"Movie\", \"Movie\", \"Series\", \"Series\", \"Series\", \"Series\", \"Series\", \"Series\", \"Movie\", \"Movie\", \"Movie\", \"Movie\", \"Movie\", \"Movie\", \"Movie\", \"Movie\", \"Movie\", \"Movie\", \"Movie\", \"Movie\", \"Movie\", \"Movie\", \"Movie\", \"Movie\", \"Movie\", \"Movie\", \"Movie\", \"Movie\", \"Movie\", \"Movie\", \"Series\", \"Movie\", \"Movie\", \"Movie\", \"Movie\", \"Series\", \"Movie\", \"Movie\", \"Movie\", \"Movie\", \"Movie\", \"Movie\", \"Movie\", \"Movie\", \"Movie\", \"Movie\", \"Movie\", \"Movie\", \"Movie\", \"Movie\", \"Movie\", \"Series\", \"Series\", \"Series\", \"Series\", \"Movie\", \"Movie\", \"Movie\", \"Series\", \"Movie\", \"Movie\", \"Movie\", \"Movie\", \"Movie\", \"Movie\", \"Movie\", \"Movie\", \"Movie\", \"Movie\", \"Series\", \"Movie\", \"Movie\", \"Movie\", \"Movie\", \"Movie\", \"Movie\", \"Movie\", \"Movie\", \"Movie\", \"Movie\", \"Movie\", \"Movie\", \"Movie\", \"Movie\", \"Movie\", \"Movie\", \"Movie\", \"Movie\", \"Movie\", \"Series\", \"Series\", \"Series\", \"Series\", \"Series\", \"Movie\", \"Movie\", \"Movie\", \"Movie\", \"Movie\", \"Movie\", \"Movie\", \"Movie\", \"Movie\", \"Movie\", \"Series\", \"Series\", \"Movie\", \"Movie\", \"Movie\", \"Movie\", \"Movie\", \"Movie\", \"Movie\", \"Movie\", \"Series\", \"Movie\", \"Movie\", \"Movie\", \"Movie\", \"Movie\", \"Movie\", \"Movie\", \"Movie\", \"Series\", \"Movie\", \"Series\", \"Movie\", \"Movie\", \"Series\", \"Movie\", \"Movie\", \"Series\", \"Series\", \"Movie\", \"Movie\", \"Movie\", \"Series\", \"Movie\", \"Series\", \"Series\", \"Series\", \"Movie\", \"Movie\", \"Movie\", \"Movie\", \"Movie\", \"Movie\", \"Movie\", \"Movie\", \"Movie\", \"Movie\", \"Movie\", \"Movie\", \"Movie\", \"Series\", \"Movie\", \"Series\", \"Series\", \"Series\", \"Movie\", \"Movie\", \"Movie\", \"Movie\", \"Series\", \"Series\", \"Series\", \"Movie\", \"Movie\", \"Series\", \"Movie\", \"Series\", \"Series\", \"Movie\", \"Movie\", \"Movie\", \"Series\", \"Movie\", \"Movie\", \"Movie\", \"Movie\", \"Series\", \"Movie\", \"Series\", \"Movie\", \"Series\", \"Movie\", \"Movie\", \"Movie\", \"Movie\", \"Movie\", \"Movie\", \"Series\", \"Series\", \"Movie\", \"Movie\", \"Movie\", \"Movie\", \"Movie\", \"Series\", \"Series\", \"Series\", \"Movie\", \"Series\", \"Movie\", \"Movie\", \"Movie\", \"Movie\", \"Movie\", \"Movie\", \"Series\", \"Series\", \"Movie\", \"Series\", \"Movie\", \"Movie\", \"Movie\", \"Movie\", \"Movie\", \"Movie\", \"Series\", \"Movie\", \"Movie\", \"Movie\", \"Movie\", \"Movie\", \"Movie\", \"Series\", \"Movie\", \"Movie\", \"Series\", \"Series\", \"Series\", \"Movie\", \"Movie\", \"Movie\", \"Movie\", \"Movie\", \"Movie\", \"Movie\", \"Movie\", \"Movie\", \"Movie\", \"Movie\", \"Movie\", \"Movie\", \"Movie\", \"Movie\", \"Movie\", \"Movie\", \"Movie\", \"Movie\", \"Movie\", \"Movie\", \"Movie\", \"Movie\", \"Movie\", \"Movie\", \"Movie\", \"Movie\", \"Movie\", \"Movie\", \"Movie\", \"Movie\", \"Movie\", \"Movie\", \"Movie\", \"Movie\", \"Movie\", \"Movie\", \"Movie\", \"Movie\", \"Movie\", \"Movie\", \"Movie\", \"Movie\", \"Movie\", \"Movie\", \"Movie\", \"Movie\", \"Series\", \"Series\", \"Series\", \"Series\", \"Movie\", \"Series\", \"Series\", \"Series\", \"Series\", \"Series\", \"Series\", \"Series\", \"Series\", \"Series\", \"Series\", \"Series\", \"Movie\", \"Movie\", \"Movie\", \"Movie\", \"Movie\", \"Movie\", \"Movie\", \"Series\", \"Movie\", \"Series\", \"Movie\", \"Movie\", \"Movie\", \"Movie\", \"Movie\", \"Movie\", \"Movie\", \"Movie\", \"Movie\", \"Movie\", \"Movie\", \"Movie\", \"Movie\", \"Movie\", \"Movie\", \"Movie\", \"Movie\", \"Movie\", \"Movie\", \"Movie\", \"Movie\", \"Movie\", \"Movie\", \"Movie\", \"Movie\", \"Movie\", \"Movie\", \"Movie\", \"Movie\", \"Movie\", \"Series\", \"Movie\", \"Movie\", \"Series\", \"Series\", \"Movie\", \"Series\", \"Movie\", \"Movie\", \"Series\", \"Movie\", \"Movie\", \"Movie\", \"Movie\", \"Movie\", \"Movie\", \"Movie\", \"Series\", \"Movie\", \"Series\", \"Movie\", \"Movie\", \"Movie\", \"Movie\", \"Series\", \"Movie\", \"Movie\", \"Movie\", \"Movie\", \"Series\", \"Series\", \"Series\", \"Series\", \"Series\", \"Series\", \"Movie\", \"Movie\", \"Movie\", \"Series\", \"Series\", \"Series\", \"Series\", \"Series\", \"Series\", \"Movie\", \"Movie\", \"Movie\", \"Movie\", \"Movie\", \"Series\", \"Movie\", \"Movie\", \"Movie\", \"Series\", \"Series\", \"Movie\", \"Movie\", \"Movie\", \"Movie\", \"Movie\", \"Movie\", \"Movie\", \"Movie\", \"Movie\", \"Movie\", \"Movie\", \"Movie\", \"Movie\", \"Movie\", \"Movie\", \"Movie\", \"Movie\", \"Series\", \"Movie\", \"Movie\", \"Movie\", \"Series\", \"Movie\", \"Movie\", \"Series\", \"Series\", \"Series\", \"Series\", \"Movie\", \"Movie\", \"Movie\", \"Movie\", \"Movie\", \"Movie\", \"Movie\", \"Movie\", \"Series\", \"Series\", \"Series\", \"Movie\", \"Movie\", \"Movie\", \"Movie\", \"Movie\", \"Movie\", \"Movie\", \"Movie\", \"Movie\", \"Movie\", \"Movie\", \"Movie\", \"Movie\", \"Movie\", \"Movie\", \"Movie\", \"Movie\", \"Movie\", \"Movie\", \"Movie\", \"Movie\", \"Movie\", \"Movie\", \"Movie\", \"Movie\", \"Movie\", \"Movie\", \"Movie\", \"Movie\", \"Movie\", \"Movie\", \"Movie\", \"Movie\", \"Series\", \"Movie\", \"Movie\", \"Movie\", \"Series\", \"Movie\", \"Movie\", \"Movie\", \"Movie\", \"Movie\", \"Movie\", \"Movie\", \"Movie\", \"Series\", \"Movie\", \"Movie\", \"Movie\", \"Movie\", \"Movie\", \"Movie\", \"Movie\", \"Movie\", \"Movie\", \"Series\", \"Movie\", \"Movie\", \"Movie\", \"Series\", \"Series\", \"Series\", \"Series\", \"Movie\", \"Series\", \"Movie\", \"Series\", \"Movie\", \"Movie\", \"Series\", \"Movie\", \"Movie\", \"Movie\", \"Movie\", \"Movie\", \"Movie\", \"Movie\", \"Movie\", \"Movie\", \"Movie\", \"Movie\", \"Movie\", \"Movie\", \"Movie\", \"Movie\", \"Movie\", \"Movie\", \"Movie\", \"Movie\", \"Movie\", \"Movie\", \"Movie\", \"Movie\", \"Movie\", \"Movie\", \"Movie\", \"Movie\", \"Movie\", \"Movie\", \"Movie\", \"Movie\", \"Movie\", \"Movie\", \"Movie\", \"Movie\", \"Movie\", \"Series\", \"Movie\", \"Movie\", \"Movie\", \"Movie\", \"Movie\", \"Movie\", \"Movie\", \"Movie\", \"Movie\", \"Series\", \"Movie\", \"Movie\", \"Movie\", \"Movie\", \"Movie\", \"Movie\", \"Movie\", \"Movie\", \"Movie\", \"Movie\", \"Movie\", \"Series\", \"Series\", \"Movie\", \"Movie\", \"Movie\", \"Movie\", \"Movie\", \"Movie\", \"Movie\", \"Movie\", \"Movie\", \"Movie\", \"Movie\", \"Movie\", \"Movie\", \"Movie\", \"Movie\", \"Movie\", \"Movie\", \"Movie\", \"Movie\", \"Movie\", \"Movie\", \"Movie\", \"Movie\", \"Movie\", \"Movie\", \"Movie\", \"Movie\", \"Movie\", \"Movie\", \"Series\", \"Series\", \"Series\", \"Series\", \"Series\", \"Series\", \"Series\", \"Series\", \"Series\", \"Series\", \"Series\", \"Series\", \"Series\", \"Series\", \"Series\", \"Series\", \"Movie\", \"Movie\", \"Movie\", \"Movie\", \"Movie\", \"Movie\", \"Movie\", \"Movie\", \"Movie\", \"Movie\", \"Movie\", \"Movie\", \"Movie\", \"Movie\", \"Movie\", \"Movie\", \"Movie\", \"Movie\", \"Movie\", \"Movie\", \"Movie\", \"Movie\", \"Movie\", \"Movie\", \"Movie\", \"Movie\", \"Movie\", \"Movie\", \"Movie\", \"Movie\", \"Movie\", \"Movie\", \"Movie\", \"Movie\", \"Movie\", \"Movie\", \"Movie\", \"Movie\", \"Movie\", \"Movie\", \"Movie\", \"Movie\", \"Movie\", \"Movie\", \"Movie\", \"Movie\", \"Movie\", \"Movie\", \"Movie\", \"Movie\", \"Movie\", \"Series\", \"Movie\", \"Movie\", \"Movie\", \"Series\", \"Series\", \"Series\", \"Movie\", \"Movie\", \"Movie\", \"Movie\", \"Movie\", \"Movie\", \"Movie\", \"Series\", \"Series\", \"Movie\", \"Movie\", \"Movie\", \"Movie\", \"Movie\", \"Movie\", \"Movie\", \"Movie\", \"Movie\", \"Series\", \"Series\", \"Movie\", \"Movie\", \"Series\", \"Movie\", \"Movie\", \"Movie\", \"Movie\", \"Movie\", \"Series\", \"Movie\", \"Movie\", \"Movie\", \"Series\", \"Movie\", \"Movie\", \"Movie\", \"Series\", \"Series\", \"Movie\", \"Movie\", \"Series\", \"Series\", \"Series\", \"Movie\", \"Movie\", \"Movie\", \"Movie\", \"Movie\", \"Series\", \"Movie\", \"Series\", \"Movie\", \"Movie\", \"Movie\", \"Movie\", \"Movie\", \"Movie\", \"Movie\", \"Series\", \"Movie\", \"Series\", \"Series\", \"Series\", \"Series\", \"Series\", \"Movie\", \"Movie\", \"Movie\", \"Movie\", \"Movie\", \"Movie\", \"Movie\", \"Series\", \"Series\", \"Series\", \"Movie\", \"Movie\", \"Movie\", \"Series\", \"Movie\", \"Movie\", \"Series\", \"Movie\", \"Series\", \"Series\", \"Movie\", \"Movie\", \"Movie\", \"Movie\", \"Movie\", \"Movie\", \"Movie\", \"Movie\", \"Movie\", \"Movie\", \"Movie\", \"Movie\", \"Movie\", \"Series\", \"Movie\", \"Movie\", \"Movie\", \"Movie\", \"Movie\", \"Movie\", \"Movie\", \"Movie\", \"Movie\", \"Movie\", \"Movie\", \"Movie\", \"Movie\", \"Series\", \"Series\", \"Series\", \"Series\", \"Series\", \"Series\", \"Series\", \"Series\", \"Series\", \"Series\", \"Movie\", \"Movie\", \"Movie\", \"Movie\", \"Movie\", \"Movie\", \"Movie\", \"Movie\", \"Movie\", \"Movie\", \"Movie\", \"Movie\", \"Movie\", \"Movie\", \"Movie\", \"Series\", \"Series\", \"Series\", \"Series\", \"Series\", \"Movie\", \"Movie\", \"Movie\", \"Movie\", \"Movie\", \"Movie\", \"Movie\", \"Movie\", \"Movie\", \"Movie\", \"Movie\", \"Movie\", \"Movie\", \"Series\", \"Movie\", \"Movie\", \"Movie\", \"Movie\", \"Movie\", \"Movie\", \"Movie\", \"Movie\", \"Movie\", \"Movie\", \"Movie\", \"Movie\", \"Movie\", \"Movie\", \"Movie\", \"Movie\", \"Series\", \"Movie\", \"Movie\", \"Movie\", \"Movie\", \"Movie\", \"Series\", \"Series\", \"Series\", \"Series\", \"Movie\", \"Series\", \"Series\", \"Movie\", \"Movie\", \"Movie\", \"Movie\", \"Movie\", \"Series\", \"Movie\", \"Movie\", \"Movie\", \"Movie\", \"Movie\", \"Movie\", \"Movie\", \"Movie\", \"Movie\", \"Movie\", \"Movie\", \"Movie\", \"Movie\", \"Movie\", \"Movie\", \"Movie\", \"Movie\", \"Movie\", \"Movie\", \"Movie\", \"Movie\", \"Movie\", \"Movie\", \"Movie\", \"Series\", \"Movie\", \"Series\", \"Series\", \"Series\", \"Series\", \"Movie\", \"Movie\", \"Series\", \"Series\", \"Movie\", \"Movie\", \"Movie\", \"Series\", \"Movie\", \"Series\", \"Movie\", \"Movie\", \"Movie\", \"Movie\", \"Movie\", \"Series\", \"Movie\", \"Movie\", \"Movie\", \"Movie\", \"Movie\", \"Movie\", \"Movie\", \"Movie\", \"Series\", \"Series\", \"Movie\", \"Movie\", \"Movie\", \"Series\", \"Series\", \"Series\", \"Series\", \"Series\", \"Movie\", \"Movie\", \"Movie\", \"Movie\", \"Movie\", \"Series\", \"Movie\", \"Movie\", \"Movie\", \"Movie\", \"Series\", \"Series\", \"Movie\", \"Movie\", \"Movie\", \"Movie\", \"Series\", \"Series\", \"Movie\", \"Series\", \"Movie\", \"Movie\", \"Series\", \"Series\", \"Movie\", \"Movie\", \"Movie\", \"Movie\", \"Movie\", \"Movie\", \"Movie\", \"Movie\", \"Movie\", \"Series\", \"Series\", \"Movie\", \"Movie\", \"Movie\", \"Movie\", \"Series\", \"Series\", \"Movie\", \"Movie\", \"Movie\", \"Series\", \"Movie\", \"Movie\", \"Movie\", \"Series\", \"Series\", \"Movie\", \"Movie\", \"Movie\", \"Movie\", \"Movie\", \"Movie\", \"Movie\", \"Movie\", \"Movie\", \"Series\", \"Movie\", \"Series\", \"Series\", \"Series\", \"Movie\", \"Movie\", \"Movie\", \"Series\", \"Movie\", \"Movie\", \"Movie\", \"Series\", \"Series\", \"Movie\", \"Movie\", \"Movie\", \"Movie\", \"Movie\", \"Movie\", \"Movie\", \"Movie\", \"Movie\", \"Movie\", \"Movie\", \"Movie\", \"Movie\", \"Movie\", \"Movie\", \"Movie\", \"Movie\", \"Series\", \"Movie\", \"Series\", \"Movie\", \"Series\", \"Series\", \"Series\", \"Series\", \"Series\", \"Series\", \"Series\", \"Movie\", \"Movie\", \"Movie\", \"Movie\", \"Movie\", \"Movie\", \"Movie\", \"Movie\", \"Movie\", \"Movie\", \"Movie\", \"Movie\", \"Movie\", \"Movie\", \"Movie\", \"Series\", \"Series\", \"Movie\", \"Movie\", \"Movie\", \"Series\", \"Series\", \"Series\", \"Series\", \"Movie\", \"Movie\", \"Movie\", \"Movie\", \"Movie\", \"Movie\", \"Movie\", \"Movie\", \"Movie\", \"Movie\", \"Movie\", \"Movie\", \"Movie\", \"Series\", \"Series\", \"Movie\", \"Movie\", \"Movie\", \"Series\", \"Series\", \"Movie\", \"Movie\", \"Movie\", \"Movie\", \"Movie\", \"Movie\", \"Movie\", \"Movie\", \"Movie\", \"Movie\", \"Movie\", \"Movie\", \"Movie\", \"Movie\", \"Movie\", \"Movie\", \"Movie\", \"Series\", \"Movie\", \"Movie\", \"Movie\", \"Series\", \"Movie\", \"Movie\", \"Movie\", \"Movie\", \"Movie\", \"Movie\", \"Movie\", \"Movie\", \"Movie\", \"Movie\", \"Movie\", \"Movie\", \"Movie\", \"Movie\", \"Series\", \"Series\", \"Movie\", \"Movie\", \"Movie\", \"Movie\", \"Series\", \"Movie\", \"Movie\", \"Movie\", \"Movie\", \"Movie\", \"Movie\", \"Series\", \"Series\", \"Series\", \"Movie\", \"Series\", \"Series\", \"Series\", \"Movie\", \"Movie\", \"Movie\", \"Movie\", \"Movie\", \"Movie\", \"Movie\", \"Movie\", \"Movie\", \"Series\", \"Series\", \"Series\", \"Movie\", \"Movie\", \"Movie\", \"Series\", \"Series\", \"Movie\", \"Movie\", \"Movie\", \"Movie\", \"Movie\", \"Movie\", \"Movie\", \"Movie\", \"Movie\", \"Movie\", \"Movie\", \"Movie\", \"Movie\", \"Movie\", \"Movie\", \"Movie\", \"Movie\", \"Movie\", \"Movie\", \"Movie\", \"Movie\", \"Movie\", \"Movie\", \"Movie\", \"Movie\", \"Movie\", \"Series\", \"Series\", \"Series\", \"Movie\", \"Series\", \"Series\", \"Movie\", \"Movie\", \"Movie\", \"Series\", \"Series\", \"Movie\", \"Series\", \"Series\", \"Series\", \"Movie\", \"Movie\", \"Movie\", \"Movie\", \"Movie\", \"Movie\", \"Movie\", \"Movie\", \"Movie\", \"Movie\", \"Movie\", \"Movie\", \"Movie\", \"Series\", \"Movie\", \"Series\", \"Movie\", \"Movie\", \"Movie\", \"Movie\", \"Movie\", \"Movie\", \"Movie\", \"Series\", \"Movie\", \"Movie\", \"Movie\", \"Movie\", \"Movie\", \"Movie\", \"Movie\", \"Series\", \"Series\", \"Movie\", \"Movie\", \"Movie\", \"Movie\", \"Movie\", \"Movie\", \"Movie\", \"Movie\", \"Movie\", \"Movie\", \"Movie\", \"Movie\", \"Movie\", \"Movie\", \"Movie\", \"Series\", \"Series\", \"Movie\", \"Movie\", \"Movie\", \"Series\", \"Series\", \"Movie\", \"Movie\", \"Movie\", \"Movie\", \"Movie\", \"Series\", \"Series\", \"Movie\", \"Series\", \"Movie\", \"Movie\", \"Movie\", \"Series\", \"Movie\", \"Series\", \"Movie\", \"Series\", \"Movie\", \"Series\", \"Movie\", \"Movie\", \"Movie\", \"Movie\", \"Movie\", \"Movie\", \"Movie\", \"Series\", \"Series\", \"Movie\", \"Movie\", \"Movie\", \"Movie\", \"Movie\", \"Series\", \"Movie\", \"Movie\", \"Movie\", \"Movie\", \"Movie\", \"Movie\", \"Series\", \"Movie\", \"Movie\", \"Movie\", \"Movie\", \"Movie\", \"Movie\", \"Movie\", \"Movie\", \"Movie\", \"Movie\", \"Movie\", \"Movie\", \"Movie\", \"Movie\", \"Movie\", \"Series\", \"Series\", \"Movie\", \"Series\", \"Series\", \"Movie\", \"Movie\", \"Movie\", \"Movie\", \"Movie\", \"Series\", \"Series\", \"Series\", \"Series\", \"Movie\", \"Movie\", \"Movie\", \"Series\", \"Series\", \"Movie\", \"Movie\", \"Series\", \"Series\", \"Series\", \"Series\", \"Series\", \"Movie\", \"Series\", \"Movie\", \"Movie\", \"Movie\", \"Movie\", \"Movie\", \"Movie\", \"Series\", \"Series\", \"Movie\", \"Series\", \"Series\", \"Movie\", \"Movie\", \"Movie\", \"Movie\", \"Movie\", \"Movie\", \"Movie\", \"Movie\", \"Movie\", \"Movie\", \"Movie\", \"Movie\", \"Movie\", \"Movie\", \"Movie\", \"Movie\", \"Movie\", \"Movie\", \"Series\", \"Movie\", \"Movie\", \"Movie\", \"Movie\", \"Series\", \"Movie\", \"Movie\", \"Movie\", \"Movie\", \"Movie\", \"Movie\", \"Movie\", \"Series\", \"Series\", \"Series\", \"Movie\", \"Series\", \"Movie\", \"Movie\", \"Series\", \"Movie\", \"Movie\", \"Movie\", \"Movie\", \"Movie\", \"Movie\", \"Movie\", \"Movie\", \"Movie\", \"Movie\", \"Movie\", \"Movie\", \"Movie\", \"Movie\", \"Movie\", \"Series\", \"Movie\", \"Movie\", \"Movie\", \"Movie\", \"Movie\", \"Movie\", \"Movie\", \"Movie\", \"Movie\", \"Movie\", \"Movie\", \"Movie\", \"Movie\", \"Movie\", \"Movie\", \"Movie\", \"Movie\", \"Movie\", \"Movie\", \"Movie\", \"Movie\", \"Movie\", \"Movie\", \"Movie\", \"Movie\", \"Movie\", \"Movie\", \"Movie\", \"Movie\", \"Movie\", \"Series\", \"Series\", \"Movie\", \"Movie\", \"Movie\", \"Movie\", \"Movie\", \"Movie\", \"Movie\", \"Movie\", \"Movie\", \"Movie\", \"Movie\", \"Series\", \"Movie\", \"Movie\", \"Series\", \"Movie\", \"Movie\", \"Movie\", \"Movie\", \"Movie\", \"Series\", \"Series\", \"Series\", \"Movie\", \"Series\", \"Movie\", \"Movie\", \"Movie\", \"Movie\", \"Movie\", \"Movie\", \"Movie\", \"Movie\", \"Movie\", \"Movie\", \"Movie\", \"Movie\", \"Movie\", \"Movie\", \"Movie\", \"Movie\", \"Movie\", \"Movie\", \"Movie\", \"Movie\", \"Series\", \"Series\", \"Movie\", \"Movie\", \"Movie\", \"Movie\", \"Movie\", \"Movie\", \"Movie\", \"Movie\", \"Series\", \"Movie\", \"Movie\", \"Movie\", \"Movie\", \"Movie\", \"Movie\", \"Movie\", \"Movie\", \"Movie\", \"Movie\", \"Series\", \"Movie\", \"Series\", \"Movie\", \"Movie\", \"Movie\", \"Series\", \"Series\", \"Series\", \"Series\", \"Movie\", \"Movie\", \"Movie\", \"Series\", \"Movie\", \"Movie\", \"Movie\", \"Movie\", \"Movie\", \"Movie\", \"Series\", \"Series\", \"Movie\", \"Movie\", \"Movie\", \"Movie\", \"Movie\", \"Movie\", \"Movie\", \"Movie\", \"Movie\", \"Series\", \"Movie\", \"Movie\", \"Movie\", \"Series\", \"Series\", \"Movie\", \"Series\", \"Series\", \"Movie\", \"Series\", \"Movie\", \"Series\", \"Series\", \"Movie\", \"Movie\", \"Movie\", \"Movie\", \"Series\", \"Movie\", \"Movie\", \"Movie\", \"Movie\", \"Series\", \"Movie\", \"Movie\", \"Movie\", \"Movie\", \"Movie\", \"Movie\", \"Movie\", \"Movie\", \"Movie\", \"Series\", \"Series\", \"Series\", \"Series\", \"Series\", \"Movie\", \"Movie\", \"Movie\", \"Movie\", \"Movie\", \"Movie\", \"Movie\", \"Movie\", \"Movie\", \"Movie\", \"Movie\", \"Movie\", \"Movie\", \"Movie\", \"Movie\", \"Movie\", \"Movie\", \"Movie\", \"Movie\", \"Movie\", \"Movie\", \"Movie\", \"Movie\", \"Movie\", \"Movie\", \"Movie\", \"Series\", \"Series\", \"Movie\", \"Movie\", \"Series\", \"Movie\", \"Series\", \"Movie\", \"Movie\", \"Movie\", \"Movie\", \"Movie\", \"Movie\", \"Movie\", \"Series\", \"Movie\", \"Movie\", \"Movie\", \"Series\", \"Movie\", \"Series\", \"Movie\", \"Movie\", \"Movie\", \"Movie\", \"Movie\", \"Movie\", \"Movie\", \"Movie\", \"Movie\", \"Movie\", \"Movie\", \"Movie\", \"Movie\", \"Movie\", \"Movie\", \"Movie\", \"Movie\", \"Series\", \"Movie\", \"Movie\", \"Series\", \"Movie\", \"Movie\", \"Movie\", \"Movie\", \"Movie\", \"Movie\", \"Series\", \"Movie\", \"Series\", \"Movie\", \"Series\", \"Movie\", \"Movie\", \"Movie\", \"Movie\", \"Movie\", \"Movie\", \"Movie\", \"Movie\", \"Movie\", \"Movie\", \"Series\", \"Movie\", \"Series\", \"Movie\", \"Series\", \"Series\", \"Series\", \"Movie\", \"Movie\", \"Series\", \"Series\", \"Movie\", \"Movie\", \"Movie\", \"Movie\", \"Movie\", \"Movie\", \"Series\", \"Movie\", \"Movie\", \"Movie\", \"Movie\", \"Movie\", \"Movie\", \"Movie\", \"Series\", \"Series\", \"Series\", \"Series\", \"Series\", \"Movie\", \"Movie\", \"Series\", \"Movie\", \"Movie\", \"Series\", \"Series\", \"Series\", \"Movie\", \"Movie\", \"Series\", \"Movie\", \"Movie\", \"Movie\", \"Series\", \"Movie\", \"Movie\", \"Movie\", \"Movie\", \"Movie\", \"Movie\", \"Movie\", \"Series\", \"Movie\", \"Series\", \"Series\", \"Movie\", \"Series\", \"Movie\", \"Movie\", \"Movie\", \"Series\", \"Series\", \"Series\", \"Movie\", \"Movie\", \"Movie\", \"Movie\", \"Movie\", \"Movie\", \"Series\", \"Movie\", \"Movie\", \"Movie\", \"Movie\", \"Series\", \"Movie\", \"Movie\", \"Movie\", \"Movie\", \"Movie\", \"Movie\", \"Movie\", \"Movie\", \"Movie\", \"Series\", \"Movie\", \"Movie\", \"Movie\", \"Series\", \"Movie\", \"Movie\", \"Movie\", \"Movie\", \"Series\", \"Series\", \"Movie\", \"Series\", \"Movie\", \"Movie\", \"Series\", \"Series\", \"Movie\", \"Movie\", \"Movie\", \"Movie\", \"Movie\", \"Movie\", \"Movie\", \"Series\", \"Series\", \"Movie\", \"Movie\", \"Movie\", \"Movie\", \"Movie\", \"Movie\", \"Movie\", \"Movie\", \"Series\", \"Movie\", \"Movie\", \"Movie\", \"Movie\", \"Movie\", \"Movie\", \"Series\", \"Movie\", \"Series\", \"Movie\", \"Movie\", \"Movie\", \"Movie\", \"Movie\", \"Movie\", \"Movie\", \"Movie\", \"Movie\", \"Movie\", \"Movie\", \"Movie\", \"Movie\", \"Movie\", \"Movie\", \"Movie\", \"Movie\", \"Movie\", \"Movie\", \"Series\", \"Series\", \"Movie\", \"Movie\", \"Series\", \"Movie\", \"Movie\", \"Movie\", \"Movie\", \"Movie\", \"Movie\", \"Movie\", \"Movie\", \"Movie\", \"Movie\", \"Movie\", \"Movie\", \"Movie\", \"Movie\", \"Series\", \"Movie\", \"Movie\", \"Series\", \"Series\", \"Movie\", \"Movie\", \"Movie\", \"Movie\", \"Series\", \"Movie\", \"Movie\", \"Movie\", \"Movie\", \"Series\", \"Series\", \"Movie\", \"Series\", \"Movie\", \"Movie\", \"Movie\", \"Movie\", \"Movie\", \"Movie\", \"Movie\", \"Movie\", \"Movie\", \"Movie\", \"Series\", \"Movie\", \"Movie\", \"Movie\", \"Series\", \"Series\", \"Movie\", \"Series\", \"Series\", \"Movie\", \"Series\", \"Series\", \"Series\", \"Movie\", \"Movie\", \"Movie\", \"Movie\", \"Movie\", \"Movie\", \"Movie\", \"Movie\", \"Movie\", \"Movie\", \"Series\", \"Series\", \"Movie\", \"Series\", \"Series\", \"Movie\", \"Series\", \"Series\", \"Series\", \"Movie\", \"Movie\", \"Series\", \"Movie\", \"Series\", \"Series\", \"Movie\", \"Movie\", \"Movie\", \"Movie\", \"Movie\", \"Movie\", \"Movie\", \"Movie\", \"Movie\", \"Movie\", \"Movie\", \"Movie\", \"Movie\", \"Movie\", \"Series\", \"Movie\", \"Movie\", \"Movie\", \"Movie\", \"Series\", \"Movie\", \"Series\", \"Series\", \"Movie\", \"Movie\", \"Movie\", \"Movie\", \"Movie\", \"Movie\", \"Movie\", \"Movie\", \"Movie\", \"Movie\", \"Movie\", \"Movie\", \"Movie\", \"Movie\", \"Movie\", \"Movie\", \"Series\", \"Movie\", \"Movie\", \"Movie\", \"Movie\", \"Series\", \"Movie\", \"Movie\", \"Series\", \"Series\", \"Movie\", \"Movie\", \"Movie\", \"Movie\", \"Movie\", \"Movie\", \"Movie\", \"Movie\", \"Movie\", \"Movie\", \"Movie\", \"Movie\", \"Movie\", \"Movie\", \"Movie\", \"Movie\", \"Movie\", \"Movie\", \"Movie\", \"Movie\", \"Series\", \"Movie\", \"Movie\", \"Movie\", \"Movie\", \"Movie\", \"Movie\", \"Movie\", \"Series\", \"Series\", \"Series\", \"Series\", \"Movie\", \"Movie\", \"Series\", \"Series\", \"Movie\", \"Movie\", \"Series\", \"Series\", \"Series\", \"Movie\", \"Movie\", \"Movie\", \"Movie\", \"Movie\", \"Movie\", \"Movie\", \"Movie\", \"Movie\", \"Movie\", \"Movie\", \"Movie\", \"Movie\", \"Movie\", \"Movie\", \"Movie\", \"Movie\", \"Movie\", \"Series\", \"Series\", \"Movie\", \"Movie\", \"Movie\", \"Movie\", \"Movie\", \"Series\", \"Series\", \"Series\", \"Movie\", \"Movie\", \"Movie\", \"Series\", \"Movie\", \"Movie\", \"Movie\", \"Series\", \"Series\", \"Movie\", \"Movie\", \"Movie\", \"Movie\", \"Movie\", \"Movie\", \"Series\", \"Movie\", \"Movie\", \"Series\", \"Series\", \"Movie\", \"Movie\", \"Movie\", \"Movie\", \"Movie\", \"Series\", \"Movie\", \"Movie\", \"Movie\", \"Movie\", \"Movie\", \"Movie\", \"Series\", \"Movie\", \"Movie\", \"Movie\", \"Movie\", \"Movie\", \"Movie\", \"Movie\", \"Movie\", \"Movie\", \"Movie\", \"Movie\", \"Movie\", \"Movie\", \"Movie\", \"Movie\", \"Series\", \"Movie\", \"Series\", \"Movie\", \"Series\", \"Movie\", \"Movie\", \"Movie\", \"Movie\", \"Movie\", \"Series\", \"Series\", \"Movie\", \"Series\", \"Movie\", \"Movie\", \"Movie\", \"Movie\", \"Series\", \"Movie\", \"Movie\", \"Series\", \"Movie\", \"Movie\", \"Movie\", \"Series\", \"Series\", \"Movie\", \"Movie\", \"Series\", \"Movie\", \"Movie\", \"Movie\", \"Movie\", \"Movie\", \"Movie\", \"Movie\", \"Series\", \"Movie\", \"Movie\", \"Movie\", \"Movie\", \"Series\", \"Movie\", \"Movie\", \"Movie\", \"Movie\", \"Series\", \"Series\", \"Series\", \"Series\", \"Movie\", \"Movie\", \"Movie\", \"Series\", \"Series\", \"Series\", \"Movie\", \"Movie\", \"Movie\", \"Movie\", \"Movie\", \"Movie\", \"Movie\", \"Series\", \"Movie\", \"Movie\", \"Movie\", \"Series\", \"Movie\", \"Movie\", \"Movie\", \"Movie\", \"Movie\", \"Movie\", \"Movie\", \"Series\", \"Movie\", \"Series\", \"Movie\", \"Movie\", \"Movie\", \"Movie\", \"Series\", \"Movie\", \"Movie\", \"Movie\", \"Movie\", \"Movie\", \"Series\", \"Movie\", \"Movie\", \"Movie\", \"Movie\", \"Movie\", \"Movie\", \"Movie\", \"Movie\", \"Movie\", \"Movie\", \"Movie\", \"Movie\", \"Movie\", \"Movie\", \"Movie\", \"Movie\", \"Movie\", \"Movie\", \"Movie\", \"Movie\", \"Movie\", \"Movie\", \"Movie\", \"Movie\", \"Movie\", \"Movie\", \"Movie\", \"Movie\", \"Movie\", \"Movie\", \"Movie\", \"Movie\", \"Movie\", \"Movie\", \"Movie\", \"Movie\", \"Movie\", \"Movie\", \"Movie\", \"Movie\", \"Movie\", \"Movie\", \"Movie\", \"Movie\", \"Movie\", \"Movie\", \"Movie\", \"Movie\", \"Movie\", \"Movie\", \"Movie\", \"Series\", \"Series\", \"Series\", \"Series\", \"Series\", \"Series\", \"Series\", \"Series\", \"Series\", \"Movie\", \"Movie\", \"Movie\", \"Movie\", \"Movie\", \"Movie\", \"Movie\", \"Series\", \"Movie\", \"Movie\", \"Movie\", \"Movie\", \"Series\", \"Movie\", \"Movie\", \"Movie\", \"Movie\", \"Series\", \"Series\", \"Series\", \"Series\", \"Series\", \"Series\", \"Series\", \"Movie\", \"Movie\", \"Movie\", \"Movie\", \"Series\", \"Movie\", \"Movie\", \"Movie\", \"Movie\", \"Movie\", \"Series\", \"Movie\", \"Movie\", \"Series\", \"Movie\", \"Movie\", \"Movie\", \"Movie\", \"Movie\", \"Movie\", \"Movie\", \"Movie\", \"Series\", \"Series\", \"Series\", \"Movie\", \"Movie\", \"Movie\", \"Movie\", \"Movie\", \"Movie\", \"Movie\", \"Movie\", \"Movie\", \"Series\", \"Movie\", \"Movie\", \"Series\", \"Movie\", \"Movie\", \"Movie\", \"Movie\", \"Movie\", \"Movie\", \"Movie\", \"Movie\", \"Movie\", \"Movie\", \"Movie\", \"Movie\", \"Series\", \"Movie\", \"Series\", \"Series\", \"Series\", \"Movie\", \"Movie\", \"Movie\", \"Movie\", \"Movie\", \"Series\", \"Movie\", \"Movie\", \"Movie\", \"Series\", \"Series\", \"Series\", \"Series\", \"Series\", \"Series\", \"Series\", \"Movie\", \"Series\", \"Series\", \"Series\", \"Movie\", \"Movie\", \"Movie\", \"Movie\", \"Movie\", \"Movie\", \"Movie\", \"Movie\", \"Movie\", \"Movie\", \"Movie\", \"Movie\", \"Movie\", \"Movie\", \"Movie\", \"Movie\", \"Movie\", \"Movie\", \"Movie\", \"Movie\", \"Movie\", \"Movie\", \"Movie\", \"Movie\", \"Movie\", \"Series\", \"Series\", \"Series\", \"Series\", \"Series\", \"Series\", \"Series\", \"Series\", \"Series\", \"Series\", \"Series\", \"Series\", \"Series\", \"Series\", \"Movie\", \"Movie\", \"Movie\", \"Movie\", \"Movie\", \"Movie\", \"Movie\", \"Movie\", \"Movie\", \"Movie\", \"Movie\", \"Movie\", \"Movie\", \"Series\", \"Series\", \"Movie\", \"Movie\", \"Movie\", \"Movie\", \"Movie\", \"Movie\", \"Movie\", \"Movie\", \"Series\", \"Movie\", \"Movie\", \"Movie\", \"Movie\", \"Movie\", \"Series\", \"Series\", \"Series\", \"Series\", \"Movie\", \"Movie\", \"Movie\", \"Movie\", \"Movie\", \"Series\", \"Movie\", \"Movie\", \"Movie\", \"Movie\", \"Movie\", \"Movie\", \"Movie\", \"Movie\", \"Movie\", \"Series\", \"Series\", \"Movie\", \"Series\", \"Movie\", \"Movie\", \"Movie\", \"Series\", \"Movie\", \"Movie\", \"Movie\", \"Movie\", \"Movie\", \"Movie\", \"Movie\", \"Movie\", \"Movie\", \"Movie\", \"Movie\", \"Movie\", \"Movie\", \"Movie\", \"Movie\", \"Movie\", \"Series\", \"Movie\", \"Movie\", \"Movie\", \"Movie\", \"Movie\", \"Movie\", \"Movie\", \"Movie\", \"Movie\", \"Movie\", \"Movie\", \"Movie\", \"Series\", \"Movie\", \"Movie\", \"Movie\", \"Movie\", \"Series\", \"Movie\", \"Series\", \"Movie\", \"Movie\", \"Movie\", \"Movie\", \"Movie\", \"Movie\", \"Movie\", \"Movie\", \"Movie\", \"Movie\", \"Movie\", \"Movie\", \"Movie\", \"Movie\", \"Movie\", \"Series\", \"Movie\", \"Movie\", \"Movie\", \"Movie\", \"Movie\", \"Movie\", \"Movie\", \"Movie\", \"Movie\", \"Movie\", \"Movie\", \"Movie\", \"Movie\", \"Movie\", \"Series\", \"Movie\", \"Movie\", \"Movie\", \"Movie\", \"Movie\", \"Movie\", \"Movie\", \"Movie\", \"Movie\", \"Movie\", \"Movie\", \"Movie\", \"Series\", \"Movie\", \"Movie\", \"Movie\", \"Series\", \"Series\", \"Series\", \"Series\", \"Series\", \"Movie\", \"Movie\", \"Movie\", \"Movie\", \"Series\", \"Movie\", \"Series\", \"Movie\", \"Series\", \"Movie\", \"Movie\", \"Movie\", \"Series\", \"Movie\", \"Movie\", \"Movie\", \"Movie\", \"Movie\", \"Movie\", \"Movie\", \"Movie\", \"Series\", \"Series\", \"Movie\", \"Movie\", \"Movie\", \"Series\", \"Movie\", \"Movie\", \"Movie\", \"Movie\", \"Movie\", \"Movie\", \"Movie\", \"Series\", \"Movie\", \"Series\", \"Movie\", \"Movie\", \"Movie\", \"Movie\", \"Movie\", \"Series\", \"Movie\", \"Movie\", \"Movie\", \"Movie\", \"Movie\", \"Series\", \"Movie\", \"Movie\", \"Movie\", \"Series\", \"Series\", \"Series\", \"Series\", \"Series\", \"Series\", \"Movie\", \"Movie\", \"Movie\", \"Movie\", \"Movie\", \"Movie\", \"Movie\", \"Movie\", \"Movie\", \"Movie\", \"Movie\", \"Movie\", \"Movie\", \"Series\", \"Series\", \"Series\", \"Series\", \"Series\", \"Movie\", \"Movie\", \"Movie\", \"Movie\", \"Series\", \"Series\", \"Movie\", \"Series\", \"Series\", \"Movie\", \"Movie\", \"Movie\", \"Movie\", \"Movie\", \"Movie\", \"Movie\", \"Series\", \"Series\", \"Series\", \"Movie\", \"Series\", \"Movie\", \"Movie\", \"Movie\", \"Movie\", \"Movie\", \"Movie\", \"Movie\", \"Movie\", \"Movie\", \"Movie\", \"Series\", \"Series\", \"Series\", \"Series\", \"Movie\", \"Series\", \"Movie\", \"Movie\", \"Movie\", \"Series\", \"Series\", \"Series\", \"Series\", \"Movie\", \"Series\", \"Series\", \"Movie\", \"Movie\", \"Movie\", \"Movie\", \"Movie\", \"Movie\", \"Movie\", \"Series\", \"Movie\", \"Movie\", \"Movie\", \"Movie\", \"Series\", \"Movie\", \"Movie\", \"Movie\", \"Series\", \"Movie\", \"Movie\", \"Movie\", \"Movie\", \"Movie\", \"Movie\", \"Movie\", \"Series\", \"Series\", \"Movie\", \"Movie\", \"Movie\", \"Movie\", \"Movie\", \"Movie\", \"Movie\", \"Movie\", \"Series\", \"Movie\", \"Movie\", \"Movie\", \"Series\", \"Series\", \"Movie\", \"Movie\", \"Movie\", \"Movie\", \"Movie\", \"Series\", \"Series\", \"Series\", \"Series\", \"Series\", \"Series\", \"Series\", \"Series\", \"Series\", \"Series\", \"Series\", \"Movie\", \"Movie\", \"Movie\", \"Movie\", \"Movie\", \"Movie\", \"Movie\", \"Movie\", \"Movie\", \"Movie\", \"Movie\", \"Movie\", \"Movie\", \"Series\", \"Series\", \"Series\", \"Series\", \"Movie\", \"Movie\", \"Movie\", \"Movie\", \"Movie\", \"Movie\", \"Movie\", \"Series\", \"Movie\", \"Series\", \"Movie\", \"Movie\", \"Series\", \"Movie\", \"Movie\", \"Movie\", \"Movie\", \"Movie\", \"Movie\", \"Movie\", \"Movie\", \"Movie\", \"Movie\", \"Movie\", \"Movie\", \"Series\", \"Series\", \"Movie\", \"Movie\", \"Movie\", \"Movie\", \"Movie\", \"Movie\", \"Movie\", \"Movie\", \"Movie\", \"Movie\", \"Movie\", \"Movie\", \"Movie\", \"Movie\", \"Movie\", \"Movie\", \"Movie\", \"Movie\", \"Movie\", \"Movie\", \"Series\", \"Series\", \"Series\", \"Series\", \"Movie\", \"Movie\", \"Movie\", \"Movie\", \"Movie\", \"Movie\", \"Movie\", \"Movie\", \"Movie\", \"Movie\", \"Series\", \"Movie\", \"Movie\", \"Movie\", \"Movie\", \"Movie\", \"Movie\", \"Movie\", \"Movie\", \"Movie\", \"Movie\", \"Series\", \"Movie\", \"Movie\", \"Series\", \"Series\", \"Movie\", \"Movie\", \"Movie\", \"Movie\", \"Movie\", \"Movie\", \"Movie\", \"Movie\", \"Movie\", \"Movie\", \"Movie\", \"Series\", \"Series\", \"Series\", \"Series\", \"Series\", \"Series\", \"Movie\", \"Movie\", \"Movie\", \"Movie\", \"Movie\", \"Movie\", \"Movie\", \"Movie\", \"Movie\", \"Movie\", \"Movie\", \"Movie\", \"Movie\", \"Movie\", \"Movie\", \"Movie\", \"Movie\", \"Series\", \"Movie\", \"Movie\", \"Movie\", \"Movie\", \"Series\", \"Series\", \"Series\", \"Series\", \"Movie\", \"Movie\", \"Movie\", \"Movie\", \"Movie\", \"Movie\", \"Movie\", \"Movie\", \"Movie\", \"Movie\", \"Series\", \"Movie\", \"Movie\", \"Movie\", \"Movie\", \"Movie\", \"Movie\", \"Series\", \"Movie\", \"Movie\", \"Series\", \"Series\", \"Series\", \"Movie\", \"Movie\", \"Movie\", \"Movie\", \"Movie\", \"Movie\", \"Movie\", \"Movie\", \"Movie\", \"Movie\", \"Movie\", \"Movie\", \"Movie\", \"Movie\", \"Movie\", \"Series\", \"Series\", \"Series\", \"Series\", \"Series\", \"Series\", \"Series\", \"Series\", \"Series\", \"Series\", \"Series\", \"Movie\", \"Movie\", \"Movie\", \"Movie\", \"Movie\", \"Movie\", \"Series\", \"Movie\", \"Movie\", \"Series\", \"Movie\", \"Movie\", \"Movie\", \"Movie\", \"Movie\", \"Movie\", \"Movie\", \"Series\", \"Series\", \"Movie\", \"Series\", \"Movie\", \"Movie\", \"Series\", \"Movie\", \"Series\", \"Series\", \"Movie\", \"Movie\", \"Series\", \"Movie\", \"Series\", \"Movie\", \"Series\", \"Series\", \"Movie\", \"Movie\", \"Series\", \"Series\", \"Movie\", \"Movie\", \"Movie\", \"Movie\", \"Movie\", \"Movie\", \"Movie\", \"Series\", \"Movie\", \"Series\", \"Movie\", \"Movie\", \"Movie\", \"Movie\", \"Series\", \"Series\", \"Series\", \"Series\", \"Movie\", \"Movie\", \"Movie\", \"Movie\", \"Movie\", \"Movie\", \"Movie\", \"Movie\", \"Movie\", \"Movie\", \"Series\", \"Movie\", \"Series\", \"Movie\", \"Series\", \"Series\", \"Movie\", \"Movie\", \"Movie\", \"Series\", \"Series\", \"Series\", \"Movie\", \"Movie\", \"Movie\", \"Movie\", \"Movie\", \"Movie\", \"Movie\", \"Movie\", \"Movie\", \"Movie\", \"Movie\", \"Movie\", \"Movie\", \"Movie\", \"Movie\", \"Movie\", \"Movie\", \"Series\", \"Movie\", \"Movie\", \"Series\", \"Movie\", \"Movie\", \"Series\", \"Movie\", \"Series\", \"Series\", \"Movie\", \"Movie\", \"Movie\", \"Movie\", \"Movie\", \"Movie\", \"Movie\", \"Movie\", \"Movie\", \"Movie\", \"Movie\", \"Movie\", \"Movie\", \"Movie\", \"Movie\", \"Movie\", \"Movie\", \"Movie\", \"Movie\", \"Movie\", \"Movie\", \"Movie\", \"Movie\", \"Movie\", \"Movie\", \"Movie\", \"Movie\", \"Movie\", \"Movie\", \"Movie\", \"Series\", \"Movie\", \"Series\", \"Movie\", \"Movie\", \"Movie\", \"Series\", \"Movie\", \"Movie\", \"Movie\", \"Movie\", \"Movie\", \"Series\", \"Movie\", \"Movie\", \"Series\", \"Series\", \"Movie\", \"Movie\", \"Series\", \"Movie\", \"Movie\", \"Series\", \"Series\", \"Movie\", \"Movie\", \"Series\", \"Movie\", \"Movie\", \"Movie\", \"Movie\", \"Movie\", \"Movie\", \"Movie\", \"Movie\", \"Series\", \"Movie\", \"Series\", \"Movie\", \"Movie\", \"Movie\", \"Movie\", \"Movie\", \"Movie\", \"Movie\", \"Series\", \"Series\", \"Series\", \"Series\", \"Movie\", \"Series\", \"Movie\", \"Series\", \"Series\", \"Movie\", \"Movie\", \"Movie\", \"Movie\", \"Series\", \"Movie\", \"Movie\", \"Movie\", \"Series\", \"Movie\", \"Series\", \"Movie\", \"Movie\", \"Movie\", \"Series\", \"Movie\", \"Movie\", \"Movie\", \"Movie\", \"Movie\", \"Movie\", \"Movie\", \"Movie\", \"Movie\", \"Movie\", \"Movie\", \"Movie\", \"Movie\", \"Series\", \"Movie\", \"Movie\", \"Series\", \"Movie\", \"Movie\", \"Movie\", \"Movie\", \"Movie\", \"Movie\", \"Series\", \"Movie\", \"Series\", \"Movie\", \"Movie\", \"Movie\", \"Movie\", \"Movie\", \"Movie\", \"Series\", \"Series\", \"Series\", \"Movie\", \"Movie\", \"Series\", \"Series\", \"Movie\", \"Movie\", \"Movie\", \"Series\", \"Series\", \"Movie\", \"Movie\", \"Series\", \"Series\", \"Movie\", \"Movie\", \"Movie\", \"Movie\", \"Movie\", \"Movie\", \"Movie\", \"Movie\", \"Movie\", \"Movie\", \"Movie\", \"Movie\", \"Movie\", \"Movie\", \"Movie\", \"Series\", \"Series\", \"Series\", \"Series\", \"Movie\", \"Series\", \"Series\", \"Movie\", \"Movie\", \"Movie\", \"Movie\", \"Movie\", \"Movie\", \"Movie\", \"Movie\", \"Movie\", \"Movie\", \"Movie\", \"Movie\", \"Series\", \"Series\", \"Movie\", \"Series\", \"Movie\", \"Movie\", \"Movie\", \"Series\", \"Movie\", \"Movie\", \"Movie\", \"Movie\", \"Movie\", \"Movie\", \"Movie\", \"Movie\", \"Series\", \"Series\", \"Movie\", \"Movie\", \"Movie\", \"Movie\", \"Movie\", \"Series\", \"Series\", \"Movie\", \"Movie\", \"Movie\", \"Movie\", \"Movie\", \"Movie\", \"Movie\", \"Movie\", \"Movie\", \"Movie\", \"Movie\", \"Movie\", \"Series\", \"Series\", \"Movie\", \"Movie\", \"Series\", \"Series\", \"Series\", \"Series\", \"Series\", \"Series\", \"Series\", \"Movie\", \"Movie\", \"Series\", \"Movie\", \"Series\", \"Movie\", \"Movie\", \"Movie\", \"Movie\", \"Movie\", \"Movie\", \"Movie\", \"Movie\", \"Movie\", \"Movie\", \"Movie\", \"Movie\", \"Series\", \"Series\", \"Movie\", \"Movie\", \"Movie\", \"Movie\", \"Movie\", \"Movie\", \"Movie\", \"Movie\", \"Movie\", \"Series\", \"Movie\", \"Movie\", \"Movie\", \"Movie\", \"Movie\", \"Movie\", \"Movie\", \"Movie\", \"Movie\", \"Movie\", \"Movie\", \"Movie\", \"Movie\", \"Movie\", \"Movie\", \"Movie\", \"Series\", \"Series\", \"Movie\", \"Movie\", \"Series\", \"Movie\", \"Movie\", \"Movie\", \"Movie\", \"Movie\", \"Movie\", \"Movie\", \"Movie\", \"Movie\", \"Movie\", \"Movie\", \"Movie\", \"Movie\", \"Movie\", \"Movie\", \"Movie\", \"Movie\", \"Movie\", \"Movie\", \"Movie\", \"Movie\", \"Series\", \"Movie\", \"Movie\", \"Movie\", \"Movie\", \"Movie\", \"Movie\", \"Series\", \"Movie\", \"Movie\", \"Movie\", \"Movie\", \"Movie\", \"Movie\", \"Movie\", \"Movie\", \"Series\", \"Series\", \"Movie\", \"Movie\", \"Movie\", \"Movie\", \"Movie\", \"Movie\", \"Movie\", \"Movie\", \"Movie\", \"Series\", \"Movie\", \"Series\", \"Movie\", \"Movie\", \"Movie\", \"Movie\", \"Movie\", \"Movie\", \"Movie\", \"Series\", \"Movie\", \"Movie\", \"Movie\", \"Series\", \"Series\", \"Movie\", \"Series\", \"Movie\", \"Movie\", \"Movie\", \"Series\", \"Series\", \"Series\", \"Series\", \"Series\", \"Series\", \"Series\", \"Movie\", \"Movie\", \"Movie\", \"Movie\", \"Series\", \"Movie\", \"Movie\", \"Movie\", \"Movie\", \"Movie\", \"Movie\", \"Movie\", \"Movie\", \"Movie\", \"Series\", \"Series\", \"Series\", \"Movie\", \"Movie\", \"Movie\", \"Movie\", \"Movie\", \"Movie\", \"Movie\", \"Series\", \"Series\", \"Series\", \"Movie\", \"Movie\", \"Movie\", \"Movie\", \"Movie\", \"Movie\", \"Movie\", \"Movie\", \"Movie\", \"Movie\", \"Movie\", \"Movie\", \"Series\", \"Series\", \"Series\", \"Series\", \"Movie\", \"Movie\", \"Movie\", \"Movie\", \"Movie\", \"Movie\", \"Movie\", \"Movie\", \"Movie\", \"Movie\", \"Movie\", \"Movie\", \"Series\", \"Movie\", \"Series\", \"Movie\", \"Movie\", \"Movie\", \"Movie\", \"Movie\", \"Series\", \"Movie\", \"Movie\", \"Movie\", \"Movie\", \"Movie\", \"Movie\", \"Movie\", \"Movie\", \"Movie\", \"Movie\", \"Movie\", \"Movie\", \"Movie\", \"Movie\", \"Series\", \"Movie\", \"Series\", \"Movie\", \"Movie\", \"Movie\", \"Movie\", \"Movie\", \"Movie\", \"Movie\", \"Movie\", \"Movie\", \"Movie\", \"Movie\", \"Movie\", \"Movie\", \"Movie\", \"Movie\", \"Movie\", \"Movie\", \"Movie\", \"Movie\", \"Movie\", \"Movie\", \"Movie\", \"Movie\", \"Series\", \"Movie\", \"Movie\", \"Movie\", \"Movie\", \"Movie\", \"Movie\", \"Movie\", \"Movie\", \"Movie\", \"Movie\", \"Movie\", \"Movie\", \"Movie\", \"Movie\", \"Movie\", \"Movie\", \"Movie\", \"Series\", \"Series\", \"Series\", \"Series\", \"Movie\", \"Movie\", \"Series\", \"Series\", \"Series\", \"Movie\", \"Series\", \"Series\", \"Movie\", \"Series\", \"Movie\", \"Movie\", \"Movie\", \"Movie\", \"Series\", \"Series\", \"Movie\", \"Series\", \"Movie\", \"Series\", \"Movie\", \"Series\", \"Series\", \"Series\", \"Series\", \"Movie\", \"Movie\", \"Series\", \"Movie\", \"Movie\", \"Movie\", \"Movie\", \"Movie\", \"Movie\", \"Movie\", \"Series\", \"Movie\", \"Movie\", \"Movie\", \"Movie\", \"Movie\", \"Movie\", \"Series\", \"Movie\", \"Movie\", \"Series\", \"Movie\", \"Movie\", \"Series\", \"Movie\", \"Movie\", \"Movie\", \"Movie\", \"Movie\", \"Movie\", \"Movie\", \"Movie\", \"Series\", \"Movie\", \"Movie\", \"Movie\", \"Movie\", \"Movie\", \"Movie\", \"Movie\", \"Movie\", \"Movie\", \"Movie\", \"Series\", \"Series\", \"Movie\", \"Movie\", \"Movie\", \"Movie\", \"Movie\", \"Series\", \"Movie\", \"Series\", \"Movie\", \"Series\", \"Movie\", \"Movie\", \"Movie\", \"Movie\", \"Movie\", \"Movie\", \"Series\", \"Movie\", \"Movie\", \"Movie\", \"Movie\", \"Movie\", \"Movie\", \"Movie\", \"Movie\", \"Movie\", \"Movie\", \"Movie\", \"Movie\", \"Series\", \"Series\", \"Series\", \"Series\", \"Series\", \"Series\", \"Movie\", \"Series\", \"Movie\", \"Series\", \"Series\", \"Movie\", \"Movie\", \"Series\", \"Movie\", \"Movie\", \"Movie\", \"Movie\", \"Movie\", \"Movie\", \"Movie\", \"Movie\", \"Movie\", \"Movie\", \"Movie\", \"Movie\", \"Series\", \"Movie\", \"Movie\", \"Movie\", \"Series\", \"Series\", \"Movie\", \"Movie\", \"Movie\", \"Movie\", \"Movie\", \"Movie\", \"Movie\", \"Series\", \"Series\", \"Movie\", \"Movie\", \"Movie\", \"Movie\", \"Movie\", \"Series\", \"Series\", \"Series\", \"Movie\", \"Movie\", \"Movie\", \"Movie\", \"Series\", \"Series\", \"Movie\", \"Movie\", \"Movie\", \"Movie\", \"Movie\", \"Movie\", \"Movie\", \"Series\", \"Series\", \"Movie\", \"Movie\", \"Movie\", \"Movie\", \"Movie\", \"Movie\", \"Movie\", \"Movie\", \"Series\", \"Series\", \"Movie\", \"Movie\", \"Series\", \"Movie\", \"Series\", \"Series\", \"Movie\", \"Movie\", \"Movie\", \"Movie\", \"Movie\", \"Movie\", \"Movie\", \"Movie\", \"Movie\", \"Movie\", \"Movie\", \"Movie\", \"Series\", \"Movie\", \"Movie\", \"Movie\", \"Movie\", \"Series\", \"Series\", \"Movie\", \"Series\", \"Movie\", \"Movie\", \"Movie\", \"Series\", \"Movie\", \"Movie\", \"Movie\", \"Movie\", \"Series\", \"Movie\", \"Movie\", \"Movie\", \"Movie\", \"Movie\", \"Series\", \"Movie\", \"Movie\", \"Movie\", \"Movie\", \"Movie\", \"Movie\", \"Series\", \"Series\", \"Movie\", \"Movie\", \"Movie\", \"Movie\", \"Series\", \"Movie\", \"Series\", \"Movie\", \"Series\", \"Movie\", \"Series\", \"Series\", \"Series\", \"Series\", \"Movie\", \"Movie\", \"Movie\", \"Movie\", \"Series\", \"Series\", \"Series\", \"Series\", \"Series\", \"Series\", \"Series\", \"Series\", \"Series\", \"Series\", \"Series\", \"Series\", \"Series\", \"Series\", \"Series\", \"Series\", \"Series\", \"Series\", \"Movie\", \"Movie\", \"Series\", \"Movie\", \"Movie\", \"Movie\", \"Movie\", \"Movie\", \"Movie\", \"Movie\", \"Movie\", \"Series\", \"Series\", \"Series\", \"Series\", \"Movie\", \"Movie\", \"Movie\", \"Movie\", \"Series\", \"Series\", \"Movie\", \"Movie\", \"Movie\", \"Series\", \"Series\", \"Movie\", \"Movie\", \"Movie\", \"Movie\", \"Movie\", \"Series\", \"Series\", \"Series\", \"Series\", \"Series\", \"Series\", \"Movie\", \"Movie\", \"Movie\", \"Movie\", \"Movie\", \"Series\", \"Series\", \"Movie\", \"Series\", \"Series\", \"Movie\", \"Series\", \"Series\", \"Movie\", \"Movie\", \"Movie\", \"Series\", \"Series\", \"Movie\", \"Movie\", \"Series\", \"Movie\", \"Movie\", \"Series\", \"Movie\", \"Movie\", \"Movie\", \"Series\", \"Series\", \"Series\", \"Series\", \"Movie\", \"Movie\", \"Movie\", \"Movie\", \"Movie\", \"Movie\", \"Movie\", \"Movie\", \"Movie\", \"Movie\", \"Movie\", \"Movie\", \"Movie\", \"Movie\", \"Movie\", \"Movie\", \"Movie\", \"Movie\", \"Movie\", \"Movie\", \"Movie\", \"Movie\", \"Movie\", \"Movie\", \"Movie\", \"Series\", \"Series\", \"Movie\", \"Series\", \"Movie\", \"Movie\", \"Movie\", \"Movie\", \"Series\", \"Series\", \"Movie\", \"Movie\", \"Movie\", \"Movie\", \"Movie\", \"Movie\", \"Movie\", \"Movie\", \"Movie\", \"Movie\", \"Movie\", \"Movie\", \"Movie\", \"Movie\", \"Series\", \"Movie\", \"Movie\", \"Movie\", \"Movie\", \"Movie\", \"Movie\", \"Movie\", \"Movie\", \"Movie\", \"Movie\", \"Movie\", \"Movie\", \"Movie\", \"Series\", \"Movie\", \"Movie\", \"Movie\", \"Series\", \"Series\", \"Movie\", \"Movie\", \"Movie\", \"Movie\", \"Movie\", \"Movie\", \"Movie\", \"Movie\", \"Movie\", \"Movie\", \"Movie\", \"Movie\", \"Series\", \"Movie\", \"Series\", \"Movie\", \"Movie\", \"Series\", \"Movie\", \"Movie\", \"Movie\", \"Movie\", \"Movie\", \"Movie\", \"Series\", \"Movie\", \"Movie\", \"Movie\", \"Movie\", \"Movie\", \"Movie\", \"Movie\", \"Movie\", \"Movie\", \"Movie\", \"Movie\", \"Series\", \"Series\", \"Movie\", \"Movie\", \"Movie\", \"Movie\", \"Movie\", \"Series\", \"Series\", \"Movie\", \"Movie\", \"Series\", \"Movie\", \"Movie\", \"Movie\", \"Series\", \"Series\", \"Series\", \"Series\", \"Movie\", \"Movie\", \"Movie\", \"Movie\", \"Movie\", \"Movie\", \"Movie\", \"Movie\", \"Movie\", \"Movie\", \"Movie\", \"Movie\", \"Movie\", \"Movie\", \"Movie\", \"Movie\", \"Movie\", \"Series\", \"Series\", \"Series\", \"Movie\", \"Movie\", \"Series\", \"Series\", \"Series\", \"Movie\", \"Series\", \"Series\", \"Series\", \"Series\", \"Movie\", \"Movie\", \"Movie\", \"Movie\", \"Movie\", \"Movie\", \"Movie\", \"Movie\", \"Movie\", \"Movie\", \"Movie\", \"Movie\", \"Movie\", \"Movie\", \"Series\", \"Movie\", \"Movie\", \"Movie\", \"Series\", \"Movie\", \"Movie\", \"Movie\", \"Movie\", \"Movie\", \"Movie\", \"Movie\", \"Movie\", \"Movie\", \"Movie\", \"Movie\", \"Movie\", \"Movie\", \"Movie\", \"Series\", \"Movie\", \"Series\", \"Movie\", \"Movie\", \"Series\", \"Movie\", \"Movie\", \"Series\", \"Movie\", \"Movie\", \"Movie\", \"Movie\", \"Movie\", \"Series\", \"Movie\", \"Series\", \"Series\", \"Series\", \"Series\", \"Movie\", \"Movie\", \"Movie\", \"Movie\", \"Movie\", \"Movie\", \"Movie\", \"Series\", \"Series\", \"Series\", \"Movie\", \"Movie\", \"Movie\", \"Movie\", \"Movie\", \"Movie\", \"Movie\", \"Series\", \"Movie\", \"Movie\", \"Movie\", \"Movie\", \"Series\", \"Series\", \"Movie\", \"Movie\", \"Movie\", \"Movie\", \"Movie\", \"Movie\", \"Movie\", \"Movie\", \"Series\", \"Series\", \"Series\", \"Series\", \"Movie\", \"Movie\", \"Series\", \"Movie\", \"Movie\", \"Series\", \"Movie\", \"Movie\", \"Series\", \"Movie\", \"Movie\", \"Movie\", \"Movie\", \"Movie\", \"Movie\", \"Movie\", \"Movie\", \"Series\", \"Series\", \"Movie\", \"Movie\", \"Movie\", \"Movie\", \"Movie\", \"Movie\", \"Series\", \"Movie\", \"Movie\", \"Movie\", \"Series\", \"Series\", \"Movie\", \"Movie\", \"Movie\", \"Movie\", \"Movie\", \"Movie\", \"Movie\", \"Movie\", \"Movie\", \"Series\", \"Movie\", \"Series\", \"Series\", \"Series\", \"Movie\", \"Movie\", \"Movie\", \"Movie\", \"Movie\", \"Movie\", \"Movie\", \"Movie\", \"Movie\", \"Movie\", \"Movie\", \"Series\", \"Series\", \"Movie\", \"Movie\", \"Movie\", \"Series\", \"Movie\", \"Series\", \"Series\", \"Series\", \"Series\", \"Series\", \"Series\", \"Series\", \"Movie\", \"Movie\", \"Movie\", \"Movie\", \"Movie\", \"Series\", \"Series\", \"Series\", \"Series\", \"Series\", \"Series\", \"Movie\", \"Movie\", \"Movie\", \"Movie\", \"Movie\", \"Movie\", \"Series\", \"Movie\", \"Movie\", \"Movie\", \"Movie\", \"Movie\", \"Movie\", \"Movie\", \"Movie\", \"Series\", \"Series\", \"Movie\", \"Movie\", \"Movie\", \"Movie\", \"Movie\", \"Movie\", \"Movie\", \"Movie\", \"Movie\", \"Movie\", \"Movie\", \"Movie\", \"Series\", \"Movie\", \"Series\", \"Movie\", \"Series\", \"Movie\", \"Movie\", \"Movie\", \"Movie\", \"Movie\", \"Series\", \"Movie\", \"Series\", \"Movie\", \"Movie\", \"Movie\", \"Movie\", \"Movie\", \"Movie\", \"Movie\", \"Series\", \"Movie\", \"Series\", \"Movie\", \"Movie\", \"Movie\", \"Movie\", \"Movie\", \"Movie\", \"Movie\", \"Movie\", \"Series\", \"Series\", \"Movie\", \"Movie\", \"Series\", \"Movie\", \"Movie\", \"Movie\", \"Movie\", \"Movie\", \"Series\", \"Movie\", \"Series\", \"Movie\", \"Movie\", \"Series\", \"Movie\", \"Movie\", \"Movie\", \"Series\", \"Movie\", \"Movie\", \"Movie\", \"Movie\", \"Movie\", \"Movie\", \"Movie\", \"Movie\", \"Movie\", \"Series\", \"Series\", \"Movie\", \"Movie\", \"Movie\", \"Movie\", \"Movie\", \"Movie\", \"Movie\", \"Movie\", \"Movie\", \"Movie\", \"Movie\", \"Movie\", \"Movie\", \"Movie\", \"Movie\", \"Movie\", \"Series\", \"Movie\", \"Movie\", \"Movie\", \"Series\", \"Series\", \"Movie\", \"Movie\", \"Movie\", \"Movie\", \"Movie\", \"Movie\", \"Movie\", \"Movie\", \"Series\", \"Series\", \"Movie\", \"Movie\", \"Movie\", \"Series\", \"Movie\", \"Movie\", \"Movie\", \"Movie\", \"Movie\", \"Movie\", \"Movie\", \"Series\", \"Movie\", \"Series\", \"Movie\", \"Movie\", \"Movie\", \"Movie\", \"Movie\", \"Series\", \"Series\", \"Series\", \"Series\", \"Movie\", \"Movie\", \"Movie\", \"Movie\", \"Movie\", \"Series\", \"Movie\", \"Movie\", \"Movie\", \"Movie\", \"Movie\", \"Movie\", \"Movie\", \"Movie\", \"Movie\", \"Movie\", \"Movie\", \"Movie\", \"Movie\", \"Movie\", \"Movie\", \"Movie\", \"Series\", \"Movie\", \"Series\", \"Series\", \"Movie\", \"Series\", \"Movie\", \"Movie\", \"Movie\", \"Movie\", \"Movie\", \"Movie\", \"Movie\", \"Series\", \"Movie\", \"Series\", \"Movie\", \"Series\", \"Movie\", \"Movie\", \"Movie\", \"Series\", \"Movie\", \"Movie\", \"Series\", \"Series\", \"Series\", \"Series\", \"Movie\", \"Movie\", \"Series\", \"Movie\", \"Movie\", \"Movie\", \"Movie\", \"Series\", \"Movie\", \"Movie\", \"Movie\", \"Movie\", \"Movie\", \"Movie\", \"Movie\", \"Movie\", \"Movie\", \"Movie\", \"Movie\", \"Series\", \"Series\", \"Movie\", \"Movie\", \"Movie\", \"Movie\", \"Series\", \"Movie\", \"Movie\", \"Movie\", \"Movie\", \"Series\", \"Series\", \"Movie\", \"Series\", \"Series\", \"Series\", \"Movie\", \"Series\", \"Movie\", \"Movie\", \"Movie\", \"Movie\", \"Movie\", \"Movie\", \"Movie\", \"Series\", \"Movie\", \"Movie\", \"Movie\", \"Movie\", \"Movie\", \"Series\", \"Movie\", \"Movie\", \"Movie\", \"Movie\", \"Movie\", \"Movie\", \"Movie\", \"Movie\", \"Series\", \"Series\", \"Movie\", \"Movie\", \"Movie\", \"Movie\", \"Series\", \"Movie\", \"Series\", \"Movie\", \"Series\", \"Movie\", \"Series\", \"Movie\", \"Series\", \"Movie\", \"Movie\", \"Movie\", \"Movie\", \"Series\", \"Movie\", \"Movie\", \"Movie\", \"Movie\", \"Movie\", \"Movie\", \"Movie\", \"Movie\", \"Movie\", \"Movie\", \"Movie\", \"Movie\", \"Series\", \"Series\", \"Series\", \"Movie\", \"Movie\", \"Movie\", \"Movie\", \"Movie\", \"Series\", \"Movie\", \"Movie\", \"Movie\", \"Series\", \"Series\", \"Movie\", \"Movie\", \"Movie\", \"Movie\", \"Movie\", \"Movie\", \"Movie\", \"Movie\", \"Movie\", \"Movie\", \"Movie\", \"Movie\", \"Movie\", \"Movie\", \"Series\", \"Movie\", \"Series\", \"Series\", \"Movie\", \"Movie\", \"Movie\", \"Series\", \"Movie\", \"Series\", \"Movie\", \"Movie\", \"Series\", \"Movie\", \"Movie\", \"Series\", \"Movie\", \"Movie\", \"Movie\", \"Movie\", \"Movie\", \"Series\", \"Movie\", \"Movie\", \"Movie\", \"Series\", \"Series\", \"Series\", \"Movie\", \"Movie\", \"Movie\", \"Movie\", \"Movie\", \"Movie\", \"Movie\", \"Movie\", \"Movie\", \"Movie\", \"Movie\", \"Movie\", \"Movie\", \"Movie\", \"Series\", \"Series\", \"Series\", \"Series\", \"Series\", \"Series\", \"Series\", \"Series\", \"Series\", \"Movie\", \"Movie\", \"Movie\", \"Movie\", \"Series\", \"Series\", \"Series\", \"Series\", \"Series\", \"Movie\", \"Series\", \"Movie\", \"Series\", \"Movie\", \"Movie\", \"Movie\", \"Movie\", \"Series\", \"Movie\", \"Series\", \"Series\", \"Series\", \"Series\", \"Movie\", \"Movie\", \"Movie\", \"Movie\", \"Series\", \"Movie\", \"Movie\", \"Movie\", \"Movie\", \"Movie\", \"Movie\", \"Movie\", \"Movie\", \"Series\", \"Movie\", \"Movie\", \"Movie\", \"Movie\", \"Movie\", \"Movie\", \"Series\", \"Series\", \"Movie\", \"Movie\", \"Series\", \"Series\", \"Movie\", \"Series\", \"Movie\", \"Series\", \"Series\", \"Series\", \"Movie\", \"Movie\", \"Movie\", \"Movie\", \"Series\", \"Movie\", \"Movie\", \"Series\", \"Series\", \"Movie\", \"Series\", \"Series\", \"Movie\", \"Movie\", \"Series\", \"Series\", \"Movie\", \"Series\", \"Movie\", \"Movie\", \"Movie\", \"Series\", \"Movie\", \"Series\", \"Series\", \"Movie\", \"Movie\", \"Movie\", \"Movie\", \"Movie\", \"Movie\", \"Movie\", \"Series\", \"Series\", \"Series\", \"Series\", \"Movie\", \"Movie\", \"Movie\", \"Movie\", \"Movie\", \"Movie\", \"Movie\", \"Movie\", \"Movie\", \"Movie\", \"Movie\", \"Movie\", \"Movie\", \"Movie\", \"Movie\", \"Movie\", \"Movie\", \"Movie\", \"Movie\", \"Movie\", \"Movie\", \"Movie\", \"Movie\", \"Movie\", \"Series\", \"Series\", \"Movie\", \"Series\", \"Series\", \"Movie\", \"Movie\", \"Movie\", \"Movie\", \"Movie\", \"Movie\", \"Series\", \"Movie\", \"Movie\", \"Movie\", \"Movie\", \"Movie\", \"Movie\", \"Series\", \"Series\", \"Series\", \"Movie\", \"Movie\", \"Movie\", \"Movie\", \"Movie\", \"Movie\", \"Movie\", \"Movie\", \"Movie\", \"Series\", \"Series\", \"Series\", \"Movie\", \"Movie\", \"Movie\", \"Movie\", \"Movie\", \"Movie\", \"Movie\", \"Movie\", \"Movie\", \"Movie\", \"Movie\", \"Movie\", \"Movie\", \"Movie\", \"Movie\", \"Movie\", \"Movie\", \"Movie\", \"Movie\", \"Movie\", \"Movie\", \"Movie\", \"Movie\", \"Movie\", \"Movie\", \"Series\", \"Movie\", \"Movie\", \"Movie\", \"Movie\", \"Movie\", \"Series\", \"Movie\", \"Series\", \"Series\", \"Series\", \"Series\", \"Movie\", \"Movie\", \"Movie\", \"Movie\", \"Movie\", \"Movie\", \"Movie\", \"Movie\", \"Movie\", \"Series\", \"Movie\", \"Movie\", \"Movie\", \"Movie\", \"Movie\", \"Series\", \"Movie\", \"Movie\", \"Series\", \"Movie\", \"Movie\", \"Movie\", \"Movie\", \"Movie\", \"Movie\", \"Movie\", \"Series\", \"Movie\", \"Movie\", \"Movie\", \"Movie\", \"Movie\", \"Movie\", \"Movie\", \"Movie\", \"Movie\", \"Movie\", \"Series\", \"Movie\", \"Series\", \"Series\", \"Series\", \"Series\", \"Movie\", \"Movie\", \"Series\", \"Series\", \"Movie\", \"Movie\", \"Movie\", \"Series\", \"Movie\", \"Series\", \"Series\", \"Movie\", \"Movie\", \"Movie\", \"Movie\", \"Movie\", \"Movie\", \"Movie\", \"Movie\", \"Movie\", \"Movie\", \"Movie\", \"Series\", \"Series\", \"Movie\", \"Series\", \"Movie\", \"Movie\", \"Series\", \"Movie\", \"Movie\", \"Series\", \"Series\", \"Series\", \"Movie\", \"Series\", \"Series\", \"Movie\", \"Series\", \"Series\", \"Movie\", \"Movie\", \"Movie\", \"Series\", \"Series\", \"Series\", \"Movie\", \"Movie\", \"Movie\", \"Movie\", \"Movie\", \"Movie\", \"Movie\", \"Movie\", \"Movie\", \"Movie\", \"Movie\", \"Series\", \"Movie\", \"Movie\", \"Movie\", \"Series\", \"Series\", \"Movie\", \"Movie\", \"Movie\", \"Movie\", \"Movie\", \"Series\", \"Movie\", \"Movie\", \"Series\", \"Movie\", \"Movie\", \"Movie\", \"Movie\", \"Movie\", \"Movie\", \"Movie\", \"Movie\", \"Series\", \"Movie\", \"Series\", \"Movie\", \"Movie\", \"Movie\", \"Movie\", \"Movie\", \"Movie\", \"Movie\", \"Movie\", \"Movie\", \"Movie\", \"Movie\", \"Movie\", \"Movie\", \"Movie\", \"Movie\", \"Series\", \"Movie\", \"Movie\", \"Movie\", \"Movie\", \"Movie\", \"Movie\", \"Movie\", \"Movie\", \"Movie\", \"Series\", \"Movie\", \"Series\", \"Movie\", \"Movie\", \"Series\", \"Movie\", \"Movie\", \"Movie\", \"Movie\", \"Series\", \"Series\", \"Movie\", \"Movie\", \"Movie\", \"Movie\", \"Movie\", \"Movie\", \"Movie\", \"Series\", \"Movie\", \"Series\", \"Movie\", \"Movie\", \"Movie\", \"Movie\", \"Movie\", \"Movie\", \"Series\", \"Movie\", \"Series\", \"Series\", \"Series\", \"Movie\", \"Movie\", \"Movie\", \"Movie\", \"Movie\", \"Movie\", \"Series\", \"Series\", \"Series\", \"Movie\", \"Movie\", \"Movie\", \"Movie\", \"Movie\", \"Movie\", \"Movie\", \"Movie\", \"Movie\", \"Movie\", \"Movie\", \"Movie\", \"Movie\", \"Movie\", \"Movie\", \"Movie\", \"Movie\", \"Movie\", \"Movie\", \"Movie\", \"Movie\", \"Series\", \"Series\", \"Movie\", \"Series\", \"Movie\", \"Movie\", \"Series\", \"Movie\", \"Movie\", \"Movie\", \"Series\", \"Series\", \"Movie\", \"Movie\", \"Movie\", \"Movie\", \"Movie\", \"Series\", \"Movie\", \"Series\", \"Movie\", \"Series\", \"Series\", \"Series\", \"Series\", \"Series\", \"Movie\", \"Series\", \"Series\", \"Movie\", \"Series\", \"Series\", \"Movie\", \"Movie\", \"Series\", \"Movie\", \"Series\", \"Movie\", \"Series\", \"Movie\", \"Movie\", \"Series\", \"Movie\", \"Series\", \"Movie\", \"Movie\", \"Series\", \"Series\", \"Series\", \"Movie\", \"Series\", \"Movie\", \"Movie\", \"Movie\", \"Movie\", \"Movie\", \"Series\", \"Movie\", \"Series\", \"Movie\", \"Movie\", \"Movie\", \"Movie\", \"Movie\", \"Movie\", \"Movie\", \"Movie\", \"Series\", \"Series\", \"Series\", \"Series\", \"Movie\", \"Series\", \"Movie\", \"Movie\", \"Movie\", \"Series\", \"Movie\", \"Movie\", \"Series\", \"Series\", \"Series\", \"Series\", \"Series\", \"Series\", \"Series\", \"Movie\", \"Movie\", \"Series\", \"Movie\", \"Movie\", \"Movie\", \"Movie\", \"Movie\", \"Series\", \"Series\", \"Series\", \"Series\", \"Movie\", \"Movie\", \"Series\", \"Movie\", \"Series\", \"Movie\", \"Series\", \"Series\", \"Movie\", \"Movie\", \"Movie\", \"Movie\", \"Movie\", \"Movie\", \"Movie\", \"Movie\", \"Movie\", \"Movie\", \"Movie\", \"Movie\", \"Movie\", \"Movie\", \"Movie\", \"Movie\", \"Movie\", \"Movie\", \"Movie\", \"Movie\", \"Movie\", \"Series\", \"Series\", \"Movie\", \"Movie\", \"Movie\", \"Movie\", \"Movie\", \"Movie\", \"Movie\", \"Movie\", \"Movie\", \"Movie\", \"Movie\", \"Movie\", \"Movie\", \"Movie\", \"Movie\", \"Movie\", \"Movie\", \"Movie\", \"Movie\", \"Movie\", \"Movie\", \"Movie\", \"Movie\", \"Movie\", \"Movie\", \"Movie\", \"Movie\", \"Movie\", \"Movie\", \"Movie\", \"Movie\", \"Movie\", \"Movie\", \"Movie\", \"Movie\", \"Movie\", \"Movie\", \"Movie\", \"Movie\", \"Movie\", \"Series\", \"Series\", \"Movie\", \"Movie\", \"Series\", \"Movie\", \"Series\", \"Series\", \"Series\", \"Series\", \"Movie\", \"Movie\", \"Series\", \"Movie\", \"Movie\", \"Movie\", \"Movie\", \"Movie\", \"Movie\", \"Movie\", \"Movie\", \"Movie\", \"Movie\", \"Movie\", \"Movie\", \"Movie\", \"Movie\", \"Movie\", \"Movie\", \"Series\", \"Series\", \"Series\", \"Movie\", \"Movie\", \"Movie\", \"Movie\", \"Movie\", \"Movie\", \"Movie\", \"Movie\", \"Movie\", \"Movie\", \"Movie\", \"Movie\", \"Movie\", \"Movie\", \"Movie\", \"Movie\", \"Movie\", \"Series\", \"Movie\", \"Series\", \"Movie\", \"Series\", \"Series\", \"Movie\", \"Movie\", \"Movie\", \"Movie\", \"Movie\", \"Movie\", \"Movie\", \"Movie\", \"Movie\", \"Movie\", \"Series\", \"Movie\", \"Movie\", \"Movie\", \"Movie\", \"Movie\", \"Movie\", \"Movie\", \"Movie\", \"Movie\", \"Movie\", \"Movie\", \"Movie\", \"Movie\", \"Movie\", \"Movie\", \"Movie\", \"Movie\", \"Series\", \"Movie\", \"Series\", \"Movie\", \"Movie\", \"Series\", \"Series\", \"Series\", \"Series\", \"Movie\", \"Movie\", \"Movie\", \"Movie\", \"Movie\", \"Movie\", \"Series\", \"Series\", \"Series\", \"Movie\", \"Series\", \"Movie\", \"Movie\", \"Movie\", \"Movie\", \"Series\", \"Series\", \"Movie\", \"Series\", \"Movie\", \"Movie\", \"Movie\", \"Movie\", \"Movie\", \"Movie\", \"Movie\", \"Movie\", \"Movie\", \"Series\", \"Series\", \"Movie\", \"Movie\", \"Movie\", \"Movie\", \"Movie\", \"Movie\", \"Movie\", \"Series\", \"Series\", \"Series\", \"Series\", \"Movie\", \"Movie\", \"Movie\", \"Movie\", \"Movie\", \"Movie\", \"Movie\", \"Movie\", \"Series\", \"Movie\", \"Movie\", \"Movie\", \"Movie\", \"Series\", \"Series\", \"Movie\", \"Movie\", \"Movie\", \"Movie\", \"Movie\", \"Movie\", \"Movie\", \"Movie\", \"Movie\", \"Movie\", \"Movie\", \"Movie\", \"Movie\", \"Movie\", \"Movie\", \"Movie\", \"Movie\", \"Series\", \"Movie\", \"Movie\", \"Movie\", \"Movie\", \"Movie\", \"Movie\", \"Movie\", \"Movie\", \"Series\", \"Movie\", \"Movie\", \"Movie\", \"Series\", \"Movie\", \"Movie\", \"Movie\", \"Movie\", \"Series\", \"Series\", \"Series\", \"Series\", \"Movie\", \"Series\", \"Movie\", \"Movie\", \"Movie\", \"Movie\", \"Movie\", \"Movie\", \"Movie\", \"Movie\", \"Movie\", \"Movie\", \"Movie\", \"Movie\", \"Movie\", \"Movie\", \"Movie\", \"Movie\", \"Movie\", \"Movie\", \"Movie\", \"Movie\", \"Movie\", \"Movie\", \"Movie\", \"Movie\", \"Movie\", \"Movie\", \"Movie\", \"Movie\", \"Movie\", \"Movie\", \"Movie\", \"Movie\", \"Movie\", \"Movie\", \"Series\", \"Movie\", \"Series\", \"Movie\", \"Movie\", \"Movie\", \"Movie\", \"Movie\", \"Movie\", \"Movie\", \"Movie\", \"Movie\", \"Movie\", \"Series\", \"Movie\", \"Movie\", \"Series\", \"Series\", \"Series\", \"Movie\", \"Movie\", \"Movie\", \"Movie\", \"Movie\", \"Movie\", \"Movie\", \"Movie\", \"Movie\", \"Movie\", \"Movie\", \"Series\", \"Series\", \"Series\", \"Series\", \"Series\", \"Movie\", \"Movie\", \"Movie\", \"Series\", \"Movie\", \"Movie\", \"Movie\", \"Movie\", \"Movie\", \"Series\", \"Movie\", \"Movie\", \"Movie\", \"Movie\", \"Movie\", \"Movie\", \"Movie\", \"Movie\", \"Movie\", \"Movie\", \"Series\", \"Series\", \"Movie\", \"Movie\", \"Movie\", \"Movie\", \"Series\", \"Movie\", \"Movie\", \"Series\", \"Movie\", \"Movie\", \"Movie\", \"Movie\", \"Movie\", \"Movie\", \"Movie\", \"Movie\", \"Movie\", \"Movie\", \"Movie\", \"Series\", \"Movie\", \"Movie\", \"Movie\", \"Series\", \"Series\", \"Movie\", \"Series\", \"Movie\", \"Movie\", \"Movie\", \"Movie\", \"Movie\", \"Series\", \"Series\", \"Movie\", \"Movie\", \"Series\", \"Series\", \"Movie\", \"Movie\", \"Movie\", \"Series\", \"Movie\", \"Movie\", \"Movie\", \"Movie\", \"Movie\", \"Movie\", \"Movie\", \"Movie\", \"Movie\", \"Movie\", \"Movie\", \"Movie\", \"Series\", \"Series\", \"Series\", \"Movie\", \"Movie\", \"Series\", \"Series\", \"Movie\", \"Movie\", \"Movie\", \"Movie\", \"Movie\", \"Movie\", \"Movie\", \"Movie\", \"Movie\", \"Movie\", \"Movie\", \"Movie\", \"Movie\", \"Series\", \"Movie\", \"Movie\", \"Movie\", \"Movie\", \"Series\", \"Movie\", \"Series\", \"Series\", \"Series\", \"Movie\", \"Movie\", \"Series\", \"Series\", \"Movie\", \"Series\", \"Series\", \"Series\", \"Movie\", \"Movie\", \"Movie\", \"Movie\", \"Movie\", \"Movie\", \"Movie\", \"Movie\", \"Movie\", \"Movie\", \"Movie\", \"Movie\", \"Series\", \"Movie\", \"Movie\", \"Movie\", \"Movie\", \"Movie\", \"Movie\", \"Series\", \"Movie\", \"Movie\", \"Movie\", \"Series\", \"Movie\", \"Series\", \"Movie\", \"Series\", \"Movie\", \"Movie\", \"Movie\", \"Movie\", \"Series\", \"Movie\", \"Movie\", \"Movie\", \"Movie\", \"Movie\", \"Movie\", \"Movie\", \"Movie\", \"Movie\", \"Movie\", \"Movie\", \"Movie\", \"Movie\", \"Movie\", \"Movie\", \"Movie\", \"Movie\", \"Movie\", \"Movie\", \"Series\", \"Series\", \"Series\", \"Movie\", \"Movie\", \"Series\", \"Series\", \"Series\", \"Movie\", \"Series\", \"Movie\", \"Movie\", \"Series\", \"Movie\", \"Movie\", \"Series\", \"Series\", \"Series\", \"Movie\", \"Movie\", \"Series\", \"Movie\", \"Series\", \"Series\", \"Series\", \"Series\", \"Movie\", \"Movie\", \"Movie\", \"Movie\", \"Movie\", \"Series\", \"Series\", \"Movie\", \"Movie\", \"Movie\", \"Movie\", \"Movie\", \"Movie\", \"Series\", \"Series\", \"Series\", \"Movie\", \"Movie\", \"Movie\", \"Series\", \"Movie\", \"Movie\", \"Movie\", \"Movie\", \"Movie\", \"Movie\", \"Movie\", \"Series\", \"Movie\", \"Movie\", \"Movie\", \"Movie\", \"Movie\", \"Movie\", \"Movie\", \"Movie\", \"Movie\", \"Movie\", \"Movie\", \"Movie\", \"Movie\", \"Movie\", \"Series\", \"Movie\", \"Series\", \"Movie\", \"Movie\", \"Movie\", \"Movie\", \"Movie\", \"Series\", \"Movie\", \"Movie\", \"Movie\", \"Movie\", \"Movie\", \"Series\", \"Series\", \"Movie\", \"Movie\", \"Movie\", \"Movie\", \"Movie\", \"Movie\", \"Movie\", \"Movie\", \"Movie\", \"Movie\", \"Movie\", \"Movie\", \"Movie\", \"Movie\", \"Movie\", \"Movie\", \"Movie\", \"Movie\", \"Movie\", \"Movie\", \"Movie\", \"Movie\", \"Movie\", \"Movie\", \"Movie\", \"Movie\", \"Movie\", \"Movie\", \"Series\", \"Series\", \"Movie\", \"Movie\", \"Movie\", \"Series\", \"Series\", \"Series\", \"Series\", \"Movie\", \"Movie\", \"Movie\", \"Movie\", \"Movie\", \"Movie\", \"Series\", \"Series\", \"Movie\", \"Series\", \"Series\", \"Series\", \"Series\", \"Movie\", \"Movie\", \"Movie\", \"Movie\", \"Movie\", \"Movie\", \"Movie\", \"Movie\", \"Movie\", \"Movie\", \"Movie\", \"Movie\", \"Series\", \"Series\", \"Movie\", \"Movie\", \"Series\", \"Series\", \"Series\", \"Series\", \"Movie\", \"Movie\", \"Movie\", \"Movie\", \"Movie\", \"Movie\", \"Movie\", \"Movie\", \"Series\", \"Series\", \"Movie\", \"Movie\", \"Movie\", \"Movie\", \"Movie\", \"Movie\", \"Movie\", \"Movie\", \"Movie\", \"Movie\", \"Series\", \"Movie\", \"Movie\", \"Movie\", \"Movie\", \"Movie\", \"Series\", \"Series\", \"Movie\", \"Series\", \"Series\", \"Series\", \"Series\", \"Series\", \"Series\", \"Movie\", \"Movie\", \"Movie\", \"Movie\", \"Movie\", \"Movie\", \"Movie\", \"Movie\", \"Movie\", \"Movie\", \"Movie\", \"Movie\", \"Movie\", \"Movie\", \"Movie\", \"Movie\", \"Movie\", \"Movie\", \"Movie\", \"Movie\", \"Movie\", \"Movie\", \"Movie\", \"Movie\", \"Movie\", \"Movie\", \"Movie\", \"Series\", \"Movie\", \"Movie\", \"Movie\", \"Series\", \"Series\", \"Series\", \"Series\", \"Movie\", \"Movie\", \"Series\", \"Movie\", \"Movie\", \"Movie\", \"Movie\", \"Series\", \"Series\", \"Movie\", \"Series\", \"Movie\", \"Movie\", \"Movie\", \"Movie\", \"Movie\", \"Movie\", \"Movie\", \"Movie\", \"Series\", \"Movie\", \"Movie\", \"Movie\", \"Movie\", \"Movie\", \"Movie\", \"Movie\", \"Movie\", \"Movie\", \"Movie\", \"Movie\", \"Movie\", \"Movie\", \"Movie\", \"Movie\", \"Movie\", \"Movie\", \"Movie\", \"Movie\", \"Series\", \"Series\", \"Series\", \"Movie\", \"Series\", \"Movie\", \"Movie\", \"Series\", \"Series\", \"Movie\", \"Movie\", \"Movie\", \"Movie\", \"Movie\", \"Movie\", \"Movie\", \"Movie\", \"Series\", \"Movie\", \"Movie\", \"Movie\", \"Movie\", \"Movie\", \"Movie\", \"Movie\", \"Series\", \"Series\", \"Series\", \"Series\", \"Series\", \"Series\", \"Series\", \"Movie\", \"Movie\", \"Movie\", \"Movie\", \"Movie\", \"Movie\", \"Movie\", \"Movie\", \"Movie\", \"Movie\", \"Series\", \"Series\", \"Movie\", \"Series\", \"Movie\", \"Movie\", \"Movie\", \"Movie\", \"Series\", \"Movie\", \"Movie\", \"Movie\", \"Movie\", \"Movie\", \"Movie\", \"Movie\", \"Movie\", \"Series\", \"Movie\", \"Series\", \"Movie\", \"Series\", \"Series\", \"Movie\", \"Movie\", \"Movie\", \"Movie\", \"Movie\", \"Movie\", \"Movie\", \"Movie\", \"Series\", \"Movie\", \"Movie\", \"Movie\", \"Movie\", \"Movie\", \"Series\", \"Series\", \"Movie\", \"Movie\", \"Series\", \"Movie\", \"Series\", \"Movie\", \"Series\", \"Movie\", \"Movie\", \"Series\", \"Movie\", \"Movie\", \"Movie\", \"Movie\", \"Movie\", \"Movie\", \"Movie\", \"Movie\", \"Movie\", \"Movie\", \"Movie\", \"Movie\", \"Series\", \"Movie\", \"Movie\", \"Series\", \"Series\", \"Movie\", \"Movie\", \"Movie\", \"Movie\", \"Movie\", \"Series\", \"Movie\", \"Movie\", \"Movie\", \"Movie\", \"Movie\", \"Series\", \"Series\", \"Movie\", \"Movie\", \"Movie\", \"Movie\", \"Series\", \"Movie\", \"Movie\", \"Movie\", \"Movie\", \"Movie\", \"Series\", \"Movie\", \"Movie\", \"Movie\", \"Movie\", \"Movie\", \"Movie\", \"Movie\", \"Movie\", \"Series\", \"Movie\", \"Movie\", \"Movie\", \"Movie\", \"Series\", \"Series\", \"Movie\", \"Movie\", \"Series\", \"Movie\", \"Movie\", \"Movie\", \"Movie\", \"Movie\", \"Movie\", \"Movie\", \"Series\", \"Movie\", \"Movie\", \"Movie\", \"Movie\", \"Movie\", \"Movie\", \"Movie\", \"Movie\", \"Movie\", \"Movie\", \"Movie\", \"Movie\", \"Series\", \"Movie\", \"Movie\", \"Movie\", \"Movie\", \"Series\", \"Movie\", \"Movie\", \"Movie\", \"Movie\", \"Movie\", \"Movie\", \"Movie\", \"Movie\", \"Series\", \"Movie\", \"Movie\", \"Movie\", \"Series\", \"Movie\", \"Movie\", \"Movie\", \"Movie\", \"Movie\", \"Movie\", \"Movie\", \"Movie\", \"Movie\", \"Movie\", \"Movie\", \"Movie\", \"Movie\", \"Series\", \"Movie\", \"Movie\", \"Series\", \"Series\", \"Movie\", \"Movie\", \"Series\", \"Series\", \"Series\", \"Movie\", \"Movie\", \"Movie\", \"Series\", \"Movie\", \"Series\", \"Movie\", \"Movie\", \"Movie\", \"Movie\", \"Movie\", \"Movie\", \"Series\", \"Movie\", \"Series\", \"Movie\", \"Movie\", \"Movie\", \"Movie\", \"Movie\", \"Movie\", \"Movie\", \"Series\", \"Movie\", \"Movie\", \"Movie\", \"Series\", \"Series\", \"Movie\", \"Movie\", \"Series\", \"Series\", \"Movie\", \"Series\", \"Movie\", \"Movie\", \"Movie\", \"Movie\", \"Movie\", \"Movie\", \"Movie\", \"Movie\", \"Movie\", \"Movie\", \"Movie\", \"Movie\", \"Movie\", \"Movie\", \"Movie\", \"Series\", \"Movie\", \"Movie\", \"Series\", \"Movie\", \"Series\", \"Movie\", \"Movie\", \"Series\", \"Movie\", \"Series\", \"Series\", \"Series\", \"Movie\", \"Series\", \"Series\", \"Movie\", \"Movie\", \"Movie\", \"Movie\", \"Movie\", \"Movie\", \"Movie\", \"Movie\", \"Movie\", \"Movie\", \"Movie\", \"Movie\", \"Movie\", \"Movie\", \"Movie\", \"Series\", \"Movie\", \"Movie\", \"Movie\", \"Movie\", \"Series\", \"Movie\", \"Movie\", \"Movie\", \"Movie\", \"Series\", \"Movie\", \"Movie\", \"Movie\", \"Movie\", \"Series\", \"Series\", \"Series\", \"Series\", \"Movie\", \"Movie\", \"Movie\", \"Movie\", \"Movie\", \"Movie\", \"Movie\", \"Movie\", \"Movie\", \"Movie\", \"Movie\", \"Movie\", \"Movie\", \"Series\", \"Movie\", \"Movie\", \"Movie\", \"Movie\", \"Movie\", \"Movie\", \"Movie\", \"Series\", \"Movie\", \"Series\", \"Movie\", \"Series\", \"Movie\", \"Movie\", \"Movie\", \"Movie\", \"Movie\", \"Movie\", \"Movie\", \"Movie\", \"Movie\", \"Movie\", \"Movie\", \"Movie\", \"Movie\", \"Movie\", \"Series\", \"Movie\", \"Movie\", \"Series\", \"Series\", \"Movie\", \"Movie\", \"Series\", \"Series\", \"Movie\", \"Series\", \"Movie\", \"Movie\", \"Movie\", \"Movie\", \"Movie\", \"Movie\", \"Movie\", \"Movie\", \"Movie\", \"Movie\", \"Movie\", \"Movie\", \"Movie\", \"Movie\", \"Movie\", \"Movie\", \"Movie\", \"Movie\", \"Movie\", \"Movie\", \"Movie\", \"Movie\", \"Movie\", \"Movie\", \"Movie\", \"Movie\", \"Movie\", \"Movie\", \"Movie\", \"Movie\", \"Movie\", \"Movie\", \"Movie\", \"Movie\", \"Series\", \"Movie\", \"Series\", \"Movie\", \"Series\", \"Movie\", \"Movie\", \"Series\", \"Movie\", \"Series\", \"Series\", \"Series\", \"Movie\", \"Movie\", \"Movie\", \"Movie\", \"Series\", \"Series\", \"Series\", \"Series\", \"Series\", \"Series\", \"Movie\", \"Movie\", \"Series\", \"Series\", \"Series\", \"Series\", \"Series\", \"Series\", \"Series\", \"Series\", \"Series\", \"Series\", \"Series\", \"Movie\", \"Movie\", \"Movie\", \"Movie\", \"Movie\", \"Movie\", \"Movie\", \"Movie\", \"Movie\", \"Series\", \"Movie\", \"Movie\", \"Movie\", \"Movie\", \"Series\", \"Movie\", \"Movie\", \"Movie\", \"Movie\", \"Movie\", \"Movie\", \"Movie\", \"Movie\", \"Movie\", \"Movie\", \"Movie\", \"Movie\", \"Movie\", \"Movie\", \"Movie\", \"Movie\", \"Movie\", \"Movie\", \"Movie\", \"Movie\", \"Movie\", \"Movie\", \"Movie\", \"Movie\", \"Movie\", \"Movie\", \"Movie\", \"Movie\", \"Movie\", \"Movie\", \"Movie\", \"Movie\", \"Movie\", \"Movie\", \"Movie\", \"Series\", \"Movie\", \"Movie\", \"Series\", \"Series\", \"Series\", \"Series\", \"Movie\", \"Movie\", \"Movie\", \"Series\", \"Series\", \"Movie\", \"Movie\", \"Series\", \"Movie\", \"Movie\", \"Movie\", \"Movie\", \"Movie\", \"Movie\", \"Series\", \"Movie\", \"Series\", \"Series\", \"Series\", \"Series\", \"Movie\", \"Series\", \"Movie\", \"Movie\", \"Movie\", \"Movie\", \"Movie\", \"Movie\", \"Movie\", \"Series\", \"Series\", \"Series\", \"Movie\", \"Movie\", \"Movie\", \"Movie\", \"Movie\", \"Series\", \"Movie\", \"Movie\", \"Movie\", \"Movie\", \"Movie\", \"Series\", \"Movie\", \"Series\", \"Series\", \"Series\", \"Series\", \"Series\", \"Movie\", \"Movie\", \"Movie\", \"Series\", \"Movie\", \"Series\", \"Movie\", \"Movie\", \"Movie\", \"Movie\", \"Movie\", \"Movie\", \"Movie\", \"Movie\", \"Movie\", \"Movie\", \"Series\", \"Movie\", \"Movie\", \"Series\", \"Movie\", \"Movie\", \"Movie\", \"Movie\", \"Movie\", \"Movie\", \"Movie\", \"Movie\", \"Movie\", \"Movie\", \"Series\", \"Movie\", \"Movie\", \"Movie\", \"Movie\", \"Series\", \"Movie\", \"Movie\", \"Movie\", \"Movie\", \"Movie\", \"Movie\", \"Movie\", \"Movie\", \"Movie\", \"Movie\", \"Movie\", \"Movie\", \"Movie\", \"Movie\", \"Movie\", \"Movie\", \"Movie\", \"Movie\", \"Movie\", \"Movie\", \"Movie\", \"Movie\", \"Movie\", \"Movie\", \"Series\", \"Movie\", \"Series\", \"Series\", \"Movie\", \"Movie\", \"Movie\", \"Movie\", \"Movie\", \"Movie\", \"Series\", \"Series\", \"Series\", \"Series\", \"Movie\", \"Movie\", \"Series\", \"Movie\", \"Movie\", \"Series\", \"Series\", \"Movie\", \"Movie\", \"Movie\", \"Movie\", \"Series\", \"Series\", \"Movie\", \"Movie\", \"Movie\", \"Series\", \"Series\", \"Movie\", \"Series\", \"Movie\", \"Series\", \"Series\", \"Movie\", \"Series\", \"Movie\", \"Series\", \"Series\", \"Series\", \"Movie\", \"Movie\", \"Series\", \"Series\", \"Series\", \"Movie\", \"Movie\", \"Movie\", \"Movie\", \"Movie\", \"Series\", \"Series\", \"Movie\", \"Movie\", \"Series\", \"Series\", \"Movie\", \"Movie\", \"Movie\", \"Movie\", \"Series\", \"Series\", \"Series\", \"Series\", \"Series\", \"Series\", \"Series\", \"Series\", \"Movie\", \"Series\", \"Movie\", \"Movie\", \"Movie\", \"Movie\", \"Movie\", \"Movie\", \"Movie\", \"Movie\", \"Movie\", \"Movie\", \"Movie\", \"Movie\", \"Series\", \"Series\", \"Movie\", \"Series\", \"Movie\", \"Movie\", \"Movie\", \"Movie\", \"Movie\", \"Movie\", \"Movie\", \"Movie\", \"Movie\", \"Series\", \"Series\", \"Movie\", \"Movie\", \"Movie\", \"Movie\", \"Series\", \"Series\", \"Movie\", \"Series\", \"Series\", \"Series\", \"Series\", \"Series\", \"Movie\", \"Movie\", \"Movie\", \"Movie\", \"Movie\", \"Movie\", \"Series\", \"Series\", \"Movie\", \"Movie\", \"Series\", \"Movie\", \"Movie\", \"Movie\", \"Movie\", \"Movie\", \"Series\", \"Movie\", \"Movie\", \"Movie\", \"Movie\", \"Series\", \"Movie\", \"Movie\", \"Movie\", \"Series\", \"Movie\", \"Movie\", \"Movie\", \"Movie\", \"Movie\", \"Movie\", \"Series\", \"Series\", \"Series\", \"Movie\", \"Series\", \"Movie\", \"Movie\", \"Movie\", \"Movie\", \"Movie\", \"Movie\", \"Movie\", \"Series\", \"Movie\", \"Movie\", \"Movie\", \"Movie\", \"Movie\", \"Movie\", \"Movie\", \"Movie\", \"Movie\", \"Movie\", \"Movie\", \"Movie\", \"Movie\", \"Movie\", \"Movie\", \"Movie\", \"Movie\", \"Movie\", \"Movie\", \"Movie\", \"Movie\", \"Movie\", \"Movie\", \"Movie\", \"Movie\", \"Movie\", \"Movie\", \"Movie\", \"Movie\", \"Movie\", \"Movie\", \"Movie\", \"Movie\", \"Movie\", \"Movie\", \"Movie\", \"Movie\", \"Movie\", \"Movie\", \"Movie\", \"Movie\", \"Movie\", \"Movie\", \"Movie\", \"Movie\", \"Movie\", \"Movie\", \"Movie\", \"Series\", \"Movie\", \"Movie\", \"Series\", \"Series\", \"Series\", \"Series\", \"Series\", \"Movie\", \"Movie\", \"Movie\", \"Movie\", \"Movie\", \"Movie\", \"Movie\", \"Movie\", \"Movie\", \"Series\", \"Series\", \"Movie\", \"Series\", \"Movie\", \"Movie\", \"Movie\", \"Movie\", \"Movie\", \"Movie\", \"Series\", \"Movie\", \"Movie\", \"Movie\", \"Series\", \"Movie\", \"Movie\", \"Movie\", \"Movie\", \"Series\", \"Movie\", \"Movie\", \"Movie\", \"Movie\", \"Movie\", \"Movie\", \"Movie\", \"Movie\", \"Movie\", \"Series\", \"Series\", \"Series\", \"Movie\", \"Movie\", \"Movie\", \"Movie\", \"Series\", \"Series\", \"Series\", \"Series\", \"Series\", \"Series\", \"Movie\", \"Movie\", \"Movie\", \"Movie\", \"Movie\", \"Movie\", \"Movie\", \"Movie\", \"Movie\", \"Series\", \"Series\", \"Series\", \"Series\", \"Series\", \"Series\", \"Movie\", \"Movie\", \"Series\", \"Movie\", \"Movie\", \"Movie\", \"Movie\", \"Movie\", \"Movie\", \"Series\", \"Series\", \"Series\", \"Movie\", \"Series\", \"Movie\", \"Movie\", \"Series\", \"Movie\", \"Series\", \"Movie\", \"Movie\", \"Movie\", \"Movie\", \"Series\", \"Movie\", \"Movie\", \"Series\", \"Movie\", \"Movie\", \"Movie\", \"Series\", \"Series\", \"Movie\", \"Movie\", \"Movie\", \"Series\", \"Series\", \"Series\", \"Series\", \"Movie\", \"Movie\", \"Series\", \"Series\", \"Movie\", \"Movie\", \"Movie\", \"Movie\", \"Movie\", \"Series\", \"Series\", \"Movie\", \"Movie\", \"Movie\", \"Movie\", \"Movie\", \"Series\", \"Series\", \"Series\", \"Series\", \"Series\", \"Series\", \"Series\", \"Movie\", \"Movie\", \"Movie\", \"Movie\", \"Movie\", \"Movie\", \"Movie\", \"Movie\", \"Movie\", \"Movie\", \"Movie\", \"Movie\", \"Movie\", \"Movie\", \"Movie\", \"Movie\", \"Movie\", \"Movie\", \"Movie\", \"Movie\", \"Movie\", \"Movie\", \"Movie\", \"Movie\", \"Movie\", \"Movie\", \"Movie\", \"Movie\", \"Movie\", \"Movie\", \"Movie\", \"Movie\", \"Movie\", \"Movie\", \"Movie\", \"Movie\", \"Movie\", \"Movie\", \"Movie\", \"Movie\", \"Movie\", \"Movie\", \"Movie\", \"Movie\", \"Movie\", \"Movie\", \"Movie\", \"Movie\", \"Movie\", \"Movie\", \"Movie\", \"Movie\", \"Movie\", \"Movie\", \"Movie\", \"Movie\", \"Movie\", \"Movie\", \"Movie\", \"Movie\", \"Movie\", \"Movie\", \"Movie\", \"Movie\", \"Movie\", \"Movie\", \"Movie\", \"Movie\", \"Movie\", \"Movie\", \"Movie\", \"Movie\", \"Movie\", \"Movie\", \"Movie\", \"Movie\", \"Movie\", \"Movie\", \"Movie\", \"Movie\", \"Movie\", \"Movie\", \"Movie\", \"Movie\", \"Movie\", \"Movie\", \"Movie\", \"Movie\", \"Series\", \"Series\", \"Series\", \"Series\", \"Movie\", \"Movie\", \"Movie\", \"Movie\", \"Movie\", \"Movie\", \"Movie\", \"Movie\", \"Movie\", \"Movie\", \"Movie\", \"Movie\", \"Movie\", \"Movie\", \"Movie\", \"Movie\", \"Movie\", \"Movie\", \"Movie\", \"Movie\", \"Movie\", \"Movie\", \"Movie\", \"Movie\", \"Movie\", \"Movie\", \"Movie\", \"Movie\", \"Movie\", \"Movie\", \"Movie\", \"Movie\", \"Movie\", \"Movie\", \"Movie\", \"Movie\", \"Movie\", \"Movie\", \"Movie\", \"Movie\", \"Movie\", \"Movie\", \"Series\", \"Series\", \"Series\", \"Series\", \"Series\", \"Movie\", \"Movie\", \"Movie\", \"Movie\", \"Movie\", \"Series\", \"Movie\", \"Movie\", \"Movie\", \"Series\", \"Movie\", \"Movie\", \"Movie\", \"Movie\", \"Movie\", \"Movie\", \"Movie\", \"Movie\", \"Movie\", \"Series\", \"Movie\", \"Movie\", \"Series\", \"Series\", \"Series\", \"Series\", \"Movie\", \"Movie\", \"Movie\", \"Movie\", \"Movie\", \"Movie\", \"Movie\", \"Movie\", \"Movie\", \"Movie\", \"Movie\", \"Movie\", \"Movie\", \"Movie\", \"Series\", \"Movie\", \"Series\", \"Series\", \"Series\", \"Movie\", \"Series\", \"Movie\", \"Movie\", \"Series\", \"Movie\", \"Movie\", \"Movie\", \"Movie\", \"Movie\", \"Movie\", \"Movie\", \"Series\", \"Series\", \"Series\", \"Series\", \"Movie\", \"Series\", \"Movie\", \"Movie\", \"Movie\", \"Movie\", \"Movie\", \"Series\", \"Movie\", \"Movie\", \"Movie\", \"Series\", \"Movie\", \"Movie\", \"Movie\", \"Movie\", \"Series\", \"Series\", \"Movie\", \"Movie\", \"Movie\", \"Movie\", \"Movie\", \"Movie\", \"Movie\", \"Movie\", \"Movie\", \"Movie\", \"Movie\", \"Series\", \"Movie\", \"Movie\", \"Series\", \"Movie\", \"Movie\", \"Movie\", \"Movie\", \"Movie\", \"Movie\", \"Series\", \"Movie\", \"Movie\", \"Movie\", \"Movie\", \"Movie\", \"Series\", \"Movie\", \"Movie\", \"Movie\", \"Series\", \"Movie\", \"Movie\", \"Movie\", \"Movie\", \"Movie\", \"Movie\", \"Movie\", \"Movie\", \"Movie\", \"Movie\", \"Movie\", \"Series\", \"Movie\", \"Series\", \"Series\", \"Movie\", \"Movie\", \"Movie\", \"Series\", \"Movie\", \"Movie\", \"Movie\", \"Movie\", \"Series\", \"Series\", \"Series\", \"Movie\", \"Movie\", \"Movie\", \"Movie\", \"Series\", \"Series\", \"Series\", \"Movie\", \"Movie\", \"Movie\", \"Movie\", \"Movie\", \"Movie\", \"Movie\", \"Movie\", \"Movie\", \"Movie\", \"Movie\", \"Movie\", \"Movie\", \"Movie\", \"Series\", \"Series\", \"Series\", \"Movie\", \"Movie\", \"Series\", \"Series\", \"Movie\", \"Movie\", \"Movie\", \"Movie\", \"Movie\", \"Movie\", \"Movie\", \"Movie\", \"Movie\", \"Movie\", \"Movie\", \"Movie\", \"Movie\", \"Movie\", \"Movie\", \"Movie\", \"Series\", \"Movie\", \"Movie\", \"Movie\", \"Movie\", \"Movie\", \"Movie\", \"Series\", \"Movie\", \"Movie\", \"Movie\", \"Movie\", \"Movie\", \"Series\", \"Series\", \"Series\", \"Series\", \"Series\", \"Series\", \"Movie\", \"Series\", \"Movie\", \"Movie\", \"Movie\", \"Movie\", \"Movie\", \"Movie\", \"Movie\", \"Movie\", \"Series\", \"Series\", \"Movie\", \"Movie\", \"Series\", \"Movie\", \"Movie\", \"Series\", \"Movie\", \"Movie\", \"Series\", \"Movie\", \"Movie\", \"Movie\", \"Movie\", \"Series\", \"Series\", \"Movie\", \"Series\", \"Movie\", \"Movie\", \"Movie\", \"Movie\", \"Series\", \"Movie\", \"Series\", \"Series\", \"Movie\", \"Movie\", \"Movie\", \"Movie\", \"Series\", \"Movie\", \"Movie\", \"Movie\", \"Movie\", \"Movie\", \"Movie\", \"Movie\", \"Movie\", \"Movie\", \"Movie\", \"Movie\", \"Movie\", \"Movie\", \"Movie\", \"Movie\", \"Movie\", \"Movie\", \"Movie\", \"Series\", \"Movie\", \"Movie\", \"Movie\", \"Movie\", \"Movie\", \"Movie\", \"Movie\", \"Movie\", \"Movie\", \"Movie\", \"Movie\", \"Movie\", \"Movie\", \"Movie\", \"Movie\", \"Movie\", \"Movie\", \"Movie\", \"Series\", \"Movie\", \"Movie\", \"Movie\", \"Series\", \"Series\", \"Movie\", \"Movie\", \"Series\", \"Movie\", \"Movie\", \"Movie\", \"Movie\", \"Movie\", \"Series\", \"Movie\", \"Movie\", \"Series\", \"Movie\", \"Series\", \"Movie\", \"Movie\", \"Series\", \"Series\", \"Movie\", \"Movie\", \"Movie\", \"Movie\", \"Movie\", \"Series\", \"Series\", \"Movie\", \"Movie\", \"Movie\", \"Movie\", \"Movie\", \"Series\", \"Movie\", \"Series\", \"Movie\", \"Series\", \"Series\", \"Series\", \"Series\", \"Movie\", \"Series\", \"Movie\", \"Series\", \"Movie\", \"Movie\", \"Movie\", \"Movie\", \"Series\", \"Series\", \"Movie\", \"Movie\", \"Movie\", \"Series\", \"Movie\", \"Series\", \"Series\", \"Series\", \"Series\", \"Series\", \"Movie\", \"Series\", \"Series\", \"Series\", \"Series\", \"Movie\", \"Movie\", \"Series\", \"Series\", \"Movie\", \"Movie\", \"Series\", \"Series\", \"Movie\", \"Movie\", \"Movie\", \"Series\", \"Movie\", \"Movie\", \"Movie\", \"Movie\", \"Movie\", \"Movie\", \"Series\", \"Movie\", \"Movie\", \"Movie\", \"Movie\", \"Movie\", \"Movie\", \"Movie\", \"Movie\", \"Movie\", \"Movie\", \"Series\", \"Movie\", \"Movie\", \"Movie\", \"Movie\", \"Movie\", \"Movie\", \"Movie\", \"Movie\", \"Movie\", \"Movie\", \"Movie\", \"Movie\", \"Movie\", \"Movie\", \"Series\", \"Series\", \"Movie\", \"Movie\", \"Series\", \"Movie\", \"Movie\", \"Movie\", \"Series\", \"Series\", \"Movie\", \"Series\", \"Series\", \"Movie\", \"Movie\", \"Series\", \"Movie\", \"Movie\", \"Movie\", \"Movie\", \"Series\", \"Movie\", \"Movie\", \"Series\", \"Movie\", \"Movie\", \"Movie\", \"Movie\", \"Movie\", \"Series\", \"Movie\", \"Movie\", \"Movie\", \"Series\", \"Movie\", \"Series\", \"Series\", \"Movie\", \"Movie\", \"Movie\", \"Movie\", \"Movie\", \"Movie\", \"Movie\", \"Movie\", \"Series\", \"Series\", \"Movie\", \"Movie\", \"Series\", \"Series\", \"Movie\", \"Movie\", \"Series\", \"Series\", \"Movie\", \"Movie\", \"Movie\", \"Movie\", \"Series\", \"Movie\", \"Movie\", \"Movie\", \"Movie\", \"Movie\", \"Series\", \"Movie\", \"Series\", \"Series\", \"Series\", \"Movie\", \"Movie\", \"Movie\", \"Movie\", \"Series\", \"Movie\", \"Movie\", \"Movie\", \"Movie\", \"Series\", \"Series\", \"Movie\", \"Movie\", \"Movie\", \"Movie\", \"Series\", \"Movie\", \"Movie\", \"Movie\", \"Movie\", \"Movie\", \"Movie\", \"Movie\", \"Movie\", \"Movie\", \"Movie\", \"Movie\", \"Movie\", \"Movie\", \"Movie\", \"Movie\", \"Movie\", \"Movie\", \"Movie\", \"Movie\", \"Series\", \"Movie\", \"Movie\", \"Movie\", \"Movie\", \"Movie\", \"Movie\", \"Series\", \"Movie\", \"Movie\", \"Series\", \"Movie\", \"Series\", \"Movie\", \"Series\", \"Movie\", \"Movie\", \"Movie\", \"Movie\", \"Movie\", \"Movie\", \"Movie\", \"Movie\", \"Movie\", \"Series\", \"Movie\", \"Movie\", \"Series\", \"Movie\", \"Movie\", \"Movie\", \"Movie\", \"Movie\", \"Series\", \"Series\", \"Movie\", \"Movie\", \"Movie\", \"Movie\", \"Movie\", \"Movie\", \"Series\", \"Movie\", \"Movie\", \"Movie\", \"Movie\", \"Movie\", \"Movie\", \"Series\", \"Series\", \"Movie\", \"Movie\", \"Movie\", \"Movie\", \"Movie\", \"Movie\", \"Movie\", \"Movie\", \"Movie\", \"Movie\", \"Movie\", \"Movie\", \"Movie\", \"Movie\", \"Movie\", \"Series\", \"Movie\", \"Movie\", \"Movie\", \"Movie\", \"Movie\", \"Series\", \"Series\", \"Movie\", \"Series\", \"Movie\", \"Movie\", \"Series\", \"Series\", \"Series\", \"Series\", \"Series\", \"Movie\", \"Movie\", \"Series\", \"Movie\", \"Movie\", \"Movie\", \"Movie\", \"Movie\", \"Series\", \"Movie\", \"Series\", \"Movie\", \"Movie\", \"Series\", \"Series\", \"Series\", \"Movie\", \"Series\", \"Movie\", \"Series\", \"Movie\", \"Movie\", \"Movie\", \"Series\", \"Movie\", \"Series\", \"Movie\", \"Movie\", \"Movie\", \"Series\", \"Series\", \"Movie\", \"Movie\", \"Movie\", \"Movie\", \"Series\", \"Movie\", \"Movie\", \"Movie\", \"Series\", \"Movie\", \"Movie\", \"Movie\", \"Movie\", \"Series\", \"Movie\", \"Movie\", \"Movie\", \"Series\", \"Movie\", \"Series\", \"Movie\", \"Movie\", \"Movie\", \"Movie\", \"Movie\", \"Movie\", \"Movie\", \"Series\", \"Series\", \"Movie\", \"Movie\", \"Movie\", \"Movie\", \"Series\", \"Movie\", \"Movie\", \"Movie\", \"Movie\", \"Movie\", \"Movie\", \"Movie\", \"Movie\", \"Movie\", \"Movie\", \"Series\", \"Movie\", \"Movie\", \"Movie\", \"Movie\", \"Movie\", \"Series\", \"Movie\", \"Movie\", \"Movie\", \"Movie\", \"Movie\", \"Movie\", \"Movie\", \"Movie\", \"Movie\", \"Movie\", \"Movie\", \"Movie\", \"Movie\", \"Movie\", \"Movie\", \"Series\", \"Movie\", \"Movie\", \"Series\", \"Movie\", \"Movie\", \"Movie\", \"Movie\", \"Movie\", \"Series\", \"Movie\", \"Movie\", \"Movie\", \"Movie\", \"Movie\", \"Movie\", \"Series\", \"Series\", \"Series\", \"Movie\", \"Series\", \"Series\", \"Movie\", \"Movie\", \"Movie\", \"Movie\", \"Movie\", \"Movie\", \"Movie\", \"Movie\", \"Movie\", \"Movie\", \"Series\", \"Movie\", \"Movie\", \"Movie\", \"Movie\", \"Movie\", \"Movie\", \"Movie\", \"Movie\", \"Movie\", \"Movie\", \"Movie\", \"Series\", \"Movie\", \"Movie\", \"Movie\", \"Series\", \"Movie\", \"Movie\", \"Movie\", \"Series\", \"Series\", \"Series\", \"Movie\", \"Series\", \"Series\", \"Movie\", \"Movie\", \"Movie\", \"Movie\", \"Movie\", \"Movie\", \"Series\", \"Series\", \"Movie\", \"Series\", \"Movie\", \"Series\", \"Series\", \"Movie\", \"Series\", \"Series\", \"Movie\", \"Movie\", \"Movie\", \"Movie\", \"Movie\", \"Movie\", \"Movie\", \"Movie\", \"Movie\", \"Movie\", \"Movie\", \"Movie\", \"Series\", \"Movie\", \"Series\", \"Series\", \"Movie\", \"Movie\", \"Series\", \"Movie\", \"Series\", \"Movie\", \"Series\", \"Movie\", \"Movie\", \"Movie\", \"Movie\", \"Movie\", \"Movie\", \"Series\", \"Series\", \"Movie\", \"Movie\", \"Movie\", \"Series\", \"Movie\", \"Series\", \"Series\", \"Movie\", \"Movie\", \"Movie\", \"Movie\", \"Movie\", \"Series\", \"Series\", \"Movie\", \"Series\", \"Movie\", \"Movie\", \"Movie\", \"Movie\", \"Movie\", \"Movie\", \"Movie\", \"Movie\", \"Movie\", \"Movie\", \"Movie\", \"Series\", \"Movie\", \"Movie\", \"Movie\", \"Movie\", \"Series\", \"Movie\", \"Movie\", \"Movie\", \"Movie\", \"Movie\", \"Series\", \"Series\", \"Series\", \"Series\", \"Series\", \"Series\", \"Series\", \"Series\", \"Series\", \"Series\", \"Movie\", \"Movie\", \"Movie\", \"Series\", \"Series\", \"Series\", \"Series\", \"Series\", \"Movie\", \"Movie\", \"Movie\", \"Movie\", \"Series\", \"Movie\", \"Movie\", \"Movie\", \"Series\", \"Series\", \"Series\", \"Series\", \"Movie\", \"Movie\", \"Series\", \"Movie\", \"Series\", \"Series\", \"Series\", \"Series\", \"Series\", \"Movie\", \"Series\", \"Series\", \"Series\", \"Series\", \"Series\", \"Series\", \"Series\", \"Series\", \"Series\", \"Series\", \"Movie\", \"Series\", \"Series\", \"Series\", \"Series\", \"Series\", \"Series\", \"Movie\", \"Movie\", \"Series\", \"Series\", \"Movie\", \"Series\", \"Series\", \"Movie\", \"Movie\", \"Movie\", \"Series\", \"Series\", \"Movie\", \"Series\", \"Series\", \"Movie\", \"Movie\", \"Movie\", \"Series\", \"Movie\", \"Series\", \"Movie\", \"Series\", \"Series\", \"Series\", \"Movie\", \"Movie\", \"Movie\", \"Movie\", \"Movie\", \"Movie\", \"Movie\", \"Series\", \"Series\", \"Series\", \"Movie\", \"Series\", \"Series\", \"Series\", \"Series\", \"Series\", \"Movie\", \"Movie\", \"Series\", \"Movie\", \"Movie\", \"Movie\", \"Series\", \"Series\", \"Movie\", \"Movie\", \"Series\", \"Series\", \"Series\", \"Movie\", \"Movie\", \"Series\", \"Series\", \"Series\", \"Movie\", \"Series\", \"Movie\", \"Movie\", \"Movie\", \"Movie\", \"Movie\", \"Movie\", \"Movie\", \"Movie\", \"Movie\", \"Movie\", \"Movie\", \"Series\", \"Series\", \"Movie\", \"Movie\", \"Movie\", \"Series\", \"Series\", \"Series\", \"Movie\", \"Movie\", \"Movie\", \"Series\", \"Series\", \"Movie\", \"Series\", \"Series\", \"Movie\", \"Series\", \"Series\", \"Series\", \"Movie\", \"Movie\", \"Movie\", \"Movie\", \"Movie\", \"Movie\", \"Series\", \"Movie\", \"Movie\", \"Series\", \"Movie\", \"Movie\", \"Movie\", \"Movie\", \"Movie\", \"Movie\", \"Movie\", \"Movie\", \"Movie\", \"Movie\", \"Movie\", \"Series\", \"Movie\", \"Series\", \"Movie\", \"Series\", \"Series\", \"Series\", \"Movie\", \"Series\", \"Movie\", \"Movie\", \"Movie\", \"Movie\", \"Series\", \"Movie\", \"Series\", \"Movie\", \"Movie\", \"Movie\", \"Movie\", \"Movie\", \"Movie\", \"Movie\", \"Movie\", \"Movie\", \"Movie\", \"Movie\", \"Movie\", \"Movie\", \"Movie\", \"Series\", \"Movie\", \"Movie\", \"Movie\", \"Movie\", \"Movie\", \"Series\", \"Movie\", \"Movie\", \"Movie\", \"Movie\", \"Series\", \"Movie\", \"Series\", \"Movie\", \"Series\", \"Movie\", \"Movie\", \"Movie\", \"Movie\", \"Movie\", \"Movie\", \"Movie\", \"Movie\", \"Movie\", \"Movie\", \"Movie\", \"Movie\", \"Movie\", \"Movie\", \"Movie\", \"Movie\", \"Movie\", \"Movie\", \"Movie\", \"Movie\", \"Movie\", \"Movie\", \"Movie\", \"Movie\", \"Movie\", \"Movie\", \"Movie\", \"Movie\", \"Movie\", \"Movie\", \"Movie\", \"Movie\", \"Movie\", \"Movie\", \"Movie\", \"Movie\", \"Movie\", \"Movie\", \"Movie\", \"Movie\", \"Movie\", \"Movie\", \"Movie\", \"Movie\", \"Series\", \"Series\", \"Series\", \"Movie\", \"Movie\", \"Movie\", \"Movie\", \"Movie\", \"Movie\", \"Series\", \"Series\", \"Movie\", \"Movie\", \"Movie\", \"Movie\", \"Movie\", \"Movie\", \"Movie\", \"Movie\", \"Movie\", \"Movie\", \"Movie\", \"Movie\", \"Movie\", \"Movie\", \"Series\", \"Movie\", \"Movie\", \"Movie\", \"Movie\", \"Series\", \"Series\", \"Movie\", \"Movie\", \"Series\", \"Movie\", \"Movie\", \"Movie\", \"Movie\", \"Movie\", \"Series\", \"Movie\", \"Series\", \"Movie\", \"Series\", \"Series\", \"Series\", \"Movie\", \"Movie\", \"Movie\", \"Movie\", \"Movie\", \"Movie\", \"Movie\", \"Movie\", \"Series\", \"Series\", \"Movie\", \"Movie\", \"Movie\", \"Movie\", \"Movie\", \"Movie\", \"Movie\", \"Movie\", \"Movie\", \"Movie\", \"Series\", \"Movie\", \"Series\", \"Movie\", \"Movie\", \"Movie\", \"Movie\", \"Movie\", \"Movie\", \"Movie\", \"Movie\", \"Movie\", \"Movie\", \"Movie\", \"Movie\", \"Movie\", \"Movie\", \"Series\", \"Series\", \"Series\", \"Movie\", \"Movie\", \"Movie\", \"Movie\", \"Movie\", \"Movie\", \"Movie\", \"Movie\", \"Movie\", \"Movie\", \"Movie\", \"Movie\", \"Movie\", \"Movie\", \"Movie\", \"Movie\", \"Movie\", \"Movie\", \"Movie\", \"Movie\", \"Movie\", \"Movie\", \"Movie\", \"Movie\", \"Movie\", \"Movie\", \"Movie\", \"Movie\", \"Movie\", \"Movie\", \"Movie\", \"Movie\", \"Movie\", \"Movie\", \"Movie\", \"Movie\", \"Series\", \"Movie\", \"Movie\", \"Movie\", \"Movie\", \"Movie\", \"Movie\", \"Movie\", \"Movie\", \"Movie\", \"Series\", \"Movie\", \"Movie\", \"Movie\", \"Series\", \"Movie\", \"Movie\", \"Movie\", \"Series\", \"Series\", \"Series\", \"Movie\", \"Movie\", \"Movie\", \"Movie\", \"Movie\", \"Series\", \"Movie\", \"Series\", \"Series\", \"Series\", \"Series\", \"Movie\", \"Series\", \"Movie\", \"Movie\", \"Series\", \"Movie\", \"Movie\", \"Movie\", \"Series\", \"Series\", \"Movie\", \"Movie\", \"Movie\", \"Series\", \"Movie\", \"Series\", \"Series\", \"Series\", \"Movie\", \"Movie\", \"Movie\", \"Series\", \"Movie\", \"Movie\", \"Movie\", \"Movie\", \"Movie\", \"Movie\", \"Movie\", \"Movie\", \"Movie\", \"Series\", \"Series\", \"Movie\", \"Movie\", \"Series\", \"Movie\", \"Movie\", \"Movie\", \"Series\", \"Series\", \"Movie\", \"Series\", \"Movie\", \"Series\", \"Movie\", \"Movie\", \"Movie\", \"Movie\", \"Movie\", \"Movie\", \"Series\", \"Movie\", \"Movie\", \"Movie\", \"Movie\", \"Movie\", \"Movie\", \"Movie\", \"Movie\", \"Movie\", \"Series\", \"Series\", \"Movie\", \"Movie\", \"Movie\", \"Movie\", \"Movie\", \"Series\", \"Movie\", \"Movie\", \"Movie\", \"Movie\", \"Movie\", \"Movie\", \"Movie\", \"Movie\", \"Series\", \"Movie\", \"Movie\", \"Movie\", \"Movie\", \"Movie\", \"Movie\", \"Movie\", \"Movie\", \"Movie\", \"Movie\", \"Movie\", \"Movie\", \"Series\", \"Series\", \"Series\", \"Movie\", \"Series\", \"Movie\", \"Series\", \"Movie\", \"Movie\", \"Series\", \"Movie\", \"Movie\", \"Movie\", \"Movie\", \"Movie\", \"Movie\", \"Series\", \"Series\", \"Movie\", \"Series\", \"Movie\", \"Movie\", \"Movie\", \"Movie\", \"Series\", \"Movie\", \"Movie\", \"Movie\", \"Movie\", \"Movie\", \"Movie\", \"Movie\", \"Movie\", \"Movie\", \"Movie\", \"Series\", \"Series\", \"Movie\", \"Series\", \"Movie\", \"Movie\", \"Movie\", \"Movie\", \"Series\", \"Series\", \"Movie\", \"Movie\", \"Movie\", \"Movie\", \"Series\", \"Movie\", \"Movie\", \"Movie\", \"Movie\", \"Movie\", \"Movie\", \"Movie\", \"Movie\", \"Series\", \"Movie\", \"Movie\", \"Series\", \"Movie\", \"Movie\", \"Movie\", \"Movie\", \"Movie\", \"Movie\", \"Series\", \"Movie\", \"Movie\", \"Movie\", \"Movie\", \"Movie\", \"Movie\", \"Movie\", \"Movie\", \"Movie\", \"Movie\", \"Movie\", \"Movie\", \"Movie\", \"Movie\", \"Movie\", \"Movie\", \"Movie\", \"Movie\", \"Series\", \"Series\", \"Movie\", \"Series\", \"Movie\", \"Movie\", \"Series\", \"Movie\", \"Movie\", \"Series\", \"Movie\", \"Series\", \"Movie\", \"Series\", \"Movie\", \"Movie\", \"Series\", \"Movie\", \"Movie\", \"Movie\", \"Movie\", \"Movie\", \"Movie\", \"Series\", \"Series\", \"Movie\", \"Series\", \"Movie\", \"Movie\", \"Series\", \"Movie\", \"Series\", \"Series\", \"Series\", \"Series\", \"Movie\", \"Series\", \"Movie\", \"Series\", \"Series\", \"Series\", \"Movie\", \"Movie\", \"Movie\", \"Movie\", \"Series\", \"Series\", \"Movie\", \"Series\", \"Series\", \"Movie\", \"Movie\", \"Movie\", \"Series\", \"Movie\", \"Movie\", \"Series\", \"Movie\", \"Movie\", \"Movie\", \"Movie\", \"Movie\", \"Movie\", \"Movie\", \"Movie\", \"Series\", \"Movie\", \"Series\", \"Series\", \"Series\", \"Movie\", \"Series\", \"Movie\", \"Series\", \"Movie\", \"Movie\", \"Movie\", \"Series\", \"Movie\", \"Movie\", \"Movie\", \"Series\", \"Movie\", \"Movie\", \"Series\", \"Series\", \"Series\", \"Movie\", \"Movie\", \"Series\", \"Movie\", \"Movie\", \"Movie\", \"Series\", \"Movie\", \"Movie\", \"Movie\", \"Movie\", \"Movie\", \"Movie\", \"Movie\", \"Movie\", \"Movie\", \"Movie\", \"Movie\", \"Movie\", \"Movie\", \"Movie\", \"Movie\", \"Movie\", \"Movie\", \"Movie\", \"Series\", \"Movie\", \"Movie\", \"Movie\", \"Movie\", \"Movie\", \"Movie\", \"Movie\", \"Series\", \"Movie\", \"Movie\", \"Movie\", \"Movie\", \"Movie\", \"Movie\", \"Movie\", \"Movie\", \"Movie\", \"Movie\", \"Movie\", \"Movie\", \"Movie\", \"Movie\", \"Movie\", \"Movie\", \"Movie\", \"Movie\", \"Movie\", \"Movie\", \"Movie\", \"Movie\", \"Movie\", \"Movie\", \"Movie\", \"Movie\", \"Movie\", \"Movie\", \"Movie\", \"Movie\", \"Series\", \"Series\", \"Series\", \"Series\", \"Movie\", \"Series\", \"Movie\", \"Movie\", \"Movie\", \"Movie\", \"Series\", \"Movie\", \"Series\", \"Movie\", \"Movie\", \"Movie\", \"Series\", \"Series\", \"Series\", \"Movie\", \"Series\", \"Movie\", \"Series\", \"Series\", \"Movie\", \"Series\", \"Series\", \"Series\", \"Movie\", \"Series\", \"Series\", \"Series\", \"Movie\", \"Series\", \"Series\", \"Movie\", \"Movie\", \"Movie\", \"Series\", \"Movie\", \"Series\", \"Series\", \"Movie\", \"Series\", \"Movie\", \"Movie\", \"Movie\", \"Movie\", \"Series\", \"Series\", \"Series\", \"Movie\", \"Movie\", \"Movie\", \"Series\", \"Series\", \"Movie\", \"Series\", \"Movie\", \"Movie\", \"Movie\", \"Movie\", \"Movie\", \"Series\", \"Movie\", \"Series\", \"Series\", \"Movie\", \"Movie\", \"Series\", \"Movie\", \"Movie\", \"Series\", \"Movie\", \"Movie\", \"Series\", \"Movie\", \"Movie\", \"Movie\", \"Movie\", \"Series\", \"Movie\", \"Movie\", \"Movie\", \"Movie\", \"Movie\", \"Movie\", \"Movie\", \"Movie\", \"Movie\", \"Movie\", \"Movie\", \"Movie\", \"Movie\", \"Movie\", \"Series\", \"Movie\", \"Series\", \"Movie\", \"Movie\", \"Movie\", \"Movie\", \"Movie\", \"Series\", \"Movie\", \"Series\", \"Movie\", \"Movie\", \"Movie\", \"Movie\", \"Movie\", \"Series\", \"Series\", \"Movie\", \"Series\", \"Movie\", \"Movie\", \"Movie\", \"Series\", \"Movie\", \"Movie\", \"Series\", \"Movie\", \"Movie\", \"Movie\", \"Movie\", \"Movie\", \"Movie\", \"Movie\", \"Movie\", \"Movie\", \"Movie\", \"Movie\", \"Movie\", \"Movie\", \"Movie\", \"Movie\", \"Movie\", \"Movie\", \"Movie\", \"Movie\", \"Movie\", \"Movie\", \"Movie\", \"Movie\", \"Movie\", \"Movie\", \"Movie\", \"Movie\", \"Movie\", \"Series\", \"Movie\", \"Movie\", \"Movie\", \"Movie\", \"Movie\", \"Movie\", \"Movie\", \"Series\", \"Movie\", \"Series\", \"Series\", \"Movie\", \"Movie\", \"Movie\", \"Series\", \"Movie\", \"Movie\", \"Movie\", \"Movie\", \"Movie\", \"Movie\", \"Movie\", \"Series\", \"Movie\", \"Series\", \"Movie\", \"Series\", \"Movie\", \"Movie\", \"Series\", \"Series\", \"Series\", \"Series\", \"Series\", \"Movie\", \"Movie\", \"Movie\", \"Movie\", \"Series\", \"Series\", \"Movie\", \"Series\", \"Movie\", \"Movie\", \"Movie\", \"Movie\", \"Movie\", \"Series\", \"Series\", \"Movie\", \"Movie\", \"Movie\", \"Movie\", \"Movie\", \"Movie\", \"Movie\", \"Series\", \"Movie\", \"Series\", \"Movie\", \"Movie\", \"Series\", \"Series\", \"Movie\", \"Movie\", \"Series\", \"Movie\", \"Movie\", \"Series\", \"Series\", \"Series\", \"Series\", \"Movie\", \"Movie\", \"Movie\", \"Movie\", \"Series\", \"Series\", \"Series\", \"Movie\", \"Series\", \"Movie\", \"Movie\", \"Movie\", \"Movie\", \"Movie\", \"Movie\", \"Movie\", \"Movie\", \"Movie\", \"Movie\", \"Series\", \"Series\", \"Movie\", \"Movie\", \"Movie\", \"Series\", \"Movie\", \"Movie\", \"Movie\", \"Movie\", \"Movie\", \"Movie\", \"Series\", \"Movie\", \"Series\", \"Movie\", \"Movie\", \"Movie\", \"Movie\", \"Series\", \"Movie\", \"Series\", \"Series\", \"Movie\", \"Movie\", \"Movie\", \"Series\", \"Movie\", \"Movie\", \"Series\", \"Movie\", \"Series\", \"Movie\", \"Series\", \"Movie\", \"Movie\", \"Movie\", \"Movie\", \"Movie\", \"Series\", \"Movie\", \"Movie\", \"Movie\", \"Movie\", \"Movie\", \"Movie\", \"Series\", \"Series\", \"Movie\", \"Movie\", \"Movie\", \"Series\", \"Series\", \"Series\", \"Movie\", \"Movie\", \"Series\", \"Movie\", \"Movie\", \"Movie\", \"Movie\", \"Movie\", \"Movie\", \"Movie\", \"Movie\", \"Series\", \"Movie\", \"Movie\", \"Movie\", \"Series\", \"Series\", \"Series\", \"Series\", \"Movie\", \"Series\", \"Series\", \"Movie\", \"Movie\", \"Movie\", \"Movie\", \"Movie\", \"Movie\", \"Movie\", \"Movie\", \"Movie\", \"Movie\", \"Movie\", \"Series\", \"Movie\", \"Movie\", \"Movie\", \"Movie\", \"Movie\", \"Movie\", \"Movie\", \"Movie\", \"Series\", \"Movie\", \"Movie\", \"Movie\", \"Movie\", \"Movie\", \"Movie\", \"Series\", \"Series\", \"Movie\", \"Movie\", \"Movie\", \"Movie\", \"Movie\", \"Series\", \"Movie\", \"Movie\", \"Movie\", \"Movie\", \"Movie\", \"Series\", \"Movie\", \"Movie\", \"Movie\", \"Series\", \"Movie\", \"Movie\", \"Movie\", \"Movie\", \"Movie\", \"Movie\", \"Movie\", \"Series\", \"Movie\", \"Series\", \"Movie\", \"Series\", \"Movie\", \"Series\", \"Series\", \"Movie\", \"Series\", \"Series\", \"Series\", \"Series\", \"Movie\", \"Series\", \"Series\", \"Series\", \"Series\", \"Movie\", \"Series\", \"Series\", \"Series\", \"Movie\", \"Movie\", \"Movie\", \"Series\", \"Movie\", \"Series\", \"Movie\", \"Series\", \"Series\", \"Movie\", \"Series\", \"Movie\", \"Movie\", \"Series\", \"Movie\", \"Movie\", \"Movie\", \"Series\", \"Movie\", \"Movie\", \"Movie\", \"Movie\", \"Movie\", \"Movie\", \"Movie\", \"Series\", \"Series\", \"Movie\", \"Movie\", \"Movie\", \"Movie\", \"Movie\", \"Movie\", \"Movie\", \"Movie\", \"Series\", \"Series\", \"Movie\", \"Series\", \"Movie\", \"Series\", \"Movie\", \"Movie\", \"Movie\", \"Series\", \"Movie\", \"Movie\", \"Series\", \"Series\", \"Series\", \"Series\", \"Movie\", \"Movie\", \"Series\", \"Movie\", \"Series\", \"Movie\", \"Movie\", \"Movie\", \"Movie\", \"Movie\", \"Movie\", \"Movie\", \"Movie\", \"Movie\", \"Movie\", \"Movie\", \"Movie\", \"Movie\", \"Movie\", \"Series\", \"Movie\", \"Movie\", \"Series\", \"Series\", \"Movie\", \"Series\", \"Movie\", \"Movie\", \"Movie\", \"Movie\", \"Movie\", \"Series\", \"Movie\", \"Movie\", \"Movie\", \"Movie\", \"Series\", \"Movie\", \"Series\", \"Series\", \"Movie\", \"Movie\", \"Series\", \"Movie\", \"Movie\", \"Movie\", \"Movie\", \"Series\", \"Series\", \"Movie\", \"Movie\", \"Movie\", \"Series\", \"Movie\", \"Series\", \"Movie\", \"Movie\", \"Movie\", \"Series\", \"Movie\", \"Movie\", \"Movie\", \"Movie\", \"Movie\", \"Movie\", \"Movie\", \"Movie\", \"Movie\", \"Movie\", \"Movie\", \"Movie\", \"Movie\", \"Movie\", \"Movie\", \"Movie\", \"Movie\", \"Movie\", \"Movie\", \"Movie\", \"Movie\", \"Movie\", \"Movie\", \"Series\", \"Series\", \"Movie\", \"Series\", \"Movie\", \"Movie\", \"Movie\", \"Movie\", \"Movie\", \"Movie\", \"Movie\", \"Movie\", \"Series\", \"Movie\", \"Movie\", \"Series\", \"Series\", \"Movie\", \"Movie\", \"Series\", \"Movie\", \"Movie\", \"Series\", \"Series\", \"Movie\", \"Series\", \"Movie\", \"Movie\", \"Series\", \"Movie\", \"Movie\", \"Movie\", \"Movie\", \"Movie\", \"Movie\", \"Movie\", \"Movie\", \"Series\", \"Movie\", \"Movie\", \"Movie\", \"Series\", \"Series\", \"Movie\", \"Movie\", \"Series\", \"Movie\", \"Movie\", \"Movie\", \"Movie\", \"Series\", \"Movie\", \"Movie\", \"Movie\", \"Movie\", \"Movie\", \"Movie\", \"Movie\", \"Movie\", \"Series\", \"Movie\", \"Movie\", \"Movie\", \"Movie\", \"Movie\", \"Movie\", \"Series\", \"Movie\", \"Series\", \"Movie\", \"Movie\", \"Movie\", \"Movie\", \"Movie\", \"Series\", \"Movie\", \"Series\", \"Series\", \"Series\", \"Movie\", \"Series\", \"Series\", \"Series\", \"Series\", \"Series\", \"Movie\", \"Movie\", \"Movie\", \"Series\", \"Movie\", \"Movie\", \"Movie\", \"Movie\", \"Movie\", \"Movie\", \"Movie\", \"Movie\", \"Series\", \"Movie\", \"Series\", \"Movie\", \"Series\", \"Series\", \"Movie\", \"Movie\", \"Series\", \"Movie\", \"Movie\", \"Movie\", \"Series\", \"Movie\", \"Movie\", \"Movie\", \"Movie\", \"Series\", \"Movie\", \"Movie\", \"Series\", \"Movie\", \"Movie\", \"Movie\", \"Movie\", \"Series\", \"Series\", \"Movie\", \"Movie\", \"Movie\", \"Movie\", \"Movie\", \"Movie\", \"Series\", \"Movie\", \"Series\", \"Series\", \"Movie\", \"Movie\", \"Movie\", \"Movie\", \"Movie\", \"Movie\", \"Movie\", \"Movie\", \"Movie\", \"Series\", \"Series\", \"Series\", \"Series\", \"Movie\", \"Movie\", \"Movie\", \"Series\", \"Series\", \"Movie\", \"Series\", \"Series\", \"Movie\", \"Movie\", \"Series\", \"Movie\", \"Movie\", \"Movie\", \"Movie\", \"Movie\", \"Movie\", \"Movie\", \"Movie\", \"Series\", \"Series\", \"Movie\", \"Movie\", \"Series\", \"Movie\", \"Movie\", \"Movie\", \"Movie\", \"Movie\", \"Movie\", \"Movie\", \"Movie\", \"Movie\", \"Movie\", \"Movie\", \"Movie\", \"Movie\", \"Movie\", \"Movie\", \"Movie\", \"Series\", \"Movie\", \"Series\", \"Movie\", \"Series\", \"Series\", \"Movie\", \"Movie\", \"Series\", \"Movie\", \"Series\", \"Movie\", \"Movie\", \"Movie\", \"Movie\", \"Movie\", \"Movie\", \"Movie\", \"Movie\", \"Movie\", \"Series\", \"Movie\", \"Series\", \"Movie\", \"Series\", \"Movie\", \"Series\", \"Movie\", \"Movie\", \"Movie\", \"Movie\", \"Series\", \"Movie\", \"Series\", \"Series\", \"Series\", \"Movie\", \"Series\", \"Movie\", \"Series\", \"Movie\", \"Movie\", \"Series\", \"Series\", \"Movie\", \"Movie\", \"Series\", \"Movie\", \"Movie\", \"Movie\", \"Series\", \"Movie\", \"Series\", \"Series\", \"Movie\", \"Movie\", \"Movie\", \"Movie\", \"Movie\", \"Movie\", \"Movie\", \"Movie\", \"Movie\", \"Series\", \"Movie\", \"Movie\", \"Movie\", \"Movie\", \"Movie\", \"Movie\", \"Series\", \"Movie\", \"Series\", \"Movie\", \"Movie\", \"Series\", \"Movie\", \"Movie\", \"Movie\", \"Movie\", \"Movie\", \"Movie\", \"Movie\", \"Movie\", \"Series\", \"Movie\", \"Movie\", \"Series\", \"Movie\", \"Movie\", \"Movie\", \"Movie\", \"Movie\", \"Movie\", \"Movie\", \"Movie\", \"Movie\", \"Movie\", \"Movie\", \"Series\", \"Movie\", \"Movie\", \"Movie\", \"Movie\", \"Movie\", \"Movie\", \"Movie\", \"Movie\", \"Movie\", \"Movie\", \"Movie\", \"Movie\", \"Movie\", \"Series\", \"Series\", \"Series\", \"Series\", \"Series\", \"Movie\", \"Movie\", \"Movie\", \"Movie\", \"Movie\", \"Movie\", \"Movie\", \"Movie\", \"Movie\", \"Movie\", \"Series\", \"Movie\", \"Movie\", \"Movie\", \"Movie\", \"Movie\", \"Movie\", \"Movie\", \"Movie\", \"Movie\", \"Movie\", \"Movie\", \"Series\", \"Series\", \"Movie\", \"Movie\", \"Movie\", \"Movie\", \"Movie\", \"Movie\", \"Movie\", \"Series\", \"Movie\", \"Movie\", \"Movie\", \"Series\", \"Movie\", \"Movie\", \"Movie\", \"Movie\", \"Movie\", \"Series\", \"Series\", \"Series\", \"Movie\", \"Movie\", \"Movie\", \"Movie\", \"Series\", \"Series\", \"Series\", \"Movie\", \"Movie\", \"Movie\", \"Movie\", \"Movie\", \"Movie\", \"Series\", \"Series\", \"Movie\", \"Movie\", \"Movie\", \"Movie\", \"Movie\", \"Movie\", \"Movie\", \"Movie\", \"Movie\", \"Movie\", \"Movie\", \"Movie\", \"Movie\", \"Movie\", \"Movie\", \"Movie\", \"Series\", \"Movie\", \"Movie\", \"Movie\", \"Movie\", \"Series\", \"Movie\", \"Movie\", \"Movie\", \"Movie\", \"Movie\", \"Movie\", \"Movie\", \"Movie\", \"Movie\", \"Movie\", \"Movie\", \"Movie\", \"Movie\", \"Movie\", \"Series\", \"Series\", \"Series\", \"Series\", \"Series\", \"Series\", \"Series\", \"Series\", \"Movie\", \"Series\", \"Movie\", \"Series\", \"Movie\", \"Movie\", \"Movie\", \"Series\", \"Series\", \"Movie\", \"Movie\", \"Movie\", \"Movie\", \"Movie\", \"Series\", \"Movie\", \"Series\", \"Movie\", \"Movie\", \"Series\", \"Movie\", \"Movie\", \"Movie\", \"Series\", \"Movie\", \"Movie\", \"Movie\", \"Series\", \"Movie\", \"Series\", \"Series\", \"Series\", \"Movie\", \"Series\", \"Series\", \"Movie\", \"Movie\", \"Series\", \"Movie\", \"Series\", \"Movie\", \"Movie\", \"Movie\", \"Movie\", \"Movie\", \"Movie\", \"Movie\", \"Movie\", \"Series\", \"Movie\", \"Movie\", \"Movie\", \"Movie\", \"Series\", \"Movie\", \"Movie\", \"Movie\", \"Movie\", \"Movie\", \"Movie\", \"Movie\", \"Series\", \"Movie\", \"Movie\", \"Series\", \"Movie\", \"Movie\", \"Movie\", \"Movie\", \"Movie\", \"Series\", \"Movie\", \"Series\", \"Movie\", \"Movie\", \"Series\", \"Movie\", \"Movie\", \"Movie\", \"Series\", \"Series\", \"Series\", \"Movie\", \"Series\", \"Movie\", \"Movie\", \"Movie\", \"Movie\", \"Movie\", \"Series\", \"Movie\", \"Movie\", \"Series\", \"Movie\", \"Movie\", \"Series\", \"Series\", \"Series\", \"Series\", \"Movie\", \"Movie\", \"Movie\", \"Movie\", \"Movie\", \"Movie\", \"Movie\", \"Movie\", \"Movie\", \"Movie\", \"Series\", \"Series\", \"Movie\", \"Movie\", \"Movie\", \"Series\", \"Series\", \"Movie\", \"Movie\", \"Series\", \"Series\", \"Movie\", \"Movie\", \"Movie\", \"Movie\", \"Movie\", \"Movie\", \"Movie\", \"Movie\", \"Movie\", \"Movie\", \"Movie\", \"Movie\", \"Movie\", \"Movie\", \"Movie\", \"Movie\", \"Series\", \"Series\", \"Movie\", \"Movie\", \"Movie\", \"Series\", \"Movie\", \"Movie\", \"Movie\", \"Series\", \"Movie\", \"Movie\", \"Movie\", \"Series\", \"Series\", \"Movie\", \"Series\", \"Series\", \"Movie\", \"Movie\", \"Series\", \"Movie\", \"Movie\", \"Movie\", \"Series\", \"Movie\", \"Movie\", \"Movie\", \"Movie\", \"Movie\", \"Movie\", \"Movie\", \"Series\", \"Movie\", \"Series\", \"Series\", \"Series\", \"Movie\", \"Series\", \"Series\", \"Movie\", \"Movie\", \"Movie\", \"Series\", \"Movie\", \"Series\", \"Series\", \"Movie\", \"Movie\", \"Series\", \"Movie\", \"Movie\", \"Movie\", \"Movie\", \"Movie\", \"Movie\", \"Movie\", \"Series\", \"Movie\", \"Movie\", \"Movie\", \"Movie\", \"Movie\", \"Movie\", \"Series\", \"Series\", \"Series\", \"Movie\", \"Movie\", \"Movie\", \"Movie\", \"Movie\", \"Movie\", \"Movie\", \"Movie\", \"Movie\", \"Movie\", \"Movie\", \"Movie\", \"Movie\", \"Series\", \"Movie\", \"Movie\", \"Series\", \"Movie\", \"Movie\", \"Movie\", \"Series\", \"Movie\", \"Movie\", \"Movie\", \"Movie\", \"Movie\", \"Movie\", \"Movie\", \"Movie\", \"Movie\", \"Movie\", \"Movie\", \"Movie\", \"Movie\", \"Series\", \"Series\", \"Movie\", \"Movie\", \"Movie\", \"Movie\", \"Movie\", \"Series\", \"Movie\", \"Movie\", \"Movie\", \"Movie\", \"Movie\", \"Movie\", \"Movie\", \"Movie\", \"Movie\", \"Movie\", \"Series\", \"Series\", \"Movie\", \"Movie\", \"Movie\", \"Movie\", \"Movie\", \"Movie\", \"Movie\", \"Movie\", \"Movie\", \"Movie\", \"Movie\", \"Movie\", \"Movie\", \"Movie\", \"Series\", \"Movie\", \"Movie\", \"Movie\", \"Series\", \"Movie\", \"Series\", \"Movie\", \"Movie\", \"Movie\", \"Movie\", \"Movie\", \"Movie\", \"Movie\", \"Series\", \"Movie\", \"Movie\", \"Movie\", \"Movie\", \"Movie\", \"Movie\", \"Movie\", \"Series\", \"Movie\", \"Movie\", \"Movie\", \"Movie\", \"Movie\", \"Movie\", \"Movie\", \"Movie\", \"Movie\", \"Series\", \"Movie\", \"Series\", \"Series\", \"Movie\", \"Movie\", \"Movie\", \"Movie\", \"Movie\", \"Movie\", \"Movie\", \"Movie\", \"Movie\", \"Movie\", \"Series\", \"Movie\", \"Movie\", \"Movie\", \"Movie\", \"Movie\", \"Movie\", \"Movie\", \"Movie\", \"Movie\", \"Movie\", \"Movie\", \"Movie\", \"Movie\", \"Movie\", \"Movie\", \"Movie\", \"Movie\", \"Movie\", \"Movie\", \"Movie\", \"Movie\", \"Movie\", \"Movie\", \"Movie\", \"Movie\", \"Movie\", \"Movie\", \"Movie\", \"Movie\", \"Series\", \"Movie\", \"Movie\", \"Series\", \"Series\", \"Series\", \"Series\", \"Movie\", \"Movie\", \"Movie\", \"Movie\", \"Movie\", \"Movie\", \"Movie\", \"Movie\", \"Movie\", \"Series\", \"Series\", \"Series\", \"Movie\", \"Movie\", \"Series\", \"Series\", \"Series\", \"Movie\", \"Series\", \"Series\", \"Series\", \"Movie\", \"Movie\", \"Movie\", \"Movie\", \"Movie\", \"Movie\", \"Movie\", \"Movie\", \"Movie\", \"Movie\", \"Series\", \"Movie\", \"Movie\", \"Movie\", \"Movie\", \"Movie\", \"Movie\", \"Movie\", \"Series\", \"Series\", \"Movie\", \"Movie\", \"Movie\", \"Movie\", \"Movie\", \"Movie\", \"Movie\", \"Movie\", \"Movie\", \"Movie\", \"Movie\", \"Movie\", \"Series\", \"Movie\", \"Series\", \"Movie\", \"Series\", \"Series\", \"Movie\", \"Movie\", \"Movie\", \"Movie\", \"Movie\", \"Movie\", \"Movie\", \"Series\", \"Movie\", \"Movie\", \"Series\", \"Series\", \"Series\", \"Series\", \"Movie\", \"Series\", \"Movie\", \"Movie\", \"Movie\", \"Series\", \"Series\", \"Movie\", \"Movie\", \"Series\", \"Movie\", \"Movie\", \"Series\", \"Movie\", \"Movie\", \"Movie\", \"Movie\", \"Movie\", \"Movie\", \"Movie\", \"Series\", \"Movie\", \"Movie\", \"Movie\", \"Series\", \"Movie\", \"Movie\", \"Movie\", \"Series\", \"Movie\", \"Movie\", \"Movie\", \"Movie\", \"Movie\", \"Movie\", \"Movie\", \"Movie\", \"Movie\", \"Movie\", \"Movie\", \"Movie\", \"Movie\", \"Movie\", \"Movie\", \"Movie\", \"Movie\", \"Movie\", \"Movie\", \"Movie\", \"Series\", \"Movie\", \"Movie\", \"Movie\", \"Movie\", \"Series\", \"Series\", \"Series\", \"Movie\", \"Series\", \"Series\", \"Movie\", \"Series\", \"Movie\", \"Movie\", \"Movie\", \"Movie\", \"Series\", \"Movie\", \"Movie\", \"Movie\", \"Movie\", \"Movie\", \"Movie\", \"Movie\", \"Movie\", \"Movie\", \"Series\", \"Movie\", \"Movie\", \"Movie\", \"Movie\", \"Movie\", \"Movie\", \"Movie\", \"Series\", \"Movie\", \"Series\", \"Series\", \"Series\", \"Movie\", \"Movie\", \"Movie\", \"Series\", \"Movie\", \"Movie\", \"Movie\", \"Series\", \"Movie\", \"Movie\", \"Series\", \"Series\", \"Movie\", \"Movie\", \"Movie\", \"Movie\", \"Movie\", \"Series\", \"Movie\", \"Movie\", \"Series\", \"Series\", \"Series\", \"Series\", \"Movie\", \"Series\", \"Series\", \"Movie\", \"Movie\", \"Series\", \"Movie\", \"Series\", \"Movie\", \"Series\", \"Movie\", \"Series\", \"Movie\", \"Movie\", \"Movie\", \"Movie\", \"Movie\", \"Movie\", \"Movie\", \"Movie\", \"Movie\", \"Movie\", \"Movie\", \"Series\", \"Series\", \"Movie\", \"Series\", \"Series\", \"Movie\", \"Movie\", \"Movie\", \"Movie\", \"Movie\", \"Movie\", \"Movie\", \"Movie\", \"Movie\", \"Movie\", \"Series\", \"Movie\", \"Series\", \"Movie\", \"Movie\", \"Movie\", \"Movie\", \"Movie\", \"Movie\", \"Movie\", \"Movie\", \"Series\", \"Movie\", \"Movie\", \"Series\", \"Movie\", \"Series\", \"Movie\", \"Series\", \"Series\", \"Series\", \"Movie\", \"Movie\", \"Movie\", \"Movie\", \"Series\", \"Movie\", \"Movie\", \"Movie\", \"Movie\", \"Movie\", \"Movie\", \"Movie\", \"Movie\", \"Series\", \"Movie\", \"Movie\", \"Movie\", \"Movie\", \"Series\", \"Series\", \"Movie\", \"Movie\", \"Movie\", \"Movie\", \"Movie\", \"Movie\", \"Series\", \"Movie\", \"Series\", \"Movie\", \"Movie\", \"Movie\", \"Movie\", \"Movie\", \"Movie\", \"Movie\", \"Movie\", \"Series\", \"Movie\", \"Movie\", \"Series\", \"Movie\", \"Movie\", \"Movie\", \"Movie\", \"Series\", \"Movie\", \"Movie\", \"Movie\", \"Series\", \"Series\", \"Series\", \"Series\", \"Movie\", \"Movie\", \"Movie\", \"Movie\", \"Movie\", \"Movie\", \"Movie\", \"Movie\", \"Movie\", \"Movie\", \"Movie\", \"Movie\", \"Movie\", \"Movie\", \"Movie\", \"Series\", \"Movie\", \"Movie\", \"Movie\", \"Movie\", \"Movie\", \"Series\", \"Movie\", \"Series\", \"Movie\", \"Movie\", \"Movie\", \"Movie\", \"Movie\", \"Movie\", \"Movie\", \"Series\", \"Series\", \"Series\", \"Movie\", \"Series\", \"Movie\", \"Movie\", \"Movie\", \"Movie\", \"Movie\", \"Movie\", \"Movie\", \"Movie\", \"Movie\", \"Movie\", \"Series\", \"Series\", \"Movie\", \"Movie\", \"Movie\", \"Movie\", \"Movie\", \"Movie\", \"Movie\", \"Movie\", \"Movie\", \"Movie\", \"Movie\", \"Movie\", \"Movie\", \"Movie\", \"Movie\", \"Movie\", \"Series\", \"Movie\", \"Movie\", \"Series\", \"Series\", \"Movie\", \"Movie\", \"Movie\", \"Series\", \"Movie\", \"Movie\", \"Movie\", \"Movie\", \"Series\", \"Movie\", \"Movie\", \"Movie\", \"Movie\", \"Movie\", \"Movie\", \"Movie\", \"Movie\", \"Movie\", \"Movie\", \"Movie\", \"Movie\", \"Series\", \"Movie\", \"Movie\", \"Movie\", \"Movie\", \"Series\", \"Movie\", \"Movie\", \"Movie\", \"Movie\", \"Movie\", \"Series\", \"Movie\", \"Movie\", \"Movie\", \"Movie\", \"Movie\", \"Movie\", \"Movie\", \"Movie\", \"Series\", \"Series\", \"Movie\", \"Movie\", \"Movie\", \"Movie\", \"Movie\", \"Movie\", \"Movie\", \"Movie\", \"Movie\", \"Movie\", \"Movie\", \"Series\", \"Movie\", \"Movie\", \"Movie\", \"Movie\", \"Movie\", \"Series\", \"Series\", \"Series\", \"Movie\", \"Movie\", \"Series\", \"Movie\", \"Movie\", \"Movie\", \"Movie\", \"Movie\", \"Movie\", \"Movie\", \"Series\", \"Movie\", \"Movie\", \"Movie\", \"Movie\", \"Movie\", \"Series\", \"Movie\", \"Movie\", \"Series\", \"Movie\", \"Movie\", \"Movie\", \"Series\", \"Series\", \"Movie\", \"Movie\", \"Movie\", \"Series\", \"Movie\", \"Movie\", \"Movie\", \"Movie\", \"Series\", \"Series\", \"Movie\", \"Movie\", \"Movie\", \"Movie\", \"Movie\", \"Movie\", \"Series\", \"Movie\", \"Movie\", \"Series\", \"Series\", \"Movie\", \"Movie\", \"Series\", \"Movie\", \"Movie\", \"Movie\", \"Movie\", \"Movie\", \"Series\", \"Series\", \"Series\", \"Movie\", \"Movie\", \"Movie\", \"Series\", \"Series\", \"Series\", \"Series\", \"Series\", \"Movie\", \"Movie\", \"Movie\", \"Movie\", \"Series\", \"Movie\", \"Movie\", \"Series\", \"Series\", \"Movie\", \"Series\", \"Movie\", \"Movie\", \"Series\", \"Movie\", \"Movie\", \"Series\", \"Series\", \"Series\", \"Movie\", \"Series\", \"Series\", \"Series\", \"Series\", \"Series\", \"Series\", \"Series\", \"Movie\", \"Series\", \"Movie\", \"Movie\", \"Series\", \"Series\", \"Movie\", \"Movie\", \"Series\", \"Movie\", \"Series\", \"Series\", \"Series\", \"Series\", \"Movie\", \"Series\", \"Movie\", \"Movie\", \"Movie\", \"Movie\", \"Movie\", \"Movie\", \"Movie\", \"Movie\", \"Movie\", \"Movie\", \"Movie\", \"Movie\", \"Series\", \"Movie\", \"Movie\", \"Movie\", \"Movie\", \"Movie\", \"Movie\", \"Series\", \"Series\", \"Series\", \"Movie\", \"Movie\", \"Series\", \"Series\", \"Series\", \"Movie\", \"Movie\", \"Series\", \"Movie\", \"Movie\", \"Movie\", \"Movie\", \"Movie\", \"Movie\", \"Movie\", \"Movie\", \"Movie\", \"Movie\", \"Movie\", \"Movie\", \"Movie\", \"Movie\", \"Movie\", \"Movie\", \"Series\", \"Series\", \"Movie\", \"Movie\", \"Movie\", \"Movie\", \"Movie\", \"Movie\", \"Series\", \"Movie\", \"Movie\", \"Movie\", \"Movie\", \"Movie\", \"Movie\", \"Movie\", \"Movie\", \"Series\", \"Series\", \"Movie\", \"Movie\", \"Series\", \"Movie\", \"Movie\", \"Movie\", \"Movie\", \"Movie\", \"Movie\", \"Series\", \"Movie\", \"Movie\", \"Series\", \"Movie\", \"Movie\", \"Movie\", \"Movie\", \"Series\", \"Movie\", \"Series\", \"Series\", \"Movie\", \"Series\", \"Movie\", \"Series\", \"Series\", \"Series\", \"Series\", \"Movie\", \"Movie\", \"Series\", \"Movie\", \"Series\", \"Movie\", \"Movie\", \"Movie\", \"Movie\", \"Series\", \"Movie\", \"Movie\", \"Series\", \"Movie\", \"Movie\", \"Movie\", \"Movie\", \"Series\", \"Movie\", \"Movie\", \"Movie\", \"Movie\", \"Movie\", \"Series\", \"Movie\", \"Movie\", \"Movie\", \"Movie\", \"Series\", \"Movie\", \"Movie\", \"Movie\", \"Series\", \"Movie\", \"Movie\", \"Movie\", \"Movie\", \"Series\", \"Movie\", \"Movie\", \"Movie\", \"Movie\", \"Series\", \"Movie\", \"Movie\", \"Movie\", \"Movie\", \"Movie\", \"Movie\", \"Movie\", \"Movie\", \"Movie\", \"Movie\", \"Movie\", \"Movie\", \"Movie\", \"Movie\", \"Movie\", \"Series\", \"Series\", \"Movie\", \"Movie\", \"Movie\", \"Movie\", \"Movie\", \"Movie\", \"Movie\", \"Series\", \"Movie\", \"Movie\", \"Movie\", \"Movie\", \"Movie\", \"Series\", \"Series\", \"Movie\", \"Movie\", \"Movie\", \"Movie\", \"Movie\", \"Movie\", \"Movie\", \"Movie\", \"Movie\", \"Movie\", \"Movie\", \"Movie\", \"Movie\", \"Movie\", \"Movie\", \"Movie\", \"Movie\", \"Movie\", \"Movie\", \"Movie\", \"Series\", \"Movie\", \"Movie\", \"Series\", \"Movie\", \"Movie\", \"Movie\", \"Movie\", \"Movie\", \"Movie\", \"Movie\", \"Movie\", \"Movie\", \"Series\", \"Movie\", \"Movie\", \"Series\", \"Series\", \"Series\", \"Movie\", \"Series\", \"Movie\", \"Series\", \"Movie\", \"Movie\", \"Series\", \"Movie\", \"Series\", \"Movie\", \"Movie\", \"Movie\", \"Movie\", \"Movie\", \"Movie\", \"Movie\", \"Movie\", \"Series\", \"Movie\", \"Movie\", \"Movie\", \"Movie\", \"Series\", \"Series\", \"Movie\", \"Movie\", \"Movie\", \"Series\", \"Movie\", \"Series\", \"Movie\", \"Movie\", \"Movie\", \"Movie\", \"Movie\", \"Movie\", \"Movie\", \"Movie\", \"Movie\", \"Series\", \"Series\", \"Movie\", \"Series\", \"Movie\", \"Movie\", \"Movie\", \"Movie\", \"Movie\", \"Movie\", \"Movie\", \"Movie\", \"Movie\", \"Movie\", \"Movie\", \"Movie\", \"Movie\", \"Movie\", \"Movie\", \"Movie\", \"Movie\", \"Series\", \"Movie\", \"Movie\", \"Movie\", \"Movie\", \"Movie\", \"Movie\", \"Movie\", \"Series\", \"Movie\", \"Movie\", \"Movie\", \"Series\", \"Series\", \"Movie\", \"Movie\", \"Series\", \"Movie\", \"Movie\", \"Movie\", \"Series\", \"Series\", \"Movie\", \"Movie\", \"Movie\", \"Movie\", \"Series\", \"Movie\", \"Movie\", \"Movie\", \"Movie\", \"Movie\", \"Movie\", \"Movie\", \"Movie\", \"Movie\", \"Movie\", \"Movie\", \"Movie\", \"Movie\", \"Movie\", \"Movie\", \"Movie\", \"Movie\", \"Movie\", \"Movie\", \"Series\", \"Series\", \"Movie\", \"Series\", \"Movie\", \"Movie\", \"Movie\", \"Movie\", \"Movie\", \"Movie\", \"Movie\", \"Movie\", \"Movie\", \"Movie\", \"Movie\", \"Movie\", \"Movie\", \"Movie\", \"Series\", \"Movie\", \"Movie\", \"Movie\", \"Movie\", \"Movie\", \"Series\", \"Movie\", \"Movie\", \"Movie\", \"Movie\", \"Movie\", \"Movie\", \"Movie\", \"Movie\", \"Movie\", \"Movie\", \"Movie\", \"Series\", \"Movie\", \"Series\", \"Movie\", \"Series\", \"Movie\", \"Series\", \"Series\", \"Series\", \"Series\", \"Series\", \"Movie\", \"Series\", \"Series\", \"Series\", \"Movie\", \"Movie\", \"Movie\", \"Movie\", \"Series\", \"Movie\", \"Movie\", \"Movie\", \"Movie\", \"Series\", \"Movie\", \"Series\", \"Movie\", \"Movie\", \"Movie\", \"Movie\", \"Movie\", \"Movie\", \"Series\", \"Movie\", \"Series\", \"Series\", \"Series\", \"Movie\", \"Movie\", \"Movie\", \"Movie\", \"Movie\", \"Movie\", \"Movie\", \"Series\", \"Movie\", \"Movie\", \"Series\", \"Movie\", \"Movie\", \"Series\", \"Movie\", \"Movie\", \"Series\", \"Movie\", \"Series\", \"Series\", \"Movie\", \"Movie\", \"Movie\", \"Movie\", \"Series\", \"Series\", \"Series\", \"Movie\", \"Movie\", \"Movie\", \"Series\", \"Series\", \"Series\", \"Movie\", \"Movie\", \"Movie\", \"Movie\", \"Movie\", \"Movie\", \"Movie\", \"Movie\", \"Movie\", \"Movie\", \"Movie\", \"Series\", \"Movie\", \"Movie\", \"Series\", \"Series\", \"Movie\", \"Movie\", \"Movie\", \"Movie\", \"Movie\", \"Movie\", \"Movie\", \"Movie\", \"Movie\", \"Movie\", \"Movie\", \"Movie\", \"Movie\", \"Movie\", \"Movie\", \"Movie\", \"Series\", \"Movie\", \"Movie\", \"Series\", \"Movie\", \"Series\", \"Movie\", \"Movie\", \"Movie\", \"Movie\", \"Movie\", \"Movie\", \"Series\", \"Movie\", \"Movie\", \"Movie\", \"Movie\", \"Movie\", \"Movie\", \"Movie\", \"Movie\", \"Movie\", \"Movie\", \"Movie\", \"Movie\", \"Movie\", \"Movie\", \"Movie\", \"Series\", \"Movie\", \"Movie\", \"Movie\", \"Movie\", \"Movie\", \"Movie\", \"Series\", \"Movie\", \"Series\", \"Movie\", \"Movie\", \"Movie\", \"Movie\", \"Movie\", \"Movie\", \"Series\", \"Series\", \"Movie\", \"Series\", \"Series\", \"Series\", \"Movie\", \"Series\", \"Series\", \"Movie\", \"Movie\", \"Movie\", \"Series\", \"Series\", \"Movie\", \"Movie\", \"Movie\", \"Series\", \"Movie\", \"Movie\", \"Movie\", \"Series\", \"Movie\", \"Movie\", \"Movie\", \"Movie\", \"Movie\", \"Movie\", \"Movie\", \"Movie\", \"Series\", \"Series\", \"Movie\", \"Movie\", \"Movie\", \"Movie\", \"Movie\", \"Movie\", \"Series\", \"Movie\", \"Movie\", \"Movie\", \"Movie\", \"Movie\", \"Movie\", \"Movie\", \"Movie\", \"Series\", \"Series\", \"Series\", \"Series\", \"Movie\", \"Movie\", \"Movie\", \"Series\", \"Movie\", \"Movie\", \"Movie\", \"Movie\", \"Movie\", \"Movie\", \"Movie\", \"Movie\", \"Movie\", \"Series\", \"Movie\", \"Movie\", \"Movie\", \"Movie\", \"Movie\", \"Movie\", \"Movie\", \"Movie\", \"Movie\", \"Movie\", \"Series\", \"Movie\", \"Movie\", \"Movie\", \"Series\", \"Movie\", \"Movie\", \"Movie\", \"Movie\", \"Movie\", \"Movie\", \"Movie\", \"Movie\", \"Movie\", \"Movie\", \"Series\", \"Series\", \"Movie\", \"Series\", \"Series\", \"Movie\", \"Series\", \"Series\", \"Series\", \"Series\", \"Movie\", \"Series\", \"Movie\", \"Series\", \"Series\", \"Movie\", \"Movie\", \"Movie\", \"Movie\", \"Movie\", \"Movie\", \"Movie\", \"Movie\", \"Series\", \"Series\", \"Series\", \"Movie\", \"Movie\", \"Movie\", \"Movie\", \"Series\", \"Series\", \"Movie\", \"Movie\", \"Movie\", \"Series\", \"Movie\", \"Series\", \"Movie\", \"Series\", \"Movie\", \"Movie\", \"Movie\", \"Movie\", \"Movie\", \"Movie\", \"Movie\", \"Movie\", \"Movie\", \"Movie\", \"Series\", \"Movie\", \"Series\", \"Movie\", \"Movie\", \"Movie\", \"Movie\", \"Movie\", \"Series\", \"Movie\", \"Series\", \"Movie\", \"Series\", \"Series\", \"Series\", \"Series\", \"Series\", \"Movie\", \"Movie\", \"Movie\", \"Movie\", \"Series\", \"Movie\", \"Movie\", \"Movie\", \"Movie\", \"Movie\", \"Movie\", \"Movie\", \"Movie\", \"Movie\", \"Series\", \"Movie\", \"Movie\", \"Movie\", \"Movie\", \"Movie\", \"Series\", \"Movie\", \"Movie\", \"Movie\", \"Movie\", \"Movie\", \"Movie\", \"Series\", \"Movie\", \"Movie\", \"Movie\", \"Movie\", \"Movie\", \"Movie\", \"Movie\", \"Movie\", \"Movie\", \"Series\", \"Movie\", \"Series\", \"Movie\", \"Movie\", \"Movie\", \"Movie\", \"Movie\", \"Movie\", \"Movie\", \"Movie\", \"Series\", \"Movie\", \"Movie\", \"Movie\", \"Movie\", \"Movie\", \"Movie\", \"Movie\", \"Movie\", \"Series\", \"Movie\", \"Movie\", \"Movie\", \"Movie\", \"Movie\", \"Movie\", \"Movie\", \"Movie\", \"Series\", \"Movie\", \"Movie\", \"Movie\", \"Movie\", \"Movie\", \"Movie\", \"Series\", \"Movie\", \"Movie\", \"Movie\", \"Series\", \"Movie\", \"Series\", \"Movie\", \"Movie\", \"Movie\", \"Movie\", \"Movie\", \"Movie\", \"Series\", \"Series\", \"Series\", \"Movie\", \"Movie\", \"Movie\", \"Movie\", \"Movie\", \"Movie\", \"Movie\", \"Movie\", \"Movie\", \"Movie\", \"Series\", \"Movie\", \"Series\", \"Movie\", \"Movie\", \"Movie\", \"Movie\", \"Movie\", \"Movie\", \"Movie\", \"Series\", \"Movie\", \"Movie\", \"Movie\", \"Movie\", \"Movie\", \"Movie\", \"Series\", \"Movie\", \"Movie\", \"Movie\", \"Movie\", \"Movie\", \"Movie\", \"Movie\", \"Series\", \"Movie\", \"Series\", \"Series\", \"Movie\", \"Movie\", \"Series\", \"Movie\", \"Movie\", \"Series\", \"Movie\", \"Movie\", \"Movie\", \"Movie\", \"Movie\", \"Movie\", \"Series\", \"Movie\", \"Movie\", \"Movie\", \"Series\", \"Movie\", \"Movie\", \"Series\", \"Movie\", \"Movie\", \"Movie\", \"Series\", \"Movie\", \"Movie\", \"Movie\", \"Movie\", \"Series\", \"Movie\", \"Movie\", \"Movie\", \"Series\", \"Movie\", \"Movie\", \"Movie\", \"Movie\", \"Series\", \"Movie\", \"Movie\", \"Movie\", \"Movie\", \"Movie\", \"Movie\", \"Series\", \"Movie\", \"Movie\", \"Movie\", \"Movie\", \"Movie\", \"Movie\", \"Movie\", \"Movie\", \"Movie\", \"Movie\", \"Movie\", \"Movie\", \"Movie\", \"Movie\", \"Movie\", \"Series\", \"Series\", \"Movie\", \"Series\", \"Series\", \"Series\", \"Series\", \"Series\", \"Movie\", \"Movie\", \"Movie\", \"Movie\", \"Movie\", \"Movie\", \"Movie\", \"Movie\", \"Series\", \"Series\", \"Movie\", \"Movie\", \"Movie\", \"Movie\", \"Movie\", \"Movie\", \"Series\", \"Movie\", \"Movie\", \"Movie\", \"Movie\", \"Movie\", \"Series\", \"Series\", \"Movie\", \"Movie\", \"Series\", \"Series\", \"Movie\", \"Series\", \"Series\", \"Movie\", \"Movie\", \"Movie\", \"Series\", \"Movie\", \"Series\", \"Movie\", \"Series\", \"Movie\", \"Series\", \"Movie\", \"Movie\", \"Movie\", \"Series\", \"Movie\", \"Movie\", \"Series\", \"Series\", \"Movie\", \"Movie\", \"Movie\", \"Movie\", \"Movie\", \"Movie\", \"Movie\", \"Movie\", \"Movie\", \"Movie\", \"Movie\", \"Movie\", \"Series\", \"Movie\", \"Movie\", \"Movie\", \"Movie\", \"Movie\", \"Movie\", \"Movie\", \"Movie\", \"Movie\", \"Movie\", \"Movie\", \"Movie\", \"Movie\", \"Movie\", \"Movie\", \"Movie\", \"Movie\", \"Movie\", \"Movie\", \"Movie\", \"Series\", \"Series\", \"Series\", \"Movie\", \"Movie\", \"Movie\", \"Movie\", \"Series\", \"Series\", \"Series\", \"Movie\", \"Movie\", \"Movie\", \"Movie\", \"Movie\", \"Movie\", \"Series\", \"Movie\", \"Movie\", \"Movie\", \"Movie\", \"Movie\", \"Movie\", \"Movie\", \"Movie\", \"Movie\", \"Series\", \"Movie\", \"Movie\", \"Series\", \"Series\", \"Series\", \"Movie\", \"Movie\", \"Movie\", \"Movie\", \"Movie\", \"Series\", \"Movie\", \"Movie\", \"Movie\", \"Movie\", \"Movie\", \"Movie\", \"Series\", \"Movie\", \"Movie\", \"Series\", \"Movie\", \"Movie\", \"Movie\", \"Series\", \"Movie\", \"Movie\", \"Movie\", \"Movie\", \"Series\", \"Series\", \"Movie\", \"Movie\", \"Movie\", \"Series\", \"Movie\", \"Movie\", \"Movie\", \"Movie\", \"Series\", \"Movie\", \"Movie\", \"Movie\", \"Movie\", \"Movie\", \"Movie\", \"Movie\", \"Movie\", \"Movie\", \"Movie\", \"Movie\", \"Movie\", \"Series\", \"Movie\", \"Movie\", \"Movie\", \"Movie\", \"Movie\", \"Movie\", \"Series\", \"Movie\", \"Movie\", \"Series\", \"Movie\", \"Movie\", \"Movie\", \"Movie\", \"Movie\", \"Movie\", \"Movie\", \"Movie\", \"Movie\", \"Movie\", \"Movie\", \"Series\", \"Series\", \"Series\", \"Series\", \"Movie\", \"Movie\", \"Movie\", \"Series\", \"Movie\", \"Movie\", \"Series\", \"Movie\", \"Movie\", \"Movie\", \"Series\", \"Movie\", \"Movie\", \"Movie\", \"Movie\", \"Movie\", \"Movie\", \"Movie\", \"Movie\", \"Movie\", \"Movie\", \"Movie\", \"Movie\", \"Movie\", \"Movie\", \"Series\", \"Movie\", \"Movie\", \"Movie\", \"Movie\", \"Movie\", \"Movie\", \"Movie\", \"Movie\", \"Movie\", \"Movie\", \"Movie\", \"Movie\", \"Movie\", \"Movie\", \"Movie\", \"Movie\", \"Movie\", \"Movie\", \"Movie\", \"Movie\", \"Series\", \"Movie\", \"Movie\", \"Series\", \"Movie\", \"Movie\", \"Movie\", \"Series\", \"Series\", \"Movie\", \"Movie\", \"Movie\", \"Movie\", \"Movie\", \"Movie\", \"Movie\", \"Series\", \"Movie\", \"Movie\", \"Movie\", \"Movie\", \"Movie\", \"Movie\", \"Movie\", \"Movie\", \"Movie\", \"Movie\", \"Movie\", \"Series\", \"Series\", \"Movie\", \"Movie\", \"Movie\", \"Movie\", \"Movie\", \"Movie\", \"Series\", \"Series\", \"Movie\", \"Movie\", \"Series\", \"Movie\", \"Movie\", \"Movie\", \"Movie\", \"Movie\", \"Movie\", \"Movie\", \"Movie\", \"Movie\", \"Movie\", \"Movie\", \"Movie\", \"Series\", \"Movie\", \"Movie\", \"Movie\", \"Movie\", \"Series\", \"Movie\", \"Movie\", \"Movie\", \"Movie\", \"Movie\", \"Movie\", \"Series\", \"Series\", \"Movie\", \"Movie\", \"Movie\", \"Movie\", \"Movie\", \"Movie\", \"Movie\", \"Movie\", \"Movie\", \"Series\", \"Movie\", \"Movie\", \"Series\", \"Movie\", \"Movie\", \"Movie\", \"Series\", \"Movie\", \"Movie\", \"Movie\", \"Movie\", \"Movie\", \"Movie\", \"Movie\", \"Movie\", \"Movie\", \"Movie\", \"Movie\", \"Movie\", \"Movie\", \"Movie\", \"Movie\", \"Movie\", \"Movie\", \"Movie\", \"Movie\", \"Movie\", \"Movie\", \"Movie\", \"Movie\", \"Series\", \"Movie\", \"Movie\", \"Movie\", \"Movie\", \"Movie\", \"Movie\", \"Movie\", \"Series\", \"Movie\", \"Series\", \"Movie\", \"Movie\", \"Series\", \"Movie\", \"Movie\", \"Movie\", \"Series\", \"Movie\", \"Movie\", \"Movie\", \"Movie\", \"Movie\", \"Movie\", \"Movie\", \"Movie\", \"Movie\", \"Movie\", \"Movie\", \"Movie\", \"Series\", \"Movie\", \"Movie\", \"Movie\", \"Movie\", \"Movie\", \"Movie\", \"Series\", \"Movie\", \"Movie\", \"Movie\", \"Series\", \"Series\", \"Movie\", \"Movie\", \"Movie\", \"Movie\", \"Movie\", \"Series\", \"Movie\", \"Movie\", \"Series\", \"Series\", \"Movie\", \"Series\", \"Series\", \"Movie\", \"Movie\", \"Movie\", \"Movie\", \"Movie\", \"Movie\", \"Movie\", \"Movie\", \"Series\", \"Movie\", \"Movie\", \"Series\", \"Movie\", \"Movie\", \"Movie\", \"Series\", \"Movie\", \"Series\", \"Series\", \"Series\", \"Movie\", \"Movie\", \"Movie\", \"Movie\", \"Movie\", \"Movie\", \"Movie\", \"Movie\", \"Movie\", \"Movie\", \"Movie\", \"Movie\", \"Movie\", \"Movie\", \"Movie\", \"Movie\", \"Movie\", \"Movie\", \"Movie\", \"Movie\", \"Movie\", \"Movie\", \"Movie\", \"Movie\", \"Movie\", \"Movie\", \"Movie\", \"Series\", \"Movie\", \"Movie\", \"Movie\", \"Movie\", \"Movie\", \"Movie\", \"Movie\", \"Movie\", \"Movie\", \"Movie\", \"Movie\", \"Movie\", \"Movie\", \"Movie\", \"Movie\", \"Movie\", \"Series\", \"Series\", \"Movie\", \"Movie\", \"Movie\", \"Movie\", \"Movie\", \"Movie\", \"Movie\", \"Movie\", \"Movie\", \"Movie\", \"Movie\", \"Movie\", \"Movie\", \"Movie\", \"Movie\", \"Movie\", \"Movie\", \"Movie\", \"Series\", \"Movie\", \"Series\", \"Movie\", \"Movie\", \"Movie\", \"Movie\", \"Series\", \"Movie\", \"Movie\", \"Movie\", \"Movie\", \"Movie\", \"Movie\", \"Movie\", \"Movie\", \"Movie\", \"Movie\", \"Movie\", \"Movie\", \"Movie\", \"Movie\", \"Movie\", \"Movie\", \"Movie\", \"Movie\", \"Movie\", \"Movie\", \"Movie\", \"Movie\", \"Movie\", \"Movie\", \"Movie\", \"Movie\", \"Movie\", \"Movie\", \"Movie\", \"Movie\", \"Movie\", \"Movie\", \"Movie\", \"Movie\", \"Movie\", \"Movie\", \"Movie\", \"Movie\", \"Movie\", \"Series\", \"Movie\", \"Series\", \"Movie\", \"Movie\", \"Movie\", \"Movie\", \"Movie\", \"Movie\", \"Movie\", \"Movie\", \"Movie\", \"Series\", \"Series\", \"Series\", \"Movie\", \"Movie\", \"Movie\", \"Movie\", \"Movie\", \"Movie\", \"Movie\", \"Series\", \"Movie\", \"Movie\", \"Movie\", \"Movie\", \"Series\", \"Movie\", \"Movie\", \"Movie\", \"Movie\", \"Movie\", \"Movie\", \"Movie\", \"Movie\", \"Series\", \"Movie\", \"Movie\", \"Series\", \"Movie\", \"Movie\", \"Movie\", \"Movie\", \"Movie\", \"Movie\", \"Movie\", \"Movie\", \"Movie\", \"Movie\", \"Movie\", \"Movie\", \"Movie\", \"Movie\", \"Movie\", \"Movie\", \"Movie\", \"Series\", \"Movie\", \"Movie\", \"Movie\", \"Movie\", \"Movie\", \"Movie\", \"Movie\", \"Movie\", \"Movie\", \"Movie\", \"Movie\", \"Series\", \"Movie\", \"Movie\", \"Series\", \"Movie\", \"Movie\", \"Movie\", \"Movie\", \"Movie\", \"Movie\", \"Series\", \"Movie\", \"Movie\", \"Movie\", \"Movie\", \"Movie\", \"Movie\", \"Movie\", \"Movie\", \"Series\", \"Series\", \"Movie\", \"Movie\", \"Movie\", \"Movie\", \"Movie\", \"Movie\", \"Movie\", \"Movie\", \"Movie\", \"Series\", \"Movie\", \"Movie\", \"Movie\", \"Movie\", \"Movie\", \"Series\", \"Movie\", \"Movie\", \"Movie\", \"Movie\", \"Movie\", \"Movie\", \"Movie\", \"Movie\", \"Movie\", \"Movie\", \"Movie\", \"Movie\", \"Series\", \"Movie\", \"Movie\", \"Movie\", \"Movie\", \"Movie\", \"Movie\", \"Movie\", \"Movie\", \"Movie\", \"Movie\", \"Series\", \"Movie\", \"Movie\", \"Movie\", \"Movie\", \"Movie\", \"Series\", \"Movie\", \"Movie\", \"Movie\", \"Movie\", \"Series\", \"Movie\", \"Movie\", \"Series\", \"Movie\", \"Series\", \"Movie\", \"Series\", \"Movie\", \"Series\", \"Movie\", \"Movie\", \"Movie\", \"Movie\", \"Movie\", \"Movie\", \"Movie\", \"Movie\", \"Movie\", \"Series\", \"Movie\", \"Movie\", \"Movie\", \"Movie\", \"Movie\", \"Series\", \"Movie\", \"Series\", \"Movie\", \"Movie\", \"Movie\", \"Movie\", \"Movie\", \"Movie\", \"Movie\", \"Movie\", \"Series\", \"Movie\", \"Series\", \"Movie\", \"Series\", \"Movie\", \"Series\", \"Movie\", \"Movie\", \"Series\", \"Movie\", \"Series\", \"Movie\", \"Movie\", \"Movie\", \"Series\", \"Series\", \"Movie\", \"Movie\", \"Movie\", \"Movie\", \"Movie\", \"Movie\", \"Movie\", \"Movie\", \"Movie\", \"Movie\", \"Movie\", \"Movie\", \"Movie\", \"Movie\", \"Movie\", \"Movie\", \"Movie\", \"Movie\", \"Movie\", \"Movie\", \"Movie\", \"Movie\", \"Movie\", \"Movie\", \"Movie\", \"Movie\", \"Movie\", \"Movie\", \"Movie\", \"Movie\", \"Movie\", \"Movie\", \"Movie\", \"Movie\", \"Series\", \"Movie\", \"Movie\", \"Movie\", \"Movie\", \"Movie\", \"Movie\", \"Movie\", \"Movie\", \"Movie\", \"Movie\", \"Movie\", \"Movie\", \"Movie\", \"Movie\", \"Movie\", \"Series\", \"Movie\", \"Movie\", \"Movie\", \"Movie\", \"Movie\", \"Movie\", \"Series\", \"Movie\", \"Movie\", \"Movie\", \"Movie\", \"Movie\", \"Movie\", \"Series\", \"Series\", \"Movie\", \"Movie\", \"Movie\", \"Series\", \"Movie\", \"Movie\", \"Movie\", \"Movie\", \"Movie\", \"Movie\", \"Movie\", \"Series\", \"Series\", \"Movie\", \"Movie\", \"Movie\", \"Movie\", \"Movie\", \"Movie\", \"Movie\", \"Movie\", \"Movie\", \"Series\", \"Movie\", \"Movie\", \"Movie\", \"Movie\", \"Movie\", \"Series\", \"Movie\", \"Movie\", \"Series\", \"Movie\", \"Movie\", \"Movie\", \"Series\", \"Movie\", \"Series\", \"Movie\", \"Movie\", \"Movie\", \"Series\", \"Movie\", \"Series\", \"Movie\", \"Series\", \"Series\", \"Movie\", \"Movie\", \"Movie\", \"Movie\", \"Movie\", \"Series\", \"Movie\", \"Movie\", \"Movie\", \"Movie\", \"Movie\", \"Movie\", \"Movie\", \"Movie\", \"Series\", \"Series\", \"Movie\", \"Movie\", \"Movie\", \"Movie\", \"Movie\", \"Movie\", \"Movie\", \"Movie\", \"Movie\", \"Movie\", \"Movie\", \"Movie\", \"Movie\", \"Movie\", \"Movie\", \"Movie\", \"Movie\", \"Movie\", \"Movie\", \"Movie\", \"Movie\", \"Movie\", \"Movie\", \"Series\", \"Movie\", \"Movie\", \"Movie\", \"Series\", \"Movie\", \"Movie\", \"Series\", \"Movie\", \"Movie\", \"Movie\", \"Movie\", \"Movie\", \"Movie\", \"Movie\", \"Movie\", \"Movie\", \"Series\", \"Series\", \"Movie\", \"Movie\", \"Series\", \"Movie\", \"Movie\", \"Movie\", \"Series\", \"Movie\", \"Movie\", \"Movie\", \"Movie\", \"Movie\", \"Movie\", \"Movie\", \"Movie\", \"Movie\", \"Movie\", \"Movie\", \"Movie\", \"Movie\", \"Movie\", \"Movie\", \"Series\", \"Series\", \"Movie\", \"Movie\", \"Movie\", \"Series\", \"Series\", \"Series\", \"Movie\", \"Series\", \"Movie\", \"Movie\", \"Movie\", \"Movie\", \"Series\", \"Series\", \"Series\", \"Series\", \"Movie\", \"Movie\", \"Movie\", \"Movie\", \"Movie\", \"Movie\", \"Series\", \"Movie\", \"Movie\", \"Movie\", \"Movie\", \"Movie\", \"Movie\", \"Series\", \"Movie\", \"Movie\", \"Movie\", \"Movie\", \"Movie\", \"Movie\", \"Movie\", \"Movie\", \"Movie\", \"Movie\", \"Movie\", \"Movie\", \"Movie\", \"Movie\", \"Movie\", \"Movie\", \"Movie\", \"Movie\", \"Series\", \"Movie\", \"Movie\", \"Movie\", \"Series\", \"Movie\", \"Movie\", \"Movie\", \"Movie\", \"Movie\", \"Movie\", \"Movie\", \"Movie\", \"Series\", \"Series\", \"Movie\", \"Movie\", \"Movie\", \"Movie\", \"Movie\", \"Movie\", \"Movie\", \"Movie\", \"Movie\", \"Movie\", \"Series\", \"Series\", \"Movie\", \"Movie\", \"Movie\", \"Movie\", \"Movie\", \"Movie\", \"Movie\", \"Movie\", \"Movie\", \"Movie\", \"Movie\", \"Movie\", \"Movie\", \"Movie\", \"Movie\", \"Series\", \"Movie\", \"Movie\", \"Movie\", \"Movie\", \"Movie\", \"Movie\", \"Movie\", \"Movie\", \"Movie\", \"Movie\", \"Movie\", \"Movie\", \"Movie\", \"Movie\", \"Movie\", \"Movie\", \"Movie\", \"Series\", \"Movie\", \"Movie\", \"Movie\", \"Series\", \"Series\", \"Movie\", \"Movie\", \"Movie\", \"Movie\", \"Movie\", \"Movie\", \"Movie\", \"Movie\", \"Movie\", \"Movie\", \"Movie\", \"Movie\", \"Movie\", \"Movie\", \"Movie\", \"Movie\", \"Movie\", \"Series\", \"Series\", \"Movie\", \"Series\", \"Movie\", \"Movie\", \"Movie\", \"Movie\", \"Movie\", \"Series\", \"Movie\", \"Movie\", \"Movie\", \"Movie\", \"Movie\", \"Movie\", \"Series\", \"Movie\", \"Movie\", \"Movie\", \"Movie\", \"Movie\", \"Movie\", \"Movie\", \"Series\", \"Movie\", \"Movie\", \"Series\", \"Movie\", \"Movie\", \"Movie\", \"Movie\", \"Movie\", \"Movie\", \"Movie\", \"Series\", \"Series\", \"Movie\", \"Movie\", \"Movie\", \"Movie\", \"Movie\", \"Movie\", \"Movie\", \"Movie\", \"Series\", \"Movie\", \"Movie\", \"Movie\", \"Series\", \"Series\", \"Series\", \"Movie\", \"Movie\", \"Movie\", \"Series\", \"Movie\", \"Movie\", \"Movie\", \"Movie\", \"Series\", \"Movie\", \"Movie\", \"Movie\", \"Movie\", \"Movie\", \"Movie\", \"Movie\", \"Movie\", \"Movie\", \"Series\", \"Series\", \"Movie\", \"Movie\", \"Series\", \"Series\", \"Movie\", \"Series\", \"Series\", \"Series\", \"Movie\", \"Movie\", \"Series\", \"Movie\", \"Movie\", \"Series\", \"Series\", \"Series\", \"Movie\", \"Movie\", \"Movie\", \"Movie\", \"Series\", \"Movie\", \"Movie\", \"Movie\", \"Series\", \"Series\", \"Series\", \"Movie\", \"Movie\", \"Movie\", \"Series\", \"Series\", \"Movie\", \"Movie\", \"Movie\", \"Movie\", \"Movie\", \"Series\", \"Movie\", \"Movie\", \"Movie\", \"Movie\", \"Movie\", \"Movie\", \"Movie\", \"Movie\", \"Movie\", \"Movie\", \"Movie\", \"Movie\", \"Movie\", \"Movie\", \"Movie\", \"Series\", \"Movie\", \"Movie\", \"Movie\", \"Movie\", \"Movie\", \"Movie\", \"Series\", \"Movie\", \"Movie\", \"Movie\", \"Movie\", \"Movie\", \"Movie\", \"Series\", \"Movie\", \"Movie\", \"Movie\", \"Movie\", \"Movie\", \"Movie\", \"Movie\", \"Movie\", \"Movie\", \"Movie\", \"Movie\", \"Movie\", \"Movie\", \"Movie\", \"Movie\", \"Series\", \"Movie\", \"Movie\", \"Series\", \"Movie\", \"Movie\", \"Series\", \"Movie\", \"Movie\", \"Movie\", \"Movie\", \"Movie\", \"Movie\", \"Series\", \"Movie\", \"Movie\", \"Movie\", \"Movie\", \"Movie\", \"Movie\", \"Movie\", \"Series\", \"Movie\", \"Movie\", \"Movie\", \"Movie\", \"Movie\", \"Movie\", \"Movie\", \"Movie\", \"Movie\", \"Movie\", \"Movie\", \"Movie\", \"Movie\", \"Movie\", \"Movie\", \"Movie\", \"Movie\", \"Movie\", \"Movie\", \"Movie\", \"Movie\", \"Series\", \"Movie\", \"Movie\", \"Movie\", \"Movie\", \"Series\", \"Movie\", \"Movie\", \"Movie\", \"Movie\", \"Movie\", \"Movie\", \"Movie\", \"Movie\", \"Movie\", \"Movie\", \"Series\", \"Series\", \"Series\", \"Movie\", \"Movie\", \"Series\", \"Series\", \"Series\", \"Series\", \"Movie\", \"Series\", \"Series\", \"Movie\", \"Movie\", \"Movie\", \"Movie\", \"Series\", \"Series\", \"Series\", \"Series\", \"Series\", \"Movie\", \"Series\", \"Movie\", \"Series\", \"Series\", \"Movie\", \"Movie\", \"Series\", \"Series\", \"Series\", \"Series\", \"Series\", \"Movie\", \"Movie\", \"Movie\", \"Movie\", \"Movie\", \"Series\", \"Series\", \"Series\", \"Series\", \"Series\", \"Movie\", \"Series\", \"Movie\", \"Series\", \"Series\", \"Series\", \"Series\", \"Series\", \"Series\", \"Series\", \"Movie\", \"Movie\", \"Series\", \"Series\", \"Series\", \"Series\", \"Series\", \"Movie\", \"Movie\", \"Movie\", \"Movie\", \"Movie\", \"Movie\", \"Movie\", \"Movie\", \"Movie\", \"Movie\", \"Movie\", \"Movie\", \"Movie\", \"Movie\", \"Movie\", \"Movie\", \"Movie\", \"Movie\", \"Movie\", \"Movie\", \"Movie\", \"Movie\", \"Movie\", \"Movie\", \"Movie\", \"Series\", \"Series\", \"Movie\", \"Series\", \"Movie\", \"Movie\", \"Series\", \"Movie\", \"Series\", \"Series\", \"Series\", \"Series\", \"Movie\", \"Series\", \"Series\", \"Movie\", \"Series\", \"Movie\", \"Series\", \"Movie\", \"Movie\", \"Series\", \"Movie\", \"Series\", \"Movie\", \"Series\", \"Movie\", \"Movie\", \"Movie\", \"Movie\", \"Series\", \"Movie\", \"Movie\", \"Movie\", \"Movie\", \"Series\", \"Series\", \"Series\", \"Series\", \"Movie\", \"Movie\", \"Movie\", \"Series\", \"Series\", \"Series\", \"Movie\", \"Movie\", \"Movie\", \"Movie\", \"Series\", \"Series\", \"Series\", \"Series\", \"Series\", \"Movie\", \"Movie\", \"Movie\", \"Movie\", \"Series\", \"Movie\", \"Movie\", \"Movie\", \"Series\", \"Movie\", \"Series\", \"Movie\", \"Movie\", \"Series\", \"Series\", \"Series\", \"Movie\", \"Movie\", \"Movie\", \"Series\", \"Series\", \"Movie\", \"Series\", \"Movie\", \"Movie\", \"Series\", \"Series\", \"Series\", \"Series\", \"Series\", \"Series\", \"Movie\", \"Series\", \"Movie\", \"Series\", \"Series\", \"Movie\", \"Movie\", \"Series\", \"Series\", \"Series\", \"Series\", \"Series\", \"Movie\", \"Series\", \"Movie\", \"Movie\", \"Series\", \"Movie\", \"Series\", \"Series\", \"Series\", \"Series\", \"Series\", \"Series\", \"Series\", \"Series\", \"Series\", \"Series\", \"Movie\", \"Movie\", \"Movie\", \"Series\", \"Movie\", \"Movie\", \"Movie\", \"Movie\", \"Movie\", \"Movie\", \"Movie\", \"Movie\", \"Movie\", \"Movie\", \"Movie\", \"Movie\", \"Movie\", \"Movie\", \"Movie\", \"Movie\", \"Movie\", \"Movie\", \"Series\", \"Movie\", \"Movie\", \"Movie\", \"Movie\", \"Movie\", \"Movie\", \"Movie\", \"Movie\", \"Series\", \"Movie\", \"Series\", \"Series\", \"Movie\", \"Series\", \"Series\", \"Series\", \"Series\", \"Series\", \"Movie\", \"Series\", \"Series\", \"Series\", \"Series\", \"Movie\", \"Series\", \"Series\", \"Movie\", \"Movie\", \"Series\", \"Series\", \"Series\", \"Series\", \"Movie\", \"Movie\", \"Series\", \"Series\", \"Movie\", \"Series\", \"Movie\", \"Series\", \"Series\", \"Series\", \"Series\", \"Series\", \"Series\", \"Series\", \"Series\", \"Series\", \"Series\", \"Movie\", \"Series\", \"Series\", \"Series\", \"Series\", \"Series\", \"Series\", \"Series\", \"Series\", \"Series\", \"Series\", \"Movie\", \"Movie\", \"Series\", \"Series\", \"Series\", \"Movie\", \"Movie\", \"Series\", \"Series\", \"Series\", \"Movie\", \"Movie\", \"Movie\", \"Movie\", \"Movie\", \"Series\", \"Series\", \"Movie\", \"Series\", \"Series\", \"Movie\", \"Movie\", \"Series\", \"Series\", \"Series\", \"Series\", \"Series\", \"Series\", \"Series\", \"Movie\", \"Movie\", \"Series\", \"Series\", \"Series\", \"Series\", \"Movie\", \"Series\", \"Series\", \"Movie\", \"Movie\", \"Movie\", \"Series\", \"Movie\", \"Movie\", \"Movie\", \"Movie\", \"Series\", \"Movie\", \"Movie\", \"Movie\", \"Movie\", \"Movie\", \"Movie\", \"Movie\", \"Movie\", \"Movie\", \"Movie\", \"Series\", \"Series\", \"Series\", \"Series\", \"Series\", \"Series\", \"Series\", \"Series\", \"Series\", \"Movie\", \"Movie\", \"Movie\", \"Movie\", \"Movie\", \"Movie\", \"Movie\", \"Movie\", \"Movie\", \"Series\", \"Series\", \"Series\", \"Series\", \"Movie\", \"Series\", \"Movie\", \"Movie\", \"Movie\", \"Movie\", \"Movie\", \"Movie\", \"Series\", \"Movie\", \"Movie\", \"Movie\", \"Series\", \"Series\", \"Series\", \"Movie\", \"Series\", \"Series\", \"Movie\", \"Movie\", \"Series\", \"Series\", \"Movie\", \"Series\", \"Movie\", \"Series\", \"Series\", \"Series\", \"Movie\", \"Movie\", \"Series\", \"Movie\", \"Movie\", \"Series\", \"Series\", \"Movie\", \"Movie\", \"Movie\", \"Series\", \"Movie\", \"Movie\", \"Series\", \"Series\", \"Movie\", \"Movie\", \"Series\", \"Series\", \"Movie\", \"Movie\", \"Series\", \"Series\", \"Movie\", \"Series\", \"Series\", \"Series\", \"Series\", \"Series\", \"Movie\", \"Movie\", \"Series\", \"Series\", \"Movie\", \"Movie\", \"Series\", \"Movie\", \"Movie\", \"Movie\", \"Series\", \"Series\", \"Series\", \"Movie\", \"Series\", \"Series\", \"Series\", \"Series\", \"Series\", \"Series\", \"Movie\", \"Series\", \"Series\", \"Series\", \"Movie\", \"Series\", \"Movie\", \"Movie\", \"Movie\", \"Movie\", \"Movie\", \"Movie\", \"Series\", \"Movie\", \"Movie\", \"Movie\", \"Movie\", \"Series\", \"Series\", \"Series\", \"Movie\", \"Movie\", \"Movie\", \"Movie\", \"Movie\", \"Series\", \"Series\", \"Series\", \"Movie\", \"Series\", \"Movie\", \"Series\", \"Movie\", \"Movie\", \"Series\", \"Series\", \"Series\", \"Series\", \"Movie\", \"Movie\", \"Series\", \"Series\", \"Series\", \"Series\", \"Movie\", \"Movie\", \"Movie\", \"Movie\", \"Series\", \"Series\", \"Series\", \"Series\", \"Movie\", \"Series\", \"Movie\", \"Movie\", \"Series\", \"Movie\", \"Series\", \"Series\", \"Series\", \"Series\", \"Series\", \"Movie\", \"Movie\", \"Movie\", \"Movie\", \"Movie\", \"Series\", \"Series\", \"Series\", \"Series\", \"Movie\", \"Movie\", \"Series\", \"Movie\", \"Movie\", \"Movie\", \"Series\", \"Series\", \"Series\", \"Movie\", \"Series\", \"Movie\", \"Movie\", \"Movie\", \"Movie\", \"Movie\", \"Movie\", \"Movie\", \"Series\", \"Movie\", \"Series\", \"Movie\", \"Movie\", \"Movie\", \"Series\", \"Series\", \"Series\", \"Movie\", \"Movie\", \"Series\", \"Movie\", \"Series\", \"Movie\", \"Movie\", \"Series\", \"Series\", \"Series\", \"Movie\", \"Movie\", \"Series\", \"Series\", \"Series\", \"Movie\", \"Series\", \"Series\", \"Movie\", \"Movie\", \"Series\", \"Series\", \"Movie\", \"Movie\", \"Series\", \"Series\", \"Series\", \"Movie\", \"Movie\", \"Series\", \"Series\", \"Series\", \"Series\", \"Movie\", \"Series\", \"Series\", \"Series\", \"Movie\", \"Series\", \"Series\", \"Movie\", \"Series\", \"Series\", \"Series\", \"Series\", \"Series\", \"Movie\", \"Movie\", \"Movie\", \"Movie\", \"Movie\", \"Series\", \"Movie\", \"Movie\", \"Movie\", \"Movie\", \"Movie\", \"Movie\", \"Movie\", \"Movie\", \"Movie\", \"Movie\", \"Movie\", \"Movie\", \"Movie\", \"Movie\", \"Movie\", \"Movie\", \"Movie\", \"Movie\", \"Movie\", \"Movie\", \"Movie\", \"Movie\", \"Movie\", \"Movie\", \"Movie\", \"Movie\", \"Series\", \"Series\", \"Movie\", \"Movie\", \"Movie\", \"Movie\", \"Movie\", \"Movie\", \"Movie\", \"Movie\", \"Movie\", \"Movie\", \"Movie\", \"Movie\", \"Movie\", \"Movie\", \"Movie\", \"Movie\", \"Series\", \"Movie\", \"Movie\", \"Movie\", \"Movie\", \"Movie\", \"Movie\", \"Movie\", \"Movie\", \"Movie\", \"Movie\", \"Movie\", \"Movie\", \"Movie\", \"Movie\", \"Movie\", \"Series\", \"Movie\", \"Movie\", \"Movie\", \"Movie\", \"Movie\", \"Movie\", \"Movie\", \"Series\", \"Series\", \"Movie\", \"Movie\", \"Movie\", \"Series\", \"Movie\", \"Movie\", \"Movie\", \"Series\", \"Movie\", \"Movie\", \"Movie\", \"Series\", \"Movie\", \"Movie\", \"Movie\", \"Movie\", \"Movie\", \"Movie\", \"Series\", \"Movie\", \"Movie\", \"Movie\", \"Movie\", \"Movie\", \"Movie\", \"Movie\", \"Movie\", \"Movie\", \"Movie\", \"Movie\", \"Movie\", \"Movie\", \"Movie\", \"Movie\", \"Series\", \"Movie\", \"Movie\", \"Movie\", \"Movie\", \"Movie\", \"Movie\", \"Movie\", \"Movie\", \"Movie\", \"Movie\", \"Movie\", \"Movie\", \"Movie\", \"Movie\", \"Movie\", \"Movie\", \"Movie\", \"Movie\", \"Movie\", \"Movie\", \"Movie\", \"Movie\", \"Movie\", \"Movie\", \"Movie\", \"Movie\", \"Movie\", \"Movie\", \"Movie\", \"Movie\", \"Movie\", \"Movie\", \"Movie\", \"Movie\", \"Movie\", \"Movie\", \"Movie\", \"Movie\", \"Movie\", \"Movie\", \"Movie\", \"Movie\", \"Movie\", \"Movie\", \"Movie\", \"Movie\", \"Movie\", \"Movie\", \"Movie\", \"Movie\", \"Movie\", \"Movie\", \"Movie\", \"Movie\", \"Movie\", \"Movie\", \"Movie\", \"Movie\", \"Movie\", \"Movie\", \"Movie\", \"Series\", \"Movie\", \"Movie\", \"Movie\", \"Movie\", \"Movie\", \"Movie\", \"Movie\", \"Movie\", \"Movie\", \"Movie\", \"Movie\", \"Movie\", \"Movie\", \"Movie\", \"Movie\", \"Movie\", \"Series\", \"Movie\", \"Movie\", \"Movie\", \"Movie\", \"Movie\", \"Movie\", \"Movie\", \"Movie\", \"Movie\", \"Series\", \"Movie\", \"Movie\", \"Movie\", \"Movie\", \"Series\", \"Movie\", \"Movie\", \"Movie\", \"Movie\", \"Movie\", \"Movie\", \"Movie\", \"Movie\", \"Movie\", \"Movie\", \"Series\", \"Movie\", \"Movie\", \"Series\", \"Movie\", \"Movie\", \"Movie\", \"Movie\", \"Series\", \"Movie\", \"Movie\", \"Movie\", \"Movie\", \"Movie\", \"Movie\", \"Movie\", \"Movie\", \"Movie\", \"Movie\", \"Movie\", \"Series\", \"Movie\", \"Movie\", \"Movie\", \"Movie\", \"Series\", \"Movie\", \"Movie\", \"Series\", \"Movie\", \"Movie\", \"Movie\", \"Movie\", \"Movie\", \"Movie\", \"Movie\", \"Movie\", \"Movie\", \"Movie\", \"Movie\", \"Movie\", \"Movie\", \"Movie\", \"Movie\", \"Movie\", \"Movie\", \"Movie\", \"Movie\", \"Movie\", \"Movie\", \"Movie\", \"Movie\", \"Movie\", \"Series\", \"Movie\", \"Movie\", \"Movie\", \"Movie\", \"Movie\", \"Movie\", \"Movie\", \"Movie\", \"Movie\", \"Movie\", \"Movie\", \"Movie\", \"Movie\", \"Movie\", \"Movie\", \"Movie\", \"Movie\", \"Movie\", \"Movie\", \"Movie\", \"Movie\", \"Movie\", \"Series\", \"Movie\", \"Movie\", \"Movie\", \"Movie\", \"Movie\", \"Movie\", \"Movie\", \"Movie\", \"Movie\", \"Movie\", \"Movie\", \"Movie\", \"Movie\", \"Movie\", \"Movie\", \"Movie\", \"Movie\", \"Movie\", \"Movie\", \"Series\", \"Movie\", \"Movie\", \"Movie\", \"Movie\", \"Movie\", \"Movie\", \"Movie\", \"Movie\", \"Movie\", \"Movie\", \"Movie\", \"Movie\", \"Movie\", \"Movie\", \"Movie\", \"Movie\", \"Movie\", \"Movie\", \"Movie\", \"Movie\", \"Movie\", \"Movie\", \"Series\", \"Movie\", \"Movie\", \"Movie\", \"Movie\", \"Movie\", \"Movie\", \"Movie\", \"Movie\", \"Movie\", \"Movie\", \"Movie\", \"Movie\", \"Movie\", \"Movie\", \"Movie\", \"Movie\", \"Movie\", \"Series\", \"Movie\", \"Movie\", \"Movie\", \"Movie\", \"Movie\", \"Movie\", \"Movie\", \"Movie\", \"Movie\", \"Movie\", \"Movie\", \"Movie\", \"Movie\", \"Movie\", \"Movie\", \"Movie\", \"Movie\", \"Movie\", \"Movie\", \"Movie\", \"Movie\", \"Movie\", \"Movie\", \"Movie\", \"Movie\", \"Movie\", \"Movie\", \"Movie\", \"Movie\", \"Movie\", \"Movie\", \"Movie\", \"Movie\", \"Movie\", \"Movie\", \"Movie\", \"Movie\", \"Movie\", \"Movie\", \"Movie\", \"Movie\", \"Movie\", \"Movie\", \"Movie\", \"Movie\", \"Movie\", \"Movie\", \"Movie\", \"Series\", \"Movie\", \"Movie\", \"Movie\", \"Movie\", \"Movie\", \"Movie\", \"Movie\", \"Movie\", \"Movie\", \"Series\", \"Movie\", \"Movie\", \"Movie\", \"Movie\", \"Movie\", \"Movie\", \"Movie\", \"Movie\", \"Movie\", \"Movie\", \"Movie\", \"Series\", \"Movie\", \"Movie\", \"Movie\", \"Movie\", \"Movie\", \"Movie\", \"Movie\", \"Series\", \"Movie\", \"Series\", \"Movie\", \"Movie\", \"Movie\", \"Series\", \"Movie\", \"Movie\", \"Movie\", \"Movie\", \"Series\", \"Series\", \"Movie\", \"Movie\", \"Movie\", \"Movie\", \"Movie\", \"Movie\", \"Movie\", \"Movie\", \"Movie\", \"Movie\", \"Series\", \"Movie\", \"Movie\", \"Series\", \"Series\", \"Series\", \"Series\", \"Movie\", \"Movie\", \"Movie\", \"Movie\", \"Movie\", \"Movie\", \"Movie\", \"Series\", \"Movie\", \"Movie\", \"Series\", \"Movie\", \"Movie\", \"Movie\", \"Movie\", \"Movie\", \"Movie\", \"Series\", \"Movie\", \"Series\", \"Series\", \"Series\", \"Movie\", \"Movie\", \"Series\", \"Movie\", \"Series\", \"Movie\", \"Movie\", \"Movie\", \"Movie\", \"Series\", \"Movie\", \"Series\", \"Movie\", \"Movie\", \"Movie\", \"Movie\", \"Series\", \"Movie\", \"Movie\", \"Movie\", \"Movie\", \"Movie\", \"Series\", \"Movie\", \"Series\", \"Movie\", \"Movie\", \"Movie\", \"Movie\", \"Movie\", \"Series\", \"Movie\", \"Movie\", \"Movie\", \"Movie\", \"Movie\", \"Movie\", \"Movie\", \"Movie\", \"Movie\", \"Series\", \"Movie\", \"Movie\", \"Movie\", \"Movie\", \"Movie\", \"Movie\", \"Movie\", \"Movie\", \"Movie\", \"Movie\", \"Movie\", \"Movie\", \"Movie\", \"Movie\", \"Movie\", \"Movie\", \"Movie\", \"Movie\", \"Movie\", \"Movie\", \"Movie\", \"Movie\", \"Movie\", \"Movie\", \"Movie\", \"Movie\", \"Series\", \"Movie\", \"Movie\", \"Movie\", \"Movie\", \"Movie\", \"Movie\", \"Movie\", \"Movie\", \"Movie\", \"Movie\", \"Movie\", \"Series\", \"Movie\", \"Movie\", \"Series\", \"Movie\", \"Series\", \"Movie\", \"Movie\", \"Movie\", \"Movie\", \"Series\", \"Movie\", \"Movie\", \"Movie\", \"Movie\", \"Movie\", \"Movie\", \"Movie\", \"Movie\", \"Movie\", \"Movie\", \"Series\", \"Movie\", \"Movie\", \"Movie\", \"Movie\", \"Movie\", \"Movie\", \"Movie\", \"Movie\", \"Movie\", \"Series\", \"Movie\", \"Movie\", \"Movie\", \"Movie\", \"Movie\", \"Movie\", \"Series\", \"Series\", \"Movie\", \"Series\", \"Movie\", \"Movie\", \"Series\", \"Movie\", \"Movie\", \"Movie\", \"Movie\", \"Movie\", \"Movie\", \"Movie\", \"Movie\", \"Movie\", \"Movie\", \"Movie\", \"Series\", \"Movie\", \"Movie\", \"Series\", \"Movie\", \"Movie\", \"Movie\", \"Series\", \"Movie\", \"Movie\", \"Series\", \"Movie\", \"Series\", \"Movie\", \"Movie\", \"Series\", \"Movie\", \"Movie\", \"Movie\", \"Movie\", \"Movie\", \"Series\", \"Movie\", \"Series\", \"Movie\", \"Movie\", \"Movie\", \"Movie\", \"Series\", \"Movie\", \"Movie\", \"Movie\", \"Movie\", \"Movie\", \"Movie\", \"Movie\", \"Movie\", \"Movie\", \"Series\", \"Movie\", \"Movie\", \"Movie\", \"Movie\", \"Movie\", \"Movie\", \"Movie\", \"Movie\", \"Series\", \"Series\", \"Movie\", \"Series\", \"Movie\", \"Movie\", \"Movie\", \"Movie\", \"Movie\", \"Movie\", \"Series\", \"Series\", \"Movie\", \"Movie\", \"Series\", \"Movie\", \"Movie\", \"Movie\", \"Movie\", \"Movie\", \"Movie\", \"Movie\", \"Movie\", \"Movie\", \"Series\", \"Movie\", \"Series\", \"Movie\", \"Series\", \"Movie\", \"Movie\", \"Movie\", \"Series\", \"Series\", \"Movie\", \"Movie\", \"Series\", \"Movie\", \"Movie\", \"Series\", \"Series\", \"Movie\", \"Movie\", \"Movie\", \"Series\", \"Movie\", \"Movie\", \"Movie\", \"Movie\", \"Movie\", \"Series\", \"Movie\", \"Movie\", \"Series\", \"Movie\", \"Movie\", \"Series\", \"Movie\", \"Series\", \"Movie\", \"Series\", \"Series\", \"Series\", \"Series\", \"Movie\", \"Movie\", \"Movie\", \"Movie\", \"Movie\", \"Movie\", \"Movie\", \"Movie\", \"Movie\", \"Movie\", \"Movie\", \"Movie\", \"Movie\", \"Movie\", \"Movie\", \"Movie\", \"Movie\", \"Movie\", \"Movie\", \"Movie\", \"Movie\", \"Movie\", \"Movie\", \"Movie\", \"Movie\", \"Movie\", \"Movie\", \"Movie\", \"Movie\", \"Movie\", \"Movie\", \"Movie\", \"Movie\", \"Movie\", \"Movie\", \"Movie\", \"Movie\", \"Movie\", \"Movie\", \"Movie\", \"Movie\", \"Movie\", \"Movie\", \"Movie\", \"Movie\", \"Movie\", \"Movie\", \"Series\", \"Movie\", \"Movie\", \"Movie\", \"Movie\", \"Movie\", \"Movie\", \"Movie\", \"Movie\", \"Movie\", \"Movie\", \"Movie\", \"Movie\", \"Movie\", \"Movie\", \"Movie\", \"Movie\", \"Movie\", \"Movie\", \"Movie\", \"Movie\", \"Movie\", \"Movie\", \"Movie\", \"Movie\", \"Movie\", \"Movie\", \"Movie\", \"Movie\", \"Movie\", \"Movie\", \"Movie\", \"Movie\", \"Movie\", \"Movie\", \"Movie\", \"Movie\", \"Movie\", \"Movie\", \"Series\", \"Movie\", \"Series\", \"Movie\", \"Movie\", \"Movie\", \"Movie\", \"Movie\", \"Movie\", \"Series\", \"Movie\", \"Movie\", \"Movie\", \"Movie\", \"Movie\", \"Movie\", \"Movie\", \"Movie\", \"Movie\", \"Movie\", \"Movie\", \"Movie\", \"Movie\", \"Series\", \"Series\", \"Movie\", \"Movie\", \"Movie\", \"Movie\", \"Movie\", \"Movie\", \"Movie\", \"Movie\", \"Movie\", \"Movie\", \"Movie\", \"Movie\", \"Series\", \"Series\", \"Series\", \"Movie\", \"Movie\", \"Movie\", \"Movie\", \"Movie\", \"Movie\", \"Movie\", \"Movie\", \"Series\", \"Movie\", \"Movie\", \"Movie\", \"Movie\", \"Movie\", \"Movie\", \"Movie\", \"Movie\", \"Series\", \"Series\", \"Movie\", \"Movie\", \"Series\", \"Movie\", \"Movie\", \"Movie\", \"Movie\", \"Movie\", \"Movie\", \"Movie\", \"Movie\", \"Movie\", \"Movie\", \"Movie\", \"Movie\", \"Movie\", \"Series\", \"Movie\", \"Movie\", \"Movie\", \"Series\", \"Movie\", \"Series\", \"Series\", \"Series\", \"Movie\", \"Movie\", \"Movie\", \"Series\", \"Movie\", \"Movie\", \"Movie\", \"Movie\", \"Movie\", \"Movie\", \"Series\", \"Movie\", \"Movie\", \"Movie\", \"Movie\", \"Movie\", \"Movie\", \"Movie\", \"Movie\", \"Movie\", \"Movie\", \"Movie\", \"Movie\", \"Movie\", \"Movie\", \"Movie\", \"Movie\", \"Movie\", \"Movie\", \"Movie\", \"Movie\", \"Movie\", \"Movie\", \"Movie\", \"Movie\", \"Movie\", \"Movie\", \"Movie\", \"Series\", \"Movie\", \"Movie\", \"Movie\", \"Movie\", \"Series\", \"Movie\", \"Movie\", \"Series\", \"Series\", \"Series\", \"Movie\", \"Movie\", \"Movie\", \"Movie\", \"Movie\", \"Movie\", \"Movie\", \"Movie\", \"Movie\", \"Movie\", \"Movie\", \"Movie\", \"Series\", \"Movie\", \"Series\", \"Movie\", \"Movie\", \"Movie\", \"Movie\", \"Movie\", \"Movie\", \"Movie\", \"Series\", \"Movie\", \"Movie\", \"Movie\", \"Movie\", \"Movie\", \"Movie\", \"Movie\", \"Movie\", \"Movie\", \"Series\", \"Movie\", \"Movie\", \"Movie\", \"Series\", \"Series\", \"Movie\", \"Movie\", \"Movie\", \"Series\", \"Movie\", \"Movie\", \"Movie\", \"Movie\", \"Movie\", \"Movie\", \"Movie\", \"Movie\", \"Movie\", \"Movie\", \"Movie\", \"Movie\", \"Movie\", \"Movie\", \"Movie\", \"Movie\", \"Movie\", \"Movie\", \"Movie\", \"Movie\", \"Series\", \"Movie\", \"Series\", \"Movie\", \"Movie\", \"Movie\", \"Movie\", \"Series\", \"Series\", \"Movie\", \"Movie\", \"Movie\", \"Movie\", \"Movie\", \"Movie\", \"Movie\", \"Movie\", \"Series\", \"Movie\", \"Movie\", \"Movie\", \"Movie\", \"Movie\", \"Movie\", \"Movie\", \"Movie\", \"Movie\", \"Movie\", \"Movie\", \"Movie\", \"Series\", \"Movie\", \"Movie\", \"Movie\", \"Series\", \"Movie\", \"Movie\", \"Series\", \"Movie\", \"Movie\", \"Movie\", \"Movie\", \"Series\", \"Movie\", \"Movie\", \"Movie\", \"Movie\", \"Movie\", \"Movie\", \"Movie\", \"Movie\", \"Series\", \"Movie\", \"Movie\", \"Movie\", \"Movie\", \"Movie\", \"Movie\", \"Movie\", \"Movie\", \"Movie\", \"Movie\", \"Movie\", \"Movie\", \"Movie\", \"Movie\", \"Movie\", \"Movie\", \"Movie\", \"Movie\", \"Movie\", \"Movie\", \"Movie\", \"Movie\", \"Movie\", \"Movie\", \"Movie\", \"Series\", \"Movie\", \"Movie\", \"Movie\", \"Movie\", \"Movie\", \"Movie\", \"Movie\", \"Movie\", \"Movie\", \"Movie\", \"Movie\", \"Movie\", \"Movie\", \"Series\", \"Movie\", \"Movie\", \"Movie\", \"Movie\", \"Movie\", \"Movie\", \"Movie\", \"Movie\", \"Series\", \"Movie\", \"Movie\", \"Movie\", \"Movie\", \"Movie\", \"Movie\", \"Movie\", \"Movie\", \"Movie\", \"Movie\", \"Movie\", \"Series\", \"Movie\", \"Movie\", \"Movie\", \"Series\", \"Series\", \"Movie\", \"Movie\", \"Movie\", \"Movie\", \"Movie\", \"Movie\", \"Movie\", \"Movie\", \"Movie\", \"Movie\", \"Movie\", \"Series\", \"Movie\", \"Movie\", \"Movie\", \"Movie\", \"Movie\", \"Movie\", \"Movie\", \"Movie\", \"Series\", \"Movie\", \"Series\", \"Movie\", \"Movie\", \"Movie\", \"Movie\", \"Movie\", \"Series\", \"Movie\", \"Series\", \"Movie\", \"Movie\", \"Movie\", \"Movie\", \"Movie\", \"Movie\", \"Movie\", \"Movie\", \"Movie\", \"Movie\", \"Movie\", \"Movie\", \"Movie\", \"Movie\", \"Movie\", \"Movie\", \"Movie\", \"Movie\", \"Series\", \"Series\", \"Movie\", \"Movie\", \"Movie\", \"Movie\", \"Movie\", \"Movie\", \"Series\", \"Movie\", \"Movie\", \"Series\", \"Series\", \"Movie\", \"Series\", \"Movie\", \"Movie\", \"Movie\", \"Movie\", \"Movie\", \"Movie\", \"Movie\", \"Movie\", \"Movie\", \"Movie\", \"Movie\", \"Movie\", \"Movie\", \"Movie\", \"Movie\", \"Movie\", \"Movie\", \"Movie\", \"Movie\", \"Series\", \"Movie\", \"Movie\", \"Movie\", \"Movie\", \"Movie\", \"Series\", \"Movie\", \"Movie\", \"Movie\", \"Movie\", \"Movie\", \"Movie\", \"Movie\", \"Movie\", \"Series\", \"Movie\", \"Series\", \"Movie\", \"Series\", \"Movie\", \"Movie\", \"Movie\", \"Movie\", \"Movie\", \"Movie\", \"Movie\", \"Movie\", \"Movie\", \"Movie\", \"Movie\", \"Movie\", \"Movie\", \"Movie\", \"Movie\", \"Movie\", \"Movie\", \"Series\", \"Movie\", \"Movie\", \"Series\", \"Movie\", \"Movie\", \"Movie\", \"Movie\", \"Movie\", \"Series\", \"Series\", \"Movie\", \"Series\", \"Movie\", \"Series\", \"Movie\", \"Movie\", \"Movie\", \"Series\", \"Movie\", \"Movie\", \"Movie\", \"Movie\", \"Movie\", \"Series\", \"Movie\", \"Movie\", \"Movie\", \"Movie\", \"Movie\", \"Movie\", \"Movie\", \"Movie\", \"Movie\", \"Movie\", \"Movie\", \"Movie\", \"Movie\", \"Movie\", \"Movie\", \"Movie\", \"Movie\", \"Movie\", \"Movie\", \"Movie\", \"Movie\", \"Movie\", \"Movie\", \"Movie\", \"Movie\", \"Movie\", \"Movie\", \"Movie\", \"Movie\", \"Movie\", \"Movie\", \"Movie\", \"Movie\", \"Movie\", \"Movie\", \"Movie\", \"Movie\", \"Movie\", \"Movie\", \"Movie\", \"Movie\", \"Movie\", \"Movie\", \"Movie\", \"Movie\", \"Movie\", \"Movie\", \"Movie\", \"Movie\", \"Movie\", \"Movie\", \"Movie\", \"Movie\", \"Movie\", \"Movie\", \"Movie\", \"Movie\", \"Movie\", \"Series\", \"Series\", \"Movie\", \"Movie\", \"Movie\", \"Movie\", \"Movie\", \"Movie\", \"Movie\", \"Movie\", \"Movie\", \"Movie\", \"Movie\", \"Movie\", \"Movie\", \"Movie\", \"Movie\", \"Movie\", \"Movie\", \"Movie\", \"Movie\", \"Series\", \"Movie\", \"Movie\", \"Series\", \"Movie\", \"Movie\", \"Movie\", \"Movie\", \"Movie\", \"Movie\", \"Movie\", \"Movie\", \"Movie\", \"Movie\", \"Movie\", \"Movie\", \"Movie\", \"Movie\", \"Movie\", \"Movie\", \"Movie\", \"Movie\", \"Movie\", \"Movie\", \"Movie\", \"Movie\", \"Movie\", \"Movie\", \"Movie\", \"Movie\", \"Movie\", \"Movie\", \"Movie\", \"Movie\", \"Movie\", \"Movie\", \"Movie\", \"Movie\", \"Movie\", \"Movie\", \"Movie\", \"Movie\", \"Movie\", \"Movie\", \"Movie\", \"Movie\", \"Movie\", \"Movie\", \"Movie\", \"Movie\", \"Movie\", \"Movie\", \"Movie\", \"Series\", \"Series\", \"Movie\", \"Movie\", \"Movie\", \"Movie\", \"Movie\", \"Movie\", \"Movie\", \"Movie\", \"Movie\", \"Movie\", \"Series\", \"Movie\", \"Movie\", \"Movie\", \"Movie\", \"Movie\", \"Movie\", \"Movie\", \"Movie\", \"Movie\", \"Movie\", \"Movie\", \"Movie\", \"Movie\", \"Movie\", \"Movie\", \"Series\", \"Movie\", \"Series\", \"Movie\", \"Movie\", \"Movie\", \"Movie\", \"Movie\", \"Movie\", \"Movie\", \"Movie\", \"Movie\", \"Movie\", \"Movie\", \"Movie\", \"Movie\", \"Movie\", \"Movie\", \"Movie\", \"Movie\", \"Movie\", \"Movie\", \"Movie\", \"Movie\", \"Movie\", \"Movie\", \"Movie\", \"Movie\", \"Movie\", \"Movie\", \"Movie\", \"Movie\", \"Movie\", \"Movie\", \"Movie\", \"Movie\", \"Movie\", \"Movie\", \"Movie\", \"Movie\", \"Movie\", \"Movie\", \"Movie\", \"Series\", \"Movie\", \"Series\", \"Series\", \"Movie\", \"Movie\", \"Movie\", \"Movie\", \"Movie\", \"Movie\", \"Movie\", \"Movie\", \"Movie\", \"Movie\", \"Movie\", \"Movie\", \"Movie\", \"Movie\", \"Series\", \"Movie\", \"Movie\", \"Movie\", \"Movie\", \"Movie\", \"Movie\", \"Series\", \"Movie\", \"Movie\", \"Movie\", \"Movie\", \"Movie\", \"Movie\", \"Movie\", \"Movie\", \"Movie\", \"Movie\", \"Series\", \"Movie\", \"Movie\", \"Movie\", \"Movie\", \"Movie\", \"Movie\", \"Movie\", \"Movie\", \"Movie\", \"Movie\", \"Series\", \"Movie\", \"Movie\", \"Series\", \"Movie\", \"Movie\", \"Series\", \"Movie\", \"Movie\", \"Series\", \"Series\", \"Movie\", \"Series\", \"Series\", \"Movie\", \"Movie\", \"Movie\", \"Movie\", \"Movie\", \"Movie\", \"Movie\", \"Movie\", \"Movie\", \"Movie\", \"Movie\", \"Movie\", \"Movie\", \"Movie\", \"Movie\", \"Movie\", \"Movie\", \"Movie\", \"Movie\", \"Movie\", \"Movie\", \"Movie\", \"Movie\", \"Movie\", \"Movie\", \"Movie\", \"Movie\", \"Movie\", \"Movie\", \"Series\", \"Series\", \"Movie\", \"Movie\", \"Movie\", \"Movie\", \"Movie\", \"Movie\", \"Movie\", \"Movie\", \"Movie\", \"Movie\", \"Movie\", \"Movie\", \"Movie\", \"Movie\", \"Movie\", \"Movie\", \"Movie\", \"Movie\", \"Movie\", \"Series\", \"Movie\", \"Movie\", \"Series\", \"Series\", \"Movie\", \"Movie\", \"Movie\", \"Series\", \"Movie\", \"Movie\", \"Movie\", \"Series\", \"Movie\", \"Movie\", \"Series\", \"Movie\", \"Movie\", \"Movie\", \"Movie\", \"Movie\", \"Movie\", \"Movie\", \"Movie\", \"Movie\", \"Movie\", \"Series\", \"Movie\", \"Movie\", \"Movie\", \"Movie\", \"Movie\", \"Movie\", \"Movie\", \"Series\", \"Movie\", \"Series\", \"Series\", \"Series\", \"Movie\", \"Movie\", \"Series\", \"Movie\", \"Series\", \"Movie\", \"Movie\", \"Movie\", \"Movie\", \"Movie\", \"Movie\", \"Movie\", \"Movie\", \"Series\", \"Movie\", \"Movie\", \"Movie\", \"Movie\", \"Movie\", \"Movie\", \"Movie\", \"Movie\", \"Movie\", \"Movie\", \"Movie\", \"Series\", \"Movie\", \"Movie\", \"Series\", \"Movie\", \"Movie\", \"Movie\", \"Series\", \"Series\", \"Movie\", \"Movie\", \"Movie\", \"Movie\", \"Movie\", \"Series\", \"Movie\", \"Movie\", \"Movie\", \"Movie\", \"Series\", \"Series\", \"Movie\", \"Movie\", \"Movie\", \"Movie\", \"Movie\", \"Movie\", \"Movie\", \"Series\", \"Movie\", \"Series\", \"Series\", \"Series\", \"Movie\", \"Movie\", \"Movie\", \"Movie\", \"Movie\", \"Movie\", \"Series\", \"Movie\", \"Movie\", \"Movie\", \"Series\", \"Movie\", \"Movie\", \"Series\", \"Movie\", \"Movie\", \"Movie\", \"Series\", \"Series\", \"Movie\", \"Movie\", \"Movie\", \"Series\", \"Movie\", \"Series\", \"Movie\", \"Series\", \"Movie\", \"Movie\", \"Movie\", \"Series\", \"Series\", \"Movie\", \"Movie\", \"Movie\", \"Series\", \"Movie\", \"Series\", \"Movie\", \"Movie\", \"Movie\", \"Movie\", \"Movie\", \"Series\", \"Movie\", \"Series\", \"Series\", \"Series\", \"Movie\", \"Movie\", \"Series\", \"Movie\", \"Movie\", \"Movie\", \"Movie\", \"Series\", \"Movie\", \"Series\", \"Movie\", \"Series\", \"Movie\", \"Series\", \"Series\", \"Movie\", \"Movie\", \"Movie\", \"Movie\", \"Series\", \"Movie\", \"Movie\", \"Movie\", \"Movie\", \"Movie\", \"Movie\", \"Movie\", \"Movie\", \"Series\", \"Series\", \"Series\", \"Movie\", \"Movie\", \"Movie\", \"Series\", \"Movie\", \"Movie\", \"Movie\", \"Movie\", \"Movie\", \"Movie\", \"Movie\", \"Series\", \"Movie\", \"Series\", \"Movie\", \"Movie\", \"Movie\", \"Series\", \"Movie\", \"Movie\", \"Movie\", \"Movie\", \"Movie\", \"Movie\", \"Movie\", \"Movie\", \"Movie\", \"Movie\", \"Movie\", \"Movie\", \"Movie\", \"Movie\", \"Series\", \"Movie\", \"Movie\", \"Movie\", \"Movie\", \"Series\", \"Movie\", \"Series\", \"Series\", \"Movie\", \"Movie\", \"Movie\", \"Movie\", \"Movie\", \"Movie\", \"Series\", \"Series\", \"Movie\", \"Movie\", \"Movie\", \"Movie\", \"Series\", \"Movie\", \"Movie\", \"Movie\", \"Movie\", \"Series\", \"Movie\", \"Movie\", \"Movie\", \"Movie\", \"Movie\", \"Movie\", \"Movie\", \"Series\", \"Movie\", \"Movie\", \"Movie\", \"Movie\", \"Movie\", \"Movie\", \"Movie\", \"Movie\", \"Series\", \"Movie\", \"Movie\", \"Movie\", \"Movie\", \"Series\", \"Movie\", \"Series\", \"Series\", \"Movie\", \"Movie\", \"Series\", \"Series\", \"Series\", \"Movie\", \"Movie\", \"Movie\", \"Movie\", \"Movie\", \"Movie\", \"Movie\", \"Movie\", \"Movie\", \"Movie\", \"Movie\", \"Movie\", \"Movie\", \"Movie\", \"Movie\", \"Series\", \"Movie\", \"Movie\", \"Movie\", \"Movie\", \"Movie\", \"Series\", \"Movie\", \"Movie\", \"Movie\", \"Movie\", \"Movie\", \"Movie\", \"Movie\", \"Series\", \"Movie\", \"Series\", \"Movie\", \"Series\", \"Series\", \"Movie\", \"Series\", \"Series\", \"Movie\", \"Movie\", \"Movie\", \"Movie\", \"Movie\", \"Movie\", \"Movie\", \"Movie\", \"Series\", \"Series\", \"Series\", \"Movie\", \"Series\", \"Movie\", \"Movie\", \"Movie\", \"Movie\", \"Series\", \"Movie\", \"Movie\", \"Movie\", \"Movie\", \"Movie\", \"Movie\", \"Movie\", \"Series\", \"Movie\", \"Series\", \"Series\", \"Series\", \"Series\", \"Series\", \"Movie\", \"Series\", \"Movie\", \"Movie\", \"Movie\", \"Movie\", \"Movie\", \"Movie\", \"Movie\", \"Movie\", \"Movie\", \"Movie\", \"Series\", \"Movie\", \"Movie\", \"Movie\", \"Movie\", \"Series\", \"Movie\", \"Movie\", \"Movie\", \"Movie\", \"Series\", \"Movie\", \"Series\", \"Movie\", \"Series\", \"Series\", \"Movie\", \"Movie\", \"Movie\", \"Movie\", \"Movie\", \"Movie\", \"Movie\", \"Series\", \"Series\", \"Movie\", \"Movie\", \"Movie\", \"Series\", \"Movie\", \"Movie\", \"Movie\", \"Movie\", \"Movie\", \"Series\", \"Movie\", \"Series\", \"Movie\", \"Series\", \"Movie\", \"Movie\", \"Movie\", \"Movie\", \"Movie\", \"Series\", \"Movie\", \"Movie\", \"Movie\", \"Movie\", \"Movie\", \"Movie\", \"Movie\", \"Movie\", \"Movie\", \"Movie\", \"Series\", \"Movie\", \"Movie\", \"Series\", \"Movie\", \"Movie\", \"Movie\", \"Movie\", \"Movie\", \"Movie\", \"Movie\", \"Movie\", \"Series\", \"Series\", \"Series\", \"Movie\", \"Movie\", \"Movie\", \"Series\", \"Series\", \"Movie\", \"Series\", \"Movie\", \"Movie\", \"Movie\", \"Movie\", \"Movie\", \"Series\", \"Movie\", \"Movie\", \"Movie\", \"Movie\", \"Series\", \"Movie\", \"Movie\", \"Movie\", \"Movie\", \"Movie\", \"Series\", \"Series\", \"Series\", \"Series\", \"Movie\", \"Series\", \"Series\", \"Series\", \"Movie\", \"Series\", \"Movie\", \"Movie\", \"Movie\", \"Movie\", \"Movie\", \"Movie\", \"Movie\", \"Movie\", \"Series\", \"Movie\", \"Movie\", \"Movie\", \"Movie\", \"Movie\", \"Movie\", \"Movie\", \"Movie\", \"Movie\", \"Movie\", \"Series\", \"Movie\", \"Movie\", \"Movie\", \"Movie\", \"Movie\", \"Movie\", \"Movie\", \"Movie\", \"Movie\", \"Movie\", \"Movie\", \"Movie\", \"Movie\", \"Movie\", \"Movie\", \"Movie\", \"Movie\", \"Series\", \"Series\", \"Series\", \"Series\", \"Movie\", \"Movie\", \"Movie\", \"Movie\", \"Series\", \"Movie\", \"Movie\", \"Series\", \"Series\", \"Movie\", \"Movie\", \"Series\", \"Series\", \"Movie\", \"Movie\", \"Series\", \"Movie\", \"Series\", \"Series\", \"Movie\", \"Movie\", \"Series\", \"Series\", \"Movie\", \"Movie\", \"Series\", \"Movie\", \"Series\", \"Movie\", \"Movie\", \"Movie\", \"Series\", \"Series\", \"Series\", \"Movie\", \"Movie\", \"Movie\", \"Movie\", \"Movie\", \"Series\", \"Series\", \"Movie\", \"Movie\", \"Series\", \"Series\", \"Movie\", \"Movie\", \"Series\", \"Series\", \"Movie\", \"Series\", \"Series\", \"Movie\", \"Movie\", \"Series\", \"Movie\", \"Series\", \"Movie\", \"Series\", \"Series\", \"Series\", \"Movie\", \"Movie\", \"Movie\", \"Movie\", \"Movie\", \"Movie\", \"Movie\", \"Movie\", \"Movie\", \"Movie\", \"Movie\", \"Series\", \"Movie\", \"Movie\", \"Series\", \"Movie\", \"Series\", \"Movie\", \"Series\", \"Series\", \"Movie\", \"Series\", \"Movie\", \"Movie\", \"Movie\", \"Movie\", \"Movie\", \"Movie\", \"Movie\", \"Movie\", \"Movie\", \"Movie\", \"Movie\", \"Movie\", \"Movie\", \"Movie\", \"Movie\", \"Movie\", \"Movie\", \"Movie\", \"Movie\", \"Movie\", \"Movie\", \"Movie\", \"Movie\", \"Movie\", \"Series\", \"Movie\", \"Movie\", \"Movie\", \"Movie\", \"Movie\", \"Movie\", \"Movie\", \"Series\", \"Movie\", \"Series\", \"Movie\", \"Movie\", \"Movie\", \"Movie\", \"Series\", \"Movie\", \"Movie\", \"Series\", \"Movie\", \"Movie\", \"Movie\", \"Movie\", \"Movie\", \"Movie\", \"Movie\", \"Movie\", \"Movie\", \"Movie\", \"Movie\", \"Movie\", \"Movie\", \"Series\", \"Movie\", \"Movie\", \"Series\", \"Series\", \"Movie\", \"Series\", \"Series\", \"Series\", \"Series\", \"Series\", \"Series\"], \"y\": [11697, 3783]}],                        {\"barmode\": \"group\", \"template\": {\"data\": {\"bar\": [{\"error_x\": {\"color\": \"#2a3f5f\"}, \"error_y\": {\"color\": \"#2a3f5f\"}, \"marker\": {\"line\": {\"color\": \"#E5ECF6\", \"width\": 0.5}}, \"type\": \"bar\"}], \"barpolar\": [{\"marker\": {\"line\": {\"color\": \"#E5ECF6\", \"width\": 0.5}}, \"type\": \"barpolar\"}], \"carpet\": [{\"aaxis\": {\"endlinecolor\": \"#2a3f5f\", \"gridcolor\": \"white\", \"linecolor\": \"white\", \"minorgridcolor\": \"white\", \"startlinecolor\": \"#2a3f5f\"}, \"baxis\": {\"endlinecolor\": \"#2a3f5f\", \"gridcolor\": \"white\", \"linecolor\": \"white\", \"minorgridcolor\": \"white\", \"startlinecolor\": \"#2a3f5f\"}, \"type\": \"carpet\"}], \"choropleth\": [{\"colorbar\": {\"outlinewidth\": 0, \"ticks\": \"\"}, \"type\": \"choropleth\"}], \"contour\": [{\"colorbar\": {\"outlinewidth\": 0, \"ticks\": \"\"}, \"colorscale\": [[0.0, \"#0d0887\"], [0.1111111111111111, \"#46039f\"], [0.2222222222222222, \"#7201a8\"], [0.3333333333333333, \"#9c179e\"], [0.4444444444444444, \"#bd3786\"], [0.5555555555555556, \"#d8576b\"], [0.6666666666666666, \"#ed7953\"], [0.7777777777777778, \"#fb9f3a\"], [0.8888888888888888, \"#fdca26\"], [1.0, \"#f0f921\"]], \"type\": \"contour\"}], \"contourcarpet\": [{\"colorbar\": {\"outlinewidth\": 0, \"ticks\": \"\"}, \"type\": \"contourcarpet\"}], \"heatmap\": [{\"colorbar\": {\"outlinewidth\": 0, \"ticks\": \"\"}, \"colorscale\": [[0.0, \"#0d0887\"], [0.1111111111111111, \"#46039f\"], [0.2222222222222222, \"#7201a8\"], [0.3333333333333333, \"#9c179e\"], [0.4444444444444444, \"#bd3786\"], [0.5555555555555556, \"#d8576b\"], [0.6666666666666666, \"#ed7953\"], [0.7777777777777778, \"#fb9f3a\"], [0.8888888888888888, \"#fdca26\"], [1.0, \"#f0f921\"]], \"type\": \"heatmap\"}], \"heatmapgl\": [{\"colorbar\": {\"outlinewidth\": 0, \"ticks\": \"\"}, \"colorscale\": [[0.0, \"#0d0887\"], [0.1111111111111111, \"#46039f\"], [0.2222222222222222, \"#7201a8\"], [0.3333333333333333, \"#9c179e\"], [0.4444444444444444, \"#bd3786\"], [0.5555555555555556, \"#d8576b\"], [0.6666666666666666, \"#ed7953\"], [0.7777777777777778, \"#fb9f3a\"], [0.8888888888888888, \"#fdca26\"], [1.0, \"#f0f921\"]], \"type\": \"heatmapgl\"}], \"histogram\": [{\"marker\": {\"colorbar\": {\"outlinewidth\": 0, \"ticks\": \"\"}}, \"type\": \"histogram\"}], \"histogram2d\": [{\"colorbar\": {\"outlinewidth\": 0, \"ticks\": \"\"}, \"colorscale\": [[0.0, \"#0d0887\"], [0.1111111111111111, \"#46039f\"], [0.2222222222222222, \"#7201a8\"], [0.3333333333333333, \"#9c179e\"], [0.4444444444444444, \"#bd3786\"], [0.5555555555555556, \"#d8576b\"], [0.6666666666666666, \"#ed7953\"], [0.7777777777777778, \"#fb9f3a\"], [0.8888888888888888, \"#fdca26\"], [1.0, \"#f0f921\"]], \"type\": \"histogram2d\"}], \"histogram2dcontour\": [{\"colorbar\": {\"outlinewidth\": 0, \"ticks\": \"\"}, \"colorscale\": [[0.0, \"#0d0887\"], [0.1111111111111111, \"#46039f\"], [0.2222222222222222, \"#7201a8\"], [0.3333333333333333, \"#9c179e\"], [0.4444444444444444, \"#bd3786\"], [0.5555555555555556, \"#d8576b\"], [0.6666666666666666, \"#ed7953\"], [0.7777777777777778, \"#fb9f3a\"], [0.8888888888888888, \"#fdca26\"], [1.0, \"#f0f921\"]], \"type\": \"histogram2dcontour\"}], \"mesh3d\": [{\"colorbar\": {\"outlinewidth\": 0, \"ticks\": \"\"}, \"type\": \"mesh3d\"}], \"parcoords\": [{\"line\": {\"colorbar\": {\"outlinewidth\": 0, \"ticks\": \"\"}}, \"type\": \"parcoords\"}], \"pie\": [{\"automargin\": true, \"type\": \"pie\"}], \"scatter\": [{\"marker\": {\"colorbar\": {\"outlinewidth\": 0, \"ticks\": \"\"}}, \"type\": \"scatter\"}], \"scatter3d\": [{\"line\": {\"colorbar\": {\"outlinewidth\": 0, \"ticks\": \"\"}}, \"marker\": {\"colorbar\": {\"outlinewidth\": 0, \"ticks\": \"\"}}, \"type\": \"scatter3d\"}], \"scattercarpet\": [{\"marker\": {\"colorbar\": {\"outlinewidth\": 0, \"ticks\": \"\"}}, \"type\": \"scattercarpet\"}], \"scattergeo\": [{\"marker\": {\"colorbar\": {\"outlinewidth\": 0, \"ticks\": \"\"}}, \"type\": \"scattergeo\"}], \"scattergl\": [{\"marker\": {\"colorbar\": {\"outlinewidth\": 0, \"ticks\": \"\"}}, \"type\": \"scattergl\"}], \"scattermapbox\": [{\"marker\": {\"colorbar\": {\"outlinewidth\": 0, \"ticks\": \"\"}}, \"type\": \"scattermapbox\"}], \"scatterpolar\": [{\"marker\": {\"colorbar\": {\"outlinewidth\": 0, \"ticks\": \"\"}}, \"type\": \"scatterpolar\"}], \"scatterpolargl\": [{\"marker\": {\"colorbar\": {\"outlinewidth\": 0, \"ticks\": \"\"}}, \"type\": \"scatterpolargl\"}], \"scatterternary\": [{\"marker\": {\"colorbar\": {\"outlinewidth\": 0, \"ticks\": \"\"}}, \"type\": \"scatterternary\"}], \"surface\": [{\"colorbar\": {\"outlinewidth\": 0, \"ticks\": \"\"}, \"colorscale\": [[0.0, \"#0d0887\"], [0.1111111111111111, \"#46039f\"], [0.2222222222222222, \"#7201a8\"], [0.3333333333333333, \"#9c179e\"], [0.4444444444444444, \"#bd3786\"], [0.5555555555555556, \"#d8576b\"], [0.6666666666666666, \"#ed7953\"], [0.7777777777777778, \"#fb9f3a\"], [0.8888888888888888, \"#fdca26\"], [1.0, \"#f0f921\"]], \"type\": \"surface\"}], \"table\": [{\"cells\": {\"fill\": {\"color\": \"#EBF0F8\"}, \"line\": {\"color\": \"white\"}}, \"header\": {\"fill\": {\"color\": \"#C8D4E3\"}, \"line\": {\"color\": \"white\"}}, \"type\": \"table\"}]}, \"layout\": {\"annotationdefaults\": {\"arrowcolor\": \"#2a3f5f\", \"arrowhead\": 0, \"arrowwidth\": 1}, \"autotypenumbers\": \"strict\", \"coloraxis\": {\"colorbar\": {\"outlinewidth\": 0, \"ticks\": \"\"}}, \"colorscale\": {\"diverging\": [[0, \"#8e0152\"], [0.1, \"#c51b7d\"], [0.2, \"#de77ae\"], [0.3, \"#f1b6da\"], [0.4, \"#fde0ef\"], [0.5, \"#f7f7f7\"], [0.6, \"#e6f5d0\"], [0.7, \"#b8e186\"], [0.8, \"#7fbc41\"], [0.9, \"#4d9221\"], [1, \"#276419\"]], \"sequential\": [[0.0, \"#0d0887\"], [0.1111111111111111, \"#46039f\"], [0.2222222222222222, \"#7201a8\"], [0.3333333333333333, \"#9c179e\"], [0.4444444444444444, \"#bd3786\"], [0.5555555555555556, \"#d8576b\"], [0.6666666666666666, \"#ed7953\"], [0.7777777777777778, \"#fb9f3a\"], [0.8888888888888888, \"#fdca26\"], [1.0, \"#f0f921\"]], \"sequentialminus\": [[0.0, \"#0d0887\"], [0.1111111111111111, \"#46039f\"], [0.2222222222222222, \"#7201a8\"], [0.3333333333333333, \"#9c179e\"], [0.4444444444444444, \"#bd3786\"], [0.5555555555555556, \"#d8576b\"], [0.6666666666666666, \"#ed7953\"], [0.7777777777777778, \"#fb9f3a\"], [0.8888888888888888, \"#fdca26\"], [1.0, \"#f0f921\"]]}, \"colorway\": [\"#636efa\", \"#EF553B\", \"#00cc96\", \"#ab63fa\", \"#FFA15A\", \"#19d3f3\", \"#FF6692\", \"#B6E880\", \"#FF97FF\", \"#FECB52\"], \"font\": {\"color\": \"#2a3f5f\"}, \"geo\": {\"bgcolor\": \"white\", \"lakecolor\": \"white\", \"landcolor\": \"#E5ECF6\", \"showlakes\": true, \"showland\": true, \"subunitcolor\": \"white\"}, \"hoverlabel\": {\"align\": \"left\"}, \"hovermode\": \"closest\", \"mapbox\": {\"style\": \"light\"}, \"paper_bgcolor\": \"white\", \"plot_bgcolor\": \"#E5ECF6\", \"polar\": {\"angularaxis\": {\"gridcolor\": \"white\", \"linecolor\": \"white\", \"ticks\": \"\"}, \"bgcolor\": \"#E5ECF6\", \"radialaxis\": {\"gridcolor\": \"white\", \"linecolor\": \"white\", \"ticks\": \"\"}}, \"scene\": {\"xaxis\": {\"backgroundcolor\": \"#E5ECF6\", \"gridcolor\": \"white\", \"gridwidth\": 2, \"linecolor\": \"white\", \"showbackground\": true, \"ticks\": \"\", \"zerolinecolor\": \"white\"}, \"yaxis\": {\"backgroundcolor\": \"#E5ECF6\", \"gridcolor\": \"white\", \"gridwidth\": 2, \"linecolor\": \"white\", \"showbackground\": true, \"ticks\": \"\", \"zerolinecolor\": \"white\"}, \"zaxis\": {\"backgroundcolor\": \"#E5ECF6\", \"gridcolor\": \"white\", \"gridwidth\": 2, \"linecolor\": \"white\", \"showbackground\": true, \"ticks\": \"\", \"zerolinecolor\": \"white\"}}, \"shapedefaults\": {\"line\": {\"color\": \"#2a3f5f\"}}, \"ternary\": {\"aaxis\": {\"gridcolor\": \"white\", \"linecolor\": \"white\", \"ticks\": \"\"}, \"baxis\": {\"gridcolor\": \"white\", \"linecolor\": \"white\", \"ticks\": \"\"}, \"bgcolor\": \"#E5ECF6\", \"caxis\": {\"gridcolor\": \"white\", \"linecolor\": \"white\", \"ticks\": \"\"}}, \"title\": {\"x\": 0.05}, \"xaxis\": {\"automargin\": true, \"gridcolor\": \"white\", \"linecolor\": \"white\", \"ticks\": \"\", \"title\": {\"standoff\": 15}, \"zerolinecolor\": \"white\", \"zerolinewidth\": 2}, \"yaxis\": {\"automargin\": true, \"gridcolor\": \"white\", \"linecolor\": \"white\", \"ticks\": \"\", \"title\": {\"standoff\": 15}, \"zerolinecolor\": \"white\", \"zerolinewidth\": 2}}}, \"title\": {\"text\": \"More Movie \\ud83d\\udcfd\\u200d\\ufe0f or Tv Series \\ud83d\\udcfa?\"}, \"uniformtext\": {\"minsize\": 8, \"mode\": \"hide\"}, \"xaxis\": {\"tickangle\": -45, \"title\": {\"font\": {\"size\": 14}, \"text\": \"Category\"}}, \"yaxis\": {\"title\": {\"font\": {\"size\": 14}, \"text\": \"Quantity\"}}},                        {\"responsive\": true}                    ).then(function(){\n",
       "                            \n",
       "var gd = document.getElementById('621c82a8-b998-40e5-b1d1-0b27c7f39a78');\n",
       "var x = new MutationObserver(function (mutations, observer) {{\n",
       "        var display = window.getComputedStyle(gd).display;\n",
       "        if (!display || display === 'none') {{\n",
       "            console.log([gd, 'removed!']);\n",
       "            Plotly.purge(gd);\n",
       "            observer.disconnect();\n",
       "        }}\n",
       "}});\n",
       "\n",
       "// Listen for the removal of the full notebook cells\n",
       "var notebookContainer = gd.closest('#notebook-container');\n",
       "if (notebookContainer) {{\n",
       "    x.observe(notebookContainer, {childList: true});\n",
       "}}\n",
       "\n",
       "// Listen for the clearing of the current output cell\n",
       "var outputEl = gd.closest('.output');\n",
       "if (outputEl) {{\n",
       "    x.observe(outputEl, {childList: true});\n",
       "}}\n",
       "\n",
       "                        })                };                });            </script>        </div>"
      ]
     },
     "metadata": {},
     "output_type": "display_data"
    }
   ],
   "source": [
    "colors = ['black',] * 2\n",
    "colors[0] = 'crimson'\n",
    "\n",
    "count = df['Series or Movie'].value_counts()\n",
    "\n",
    "fig = go.Figure(data=[go.Bar(\n",
    "    x = df[\"Series or Movie\"],\n",
    "    y = count,\n",
    "    text = count,\n",
    "    textposition='auto',\n",
    "    marker_color=colors # marker color can be a single color value or an iterable\n",
    ")])\n",
    "fig.update_traces(texttemplate='%{text:.2s}', textposition='outside')\n",
    "fig.update_layout(title_text= 'More Movie 📽‍️ or Tv Series 📺?',\n",
    "                  uniformtext_minsize=8, uniformtext_mode='hide',\n",
    "                  barmode='group', xaxis_tickangle=-45,\n",
    "                  yaxis=dict(\n",
    "                  title='Quantity',\n",
    "                  titlefont_size=14),\n",
    "                  xaxis=dict(\n",
    "                  title='Category',\n",
    "                  titlefont_size=14))"
   ]
  },
  {
   "cell_type": "markdown",
   "id": "usual-distributor",
   "metadata": {
    "papermill": {
     "duration": 0.077132,
     "end_time": "2021-06-05T06:15:18.850532",
     "exception": false,
     "start_time": "2021-06-05T06:15:18.773400",
     "status": "completed"
    },
    "tags": []
   },
   "source": [
    "> As we can see from this [bar graph](https://plotly.com/python/bar-charts/) there is a big difference between the 2 categories as there are almost 12 thousand TV series against only 3.8 films. "
   ]
  },
  {
   "cell_type": "markdown",
   "id": "super-works",
   "metadata": {
    "papermill": {
     "duration": 0.0778,
     "end_time": "2021-06-05T06:15:19.006871",
     "exception": false,
     "start_time": "2021-06-05T06:15:18.929071",
     "status": "completed"
    },
    "tags": []
   },
   "source": [
    "**Division in 2 dataframes 📄 📄**"
   ]
  },
  {
   "cell_type": "markdown",
   "id": "refined-canon",
   "metadata": {
    "papermill": {
     "duration": 0.0797,
     "end_time": "2021-06-05T06:15:19.164141",
     "exception": false,
     "start_time": "2021-06-05T06:15:19.084441",
     "status": "completed"
    },
    "tags": []
   },
   "source": [
    "> - After having ascertained this great difference between the 2 categories, we can **divide our dataframe into 2** so as to be able to work and analyze the TV Series and Movies in a distinct way."
   ]
  },
  {
   "cell_type": "markdown",
   "id": "placed-explorer",
   "metadata": {
    "papermill": {
     "duration": 0.079444,
     "end_time": "2021-06-05T06:15:19.322759",
     "exception": false,
     "start_time": "2021-06-05T06:15:19.243315",
     "status": "completed"
    },
    "tags": []
   },
   "source": [
    "> "
   ]
  },
  {
   "cell_type": "code",
   "execution_count": 10,
   "id": "convenient-literacy",
   "metadata": {
    "execution": {
     "iopub.execute_input": "2021-06-05T06:15:19.485138Z",
     "iopub.status.busy": "2021-06-05T06:15:19.484432Z",
     "iopub.status.idle": "2021-06-05T06:15:19.511050Z",
     "shell.execute_reply": "2021-06-05T06:15:19.510601Z",
     "shell.execute_reply.started": "2021-06-05T05:33:14.507499Z"
    },
    "papermill": {
     "duration": 0.109636,
     "end_time": "2021-06-05T06:15:19.511183",
     "exception": false,
     "start_time": "2021-06-05T06:15:19.401547",
     "status": "completed"
    },
    "tags": []
   },
   "outputs": [
    {
     "data": {
      "text/html": [
       "<div>\n",
       "<style scoped>\n",
       "    .dataframe tbody tr th:only-of-type {\n",
       "        vertical-align: middle;\n",
       "    }\n",
       "\n",
       "    .dataframe tbody tr th {\n",
       "        vertical-align: top;\n",
       "    }\n",
       "\n",
       "    .dataframe thead th {\n",
       "        text-align: right;\n",
       "    }\n",
       "</style>\n",
       "<table border=\"1\" class=\"dataframe\">\n",
       "  <thead>\n",
       "    <tr style=\"text-align: right;\">\n",
       "      <th></th>\n",
       "      <th>Title</th>\n",
       "      <th>Genre</th>\n",
       "      <th>Tags</th>\n",
       "      <th>Languages</th>\n",
       "      <th>Series or Movie</th>\n",
       "      <th>Hidden Gem Score</th>\n",
       "      <th>Country Availability</th>\n",
       "      <th>Runtime</th>\n",
       "      <th>Director</th>\n",
       "      <th>Writer</th>\n",
       "      <th>...</th>\n",
       "      <th>Rotten Tomatoes Score</th>\n",
       "      <th>Awards Received</th>\n",
       "      <th>Awards Nominated For</th>\n",
       "      <th>Release Date</th>\n",
       "      <th>Netflix Release Date</th>\n",
       "      <th>Summary</th>\n",
       "      <th>IMDb Votes</th>\n",
       "      <th>Image</th>\n",
       "      <th>Released_Year</th>\n",
       "      <th>Released_Year_Net</th>\n",
       "    </tr>\n",
       "  </thead>\n",
       "  <tbody>\n",
       "    <tr>\n",
       "      <th>1</th>\n",
       "      <td>HOW TO BUILD A GIRL</td>\n",
       "      <td>Comedy</td>\n",
       "      <td>Dramas,Comedies,Films Based on Books,British</td>\n",
       "      <td>English</td>\n",
       "      <td>Movie</td>\n",
       "      <td>7.0</td>\n",
       "      <td>Canada</td>\n",
       "      <td>1-2 hour</td>\n",
       "      <td>Coky Giedroyc</td>\n",
       "      <td>Caitlin Moran</td>\n",
       "      <td>...</td>\n",
       "      <td>79.0</td>\n",
       "      <td>1.0</td>\n",
       "      <td>NaN</td>\n",
       "      <td>2020-05-08</td>\n",
       "      <td>2021-03-04</td>\n",
       "      <td>When nerdy Johanna moves to London, things get...</td>\n",
       "      <td>2838.0</td>\n",
       "      <td>https://occ-0-1081-999.1.nflxso.net/dnm/api/v6...</td>\n",
       "      <td>2020.0</td>\n",
       "      <td>2021</td>\n",
       "    </tr>\n",
       "  </tbody>\n",
       "</table>\n",
       "<p>1 rows × 23 columns</p>\n",
       "</div>"
      ],
      "text/plain": [
       "                 Title   Genre                                          Tags  \\\n",
       "1  HOW TO BUILD A GIRL  Comedy  Dramas,Comedies,Films Based on Books,British   \n",
       "\n",
       "  Languages Series or Movie  Hidden Gem Score Country Availability   Runtime  \\\n",
       "1   English           Movie               7.0               Canada  1-2 hour   \n",
       "\n",
       "        Director         Writer  ... Rotten Tomatoes Score Awards Received  \\\n",
       "1  Coky Giedroyc  Caitlin Moran  ...                  79.0             1.0   \n",
       "\n",
       "   Awards Nominated For  Release Date  Netflix Release Date  \\\n",
       "1                   NaN    2020-05-08            2021-03-04   \n",
       "\n",
       "                                             Summary IMDb Votes  \\\n",
       "1  When nerdy Johanna moves to London, things get...     2838.0   \n",
       "\n",
       "                                               Image Released_Year  \\\n",
       "1  https://occ-0-1081-999.1.nflxso.net/dnm/api/v6...        2020.0   \n",
       "\n",
       "   Released_Year_Net  \n",
       "1               2021  \n",
       "\n",
       "[1 rows x 23 columns]"
      ]
     },
     "execution_count": 10,
     "metadata": {},
     "output_type": "execute_result"
    }
   ],
   "source": [
    "df_movie = df[df['Series or Movie']=='Movie']\n",
    "df_movie.head(1)"
   ]
  },
  {
   "cell_type": "code",
   "execution_count": 11,
   "id": "innovative-brazilian",
   "metadata": {
    "execution": {
     "iopub.execute_input": "2021-06-05T06:15:19.674418Z",
     "iopub.status.busy": "2021-06-05T06:15:19.673838Z",
     "iopub.status.idle": "2021-06-05T06:15:19.697511Z",
     "shell.execute_reply": "2021-06-05T06:15:19.697042Z",
     "shell.execute_reply.started": "2021-06-05T05:33:14.547460Z"
    },
    "papermill": {
     "duration": 0.107023,
     "end_time": "2021-06-05T06:15:19.697651",
     "exception": false,
     "start_time": "2021-06-05T06:15:19.590628",
     "status": "completed"
    },
    "tags": []
   },
   "outputs": [
    {
     "data": {
      "text/html": [
       "<div>\n",
       "<style scoped>\n",
       "    .dataframe tbody tr th:only-of-type {\n",
       "        vertical-align: middle;\n",
       "    }\n",
       "\n",
       "    .dataframe tbody tr th {\n",
       "        vertical-align: top;\n",
       "    }\n",
       "\n",
       "    .dataframe thead th {\n",
       "        text-align: right;\n",
       "    }\n",
       "</style>\n",
       "<table border=\"1\" class=\"dataframe\">\n",
       "  <thead>\n",
       "    <tr style=\"text-align: right;\">\n",
       "      <th></th>\n",
       "      <th>Title</th>\n",
       "      <th>Genre</th>\n",
       "      <th>Tags</th>\n",
       "      <th>Languages</th>\n",
       "      <th>Series or Movie</th>\n",
       "      <th>Hidden Gem Score</th>\n",
       "      <th>Country Availability</th>\n",
       "      <th>Runtime</th>\n",
       "      <th>Director</th>\n",
       "      <th>Writer</th>\n",
       "      <th>...</th>\n",
       "      <th>Rotten Tomatoes Score</th>\n",
       "      <th>Awards Received</th>\n",
       "      <th>Awards Nominated For</th>\n",
       "      <th>Release Date</th>\n",
       "      <th>Netflix Release Date</th>\n",
       "      <th>Summary</th>\n",
       "      <th>IMDb Votes</th>\n",
       "      <th>Image</th>\n",
       "      <th>Released_Year</th>\n",
       "      <th>Released_Year_Net</th>\n",
       "    </tr>\n",
       "  </thead>\n",
       "  <tbody>\n",
       "    <tr>\n",
       "      <th>0</th>\n",
       "      <td>Lets Fight Ghost</td>\n",
       "      <td>Crime, Drama, Fantasy, Horror, Romance</td>\n",
       "      <td>Comedy Programmes,Romantic TV Comedies,Horror ...</td>\n",
       "      <td>Swedish, Spanish</td>\n",
       "      <td>Series</td>\n",
       "      <td>4.3</td>\n",
       "      <td>Thailand</td>\n",
       "      <td>&lt; 30 minutes</td>\n",
       "      <td>Tomas Alfredson</td>\n",
       "      <td>John Ajvide Lindqvist</td>\n",
       "      <td>...</td>\n",
       "      <td>98.0</td>\n",
       "      <td>74.0</td>\n",
       "      <td>57.0</td>\n",
       "      <td>2008-12-12</td>\n",
       "      <td>2021-03-04</td>\n",
       "      <td>A med student with a supernatural gift tries t...</td>\n",
       "      <td>205926.0</td>\n",
       "      <td>https://occ-0-4708-64.1.nflxso.net/dnm/api/v6/...</td>\n",
       "      <td>2008.0</td>\n",
       "      <td>2021</td>\n",
       "    </tr>\n",
       "  </tbody>\n",
       "</table>\n",
       "<p>1 rows × 23 columns</p>\n",
       "</div>"
      ],
      "text/plain": [
       "              Title                                   Genre  \\\n",
       "0  Lets Fight Ghost  Crime, Drama, Fantasy, Horror, Romance   \n",
       "\n",
       "                                                Tags         Languages  \\\n",
       "0  Comedy Programmes,Romantic TV Comedies,Horror ...  Swedish, Spanish   \n",
       "\n",
       "  Series or Movie  Hidden Gem Score Country Availability       Runtime  \\\n",
       "0          Series               4.3             Thailand  < 30 minutes   \n",
       "\n",
       "          Director                 Writer  ... Rotten Tomatoes Score  \\\n",
       "0  Tomas Alfredson  John Ajvide Lindqvist  ...                  98.0   \n",
       "\n",
       "  Awards Received  Awards Nominated For  Release Date  Netflix Release Date  \\\n",
       "0            74.0                  57.0    2008-12-12            2021-03-04   \n",
       "\n",
       "                                             Summary IMDb Votes  \\\n",
       "0  A med student with a supernatural gift tries t...   205926.0   \n",
       "\n",
       "                                               Image Released_Year  \\\n",
       "0  https://occ-0-4708-64.1.nflxso.net/dnm/api/v6/...        2008.0   \n",
       "\n",
       "   Released_Year_Net  \n",
       "0               2021  \n",
       "\n",
       "[1 rows x 23 columns]"
      ]
     },
     "execution_count": 11,
     "metadata": {},
     "output_type": "execute_result"
    }
   ],
   "source": [
    "df_series = df[df[\"Series or Movie\"] == \"Series\"]\n",
    "df_series.head(1)"
   ]
  },
  {
   "cell_type": "markdown",
   "id": "muslim-colorado",
   "metadata": {
    "papermill": {
     "duration": 0.078781,
     "end_time": "2021-06-05T06:15:19.855364",
     "exception": false,
     "start_time": "2021-06-05T06:15:19.776583",
     "status": "completed"
    },
    "tags": []
   },
   "source": [
    "--------------"
   ]
  },
  {
   "cell_type": "markdown",
   "id": "adapted-constitution",
   "metadata": {
    "papermill": {
     "duration": 0.079927,
     "end_time": "2021-06-05T06:15:20.013715",
     "exception": false,
     "start_time": "2021-06-05T06:15:19.933788",
     "status": "completed"
    },
    "tags": []
   },
   "source": [
    "# 2.2 Genres 😍😱😂"
   ]
  },
  {
   "cell_type": "markdown",
   "id": "empty-gathering",
   "metadata": {
    "papermill": {
     "duration": 0.079814,
     "end_time": "2021-06-05T06:15:20.172062",
     "exception": false,
     "start_time": "2021-06-05T06:15:20.092248",
     "status": "completed"
    },
    "tags": []
   },
   "source": [
    "> 📌 Note:\n",
    "> As we all know the world of cinema and TV series is very wide and boundless, this breadth in addition to the myriad of topics to be dealt with is also given by **the multitude of [film genres](https://www.masterclass.com/articles/how-to-identify-film-genres#:~:text=Some%20basic%20movie%20genres%20include%3A%201%20Action%3A%20Movies,pursuing%20an%20outlaw%20in%20the%20Wild%20West.%20)** that have been created over time by following a little also what was happening / happened in the literary field some time before. But **which of these is the most frequent and consequently the most requested by the spectators?** Will it be horror or action movies? Comedy or sentimental films? \n",
    "\n",
    "Let's find out right away with another bar chart."
   ]
  },
  {
   "cell_type": "markdown",
   "id": "nonprofit-tracy",
   "metadata": {
    "papermill": {
     "duration": 0.081827,
     "end_time": "2021-06-05T06:15:20.334553",
     "exception": false,
     "start_time": "2021-06-05T06:15:20.252726",
     "status": "completed"
    },
    "tags": []
   },
   "source": [
    "**In Tv Series 📺...**"
   ]
  },
  {
   "cell_type": "markdown",
   "id": "instant-organizer",
   "metadata": {
    "papermill": {
     "duration": 0.079119,
     "end_time": "2021-06-05T06:15:20.539718",
     "exception": false,
     "start_time": "2021-06-05T06:15:20.460599",
     "status": "completed"
    },
    "tags": []
   },
   "source": [
    "> Code: \n",
    "> - First of all I create a new series dataframe **dropping the missing values contained in the \"Genre\" column**."
   ]
  },
  {
   "cell_type": "code",
   "execution_count": 12,
   "id": "third-punishment",
   "metadata": {
    "execution": {
     "iopub.execute_input": "2021-06-05T06:15:20.701124Z",
     "iopub.status.busy": "2021-06-05T06:15:20.700535Z",
     "iopub.status.idle": "2021-06-05T06:15:20.720628Z",
     "shell.execute_reply": "2021-06-05T06:15:20.721047Z",
     "shell.execute_reply.started": "2021-06-05T05:33:14.580365Z"
    },
    "papermill": {
     "duration": 0.103106,
     "end_time": "2021-06-05T06:15:20.721217",
     "exception": false,
     "start_time": "2021-06-05T06:15:20.618111",
     "status": "completed"
    },
    "tags": []
   },
   "outputs": [],
   "source": [
    "df_series_gen = df_series.dropna(subset=['Genre'])"
   ]
  },
  {
   "cell_type": "markdown",
   "id": "criminal-hydrogen",
   "metadata": {
    "papermill": {
     "duration": 0.078529,
     "end_time": "2021-06-05T06:15:20.879662",
     "exception": false,
     "start_time": "2021-06-05T06:15:20.801133",
     "status": "completed"
    },
    "tags": []
   },
   "source": [
    "> - Secondly **I create a [list](https://www.w3schools.com/python/python_lists.asp#:~:text=%20Python%20Lists%20%201%20List.%20Lists%20are,Duplicates.%20%205%20List%20Length.%20%20More%20)** that contains all the genres in the column and their quantity. So **I create a new dataframe** with this datas."
   ]
  },
  {
   "cell_type": "code",
   "execution_count": 13,
   "id": "desirable-month",
   "metadata": {
    "execution": {
     "iopub.execute_input": "2021-06-05T06:15:21.053115Z",
     "iopub.status.busy": "2021-06-05T06:15:21.051986Z",
     "iopub.status.idle": "2021-06-05T06:15:21.054290Z",
     "shell.execute_reply": "2021-06-05T06:15:21.054742Z",
     "shell.execute_reply.started": "2021-06-05T05:33:14.616288Z"
    },
    "papermill": {
     "duration": 0.096276,
     "end_time": "2021-06-05T06:15:21.054917",
     "exception": false,
     "start_time": "2021-06-05T06:15:20.958641",
     "status": "completed"
    },
    "tags": []
   },
   "outputs": [],
   "source": [
    "colors_10 = ['DarkRed', 'FireBrick','Red', 'Crimson', 'IndianRed', 'slategray', 'gray', 'dimgrey', 'DarkSlateGrey', 'black']\n",
    "series_gen_list = df_series_gen.Genre.str.split(',') #split the list into names\n",
    "s_gen_list = {} #create an empty list\n",
    "for genres in series_gen_list: # for any names in series_gen_list\n",
    "    for genre in genres: # for any genre in genres\n",
    "        if (genre in s_gen_list): #if this genre is already present in the s_gen_list\n",
    "            s_gen_list[genre]+=1 # increase his value\n",
    "        else:  # else\n",
    "            s_gen_list[genre]=1 # Create his index in the list\n",
    "s_gen_df = pd.DataFrame(s_gen_list.values(),index = s_gen_list.keys(),\n",
    "                        columns = {'Counts of Genres in Tv Series'}) #Create a s_gen_df\n",
    "s_gen_df.sort_values(by = 'Counts of Genres in Tv Series',ascending = False,inplace = True) #Sort the dataframe in ascending order\n",
    "top_10_s_gen = s_gen_df[0:10] "
   ]
  },
  {
   "cell_type": "markdown",
   "id": "exempt-button",
   "metadata": {
    "papermill": {
     "duration": 0.081658,
     "end_time": "2021-06-05T06:15:21.220749",
     "exception": false,
     "start_time": "2021-06-05T06:15:21.139091",
     "status": "completed"
    },
    "tags": []
   },
   "source": [
    "> - Thirdly, **I draw a bar chart** to better understand the distribution of the quantities of the various genres contained in the Netflix catalog."
   ]
  },
  {
   "cell_type": "code",
   "execution_count": 14,
   "id": "restricted-metadata",
   "metadata": {
    "execution": {
     "iopub.execute_input": "2021-06-05T06:15:21.382443Z",
     "iopub.status.busy": "2021-06-05T06:15:21.381525Z",
     "iopub.status.idle": "2021-06-05T06:15:21.401806Z",
     "shell.execute_reply": "2021-06-05T06:15:21.401252Z",
     "shell.execute_reply.started": "2021-06-05T05:33:14.637980Z"
    },
    "papermill": {
     "duration": 0.101974,
     "end_time": "2021-06-05T06:15:21.401950",
     "exception": false,
     "start_time": "2021-06-05T06:15:21.299976",
     "status": "completed"
    },
    "tags": []
   },
   "outputs": [
    {
     "data": {
      "text/html": [
       "<div>                            <div id=\"4c210c94-d9b4-4756-b9cd-70bc493b7ec4\" class=\"plotly-graph-div\" style=\"height:525px; width:100%;\"></div>            <script type=\"text/javascript\">                require([\"plotly\"], function(Plotly) {                    window.PLOTLYENV=window.PLOTLYENV || {};                                    if (document.getElementById(\"4c210c94-d9b4-4756-b9cd-70bc493b7ec4\")) {                    Plotly.newPlot(                        \"4c210c94-d9b4-4756-b9cd-70bc493b7ec4\",                        [{\"marker\": {\"color\": [\"DarkRed\", \"FireBrick\", \"Red\", \"Crimson\", \"IndianRed\", \"slategray\", \"gray\", \"dimgrey\", \"DarkSlateGrey\", \"black\"]}, \"text\": [869.0, 869.0, 593.0, 531.0, 517.0, 516.0, 514.0, 412.0, 377.0, 365.0], \"textposition\": \"outside\", \"texttemplate\": \"%{text:.2s}\", \"type\": \"bar\", \"x\": [\" Drama\", \"Animation\", \"Comedy\", \"Drama\", \" Comedy\", \" Romance\", \" Fantasy\", \" Thriller\", \" Adventure\", \" Family\"], \"y\": [869, 869, 593, 531, 517, 516, 514, 412, 377, 365]}],                        {\"template\": {\"data\": {\"bar\": [{\"error_x\": {\"color\": \"#2a3f5f\"}, \"error_y\": {\"color\": \"#2a3f5f\"}, \"marker\": {\"line\": {\"color\": \"#E5ECF6\", \"width\": 0.5}}, \"type\": \"bar\"}], \"barpolar\": [{\"marker\": {\"line\": {\"color\": \"#E5ECF6\", \"width\": 0.5}}, \"type\": \"barpolar\"}], \"carpet\": [{\"aaxis\": {\"endlinecolor\": \"#2a3f5f\", \"gridcolor\": \"white\", \"linecolor\": \"white\", \"minorgridcolor\": \"white\", \"startlinecolor\": \"#2a3f5f\"}, \"baxis\": {\"endlinecolor\": \"#2a3f5f\", \"gridcolor\": \"white\", \"linecolor\": \"white\", \"minorgridcolor\": \"white\", \"startlinecolor\": \"#2a3f5f\"}, \"type\": \"carpet\"}], \"choropleth\": [{\"colorbar\": {\"outlinewidth\": 0, \"ticks\": \"\"}, \"type\": \"choropleth\"}], \"contour\": [{\"colorbar\": {\"outlinewidth\": 0, \"ticks\": \"\"}, \"colorscale\": [[0.0, \"#0d0887\"], [0.1111111111111111, \"#46039f\"], [0.2222222222222222, \"#7201a8\"], [0.3333333333333333, \"#9c179e\"], [0.4444444444444444, \"#bd3786\"], [0.5555555555555556, \"#d8576b\"], [0.6666666666666666, \"#ed7953\"], [0.7777777777777778, \"#fb9f3a\"], [0.8888888888888888, \"#fdca26\"], [1.0, \"#f0f921\"]], \"type\": \"contour\"}], \"contourcarpet\": [{\"colorbar\": {\"outlinewidth\": 0, \"ticks\": \"\"}, \"type\": \"contourcarpet\"}], \"heatmap\": [{\"colorbar\": {\"outlinewidth\": 0, \"ticks\": \"\"}, \"colorscale\": [[0.0, \"#0d0887\"], [0.1111111111111111, \"#46039f\"], [0.2222222222222222, \"#7201a8\"], [0.3333333333333333, \"#9c179e\"], [0.4444444444444444, \"#bd3786\"], [0.5555555555555556, \"#d8576b\"], [0.6666666666666666, \"#ed7953\"], [0.7777777777777778, \"#fb9f3a\"], [0.8888888888888888, \"#fdca26\"], [1.0, \"#f0f921\"]], \"type\": \"heatmap\"}], \"heatmapgl\": [{\"colorbar\": {\"outlinewidth\": 0, \"ticks\": \"\"}, \"colorscale\": [[0.0, \"#0d0887\"], [0.1111111111111111, \"#46039f\"], [0.2222222222222222, \"#7201a8\"], [0.3333333333333333, \"#9c179e\"], [0.4444444444444444, \"#bd3786\"], [0.5555555555555556, \"#d8576b\"], [0.6666666666666666, \"#ed7953\"], [0.7777777777777778, \"#fb9f3a\"], [0.8888888888888888, \"#fdca26\"], [1.0, \"#f0f921\"]], \"type\": \"heatmapgl\"}], \"histogram\": [{\"marker\": {\"colorbar\": {\"outlinewidth\": 0, \"ticks\": \"\"}}, \"type\": \"histogram\"}], \"histogram2d\": [{\"colorbar\": {\"outlinewidth\": 0, \"ticks\": \"\"}, \"colorscale\": [[0.0, \"#0d0887\"], [0.1111111111111111, \"#46039f\"], [0.2222222222222222, \"#7201a8\"], [0.3333333333333333, \"#9c179e\"], [0.4444444444444444, \"#bd3786\"], [0.5555555555555556, \"#d8576b\"], [0.6666666666666666, \"#ed7953\"], [0.7777777777777778, \"#fb9f3a\"], [0.8888888888888888, \"#fdca26\"], [1.0, \"#f0f921\"]], \"type\": \"histogram2d\"}], \"histogram2dcontour\": [{\"colorbar\": {\"outlinewidth\": 0, \"ticks\": \"\"}, \"colorscale\": [[0.0, \"#0d0887\"], [0.1111111111111111, \"#46039f\"], [0.2222222222222222, \"#7201a8\"], [0.3333333333333333, \"#9c179e\"], [0.4444444444444444, \"#bd3786\"], [0.5555555555555556, \"#d8576b\"], [0.6666666666666666, \"#ed7953\"], [0.7777777777777778, \"#fb9f3a\"], [0.8888888888888888, \"#fdca26\"], [1.0, \"#f0f921\"]], \"type\": \"histogram2dcontour\"}], \"mesh3d\": [{\"colorbar\": {\"outlinewidth\": 0, \"ticks\": \"\"}, \"type\": \"mesh3d\"}], \"parcoords\": [{\"line\": {\"colorbar\": {\"outlinewidth\": 0, \"ticks\": \"\"}}, \"type\": \"parcoords\"}], \"pie\": [{\"automargin\": true, \"type\": \"pie\"}], \"scatter\": [{\"marker\": {\"colorbar\": {\"outlinewidth\": 0, \"ticks\": \"\"}}, \"type\": \"scatter\"}], \"scatter3d\": [{\"line\": {\"colorbar\": {\"outlinewidth\": 0, \"ticks\": \"\"}}, \"marker\": {\"colorbar\": {\"outlinewidth\": 0, \"ticks\": \"\"}}, \"type\": \"scatter3d\"}], \"scattercarpet\": [{\"marker\": {\"colorbar\": {\"outlinewidth\": 0, \"ticks\": \"\"}}, \"type\": \"scattercarpet\"}], \"scattergeo\": [{\"marker\": {\"colorbar\": {\"outlinewidth\": 0, \"ticks\": \"\"}}, \"type\": \"scattergeo\"}], \"scattergl\": [{\"marker\": {\"colorbar\": {\"outlinewidth\": 0, \"ticks\": \"\"}}, \"type\": \"scattergl\"}], \"scattermapbox\": [{\"marker\": {\"colorbar\": {\"outlinewidth\": 0, \"ticks\": \"\"}}, \"type\": \"scattermapbox\"}], \"scatterpolar\": [{\"marker\": {\"colorbar\": {\"outlinewidth\": 0, \"ticks\": \"\"}}, \"type\": \"scatterpolar\"}], \"scatterpolargl\": [{\"marker\": {\"colorbar\": {\"outlinewidth\": 0, \"ticks\": \"\"}}, \"type\": \"scatterpolargl\"}], \"scatterternary\": [{\"marker\": {\"colorbar\": {\"outlinewidth\": 0, \"ticks\": \"\"}}, \"type\": \"scatterternary\"}], \"surface\": [{\"colorbar\": {\"outlinewidth\": 0, \"ticks\": \"\"}, \"colorscale\": [[0.0, \"#0d0887\"], [0.1111111111111111, \"#46039f\"], [0.2222222222222222, \"#7201a8\"], [0.3333333333333333, \"#9c179e\"], [0.4444444444444444, \"#bd3786\"], [0.5555555555555556, \"#d8576b\"], [0.6666666666666666, \"#ed7953\"], [0.7777777777777778, \"#fb9f3a\"], [0.8888888888888888, \"#fdca26\"], [1.0, \"#f0f921\"]], \"type\": \"surface\"}], \"table\": [{\"cells\": {\"fill\": {\"color\": \"#EBF0F8\"}, \"line\": {\"color\": \"white\"}}, \"header\": {\"fill\": {\"color\": \"#C8D4E3\"}, \"line\": {\"color\": \"white\"}}, \"type\": \"table\"}]}, \"layout\": {\"annotationdefaults\": {\"arrowcolor\": \"#2a3f5f\", \"arrowhead\": 0, \"arrowwidth\": 1}, \"autotypenumbers\": \"strict\", \"coloraxis\": {\"colorbar\": {\"outlinewidth\": 0, \"ticks\": \"\"}}, \"colorscale\": {\"diverging\": [[0, \"#8e0152\"], [0.1, \"#c51b7d\"], [0.2, \"#de77ae\"], [0.3, \"#f1b6da\"], [0.4, \"#fde0ef\"], [0.5, \"#f7f7f7\"], [0.6, \"#e6f5d0\"], [0.7, \"#b8e186\"], [0.8, \"#7fbc41\"], [0.9, \"#4d9221\"], [1, \"#276419\"]], \"sequential\": [[0.0, \"#0d0887\"], [0.1111111111111111, \"#46039f\"], [0.2222222222222222, \"#7201a8\"], [0.3333333333333333, \"#9c179e\"], [0.4444444444444444, \"#bd3786\"], [0.5555555555555556, \"#d8576b\"], [0.6666666666666666, \"#ed7953\"], [0.7777777777777778, \"#fb9f3a\"], [0.8888888888888888, \"#fdca26\"], [1.0, \"#f0f921\"]], \"sequentialminus\": [[0.0, \"#0d0887\"], [0.1111111111111111, \"#46039f\"], [0.2222222222222222, \"#7201a8\"], [0.3333333333333333, \"#9c179e\"], [0.4444444444444444, \"#bd3786\"], [0.5555555555555556, \"#d8576b\"], [0.6666666666666666, \"#ed7953\"], [0.7777777777777778, \"#fb9f3a\"], [0.8888888888888888, \"#fdca26\"], [1.0, \"#f0f921\"]]}, \"colorway\": [\"#636efa\", \"#EF553B\", \"#00cc96\", \"#ab63fa\", \"#FFA15A\", \"#19d3f3\", \"#FF6692\", \"#B6E880\", \"#FF97FF\", \"#FECB52\"], \"font\": {\"color\": \"#2a3f5f\"}, \"geo\": {\"bgcolor\": \"white\", \"lakecolor\": \"white\", \"landcolor\": \"#E5ECF6\", \"showlakes\": true, \"showland\": true, \"subunitcolor\": \"white\"}, \"hoverlabel\": {\"align\": \"left\"}, \"hovermode\": \"closest\", \"mapbox\": {\"style\": \"light\"}, \"paper_bgcolor\": \"white\", \"plot_bgcolor\": \"#E5ECF6\", \"polar\": {\"angularaxis\": {\"gridcolor\": \"white\", \"linecolor\": \"white\", \"ticks\": \"\"}, \"bgcolor\": \"#E5ECF6\", \"radialaxis\": {\"gridcolor\": \"white\", \"linecolor\": \"white\", \"ticks\": \"\"}}, \"scene\": {\"xaxis\": {\"backgroundcolor\": \"#E5ECF6\", \"gridcolor\": \"white\", \"gridwidth\": 2, \"linecolor\": \"white\", \"showbackground\": true, \"ticks\": \"\", \"zerolinecolor\": \"white\"}, \"yaxis\": {\"backgroundcolor\": \"#E5ECF6\", \"gridcolor\": \"white\", \"gridwidth\": 2, \"linecolor\": \"white\", \"showbackground\": true, \"ticks\": \"\", \"zerolinecolor\": \"white\"}, \"zaxis\": {\"backgroundcolor\": \"#E5ECF6\", \"gridcolor\": \"white\", \"gridwidth\": 2, \"linecolor\": \"white\", \"showbackground\": true, \"ticks\": \"\", \"zerolinecolor\": \"white\"}}, \"shapedefaults\": {\"line\": {\"color\": \"#2a3f5f\"}}, \"ternary\": {\"aaxis\": {\"gridcolor\": \"white\", \"linecolor\": \"white\", \"ticks\": \"\"}, \"baxis\": {\"gridcolor\": \"white\", \"linecolor\": \"white\", \"ticks\": \"\"}, \"bgcolor\": \"#E5ECF6\", \"caxis\": {\"gridcolor\": \"white\", \"linecolor\": \"white\", \"ticks\": \"\"}}, \"title\": {\"x\": 0.05}, \"xaxis\": {\"automargin\": true, \"gridcolor\": \"white\", \"linecolor\": \"white\", \"ticks\": \"\", \"title\": {\"standoff\": 15}, \"zerolinecolor\": \"white\", \"zerolinewidth\": 2}, \"yaxis\": {\"automargin\": true, \"gridcolor\": \"white\", \"linecolor\": \"white\", \"ticks\": \"\", \"title\": {\"standoff\": 15}, \"zerolinecolor\": \"white\", \"zerolinewidth\": 2}}}, \"title\": {\"text\": \"Which are the most popular genres in Tv Series?\"}, \"uniformtext\": {\"minsize\": 8, \"mode\": \"hide\"}, \"xaxis\": {\"title\": {\"font\": {\"size\": 14}, \"text\": \"Genres\"}}, \"yaxis\": {\"title\": {\"font\": {\"size\": 14}, \"text\": \"Quantity\"}}},                        {\"responsive\": true}                    ).then(function(){\n",
       "                            \n",
       "var gd = document.getElementById('4c210c94-d9b4-4756-b9cd-70bc493b7ec4');\n",
       "var x = new MutationObserver(function (mutations, observer) {{\n",
       "        var display = window.getComputedStyle(gd).display;\n",
       "        if (!display || display === 'none') {{\n",
       "            console.log([gd, 'removed!']);\n",
       "            Plotly.purge(gd);\n",
       "            observer.disconnect();\n",
       "        }}\n",
       "}});\n",
       "\n",
       "// Listen for the removal of the full notebook cells\n",
       "var notebookContainer = gd.closest('#notebook-container');\n",
       "if (notebookContainer) {{\n",
       "    x.observe(notebookContainer, {childList: true});\n",
       "}}\n",
       "\n",
       "// Listen for the clearing of the current output cell\n",
       "var outputEl = gd.closest('.output');\n",
       "if (outputEl) {{\n",
       "    x.observe(outputEl, {childList: true});\n",
       "}}\n",
       "\n",
       "                        })                };                });            </script>        </div>"
      ]
     },
     "metadata": {},
     "output_type": "display_data"
    }
   ],
   "source": [
    "fig = go.Figure(data=[go.Bar(\n",
    "    x = top_10_s_gen.index,\n",
    "    y = top_10_s_gen['Counts of Genres in Tv Series'],\n",
    "    text = top_10_s_gen['Counts of Genres in Tv Series'],\n",
    "    textposition='auto',\n",
    "    marker_color=colors_10 # marker color can be a single color value or an iterable\n",
    ")])\n",
    "fig.update_traces(texttemplate='%{text:.2s}', textposition='outside')\n",
    "fig.update_layout(title_text= 'Which are the most popular genres in Tv Series?',\n",
    "                  uniformtext_minsize=8, uniformtext_mode='hide',\n",
    "                  yaxis=dict(\n",
    "                  title='Quantity',\n",
    "                  titlefont_size=14),\n",
    "                  xaxis=dict(\n",
    "                  title='Genres',\n",
    "                  titlefont_size=14))"
   ]
  },
  {
   "cell_type": "markdown",
   "id": "established-september",
   "metadata": {
    "papermill": {
     "duration": 0.078831,
     "end_time": "2021-06-05T06:15:21.561685",
     "exception": false,
     "start_time": "2021-06-05T06:15:21.482854",
     "status": "completed"
    },
    "tags": []
   },
   "source": [
    "**... We can see that the most present genres, and I think also most requested by viewers, are Drama 😟, Animation 🧚 and Comedies 😂.**"
   ]
  },
  {
   "cell_type": "markdown",
   "id": "saved-shuttle",
   "metadata": {
    "papermill": {
     "duration": 0.078348,
     "end_time": "2021-06-05T06:15:21.719131",
     "exception": false,
     "start_time": "2021-06-05T06:15:21.640783",
     "status": "completed"
    },
    "tags": []
   },
   "source": [
    "----------------------------"
   ]
  },
  {
   "cell_type": "markdown",
   "id": "double-detective",
   "metadata": {
    "papermill": {
     "duration": 0.079113,
     "end_time": "2021-06-05T06:15:21.877505",
     "exception": false,
     "start_time": "2021-06-05T06:15:21.798392",
     "status": "completed"
    },
    "tags": []
   },
   "source": [
    "**Meanwhile in the Movie 📽‍️ world ...**"
   ]
  },
  {
   "cell_type": "markdown",
   "id": "super-tennessee",
   "metadata": {
    "papermill": {
     "duration": 0.08135,
     "end_time": "2021-06-05T06:15:22.038229",
     "exception": false,
     "start_time": "2021-06-05T06:15:21.956879",
     "status": "completed"
    },
    "tags": []
   },
   "source": [
    "> Code: \n",
    "> - First of all I create a new series dataframe **dropping the missing values contained in the \"Genre\" column**."
   ]
  },
  {
   "cell_type": "code",
   "execution_count": 15,
   "id": "consolidated-sauce",
   "metadata": {
    "execution": {
     "iopub.execute_input": "2021-06-05T06:15:22.203556Z",
     "iopub.status.busy": "2021-06-05T06:15:22.202962Z",
     "iopub.status.idle": "2021-06-05T06:15:22.214260Z",
     "shell.execute_reply": "2021-06-05T06:15:22.213727Z",
     "shell.execute_reply.started": "2021-06-05T05:33:14.671090Z"
    },
    "papermill": {
     "duration": 0.097076,
     "end_time": "2021-06-05T06:15:22.214387",
     "exception": false,
     "start_time": "2021-06-05T06:15:22.117311",
     "status": "completed"
    },
    "tags": []
   },
   "outputs": [],
   "source": [
    "df_movie_gen = df_movie.dropna(subset=['Genre'])"
   ]
  },
  {
   "cell_type": "markdown",
   "id": "acoustic-cleaner",
   "metadata": {
    "papermill": {
     "duration": 0.079955,
     "end_time": "2021-06-05T06:15:22.373400",
     "exception": false,
     "start_time": "2021-06-05T06:15:22.293445",
     "status": "completed"
    },
    "tags": []
   },
   "source": [
    "> - Secondly **I create a list** that contains all the genres in the column and their quantity. So **I create a new dataframe** with this datas."
   ]
  },
  {
   "cell_type": "code",
   "execution_count": 16,
   "id": "infrared-durham",
   "metadata": {
    "execution": {
     "iopub.execute_input": "2021-06-05T06:15:22.535585Z",
     "iopub.status.busy": "2021-06-05T06:15:22.534927Z",
     "iopub.status.idle": "2021-06-05T06:15:22.560092Z",
     "shell.execute_reply": "2021-06-05T06:15:22.560526Z",
     "shell.execute_reply.started": "2021-06-05T05:33:14.690397Z"
    },
    "papermill": {
     "duration": 0.108046,
     "end_time": "2021-06-05T06:15:22.560714",
     "exception": false,
     "start_time": "2021-06-05T06:15:22.452668",
     "status": "completed"
    },
    "tags": []
   },
   "outputs": [],
   "source": [
    "movie_gen_list = df_movie_gen.Genre.str.split(', ') #split the list into names\n",
    "m_gen_list = {} #create an empty list\n",
    "for genres in movie_gen_list: # for any genres in movie_gen_list\n",
    "    for genre in genres: # for any genre in genres\n",
    "        if (genre in m_gen_list): #if this name is already present in the m_gen_list\n",
    "            m_gen_list[genre]+=1 # increase his value\n",
    "        else:  # else\n",
    "            m_gen_list[genre]=1 # Create his index in the list\n",
    "m_gen_df = pd.DataFrame(m_gen_list.values(),index = m_gen_list.keys(),\n",
    "                        columns = {'Counts of Genres in Movies'}) #Create a m_gen_df\n",
    "m_gen_df.sort_values(by = 'Counts of Genres in Movies',ascending = False,inplace = True) #Sort the dataframe in ascending order\n",
    "top_10_m_gen = m_gen_df[0:10] "
   ]
  },
  {
   "cell_type": "markdown",
   "id": "imposed-revision",
   "metadata": {
    "papermill": {
     "duration": 0.079383,
     "end_time": "2021-06-05T06:15:22.719662",
     "exception": false,
     "start_time": "2021-06-05T06:15:22.640279",
     "status": "completed"
    },
    "tags": []
   },
   "source": [
    "> - Thirdly, **I draw a bar chart** to better understand the distribution of the quantities of the various genres contained in the Netflix catalog."
   ]
  },
  {
   "cell_type": "code",
   "execution_count": 17,
   "id": "exempt-idaho",
   "metadata": {
    "execution": {
     "iopub.execute_input": "2021-06-05T06:15:22.883066Z",
     "iopub.status.busy": "2021-06-05T06:15:22.882375Z",
     "iopub.status.idle": "2021-06-05T06:15:22.901660Z",
     "shell.execute_reply": "2021-06-05T06:15:22.902132Z",
     "shell.execute_reply.started": "2021-06-05T05:33:14.726647Z"
    },
    "papermill": {
     "duration": 0.101531,
     "end_time": "2021-06-05T06:15:22.902295",
     "exception": false,
     "start_time": "2021-06-05T06:15:22.800764",
     "status": "completed"
    },
    "tags": []
   },
   "outputs": [
    {
     "data": {
      "text/html": [
       "<div>                            <div id=\"6907f768-580e-486f-8d1d-03f77479f37f\" class=\"plotly-graph-div\" style=\"height:525px; width:100%;\"></div>            <script type=\"text/javascript\">                require([\"plotly\"], function(Plotly) {                    window.PLOTLYENV=window.PLOTLYENV || {};                                    if (document.getElementById(\"6907f768-580e-486f-8d1d-03f77479f37f\")) {                    Plotly.newPlot(                        \"6907f768-580e-486f-8d1d-03f77479f37f\",                        [{\"marker\": {\"color\": [\"DarkRed\", \"FireBrick\", \"Red\", \"Crimson\", \"IndianRed\", \"slategray\", \"gray\", \"dimgrey\", \"DarkSlateGrey\", \"black\"]}, \"text\": [4959.0, 3967.0, 2314.0, 2248.0, 1884.0, 1496.0, 1364.0, 1057.0, 1032.0, 884.0], \"textposition\": \"outside\", \"texttemplate\": \"%{text:.2s}\", \"type\": \"bar\", \"x\": [\"Drama\", \"Comedy\", \"Thriller\", \"Action\", \"Romance\", \"Crime\", \"Adventure\", \"Fantasy\", \"Family\", \"Horror\"], \"y\": [4959, 3967, 2314, 2248, 1884, 1496, 1364, 1057, 1032, 884]}],                        {\"template\": {\"data\": {\"bar\": [{\"error_x\": {\"color\": \"#2a3f5f\"}, \"error_y\": {\"color\": \"#2a3f5f\"}, \"marker\": {\"line\": {\"color\": \"#E5ECF6\", \"width\": 0.5}}, \"type\": \"bar\"}], \"barpolar\": [{\"marker\": {\"line\": {\"color\": \"#E5ECF6\", \"width\": 0.5}}, \"type\": \"barpolar\"}], \"carpet\": [{\"aaxis\": {\"endlinecolor\": \"#2a3f5f\", \"gridcolor\": \"white\", \"linecolor\": \"white\", \"minorgridcolor\": \"white\", \"startlinecolor\": \"#2a3f5f\"}, \"baxis\": {\"endlinecolor\": \"#2a3f5f\", \"gridcolor\": \"white\", \"linecolor\": \"white\", \"minorgridcolor\": \"white\", \"startlinecolor\": \"#2a3f5f\"}, \"type\": \"carpet\"}], \"choropleth\": [{\"colorbar\": {\"outlinewidth\": 0, \"ticks\": \"\"}, \"type\": \"choropleth\"}], \"contour\": [{\"colorbar\": {\"outlinewidth\": 0, \"ticks\": \"\"}, \"colorscale\": [[0.0, \"#0d0887\"], [0.1111111111111111, \"#46039f\"], [0.2222222222222222, \"#7201a8\"], [0.3333333333333333, \"#9c179e\"], [0.4444444444444444, \"#bd3786\"], [0.5555555555555556, \"#d8576b\"], [0.6666666666666666, \"#ed7953\"], [0.7777777777777778, \"#fb9f3a\"], [0.8888888888888888, \"#fdca26\"], [1.0, \"#f0f921\"]], \"type\": \"contour\"}], \"contourcarpet\": [{\"colorbar\": {\"outlinewidth\": 0, \"ticks\": \"\"}, \"type\": \"contourcarpet\"}], \"heatmap\": [{\"colorbar\": {\"outlinewidth\": 0, \"ticks\": \"\"}, \"colorscale\": [[0.0, \"#0d0887\"], [0.1111111111111111, \"#46039f\"], [0.2222222222222222, \"#7201a8\"], [0.3333333333333333, \"#9c179e\"], [0.4444444444444444, \"#bd3786\"], [0.5555555555555556, \"#d8576b\"], [0.6666666666666666, \"#ed7953\"], [0.7777777777777778, \"#fb9f3a\"], [0.8888888888888888, \"#fdca26\"], [1.0, \"#f0f921\"]], \"type\": \"heatmap\"}], \"heatmapgl\": [{\"colorbar\": {\"outlinewidth\": 0, \"ticks\": \"\"}, \"colorscale\": [[0.0, \"#0d0887\"], [0.1111111111111111, \"#46039f\"], [0.2222222222222222, \"#7201a8\"], [0.3333333333333333, \"#9c179e\"], [0.4444444444444444, \"#bd3786\"], [0.5555555555555556, \"#d8576b\"], [0.6666666666666666, \"#ed7953\"], [0.7777777777777778, \"#fb9f3a\"], [0.8888888888888888, \"#fdca26\"], [1.0, \"#f0f921\"]], \"type\": \"heatmapgl\"}], \"histogram\": [{\"marker\": {\"colorbar\": {\"outlinewidth\": 0, \"ticks\": \"\"}}, \"type\": \"histogram\"}], \"histogram2d\": [{\"colorbar\": {\"outlinewidth\": 0, \"ticks\": \"\"}, \"colorscale\": [[0.0, \"#0d0887\"], [0.1111111111111111, \"#46039f\"], [0.2222222222222222, \"#7201a8\"], [0.3333333333333333, \"#9c179e\"], [0.4444444444444444, \"#bd3786\"], [0.5555555555555556, \"#d8576b\"], [0.6666666666666666, \"#ed7953\"], [0.7777777777777778, \"#fb9f3a\"], [0.8888888888888888, \"#fdca26\"], [1.0, \"#f0f921\"]], \"type\": \"histogram2d\"}], \"histogram2dcontour\": [{\"colorbar\": {\"outlinewidth\": 0, \"ticks\": \"\"}, \"colorscale\": [[0.0, \"#0d0887\"], [0.1111111111111111, \"#46039f\"], [0.2222222222222222, \"#7201a8\"], [0.3333333333333333, \"#9c179e\"], [0.4444444444444444, \"#bd3786\"], [0.5555555555555556, \"#d8576b\"], [0.6666666666666666, \"#ed7953\"], [0.7777777777777778, \"#fb9f3a\"], [0.8888888888888888, \"#fdca26\"], [1.0, \"#f0f921\"]], \"type\": \"histogram2dcontour\"}], \"mesh3d\": [{\"colorbar\": {\"outlinewidth\": 0, \"ticks\": \"\"}, \"type\": \"mesh3d\"}], \"parcoords\": [{\"line\": {\"colorbar\": {\"outlinewidth\": 0, \"ticks\": \"\"}}, \"type\": \"parcoords\"}], \"pie\": [{\"automargin\": true, \"type\": \"pie\"}], \"scatter\": [{\"marker\": {\"colorbar\": {\"outlinewidth\": 0, \"ticks\": \"\"}}, \"type\": \"scatter\"}], \"scatter3d\": [{\"line\": {\"colorbar\": {\"outlinewidth\": 0, \"ticks\": \"\"}}, \"marker\": {\"colorbar\": {\"outlinewidth\": 0, \"ticks\": \"\"}}, \"type\": \"scatter3d\"}], \"scattercarpet\": [{\"marker\": {\"colorbar\": {\"outlinewidth\": 0, \"ticks\": \"\"}}, \"type\": \"scattercarpet\"}], \"scattergeo\": [{\"marker\": {\"colorbar\": {\"outlinewidth\": 0, \"ticks\": \"\"}}, \"type\": \"scattergeo\"}], \"scattergl\": [{\"marker\": {\"colorbar\": {\"outlinewidth\": 0, \"ticks\": \"\"}}, \"type\": \"scattergl\"}], \"scattermapbox\": [{\"marker\": {\"colorbar\": {\"outlinewidth\": 0, \"ticks\": \"\"}}, \"type\": \"scattermapbox\"}], \"scatterpolar\": [{\"marker\": {\"colorbar\": {\"outlinewidth\": 0, \"ticks\": \"\"}}, \"type\": \"scatterpolar\"}], \"scatterpolargl\": [{\"marker\": {\"colorbar\": {\"outlinewidth\": 0, \"ticks\": \"\"}}, \"type\": \"scatterpolargl\"}], \"scatterternary\": [{\"marker\": {\"colorbar\": {\"outlinewidth\": 0, \"ticks\": \"\"}}, \"type\": \"scatterternary\"}], \"surface\": [{\"colorbar\": {\"outlinewidth\": 0, \"ticks\": \"\"}, \"colorscale\": [[0.0, \"#0d0887\"], [0.1111111111111111, \"#46039f\"], [0.2222222222222222, \"#7201a8\"], [0.3333333333333333, \"#9c179e\"], [0.4444444444444444, \"#bd3786\"], [0.5555555555555556, \"#d8576b\"], [0.6666666666666666, \"#ed7953\"], [0.7777777777777778, \"#fb9f3a\"], [0.8888888888888888, \"#fdca26\"], [1.0, \"#f0f921\"]], \"type\": \"surface\"}], \"table\": [{\"cells\": {\"fill\": {\"color\": \"#EBF0F8\"}, \"line\": {\"color\": \"white\"}}, \"header\": {\"fill\": {\"color\": \"#C8D4E3\"}, \"line\": {\"color\": \"white\"}}, \"type\": \"table\"}]}, \"layout\": {\"annotationdefaults\": {\"arrowcolor\": \"#2a3f5f\", \"arrowhead\": 0, \"arrowwidth\": 1}, \"autotypenumbers\": \"strict\", \"coloraxis\": {\"colorbar\": {\"outlinewidth\": 0, \"ticks\": \"\"}}, \"colorscale\": {\"diverging\": [[0, \"#8e0152\"], [0.1, \"#c51b7d\"], [0.2, \"#de77ae\"], [0.3, \"#f1b6da\"], [0.4, \"#fde0ef\"], [0.5, \"#f7f7f7\"], [0.6, \"#e6f5d0\"], [0.7, \"#b8e186\"], [0.8, \"#7fbc41\"], [0.9, \"#4d9221\"], [1, \"#276419\"]], \"sequential\": [[0.0, \"#0d0887\"], [0.1111111111111111, \"#46039f\"], [0.2222222222222222, \"#7201a8\"], [0.3333333333333333, \"#9c179e\"], [0.4444444444444444, \"#bd3786\"], [0.5555555555555556, \"#d8576b\"], [0.6666666666666666, \"#ed7953\"], [0.7777777777777778, \"#fb9f3a\"], [0.8888888888888888, \"#fdca26\"], [1.0, \"#f0f921\"]], \"sequentialminus\": [[0.0, \"#0d0887\"], [0.1111111111111111, \"#46039f\"], [0.2222222222222222, \"#7201a8\"], [0.3333333333333333, \"#9c179e\"], [0.4444444444444444, \"#bd3786\"], [0.5555555555555556, \"#d8576b\"], [0.6666666666666666, \"#ed7953\"], [0.7777777777777778, \"#fb9f3a\"], [0.8888888888888888, \"#fdca26\"], [1.0, \"#f0f921\"]]}, \"colorway\": [\"#636efa\", \"#EF553B\", \"#00cc96\", \"#ab63fa\", \"#FFA15A\", \"#19d3f3\", \"#FF6692\", \"#B6E880\", \"#FF97FF\", \"#FECB52\"], \"font\": {\"color\": \"#2a3f5f\"}, \"geo\": {\"bgcolor\": \"white\", \"lakecolor\": \"white\", \"landcolor\": \"#E5ECF6\", \"showlakes\": true, \"showland\": true, \"subunitcolor\": \"white\"}, \"hoverlabel\": {\"align\": \"left\"}, \"hovermode\": \"closest\", \"mapbox\": {\"style\": \"light\"}, \"paper_bgcolor\": \"white\", \"plot_bgcolor\": \"#E5ECF6\", \"polar\": {\"angularaxis\": {\"gridcolor\": \"white\", \"linecolor\": \"white\", \"ticks\": \"\"}, \"bgcolor\": \"#E5ECF6\", \"radialaxis\": {\"gridcolor\": \"white\", \"linecolor\": \"white\", \"ticks\": \"\"}}, \"scene\": {\"xaxis\": {\"backgroundcolor\": \"#E5ECF6\", \"gridcolor\": \"white\", \"gridwidth\": 2, \"linecolor\": \"white\", \"showbackground\": true, \"ticks\": \"\", \"zerolinecolor\": \"white\"}, \"yaxis\": {\"backgroundcolor\": \"#E5ECF6\", \"gridcolor\": \"white\", \"gridwidth\": 2, \"linecolor\": \"white\", \"showbackground\": true, \"ticks\": \"\", \"zerolinecolor\": \"white\"}, \"zaxis\": {\"backgroundcolor\": \"#E5ECF6\", \"gridcolor\": \"white\", \"gridwidth\": 2, \"linecolor\": \"white\", \"showbackground\": true, \"ticks\": \"\", \"zerolinecolor\": \"white\"}}, \"shapedefaults\": {\"line\": {\"color\": \"#2a3f5f\"}}, \"ternary\": {\"aaxis\": {\"gridcolor\": \"white\", \"linecolor\": \"white\", \"ticks\": \"\"}, \"baxis\": {\"gridcolor\": \"white\", \"linecolor\": \"white\", \"ticks\": \"\"}, \"bgcolor\": \"#E5ECF6\", \"caxis\": {\"gridcolor\": \"white\", \"linecolor\": \"white\", \"ticks\": \"\"}}, \"title\": {\"x\": 0.05}, \"xaxis\": {\"automargin\": true, \"gridcolor\": \"white\", \"linecolor\": \"white\", \"ticks\": \"\", \"title\": {\"standoff\": 15}, \"zerolinecolor\": \"white\", \"zerolinewidth\": 2}, \"yaxis\": {\"automargin\": true, \"gridcolor\": \"white\", \"linecolor\": \"white\", \"ticks\": \"\", \"title\": {\"standoff\": 15}, \"zerolinecolor\": \"white\", \"zerolinewidth\": 2}}}, \"title\": {\"text\": \"Which are the most popular genres in Movies?\"}, \"uniformtext\": {\"minsize\": 8, \"mode\": \"hide\"}, \"xaxis\": {\"title\": {\"font\": {\"size\": 14}, \"text\": \"Genres\"}}, \"yaxis\": {\"title\": {\"font\": {\"size\": 14}, \"text\": \"Quantity\"}}},                        {\"responsive\": true}                    ).then(function(){\n",
       "                            \n",
       "var gd = document.getElementById('6907f768-580e-486f-8d1d-03f77479f37f');\n",
       "var x = new MutationObserver(function (mutations, observer) {{\n",
       "        var display = window.getComputedStyle(gd).display;\n",
       "        if (!display || display === 'none') {{\n",
       "            console.log([gd, 'removed!']);\n",
       "            Plotly.purge(gd);\n",
       "            observer.disconnect();\n",
       "        }}\n",
       "}});\n",
       "\n",
       "// Listen for the removal of the full notebook cells\n",
       "var notebookContainer = gd.closest('#notebook-container');\n",
       "if (notebookContainer) {{\n",
       "    x.observe(notebookContainer, {childList: true});\n",
       "}}\n",
       "\n",
       "// Listen for the clearing of the current output cell\n",
       "var outputEl = gd.closest('.output');\n",
       "if (outputEl) {{\n",
       "    x.observe(outputEl, {childList: true});\n",
       "}}\n",
       "\n",
       "                        })                };                });            </script>        </div>"
      ]
     },
     "metadata": {},
     "output_type": "display_data"
    }
   ],
   "source": [
    "fig = go.Figure(data=[go.Bar(\n",
    "    x = top_10_m_gen.index,\n",
    "    y = top_10_m_gen['Counts of Genres in Movies'],\n",
    "    text = top_10_m_gen['Counts of Genres in Movies'],\n",
    "    textposition='auto',\n",
    "    marker_color=colors_10 # marker color can be a single color value or an iterable\n",
    ")])\n",
    "fig.update_traces(texttemplate='%{text:.2s}', textposition='outside')\n",
    "fig.update_layout(title_text= 'Which are the most popular genres in Movies?',\n",
    "                  uniformtext_minsize=8, uniformtext_mode='hide',\n",
    "                  yaxis=dict(\n",
    "                  title='Quantity',\n",
    "                  titlefont_size=14),\n",
    "                  xaxis=dict(\n",
    "                  title='Genres',\n",
    "                  titlefont_size=14))"
   ]
  },
  {
   "cell_type": "markdown",
   "id": "fluid-mouth",
   "metadata": {
    "papermill": {
     "duration": 0.082251,
     "end_time": "2021-06-05T06:15:23.064372",
     "exception": false,
     "start_time": "2021-06-05T06:15:22.982121",
     "status": "completed"
    },
    "tags": []
   },
   "source": [
    "**... We can see that like with the Tv Series the Genre most rappresented is Drama 😟 followed by Comedy 😂 (that was third in the previous chart) and Thriller🕵🧟.**"
   ]
  },
  {
   "cell_type": "markdown",
   "id": "behind-trial",
   "metadata": {
    "papermill": {
     "duration": 0.079376,
     "end_time": "2021-06-05T06:15:23.223983",
     "exception": false,
     "start_time": "2021-06-05T06:15:23.144607",
     "status": "completed"
    },
    "tags": []
   },
   "source": [
    "-------------"
   ]
  },
  {
   "cell_type": "markdown",
   "id": "expected-stopping",
   "metadata": {
    "papermill": {
     "duration": 0.080335,
     "end_time": "2021-06-05T06:15:23.384932",
     "exception": false,
     "start_time": "2021-06-05T06:15:23.304597",
     "status": "completed"
    },
    "tags": []
   },
   "source": [
    "# 2.3 Tags 📝📎 "
   ]
  },
  {
   "cell_type": "markdown",
   "id": "grave-pencil",
   "metadata": {
    "papermill": {
     "duration": 0.079349,
     "end_time": "2021-06-05T06:15:23.544218",
     "exception": false,
     "start_time": "2021-06-05T06:15:23.464869",
     "status": "completed"
    },
    "tags": []
   },
   "source": [
    "> 📌 Note: As we are used to seeing on social networks, there are also **tags** in other fields. They can be considered as keywords that help to identify a certain thing in a simple and concise way. In our case they recall a little film genres but with slight nuances as maybe a film, or a TV series, can be considered as a set of different genres or in the tags the nationality of production or other small things that help the viewers in their search. \n",
    "\n",
    "So let's find out, even in this case, which are the most frequent and if there are close links with the quantity of products of the various genres that we have analyzed earlier."
   ]
  },
  {
   "cell_type": "markdown",
   "id": "sporting-prevention",
   "metadata": {
    "papermill": {
     "duration": 0.080849,
     "end_time": "2021-06-05T06:15:23.705727",
     "exception": false,
     "start_time": "2021-06-05T06:15:23.624878",
     "status": "completed"
    },
    "tags": []
   },
   "source": [
    "**In the Tv Series 📺...**"
   ]
  },
  {
   "cell_type": "markdown",
   "id": "authentic-knowing",
   "metadata": {
    "papermill": {
     "duration": 0.078591,
     "end_time": "2021-06-05T06:15:23.869139",
     "exception": false,
     "start_time": "2021-06-05T06:15:23.790548",
     "status": "completed"
    },
    "tags": []
   },
   "source": [
    "> Code: \n",
    "> - First of all I create a new series dataframe **dropping the missing values contained in the \"Tags\" column**."
   ]
  },
  {
   "cell_type": "code",
   "execution_count": 18,
   "id": "communist-atmosphere",
   "metadata": {
    "execution": {
     "iopub.execute_input": "2021-06-05T06:15:24.034922Z",
     "iopub.status.busy": "2021-06-05T06:15:24.034238Z",
     "iopub.status.idle": "2021-06-05T06:15:24.039387Z",
     "shell.execute_reply": "2021-06-05T06:15:24.038854Z",
     "shell.execute_reply.started": "2021-06-05T05:33:14.753444Z"
    },
    "papermill": {
     "duration": 0.091489,
     "end_time": "2021-06-05T06:15:24.039532",
     "exception": false,
     "start_time": "2021-06-05T06:15:23.948043",
     "status": "completed"
    },
    "tags": []
   },
   "outputs": [],
   "source": [
    "df_series_tag = df_series.dropna(subset=['Tags'])"
   ]
  },
  {
   "cell_type": "markdown",
   "id": "alert-packing",
   "metadata": {
    "papermill": {
     "duration": 0.088728,
     "end_time": "2021-06-05T06:15:24.232802",
     "exception": false,
     "start_time": "2021-06-05T06:15:24.144074",
     "status": "completed"
    },
    "tags": []
   },
   "source": [
    "> - Secondly, I draw a **Wordcloud** with the most named tags in the list"
   ]
  },
  {
   "cell_type": "code",
   "execution_count": 19,
   "id": "arbitrary-steering",
   "metadata": {
    "execution": {
     "iopub.execute_input": "2021-06-05T06:15:24.399699Z",
     "iopub.status.busy": "2021-06-05T06:15:24.398895Z",
     "iopub.status.idle": "2021-06-05T06:15:55.352197Z",
     "shell.execute_reply": "2021-06-05T06:15:55.352665Z",
     "shell.execute_reply.started": "2021-06-05T05:33:14.766432Z"
    },
    "papermill": {
     "duration": 31.038928,
     "end_time": "2021-06-05T06:15:55.352832",
     "exception": false,
     "start_time": "2021-06-05T06:15:24.313904",
     "status": "completed"
    },
    "tags": []
   },
   "outputs": [
    {
     "data": {
      "image/png": "[encoded data removed]",
      "text/plain": [
       "<Figure size 576x576 with 1 Axes>"
      ]
     },
     "metadata": {
      "needs_background": "light"
     },
     "output_type": "display_data"
    }
   ],
   "source": [
    "nlp = spacy.load('en')\n",
    "series_tags = df_series_tag['Tags']\n",
    "for tag in series_tags:\n",
    "    doc = nlp(tag)\n",
    "words = [token.text\n",
    "         for token in doc\n",
    "         if not token.is_stop and not token.is_punct]\n",
    "rest_string = ' '\n",
    "for i in words:\n",
    "   rest_string = rest_string+i+' '\n",
    "    \n",
    "wordcloud = WordCloud(width = 1400, height = 1400, \n",
    "                background_color ='lavenderblush',  \n",
    "                min_font_size = 5).generate(rest_string) \n",
    "  \n",
    "# plot the WordCloud image                        \n",
    "plt.figure(figsize = (8, 8), facecolor = None) \n",
    "plt.imshow(wordcloud) \n",
    "plt.axis(\"off\") \n",
    "plt.tight_layout(pad = 0) \n",
    "  \n",
    "plt.show() "
   ]
  },
  {
   "cell_type": "markdown",
   "id": "latin-adult",
   "metadata": {
    "papermill": {
     "duration": 0.083045,
     "end_time": "2021-06-05T06:15:55.519351",
     "exception": false,
     "start_time": "2021-06-05T06:15:55.436306",
     "status": "completed"
    },
    "tags": []
   },
   "source": [
    "**While in the Movie 📽‍️ world ..**."
   ]
  },
  {
   "cell_type": "markdown",
   "id": "bearing-malaysia",
   "metadata": {
    "papermill": {
     "duration": 0.082937,
     "end_time": "2021-06-05T06:15:55.685683",
     "exception": false,
     "start_time": "2021-06-05T06:15:55.602746",
     "status": "completed"
    },
    "tags": []
   },
   "source": [
    "> Code: \n",
    "> - First of all I create a new series dataframe **dropping the missing values contained in the \"Tags\" column**."
   ]
  },
  {
   "cell_type": "code",
   "execution_count": 20,
   "id": "arabic-transmission",
   "metadata": {
    "execution": {
     "iopub.execute_input": "2021-06-05T06:15:55.859350Z",
     "iopub.status.busy": "2021-06-05T06:15:55.858779Z",
     "iopub.status.idle": "2021-06-05T06:15:55.865825Z",
     "shell.execute_reply": "2021-06-05T06:15:55.865216Z",
     "shell.execute_reply.started": "2021-06-05T05:33:50.236863Z"
    },
    "papermill": {
     "duration": 0.097321,
     "end_time": "2021-06-05T06:15:55.865970",
     "exception": false,
     "start_time": "2021-06-05T06:15:55.768649",
     "status": "completed"
    },
    "tags": []
   },
   "outputs": [],
   "source": [
    "df_movie_tag = df_movie.dropna(subset=['Tags'])"
   ]
  },
  {
   "cell_type": "markdown",
   "id": "wooden-deadline",
   "metadata": {
    "papermill": {
     "duration": 0.085074,
     "end_time": "2021-06-05T06:15:56.036604",
     "exception": false,
     "start_time": "2021-06-05T06:15:55.951530",
     "status": "completed"
    },
    "tags": []
   },
   "source": [
    "> - Secondly, I draw a **Wordcloud** with the most named tags in the list"
   ]
  },
  {
   "cell_type": "code",
   "execution_count": 21,
   "id": "flexible-tournament",
   "metadata": {
    "execution": {
     "iopub.execute_input": "2021-06-05T06:15:56.214927Z",
     "iopub.status.busy": "2021-06-05T06:15:56.214252Z",
     "iopub.status.idle": "2021-06-05T06:17:30.057997Z",
     "shell.execute_reply": "2021-06-05T06:17:30.058428Z",
     "shell.execute_reply.started": "2021-06-05T05:33:50.250819Z"
    },
    "papermill": {
     "duration": 93.936297,
     "end_time": "2021-06-05T06:17:30.058624",
     "exception": false,
     "start_time": "2021-06-05T06:15:56.122327",
     "status": "completed"
    },
    "tags": []
   },
   "outputs": [
    {
     "data": {
      "image/png": "[encoded data removed]",
      "text/plain": [
       "<Figure size 576x576 with 1 Axes>"
      ]
     },
     "metadata": {
      "needs_background": "light"
     },
     "output_type": "display_data"
    }
   ],
   "source": [
    "nlp = spacy.load('en')\n",
    "movie_tags = df_movie_tag['Tags']\n",
    "for tag in movie_tags:\n",
    "    doc = nlp(tag)\n",
    "words = [token.text\n",
    "         for token in doc\n",
    "         if not token.is_stop and not token.is_punct]\n",
    "rest_string = ' '\n",
    "for i in words:\n",
    "   rest_string = rest_string+i+' '\n",
    "    \n",
    "wordcloud = WordCloud(width = 1400, height = 1400, \n",
    "                background_color ='lavenderblush',  \n",
    "                min_font_size = 5).generate(rest_string) \n",
    "  \n",
    "# plot the WordCloud image                        \n",
    "plt.figure(figsize = (8, 8), facecolor = None) \n",
    "plt.imshow(wordcloud) \n",
    "plt.axis(\"off\") \n",
    "plt.tight_layout(pad = 0) \n",
    "  \n",
    "plt.show()"
   ]
  },
  {
   "cell_type": "markdown",
   "id": "absent-census",
   "metadata": {
    "papermill": {
     "duration": 0.088056,
     "end_time": "2021-06-05T06:17:30.234915",
     "exception": false,
     "start_time": "2021-06-05T06:17:30.146859",
     "status": "completed"
    },
    "tags": []
   },
   "source": [
    "---------------"
   ]
  },
  {
   "cell_type": "markdown",
   "id": "upper-preservation",
   "metadata": {
    "papermill": {
     "duration": 0.085454,
     "end_time": "2021-06-05T06:17:30.408223",
     "exception": false,
     "start_time": "2021-06-05T06:17:30.322769",
     "status": "completed"
    },
    "tags": []
   },
   "source": [
    "# 2.4 Languages 🗣🎤"
   ]
  },
  {
   "cell_type": "markdown",
   "id": "supposed-mercury",
   "metadata": {
    "papermill": {
     "duration": 0.085941,
     "end_time": "2021-06-05T06:17:30.582045",
     "exception": false,
     "start_time": "2021-06-05T06:17:30.496104",
     "status": "completed"
    },
    "tags": []
   },
   "source": [
    "> 📌 Note: There are hundreds of states in the world that rightfully have their own traditions, their own culture and their own languages. This is why there are, According to Ethnologue, **currently [7,117 languages ](https://www.theintrepidguide.com/how-many-languages-are-there-in-the-world/)spoken around the world.**. But what does this have to do with our argument? It really hits the spot because this being the situation, every film shot in a different country will be shot in the original language of that country. Fortunately, nowadays there are voice actors who translate them into various languages so as to give as many people as possible the opportunity to enjoy and watch the various films. \n",
    "\n",
    "But unfortunately not all films are so famous that they are translated for everyone, so let's go to the discovery of the languages most present in the cinema scene"
   ]
  },
  {
   "cell_type": "markdown",
   "id": "fleet-entrance",
   "metadata": {
    "papermill": {
     "duration": 0.085429,
     "end_time": "2021-06-05T06:17:30.754492",
     "exception": false,
     "start_time": "2021-06-05T06:17:30.669063",
     "status": "completed"
    },
    "tags": []
   },
   "source": [
    "**In Tv Series 📺...**"
   ]
  },
  {
   "cell_type": "markdown",
   "id": "provincial-iceland",
   "metadata": {
    "papermill": {
     "duration": 0.086773,
     "end_time": "2021-06-05T06:17:30.930034",
     "exception": false,
     "start_time": "2021-06-05T06:17:30.843261",
     "status": "completed"
    },
    "tags": []
   },
   "source": [
    "> Code: \n",
    "> - First of all I create a new series dataframe **dropping the missing values contained in the \"Languages\" column**."
   ]
  },
  {
   "cell_type": "code",
   "execution_count": 22,
   "id": "exact-federation",
   "metadata": {
    "execution": {
     "iopub.execute_input": "2021-06-05T06:17:31.120566Z",
     "iopub.status.busy": "2021-06-05T06:17:31.119938Z",
     "iopub.status.idle": "2021-06-05T06:17:31.123646Z",
     "shell.execute_reply": "2021-06-05T06:17:31.124014Z",
     "shell.execute_reply.started": "2021-06-05T05:35:37.429818Z"
    },
    "papermill": {
     "duration": 0.107431,
     "end_time": "2021-06-05T06:17:31.124184",
     "exception": false,
     "start_time": "2021-06-05T06:17:31.016753",
     "status": "completed"
    },
    "tags": []
   },
   "outputs": [],
   "source": [
    "df_series_lan = df_series.dropna(subset=['Languages'])"
   ]
  },
  {
   "cell_type": "markdown",
   "id": "compliant-shooting",
   "metadata": {
    "papermill": {
     "duration": 0.087873,
     "end_time": "2021-06-05T06:17:31.298955",
     "exception": false,
     "start_time": "2021-06-05T06:17:31.211082",
     "status": "completed"
    },
    "tags": []
   },
   "source": [
    "> - Secondly plot a treemap that contains squares of different shapes that illustrate the languages spoken in the Tv Series"
   ]
  },
  {
   "cell_type": "code",
   "execution_count": 23,
   "id": "victorian-husband",
   "metadata": {
    "execution": {
     "iopub.execute_input": "2021-06-05T06:17:31.476626Z",
     "iopub.status.busy": "2021-06-05T06:17:31.475997Z",
     "iopub.status.idle": "2021-06-05T06:17:32.596349Z",
     "shell.execute_reply": "2021-06-05T06:17:32.595757Z",
     "shell.execute_reply.started": "2021-06-05T05:35:37.443015Z"
    },
    "papermill": {
     "duration": 1.209851,
     "end_time": "2021-06-05T06:17:32.596493",
     "exception": false,
     "start_time": "2021-06-05T06:17:31.386642",
     "status": "completed"
    },
    "tags": []
   },
   "outputs": [
    {
     "data": {
      "text/html": [
       "<div>                            <div id=\"7cb1a331-0a26-4142-a0c7-eae4a7a6d432\" class=\"plotly-graph-div\" style=\"height:525px; width:100%;\"></div>            <script type=\"text/javascript\">                require([\"plotly\"], function(Plotly) {                    window.PLOTLYENV=window.PLOTLYENV || {};                                    if (document.getElementById(\"7cb1a331-0a26-4142-a0c7-eae4a7a6d432\")) {                    Plotly.newPlot(                        \"7cb1a331-0a26-4142-a0c7-eae4a7a6d432\",                        [{\"branchvalues\": \"total\", \"domain\": {\"x\": [0.0, 1.0], \"y\": [0.0, 1.0]}, \"hovertemplate\": \"labels=%{label}<br>count=%{value}<br>parent=%{parent}<br>id=%{id}<extra></extra>\", \"ids\": [\"Arabic\", \"Arabic, French\", \"Arabic, French, English\", \"Arabic, Hebrew, Persian, English\", \"Arabic, Persian, English\", \"Assamese\", \"Bengali\", \"Bulgarian\", \"Cantonese\", \"Cantonese, English, Hokkien, Mandarin\", \"Cantonese, Mandarin, English\", \"Catalan\", \"Catalan, Spanish\", \"Chinese\", \"Chinese, Hokkien\", \"Croatian\", \"Danish\", \"Danish, English, Swedish\", \"Danish, German\", \"Danish, German, English, Czech\", \"Danish, Swedish\", \"Dutch\", \"Dutch, English\", \"Dutch, Flemish\", \"Dutch, German, English, French\", \"East-Greenlandic, English\", \"English\", \"English, Aboriginal\", \"English, Arabic\", \"English, Arabic, French, German, Italian, Mandarin, Spanish\", \"English, Arabic, German, Italian, Japanese, Spanish\", \"English, Arabic, Hebrew, Latin\", \"English, Arabic, Spanish\", \"English, Arabic, Spanish, Japanese, Berber languages, French, Russian, Japanese Sign Language\", \"English, British Sign Language, Welsh\", \"English, Bulgarian, Spanish, Russian, Mandarin, German, French\", \"English, Cantonese\", \"English, Cantonese, Mandarin, Mongolian, Persian, Italian, Uighur, Arabic\", \"English, Cornish\", \"English, Cree, Portuguese\", \"English, Dutch, Italian, French\", \"English, Dutch, Romanian\", \"English, Esperanto\", \"English, Filipino\", \"English, Finnish\", \"English, Flemish, French\", \"English, French\", \"English, French, Flemish, German, Danish, Swedish\", \"English, French, German\", \"English, French, German, Chechen, Japanese, Czech\", \"English, French, German, Italian\", \"English, French, German, Spanish\", \"English, French, Greek\", \"English, French, Korean\", \"English, French, Latin\", \"English, French, Mandarin\", \"English, French, Spanish\", \"English, German\", \"English, German, French\", \"English, German, French, Italian, Turkish\", \"English, German, French, Polish, Hungarian, Czech\", \"English, German, Italian, French, Spanish\", \"English, German, Korean, Spanish, American Sign Language, French, Russian, Hebrew\", \"English, German, Spanish, Latin\", \"English, Greek\", \"English, Greek, Arabic, Russian, Chinese, Spanish, Japanese\", \"English, Hebrew\", \"English, Hebrew, German, Ukrainian\", \"English, Hindi\", \"English, Hindi, French\", \"English, Hindi, Italian, Russian, Mandarin, Klingon\", \"English, Hungarian\", \"English, Icelandic, Afrikaans, Norwegian\", \"English, Irish\", \"English, Italian\", \"English, Italian, Hebrew\", \"English, Italian, Spanish\", \"English, Japanese\", \"English, Japanese, Mongolian\", \"English, Japanese, Spanish\", \"English, Japanese, Ukrainian\", \"English, Klingon\", \"English, Klingon, French\", \"English, Korean\", \"English, Korean, Chinese\", \"English, Korean, French\", \"English, Korean, French, Japanese, Czech, German\", \"English, Latin\", \"English, Latin, Hebrew\", \"English, Malay\", \"English, Mandarin\", \"English, Mandarin, French, Cantonese, Spanish\", \"English, Mandarin, Japanese, Russian, Korean\", \"English, Maori\", \"English, None\", \"English, Persian, Chinese\", \"English, Polish\", \"English, Polish, German, French\", \"English, Polish, Indonesian, Turkish\", \"English, Portuguese\", \"English, Portuguese, Spanish\", \"English, Pushto, Mandarin\", \"English, Russian\", \"English, Russian, Arabic\", \"English, Russian, German, Korean, Arabic, Spanish, Serbian, Mandarin\", \"English, Russian, Italian, French\", \"English, Sanskrit\", \"English, Scottish Gaelic\", \"English, Serbo-Croatian, Spanish, Czech\", \"English, Spanish\", \"English, Spanish, American Sign Language\", \"English, Spanish, Arabic\", \"English, Spanish, Arabic, Chinese, Korean, Chechen, Slovak\", \"English, Spanish, Arabic, German\", \"English, Spanish, Catalan, French, Italian, Portuguese\", \"English, Spanish, Central American Indian languages\", \"English, Spanish, Chinese\", \"English, Spanish, French\", \"English, Spanish, French, German, Mandarin\", \"English, Spanish, French, German, Portuguese\", \"English, Spanish, German\", \"English, Spanish, German, French, Mandarin, Korean\", \"English, Spanish, Hebrew, Arabic\", \"English, Spanish, Irish, Korean\", \"English, Spanish, Italian\", \"English, Spanish, Korean, Japanese, German, Portuguese\", \"English, Spanish, Polish\", \"English, Spanish, Russian, Khmer\", \"English, Spanish, Vietnamese\", \"English, Swedish\", \"English, Swedish, Russian\", \"English, Swiss German\", \"English, Tagalog\", \"English, Thai, German\", \"English, Thai, Spanish, Hebrew, French\", \"English, Welsh\", \"English, Zulu\", \"English, Zulu, Southern Sotho\", \"Filipino\", \"Filipino, Tagalog\", \"Finnish\", \"Finnish, German, English\", \"Flemish\", \"French\", \"French, Arabic, English\", \"French, Arabic, Greek,  Ancient (to 1453), Russian, English, Old English, Norse,  Old, Latin\", \"French, Czech\", \"French, English\", \"French, English, Spanish\", \"French, Flemish, English, Italian, Turkish, Arabic, Russian, Bulgarian, Mandarin, Polish\", \"French, German, Italian, Portuguese, Spanish, Japanese\", \"French, Italian\", \"French, Korean\", \"Gallegan, Spanish\", \"German\", \"German, Chinese, Japanese, Spanish, Korean, English\", \"German, English\", \"German, English, Finnish\", \"German, English, Spanish, French, Russian\", \"German, English, Yiddish, Arabic, Polish, Russian\", \"German, French, Norwegian\", \"German, Japanese, English\", \"German, Spanish, French, English\", \"Hausa, English\", \"Hebrew\", \"Hebrew, Arabic\", \"Hebrew, French, English\", \"Hebrew, Yiddish\", \"Hindi\", \"Hindi, Bengali\", \"Hindi, English\", \"Hindi, Japanese\", \"Hindi, Korean, Chinese, Cantonese\", \"Hokkien, Mandarin\", \"Hungarian\", \"Hungarian, Hebrew, Italian\", \"Icelandic\", \"Icelandic, English, Danish\", \"Indonesian\", \"Indonesian, English\", \"Indonesian, English, German\", \"Irish, English, Tlingit\", \"Italian\", \"Italian, English\", \"Italian, Latin, Occitan, English\", \"Italian, Neapolitan\", \"Italian, Yiddish, English, Romanian, Irish\", \"Japanese\", \"Japanese, Dutch, French, English, Cantonese\", \"Japanese, English\", \"Japanese, English, French\", \"Japanese, English, Spanish, Russian\", \"Japanese, French, English\", \"Japanese, Indonesian\", \"Japanese, Korean\", \"Japanese, Latin\", \"Japanese, Spanish\", \"Korean\", \"Korean, English\", \"Korean, English, Japanese, Hungarian, Mandarin\", \"Korean, English, Spanish\", \"Korean, Japanese\", \"Korean, Japanese, English\", \"Korean, Spanish, English\", \"Latin, Spanish, English\", \"Luxembourgish\", \"Malay\", \"Malayalam\", \"Mandarin\", \"Mandarin, Chaozhou\", \"Mandarin, English\", \"Mandarin, Hakka\", \"Mandarin, Japanese, English\", \"Mandarin, Min Nan\", \"Mandarin, Min Nan, English\", \"Mandarin, Russian, English\", \"Min Nan\", \"Min Nan, Mandarin\", \"Min Nan, Mandarin, Japanese\", \"None\", \"None, English\", \"Norwegian\", \"Norwegian, English\", \"Norwegian, English, Dari\", \"Norwegian, English, Portuguese, Lithuanian, Nepali, Arabic\", \"Norwegian, English, Russian\", \"Norwegian, English, Swedish, German\", \"Persian\", \"Polish\", \"Polish, English, Spanish\", \"Polish, English, Vietnamese, Russian, Chinese\", \"Polish, English, Yiddish, Russian\", \"Portuguese\", \"Portuguese, Brazilian Sign Language\", \"Portuguese, English, Spanish\", \"Portuguese, Japanese\", \"Quechua, Spanish\", \"Romanian\", \"Romanian, English, French, Spanish\", \"Romanian, German\", \"Russian\", \"Russian, English, French, Zulu, Afrikaans, Swahili, Xhosa, Southern Sotho\", \"Russian, English, Japanese\", \"Serbian\", \"Serbo-Croatian\", \"Slovak\", \"Spanish\", \"Spanish, Arabic, Russian, English\", \"Spanish, Bable\", \"Spanish, English\", \"Spanish, English, French\", \"Spanish, English, French, Italian, Portuguese\", \"Spanish, English, Japanese\", \"Spanish, English, Korean\", \"Spanish, English, Portuguese\", \"Spanish, French, Chinese, Japanese, English\", \"Spanish, French, English\", \"Spanish, German\", \"Spanish, Hebrew\", \"Spanish, Italian\", \"Spanish, Japanese\", \"Spanish, Russian, Serbian, English\", \"Swedish\", \"Swedish, Danish\", \"Swedish, English\", \"Swedish, English, Danish\", \"Swedish, English, Italian, French\", \"Swedish, English, Russian\", \"Swedish, Finnish\", \"Swedish, French, English, Saami\", \"Swedish, Spanish\", \"Tagalog, Filipino\", \"Tagalog, Spanish, Italian, German, French, Japanese, English\", \"Tamil\", \"Telugu\", \"Thai\", \"Thai, English\", \"Turkish\", \"Turkish, Arabic, English, Swedish\", \"Turkish, English, German\", \"Turkish, English, Latin, Arabic, Greek, Italian\", \"Turkish, Flemish\", \"Turkish, Italian\", \"Urdu\", \"Urdu, English, Arabic\", \"Urdu, Hindi, Spanish, French, Korean, English\", \"Welsh, English\", \"Zulu\", \"Zulu, English, Southern Sotho, Tswana\"], \"labels\": [\"Arabic\", \"Arabic, French\", \"Arabic, French, English\", \"Arabic, Hebrew, Persian, English\", \"Arabic, Persian, English\", \"Assamese\", \"Bengali\", \"Bulgarian\", \"Cantonese\", \"Cantonese, English, Hokkien, Mandarin\", \"Cantonese, Mandarin, English\", \"Catalan\", \"Catalan, Spanish\", \"Chinese\", \"Chinese, Hokkien\", \"Croatian\", \"Danish\", \"Danish, English, Swedish\", \"Danish, German\", \"Danish, German, English, Czech\", \"Danish, Swedish\", \"Dutch\", \"Dutch, English\", \"Dutch, Flemish\", \"Dutch, German, English, French\", \"East-Greenlandic, English\", \"English\", \"English, Aboriginal\", \"English, Arabic\", \"English, Arabic, French, German, Italian, Mandarin, Spanish\", \"English, Arabic, German, Italian, Japanese, Spanish\", \"English, Arabic, Hebrew, Latin\", \"English, Arabic, Spanish\", \"English, Arabic, Spanish, Japanese, Berber languages, French, Russian, Japanese Sign Language\", \"English, British Sign Language, Welsh\", \"English, Bulgarian, Spanish, Russian, Mandarin, German, French\", \"English, Cantonese\", \"English, Cantonese, Mandarin, Mongolian, Persian, Italian, Uighur, Arabic\", \"English, Cornish\", \"English, Cree, Portuguese\", \"English, Dutch, Italian, French\", \"English, Dutch, Romanian\", \"English, Esperanto\", \"English, Filipino\", \"English, Finnish\", \"English, Flemish, French\", \"English, French\", \"English, French, Flemish, German, Danish, Swedish\", \"English, French, German\", \"English, French, German, Chechen, Japanese, Czech\", \"English, French, German, Italian\", \"English, French, German, Spanish\", \"English, French, Greek\", \"English, French, Korean\", \"English, French, Latin\", \"English, French, Mandarin\", \"English, French, Spanish\", \"English, German\", \"English, German, French\", \"English, German, French, Italian, Turkish\", \"English, German, French, Polish, Hungarian, Czech\", \"English, German, Italian, French, Spanish\", \"English, German, Korean, Spanish, American Sign Language, French, Russian, Hebrew\", \"English, German, Spanish, Latin\", \"English, Greek\", \"English, Greek, Arabic, Russian, Chinese, Spanish, Japanese\", \"English, Hebrew\", \"English, Hebrew, German, Ukrainian\", \"English, Hindi\", \"English, Hindi, French\", \"English, Hindi, Italian, Russian, Mandarin, Klingon\", \"English, Hungarian\", \"English, Icelandic, Afrikaans, Norwegian\", \"English, Irish\", \"English, Italian\", \"English, Italian, Hebrew\", \"English, Italian, Spanish\", \"English, Japanese\", \"English, Japanese, Mongolian\", \"English, Japanese, Spanish\", \"English, Japanese, Ukrainian\", \"English, Klingon\", \"English, Klingon, French\", \"English, Korean\", \"English, Korean, Chinese\", \"English, Korean, French\", \"English, Korean, French, Japanese, Czech, German\", \"English, Latin\", \"English, Latin, Hebrew\", \"English, Malay\", \"English, Mandarin\", \"English, Mandarin, French, Cantonese, Spanish\", \"English, Mandarin, Japanese, Russian, Korean\", \"English, Maori\", \"English, None\", \"English, Persian, Chinese\", \"English, Polish\", \"English, Polish, German, French\", \"English, Polish, Indonesian, Turkish\", \"English, Portuguese\", \"English, Portuguese, Spanish\", \"English, Pushto, Mandarin\", \"English, Russian\", \"English, Russian, Arabic\", \"English, Russian, German, Korean, Arabic, Spanish, Serbian, Mandarin\", \"English, Russian, Italian, French\", \"English, Sanskrit\", \"English, Scottish Gaelic\", \"English, Serbo-Croatian, Spanish, Czech\", \"English, Spanish\", \"English, Spanish, American Sign Language\", \"English, Spanish, Arabic\", \"English, Spanish, Arabic, Chinese, Korean, Chechen, Slovak\", \"English, Spanish, Arabic, German\", \"English, Spanish, Catalan, French, Italian, Portuguese\", \"English, Spanish, Central American Indian languages\", \"English, Spanish, Chinese\", \"English, Spanish, French\", \"English, Spanish, French, German, Mandarin\", \"English, Spanish, French, German, Portuguese\", \"English, Spanish, German\", \"English, Spanish, German, French, Mandarin, Korean\", \"English, Spanish, Hebrew, Arabic\", \"English, Spanish, Irish, Korean\", \"English, Spanish, Italian\", \"English, Spanish, Korean, Japanese, German, Portuguese\", \"English, Spanish, Polish\", \"English, Spanish, Russian, Khmer\", \"English, Spanish, Vietnamese\", \"English, Swedish\", \"English, Swedish, Russian\", \"English, Swiss German\", \"English, Tagalog\", \"English, Thai, German\", \"English, Thai, Spanish, Hebrew, French\", \"English, Welsh\", \"English, Zulu\", \"English, Zulu, Southern Sotho\", \"Filipino\", \"Filipino, Tagalog\", \"Finnish\", \"Finnish, German, English\", \"Flemish\", \"French\", \"French, Arabic, English\", \"French, Arabic, Greek,  Ancient (to 1453), Russian, English, Old English, Norse,  Old, Latin\", \"French, Czech\", \"French, English\", \"French, English, Spanish\", \"French, Flemish, English, Italian, Turkish, Arabic, Russian, Bulgarian, Mandarin, Polish\", \"French, German, Italian, Portuguese, Spanish, Japanese\", \"French, Italian\", \"French, Korean\", \"Gallegan, Spanish\", \"German\", \"German, Chinese, Japanese, Spanish, Korean, English\", \"German, English\", \"German, English, Finnish\", \"German, English, Spanish, French, Russian\", \"German, English, Yiddish, Arabic, Polish, Russian\", \"German, French, Norwegian\", \"German, Japanese, English\", \"German, Spanish, French, English\", \"Hausa, English\", \"Hebrew\", \"Hebrew, Arabic\", \"Hebrew, French, English\", \"Hebrew, Yiddish\", \"Hindi\", \"Hindi, Bengali\", \"Hindi, English\", \"Hindi, Japanese\", \"Hindi, Korean, Chinese, Cantonese\", \"Hokkien, Mandarin\", \"Hungarian\", \"Hungarian, Hebrew, Italian\", \"Icelandic\", \"Icelandic, English, Danish\", \"Indonesian\", \"Indonesian, English\", \"Indonesian, English, German\", \"Irish, English, Tlingit\", \"Italian\", \"Italian, English\", \"Italian, Latin, Occitan, English\", \"Italian, Neapolitan\", \"Italian, Yiddish, English, Romanian, Irish\", \"Japanese\", \"Japanese, Dutch, French, English, Cantonese\", \"Japanese, English\", \"Japanese, English, French\", \"Japanese, English, Spanish, Russian\", \"Japanese, French, English\", \"Japanese, Indonesian\", \"Japanese, Korean\", \"Japanese, Latin\", \"Japanese, Spanish\", \"Korean\", \"Korean, English\", \"Korean, English, Japanese, Hungarian, Mandarin\", \"Korean, English, Spanish\", \"Korean, Japanese\", \"Korean, Japanese, English\", \"Korean, Spanish, English\", \"Latin, Spanish, English\", \"Luxembourgish\", \"Malay\", \"Malayalam\", \"Mandarin\", \"Mandarin, Chaozhou\", \"Mandarin, English\", \"Mandarin, Hakka\", \"Mandarin, Japanese, English\", \"Mandarin, Min Nan\", \"Mandarin, Min Nan, English\", \"Mandarin, Russian, English\", \"Min Nan\", \"Min Nan, Mandarin\", \"Min Nan, Mandarin, Japanese\", \"None\", \"None, English\", \"Norwegian\", \"Norwegian, English\", \"Norwegian, English, Dari\", \"Norwegian, English, Portuguese, Lithuanian, Nepali, Arabic\", \"Norwegian, English, Russian\", \"Norwegian, English, Swedish, German\", \"Persian\", \"Polish\", \"Polish, English, Spanish\", \"Polish, English, Vietnamese, Russian, Chinese\", \"Polish, English, Yiddish, Russian\", \"Portuguese\", \"Portuguese, Brazilian Sign Language\", \"Portuguese, English, Spanish\", \"Portuguese, Japanese\", \"Quechua, Spanish\", \"Romanian\", \"Romanian, English, French, Spanish\", \"Romanian, German\", \"Russian\", \"Russian, English, French, Zulu, Afrikaans, Swahili, Xhosa, Southern Sotho\", \"Russian, English, Japanese\", \"Serbian\", \"Serbo-Croatian\", \"Slovak\", \"Spanish\", \"Spanish, Arabic, Russian, English\", \"Spanish, Bable\", \"Spanish, English\", \"Spanish, English, French\", \"Spanish, English, French, Italian, Portuguese\", \"Spanish, English, Japanese\", \"Spanish, English, Korean\", \"Spanish, English, Portuguese\", \"Spanish, French, Chinese, Japanese, English\", \"Spanish, French, English\", \"Spanish, German\", \"Spanish, Hebrew\", \"Spanish, Italian\", \"Spanish, Japanese\", \"Spanish, Russian, Serbian, English\", \"Swedish\", \"Swedish, Danish\", \"Swedish, English\", \"Swedish, English, Danish\", \"Swedish, English, Italian, French\", \"Swedish, English, Russian\", \"Swedish, Finnish\", \"Swedish, French, English, Saami\", \"Swedish, Spanish\", \"Tagalog, Filipino\", \"Tagalog, Spanish, Italian, German, French, Japanese, English\", \"Tamil\", \"Telugu\", \"Thai\", \"Thai, English\", \"Turkish\", \"Turkish, Arabic, English, Swedish\", \"Turkish, English, German\", \"Turkish, English, Latin, Arabic, Greek, Italian\", \"Turkish, Flemish\", \"Turkish, Italian\", \"Urdu\", \"Urdu, English, Arabic\", \"Urdu, Hindi, Spanish, French, Korean, English\", \"Welsh, English\", \"Zulu\", \"Zulu, English, Southern Sotho, Tswana\"], \"name\": \"\", \"parents\": [\"\", \"\", \"\", \"\", \"\", \"\", \"\", \"\", \"\", \"\", \"\", \"\", \"\", \"\", \"\", \"\", \"\", \"\", \"\", \"\", \"\", \"\", \"\", \"\", \"\", \"\", \"\", \"\", \"\", \"\", \"\", \"\", \"\", \"\", \"\", \"\", \"\", \"\", \"\", \"\", \"\", \"\", \"\", \"\", \"\", \"\", \"\", \"\", \"\", \"\", \"\", \"\", \"\", \"\", \"\", \"\", \"\", \"\", \"\", \"\", \"\", \"\", \"\", \"\", \"\", \"\", \"\", \"\", \"\", \"\", \"\", \"\", \"\", \"\", \"\", \"\", \"\", \"\", \"\", \"\", \"\", \"\", \"\", \"\", \"\", \"\", \"\", \"\", \"\", \"\", \"\", \"\", \"\", \"\", \"\", \"\", \"\", \"\", \"\", \"\", \"\", \"\", \"\", \"\", \"\", \"\", \"\", \"\", \"\", \"\", \"\", \"\", \"\", \"\", \"\", \"\", \"\", \"\", \"\", \"\", \"\", \"\", \"\", \"\", \"\", \"\", \"\", \"\", \"\", \"\", \"\", \"\", \"\", \"\", \"\", \"\", \"\", \"\", \"\", \"\", \"\", \"\", \"\", \"\", \"\", \"\", \"\", \"\", \"\", \"\", \"\", \"\", \"\", \"\", \"\", \"\", \"\", \"\", \"\", \"\", \"\", \"\", \"\", \"\", \"\", \"\", \"\", \"\", \"\", \"\", \"\", \"\", \"\", \"\", \"\", \"\", \"\", \"\", \"\", \"\", \"\", \"\", \"\", \"\", \"\", \"\", \"\", \"\", \"\", \"\", \"\", \"\", \"\", \"\", \"\", \"\", \"\", \"\", \"\", \"\", \"\", \"\", \"\", \"\", \"\", \"\", \"\", \"\", \"\", \"\", \"\", \"\", \"\", \"\", \"\", \"\", \"\", \"\", \"\", \"\", \"\", \"\", \"\", \"\", \"\", \"\", \"\", \"\", \"\", \"\", \"\", \"\", \"\", \"\", \"\", \"\", \"\", \"\", \"\", \"\", \"\", \"\", \"\", \"\", \"\", \"\", \"\", \"\", \"\", \"\", \"\", \"\", \"\", \"\", \"\", \"\", \"\", \"\", \"\", \"\", \"\", \"\", \"\", \"\", \"\", \"\", \"\", \"\", \"\", \"\", \"\", \"\", \"\", \"\", \"\", \"\", \"\", \"\", \"\", \"\", \"\", \"\", \"\", \"\", \"\", \"\", \"\", \"\", \"\"], \"type\": \"treemap\", \"values\": [13, 1, 1, 1, 1, 1, 1, 1, 3, 1, 1, 4, 1, 36, 2, 1, 11, 1, 2, 1, 1, 14, 2, 1, 1, 1, 1334, 2, 3, 1, 1, 1, 1, 1, 1, 1, 2, 1, 1, 1, 1, 1, 1, 1, 1, 1, 20, 1, 1, 1, 1, 1, 1, 2, 1, 1, 4, 5, 3, 1, 1, 1, 1, 1, 1, 1, 2, 1, 1, 1, 1, 1, 1, 1, 7, 1, 1, 22, 1, 2, 1, 3, 1, 1, 1, 1, 1, 1, 1, 1, 1, 1, 1, 1, 1, 1, 1, 1, 1, 4, 1, 1, 3, 1, 1, 1, 4, 1, 1, 21, 1, 1, 1, 1, 1, 1, 1, 2, 1, 1, 1, 1, 2, 1, 1, 9, 1, 1, 1, 1, 1, 1, 1, 1, 1, 2, 1, 1, 3, 2, 2, 1, 1, 56, 1, 1, 1, 14, 1, 1, 1, 3, 1, 1, 67, 1, 7, 1, 1, 1, 1, 1, 1, 1, 4, 1, 1, 1, 35, 1, 2, 1, 1, 1, 1, 1, 2, 1, 2, 1, 1, 1, 14, 2, 1, 1, 1, 445, 1, 78, 1, 1, 1, 1, 1, 1, 1, 245, 7, 1, 1, 1, 1, 1, 1, 1, 4, 1, 65, 1, 4, 1, 1, 11, 1, 1, 1, 1, 1, 5, 2, 9, 3, 1, 1, 1, 1, 2, 16, 1, 1, 1, 35, 1, 1, 1, 1, 1, 1, 1, 7, 1, 1, 1, 1, 1, 115, 1, 1, 10, 1, 1, 1, 1, 1, 1, 1, 1, 1, 2, 1, 1, 20, 1, 4, 1, 1, 1, 2, 1, 1, 2, 1, 2, 3, 33, 1, 19, 1, 1, 1, 1, 1, 3, 1, 1, 2, 1, 1]}],                        {\"legend\": {\"tracegroupgap\": 0}, \"margin\": {\"t\": 60}, \"template\": {\"data\": {\"bar\": [{\"error_x\": {\"color\": \"#2a3f5f\"}, \"error_y\": {\"color\": \"#2a3f5f\"}, \"marker\": {\"line\": {\"color\": \"#E5ECF6\", \"width\": 0.5}}, \"type\": \"bar\"}], \"barpolar\": [{\"marker\": {\"line\": {\"color\": \"#E5ECF6\", \"width\": 0.5}}, \"type\": \"barpolar\"}], \"carpet\": [{\"aaxis\": {\"endlinecolor\": \"#2a3f5f\", \"gridcolor\": \"white\", \"linecolor\": \"white\", \"minorgridcolor\": \"white\", \"startlinecolor\": \"#2a3f5f\"}, \"baxis\": {\"endlinecolor\": \"#2a3f5f\", \"gridcolor\": \"white\", \"linecolor\": \"white\", \"minorgridcolor\": \"white\", \"startlinecolor\": \"#2a3f5f\"}, \"type\": \"carpet\"}], \"choropleth\": [{\"colorbar\": {\"outlinewidth\": 0, \"ticks\": \"\"}, \"type\": \"choropleth\"}], \"contour\": [{\"colorbar\": {\"outlinewidth\": 0, \"ticks\": \"\"}, \"colorscale\": [[0.0, \"#0d0887\"], [0.1111111111111111, \"#46039f\"], [0.2222222222222222, \"#7201a8\"], [0.3333333333333333, \"#9c179e\"], [0.4444444444444444, \"#bd3786\"], [0.5555555555555556, \"#d8576b\"], [0.6666666666666666, \"#ed7953\"], [0.7777777777777778, \"#fb9f3a\"], [0.8888888888888888, \"#fdca26\"], [1.0, \"#f0f921\"]], \"type\": \"contour\"}], \"contourcarpet\": [{\"colorbar\": {\"outlinewidth\": 0, \"ticks\": \"\"}, \"type\": \"contourcarpet\"}], \"heatmap\": [{\"colorbar\": {\"outlinewidth\": 0, \"ticks\": \"\"}, \"colorscale\": [[0.0, \"#0d0887\"], [0.1111111111111111, \"#46039f\"], [0.2222222222222222, \"#7201a8\"], [0.3333333333333333, \"#9c179e\"], [0.4444444444444444, \"#bd3786\"], [0.5555555555555556, \"#d8576b\"], [0.6666666666666666, \"#ed7953\"], [0.7777777777777778, \"#fb9f3a\"], [0.8888888888888888, \"#fdca26\"], [1.0, \"#f0f921\"]], \"type\": \"heatmap\"}], \"heatmapgl\": [{\"colorbar\": {\"outlinewidth\": 0, \"ticks\": \"\"}, \"colorscale\": [[0.0, \"#0d0887\"], [0.1111111111111111, \"#46039f\"], [0.2222222222222222, \"#7201a8\"], [0.3333333333333333, \"#9c179e\"], [0.4444444444444444, \"#bd3786\"], [0.5555555555555556, \"#d8576b\"], [0.6666666666666666, \"#ed7953\"], [0.7777777777777778, \"#fb9f3a\"], [0.8888888888888888, \"#fdca26\"], [1.0, \"#f0f921\"]], \"type\": \"heatmapgl\"}], \"histogram\": [{\"marker\": {\"colorbar\": {\"outlinewidth\": 0, \"ticks\": \"\"}}, \"type\": \"histogram\"}], \"histogram2d\": [{\"colorbar\": {\"outlinewidth\": 0, \"ticks\": \"\"}, \"colorscale\": [[0.0, \"#0d0887\"], [0.1111111111111111, \"#46039f\"], [0.2222222222222222, \"#7201a8\"], [0.3333333333333333, \"#9c179e\"], [0.4444444444444444, \"#bd3786\"], [0.5555555555555556, \"#d8576b\"], [0.6666666666666666, \"#ed7953\"], [0.7777777777777778, \"#fb9f3a\"], [0.8888888888888888, \"#fdca26\"], [1.0, \"#f0f921\"]], \"type\": \"histogram2d\"}], \"histogram2dcontour\": [{\"colorbar\": {\"outlinewidth\": 0, \"ticks\": \"\"}, \"colorscale\": [[0.0, \"#0d0887\"], [0.1111111111111111, \"#46039f\"], [0.2222222222222222, \"#7201a8\"], [0.3333333333333333, \"#9c179e\"], [0.4444444444444444, \"#bd3786\"], [0.5555555555555556, \"#d8576b\"], [0.6666666666666666, \"#ed7953\"], [0.7777777777777778, \"#fb9f3a\"], [0.8888888888888888, \"#fdca26\"], [1.0, \"#f0f921\"]], \"type\": \"histogram2dcontour\"}], \"mesh3d\": [{\"colorbar\": {\"outlinewidth\": 0, \"ticks\": \"\"}, \"type\": \"mesh3d\"}], \"parcoords\": [{\"line\": {\"colorbar\": {\"outlinewidth\": 0, \"ticks\": \"\"}}, \"type\": \"parcoords\"}], \"pie\": [{\"automargin\": true, \"type\": \"pie\"}], \"scatter\": [{\"marker\": {\"colorbar\": {\"outlinewidth\": 0, \"ticks\": \"\"}}, \"type\": \"scatter\"}], \"scatter3d\": [{\"line\": {\"colorbar\": {\"outlinewidth\": 0, \"ticks\": \"\"}}, \"marker\": {\"colorbar\": {\"outlinewidth\": 0, \"ticks\": \"\"}}, \"type\": \"scatter3d\"}], \"scattercarpet\": [{\"marker\": {\"colorbar\": {\"outlinewidth\": 0, \"ticks\": \"\"}}, \"type\": \"scattercarpet\"}], \"scattergeo\": [{\"marker\": {\"colorbar\": {\"outlinewidth\": 0, \"ticks\": \"\"}}, \"type\": \"scattergeo\"}], \"scattergl\": [{\"marker\": {\"colorbar\": {\"outlinewidth\": 0, \"ticks\": \"\"}}, \"type\": \"scattergl\"}], \"scattermapbox\": [{\"marker\": {\"colorbar\": {\"outlinewidth\": 0, \"ticks\": \"\"}}, \"type\": \"scattermapbox\"}], \"scatterpolar\": [{\"marker\": {\"colorbar\": {\"outlinewidth\": 0, \"ticks\": \"\"}}, \"type\": \"scatterpolar\"}], \"scatterpolargl\": [{\"marker\": {\"colorbar\": {\"outlinewidth\": 0, \"ticks\": \"\"}}, \"type\": \"scatterpolargl\"}], \"scatterternary\": [{\"marker\": {\"colorbar\": {\"outlinewidth\": 0, \"ticks\": \"\"}}, \"type\": \"scatterternary\"}], \"surface\": [{\"colorbar\": {\"outlinewidth\": 0, \"ticks\": \"\"}, \"colorscale\": [[0.0, \"#0d0887\"], [0.1111111111111111, \"#46039f\"], [0.2222222222222222, \"#7201a8\"], [0.3333333333333333, \"#9c179e\"], [0.4444444444444444, \"#bd3786\"], [0.5555555555555556, \"#d8576b\"], [0.6666666666666666, \"#ed7953\"], [0.7777777777777778, \"#fb9f3a\"], [0.8888888888888888, \"#fdca26\"], [1.0, \"#f0f921\"]], \"type\": \"surface\"}], \"table\": [{\"cells\": {\"fill\": {\"color\": \"#EBF0F8\"}, \"line\": {\"color\": \"white\"}}, \"header\": {\"fill\": {\"color\": \"#C8D4E3\"}, \"line\": {\"color\": \"white\"}}, \"type\": \"table\"}]}, \"layout\": {\"annotationdefaults\": {\"arrowcolor\": \"#2a3f5f\", \"arrowhead\": 0, \"arrowwidth\": 1}, \"autotypenumbers\": \"strict\", \"coloraxis\": {\"colorbar\": {\"outlinewidth\": 0, \"ticks\": \"\"}}, \"colorscale\": {\"diverging\": [[0, \"#8e0152\"], [0.1, \"#c51b7d\"], [0.2, \"#de77ae\"], [0.3, \"#f1b6da\"], [0.4, \"#fde0ef\"], [0.5, \"#f7f7f7\"], [0.6, \"#e6f5d0\"], [0.7, \"#b8e186\"], [0.8, \"#7fbc41\"], [0.9, \"#4d9221\"], [1, \"#276419\"]], \"sequential\": [[0.0, \"#0d0887\"], [0.1111111111111111, \"#46039f\"], [0.2222222222222222, \"#7201a8\"], [0.3333333333333333, \"#9c179e\"], [0.4444444444444444, \"#bd3786\"], [0.5555555555555556, \"#d8576b\"], [0.6666666666666666, \"#ed7953\"], [0.7777777777777778, \"#fb9f3a\"], [0.8888888888888888, \"#fdca26\"], [1.0, \"#f0f921\"]], \"sequentialminus\": [[0.0, \"#0d0887\"], [0.1111111111111111, \"#46039f\"], [0.2222222222222222, \"#7201a8\"], [0.3333333333333333, \"#9c179e\"], [0.4444444444444444, \"#bd3786\"], [0.5555555555555556, \"#d8576b\"], [0.6666666666666666, \"#ed7953\"], [0.7777777777777778, \"#fb9f3a\"], [0.8888888888888888, \"#fdca26\"], [1.0, \"#f0f921\"]]}, \"colorway\": [\"#636efa\", \"#EF553B\", \"#00cc96\", \"#ab63fa\", \"#FFA15A\", \"#19d3f3\", \"#FF6692\", \"#B6E880\", \"#FF97FF\", \"#FECB52\"], \"font\": {\"color\": \"#2a3f5f\"}, \"geo\": {\"bgcolor\": \"white\", \"lakecolor\": \"white\", \"landcolor\": \"#E5ECF6\", \"showlakes\": true, \"showland\": true, \"subunitcolor\": \"white\"}, \"hoverlabel\": {\"align\": \"left\"}, \"hovermode\": \"closest\", \"mapbox\": {\"style\": \"light\"}, \"paper_bgcolor\": \"white\", \"plot_bgcolor\": \"#E5ECF6\", \"polar\": {\"angularaxis\": {\"gridcolor\": \"white\", \"linecolor\": \"white\", \"ticks\": \"\"}, \"bgcolor\": \"#E5ECF6\", \"radialaxis\": {\"gridcolor\": \"white\", \"linecolor\": \"white\", \"ticks\": \"\"}}, \"scene\": {\"xaxis\": {\"backgroundcolor\": \"#E5ECF6\", \"gridcolor\": \"white\", \"gridwidth\": 2, \"linecolor\": \"white\", \"showbackground\": true, \"ticks\": \"\", \"zerolinecolor\": \"white\"}, \"yaxis\": {\"backgroundcolor\": \"#E5ECF6\", \"gridcolor\": \"white\", \"gridwidth\": 2, \"linecolor\": \"white\", \"showbackground\": true, \"ticks\": \"\", \"zerolinecolor\": \"white\"}, \"zaxis\": {\"backgroundcolor\": \"#E5ECF6\", \"gridcolor\": \"white\", \"gridwidth\": 2, \"linecolor\": \"white\", \"showbackground\": true, \"ticks\": \"\", \"zerolinecolor\": \"white\"}}, \"shapedefaults\": {\"line\": {\"color\": \"#2a3f5f\"}}, \"ternary\": {\"aaxis\": {\"gridcolor\": \"white\", \"linecolor\": \"white\", \"ticks\": \"\"}, \"baxis\": {\"gridcolor\": \"white\", \"linecolor\": \"white\", \"ticks\": \"\"}, \"bgcolor\": \"#E5ECF6\", \"caxis\": {\"gridcolor\": \"white\", \"linecolor\": \"white\", \"ticks\": \"\"}}, \"title\": {\"x\": 0.05}, \"xaxis\": {\"automargin\": true, \"gridcolor\": \"white\", \"linecolor\": \"white\", \"ticks\": \"\", \"title\": {\"standoff\": 15}, \"zerolinecolor\": \"white\", \"zerolinewidth\": 2}, \"yaxis\": {\"automargin\": true, \"gridcolor\": \"white\", \"linecolor\": \"white\", \"ticks\": \"\", \"title\": {\"standoff\": 15}, \"zerolinecolor\": \"white\", \"zerolinewidth\": 2}}}},                        {\"responsive\": true}                    ).then(function(){\n",
       "                            \n",
       "var gd = document.getElementById('7cb1a331-0a26-4142-a0c7-eae4a7a6d432');\n",
       "var x = new MutationObserver(function (mutations, observer) {{\n",
       "        var display = window.getComputedStyle(gd).display;\n",
       "        if (!display || display === 'none') {{\n",
       "            console.log([gd, 'removed!']);\n",
       "            Plotly.purge(gd);\n",
       "            observer.disconnect();\n",
       "        }}\n",
       "}});\n",
       "\n",
       "// Listen for the removal of the full notebook cells\n",
       "var notebookContainer = gd.closest('#notebook-container');\n",
       "if (notebookContainer) {{\n",
       "    x.observe(notebookContainer, {childList: true});\n",
       "}}\n",
       "\n",
       "// Listen for the clearing of the current output cell\n",
       "var outputEl = gd.closest('.output');\n",
       "if (outputEl) {{\n",
       "    x.observe(outputEl, {childList: true});\n",
       "}}\n",
       "\n",
       "                        })                };                });            </script>        </div>"
      ]
     },
     "metadata": {},
     "output_type": "display_data"
    }
   ],
   "source": [
    "ax= px.treemap(df_series_lan,path=[\"Languages\"])\n",
    "ax.show()"
   ]
  },
  {
   "cell_type": "markdown",
   "id": "grave-marble",
   "metadata": {
    "papermill": {
     "duration": 0.086515,
     "end_time": "2021-06-05T06:17:32.771896",
     "exception": false,
     "start_time": "2021-06-05T06:17:32.685381",
     "status": "completed"
    },
    "tags": []
   },
   "source": [
    "**While in the Movie 📽‍️ universe...**"
   ]
  },
  {
   "cell_type": "markdown",
   "id": "minimal-stylus",
   "metadata": {
    "papermill": {
     "duration": 0.088262,
     "end_time": "2021-06-05T06:17:32.948238",
     "exception": false,
     "start_time": "2021-06-05T06:17:32.859976",
     "status": "completed"
    },
    "tags": []
   },
   "source": [
    "> Code: \n",
    "> - First of all I create a new series dataframe **dropping the missing values contained in the \"Languages\" column**."
   ]
  },
  {
   "cell_type": "code",
   "execution_count": 24,
   "id": "enormous-dayton",
   "metadata": {
    "execution": {
     "iopub.execute_input": "2021-06-05T06:17:33.136815Z",
     "iopub.status.busy": "2021-06-05T06:17:33.135779Z",
     "iopub.status.idle": "2021-06-05T06:17:33.142219Z",
     "shell.execute_reply": "2021-06-05T06:17:33.142718Z",
     "shell.execute_reply.started": "2021-06-05T05:35:38.577432Z"
    },
    "papermill": {
     "duration": 0.104486,
     "end_time": "2021-06-05T06:17:33.142883",
     "exception": false,
     "start_time": "2021-06-05T06:17:33.038397",
     "status": "completed"
    },
    "tags": []
   },
   "outputs": [],
   "source": [
    "df_movie_lan = df_movie.dropna(subset=['Languages'])"
   ]
  },
  {
   "cell_type": "markdown",
   "id": "metropolitan-topic",
   "metadata": {
    "papermill": {
     "duration": 0.088356,
     "end_time": "2021-06-05T06:17:33.320770",
     "exception": false,
     "start_time": "2021-06-05T06:17:33.232414",
     "status": "completed"
    },
    "tags": []
   },
   "source": [
    "> - Secondly **I create a list** that contains the **top 10 languages** that are spoken in the Tv Series.\n",
    "\n"
   ]
  },
  {
   "cell_type": "code",
   "execution_count": 25,
   "id": "crude-laptop",
   "metadata": {
    "execution": {
     "iopub.execute_input": "2021-06-05T06:17:33.511900Z",
     "iopub.status.busy": "2021-06-05T06:17:33.506426Z",
     "iopub.status.idle": "2021-06-05T06:17:33.727988Z",
     "shell.execute_reply": "2021-06-05T06:17:33.728397Z",
     "shell.execute_reply.started": "2021-06-05T05:35:38.590454Z"
    },
    "papermill": {
     "duration": 0.318829,
     "end_time": "2021-06-05T06:17:33.728573",
     "exception": false,
     "start_time": "2021-06-05T06:17:33.409744",
     "status": "completed"
    },
    "tags": []
   },
   "outputs": [
    {
     "data": {
      "text/html": [
       "<div>                            <div id=\"cb267e64-1e20-408b-bd5c-86400fad2c69\" class=\"plotly-graph-div\" style=\"height:525px; width:100%;\"></div>            <script type=\"text/javascript\">                require([\"plotly\"], function(Plotly) {                    window.PLOTLYENV=window.PLOTLYENV || {};                                    if (document.getElementById(\"cb267e64-1e20-408b-bd5c-86400fad2c69\")) {                    Plotly.newPlot(                        \"cb267e64-1e20-408b-bd5c-86400fad2c69\",                        [{\"branchvalues\": \"total\", \"domain\": {\"x\": [0.0, 1.0], \"y\": [0.0, 1.0]}, \"hovertemplate\": \"labels=%{label}<br>count=%{value}<br>parent=%{parent}<br>id=%{id}<extra></extra>\", \"ids\": [\"Afrikaans\", \"Afrikaans, English\", \"Afrikaans, German, Swiss German\", \"Akan\", \"Akan, English\", \"Albanian, French\", \"American Sign Language, English\", \"American Sign Language, English, Spanish\", \"Amharic\", \"Arabic\", \"Arabic, English\", \"Arabic, English, Dutch\", \"Arabic, English, French\", \"Arabic, French\", \"Arabic, French, English\", \"Arabic, German, English\", \"Arabic, Hebrew\", \"Arabic, Italian\", \"Arabic, Nyanja, English\", \"Arabic, Swedish\", \"Aromanian\", \"Assamese\", \"Basque\", \"Basque, English, Spanish\", \"Basque, Spanish, Catalan\", \"Belarusian, Polish, Russian, Ukrainian\", \"Bengali\", \"Bengali, English\", \"Bengali, English, Mandarin\", \"Bengali, Hindi, English\", \"Bhojpuri, Punjabi, Hindi\", \"Brazilian Sign Language\", \"Cantonese\", \"Cantonese, Chinese, English\", \"Cantonese, English\", \"Cantonese, English, Filipino, Afrikaans\", \"Cantonese, English, French\", \"Cantonese, English, Hindi\", \"Cantonese, English, Hokkien, Mandarin\", \"Cantonese, English, Japanese\", \"Cantonese, English, Mandarin\", \"Cantonese, English, Mandarin, Dutch\", \"Cantonese, English, Mandarin, French\", \"Cantonese, English, Mandarin, Japanese\", \"Cantonese, English, Mandarin, Malay, Thai\", \"Cantonese, English, Mandarin, Thai\", \"Cantonese, English, Thai\", \"Cantonese, English, Vietnamese\", \"Cantonese, Japanese\", \"Cantonese, Japanese, English\", \"Cantonese, Japanese, Mandarin\", \"Cantonese, Mandarin\", \"Cantonese, Mandarin, English\", \"Cantonese, Mandarin, English, Korean, French, Turkish\", \"Cantonese, Mandarin, English, Portuguese\", \"Cantonese, Mandarin, English, Thai\", \"Cantonese, Mandarin, Japanese\", \"Cantonese, Mandarin, Korean\", \"Cantonese, Mandarin, Thai\", \"Cantonese, Min Nan, Mandarin, English\", \"Cantonese, Russian\", \"Cantonese, Shanghainese, Tagalog, English, Mandarin\", \"Catalan, English, Spanish\", \"Catalan, French, Spanish\", \"Catalan, Spanish\", \"Chinese\", \"Chinese, Cantonese\", \"Chinese, English\", \"Chinese, English, Japanese\", \"Chinese, Tagalog, Filipino\", \"Croatian\", \"Czech\", \"Czech, English, German, Russian\", \"Czech, English, Kinyarwanda\", \"Czech, English, Zulu\", \"Czech, French\", \"Czech, German\", \"Czech, German, English\", \"Czech, German, English, Slovak\", \"Czech, Hebrew\", \"Czech, Polish\", \"Czech, Russian\", \"Czech, Russian, German\", \"Czech, Russian, Slovak\", \"Czech, Slovak\", \"Czech, Slovak, English, French\", \"Czech, Slovak, Portuguese\", \"Czech, Vietnamese\", \"Danish\", \"Danish, Arabic\", \"Danish, English\", \"Danish, English, French\", \"Danish, English, German, French\", \"Danish, English, Italian\", \"Danish, English, Italian, Spanish\", \"Danish, English, Polish\", \"Danish, English, Serbian, German\", \"Danish, English, Tagalog\", \"Danish, English, Thai\", \"Danish, Faroese\", \"Danish, German\", \"Danish, Italian, English\", \"Danish, Norwegian\", \"Danish, Polish, Russian\", \"Danish, Serbian\", \"Danish, Swedish\", \"Danish, Swedish, Arabic\", \"Danish, Swedish, English, Spanish\", \"Danish, Swedish, Serbian\", \"Danish, Turkish, English, Chinese\", \"Dari, English, Pushto, Russian, Urdu\", \"Divehi\", \"Dutch\", \"Dutch, Arabic, French, Turkish, English\", \"Dutch, English\", \"Dutch, English, French\", \"Dutch, English, Hindi, French, German\", \"Dutch, English, Sranan\", \"Dutch, English, Swedish, Russian, German, French\", \"Dutch, Flemish, French, English, Spanish\", \"Dutch, French\", \"Dutch, German\", \"Dutch, Russian, German, Polish\", \"Dutch, Sranan\", \"Dutch, Yiddish, English\", \"English\", \"English, Aboriginal\", \"English, Aboriginal, French\", \"English, Aboriginal, French, Portuguese\", \"English, Afrikaans\", \"English, Afrikaans, French\", \"English, Afrikaans, Maori, Zulu, Xhosa, Southern Sotho\", \"English, Afrikaans, Zulu\", \"English, Akan\", \"English, Albanian, Spanish\", \"English, Algonquin, Inuktitut\", \"English, American Sign Language\", \"English, American Sign Language, Estonian\", \"English, American Sign Language, Indonesian\", \"English, American Sign Language, Latin\", \"English, American Sign Language, Portuguese\", \"English, American Sign Language, Russian\", \"English, American Sign Language, Russian, French\", \"English, Amharic\", \"English, Apache languages\", \"English, Arabic\", \"English, Arabic, Acholi\", \"English, Arabic, Albanian, Romanian\", \"English, Arabic, French\", \"English, Arabic, French, Italian\", \"English, Arabic, French, Spanish\", \"English, Arabic, French, Spanish, Dutch\", \"English, Arabic, German\", \"English, Arabic, Latin, Italian\", \"English, Arabic, Persian\", \"English, Arabic, Punjabi, Hindi\", \"English, Arabic, Pushto\", \"English, Arabic, Spanish\", \"English, Arabic, Spanish, Japanese, Berber languages, French, Russian, Japanese Sign Language\", \"English, Arabic, Swedish\", \"English, Arabic, Turkish\", \"English, Arabic, Turkish, French\", \"English, Arabic, Urdu, Pushto, French\", \"English, Aramaic\", \"English, Armenian\", \"English, Armenian, French\", \"English, Belarusian\", \"English, Bosnian, Serbian, German\", \"English, Bulgarian, Scots\", \"English, Bulgarian, Spanish, Russian, Mandarin, German, French\", \"English, Burmese, Thai\", \"English, Cantonese\", \"English, Cantonese, French, German, Hindi, Turkish\", \"English, Cantonese, Hindi\", \"English, Cantonese, Korean\", \"English, Cantonese, Mandarin\", \"English, Cantonese, Mandarin, Portuguese\", \"English, Cantonese, Russian, Hindi, Spanish\", \"English, Catalan, Spanish\", \"English, Cheyenne, French\", \"English, Chinese\", \"English, Chinese, Arabic\", \"English, Chinese, German\", \"English, Chinese, Italian\", \"English, Chinese, Japanese\", \"English, Chinese, Khmer\", \"English, Chinese, Malay\", \"English, Chinese, Russian\", \"English, Chinese, Spanish, French, Ukrainian\", \"English, Chinese, Teochew, Sinhalese\", \"English, Cornish\", \"English, Croatian, Chinese\", \"English, Czech\", \"English, Czech, Russian, Greek, Afrikaans\", \"English, Czech, Slovak\", \"English, Danish\", \"English, Danish, Italian\", \"English, Danish, Malay, Dutch, Indonesian, Finnish, Luxembourgish, French Sign Language\", \"English, Danish, Spanish\", \"English, Dari, Russian, Spanish, Uzbek\", \"English, Dari, Russian, Urdu, Hebrew, Arabic\", \"English, Dinka\", \"English, Dutch\", \"English, Dutch, French, Italian, Mandarin\", \"English, Dutch, Spanish\", \"English, East-Greenlandic\", \"English, Egyptian (Ancient)\", \"English, Egyptian (Ancient), Arabic, Chinese, Hebrew, Hungarian\", \"English, Esperanto\", \"English, Estonian\", \"English, Filipino\", \"English, Filipino, Tagalog\", \"English, Finnish\", \"English, Finnish, French, Vietnamese\", \"English, Finnish, Japanese, Hungarian, Russian, Somali, Spanish\", \"English, Flemish\", \"English, French\", \"English, French, Albanian, Arabic\", \"English, French, Albanian, Spanish, Hungarian\", \"English, French, Arabic\", \"English, French, Arabic, German\", \"English, French, Arabic, German, Dutch\", \"English, French, Arabic, Luxembourgish\", \"English, French, Arabic, Russian, Spanish\", \"English, French, Arabic, Turkish\", \"English, French, Arabic, Yoruba, Swahili, Chinese\", \"English, French, Chinese\", \"English, French, Czech\", \"English, French, German\", \"English, French, German, Arabic\", \"English, French, German, Czech\", \"English, French, German, Dutch, Italian, Yoruba\", \"English, French, German, Hebrew, Italian, Spanish\", \"English, French, German, Italian\", \"English, French, German, Italian, Arabic, Spanish\", \"English, French, German, Italian, Japanese\", \"English, French, German, Serbian\", \"English, French, German, Spanish, Yiddish\", \"English, French, German, Turkish, Italian, Swedish\", \"English, French, Greek\", \"English, French, Hungarian\", \"English, French, Italian\", \"English, French, Italian, German, Hungarian\", \"English, French, Italian, German, Romany\", \"English, French, Italian, Russian, Spanish\", \"English, French, Italian, Turkish\", \"English, French, Japanese\", \"English, French, Japanese, Mandarin, Latin\", \"English, French, Japanese, Russian, Spanish\", \"English, French, Kinyarwanda\", \"English, French, Klingon, Korean, Arabic\", \"English, French, Latin\", \"English, French, Latin, Arabic\", \"English, French, Latin, German\", \"English, French, Latin, Portuguese, Spanish\", \"English, French, Latin, Scottish Gaelic, Italian\", \"English, French, Latin, Spanish\", \"English, French, Mandarin\", \"English, French, Mandarin, German\", \"English, French, Portuguese\", \"English, French, Portuguese, German\", \"English, French, Romanian, Latin\", \"English, French, Russian\", \"English, French, Russian, German, Mandarin\", \"English, French, Scottish Gaelic\", \"English, French, Scottish Gaelic, Latin\", \"English, French, Spanish\", \"English, French, Spanish, German\", \"English, French, Spanish, Hindi\", \"English, French, Spanish, Korean\", \"English, French, Spanish, Russian\", \"English, French, Swahili\", \"English, French, Swedish, German\", \"English, French, Swedish, Thai, Serbian\", \"English, French, Thai, Khmer, Mandarin\", \"English, French, Tibetan, Mandarin, Russian, Hindi, Portuguese, Latin, Italian, Spanish\", \"English, French, Turkish, Hebrew, Arabic, Spanish\", \"English, French, Ukrainian\", \"English, French, Ukrainian, Russian, Hungarian\", \"English, French, Vietnamese\", \"English, Georgian, Russian\", \"English, German\", \"English, German, Arabic, French, Cantonese\", \"English, German, Arabic, Russian, French\", \"English, German, Arabic, Urdu\", \"English, German, Cantonese, Japanese, Hungarian, Arabic\", \"English, German, Czech\", \"English, German, Czech, Latin, French\", \"English, German, Dutch, Danish, French, American Sign Language\", \"English, German, Dutch, French, Spanish, Chinese, Greek,  Ancient (to 1453), North American Indian\", \"English, German, Dutch, Polish, Latin\", \"English, German, French\", \"English, German, French, Chinese\", \"English, German, French, Hebrew, Arabic\", \"English, German, French, Hebrew, Arabic, Italian, Greek, Russian, Dutch\", \"English, German, French, Italian\", \"English, German, French, Latin\", \"English, German, French, Russian\", \"English, German, French, Russian, Spanish\", \"English, German, French, Spanish, Latin\", \"English, German, French, Swedish\", \"English, German, Greek, Arabic\", \"English, German, Greek, Latin\", \"English, German, Hebrew\", \"English, German, Hebrew, Spanish, Arabic, Nepali\", \"English, German, Italian\", \"English, German, Italian, French, Spanish\", \"English, German, Italian, Japanese\", \"English, German, Italian, Japanese, French, Hebrew\", \"English, German, Italian, Mandarin, Spanish\", \"English, German, Italian, Romanian, Spanish, Arabic, Georgian, Russian, Serbian\", \"English, German, Italian, Russian\", \"English, German, Japanese, Serbian\", \"English, German, Japanese, Serbo-Croatian\", \"English, German, Latin\", \"English, German, Mandarin, Tibetan, Hindi\", \"English, German, Norwegian\", \"English, German, Persian, Hebrew, Kurdish, French\", \"English, German, Romanian\", \"English, German, Russian\", \"English, German, Russian, French, Flemish, Dutch\", \"English, German, Russian, French, Spanish\", \"English, German, Russian, Swedish\", \"English, German, Spanish\", \"English, German, Spanish, Russian, Czech\", \"English, German, Spanish, Serbian\", \"English, German, Swedish, Mongolian\", \"English, German, Thai\", \"English, German, Turkish, Arabic\", \"English, German, Ukrainian\", \"English, German, Vietnamese, Swahili\", \"English, German, Xhosa, Russian, Romanian, Hindi\", \"English, Greek\", \"English, Greek, French\", \"English, Greek, German, Latin\", \"English, Greek, Italian\", \"English, Greek, Spanish\", \"English, Greenlandic\", \"English, Hausa\", \"English, Hausa, Ibo\", \"English, Hawaiian\", \"English, Hawaiian, German, Japanese\", \"English, Hawaiian, Mandarin\", \"English, Hawaiian, Russian\", \"English, Hebrew\", \"English, Hebrew, Arabic\", \"English, Hebrew, Arabic, Italian\", \"English, Hebrew, German\", \"English, Hebrew, German, Polish, Latin\", \"English, Hebrew, Mandarin\", \"English, Hebrew, Russian\", \"English, Hindi\", \"English, Hindi, Bengali\", \"English, Hindi, Bengali, Assamese, Manipuri\", \"English, Hindi, French, German\", \"English, Hindi, French, German, Mandarin\", \"English, Hindi, Japanese\", \"English, Hindi, Manipuri, Xhosa\", \"English, Hindi, Marathi\", \"English, Hindi, Parsee\", \"English, Hindi, Sanskrit\", \"English, Hindi, Tamil, Gujarati\", \"English, Hindi, Urdu\", \"English, Hmong\", \"English, Hokkien, Mandarin\", \"English, Hungarian\", \"English, Hungarian, French, Korean\", \"English, Hungarian, German\", \"English, Hungarian, Italian\", \"English, Hungarian, Polish, French\", \"English, Hungarian, Russian\", \"English, Hungarian, Spanish, French\", \"English, Ibo\", \"English, Ibo, Yoruba, Hausa\", \"English, Icelandic\", \"English, Icelandic, Italian\", \"English, Icelandic, Portuguese\", \"English, Icelandic, Swahili, Arabic\", \"English, Indonesian\", \"English, Indonesian, French\", \"English, Inuktitut\", \"English, Irish\", \"English, Irish, Aboriginal\", \"English, Irish, Chinese, Hebrew, Yiddish\", \"English, Irish, Chinese, Latin\", \"English, Irish, French\", \"English, Irish, French, Latin\", \"English, Irish, Russian, Icelandic\", \"English, Italian\", \"English, Italian, Arabic\", \"English, Italian, Bosnian\", \"English, Italian, Cantonese\", \"English, Italian, Czech\", \"English, Italian, French\", \"English, Italian, French, Danish\", \"English, Italian, French, German\", \"English, Italian, French, German, Hebrew\", \"English, Italian, French, Japanese\", \"English, Italian, German\", \"English, Italian, German, French\", \"English, Italian, German, Latin\", \"English, Italian, Hebrew\", \"English, Italian, Japanese\", \"English, Italian, Latin\", \"English, Italian, Latin, French, Swiss German, German, Chinese, Spanish, Polish\", \"English, Italian, Latin, Spanish, German\", \"English, Italian, Mandarin, Cantonese, German, Czech\", \"English, Italian, Polish, French\", \"English, Italian, Portuguese\", \"English, Italian, Russian\", \"English, Italian, Russian, German\", \"English, Italian, Spanish\", \"English, Italian, Spanish, German\", \"English, Italian, Spanish, Japanese\", \"English, Italian, Spanish, Latin, Sicilian\", \"English, Italian, Swahili, German\", \"English, Italian, Swedish\", \"English, Japanese\", \"English, Japanese, Cantonese, Mandarin\", \"English, Japanese, Chinese\", \"English, Japanese, Chinese, Arabic\", \"English, Japanese, Chinese, Spanish\", \"English, Japanese, French\", \"English, Japanese, French, Arabic\", \"English, Japanese, French, German, Spanish, Russian\", \"English, Japanese, German, French\", \"English, Japanese, Italian\", \"English, Japanese, Italian, Spanish\", \"English, Japanese, Latin\", \"English, Japanese, Mandarin\", \"English, Japanese, Portuguese\", \"English, Japanese, Russian, Spanish\", \"English, Japanese, Spanish\", \"English, Japanese, Ukrainian\", \"English, Japanese, Vietnamese\", \"English, Khmer\", \"English, Klingon\", \"English, Klingon, German\", \"English, Korean\", \"English, Korean, Estonian\", \"English, Korean, French\", \"English, Korean, French, Japanese, Czech, German\", \"English, Korean, French, Vietnamese\", \"English, Korean, German\", \"English, Korean, Icelandic, Russian\", \"English, Korean, Japanese, Thai, Malay, Cantonese, Mandarin\", \"English, Korean, Russian, Spanish\", \"English, Korean, Spanish\", \"English, Lao, Vietnamese\", \"English, Latin\", \"English, Latin, French\", \"English, Latin, Greek, French, German, Arabic, Kurdish\", \"English, Latin, Irish\", \"English, Latin, Spanish, French\", \"English, Latvian\", \"English, Lingala, French\", \"English, Malay\", \"English, Malay, Hokkien, Mandarin\", \"English, Malay, Hokkien, Mandarin, Malayalam\", \"English, Malayalam, Tamil, Hindi\", \"English, Maltese, French, Turkish\", \"English, Mandarin\", \"English, Mandarin, Cantonese\", \"English, Mandarin, Cantonese, Hokkien, French, Malay\", \"English, Mandarin, Cantonese, Russian\", \"English, Mandarin, French\", \"English, Mandarin, French, Italian, German, Spanish, Korean\", \"English, Mandarin, French, Spanish, Russian\", \"English, Mandarin, German\", \"English, Mandarin, Hokkien\", \"English, Mandarin, Japanese\", \"English, Mandarin, Japanese, Cantonese\", \"English, Mandarin, Malay\", \"English, Mandarin, Malay, Cantonese, Tamil\", \"English, Mandarin, Russian\", \"English, Mandarin, Sanskrit\", \"English, Mandarin, Spanish\", \"English, Mandarin, Spanish, French\", \"English, Mandarin, Spanish, Russian\", \"English, Mandarin, Swiss German, Cantonese, Russian\", \"English, Mandarin, Tagalog, Hokkien, Cantonese, Malay\", \"English, Mandarin, Tamil, Malay\", \"English, Mandarin, Thai\", \"English, Mandarin, Thai, Japanese\", \"English, Maya, Spanish, Greek, German\", \"English, Mende, Afrikaans\", \"English, Min Nan, Mandarin\", \"English, Mohawk\", \"English, Mongolian\", \"English, Nama\", \"English, Navajo, Mandarin\", \"English, North American Indian\", \"English, North American Indian, Spanish\", \"English, Norwegian\", \"English, Norwegian, Danish\", \"English, Norwegian, Latin\", \"English, Norwegian, Spanish, French\", \"English, Nyanja, Afrikaans, Zulu, Xhosa, Southern Sotho\", \"English, Old English\", \"English, Papiamento\", \"English, Pawnee, French\", \"English, Persian\", \"English, Persian, German, Arabic\", \"English, Persian, Ukrainian\", \"English, Persian, Urdu, Arabic, Kurdish, Hindi, Hungarian\", \"English, Polish\", \"English, Polish, Cantonese, Italian\", \"English, Polish, German, Arabic, Egyptian (Ancient)\", \"English, Polish, German, French, Russian\", \"English, Polish, Latin\", \"English, Polish, Russian, German\", \"English, Polish, Spanish\", \"English, Polish, Yiddish\", \"English, Polynesian, Spanish\", \"English, Portuguese\", \"English, Portuguese, French\", \"English, Portuguese, French, Japanese\", \"English, Portuguese, Hindi, Mandarin, German\", \"English, Portuguese, Italian\", \"English, Portuguese, Japanese\", \"English, Portuguese, Spanish\", \"English, Portuguese, Spanish, French\", \"English, Portuguese, Spanish, Italian\", \"English, Portuguese, Spanish, Italian, French\", \"English, Portuguese, Swedish\", \"English, Portuguese, Thai, Bulgarian\", \"English, Portuguese, Tupi, Spanish, German\", \"English, Punjabi\", \"English, Pushto\", \"English, Pushto, Arabic\", \"English, Pushto, Dari, French\", \"English, Pushto, Mandarin\", \"English, Quenya, Old English, Sindarin\", \"English, Romanian\", \"English, Romanian, Arabic\", \"English, Romanian, Bulgarian\", \"English, Romanian, Czech\", \"English, Romanian, German, Korean\", \"English, Romanian, Hebrew, Polish, Armenian\", \"English, Romanian, Hebrew, Yiddish, German\", \"English, Romanian, Russian\", \"English, Romanian, Russian, Serbian, Ukrainian\", \"English, Romanian, Spanish\", \"English, Romany, Romanian, Ukrainian\", \"English, Russian\", \"English, Russian, Chinese\", \"English, Russian, Czech\", \"English, Russian, Dutch\", \"English, Russian, Filipino, Ukrainian\", \"English, Russian, French\", \"English, Russian, French, German\", \"English, Russian, French, Hawaiian, Spanish\", \"English, Russian, French, Italian\", \"English, Russian, French, Japanese, Italian, Dutch, Spanish\", \"English, Russian, French, Lithuanian, German\", \"English, Russian, French, Persian, Korean\", \"English, Russian, German, Italian\", \"English, Russian, Hindi\", \"English, Russian, Hindi, Punjabi\", \"English, Russian, Hungarian\", \"English, Russian, Hungarian, French, Turkish\", \"English, Russian, Indonesian, Filipino\", \"English, Russian, Italian\", \"English, Russian, Italian, Mandarin, French\", \"English, Russian, Japanese, Indonesian, Mandarin, Italian, Arabic, Latin\", \"English, Russian, Korean\", \"English, Russian, Mandarin\", \"English, Russian, Maori, Italian\", \"English, Russian, Polish\", \"English, Russian, Polish, Tibetan, Mongolian\", \"English, Russian, Punjabi, Arabic\", \"English, Russian, Romanian, Slovenian\", \"English, Russian, Serbo-Croatian\", \"English, Russian, Sign Languages\", \"English, Russian, Spanish\", \"English, Russian, Spanish, Chinese\", \"English, Russian, Spanish, Korean, Greek\", \"English, Russian, Ukrainian, German, Arabic\", \"English, Saami\", \"English, Sanskrit\", \"English, Scots\", \"English, Scottish Gaelic\", \"English, Scottish Gaelic, German\", \"English, Serbian\", \"English, Serbian, German, Italian, French\", \"English, Serbian, Spanish, French, Bosnian\", \"English, Serbo-Croatian\", \"English, Serbo-Croatian, Mandarin, French\", \"English, Serbo-Croatian, Russian\", \"English, Serbo-Croatian, Spanish, Czech\", \"English, Sign Languages\", \"English, Sindarin\", \"English, Sindarin, Old English\", \"English, Sinhalese, Hindi\", \"English, Sioux, Pawnee\", \"English, Somali\", \"English, Somali, Arabic\", \"English, Spanish\", \"English, Spanish, American Sign Language, Arabic, Somali\", \"English, Spanish, Arabic\", \"English, Spanish, Arabic, Polish, Turkish, Russian, Italian, Persian\", \"English, Spanish, Armenian\", \"English, Spanish, Bulgarian\", \"English, Spanish, Cantonese\", \"English, Spanish, Cantonese, Italian\", \"English, Spanish, Catalan\", \"English, Spanish, Chinese\", \"English, Spanish, Chinese, Russian, Portuguese\", \"English, Spanish, Dutch\", \"English, Spanish, Finnish\", \"English, Spanish, Flemish\", \"English, Spanish, French\", \"English, Spanish, French, Afrikaans, Ukrainian\", \"English, Spanish, French, American Sign Language\", \"English, Spanish, French, Arabic\", \"English, Spanish, French, German\", \"English, Spanish, French, Korean\", \"English, Spanish, French, Romanian\", \"English, Spanish, French, Russian\", \"English, Spanish, French, Swahili, German\", \"English, Spanish, French, Yoruba\", \"English, Spanish, German\", \"English, Spanish, German, Russian\", \"English, Spanish, Greek\", \"English, Spanish, Greek,  Ancient (to 1453)\", \"English, Spanish, Hebrew\", \"English, Spanish, Hebrew, Arabic\", \"English, Spanish, Hindi\", \"English, Spanish, Hungarian, Czech\", \"English, Spanish, Icelandic\", \"English, Spanish, Italian\", \"English, Spanish, Italian, French\", \"English, Spanish, Italian, French, Swiss German, German\", \"English, Spanish, Italian, Inuktitut, Hindi\", \"English, Spanish, Italian, Latin, Portuguese, French, German\", \"English, Spanish, Italian, Polish, French\", \"English, Spanish, Italian, Russian, Basque, Arabic\", \"English, Spanish, Japanese\", \"English, Spanish, Japanese, French\", \"English, Spanish, Japanese, Russian, Chinese\", \"English, Spanish, Korean\", \"English, Spanish, Latin\", \"English, Spanish, Latin, Italian\", \"English, Spanish, Mandarin\", \"English, Spanish, Norwegian, French, Korean, Greek, Vietnamese\", \"English, Spanish, Papiamento, Russian, Latin\", \"English, Spanish, Polish\", \"English, Spanish, Portuguese\", \"English, Spanish, Portuguese, Mandarin, Tagalog, Russian\", \"English, Spanish, Quechua\", \"English, Spanish, Russian\", \"English, Spanish, Russian, German\", \"English, Spanish, Russian, German, Lingala\", \"English, Spanish, Russian, Italian\", \"English, Spanish, Russian, Italian, French\", \"English, Spanish, Russian, Japanese, Cantonese, Dutch\", \"English, Spanish, Sanskrit\", \"English, Spanish, Sioux\", \"English, Spanish, Swedish\", \"English, Spanish, Tibetan\", \"English, Spanish, Ukrainian, Korean\", \"English, Spanish, Urdu, Russian\", \"English, Swahili\", \"English, Swahili, French, Spanish, Bosnian\", \"English, Swedish\", \"English, Swedish, French, Spanish, German\", \"English, Swedish, French, Vietnamese, Russian, Hebrew\", \"English, Swedish, German\", \"English, Swedish, German, Arabic, Egyptian (Ancient)\", \"English, Swedish, German, Russian\", \"English, Swedish, Italian, French\", \"English, Swedish, Saami\", \"English, Swedish, Spanish\", \"English, Syriac, German, Greek, Hebrew, Latin, Aramaic\", \"English, Tagalog, Russian\", \"English, Tamil\", \"English, Tamil, Hindi, French\", \"English, Thai\", \"English, Thai, Arabic, Spanish\", \"English, Thai, French\", \"English, Thai, Spanish\", \"English, Thai, Spanish, French\", \"English, Thai, Spanish, Hebrew, French\", \"English, Thai, Swedish\", \"English, Tok Pisin, Japanese, Greek\", \"English, Turkish\", \"English, Turkish, Arabic\", \"English, Turkish, Greek, Russian\", \"English, Turkmen, Cantonese, Italian, Spanish, Ukrainian, French\", \"English, Ukrainian\", \"English, Ukrainian, French, Italian, Spanish\", \"English, Ukrainian, German, French\", \"English, Ukrainian, German, Spanish, Russian, French, Arabic, Turkish\", \"English, Ukrainian, Russian\", \"English, Urdu\", \"English, Urdu, Arabic, Persian, French, Mandarin\", \"English, Vietnamese\", \"English, Vietnamese, French\", \"English, Vietnamese, Khmer\", \"English, Vietnamese, Shoshoni\", \"English, Welsh\", \"English, Welsh, Italian, Latin, Russian, Hungarian\", \"English, Wolof, French, Yoruba\", \"English, Xhosa\", \"English, Yiddish\", \"English, Yiddish, Hebrew\", \"English, Yoruba\", \"English, Zulu\", \"Filipino\", \"Filipino, English\", \"Filipino, Tagalog\", \"Filipino, Tagalog, English\", \"Filipino, Tagalog, English, French\", \"Filipino, Tagalog, English, Spanish\", \"Filipino, Tagalog, Japanese\", \"Filipino, Tagalog, Japanese, English\", \"Filipino, Tagalog, Japanese, Korean\", \"Filipino, Tagalog, Spanish\", \"Finnish\", \"Finnish, English\", \"Flemish, Dutch\", \"French\", \"French, Afrikaans, English, Dutch\", \"French, Arabic\", \"French, Arabic, English\", \"French, Breton\", \"French, Cantonese, English, Hakka\", \"French, Chinese\", \"French, English\", \"French, English, Arabic, Italian, German\", \"French, English, Arabic, Spanish\", \"French, English, Chinese\", \"French, English, German\", \"French, English, German, Italian\", \"French, English, Italian\", \"French, English, Italian, German, Yiddish\", \"French, English, Italian, Russian, Arabic\", \"French, English, Japanese\", \"French, English, Latin\", \"French, English, Polish\", \"French, English, Polish, German\", \"French, English, Russian\", \"French, English, Russian, Arabic, Japanese\", \"French, English, Russian, German\", \"French, English, Russian, Swahili, Danish\", \"French, English, Sinhalese, Norwegian\", \"French, English, Spanish\", \"French, English, Spanish, Arabic\", \"French, English, Spanish, Chinese, Yiddish\", \"French, English, Spanish, German\", \"French, English, Spanish, Japanese, Arabic, Mandarin\", \"French, English, Swedish\", \"French, English, Ukrainian\", \"French, Flemish\", \"French, German\", \"French, German, English\", \"French, German, English, Polish\", \"French, Greek\", \"French, Greenlandic, English\", \"French, Hungarian, Italian, English\", \"French, Hungarian, Italian, Swiss German, Latin\", \"French, Italian\", \"French, Italian, English\", \"French, Italian, English, Arabic\", \"French, Italian, English, German, Greek, Spanish\", \"French, Japanese\", \"French, Japanese, German\", \"French, Latin\", \"French, Lingala\", \"French, Lingala, Portuguese\", \"French, Mandarin\", \"French, Polish, Russian\", \"French, Polish, Spanish, English\", \"French, Portuguese\", \"French, Portuguese, English\", \"French, Romanian\", \"French, Romanian, Malinka, French Sign Language, English\", \"French, Romanian, Polish\", \"French, Russian\", \"French, Russian, English\", \"French, Russian, Hebrew\", \"French, Spanish\", \"French, Spanish, English\", \"French, Spanish, German\", \"French, Spanish, Italian, English\", \"French, Swedish, English\", \"French, Thai, English\", \"French, Wolof, Arabic, Spanish, English\", \"French, Wolof, Fulah, Spanish\", \"French, Wolof, Romanian, Norwegian\", \"Georgian\", \"Georgian, Russian\", \"German\", \"German, Arabic, Bosnian, Serbo-Croatian\", \"German, Cantonese\", \"German, Czech\", \"German, Czech, Latin\", \"German, English\", \"German, English, Danish, Italian, French, Wolof\", \"German, English, Dutch, Albanian\", \"German, English, Finnish\", \"German, English, French\", \"German, English, French, Latin\", \"German, English, French, Swedish, Arabic\", \"German, English, Polish, Swedish\", \"German, English, Spanish, Danish\", \"German, English, Spanish, French\", \"German, English, Spanish, Turkish\", \"German, English, Thai\", \"German, English, Yiddish, Spanish, French\", \"German, French\", \"German, French, Chinese\", \"German, French, English\", \"German, French, Latin\", \"German, Hebrew, Yiddish\", \"German, Hungarian\", \"German, Italian\", \"German, Italian, English\", \"German, Japanese, English\", \"German, Japanese, Romanian\", \"German, Latin\", \"German, Polish\", \"German, Portuguese, English, Italian\", \"German, Romanian\", \"German, Romany\", \"German, Russian\", \"German, Russian, English\", \"German, Russian, French, English\", \"German, Spanish\", \"German, Swahili, English\", \"German, Swiss German\", \"German, Turkish\", \"German, Vietnamese\", \"German, Yiddish, Hebrew\", \"Greek\", \"Greek, American Sign Language, English, Portuguese, Spanish, German, French\", \"Gujarati\", \"Gujarati, Hindi\", \"Haitian, English, French\", \"Hebrew\", \"Hebrew, English, Arabic, Russian\", \"Hebrew, English, Spanish\", \"Hindi\", \"Hindi, Assamese\", \"Hindi, Awadhi\", \"Hindi, Bengali\", \"Hindi, Bengali, English\", \"Hindi, English\", \"Hindi, English, Bengali, Tamil\", \"Hindi, English, Bengali, Urdu, Bhojpuri\", \"Hindi, English, Chinese, Spanish\", \"Hindi, English, French\", \"Hindi, English, French, Japanese, Dutch\", \"Hindi, English, German\", \"Hindi, English, Kannada, Marathi\", \"Hindi, English, Marathi, Gujarati\", \"Hindi, English, Marathi, Malayalam\", \"Hindi, English, Marathi, Tamil\", \"Hindi, English, Punjabi\", \"Hindi, English, Russian\", \"Hindi, English, Spanish\", \"Hindi, English, Urdu, Russian\", \"Hindi, German, Italian\", \"Hindi, Gujarati, English\", \"Hindi, Gujarati, Tamil, English\", \"Hindi, Japanese\", \"Hindi, Japanese, Arabic\", \"Hindi, Japanese, Malay\", \"Hindi, Mandarin, English, Italian, French, Arabic\", \"Hindi, Marathi, Bengali, English, Portuguese\", \"Hindi, Marathi, English\", \"Hindi, Marathi, Gujarati, Tulu, English\", \"Hindi, Punjabi\", \"Hindi, Punjabi, English\", \"Hindi, Punjabi, Gujarati, English\", \"Hindi, Russian\", \"Hindi, Tamil, English, French\", \"Hindi, Urdu\", \"Hindi, Urdu, English\", \"Hindi, Urdu, Marathi, English\", \"Hokkien, English, Cantonese\", \"Hokkien, Mandarin\", \"Hungarian\", \"Hungarian, English\", \"Hungarian, English, French\", \"Hungarian, English, German\", \"Hungarian, French\", \"Hungarian, French, English\", \"Hungarian, German, Russian\", \"Hungarian, Japanese\", \"Hungarian, Russian\", \"Hungarian, Spanish, English\", \"Hungarian, Yiddish, German, Russian, Polish, French, Greek, Slovak, Hebrew\", \"Ibo, English\", \"Icelandic, English\", \"Indonesian\", \"Indonesian, Arabic\", \"Indonesian, Dutch\", \"Indonesian, Dutch, English\", \"Indonesian, English\", \"Indonesian, English, Mandarin, French\", \"Indonesian, German\", \"Indonesian, German, Dutch, English\", \"Indonesian, Japanese, English, Sign Languages\", \"Indonesian, Malay, English\", \"Indonesian, Malay, English, Vietnamese\", \"Inuktitut, English\", \"Italian\", \"Italian, Arabic\", \"Italian, English\", \"Italian, English, Croatian\", \"Italian, English, French\", \"Italian, English, German\", \"Italian, English, Latin, Greek,  Ancient (to 1453)\", \"Italian, English, Norwegian\", \"Italian, English, Portuguese\", \"Italian, English, Spanish\", \"Italian, French\", \"Italian, French, English\", \"Italian, French, German\", \"Italian, German\", \"Italian, German, English\", \"Italian, German, French, English\", \"Italian, German, French, English, Spanish\", \"Italian, Japanese\", \"Italian, Japanese, Spanish, Chinese\", \"Italian, Latvian, Neapolitan\", \"Italian, Neapolitan, English, French, German, Russian\", \"Italian, Romany, English\", \"Italian, Russian, English, German, Latin\", \"Italian, Russian, French, Arabic\", \"Italian, Russian, Latin\", \"Italian, Sicilian\", \"Italian, Spanish\", \"Italian, Spanish, German, English\", \"Italian, Spanish, Hebrew, Romanian\", \"Japanese\", \"Japanese, Bulgarian\", \"Japanese, Cantonese\", \"Japanese, Cantonese, English\", \"Japanese, English\", \"Japanese, English, Aboriginal\", \"Japanese, English, Chinese\", \"Japanese, English, French\", \"Japanese, English, Georgian, Hindi\", \"Japanese, English, Hindi\", \"Japanese, English, Indonesian\", \"Japanese, English, Italian, Cantonese\", \"Japanese, English, Korean\", \"Japanese, English, Mandarin\", \"Japanese, English, Portuguese\", \"Japanese, English, Russian\", \"Japanese, Esperanto\", \"Japanese, Finnish\", \"Japanese, French, English\", \"Japanese, French, Italian, Thai, English\", \"Japanese, German, Italian, French, English\", \"Japanese, Indonesian\", \"Japanese, Japanese Sign Language\", \"Japanese, Japanese Sign Language, English, German\", \"Japanese, Korean\", \"Japanese, Korean, Italian, Hindi\", \"Japanese, Latin\", \"Japanese, Latvian\", \"Japanese, Mandarin\", \"Japanese, Mandarin, Russian, Korean, Portuguese, Persian, Indonesian, Hindi, Italian, Dutch, Arabic, French, Latin, English\", \"Japanese, Mandarin, Tagalog\", \"Japanese, Persian, Mandarin\", \"Japanese, Russian\", \"Japanese, Spanish\", \"Japanese, Thai\", \"Kannada\", \"Kannada, Hindi, English\", \"Kazakh, Russian\", \"Khmer, English, French\", \"Kikuyu, English\", \"Korean\", \"Korean, Arabic\", \"Korean, Cantonese, English, Mandarin, Japanese\", \"Korean, Chinese\", \"Korean, English\", \"Korean, English, Chinese\", \"Korean, English, Filipino\", \"Korean, English, French\", \"Korean, English, French, Japanese\", \"Korean, English, German\", \"Korean, English, German, Vietnamese\", \"Korean, English, Japanese\", \"Korean, English, Mandarin\", \"Korean, English, Mandarin, Japanese\", \"Korean, English, Tagalog\", \"Korean, English, Thai\", \"Korean, English, Thai, Russian, Mandarin\", \"Korean, Filipino, English\", \"Korean, French\", \"Korean, German, English, Japanese\", \"Korean, Hawaiian\", \"Korean, Hindi\", \"Korean, Hindi, Japanese, Spanish, Catalan, Basque\", \"Korean, Italian\", \"Korean, Japanese\", \"Korean, Japanese, Czech, English\", \"Korean, Japanese, English\", \"Korean, Japanese, English, Hindi\", \"Korean, Japanese, Mandarin\", \"Korean, Japanese, Mandarin, English\", \"Korean, Korean Sign Language\", \"Korean, Latin\", \"Korean, Mandarin\", \"Korean, Mandarin, Dutch\", \"Korean, Mandarin, English\", \"Korean, Mandarin, Japanese\", \"Korean, Mandarin, Mongolian\", \"Korean, Russian\", \"Korean, Russian, English\", \"Korean, Tagalog, English\", \"Korean, Thai\", \"Korean, Vietnamese\", \"Kurdish, Persian, Turkish, English\", \"Latvian\", \"Lithuanian\", \"Malay\", \"Malay, English\", \"Malay, English, Mandarin\", \"Malay, Indonesian\", \"Malay, Indonesian, Tagalog\", \"Malay, Tamil, English, Cantonese, Sign Languages\", \"Malay, Vietnamese, English\", \"Malayalam\", \"Malayalam, Tamil\", \"Mandarin\", \"Mandarin, Arabic, English\", \"Mandarin, Cantonese\", \"Mandarin, Cantonese, English\", \"Mandarin, Cantonese, English, Italian, Korean\", \"Mandarin, Cantonese, English, Korean\", \"Mandarin, Cantonese, English, Thai, Burmese\", \"Mandarin, Cantonese, Hokkien, English\", \"Mandarin, Cantonese, Japanese\", \"Mandarin, Cantonese, Japanese, English, French, German\", \"Mandarin, Cantonese, Thai\", \"Mandarin, Cantonese, Thai, English, Korean\", \"Mandarin, Chinese\", \"Mandarin, Chinese, Cantonese, English\", \"Mandarin, Chinese, English, Cantonese\", \"Mandarin, Chinese, Hokkien, English\", \"Mandarin, English\", \"Mandarin, English, Cantonese\", \"Mandarin, English, French\", \"Mandarin, English, French, Japanese, German, Spanish\", \"Mandarin, English, Hokkien\", \"Mandarin, English, Hokkien, Malay\", \"Mandarin, English, Min Nan\", \"Mandarin, English, Mongolian\", \"Mandarin, English, Russian, French, Japanese, Korean, Indonesian, Hindi\", \"Mandarin, Hokkien\", \"Mandarin, Hokkien, Cantonese\", \"Mandarin, Hokkien, Cantonese, English, Portuguese\", \"Mandarin, Hokkien, English\", \"Mandarin, Hokkien, English, Cantonese\", \"Mandarin, Japanese\", \"Mandarin, Japanese, Cantonese, English, Min Nan, Hokkien\", \"Mandarin, Japanese, English\", \"Mandarin, Japanese, English, Shanghainese, Hindi, Cantonese\", \"Mandarin, Korean, English\", \"Mandarin, Min Nan\", \"Mandarin, Min Nan, Shanghainese, English\", \"Mandarin, Min Nan, Spanish, English\", \"Mandarin, Mongolian\", \"Mandarin, Portuguese, Spanish, French, German\", \"Mandarin, Russian\", \"Mandarin, Shanghainese\", \"Mandarin, Tagalog, English, Hokkien\", \"Mandarin, Tibetan\", \"Maori\", \"Marathi\", \"Marathi, Gujarati, English, Hindi\", \"Marathi, Hindi\", \"Min Nan, Mandarin, English\", \"Min Nan, Mandarin, Hokkien\", \"Nahuatl, Spanish\", \"Neapolitan, Italian, Mandarin, French\", \"None\", \"None, Danish\", \"None, English\", \"None, French\", \"None, Italian\", \"None, Swedish\", \"Norwegian\", \"Norwegian, Albanian\", \"Norwegian, Danish, English\", \"Norwegian, Danish, Russian, English\", \"Norwegian, English\", \"Norwegian, English, French, Swedish, Spanish\", \"Norwegian, French, Swedish\", \"Norwegian, German, English, Russian, Finnish\", \"Norwegian, German, English, Saami\", \"Norwegian, Swedish\", \"Persian\", \"Persian, English\", \"Polish\", \"Polish, English\", \"Polish, English, Italian\", \"Polish, English, Kinyarwanda\", \"Polish, English, Russian, German, Latvian, Hebrew\", \"Polish, English, Spanish\", \"Polish, English, Swedish\", \"Polish, French\", \"Polish, French, Croatian, German, Russian, Serbian, Italian\", \"Polish, French, English\", \"Polish, German\", \"Polish, German, Czech\", \"Polish, German, Yiddish, Ukrainian, Russian\", \"Polish, Italian\", \"Polish, Italian, Czech\", \"Polish, Romany\", \"Polish, Romany, Latin, English\", \"Polish, Russian, English, Arabic\", \"Polish, Russian, German, Ukrainian\", \"Polish, Slovak, Czech, German, French\", \"Polish, Spanish\", \"Polish, Tatar, Ukrainian, Turkish\", \"Portuguese\", \"Portuguese, Danish, English\", \"Portuguese, English\", \"Portuguese, English, Hungarian, Chinese\", \"Portuguese, English, Mandarin, Persian\", \"Portuguese, English, Spanish\", \"Portuguese, English, Spanish, German\", \"Portuguese, French\", \"Portuguese, French, English, Italian\", \"Portuguese, German\", \"Portuguese, Italian, French, English, Spanish\", \"Portuguese, Italian, German, English, Spanish\", \"Portuguese, Japanese\", \"Portuguese, Spanish\", \"Punjabi\", \"Punjabi, Hindi\", \"Quechua, Spanish\", \"Romanian\", \"Romanian, Arabic, Finnish, English, Acholi\", \"Romanian, English\", \"Romanian, English, Russian, Georgian\", \"Romanian, English, Spanish\", \"Romanian, English, Spanish, French\", \"Romanian, Hungarian\", \"Romanian, Hungarian, Spanish\", \"Romanian, Italian\", \"Romanian, Romany, English\", \"Romanian, Russian\", \"Romany, Serbian, Bulgarian\", \"Russian\", \"Russian, Armenian, English\", \"Russian, English\", \"Russian, English, French, Spanish\", \"Russian, English, Spanish, Hebrew, Italian\", \"Russian, French\", \"Russian, Georgian\", \"Russian, German\", \"Russian, German, Italian, Polish, English, French\", \"Russian, Latin\", \"Russian, Romanian\", \"Russian, Spanish\", \"Russian, Spanish, Finnish\", \"Russian, Tajik, Portuguese\", \"Sanskrit\", \"Scanian, Swedish\", \"Serbo-Croatian, German\", \"Sign Languages, Chinese\", \"Slovak\", \"Slovak, Czech\", \"Slovak, Yiddish, German, Latin\", \"Southern Sotho\", \"Spanish\", \"Spanish, Afrikaans\", \"Spanish, Arabic, English\", \"Spanish, Armenian, English, Italian, Mandarin\", \"Spanish, Basque\", \"Spanish, Basque, English\", \"Spanish, Catalan\", \"Spanish, Catalan, English\", \"Spanish, Catalan, French\", \"Spanish, English\", \"Spanish, English, Basque\", \"Spanish, English, Basque, Catalan\", \"Spanish, English, Cantonese, Mandarin\", \"Spanish, English, Catalan\", \"Spanish, English, Italian, German\", \"Spanish, English, Mandarin, French, Hindi\", \"Spanish, English, Spanish Sign Language\", \"Spanish, English, Vietnamese\", \"Spanish, French\", \"Spanish, French, Afrikaans\", \"Spanish, French, English\", \"Spanish, French, Swahili, English, Italian\", \"Spanish, Gallegan, Latin\", \"Spanish, German\", \"Spanish, German, Basque\", \"Spanish, German, English, French\", \"Spanish, German, Hebrew\", \"Spanish, Hawaiian, English\", \"Spanish, Hebrew, Yiddish\", \"Spanish, Italian\", \"Spanish, Italian, Bulgarian\", \"Spanish, Italian, English\", \"Spanish, Italian, English, French, Portuguese, Catalan\", \"Spanish, Japanese\", \"Spanish, Kriolu, Aragonese\", \"Spanish, Latin\", \"Spanish, Mixtec\", \"Spanish, Mixtec, English, Japanese, German, French, Norwegian\", \"Spanish, Polish\", \"Spanish, Portuguese\", \"Spanish, Portuguese, French, English\", \"Spanish, Portuguese, Italian\", \"Spanish, Quechua, English\", \"Spanish, Quechua, Mapudungun\", \"Spanish, Spanish\", \"Spanish, Tarahumara\", \"Swahili\", \"Swedish\", \"Swedish, Danish\", \"Swedish, Danish, Norwegian\", \"Swedish, Dutch\", \"Swedish, English\", \"Swedish, English, Estonian\", \"Swedish, English, Finnish, Russian, Norwegian, Danish, Spanish\", \"Swedish, English, German\", \"Swedish, English, German, Norwegian\", \"Swedish, English, German, Russian\", \"Swedish, English, Italian\", \"Swedish, English, Thai\", \"Swedish, English, Yiddish\", \"Swedish, Finnish\", \"Swedish, French\", \"Swedish, German\", \"Swedish, German, English, Spanish, French, Russian\", \"Swedish, Norwegian\", \"Swedish, Norwegian, English, Thai\", \"Swedish, Norwegian, German, English\", \"Swedish, Persian\", \"Swedish, Spanish\", \"Swedish, Ukrainian, English\", \"Swiss German, German\", \"Swiss German, German, English, Italian\", \"Tagalog, Filipino\", \"Tagalog, Filipino, English\", \"Tagalog, Filipino, Sign Languages\", \"Tamil\", \"Tamil, French, English\", \"Tamil, Hindi\", \"Tamil, Hokkien, English\", \"Tamil, Kannada\", \"Tamil, Mandarin, English\", \"Tamil, Telugu\", \"Tamil, Telugu, Hindi\", \"Telugu\", \"Telugu, Tamil\", \"Telugu, Tamil, Hindi\", \"Thai\", \"Thai, English\", \"Thai, English, German\", \"Thai, English, Mandarin, Vietnamese\", \"Thai, French\", \"Thai, Japanese\", \"Thai, Japanese, English\", \"Thai, Korean\", \"Thai, Lao\", \"Tibetan\", \"Tswana, English\", \"Turkish\", \"Turkish, Arabic\", \"Turkish, Azerbaijani, Russian, English, Spanish, Japanese, French, Arabic\", \"Turkish, English\", \"Turkish, French\", \"Turkish, Georgian\", \"Turkish, German, English\", \"Turkish, Italian, French\", \"Ukrainian, Russian, English\", \"Urdu\", \"Urdu, English, Punjabi, Bhojpuri\", \"Urdu, Hindi\", \"Urdu, Hindi, Spanish, French, Korean, English\", \"Urdu, Norwegian\", \"Urdu, Pushto\", \"Urdu, Tajik, Russian\", \"Uzbek\", \"Vietnamese\", \"Wayuu, Spanish, English\", \"Wolof, French, English, Arabic\", \"Xhosa, English, Afrikaans\", \"Xhosa, Southern Sotho, English, Afrikaans\", \"Yiddish, English, Spanish\", \"Yoruba, English\", \"Yoruba, English, Ibo, Hausa\", \"Yoruba, Ibo, English\", \"Zulu\", \"Zulu, Afrikaans, Xhosa, English\", \"Zulu, Xhosa, Afrikaans, English\"], \"labels\": [\"Afrikaans\", \"Afrikaans, English\", \"Afrikaans, German, Swiss German\", \"Akan\", \"Akan, English\", \"Albanian, French\", \"American Sign Language, English\", \"American Sign Language, English, Spanish\", \"Amharic\", \"Arabic\", \"Arabic, English\", \"Arabic, English, Dutch\", \"Arabic, English, French\", \"Arabic, French\", \"Arabic, French, English\", \"Arabic, German, English\", \"Arabic, Hebrew\", \"Arabic, Italian\", \"Arabic, Nyanja, English\", \"Arabic, Swedish\", \"Aromanian\", \"Assamese\", \"Basque\", \"Basque, English, Spanish\", \"Basque, Spanish, Catalan\", \"Belarusian, Polish, Russian, Ukrainian\", \"Bengali\", \"Bengali, English\", \"Bengali, English, Mandarin\", \"Bengali, Hindi, English\", \"Bhojpuri, Punjabi, Hindi\", \"Brazilian Sign Language\", \"Cantonese\", \"Cantonese, Chinese, English\", \"Cantonese, English\", \"Cantonese, English, Filipino, Afrikaans\", \"Cantonese, English, French\", \"Cantonese, English, Hindi\", \"Cantonese, English, Hokkien, Mandarin\", \"Cantonese, English, Japanese\", \"Cantonese, English, Mandarin\", \"Cantonese, English, Mandarin, Dutch\", \"Cantonese, English, Mandarin, French\", \"Cantonese, English, Mandarin, Japanese\", \"Cantonese, English, Mandarin, Malay, Thai\", \"Cantonese, English, Mandarin, Thai\", \"Cantonese, English, Thai\", \"Cantonese, English, Vietnamese\", \"Cantonese, Japanese\", \"Cantonese, Japanese, English\", \"Cantonese, Japanese, Mandarin\", \"Cantonese, Mandarin\", \"Cantonese, Mandarin, English\", \"Cantonese, Mandarin, English, Korean, French, Turkish\", \"Cantonese, Mandarin, English, Portuguese\", \"Cantonese, Mandarin, English, Thai\", \"Cantonese, Mandarin, Japanese\", \"Cantonese, Mandarin, Korean\", \"Cantonese, Mandarin, Thai\", \"Cantonese, Min Nan, Mandarin, English\", \"Cantonese, Russian\", \"Cantonese, Shanghainese, Tagalog, English, Mandarin\", \"Catalan, English, Spanish\", \"Catalan, French, Spanish\", \"Catalan, Spanish\", \"Chinese\", \"Chinese, Cantonese\", \"Chinese, English\", \"Chinese, English, Japanese\", \"Chinese, Tagalog, Filipino\", \"Croatian\", \"Czech\", \"Czech, English, German, Russian\", \"Czech, English, Kinyarwanda\", \"Czech, English, Zulu\", \"Czech, French\", \"Czech, German\", \"Czech, German, English\", \"Czech, German, English, Slovak\", \"Czech, Hebrew\", \"Czech, Polish\", \"Czech, Russian\", \"Czech, Russian, German\", \"Czech, Russian, Slovak\", \"Czech, Slovak\", \"Czech, Slovak, English, French\", \"Czech, Slovak, Portuguese\", \"Czech, Vietnamese\", \"Danish\", \"Danish, Arabic\", \"Danish, English\", \"Danish, English, French\", \"Danish, English, German, French\", \"Danish, English, Italian\", \"Danish, English, Italian, Spanish\", \"Danish, English, Polish\", \"Danish, English, Serbian, German\", \"Danish, English, Tagalog\", \"Danish, English, Thai\", \"Danish, Faroese\", \"Danish, German\", \"Danish, Italian, English\", \"Danish, Norwegian\", \"Danish, Polish, Russian\", \"Danish, Serbian\", \"Danish, Swedish\", \"Danish, Swedish, Arabic\", \"Danish, Swedish, English, Spanish\", \"Danish, Swedish, Serbian\", \"Danish, Turkish, English, Chinese\", \"Dari, English, Pushto, Russian, Urdu\", \"Divehi\", \"Dutch\", \"Dutch, Arabic, French, Turkish, English\", \"Dutch, English\", \"Dutch, English, French\", \"Dutch, English, Hindi, French, German\", \"Dutch, English, Sranan\", \"Dutch, English, Swedish, Russian, German, French\", \"Dutch, Flemish, French, English, Spanish\", \"Dutch, French\", \"Dutch, German\", \"Dutch, Russian, German, Polish\", \"Dutch, Sranan\", \"Dutch, Yiddish, English\", \"English\", \"English, Aboriginal\", \"English, Aboriginal, French\", \"English, Aboriginal, French, Portuguese\", \"English, Afrikaans\", \"English, Afrikaans, French\", \"English, Afrikaans, Maori, Zulu, Xhosa, Southern Sotho\", \"English, Afrikaans, Zulu\", \"English, Akan\", \"English, Albanian, Spanish\", \"English, Algonquin, Inuktitut\", \"English, American Sign Language\", \"English, American Sign Language, Estonian\", \"English, American Sign Language, Indonesian\", \"English, American Sign Language, Latin\", \"English, American Sign Language, Portuguese\", \"English, American Sign Language, Russian\", \"English, American Sign Language, Russian, French\", \"English, Amharic\", \"English, Apache languages\", \"English, Arabic\", \"English, Arabic, Acholi\", \"English, Arabic, Albanian, Romanian\", \"English, Arabic, French\", \"English, Arabic, French, Italian\", \"English, Arabic, French, Spanish\", \"English, Arabic, French, Spanish, Dutch\", \"English, Arabic, German\", \"English, Arabic, Latin, Italian\", \"English, Arabic, Persian\", \"English, Arabic, Punjabi, Hindi\", \"English, Arabic, Pushto\", \"English, Arabic, Spanish\", \"English, Arabic, Spanish, Japanese, Berber languages, French, Russian, Japanese Sign Language\", \"English, Arabic, Swedish\", \"English, Arabic, Turkish\", \"English, Arabic, Turkish, French\", \"English, Arabic, Urdu, Pushto, French\", \"English, Aramaic\", \"English, Armenian\", \"English, Armenian, French\", \"English, Belarusian\", \"English, Bosnian, Serbian, German\", \"English, Bulgarian, Scots\", \"English, Bulgarian, Spanish, Russian, Mandarin, German, French\", \"English, Burmese, Thai\", \"English, Cantonese\", \"English, Cantonese, French, German, Hindi, Turkish\", \"English, Cantonese, Hindi\", \"English, Cantonese, Korean\", \"English, Cantonese, Mandarin\", \"English, Cantonese, Mandarin, Portuguese\", \"English, Cantonese, Russian, Hindi, Spanish\", \"English, Catalan, Spanish\", \"English, Cheyenne, French\", \"English, Chinese\", \"English, Chinese, Arabic\", \"English, Chinese, German\", \"English, Chinese, Italian\", \"English, Chinese, Japanese\", \"English, Chinese, Khmer\", \"English, Chinese, Malay\", \"English, Chinese, Russian\", \"English, Chinese, Spanish, French, Ukrainian\", \"English, Chinese, Teochew, Sinhalese\", \"English, Cornish\", \"English, Croatian, Chinese\", \"English, Czech\", \"English, Czech, Russian, Greek, Afrikaans\", \"English, Czech, Slovak\", \"English, Danish\", \"English, Danish, Italian\", \"English, Danish, Malay, Dutch, Indonesian, Finnish, Luxembourgish, French Sign Language\", \"English, Danish, Spanish\", \"English, Dari, Russian, Spanish, Uzbek\", \"English, Dari, Russian, Urdu, Hebrew, Arabic\", \"English, Dinka\", \"English, Dutch\", \"English, Dutch, French, Italian, Mandarin\", \"English, Dutch, Spanish\", \"English, East-Greenlandic\", \"English, Egyptian (Ancient)\", \"English, Egyptian (Ancient), Arabic, Chinese, Hebrew, Hungarian\", \"English, Esperanto\", \"English, Estonian\", \"English, Filipino\", \"English, Filipino, Tagalog\", \"English, Finnish\", \"English, Finnish, French, Vietnamese\", \"English, Finnish, Japanese, Hungarian, Russian, Somali, Spanish\", \"English, Flemish\", \"English, French\", \"English, French, Albanian, Arabic\", \"English, French, Albanian, Spanish, Hungarian\", \"English, French, Arabic\", \"English, French, Arabic, German\", \"English, French, Arabic, German, Dutch\", \"English, French, Arabic, Luxembourgish\", \"English, French, Arabic, Russian, Spanish\", \"English, French, Arabic, Turkish\", \"English, French, Arabic, Yoruba, Swahili, Chinese\", \"English, French, Chinese\", \"English, French, Czech\", \"English, French, German\", \"English, French, German, Arabic\", \"English, French, German, Czech\", \"English, French, German, Dutch, Italian, Yoruba\", \"English, French, German, Hebrew, Italian, Spanish\", \"English, French, German, Italian\", \"English, French, German, Italian, Arabic, Spanish\", \"English, French, German, Italian, Japanese\", \"English, French, German, Serbian\", \"English, French, German, Spanish, Yiddish\", \"English, French, German, Turkish, Italian, Swedish\", \"English, French, Greek\", \"English, French, Hungarian\", \"English, French, Italian\", \"English, French, Italian, German, Hungarian\", \"English, French, Italian, German, Romany\", \"English, French, Italian, Russian, Spanish\", \"English, French, Italian, Turkish\", \"English, French, Japanese\", \"English, French, Japanese, Mandarin, Latin\", \"English, French, Japanese, Russian, Spanish\", \"English, French, Kinyarwanda\", \"English, French, Klingon, Korean, Arabic\", \"English, French, Latin\", \"English, French, Latin, Arabic\", \"English, French, Latin, German\", \"English, French, Latin, Portuguese, Spanish\", \"English, French, Latin, Scottish Gaelic, Italian\", \"English, French, Latin, Spanish\", \"English, French, Mandarin\", \"English, French, Mandarin, German\", \"English, French, Portuguese\", \"English, French, Portuguese, German\", \"English, French, Romanian, Latin\", \"English, French, Russian\", \"English, French, Russian, German, Mandarin\", \"English, French, Scottish Gaelic\", \"English, French, Scottish Gaelic, Latin\", \"English, French, Spanish\", \"English, French, Spanish, German\", \"English, French, Spanish, Hindi\", \"English, French, Spanish, Korean\", \"English, French, Spanish, Russian\", \"English, French, Swahili\", \"English, French, Swedish, German\", \"English, French, Swedish, Thai, Serbian\", \"English, French, Thai, Khmer, Mandarin\", \"English, French, Tibetan, Mandarin, Russian, Hindi, Portuguese, Latin, Italian, Spanish\", \"English, French, Turkish, Hebrew, Arabic, Spanish\", \"English, French, Ukrainian\", \"English, French, Ukrainian, Russian, Hungarian\", \"English, French, Vietnamese\", \"English, Georgian, Russian\", \"English, German\", \"English, German, Arabic, French, Cantonese\", \"English, German, Arabic, Russian, French\", \"English, German, Arabic, Urdu\", \"English, German, Cantonese, Japanese, Hungarian, Arabic\", \"English, German, Czech\", \"English, German, Czech, Latin, French\", \"English, German, Dutch, Danish, French, American Sign Language\", \"English, German, Dutch, French, Spanish, Chinese, Greek,  Ancient (to 1453), North American Indian\", \"English, German, Dutch, Polish, Latin\", \"English, German, French\", \"English, German, French, Chinese\", \"English, German, French, Hebrew, Arabic\", \"English, German, French, Hebrew, Arabic, Italian, Greek, Russian, Dutch\", \"English, German, French, Italian\", \"English, German, French, Latin\", \"English, German, French, Russian\", \"English, German, French, Russian, Spanish\", \"English, German, French, Spanish, Latin\", \"English, German, French, Swedish\", \"English, German, Greek, Arabic\", \"English, German, Greek, Latin\", \"English, German, Hebrew\", \"English, German, Hebrew, Spanish, Arabic, Nepali\", \"English, German, Italian\", \"English, German, Italian, French, Spanish\", \"English, German, Italian, Japanese\", \"English, German, Italian, Japanese, French, Hebrew\", \"English, German, Italian, Mandarin, Spanish\", \"English, German, Italian, Romanian, Spanish, Arabic, Georgian, Russian, Serbian\", \"English, German, Italian, Russian\", \"English, German, Japanese, Serbian\", \"English, German, Japanese, Serbo-Croatian\", \"English, German, Latin\", \"English, German, Mandarin, Tibetan, Hindi\", \"English, German, Norwegian\", \"English, German, Persian, Hebrew, Kurdish, French\", \"English, German, Romanian\", \"English, German, Russian\", \"English, German, Russian, French, Flemish, Dutch\", \"English, German, Russian, French, Spanish\", \"English, German, Russian, Swedish\", \"English, German, Spanish\", \"English, German, Spanish, Russian, Czech\", \"English, German, Spanish, Serbian\", \"English, German, Swedish, Mongolian\", \"English, German, Thai\", \"English, German, Turkish, Arabic\", \"English, German, Ukrainian\", \"English, German, Vietnamese, Swahili\", \"English, German, Xhosa, Russian, Romanian, Hindi\", \"English, Greek\", \"English, Greek, French\", \"English, Greek, German, Latin\", \"English, Greek, Italian\", \"English, Greek, Spanish\", \"English, Greenlandic\", \"English, Hausa\", \"English, Hausa, Ibo\", \"English, Hawaiian\", \"English, Hawaiian, German, Japanese\", \"English, Hawaiian, Mandarin\", \"English, Hawaiian, Russian\", \"English, Hebrew\", \"English, Hebrew, Arabic\", \"English, Hebrew, Arabic, Italian\", \"English, Hebrew, German\", \"English, Hebrew, German, Polish, Latin\", \"English, Hebrew, Mandarin\", \"English, Hebrew, Russian\", \"English, Hindi\", \"English, Hindi, Bengali\", \"English, Hindi, Bengali, Assamese, Manipuri\", \"English, Hindi, French, German\", \"English, Hindi, French, German, Mandarin\", \"English, Hindi, Japanese\", \"English, Hindi, Manipuri, Xhosa\", \"English, Hindi, Marathi\", \"English, Hindi, Parsee\", \"English, Hindi, Sanskrit\", \"English, Hindi, Tamil, Gujarati\", \"English, Hindi, Urdu\", \"English, Hmong\", \"English, Hokkien, Mandarin\", \"English, Hungarian\", \"English, Hungarian, French, Korean\", \"English, Hungarian, German\", \"English, Hungarian, Italian\", \"English, Hungarian, Polish, French\", \"English, Hungarian, Russian\", \"English, Hungarian, Spanish, French\", \"English, Ibo\", \"English, Ibo, Yoruba, Hausa\", \"English, Icelandic\", \"English, Icelandic, Italian\", \"English, Icelandic, Portuguese\", \"English, Icelandic, Swahili, Arabic\", \"English, Indonesian\", \"English, Indonesian, French\", \"English, Inuktitut\", \"English, Irish\", \"English, Irish, Aboriginal\", \"English, Irish, Chinese, Hebrew, Yiddish\", \"English, Irish, Chinese, Latin\", \"English, Irish, French\", \"English, Irish, French, Latin\", \"English, Irish, Russian, Icelandic\", \"English, Italian\", \"English, Italian, Arabic\", \"English, Italian, Bosnian\", \"English, Italian, Cantonese\", \"English, Italian, Czech\", \"English, Italian, French\", \"English, Italian, French, Danish\", \"English, Italian, French, German\", \"English, Italian, French, German, Hebrew\", \"English, Italian, French, Japanese\", \"English, Italian, German\", \"English, Italian, German, French\", \"English, Italian, German, Latin\", \"English, Italian, Hebrew\", \"English, Italian, Japanese\", \"English, Italian, Latin\", \"English, Italian, Latin, French, Swiss German, German, Chinese, Spanish, Polish\", \"English, Italian, Latin, Spanish, German\", \"English, Italian, Mandarin, Cantonese, German, Czech\", \"English, Italian, Polish, French\", \"English, Italian, Portuguese\", \"English, Italian, Russian\", \"English, Italian, Russian, German\", \"English, Italian, Spanish\", \"English, Italian, Spanish, German\", \"English, Italian, Spanish, Japanese\", \"English, Italian, Spanish, Latin, Sicilian\", \"English, Italian, Swahili, German\", \"English, Italian, Swedish\", \"English, Japanese\", \"English, Japanese, Cantonese, Mandarin\", \"English, Japanese, Chinese\", \"English, Japanese, Chinese, Arabic\", \"English, Japanese, Chinese, Spanish\", \"English, Japanese, French\", \"English, Japanese, French, Arabic\", \"English, Japanese, French, German, Spanish, Russian\", \"English, Japanese, German, French\", \"English, Japanese, Italian\", \"English, Japanese, Italian, Spanish\", \"English, Japanese, Latin\", \"English, Japanese, Mandarin\", \"English, Japanese, Portuguese\", \"English, Japanese, Russian, Spanish\", \"English, Japanese, Spanish\", \"English, Japanese, Ukrainian\", \"English, Japanese, Vietnamese\", \"English, Khmer\", \"English, Klingon\", \"English, Klingon, German\", \"English, Korean\", \"English, Korean, Estonian\", \"English, Korean, French\", \"English, Korean, French, Japanese, Czech, German\", \"English, Korean, French, Vietnamese\", \"English, Korean, German\", \"English, Korean, Icelandic, Russian\", \"English, Korean, Japanese, Thai, Malay, Cantonese, Mandarin\", \"English, Korean, Russian, Spanish\", \"English, Korean, Spanish\", \"English, Lao, Vietnamese\", \"English, Latin\", \"English, Latin, French\", \"English, Latin, Greek, French, German, Arabic, Kurdish\", \"English, Latin, Irish\", \"English, Latin, Spanish, French\", \"English, Latvian\", \"English, Lingala, French\", \"English, Malay\", \"English, Malay, Hokkien, Mandarin\", \"English, Malay, Hokkien, Mandarin, Malayalam\", \"English, Malayalam, Tamil, Hindi\", \"English, Maltese, French, Turkish\", \"English, Mandarin\", \"English, Mandarin, Cantonese\", \"English, Mandarin, Cantonese, Hokkien, French, Malay\", \"English, Mandarin, Cantonese, Russian\", \"English, Mandarin, French\", \"English, Mandarin, French, Italian, German, Spanish, Korean\", \"English, Mandarin, French, Spanish, Russian\", \"English, Mandarin, German\", \"English, Mandarin, Hokkien\", \"English, Mandarin, Japanese\", \"English, Mandarin, Japanese, Cantonese\", \"English, Mandarin, Malay\", \"English, Mandarin, Malay, Cantonese, Tamil\", \"English, Mandarin, Russian\", \"English, Mandarin, Sanskrit\", \"English, Mandarin, Spanish\", \"English, Mandarin, Spanish, French\", \"English, Mandarin, Spanish, Russian\", \"English, Mandarin, Swiss German, Cantonese, Russian\", \"English, Mandarin, Tagalog, Hokkien, Cantonese, Malay\", \"English, Mandarin, Tamil, Malay\", \"English, Mandarin, Thai\", \"English, Mandarin, Thai, Japanese\", \"English, Maya, Spanish, Greek, German\", \"English, Mende, Afrikaans\", \"English, Min Nan, Mandarin\", \"English, Mohawk\", \"English, Mongolian\", \"English, Nama\", \"English, Navajo, Mandarin\", \"English, North American Indian\", \"English, North American Indian, Spanish\", \"English, Norwegian\", \"English, Norwegian, Danish\", \"English, Norwegian, Latin\", \"English, Norwegian, Spanish, French\", \"English, Nyanja, Afrikaans, Zulu, Xhosa, Southern Sotho\", \"English, Old English\", \"English, Papiamento\", \"English, Pawnee, French\", \"English, Persian\", \"English, Persian, German, Arabic\", \"English, Persian, Ukrainian\", \"English, Persian, Urdu, Arabic, Kurdish, Hindi, Hungarian\", \"English, Polish\", \"English, Polish, Cantonese, Italian\", \"English, Polish, German, Arabic, Egyptian (Ancient)\", \"English, Polish, German, French, Russian\", \"English, Polish, Latin\", \"English, Polish, Russian, German\", \"English, Polish, Spanish\", \"English, Polish, Yiddish\", \"English, Polynesian, Spanish\", \"English, Portuguese\", \"English, Portuguese, French\", \"English, Portuguese, French, Japanese\", \"English, Portuguese, Hindi, Mandarin, German\", \"English, Portuguese, Italian\", \"English, Portuguese, Japanese\", \"English, Portuguese, Spanish\", \"English, Portuguese, Spanish, French\", \"English, Portuguese, Spanish, Italian\", \"English, Portuguese, Spanish, Italian, French\", \"English, Portuguese, Swedish\", \"English, Portuguese, Thai, Bulgarian\", \"English, Portuguese, Tupi, Spanish, German\", \"English, Punjabi\", \"English, Pushto\", \"English, Pushto, Arabic\", \"English, Pushto, Dari, French\", \"English, Pushto, Mandarin\", \"English, Quenya, Old English, Sindarin\", \"English, Romanian\", \"English, Romanian, Arabic\", \"English, Romanian, Bulgarian\", \"English, Romanian, Czech\", \"English, Romanian, German, Korean\", \"English, Romanian, Hebrew, Polish, Armenian\", \"English, Romanian, Hebrew, Yiddish, German\", \"English, Romanian, Russian\", \"English, Romanian, Russian, Serbian, Ukrainian\", \"English, Romanian, Spanish\", \"English, Romany, Romanian, Ukrainian\", \"English, Russian\", \"English, Russian, Chinese\", \"English, Russian, Czech\", \"English, Russian, Dutch\", \"English, Russian, Filipino, Ukrainian\", \"English, Russian, French\", \"English, Russian, French, German\", \"English, Russian, French, Hawaiian, Spanish\", \"English, Russian, French, Italian\", \"English, Russian, French, Japanese, Italian, Dutch, Spanish\", \"English, Russian, French, Lithuanian, German\", \"English, Russian, French, Persian, Korean\", \"English, Russian, German, Italian\", \"English, Russian, Hindi\", \"English, Russian, Hindi, Punjabi\", \"English, Russian, Hungarian\", \"English, Russian, Hungarian, French, Turkish\", \"English, Russian, Indonesian, Filipino\", \"English, Russian, Italian\", \"English, Russian, Italian, Mandarin, French\", \"English, Russian, Japanese, Indonesian, Mandarin, Italian, Arabic, Latin\", \"English, Russian, Korean\", \"English, Russian, Mandarin\", \"English, Russian, Maori, Italian\", \"English, Russian, Polish\", \"English, Russian, Polish, Tibetan, Mongolian\", \"English, Russian, Punjabi, Arabic\", \"English, Russian, Romanian, Slovenian\", \"English, Russian, Serbo-Croatian\", \"English, Russian, Sign Languages\", \"English, Russian, Spanish\", \"English, Russian, Spanish, Chinese\", \"English, Russian, Spanish, Korean, Greek\", \"English, Russian, Ukrainian, German, Arabic\", \"English, Saami\", \"English, Sanskrit\", \"English, Scots\", \"English, Scottish Gaelic\", \"English, Scottish Gaelic, German\", \"English, Serbian\", \"English, Serbian, German, Italian, French\", \"English, Serbian, Spanish, French, Bosnian\", \"English, Serbo-Croatian\", \"English, Serbo-Croatian, Mandarin, French\", \"English, Serbo-Croatian, Russian\", \"English, Serbo-Croatian, Spanish, Czech\", \"English, Sign Languages\", \"English, Sindarin\", \"English, Sindarin, Old English\", \"English, Sinhalese, Hindi\", \"English, Sioux, Pawnee\", \"English, Somali\", \"English, Somali, Arabic\", \"English, Spanish\", \"English, Spanish, American Sign Language, Arabic, Somali\", \"English, Spanish, Arabic\", \"English, Spanish, Arabic, Polish, Turkish, Russian, Italian, Persian\", \"English, Spanish, Armenian\", \"English, Spanish, Bulgarian\", \"English, Spanish, Cantonese\", \"English, Spanish, Cantonese, Italian\", \"English, Spanish, Catalan\", \"English, Spanish, Chinese\", \"English, Spanish, Chinese, Russian, Portuguese\", \"English, Spanish, Dutch\", \"English, Spanish, Finnish\", \"English, Spanish, Flemish\", \"English, Spanish, French\", \"English, Spanish, French, Afrikaans, Ukrainian\", \"English, Spanish, French, American Sign Language\", \"English, Spanish, French, Arabic\", \"English, Spanish, French, German\", \"English, Spanish, French, Korean\", \"English, Spanish, French, Romanian\", \"English, Spanish, French, Russian\", \"English, Spanish, French, Swahili, German\", \"English, Spanish, French, Yoruba\", \"English, Spanish, German\", \"English, Spanish, German, Russian\", \"English, Spanish, Greek\", \"English, Spanish, Greek,  Ancient (to 1453)\", \"English, Spanish, Hebrew\", \"English, Spanish, Hebrew, Arabic\", \"English, Spanish, Hindi\", \"English, Spanish, Hungarian, Czech\", \"English, Spanish, Icelandic\", \"English, Spanish, Italian\", \"English, Spanish, Italian, French\", \"English, Spanish, Italian, French, Swiss German, German\", \"English, Spanish, Italian, Inuktitut, Hindi\", \"English, Spanish, Italian, Latin, Portuguese, French, German\", \"English, Spanish, Italian, Polish, French\", \"English, Spanish, Italian, Russian, Basque, Arabic\", \"English, Spanish, Japanese\", \"English, Spanish, Japanese, French\", \"English, Spanish, Japanese, Russian, Chinese\", \"English, Spanish, Korean\", \"English, Spanish, Latin\", \"English, Spanish, Latin, Italian\", \"English, Spanish, Mandarin\", \"English, Spanish, Norwegian, French, Korean, Greek, Vietnamese\", \"English, Spanish, Papiamento, Russian, Latin\", \"English, Spanish, Polish\", \"English, Spanish, Portuguese\", \"English, Spanish, Portuguese, Mandarin, Tagalog, Russian\", \"English, Spanish, Quechua\", \"English, Spanish, Russian\", \"English, Spanish, Russian, German\", \"English, Spanish, Russian, German, Lingala\", \"English, Spanish, Russian, Italian\", \"English, Spanish, Russian, Italian, French\", \"English, Spanish, Russian, Japanese, Cantonese, Dutch\", \"English, Spanish, Sanskrit\", \"English, Spanish, Sioux\", \"English, Spanish, Swedish\", \"English, Spanish, Tibetan\", \"English, Spanish, Ukrainian, Korean\", \"English, Spanish, Urdu, Russian\", \"English, Swahili\", \"English, Swahili, French, Spanish, Bosnian\", \"English, Swedish\", \"English, Swedish, French, Spanish, German\", \"English, Swedish, French, Vietnamese, Russian, Hebrew\", \"English, Swedish, German\", \"English, Swedish, German, Arabic, Egyptian (Ancient)\", \"English, Swedish, German, Russian\", \"English, Swedish, Italian, French\", \"English, Swedish, Saami\", \"English, Swedish, Spanish\", \"English, Syriac, German, Greek, Hebrew, Latin, Aramaic\", \"English, Tagalog, Russian\", \"English, Tamil\", \"English, Tamil, Hindi, French\", \"English, Thai\", \"English, Thai, Arabic, Spanish\", \"English, Thai, French\", \"English, Thai, Spanish\", \"English, Thai, Spanish, French\", \"English, Thai, Spanish, Hebrew, French\", \"English, Thai, Swedish\", \"English, Tok Pisin, Japanese, Greek\", \"English, Turkish\", \"English, Turkish, Arabic\", \"English, Turkish, Greek, Russian\", \"English, Turkmen, Cantonese, Italian, Spanish, Ukrainian, French\", \"English, Ukrainian\", \"English, Ukrainian, French, Italian, Spanish\", \"English, Ukrainian, German, French\", \"English, Ukrainian, German, Spanish, Russian, French, Arabic, Turkish\", \"English, Ukrainian, Russian\", \"English, Urdu\", \"English, Urdu, Arabic, Persian, French, Mandarin\", \"English, Vietnamese\", \"English, Vietnamese, French\", \"English, Vietnamese, Khmer\", \"English, Vietnamese, Shoshoni\", \"English, Welsh\", \"English, Welsh, Italian, Latin, Russian, Hungarian\", \"English, Wolof, French, Yoruba\", \"English, Xhosa\", \"English, Yiddish\", \"English, Yiddish, Hebrew\", \"English, Yoruba\", \"English, Zulu\", \"Filipino\", \"Filipino, English\", \"Filipino, Tagalog\", \"Filipino, Tagalog, English\", \"Filipino, Tagalog, English, French\", \"Filipino, Tagalog, English, Spanish\", \"Filipino, Tagalog, Japanese\", \"Filipino, Tagalog, Japanese, English\", \"Filipino, Tagalog, Japanese, Korean\", \"Filipino, Tagalog, Spanish\", \"Finnish\", \"Finnish, English\", \"Flemish, Dutch\", \"French\", \"French, Afrikaans, English, Dutch\", \"French, Arabic\", \"French, Arabic, English\", \"French, Breton\", \"French, Cantonese, English, Hakka\", \"French, Chinese\", \"French, English\", \"French, English, Arabic, Italian, German\", \"French, English, Arabic, Spanish\", \"French, English, Chinese\", \"French, English, German\", \"French, English, German, Italian\", \"French, English, Italian\", \"French, English, Italian, German, Yiddish\", \"French, English, Italian, Russian, Arabic\", \"French, English, Japanese\", \"French, English, Latin\", \"French, English, Polish\", \"French, English, Polish, German\", \"French, English, Russian\", \"French, English, Russian, Arabic, Japanese\", \"French, English, Russian, German\", \"French, English, Russian, Swahili, Danish\", \"French, English, Sinhalese, Norwegian\", \"French, English, Spanish\", \"French, English, Spanish, Arabic\", \"French, English, Spanish, Chinese, Yiddish\", \"French, English, Spanish, German\", \"French, English, Spanish, Japanese, Arabic, Mandarin\", \"French, English, Swedish\", \"French, English, Ukrainian\", \"French, Flemish\", \"French, German\", \"French, German, English\", \"French, German, English, Polish\", \"French, Greek\", \"French, Greenlandic, English\", \"French, Hungarian, Italian, English\", \"French, Hungarian, Italian, Swiss German, Latin\", \"French, Italian\", \"French, Italian, English\", \"French, Italian, English, Arabic\", \"French, Italian, English, German, Greek, Spanish\", \"French, Japanese\", \"French, Japanese, German\", \"French, Latin\", \"French, Lingala\", \"French, Lingala, Portuguese\", \"French, Mandarin\", \"French, Polish, Russian\", \"French, Polish, Spanish, English\", \"French, Portuguese\", \"French, Portuguese, English\", \"French, Romanian\", \"French, Romanian, Malinka, French Sign Language, English\", \"French, Romanian, Polish\", \"French, Russian\", \"French, Russian, English\", \"French, Russian, Hebrew\", \"French, Spanish\", \"French, Spanish, English\", \"French, Spanish, German\", \"French, Spanish, Italian, English\", \"French, Swedish, English\", \"French, Thai, English\", \"French, Wolof, Arabic, Spanish, English\", \"French, Wolof, Fulah, Spanish\", \"French, Wolof, Romanian, Norwegian\", \"Georgian\", \"Georgian, Russian\", \"German\", \"German, Arabic, Bosnian, Serbo-Croatian\", \"German, Cantonese\", \"German, Czech\", \"German, Czech, Latin\", \"German, English\", \"German, English, Danish, Italian, French, Wolof\", \"German, English, Dutch, Albanian\", \"German, English, Finnish\", \"German, English, French\", \"German, English, French, Latin\", \"German, English, French, Swedish, Arabic\", \"German, English, Polish, Swedish\", \"German, English, Spanish, Danish\", \"German, English, Spanish, French\", \"German, English, Spanish, Turkish\", \"German, English, Thai\", \"German, English, Yiddish, Spanish, French\", \"German, French\", \"German, French, Chinese\", \"German, French, English\", \"German, French, Latin\", \"German, Hebrew, Yiddish\", \"German, Hungarian\", \"German, Italian\", \"German, Italian, English\", \"German, Japanese, English\", \"German, Japanese, Romanian\", \"German, Latin\", \"German, Polish\", \"German, Portuguese, English, Italian\", \"German, Romanian\", \"German, Romany\", \"German, Russian\", \"German, Russian, English\", \"German, Russian, French, English\", \"German, Spanish\", \"German, Swahili, English\", \"German, Swiss German\", \"German, Turkish\", \"German, Vietnamese\", \"German, Yiddish, Hebrew\", \"Greek\", \"Greek, American Sign Language, English, Portuguese, Spanish, German, French\", \"Gujarati\", \"Gujarati, Hindi\", \"Haitian, English, French\", \"Hebrew\", \"Hebrew, English, Arabic, Russian\", \"Hebrew, English, Spanish\", \"Hindi\", \"Hindi, Assamese\", \"Hindi, Awadhi\", \"Hindi, Bengali\", \"Hindi, Bengali, English\", \"Hindi, English\", \"Hindi, English, Bengali, Tamil\", \"Hindi, English, Bengali, Urdu, Bhojpuri\", \"Hindi, English, Chinese, Spanish\", \"Hindi, English, French\", \"Hindi, English, French, Japanese, Dutch\", \"Hindi, English, German\", \"Hindi, English, Kannada, Marathi\", \"Hindi, English, Marathi, Gujarati\", \"Hindi, English, Marathi, Malayalam\", \"Hindi, English, Marathi, Tamil\", \"Hindi, English, Punjabi\", \"Hindi, English, Russian\", \"Hindi, English, Spanish\", \"Hindi, English, Urdu, Russian\", \"Hindi, German, Italian\", \"Hindi, Gujarati, English\", \"Hindi, Gujarati, Tamil, English\", \"Hindi, Japanese\", \"Hindi, Japanese, Arabic\", \"Hindi, Japanese, Malay\", \"Hindi, Mandarin, English, Italian, French, Arabic\", \"Hindi, Marathi, Bengali, English, Portuguese\", \"Hindi, Marathi, English\", \"Hindi, Marathi, Gujarati, Tulu, English\", \"Hindi, Punjabi\", \"Hindi, Punjabi, English\", \"Hindi, Punjabi, Gujarati, English\", \"Hindi, Russian\", \"Hindi, Tamil, English, French\", \"Hindi, Urdu\", \"Hindi, Urdu, English\", \"Hindi, Urdu, Marathi, English\", \"Hokkien, English, Cantonese\", \"Hokkien, Mandarin\", \"Hungarian\", \"Hungarian, English\", \"Hungarian, English, French\", \"Hungarian, English, German\", \"Hungarian, French\", \"Hungarian, French, English\", \"Hungarian, German, Russian\", \"Hungarian, Japanese\", \"Hungarian, Russian\", \"Hungarian, Spanish, English\", \"Hungarian, Yiddish, German, Russian, Polish, French, Greek, Slovak, Hebrew\", \"Ibo, English\", \"Icelandic, English\", \"Indonesian\", \"Indonesian, Arabic\", \"Indonesian, Dutch\", \"Indonesian, Dutch, English\", \"Indonesian, English\", \"Indonesian, English, Mandarin, French\", \"Indonesian, German\", \"Indonesian, German, Dutch, English\", \"Indonesian, Japanese, English, Sign Languages\", \"Indonesian, Malay, English\", \"Indonesian, Malay, English, Vietnamese\", \"Inuktitut, English\", \"Italian\", \"Italian, Arabic\", \"Italian, English\", \"Italian, English, Croatian\", \"Italian, English, French\", \"Italian, English, German\", \"Italian, English, Latin, Greek,  Ancient (to 1453)\", \"Italian, English, Norwegian\", \"Italian, English, Portuguese\", \"Italian, English, Spanish\", \"Italian, French\", \"Italian, French, English\", \"Italian, French, German\", \"Italian, German\", \"Italian, German, English\", \"Italian, German, French, English\", \"Italian, German, French, English, Spanish\", \"Italian, Japanese\", \"Italian, Japanese, Spanish, Chinese\", \"Italian, Latvian, Neapolitan\", \"Italian, Neapolitan, English, French, German, Russian\", \"Italian, Romany, English\", \"Italian, Russian, English, German, Latin\", \"Italian, Russian, French, Arabic\", \"Italian, Russian, Latin\", \"Italian, Sicilian\", \"Italian, Spanish\", \"Italian, Spanish, German, English\", \"Italian, Spanish, Hebrew, Romanian\", \"Japanese\", \"Japanese, Bulgarian\", \"Japanese, Cantonese\", \"Japanese, Cantonese, English\", \"Japanese, English\", \"Japanese, English, Aboriginal\", \"Japanese, English, Chinese\", \"Japanese, English, French\", \"Japanese, English, Georgian, Hindi\", \"Japanese, English, Hindi\", \"Japanese, English, Indonesian\", \"Japanese, English, Italian, Cantonese\", \"Japanese, English, Korean\", \"Japanese, English, Mandarin\", \"Japanese, English, Portuguese\", \"Japanese, English, Russian\", \"Japanese, Esperanto\", \"Japanese, Finnish\", \"Japanese, French, English\", \"Japanese, French, Italian, Thai, English\", \"Japanese, German, Italian, French, English\", \"Japanese, Indonesian\", \"Japanese, Japanese Sign Language\", \"Japanese, Japanese Sign Language, English, German\", \"Japanese, Korean\", \"Japanese, Korean, Italian, Hindi\", \"Japanese, Latin\", \"Japanese, Latvian\", \"Japanese, Mandarin\", \"Japanese, Mandarin, Russian, Korean, Portuguese, Persian, Indonesian, Hindi, Italian, Dutch, Arabic, French, Latin, English\", \"Japanese, Mandarin, Tagalog\", \"Japanese, Persian, Mandarin\", \"Japanese, Russian\", \"Japanese, Spanish\", \"Japanese, Thai\", \"Kannada\", \"Kannada, Hindi, English\", \"Kazakh, Russian\", \"Khmer, English, French\", \"Kikuyu, English\", \"Korean\", \"Korean, Arabic\", \"Korean, Cantonese, English, Mandarin, Japanese\", \"Korean, Chinese\", \"Korean, English\", \"Korean, English, Chinese\", \"Korean, English, Filipino\", \"Korean, English, French\", \"Korean, English, French, Japanese\", \"Korean, English, German\", \"Korean, English, German, Vietnamese\", \"Korean, English, Japanese\", \"Korean, English, Mandarin\", \"Korean, English, Mandarin, Japanese\", \"Korean, English, Tagalog\", \"Korean, English, Thai\", \"Korean, English, Thai, Russian, Mandarin\", \"Korean, Filipino, English\", \"Korean, French\", \"Korean, German, English, Japanese\", \"Korean, Hawaiian\", \"Korean, Hindi\", \"Korean, Hindi, Japanese, Spanish, Catalan, Basque\", \"Korean, Italian\", \"Korean, Japanese\", \"Korean, Japanese, Czech, English\", \"Korean, Japanese, English\", \"Korean, Japanese, English, Hindi\", \"Korean, Japanese, Mandarin\", \"Korean, Japanese, Mandarin, English\", \"Korean, Korean Sign Language\", \"Korean, Latin\", \"Korean, Mandarin\", \"Korean, Mandarin, Dutch\", \"Korean, Mandarin, English\", \"Korean, Mandarin, Japanese\", \"Korean, Mandarin, Mongolian\", \"Korean, Russian\", \"Korean, Russian, English\", \"Korean, Tagalog, English\", \"Korean, Thai\", \"Korean, Vietnamese\", \"Kurdish, Persian, Turkish, English\", \"Latvian\", \"Lithuanian\", \"Malay\", \"Malay, English\", \"Malay, English, Mandarin\", \"Malay, Indonesian\", \"Malay, Indonesian, Tagalog\", \"Malay, Tamil, English, Cantonese, Sign Languages\", \"Malay, Vietnamese, English\", \"Malayalam\", \"Malayalam, Tamil\", \"Mandarin\", \"Mandarin, Arabic, English\", \"Mandarin, Cantonese\", \"Mandarin, Cantonese, English\", \"Mandarin, Cantonese, English, Italian, Korean\", \"Mandarin, Cantonese, English, Korean\", \"Mandarin, Cantonese, English, Thai, Burmese\", \"Mandarin, Cantonese, Hokkien, English\", \"Mandarin, Cantonese, Japanese\", \"Mandarin, Cantonese, Japanese, English, French, German\", \"Mandarin, Cantonese, Thai\", \"Mandarin, Cantonese, Thai, English, Korean\", \"Mandarin, Chinese\", \"Mandarin, Chinese, Cantonese, English\", \"Mandarin, Chinese, English, Cantonese\", \"Mandarin, Chinese, Hokkien, English\", \"Mandarin, English\", \"Mandarin, English, Cantonese\", \"Mandarin, English, French\", \"Mandarin, English, French, Japanese, German, Spanish\", \"Mandarin, English, Hokkien\", \"Mandarin, English, Hokkien, Malay\", \"Mandarin, English, Min Nan\", \"Mandarin, English, Mongolian\", \"Mandarin, English, Russian, French, Japanese, Korean, Indonesian, Hindi\", \"Mandarin, Hokkien\", \"Mandarin, Hokkien, Cantonese\", \"Mandarin, Hokkien, Cantonese, English, Portuguese\", \"Mandarin, Hokkien, English\", \"Mandarin, Hokkien, English, Cantonese\", \"Mandarin, Japanese\", \"Mandarin, Japanese, Cantonese, English, Min Nan, Hokkien\", \"Mandarin, Japanese, English\", \"Mandarin, Japanese, English, Shanghainese, Hindi, Cantonese\", \"Mandarin, Korean, English\", \"Mandarin, Min Nan\", \"Mandarin, Min Nan, Shanghainese, English\", \"Mandarin, Min Nan, Spanish, English\", \"Mandarin, Mongolian\", \"Mandarin, Portuguese, Spanish, French, German\", \"Mandarin, Russian\", \"Mandarin, Shanghainese\", \"Mandarin, Tagalog, English, Hokkien\", \"Mandarin, Tibetan\", \"Maori\", \"Marathi\", \"Marathi, Gujarati, English, Hindi\", \"Marathi, Hindi\", \"Min Nan, Mandarin, English\", \"Min Nan, Mandarin, Hokkien\", \"Nahuatl, Spanish\", \"Neapolitan, Italian, Mandarin, French\", \"None\", \"None, Danish\", \"None, English\", \"None, French\", \"None, Italian\", \"None, Swedish\", \"Norwegian\", \"Norwegian, Albanian\", \"Norwegian, Danish, English\", \"Norwegian, Danish, Russian, English\", \"Norwegian, English\", \"Norwegian, English, French, Swedish, Spanish\", \"Norwegian, French, Swedish\", \"Norwegian, German, English, Russian, Finnish\", \"Norwegian, German, English, Saami\", \"Norwegian, Swedish\", \"Persian\", \"Persian, English\", \"Polish\", \"Polish, English\", \"Polish, English, Italian\", \"Polish, English, Kinyarwanda\", \"Polish, English, Russian, German, Latvian, Hebrew\", \"Polish, English, Spanish\", \"Polish, English, Swedish\", \"Polish, French\", \"Polish, French, Croatian, German, Russian, Serbian, Italian\", \"Polish, French, English\", \"Polish, German\", \"Polish, German, Czech\", \"Polish, German, Yiddish, Ukrainian, Russian\", \"Polish, Italian\", \"Polish, Italian, Czech\", \"Polish, Romany\", \"Polish, Romany, Latin, English\", \"Polish, Russian, English, Arabic\", \"Polish, Russian, German, Ukrainian\", \"Polish, Slovak, Czech, German, French\", \"Polish, Spanish\", \"Polish, Tatar, Ukrainian, Turkish\", \"Portuguese\", \"Portuguese, Danish, English\", \"Portuguese, English\", \"Portuguese, English, Hungarian, Chinese\", \"Portuguese, English, Mandarin, Persian\", \"Portuguese, English, Spanish\", \"Portuguese, English, Spanish, German\", \"Portuguese, French\", \"Portuguese, French, English, Italian\", \"Portuguese, German\", \"Portuguese, Italian, French, English, Spanish\", \"Portuguese, Italian, German, English, Spanish\", \"Portuguese, Japanese\", \"Portuguese, Spanish\", \"Punjabi\", \"Punjabi, Hindi\", \"Quechua, Spanish\", \"Romanian\", \"Romanian, Arabic, Finnish, English, Acholi\", \"Romanian, English\", \"Romanian, English, Russian, Georgian\", \"Romanian, English, Spanish\", \"Romanian, English, Spanish, French\", \"Romanian, Hungarian\", \"Romanian, Hungarian, Spanish\", \"Romanian, Italian\", \"Romanian, Romany, English\", \"Romanian, Russian\", \"Romany, Serbian, Bulgarian\", \"Russian\", \"Russian, Armenian, English\", \"Russian, English\", \"Russian, English, French, Spanish\", \"Russian, English, Spanish, Hebrew, Italian\", \"Russian, French\", \"Russian, Georgian\", \"Russian, German\", \"Russian, German, Italian, Polish, English, French\", \"Russian, Latin\", \"Russian, Romanian\", \"Russian, Spanish\", \"Russian, Spanish, Finnish\", \"Russian, Tajik, Portuguese\", \"Sanskrit\", \"Scanian, Swedish\", \"Serbo-Croatian, German\", \"Sign Languages, Chinese\", \"Slovak\", \"Slovak, Czech\", \"Slovak, Yiddish, German, Latin\", \"Southern Sotho\", \"Spanish\", \"Spanish, Afrikaans\", \"Spanish, Arabic, English\", \"Spanish, Armenian, English, Italian, Mandarin\", \"Spanish, Basque\", \"Spanish, Basque, English\", \"Spanish, Catalan\", \"Spanish, Catalan, English\", \"Spanish, Catalan, French\", \"Spanish, English\", \"Spanish, English, Basque\", \"Spanish, English, Basque, Catalan\", \"Spanish, English, Cantonese, Mandarin\", \"Spanish, English, Catalan\", \"Spanish, English, Italian, German\", \"Spanish, English, Mandarin, French, Hindi\", \"Spanish, English, Spanish Sign Language\", \"Spanish, English, Vietnamese\", \"Spanish, French\", \"Spanish, French, Afrikaans\", \"Spanish, French, English\", \"Spanish, French, Swahili, English, Italian\", \"Spanish, Gallegan, Latin\", \"Spanish, German\", \"Spanish, German, Basque\", \"Spanish, German, English, French\", \"Spanish, German, Hebrew\", \"Spanish, Hawaiian, English\", \"Spanish, Hebrew, Yiddish\", \"Spanish, Italian\", \"Spanish, Italian, Bulgarian\", \"Spanish, Italian, English\", \"Spanish, Italian, English, French, Portuguese, Catalan\", \"Spanish, Japanese\", \"Spanish, Kriolu, Aragonese\", \"Spanish, Latin\", \"Spanish, Mixtec\", \"Spanish, Mixtec, English, Japanese, German, French, Norwegian\", \"Spanish, Polish\", \"Spanish, Portuguese\", \"Spanish, Portuguese, French, English\", \"Spanish, Portuguese, Italian\", \"Spanish, Quechua, English\", \"Spanish, Quechua, Mapudungun\", \"Spanish, Spanish\", \"Spanish, Tarahumara\", \"Swahili\", \"Swedish\", \"Swedish, Danish\", \"Swedish, Danish, Norwegian\", \"Swedish, Dutch\", \"Swedish, English\", \"Swedish, English, Estonian\", \"Swedish, English, Finnish, Russian, Norwegian, Danish, Spanish\", \"Swedish, English, German\", \"Swedish, English, German, Norwegian\", \"Swedish, English, German, Russian\", \"Swedish, English, Italian\", \"Swedish, English, Thai\", \"Swedish, English, Yiddish\", \"Swedish, Finnish\", \"Swedish, French\", \"Swedish, German\", \"Swedish, German, English, Spanish, French, Russian\", \"Swedish, Norwegian\", \"Swedish, Norwegian, English, Thai\", \"Swedish, Norwegian, German, English\", \"Swedish, Persian\", \"Swedish, Spanish\", \"Swedish, Ukrainian, English\", \"Swiss German, German\", \"Swiss German, German, English, Italian\", \"Tagalog, Filipino\", \"Tagalog, Filipino, English\", \"Tagalog, Filipino, Sign Languages\", \"Tamil\", \"Tamil, French, English\", \"Tamil, Hindi\", \"Tamil, Hokkien, English\", \"Tamil, Kannada\", \"Tamil, Mandarin, English\", \"Tamil, Telugu\", \"Tamil, Telugu, Hindi\", \"Telugu\", \"Telugu, Tamil\", \"Telugu, Tamil, Hindi\", \"Thai\", \"Thai, English\", \"Thai, English, German\", \"Thai, English, Mandarin, Vietnamese\", \"Thai, French\", \"Thai, Japanese\", \"Thai, Japanese, English\", \"Thai, Korean\", \"Thai, Lao\", \"Tibetan\", \"Tswana, English\", \"Turkish\", \"Turkish, Arabic\", \"Turkish, Azerbaijani, Russian, English, Spanish, Japanese, French, Arabic\", \"Turkish, English\", \"Turkish, French\", \"Turkish, Georgian\", \"Turkish, German, English\", \"Turkish, Italian, French\", \"Ukrainian, Russian, English\", \"Urdu\", \"Urdu, English, Punjabi, Bhojpuri\", \"Urdu, Hindi\", \"Urdu, Hindi, Spanish, French, Korean, English\", \"Urdu, Norwegian\", \"Urdu, Pushto\", \"Urdu, Tajik, Russian\", \"Uzbek\", \"Vietnamese\", \"Wayuu, Spanish, English\", \"Wolof, French, English, Arabic\", \"Xhosa, English, Afrikaans\", \"Xhosa, Southern Sotho, English, Afrikaans\", \"Yiddish, English, Spanish\", \"Yoruba, English\", \"Yoruba, English, Ibo, Hausa\", \"Yoruba, Ibo, English\", \"Zulu\", \"Zulu, Afrikaans, Xhosa, English\", \"Zulu, Xhosa, Afrikaans, English\"], \"name\": \"\", \"parents\": [\"\", \"\", \"\", \"\", \"\", \"\", \"\", \"\", \"\", \"\", \"\", \"\", \"\", \"\", \"\", \"\", \"\", \"\", \"\", \"\", \"\", \"\", \"\", \"\", \"\", \"\", \"\", \"\", \"\", \"\", \"\", \"\", \"\", \"\", \"\", \"\", \"\", \"\", \"\", \"\", \"\", \"\", \"\", \"\", \"\", \"\", \"\", \"\", \"\", \"\", \"\", \"\", \"\", \"\", \"\", \"\", \"\", \"\", \"\", \"\", \"\", \"\", \"\", \"\", \"\", \"\", \"\", \"\", \"\", \"\", \"\", \"\", \"\", \"\", \"\", \"\", \"\", \"\", \"\", \"\", \"\", \"\", \"\", \"\", \"\", \"\", \"\", \"\", \"\", \"\", \"\", \"\", \"\", \"\", \"\", \"\", \"\", \"\", \"\", \"\", \"\", \"\", \"\", \"\", \"\", \"\", \"\", \"\", \"\", \"\", \"\", \"\", \"\", \"\", \"\", \"\", \"\", \"\", \"\", \"\", \"\", \"\", \"\", \"\", \"\", \"\", \"\", \"\", \"\", \"\", \"\", \"\", \"\", \"\", \"\", \"\", \"\", \"\", \"\", \"\", \"\", \"\", \"\", \"\", \"\", \"\", \"\", \"\", \"\", \"\", \"\", \"\", \"\", \"\", \"\", \"\", \"\", \"\", \"\", \"\", \"\", \"\", \"\", \"\", \"\", \"\", \"\", \"\", \"\", \"\", \"\", \"\", \"\", \"\", \"\", \"\", \"\", \"\", \"\", \"\", \"\", \"\", \"\", \"\", \"\", \"\", \"\", \"\", \"\", \"\", \"\", \"\", \"\", \"\", \"\", \"\", \"\", \"\", \"\", \"\", \"\", \"\", \"\", \"\", \"\", \"\", \"\", \"\", \"\", \"\", \"\", \"\", \"\", \"\", \"\", \"\", \"\", \"\", \"\", \"\", \"\", \"\", \"\", \"\", \"\", \"\", \"\", \"\", \"\", \"\", \"\", \"\", \"\", \"\", \"\", \"\", \"\", \"\", \"\", \"\", \"\", \"\", \"\", \"\", \"\", \"\", \"\", \"\", \"\", \"\", \"\", \"\", \"\", \"\", \"\", \"\", \"\", \"\", \"\", \"\", \"\", \"\", \"\", \"\", \"\", \"\", \"\", \"\", \"\", \"\", \"\", \"\", \"\", \"\", \"\", \"\", \"\", \"\", \"\", \"\", \"\", \"\", \"\", \"\", \"\", \"\", \"\", \"\", \"\", \"\", \"\", \"\", \"\", \"\", \"\", \"\", \"\", \"\", \"\", \"\", \"\", \"\", \"\", \"\", \"\", \"\", \"\", \"\", \"\", \"\", \"\", \"\", \"\", \"\", \"\", \"\", \"\", \"\", \"\", \"\", \"\", \"\", \"\", \"\", \"\", \"\", \"\", \"\", \"\", \"\", \"\", \"\", \"\", \"\", \"\", \"\", \"\", \"\", \"\", \"\", \"\", \"\", \"\", \"\", \"\", \"\", \"\", \"\", \"\", \"\", \"\", \"\", \"\", \"\", \"\", \"\", \"\", \"\", \"\", \"\", \"\", \"\", \"\", \"\", \"\", \"\", \"\", \"\", \"\", \"\", \"\", \"\", \"\", \"\", \"\", \"\", \"\", \"\", \"\", \"\", \"\", \"\", \"\", \"\", \"\", \"\", \"\", \"\", \"\", \"\", \"\", \"\", \"\", \"\", \"\", \"\", \"\", \"\", \"\", \"\", \"\", \"\", \"\", \"\", \"\", \"\", \"\", \"\", \"\", \"\", \"\", \"\", \"\", \"\", \"\", \"\", \"\", \"\", \"\", \"\", \"\", \"\", \"\", \"\", \"\", \"\", \"\", \"\", \"\", \"\", \"\", \"\", \"\", \"\", \"\", \"\", \"\", \"\", \"\", \"\", \"\", \"\", \"\", \"\", \"\", \"\", \"\", \"\", \"\", \"\", \"\", \"\", \"\", \"\", \"\", \"\", \"\", \"\", \"\", \"\", \"\", \"\", \"\", \"\", \"\", \"\", \"\", \"\", \"\", \"\", \"\", \"\", \"\", \"\", \"\", \"\", \"\", \"\", \"\", \"\", \"\", \"\", \"\", \"\", \"\", \"\", \"\", \"\", \"\", \"\", \"\", \"\", \"\", \"\", \"\", \"\", \"\", \"\", \"\", \"\", \"\", \"\", \"\", \"\", \"\", \"\", \"\", \"\", \"\", \"\", \"\", \"\", \"\", \"\", \"\", \"\", \"\", \"\", \"\", \"\", \"\", \"\", \"\", \"\", \"\", \"\", \"\", \"\", \"\", \"\", \"\", \"\", \"\", \"\", \"\", \"\", \"\", \"\", \"\", \"\", \"\", \"\", \"\", \"\", \"\", \"\", \"\", \"\", \"\", \"\", \"\", \"\", \"\", \"\", \"\", \"\", \"\", \"\", \"\", \"\", \"\", \"\", \"\", \"\", \"\", \"\", \"\", \"\", \"\", \"\", \"\", \"\", \"\", \"\", \"\", \"\", \"\", \"\", \"\", \"\", \"\", \"\", \"\", \"\", \"\", \"\", \"\", \"\", \"\", \"\", \"\", \"\", \"\", \"\", \"\", \"\", \"\", \"\", \"\", \"\", \"\", \"\", \"\", \"\", \"\", \"\", \"\", \"\", \"\", \"\", \"\", \"\", \"\", \"\", \"\", \"\", \"\", \"\", \"\", \"\", \"\", \"\", \"\", \"\", \"\", \"\", \"\", \"\", \"\", \"\", \"\", \"\", \"\", \"\", \"\", \"\", \"\", \"\", \"\", \"\", \"\", \"\", \"\", \"\", \"\", \"\", \"\", \"\", \"\", \"\", \"\", \"\", \"\", \"\", \"\", \"\", \"\", \"\", \"\", \"\", \"\", \"\", \"\", \"\", \"\", \"\", \"\", \"\", \"\", \"\", \"\", \"\", \"\", \"\", \"\", \"\", \"\", \"\", \"\", \"\", \"\", \"\", \"\", \"\", \"\", \"\", \"\", \"\", \"\", \"\", \"\", \"\", \"\", \"\", \"\", \"\", \"\", \"\", \"\", \"\", \"\", \"\", \"\", \"\", \"\", \"\", \"\", \"\", \"\", \"\", \"\", \"\", \"\", \"\", \"\", \"\", \"\", \"\", \"\", \"\", \"\", \"\", \"\", \"\", \"\", \"\", \"\", \"\", \"\", \"\", \"\", \"\", \"\", \"\", \"\", \"\", \"\", \"\", \"\", \"\", \"\", \"\", \"\", \"\", \"\", \"\", \"\", \"\", \"\", \"\", \"\", \"\", \"\", \"\", \"\", \"\", \"\", \"\", \"\", \"\", \"\", \"\", \"\", \"\", \"\", \"\", \"\", \"\", \"\", \"\", \"\", \"\", \"\", \"\", \"\", \"\", \"\", \"\", \"\", \"\", \"\", \"\", \"\", \"\", \"\", \"\", \"\", \"\", \"\", \"\", \"\", \"\", \"\", \"\", \"\", \"\", \"\", \"\", \"\", \"\", \"\", \"\", \"\", \"\", \"\", \"\", \"\", \"\", \"\", \"\", \"\", \"\", \"\", \"\", \"\", \"\", \"\", \"\", \"\", \"\", \"\", \"\", \"\", \"\", \"\", \"\", \"\", \"\", \"\", \"\", \"\", \"\", \"\", \"\", \"\", \"\", \"\", \"\", \"\", \"\", \"\", \"\", \"\", \"\", \"\", \"\", \"\", \"\", \"\", \"\", \"\", \"\", \"\", \"\", \"\", \"\", \"\", \"\", \"\", \"\", \"\", \"\", \"\", \"\", \"\", \"\", \"\", \"\", \"\", \"\", \"\", \"\", \"\", \"\", \"\", \"\", \"\", \"\", \"\", \"\", \"\", \"\", \"\", \"\", \"\", \"\", \"\", \"\", \"\", \"\", \"\", \"\", \"\", \"\", \"\", \"\", \"\", \"\", \"\", \"\", \"\", \"\", \"\", \"\", \"\", \"\", \"\", \"\", \"\", \"\", \"\", \"\", \"\", \"\", \"\", \"\", \"\", \"\", \"\", \"\", \"\", \"\", \"\", \"\", \"\", \"\", \"\", \"\", \"\", \"\", \"\", \"\", \"\", \"\", \"\", \"\", \"\", \"\", \"\", \"\", \"\", \"\", \"\", \"\", \"\", \"\", \"\", \"\", \"\", \"\", \"\", \"\", \"\", \"\", \"\", \"\", \"\", \"\", \"\", \"\", \"\", \"\", \"\", \"\", \"\", \"\", \"\", \"\", \"\", \"\", \"\", \"\", \"\", \"\", \"\", \"\", \"\", \"\", \"\", \"\", \"\", \"\", \"\", \"\", \"\", \"\", \"\", \"\", \"\", \"\", \"\", \"\", \"\", \"\", \"\", \"\", \"\", \"\", \"\", \"\", \"\", \"\", \"\", \"\", \"\", \"\", \"\", \"\", \"\", \"\", \"\", \"\", \"\", \"\", \"\", \"\", \"\", \"\", \"\", \"\", \"\", \"\", \"\", \"\", \"\", \"\", \"\", \"\", \"\", \"\", \"\", \"\", \"\", \"\", \"\", \"\", \"\", \"\", \"\", \"\", \"\", \"\", \"\", \"\", \"\", \"\", \"\", \"\", \"\", \"\", \"\", \"\", \"\", \"\", \"\", \"\", \"\", \"\", \"\", \"\", \"\", \"\", \"\", \"\", \"\", \"\", \"\", \"\", \"\", \"\", \"\", \"\", \"\", \"\", \"\", \"\", \"\", \"\", \"\", \"\", \"\", \"\", \"\", \"\", \"\", \"\", \"\", \"\", \"\", \"\", \"\", \"\", \"\", \"\", \"\", \"\", \"\", \"\", \"\", \"\", \"\", \"\", \"\", \"\", \"\", \"\", \"\", \"\", \"\", \"\", \"\", \"\", \"\", \"\", \"\", \"\", \"\", \"\", \"\", \"\", \"\", \"\", \"\", \"\", \"\", \"\", \"\", \"\", \"\", \"\", \"\", \"\", \"\", \"\", \"\", \"\", \"\", \"\", \"\", \"\", \"\", \"\", \"\", \"\", \"\", \"\", \"\", \"\", \"\", \"\", \"\", \"\", \"\", \"\", \"\", \"\", \"\", \"\", \"\", \"\", \"\", \"\", \"\", \"\", \"\", \"\", \"\", \"\", \"\", \"\", \"\", \"\", \"\", \"\", \"\", \"\", \"\", \"\", \"\", \"\", \"\", \"\", \"\", \"\", \"\", \"\", \"\", \"\", \"\", \"\", \"\", \"\", \"\", \"\", \"\", \"\", \"\", \"\", \"\", \"\", \"\", \"\", \"\", \"\", \"\", \"\", \"\", \"\", \"\", \"\", \"\", \"\", \"\", \"\", \"\", \"\", \"\", \"\", \"\", \"\", \"\", \"\", \"\", \"\", \"\", \"\", \"\", \"\", \"\", \"\", \"\", \"\", \"\", \"\", \"\", \"\", \"\", \"\", \"\", \"\", \"\", \"\", \"\", \"\", \"\", \"\", \"\", \"\", \"\", \"\", \"\", \"\", \"\", \"\", \"\", \"\", \"\", \"\", \"\", \"\", \"\", \"\", \"\", \"\", \"\", \"\", \"\", \"\", \"\", \"\", \"\", \"\", \"\", \"\", \"\", \"\", \"\", \"\", \"\", \"\", \"\", \"\", \"\", \"\", \"\", \"\", \"\", \"\", \"\", \"\", \"\", \"\", \"\", \"\", \"\", \"\", \"\", \"\", \"\"], \"type\": \"treemap\", \"values\": [3, 3, 2, 1, 1, 1, 2, 1, 1, 89, 10, 1, 2, 4, 1, 1, 2, 1, 1, 1, 1, 2, 2, 1, 1, 1, 16, 2, 1, 1, 1, 1, 80, 1, 22, 1, 1, 1, 1, 4, 5, 1, 1, 1, 1, 1, 4, 1, 1, 2, 1, 36, 17, 1, 1, 1, 2, 1, 1, 1, 1, 1, 1, 1, 1, 19, 1, 2, 1, 1, 2, 92, 1, 1, 1, 1, 3, 1, 1, 1, 1, 1, 1, 1, 8, 1, 1, 1, 50, 1, 6, 1, 1, 1, 1, 1, 1, 1, 1, 1, 2, 1, 2, 1, 1, 3, 1, 1, 1, 1, 1, 1, 101, 1, 6, 2, 1, 1, 1, 1, 1, 2, 1, 1, 1, 3799, 4, 1, 1, 6, 1, 1, 1, 1, 1, 1, 11, 1, 1, 1, 1, 1, 1, 1, 2, 29, 1, 1, 2, 1, 1, 1, 1, 1, 2, 1, 1, 1, 1, 1, 1, 1, 1, 1, 1, 1, 1, 1, 1, 1, 1, 18, 1, 2, 1, 4, 1, 1, 2, 1, 14, 2, 1, 1, 1, 1, 1, 1, 1, 1, 1, 1, 2, 1, 1, 6, 1, 1, 1, 1, 1, 1, 10, 1, 1, 1, 1, 1, 4, 1, 4, 3, 1, 1, 1, 1, 141, 1, 1, 2, 2, 1, 1, 1, 1, 1, 1, 2, 16, 1, 1, 1, 1, 1, 1, 2, 2, 1, 1, 3, 1, 10, 1, 1, 1, 1, 2, 1, 1, 1, 1, 6, 1, 1, 1, 1, 2, 3, 1, 1, 1, 1, 7, 1, 1, 2, 11, 1, 1, 1, 1, 4, 1, 1, 1, 1, 1, 3, 1, 1, 1, 53, 1, 1, 1, 2, 3, 1, 1, 2, 1, 8, 1, 1, 1, 2, 2, 1, 1, 1, 1, 1, 1, 2, 1, 2, 1, 1, 1, 1, 1, 1, 1, 1, 1, 1, 1, 1, 1, 8, 1, 1, 1, 6, 1, 1, 1, 1, 1, 1, 1, 1, 5, 1, 1, 1, 1, 1, 1, 1, 1, 1, 1, 1, 23, 1, 1, 1, 1, 1, 1, 15, 2, 1, 1, 1, 1, 1, 1, 1, 1, 1, 1, 1, 1, 4, 1, 1, 1, 1, 1, 2, 2, 1, 1, 1, 1, 1, 4, 1, 1, 5, 1, 1, 1, 1, 1, 1, 50, 1, 1, 1, 1, 9, 1, 1, 1, 1, 4, 2, 1, 1, 2, 2, 1, 1, 1, 1, 1, 1, 1, 8, 1, 1, 1, 1, 1, 42, 1, 1, 1, 2, 1, 1, 1, 2, 2, 1, 1, 1, 1, 1, 5, 1, 3, 3, 3, 1, 14, 1, 1, 1, 1, 1, 1, 1, 1, 1, 1, 17, 3, 1, 1, 1, 1, 1, 2, 1, 1, 1, 1, 36, 4, 1, 1, 1, 1, 1, 1, 1, 1, 1, 1, 1, 2, 1, 4, 1, 1, 1, 1, 1, 1, 1, 1, 1, 1, 1, 1, 1, 1, 1, 1, 2, 1, 1, 1, 1, 1, 1, 1, 3, 1, 1, 1, 4, 1, 1, 1, 1, 1, 3, 1, 1, 16, 1, 2, 1, 1, 2, 2, 1, 1, 1, 1, 1, 1, 2, 1, 1, 1, 1, 1, 4, 1, 1, 1, 1, 1, 1, 1, 1, 1, 1, 50, 3, 1, 1, 1, 7, 1, 1, 1, 1, 1, 1, 2, 1, 1, 1, 1, 1, 1, 1, 1, 1, 1, 1, 1, 2, 1, 1, 1, 1, 6, 1, 1, 1, 2, 9, 1, 3, 1, 3, 1, 2, 1, 1, 1, 1, 2, 1, 1, 1, 1, 2, 1, 246, 1, 2, 1, 1, 1, 2, 1, 1, 1, 1, 1, 1, 1, 12, 1, 1, 1, 1, 1, 1, 2, 1, 1, 4, 1, 1, 1, 1, 1, 1, 1, 1, 3, 1, 1, 1, 1, 1, 1, 2, 1, 1, 3, 1, 1, 1, 1, 1, 1, 5, 1, 1, 6, 2, 1, 1, 1, 2, 2, 1, 1, 1, 1, 1, 3, 1, 7, 1, 1, 1, 1, 1, 1, 1, 1, 1, 1, 1, 1, 9, 1, 1, 1, 1, 1, 1, 1, 4, 2, 1, 1, 23, 1, 1, 1, 2, 2, 1, 8, 1, 1, 1, 2, 1, 1, 1, 4, 1, 3, 3, 1, 3, 37, 5, 1, 2, 1, 1, 1, 1, 5, 1, 2, 196, 1, 6, 1, 1, 1, 1, 50, 1, 1, 2, 1, 1, 2, 1, 1, 1, 1, 1, 1, 1, 1, 1, 1, 1, 1, 1, 1, 2, 1, 1, 1, 2, 5, 2, 1, 1, 1, 1, 1, 4, 2, 2, 1, 1, 1, 1, 1, 1, 1, 1, 1, 1, 1, 1, 1, 1, 1, 1, 1, 4, 2, 1, 1, 1, 1, 1, 1, 1, 3, 1, 136, 1, 1, 2, 1, 16, 1, 1, 1, 1, 1, 1, 1, 1, 1, 1, 1, 1, 2, 1, 1, 1, 1, 2, 4, 1, 1, 1, 1, 2, 1, 1, 1, 4, 2, 1, 1, 1, 1, 2, 1, 2, 7, 1, 2, 1, 1, 3, 1, 1, 294, 1, 1, 1, 1, 50, 1, 1, 1, 3, 2, 1, 1, 1, 1, 1, 1, 1, 1, 1, 1, 1, 1, 22, 1, 1, 1, 1, 2, 1, 1, 1, 1, 2, 1, 10, 2, 1, 1, 2, 19, 1, 1, 1, 1, 1, 1, 1, 1, 1, 1, 1, 1, 65, 1, 1, 1, 3, 1, 1, 1, 1, 1, 1, 1, 139, 1, 12, 1, 4, 1, 1, 1, 1, 1, 5, 2, 2, 2, 1, 1, 1, 3, 1, 1, 1, 1, 1, 1, 2, 1, 1, 1, 1, 768, 1, 1, 2, 61, 1, 2, 1, 1, 1, 1, 1, 1, 1, 1, 1, 1, 1, 1, 1, 1, 1, 1, 1, 8, 1, 1, 1, 3, 1, 1, 1, 2, 1, 1, 6, 1, 1, 2, 1, 296, 1, 1, 2, 27, 1, 2, 3, 1, 3, 1, 3, 1, 1, 1, 1, 1, 1, 3, 1, 1, 1, 1, 1, 12, 1, 1, 1, 1, 1, 2, 1, 6, 1, 1, 2, 1, 2, 1, 1, 1, 1, 1, 1, 1, 26, 4, 2, 2, 1, 1, 1, 43, 1, 92, 1, 13, 5, 1, 1, 1, 1, 1, 1, 1, 1, 2, 1, 1, 1, 9, 1, 1, 1, 1, 1, 2, 1, 1, 1, 1, 1, 1, 2, 2, 1, 3, 1, 1, 4, 1, 1, 1, 1, 1, 1, 1, 1, 1, 19, 1, 1, 1, 1, 1, 1, 14, 1, 11, 3, 2, 1, 31, 1, 1, 1, 5, 1, 1, 1, 1, 3, 3, 1, 90, 12, 1, 1, 1, 1, 1, 1, 1, 1, 3, 1, 1, 1, 1, 1, 1, 1, 1, 1, 1, 1, 107, 1, 9, 1, 1, 1, 1, 2, 1, 1, 1, 1, 1, 2, 36, 2, 2, 60, 1, 6, 1, 1, 1, 2, 1, 2, 1, 1, 1, 25, 1, 3, 1, 1, 1, 1, 1, 1, 1, 1, 1, 1, 1, 1, 1, 1, 1, 1, 2, 1, 1, 267, 1, 1, 1, 2, 1, 2, 3, 1, 32, 2, 1, 1, 1, 1, 1, 1, 1, 3, 1, 1, 1, 1, 4, 1, 1, 1, 1, 1, 1, 1, 2, 1, 1, 1, 1, 1, 1, 1, 3, 1, 1, 1, 1, 1, 1, 1, 64, 1, 1, 1, 7, 1, 1, 1, 1, 1, 1, 1, 1, 1, 1, 1, 1, 1, 1, 1, 1, 2, 1, 1, 1, 16, 1, 1, 51, 1, 2, 1, 1, 1, 3, 1, 20, 5, 6, 106, 13, 1, 1, 1, 1, 2, 1, 1, 1, 1, 112, 1, 1, 4, 1, 1, 1, 1, 1, 8, 1, 4, 1, 1, 1, 1, 1, 3, 1, 1, 1, 1, 1, 1, 1, 1, 3, 1, 1]}],                        {\"legend\": {\"tracegroupgap\": 0}, \"margin\": {\"t\": 60}, \"template\": {\"data\": {\"bar\": [{\"error_x\": {\"color\": \"#2a3f5f\"}, \"error_y\": {\"color\": \"#2a3f5f\"}, \"marker\": {\"line\": {\"color\": \"#E5ECF6\", \"width\": 0.5}}, \"type\": \"bar\"}], \"barpolar\": [{\"marker\": {\"line\": {\"color\": \"#E5ECF6\", \"width\": 0.5}}, \"type\": \"barpolar\"}], \"carpet\": [{\"aaxis\": {\"endlinecolor\": \"#2a3f5f\", \"gridcolor\": \"white\", \"linecolor\": \"white\", \"minorgridcolor\": \"white\", \"startlinecolor\": \"#2a3f5f\"}, \"baxis\": {\"endlinecolor\": \"#2a3f5f\", \"gridcolor\": \"white\", \"linecolor\": \"white\", \"minorgridcolor\": \"white\", \"startlinecolor\": \"#2a3f5f\"}, \"type\": \"carpet\"}], \"choropleth\": [{\"colorbar\": {\"outlinewidth\": 0, \"ticks\": \"\"}, \"type\": \"choropleth\"}], \"contour\": [{\"colorbar\": {\"outlinewidth\": 0, \"ticks\": \"\"}, \"colorscale\": [[0.0, \"#0d0887\"], [0.1111111111111111, \"#46039f\"], [0.2222222222222222, \"#7201a8\"], [0.3333333333333333, \"#9c179e\"], [0.4444444444444444, \"#bd3786\"], [0.5555555555555556, \"#d8576b\"], [0.6666666666666666, \"#ed7953\"], [0.7777777777777778, \"#fb9f3a\"], [0.8888888888888888, \"#fdca26\"], [1.0, \"#f0f921\"]], \"type\": \"contour\"}], \"contourcarpet\": [{\"colorbar\": {\"outlinewidth\": 0, \"ticks\": \"\"}, \"type\": \"contourcarpet\"}], \"heatmap\": [{\"colorbar\": {\"outlinewidth\": 0, \"ticks\": \"\"}, \"colorscale\": [[0.0, \"#0d0887\"], [0.1111111111111111, \"#46039f\"], [0.2222222222222222, \"#7201a8\"], [0.3333333333333333, \"#9c179e\"], [0.4444444444444444, \"#bd3786\"], [0.5555555555555556, \"#d8576b\"], [0.6666666666666666, \"#ed7953\"], [0.7777777777777778, \"#fb9f3a\"], [0.8888888888888888, \"#fdca26\"], [1.0, \"#f0f921\"]], \"type\": \"heatmap\"}], \"heatmapgl\": [{\"colorbar\": {\"outlinewidth\": 0, \"ticks\": \"\"}, \"colorscale\": [[0.0, \"#0d0887\"], [0.1111111111111111, \"#46039f\"], [0.2222222222222222, \"#7201a8\"], [0.3333333333333333, \"#9c179e\"], [0.4444444444444444, \"#bd3786\"], [0.5555555555555556, \"#d8576b\"], [0.6666666666666666, \"#ed7953\"], [0.7777777777777778, \"#fb9f3a\"], [0.8888888888888888, \"#fdca26\"], [1.0, \"#f0f921\"]], \"type\": \"heatmapgl\"}], \"histogram\": [{\"marker\": {\"colorbar\": {\"outlinewidth\": 0, \"ticks\": \"\"}}, \"type\": \"histogram\"}], \"histogram2d\": [{\"colorbar\": {\"outlinewidth\": 0, \"ticks\": \"\"}, \"colorscale\": [[0.0, \"#0d0887\"], [0.1111111111111111, \"#46039f\"], [0.2222222222222222, \"#7201a8\"], [0.3333333333333333, \"#9c179e\"], [0.4444444444444444, \"#bd3786\"], [0.5555555555555556, \"#d8576b\"], [0.6666666666666666, \"#ed7953\"], [0.7777777777777778, \"#fb9f3a\"], [0.8888888888888888, \"#fdca26\"], [1.0, \"#f0f921\"]], \"type\": \"histogram2d\"}], \"histogram2dcontour\": [{\"colorbar\": {\"outlinewidth\": 0, \"ticks\": \"\"}, \"colorscale\": [[0.0, \"#0d0887\"], [0.1111111111111111, \"#46039f\"], [0.2222222222222222, \"#7201a8\"], [0.3333333333333333, \"#9c179e\"], [0.4444444444444444, \"#bd3786\"], [0.5555555555555556, \"#d8576b\"], [0.6666666666666666, \"#ed7953\"], [0.7777777777777778, \"#fb9f3a\"], [0.8888888888888888, \"#fdca26\"], [1.0, \"#f0f921\"]], \"type\": \"histogram2dcontour\"}], \"mesh3d\": [{\"colorbar\": {\"outlinewidth\": 0, \"ticks\": \"\"}, \"type\": \"mesh3d\"}], \"parcoords\": [{\"line\": {\"colorbar\": {\"outlinewidth\": 0, \"ticks\": \"\"}}, \"type\": \"parcoords\"}], \"pie\": [{\"automargin\": true, \"type\": \"pie\"}], \"scatter\": [{\"marker\": {\"colorbar\": {\"outlinewidth\": 0, \"ticks\": \"\"}}, \"type\": \"scatter\"}], \"scatter3d\": [{\"line\": {\"colorbar\": {\"outlinewidth\": 0, \"ticks\": \"\"}}, \"marker\": {\"colorbar\": {\"outlinewidth\": 0, \"ticks\": \"\"}}, \"type\": \"scatter3d\"}], \"scattercarpet\": [{\"marker\": {\"colorbar\": {\"outlinewidth\": 0, \"ticks\": \"\"}}, \"type\": \"scattercarpet\"}], \"scattergeo\": [{\"marker\": {\"colorbar\": {\"outlinewidth\": 0, \"ticks\": \"\"}}, \"type\": \"scattergeo\"}], \"scattergl\": [{\"marker\": {\"colorbar\": {\"outlinewidth\": 0, \"ticks\": \"\"}}, \"type\": \"scattergl\"}], \"scattermapbox\": [{\"marker\": {\"colorbar\": {\"outlinewidth\": 0, \"ticks\": \"\"}}, \"type\": \"scattermapbox\"}], \"scatterpolar\": [{\"marker\": {\"colorbar\": {\"outlinewidth\": 0, \"ticks\": \"\"}}, \"type\": \"scatterpolar\"}], \"scatterpolargl\": [{\"marker\": {\"colorbar\": {\"outlinewidth\": 0, \"ticks\": \"\"}}, \"type\": \"scatterpolargl\"}], \"scatterternary\": [{\"marker\": {\"colorbar\": {\"outlinewidth\": 0, \"ticks\": \"\"}}, \"type\": \"scatterternary\"}], \"surface\": [{\"colorbar\": {\"outlinewidth\": 0, \"ticks\": \"\"}, \"colorscale\": [[0.0, \"#0d0887\"], [0.1111111111111111, \"#46039f\"], [0.2222222222222222, \"#7201a8\"], [0.3333333333333333, \"#9c179e\"], [0.4444444444444444, \"#bd3786\"], [0.5555555555555556, \"#d8576b\"], [0.6666666666666666, \"#ed7953\"], [0.7777777777777778, \"#fb9f3a\"], [0.8888888888888888, \"#fdca26\"], [1.0, \"#f0f921\"]], \"type\": \"surface\"}], \"table\": [{\"cells\": {\"fill\": {\"color\": \"#EBF0F8\"}, \"line\": {\"color\": \"white\"}}, \"header\": {\"fill\": {\"color\": \"#C8D4E3\"}, \"line\": {\"color\": \"white\"}}, \"type\": \"table\"}]}, \"layout\": {\"annotationdefaults\": {\"arrowcolor\": \"#2a3f5f\", \"arrowhead\": 0, \"arrowwidth\": 1}, \"autotypenumbers\": \"strict\", \"coloraxis\": {\"colorbar\": {\"outlinewidth\": 0, \"ticks\": \"\"}}, \"colorscale\": {\"diverging\": [[0, \"#8e0152\"], [0.1, \"#c51b7d\"], [0.2, \"#de77ae\"], [0.3, \"#f1b6da\"], [0.4, \"#fde0ef\"], [0.5, \"#f7f7f7\"], [0.6, \"#e6f5d0\"], [0.7, \"#b8e186\"], [0.8, \"#7fbc41\"], [0.9, \"#4d9221\"], [1, \"#276419\"]], \"sequential\": [[0.0, \"#0d0887\"], [0.1111111111111111, \"#46039f\"], [0.2222222222222222, \"#7201a8\"], [0.3333333333333333, \"#9c179e\"], [0.4444444444444444, \"#bd3786\"], [0.5555555555555556, \"#d8576b\"], [0.6666666666666666, \"#ed7953\"], [0.7777777777777778, \"#fb9f3a\"], [0.8888888888888888, \"#fdca26\"], [1.0, \"#f0f921\"]], \"sequentialminus\": [[0.0, \"#0d0887\"], [0.1111111111111111, \"#46039f\"], [0.2222222222222222, \"#7201a8\"], [0.3333333333333333, \"#9c179e\"], [0.4444444444444444, \"#bd3786\"], [0.5555555555555556, \"#d8576b\"], [0.6666666666666666, \"#ed7953\"], [0.7777777777777778, \"#fb9f3a\"], [0.8888888888888888, \"#fdca26\"], [1.0, \"#f0f921\"]]}, \"colorway\": [\"#636efa\", \"#EF553B\", \"#00cc96\", \"#ab63fa\", \"#FFA15A\", \"#19d3f3\", \"#FF6692\", \"#B6E880\", \"#FF97FF\", \"#FECB52\"], \"font\": {\"color\": \"#2a3f5f\"}, \"geo\": {\"bgcolor\": \"white\", \"lakecolor\": \"white\", \"landcolor\": \"#E5ECF6\", \"showlakes\": true, \"showland\": true, \"subunitcolor\": \"white\"}, \"hoverlabel\": {\"align\": \"left\"}, \"hovermode\": \"closest\", \"mapbox\": {\"style\": \"light\"}, \"paper_bgcolor\": \"white\", \"plot_bgcolor\": \"#E5ECF6\", \"polar\": {\"angularaxis\": {\"gridcolor\": \"white\", \"linecolor\": \"white\", \"ticks\": \"\"}, \"bgcolor\": \"#E5ECF6\", \"radialaxis\": {\"gridcolor\": \"white\", \"linecolor\": \"white\", \"ticks\": \"\"}}, \"scene\": {\"xaxis\": {\"backgroundcolor\": \"#E5ECF6\", \"gridcolor\": \"white\", \"gridwidth\": 2, \"linecolor\": \"white\", \"showbackground\": true, \"ticks\": \"\", \"zerolinecolor\": \"white\"}, \"yaxis\": {\"backgroundcolor\": \"#E5ECF6\", \"gridcolor\": \"white\", \"gridwidth\": 2, \"linecolor\": \"white\", \"showbackground\": true, \"ticks\": \"\", \"zerolinecolor\": \"white\"}, \"zaxis\": {\"backgroundcolor\": \"#E5ECF6\", \"gridcolor\": \"white\", \"gridwidth\": 2, \"linecolor\": \"white\", \"showbackground\": true, \"ticks\": \"\", \"zerolinecolor\": \"white\"}}, \"shapedefaults\": {\"line\": {\"color\": \"#2a3f5f\"}}, \"ternary\": {\"aaxis\": {\"gridcolor\": \"white\", \"linecolor\": \"white\", \"ticks\": \"\"}, \"baxis\": {\"gridcolor\": \"white\", \"linecolor\": \"white\", \"ticks\": \"\"}, \"bgcolor\": \"#E5ECF6\", \"caxis\": {\"gridcolor\": \"white\", \"linecolor\": \"white\", \"ticks\": \"\"}}, \"title\": {\"x\": 0.05}, \"xaxis\": {\"automargin\": true, \"gridcolor\": \"white\", \"linecolor\": \"white\", \"ticks\": \"\", \"title\": {\"standoff\": 15}, \"zerolinecolor\": \"white\", \"zerolinewidth\": 2}, \"yaxis\": {\"automargin\": true, \"gridcolor\": \"white\", \"linecolor\": \"white\", \"ticks\": \"\", \"title\": {\"standoff\": 15}, \"zerolinecolor\": \"white\", \"zerolinewidth\": 2}}}},                        {\"responsive\": true}                    ).then(function(){\n",
       "                            \n",
       "var gd = document.getElementById('cb267e64-1e20-408b-bd5c-86400fad2c69');\n",
       "var x = new MutationObserver(function (mutations, observer) {{\n",
       "        var display = window.getComputedStyle(gd).display;\n",
       "        if (!display || display === 'none') {{\n",
       "            console.log([gd, 'removed!']);\n",
       "            Plotly.purge(gd);\n",
       "            observer.disconnect();\n",
       "        }}\n",
       "}});\n",
       "\n",
       "// Listen for the removal of the full notebook cells\n",
       "var notebookContainer = gd.closest('#notebook-container');\n",
       "if (notebookContainer) {{\n",
       "    x.observe(notebookContainer, {childList: true});\n",
       "}}\n",
       "\n",
       "// Listen for the clearing of the current output cell\n",
       "var outputEl = gd.closest('.output');\n",
       "if (outputEl) {{\n",
       "    x.observe(outputEl, {childList: true});\n",
       "}}\n",
       "\n",
       "                        })                };                });            </script>        </div>"
      ]
     },
     "metadata": {},
     "output_type": "display_data"
    }
   ],
   "source": [
    "ax= px.treemap(df_movie_lan,path=[\"Languages\"])\n",
    "ax.show()"
   ]
  },
  {
   "cell_type": "markdown",
   "id": "funny-summit",
   "metadata": {
    "papermill": {
     "duration": 0.091081,
     "end_time": "2021-06-05T06:17:33.911095",
     "exception": false,
     "start_time": "2021-06-05T06:17:33.820014",
     "status": "completed"
    },
    "tags": []
   },
   "source": [
    "-------------------------"
   ]
  },
  {
   "cell_type": "markdown",
   "id": "subtle-amateur",
   "metadata": {
    "papermill": {
     "duration": 0.092195,
     "end_time": "2021-06-05T06:17:34.095496",
     "exception": false,
     "start_time": "2021-06-05T06:17:34.003301",
     "status": "completed"
    },
    "tags": []
   },
   "source": [
    "# 2.5 Best Hidden Gems 🤠💎"
   ]
  },
  {
   "cell_type": "markdown",
   "id": "basic-coverage",
   "metadata": {
    "papermill": {
     "duration": 0.091141,
     "end_time": "2021-06-05T06:17:34.279258",
     "exception": false,
     "start_time": "2021-06-05T06:17:34.188117",
     "status": "completed"
    },
    "tags": []
   },
   "source": [
    "> 📌 Note: Every time you finish watching a very fascinating TV series or movie, you are immediately looking for another similar or equally beautiful one to see. Keep it up for a while, until you run out of all the famous products and then what? How you do it? it is always difficult to understand if a film with few reviews really deserves but luckily for us in this dataset there is a feature called \"**Hidden Gem Score**\" which indicates a score that indicates **the films with fewer reviews but with very high ratings**.\n",
    "\n",
    "So let's go immediately to find out which are these hidden gems in our 2 big categories so that if you need a help when you don't know what to choose you can come back from here 😉"
   ]
  },
  {
   "cell_type": "markdown",
   "id": "expressed-february",
   "metadata": {
    "papermill": {
     "duration": 0.090914,
     "end_time": "2021-06-05T06:17:34.462224",
     "exception": false,
     "start_time": "2021-06-05T06:17:34.371310",
     "status": "completed"
    },
    "tags": []
   },
   "source": [
    "> Code: \n",
    "> - First of all I create a new series dataframe **dropping the missing values contained in the \"Hidden Gem Score\" column**.\n",
    "> - Secondly, I have sorted it by discending so the first values have the most high scores\n",
    "> - Thirdly, I have create a list with the first 10 elements\n",
    "> - And Finally I have plot the list"
   ]
  },
  {
   "cell_type": "markdown",
   "id": "annual-reviewer",
   "metadata": {
    "papermill": {
     "duration": 0.090999,
     "end_time": "2021-06-05T06:17:34.645090",
     "exception": false,
     "start_time": "2021-06-05T06:17:34.554091",
     "status": "completed"
    },
    "tags": []
   },
   "source": [
    "**For the Tv Series 📺:**"
   ]
  },
  {
   "cell_type": "code",
   "execution_count": 26,
   "id": "vanilla-fence",
   "metadata": {
    "execution": {
     "iopub.execute_input": "2021-06-05T06:17:34.836359Z",
     "iopub.status.busy": "2021-06-05T06:17:34.834012Z",
     "iopub.status.idle": "2021-06-05T06:17:34.843033Z",
     "shell.execute_reply": "2021-06-05T06:17:34.842580Z",
     "shell.execute_reply.started": "2021-06-05T05:35:38.920591Z"
    },
    "papermill": {
     "duration": 0.107142,
     "end_time": "2021-06-05T06:17:34.843156",
     "exception": false,
     "start_time": "2021-06-05T06:17:34.736014",
     "status": "completed"
    },
    "tags": []
   },
   "outputs": [
    {
     "name": "stdout",
     "output_type": "stream",
     "text": [
      "The 10 Best Hidden Gems on Tv Series are:\n",
      " 0                 Flavours of Romania\n",
      "1                 A Lion in the House\n",
      "2                            Im Sorry\n",
      "3                    Regiment Diaries\n",
      "4                        Numberblocks\n",
      "5                            Stranger\n",
      "6                        The Lost Art\n",
      "7                          Doble Kara\n",
      "8                            Kopitiam\n",
      "9    Aunty Donnas Big Ol House of Fun\n",
      "Name: Title, dtype: object\n"
     ]
    }
   ],
   "source": [
    "df_series_hdg = df_series.dropna(subset=['Hidden Gem Score'])\n",
    "df_series_hdg = df_series_hdg.sort_values(by = 'Hidden Gem Score', ascending = False)\n",
    "top_s_10_list = df_series_hdg[:10]\n",
    "top_s_10_list.reset_index(drop=True, inplace=True)\n",
    "print('The 10 Best Hidden Gems on Tv Series are:\\n',top_s_10_list['Title'])"
   ]
  },
  {
   "cell_type": "markdown",
   "id": "dated-ecuador",
   "metadata": {
    "papermill": {
     "duration": 0.091852,
     "end_time": "2021-06-05T06:17:35.026089",
     "exception": false,
     "start_time": "2021-06-05T06:17:34.934237",
     "status": "completed"
    },
    "tags": []
   },
   "source": [
    "**For the movie 📽‍️:**"
   ]
  },
  {
   "cell_type": "code",
   "execution_count": 27,
   "id": "upset-addition",
   "metadata": {
    "execution": {
     "iopub.execute_input": "2021-06-05T06:17:35.254914Z",
     "iopub.status.busy": "2021-06-05T06:17:35.253899Z",
     "iopub.status.idle": "2021-06-05T06:17:35.268100Z",
     "shell.execute_reply": "2021-06-05T06:17:35.267649Z",
     "shell.execute_reply.started": "2021-06-05T05:35:38.939557Z"
    },
    "papermill": {
     "duration": 0.147108,
     "end_time": "2021-06-05T06:17:35.268235",
     "exception": false,
     "start_time": "2021-06-05T06:17:35.121127",
     "status": "completed"
    },
    "tags": []
   },
   "outputs": [
    {
     "name": "stdout",
     "output_type": "stream",
     "text": [
      "The 10 Best Hidden Gems in Movies are:\n",
      " 0                             No Festival\n",
      "1                         The Dream House\n",
      "2                           Horsin Around\n",
      "3                              Conspiracy\n",
      "4                              Green Gold\n",
      "5                                One Girl\n",
      "6                        The Last Animals\n",
      "7                         The Consuls Son\n",
      "8                          Bye Bye London\n",
      "9    Invisible Essence: The Little Prince\n",
      "Name: Title, dtype: object\n"
     ]
    }
   ],
   "source": [
    "df_movie_hdg = df_movie.dropna(subset=['Hidden Gem Score'])\n",
    "df_movie_hdg = df_movie_hdg.sort_values(by = 'Hidden Gem Score', ascending = False)\n",
    "top_m_10_list = df_movie_hdg[:10]\n",
    "top_m_10_list.reset_index(drop=True, inplace=True)\n",
    "print('The 10 Best Hidden Gems in Movies are:\\n',top_m_10_list['Title'])"
   ]
  },
  {
   "cell_type": "markdown",
   "id": "constant-tattoo",
   "metadata": {
    "papermill": {
     "duration": 0.090879,
     "end_time": "2021-06-05T06:17:35.451609",
     "exception": false,
     "start_time": "2021-06-05T06:17:35.360730",
     "status": "completed"
    },
    "tags": []
   },
   "source": [
    "--------------------"
   ]
  },
  {
   "cell_type": "markdown",
   "id": "reliable-cabin",
   "metadata": {
    "papermill": {
     "duration": 0.090962,
     "end_time": "2021-06-05T06:17:35.633703",
     "exception": false,
     "start_time": "2021-06-05T06:17:35.542741",
     "status": "completed"
    },
    "tags": []
   },
   "source": [
    "# 2.6 Countries 🌍 🗺"
   ]
  },
  {
   "cell_type": "markdown",
   "id": "determined-programming",
   "metadata": {
    "papermill": {
     "duration": 0.091092,
     "end_time": "2021-06-05T06:17:35.816044",
     "exception": false,
     "start_time": "2021-06-05T06:17:35.724952",
     "status": "completed"
    },
    "tags": []
   },
   "source": [
    "> 📌 Note: As we said with regard to languages, it also applies to countries as there are **[195](https://www.worldometers.info/geography/how-many-countries-are-there-in-the-world/) countries around the world**. But how many of them have the opportunity to produce products such as films or TV series? Which are the most productive? And which countries have the most movies or TV series available on Netflix?\n",
    "\n",
    "Let's go to discover it"
   ]
  },
  {
   "cell_type": "markdown",
   "id": "regional-oxygen",
   "metadata": {
    "papermill": {
     "duration": 0.090962,
     "end_time": "2021-06-05T06:17:35.998048",
     "exception": false,
     "start_time": "2021-06-05T06:17:35.907086",
     "status": "completed"
    },
    "tags": []
   },
   "source": [
    "**In the Series Universe 📺...**"
   ]
  },
  {
   "cell_type": "markdown",
   "id": "formed-natural",
   "metadata": {
    "papermill": {
     "duration": 0.114152,
     "end_time": "2021-06-05T06:17:36.210154",
     "exception": false,
     "start_time": "2021-06-05T06:17:36.096002",
     "status": "completed"
    },
    "tags": []
   },
   "source": [
    "> Code:\n",
    "\n",
    "> - First of all I create a new series dataframe **dropping the missing values contained in the \"Country Availability\" column**."
   ]
  },
  {
   "cell_type": "code",
   "execution_count": 28,
   "id": "sought-tribune",
   "metadata": {
    "execution": {
     "iopub.execute_input": "2021-06-05T06:17:36.404023Z",
     "iopub.status.busy": "2021-06-05T06:17:36.402149Z",
     "iopub.status.idle": "2021-06-05T06:17:36.407059Z",
     "shell.execute_reply": "2021-06-05T06:17:36.406591Z",
     "shell.execute_reply.started": "2021-06-05T05:35:38.961187Z"
    },
    "papermill": {
     "duration": 0.104547,
     "end_time": "2021-06-05T06:17:36.407189",
     "exception": false,
     "start_time": "2021-06-05T06:17:36.302642",
     "status": "completed"
    },
    "tags": []
   },
   "outputs": [],
   "source": [
    "df_series_ctr = df_series.dropna(subset=['Country Availability'])"
   ]
  },
  {
   "cell_type": "markdown",
   "id": "competitive-default",
   "metadata": {
    "papermill": {
     "duration": 0.091257,
     "end_time": "2021-06-05T06:17:36.589734",
     "exception": false,
     "start_time": "2021-06-05T06:17:36.498477",
     "status": "completed"
    },
    "tags": []
   },
   "source": [
    "> - Secondly **I create a list** that contains all the genres in the column and their quantity. So **I create a new dataframe** with this datas."
   ]
  },
  {
   "cell_type": "code",
   "execution_count": 29,
   "id": "cultural-jamaica",
   "metadata": {
    "execution": {
     "iopub.execute_input": "2021-06-05T06:17:36.787595Z",
     "iopub.status.busy": "2021-06-05T06:17:36.786881Z",
     "iopub.status.idle": "2021-06-05T06:17:36.790721Z",
     "shell.execute_reply": "2021-06-05T06:17:36.790137Z",
     "shell.execute_reply.started": "2021-06-05T05:35:38.972616Z"
    },
    "papermill": {
     "duration": 0.109831,
     "end_time": "2021-06-05T06:17:36.790857",
     "exception": false,
     "start_time": "2021-06-05T06:17:36.681026",
     "status": "completed"
    },
    "tags": []
   },
   "outputs": [],
   "source": [
    "series_ctr_list = df_series_ctr['Country Availability'].str.split(', ') #split the list into names\n",
    "s_ctr_list = {} #create an empty list\n",
    "for countries in series_ctr_list: # for any countries in series_ctr_list\n",
    "    for country in countries: # for any country in countries\n",
    "        if (country in s_ctr_list): #if this country is already present in the s_ctr_list\n",
    "            s_ctr_list[country]+=1 # increase his value\n",
    "        else:  # else\n",
    "            s_ctr_list[country]=1 # Create his index in the list\n",
    "s_ctr_df = pd.DataFrame(s_ctr_list.values(),index = s_ctr_list.keys(),\n",
    "                        columns = {'Counts of Country Availability'}) #Create a s_ctr_df\n",
    "s_ctr_df.sort_values(by = 'Counts of Country Availability',ascending = False,inplace = True) #Sort the dataframe in ascending order\n",
    "top_10_s_ctr = s_ctr_df[0:10] "
   ]
  },
  {
   "cell_type": "markdown",
   "id": "israeli-malawi",
   "metadata": {
    "papermill": {
     "duration": 0.090932,
     "end_time": "2021-06-05T06:17:36.973305",
     "exception": false,
     "start_time": "2021-06-05T06:17:36.882373",
     "status": "completed"
    },
    "tags": []
   },
   "source": [
    "> - Thirdly, **I draw a bar chart** to better understand which countries have a larger availability about the Netflix Series."
   ]
  },
  {
   "cell_type": "code",
   "execution_count": 30,
   "id": "tamil-footwear",
   "metadata": {
    "execution": {
     "iopub.execute_input": "2021-06-05T06:17:37.180103Z",
     "iopub.status.busy": "2021-06-05T06:17:37.179485Z",
     "iopub.status.idle": "2021-06-05T06:17:37.183588Z",
     "shell.execute_reply": "2021-06-05T06:17:37.183957Z",
     "shell.execute_reply.started": "2021-06-05T05:35:38.992752Z"
    },
    "papermill": {
     "duration": 0.11819,
     "end_time": "2021-06-05T06:17:37.184128",
     "exception": false,
     "start_time": "2021-06-05T06:17:37.065938",
     "status": "completed"
    },
    "tags": []
   },
   "outputs": [
    {
     "data": {
      "text/html": [
       "<div>                            <div id=\"1df53c10-89ea-410d-b966-eb34295b1ad8\" class=\"plotly-graph-div\" style=\"height:525px; width:100%;\"></div>            <script type=\"text/javascript\">                require([\"plotly\"], function(Plotly) {                    window.PLOTLYENV=window.PLOTLYENV || {};                                    if (document.getElementById(\"1df53c10-89ea-410d-b966-eb34295b1ad8\")) {                    Plotly.newPlot(                        \"1df53c10-89ea-410d-b966-eb34295b1ad8\",                        [{\"marker\": {\"color\": [\"DarkRed\", \"FireBrick\", \"Red\", \"Crimson\", \"IndianRed\", \"slategray\", \"gray\", \"dimgrey\", \"DarkSlateGrey\", \"black\"]}, \"text\": [377.0, 111.0, 99.0, 91.0, 86.0, 49.0, 37.0, 37.0, 29.0, 28.0], \"textposition\": \"outside\", \"texttemplate\": \"%{text:.2s}\", \"type\": \"bar\", \"x\": [\"Japan\", \"United Kingdom\", \"Switzerland,Germany\", \"South Korea\", \"United States\", \"Thailand\", \"Singapore,Malaysia\", \"Belgium,Netherlands\", \"Sweden\", \"Australia\"], \"y\": [377, 111, 99, 91, 86, 49, 37, 37, 29, 28]}],                        {\"template\": {\"data\": {\"bar\": [{\"error_x\": {\"color\": \"#2a3f5f\"}, \"error_y\": {\"color\": \"#2a3f5f\"}, \"marker\": {\"line\": {\"color\": \"#E5ECF6\", \"width\": 0.5}}, \"type\": \"bar\"}], \"barpolar\": [{\"marker\": {\"line\": {\"color\": \"#E5ECF6\", \"width\": 0.5}}, \"type\": \"barpolar\"}], \"carpet\": [{\"aaxis\": {\"endlinecolor\": \"#2a3f5f\", \"gridcolor\": \"white\", \"linecolor\": \"white\", \"minorgridcolor\": \"white\", \"startlinecolor\": \"#2a3f5f\"}, \"baxis\": {\"endlinecolor\": \"#2a3f5f\", \"gridcolor\": \"white\", \"linecolor\": \"white\", \"minorgridcolor\": \"white\", \"startlinecolor\": \"#2a3f5f\"}, \"type\": \"carpet\"}], \"choropleth\": [{\"colorbar\": {\"outlinewidth\": 0, \"ticks\": \"\"}, \"type\": \"choropleth\"}], \"contour\": [{\"colorbar\": {\"outlinewidth\": 0, \"ticks\": \"\"}, \"colorscale\": [[0.0, \"#0d0887\"], [0.1111111111111111, \"#46039f\"], [0.2222222222222222, \"#7201a8\"], [0.3333333333333333, \"#9c179e\"], [0.4444444444444444, \"#bd3786\"], [0.5555555555555556, \"#d8576b\"], [0.6666666666666666, \"#ed7953\"], [0.7777777777777778, \"#fb9f3a\"], [0.8888888888888888, \"#fdca26\"], [1.0, \"#f0f921\"]], \"type\": \"contour\"}], \"contourcarpet\": [{\"colorbar\": {\"outlinewidth\": 0, \"ticks\": \"\"}, \"type\": \"contourcarpet\"}], \"heatmap\": [{\"colorbar\": {\"outlinewidth\": 0, \"ticks\": \"\"}, \"colorscale\": [[0.0, \"#0d0887\"], [0.1111111111111111, \"#46039f\"], [0.2222222222222222, \"#7201a8\"], [0.3333333333333333, \"#9c179e\"], [0.4444444444444444, \"#bd3786\"], [0.5555555555555556, \"#d8576b\"], [0.6666666666666666, \"#ed7953\"], [0.7777777777777778, \"#fb9f3a\"], [0.8888888888888888, \"#fdca26\"], [1.0, \"#f0f921\"]], \"type\": \"heatmap\"}], \"heatmapgl\": [{\"colorbar\": {\"outlinewidth\": 0, \"ticks\": \"\"}, \"colorscale\": [[0.0, \"#0d0887\"], [0.1111111111111111, \"#46039f\"], [0.2222222222222222, \"#7201a8\"], [0.3333333333333333, \"#9c179e\"], [0.4444444444444444, \"#bd3786\"], [0.5555555555555556, \"#d8576b\"], [0.6666666666666666, \"#ed7953\"], [0.7777777777777778, \"#fb9f3a\"], [0.8888888888888888, \"#fdca26\"], [1.0, \"#f0f921\"]], \"type\": \"heatmapgl\"}], \"histogram\": [{\"marker\": {\"colorbar\": {\"outlinewidth\": 0, \"ticks\": \"\"}}, \"type\": \"histogram\"}], \"histogram2d\": [{\"colorbar\": {\"outlinewidth\": 0, \"ticks\": \"\"}, \"colorscale\": [[0.0, \"#0d0887\"], [0.1111111111111111, \"#46039f\"], [0.2222222222222222, \"#7201a8\"], [0.3333333333333333, \"#9c179e\"], [0.4444444444444444, \"#bd3786\"], [0.5555555555555556, \"#d8576b\"], [0.6666666666666666, \"#ed7953\"], [0.7777777777777778, \"#fb9f3a\"], [0.8888888888888888, \"#fdca26\"], [1.0, \"#f0f921\"]], \"type\": \"histogram2d\"}], \"histogram2dcontour\": [{\"colorbar\": {\"outlinewidth\": 0, \"ticks\": \"\"}, \"colorscale\": [[0.0, \"#0d0887\"], [0.1111111111111111, \"#46039f\"], [0.2222222222222222, \"#7201a8\"], [0.3333333333333333, \"#9c179e\"], [0.4444444444444444, \"#bd3786\"], [0.5555555555555556, \"#d8576b\"], [0.6666666666666666, \"#ed7953\"], [0.7777777777777778, \"#fb9f3a\"], [0.8888888888888888, \"#fdca26\"], [1.0, \"#f0f921\"]], \"type\": \"histogram2dcontour\"}], \"mesh3d\": [{\"colorbar\": {\"outlinewidth\": 0, \"ticks\": \"\"}, \"type\": \"mesh3d\"}], \"parcoords\": [{\"line\": {\"colorbar\": {\"outlinewidth\": 0, \"ticks\": \"\"}}, \"type\": \"parcoords\"}], \"pie\": [{\"automargin\": true, \"type\": \"pie\"}], \"scatter\": [{\"marker\": {\"colorbar\": {\"outlinewidth\": 0, \"ticks\": \"\"}}, \"type\": \"scatter\"}], \"scatter3d\": [{\"line\": {\"colorbar\": {\"outlinewidth\": 0, \"ticks\": \"\"}}, \"marker\": {\"colorbar\": {\"outlinewidth\": 0, \"ticks\": \"\"}}, \"type\": \"scatter3d\"}], \"scattercarpet\": [{\"marker\": {\"colorbar\": {\"outlinewidth\": 0, \"ticks\": \"\"}}, \"type\": \"scattercarpet\"}], \"scattergeo\": [{\"marker\": {\"colorbar\": {\"outlinewidth\": 0, \"ticks\": \"\"}}, \"type\": \"scattergeo\"}], \"scattergl\": [{\"marker\": {\"colorbar\": {\"outlinewidth\": 0, \"ticks\": \"\"}}, \"type\": \"scattergl\"}], \"scattermapbox\": [{\"marker\": {\"colorbar\": {\"outlinewidth\": 0, \"ticks\": \"\"}}, \"type\": \"scattermapbox\"}], \"scatterpolar\": [{\"marker\": {\"colorbar\": {\"outlinewidth\": 0, \"ticks\": \"\"}}, \"type\": \"scatterpolar\"}], \"scatterpolargl\": [{\"marker\": {\"colorbar\": {\"outlinewidth\": 0, \"ticks\": \"\"}}, \"type\": \"scatterpolargl\"}], \"scatterternary\": [{\"marker\": {\"colorbar\": {\"outlinewidth\": 0, \"ticks\": \"\"}}, \"type\": \"scatterternary\"}], \"surface\": [{\"colorbar\": {\"outlinewidth\": 0, \"ticks\": \"\"}, \"colorscale\": [[0.0, \"#0d0887\"], [0.1111111111111111, \"#46039f\"], [0.2222222222222222, \"#7201a8\"], [0.3333333333333333, \"#9c179e\"], [0.4444444444444444, \"#bd3786\"], [0.5555555555555556, \"#d8576b\"], [0.6666666666666666, \"#ed7953\"], [0.7777777777777778, \"#fb9f3a\"], [0.8888888888888888, \"#fdca26\"], [1.0, \"#f0f921\"]], \"type\": \"surface\"}], \"table\": [{\"cells\": {\"fill\": {\"color\": \"#EBF0F8\"}, \"line\": {\"color\": \"white\"}}, \"header\": {\"fill\": {\"color\": \"#C8D4E3\"}, \"line\": {\"color\": \"white\"}}, \"type\": \"table\"}]}, \"layout\": {\"annotationdefaults\": {\"arrowcolor\": \"#2a3f5f\", \"arrowhead\": 0, \"arrowwidth\": 1}, \"autotypenumbers\": \"strict\", \"coloraxis\": {\"colorbar\": {\"outlinewidth\": 0, \"ticks\": \"\"}}, \"colorscale\": {\"diverging\": [[0, \"#8e0152\"], [0.1, \"#c51b7d\"], [0.2, \"#de77ae\"], [0.3, \"#f1b6da\"], [0.4, \"#fde0ef\"], [0.5, \"#f7f7f7\"], [0.6, \"#e6f5d0\"], [0.7, \"#b8e186\"], [0.8, \"#7fbc41\"], [0.9, \"#4d9221\"], [1, \"#276419\"]], \"sequential\": [[0.0, \"#0d0887\"], [0.1111111111111111, \"#46039f\"], [0.2222222222222222, \"#7201a8\"], [0.3333333333333333, \"#9c179e\"], [0.4444444444444444, \"#bd3786\"], [0.5555555555555556, \"#d8576b\"], [0.6666666666666666, \"#ed7953\"], [0.7777777777777778, \"#fb9f3a\"], [0.8888888888888888, \"#fdca26\"], [1.0, \"#f0f921\"]], \"sequentialminus\": [[0.0, \"#0d0887\"], [0.1111111111111111, \"#46039f\"], [0.2222222222222222, \"#7201a8\"], [0.3333333333333333, \"#9c179e\"], [0.4444444444444444, \"#bd3786\"], [0.5555555555555556, \"#d8576b\"], [0.6666666666666666, \"#ed7953\"], [0.7777777777777778, \"#fb9f3a\"], [0.8888888888888888, \"#fdca26\"], [1.0, \"#f0f921\"]]}, \"colorway\": [\"#636efa\", \"#EF553B\", \"#00cc96\", \"#ab63fa\", \"#FFA15A\", \"#19d3f3\", \"#FF6692\", \"#B6E880\", \"#FF97FF\", \"#FECB52\"], \"font\": {\"color\": \"#2a3f5f\"}, \"geo\": {\"bgcolor\": \"white\", \"lakecolor\": \"white\", \"landcolor\": \"#E5ECF6\", \"showlakes\": true, \"showland\": true, \"subunitcolor\": \"white\"}, \"hoverlabel\": {\"align\": \"left\"}, \"hovermode\": \"closest\", \"mapbox\": {\"style\": \"light\"}, \"paper_bgcolor\": \"white\", \"plot_bgcolor\": \"#E5ECF6\", \"polar\": {\"angularaxis\": {\"gridcolor\": \"white\", \"linecolor\": \"white\", \"ticks\": \"\"}, \"bgcolor\": \"#E5ECF6\", \"radialaxis\": {\"gridcolor\": \"white\", \"linecolor\": \"white\", \"ticks\": \"\"}}, \"scene\": {\"xaxis\": {\"backgroundcolor\": \"#E5ECF6\", \"gridcolor\": \"white\", \"gridwidth\": 2, \"linecolor\": \"white\", \"showbackground\": true, \"ticks\": \"\", \"zerolinecolor\": \"white\"}, \"yaxis\": {\"backgroundcolor\": \"#E5ECF6\", \"gridcolor\": \"white\", \"gridwidth\": 2, \"linecolor\": \"white\", \"showbackground\": true, \"ticks\": \"\", \"zerolinecolor\": \"white\"}, \"zaxis\": {\"backgroundcolor\": \"#E5ECF6\", \"gridcolor\": \"white\", \"gridwidth\": 2, \"linecolor\": \"white\", \"showbackground\": true, \"ticks\": \"\", \"zerolinecolor\": \"white\"}}, \"shapedefaults\": {\"line\": {\"color\": \"#2a3f5f\"}}, \"ternary\": {\"aaxis\": {\"gridcolor\": \"white\", \"linecolor\": \"white\", \"ticks\": \"\"}, \"baxis\": {\"gridcolor\": \"white\", \"linecolor\": \"white\", \"ticks\": \"\"}, \"bgcolor\": \"#E5ECF6\", \"caxis\": {\"gridcolor\": \"white\", \"linecolor\": \"white\", \"ticks\": \"\"}}, \"title\": {\"x\": 0.05}, \"xaxis\": {\"automargin\": true, \"gridcolor\": \"white\", \"linecolor\": \"white\", \"ticks\": \"\", \"title\": {\"standoff\": 15}, \"zerolinecolor\": \"white\", \"zerolinewidth\": 2}, \"yaxis\": {\"automargin\": true, \"gridcolor\": \"white\", \"linecolor\": \"white\", \"ticks\": \"\", \"title\": {\"standoff\": 15}, \"zerolinecolor\": \"white\", \"zerolinewidth\": 2}}}, \"title\": {\"text\": \"Which countries have a larger Series Availability?\"}, \"uniformtext\": {\"minsize\": 8, \"mode\": \"hide\"}, \"xaxis\": {\"title\": {\"font\": {\"size\": 14}, \"text\": \"Countries\"}}, \"yaxis\": {\"title\": {\"font\": {\"size\": 14}, \"text\": \"Quantity\"}}},                        {\"responsive\": true}                    ).then(function(){\n",
       "                            \n",
       "var gd = document.getElementById('1df53c10-89ea-410d-b966-eb34295b1ad8');\n",
       "var x = new MutationObserver(function (mutations, observer) {{\n",
       "        var display = window.getComputedStyle(gd).display;\n",
       "        if (!display || display === 'none') {{\n",
       "            console.log([gd, 'removed!']);\n",
       "            Plotly.purge(gd);\n",
       "            observer.disconnect();\n",
       "        }}\n",
       "}});\n",
       "\n",
       "// Listen for the removal of the full notebook cells\n",
       "var notebookContainer = gd.closest('#notebook-container');\n",
       "if (notebookContainer) {{\n",
       "    x.observe(notebookContainer, {childList: true});\n",
       "}}\n",
       "\n",
       "// Listen for the clearing of the current output cell\n",
       "var outputEl = gd.closest('.output');\n",
       "if (outputEl) {{\n",
       "    x.observe(outputEl, {childList: true});\n",
       "}}\n",
       "\n",
       "                        })                };                });            </script>        </div>"
      ]
     },
     "metadata": {},
     "output_type": "display_data"
    }
   ],
   "source": [
    "fig = go.Figure(data=[go.Bar(\n",
    "    x = top_10_s_ctr.index,\n",
    "    y = top_10_s_ctr['Counts of Country Availability'],\n",
    "    text = top_10_s_ctr['Counts of Country Availability'],\n",
    "    textposition='auto',\n",
    "    marker_color=colors_10 # marker color can be a single color value or an iterable\n",
    ")])\n",
    "fig.update_traces(texttemplate='%{text:.2s}', textposition='outside')\n",
    "fig.update_layout(title_text= 'Which countries have a larger Series Availability?',\n",
    "                  uniformtext_minsize=8, uniformtext_mode='hide',\n",
    "                  yaxis=dict(\n",
    "                  title='Quantity',\n",
    "                  titlefont_size=14),\n",
    "                  xaxis=dict(\n",
    "                  title='Countries',\n",
    "                  titlefont_size=14))"
   ]
  },
  {
   "cell_type": "markdown",
   "id": "perceived-nevada",
   "metadata": {
    "papermill": {
     "duration": 0.092025,
     "end_time": "2021-06-05T06:17:37.369212",
     "exception": false,
     "start_time": "2021-06-05T06:17:37.277187",
     "status": "completed"
    },
    "tags": []
   },
   "source": [
    "**And in the Movie world 📽‍️**"
   ]
  },
  {
   "cell_type": "markdown",
   "id": "continued-southeast",
   "metadata": {
    "papermill": {
     "duration": 0.092633,
     "end_time": "2021-06-05T06:17:37.554436",
     "exception": false,
     "start_time": "2021-06-05T06:17:37.461803",
     "status": "completed"
    },
    "tags": []
   },
   "source": [
    "> Code:\n",
    "\n",
    "> - First of all I create a new series dataframe **dropping the missing values contained in the \"Country Availability\" column**."
   ]
  },
  {
   "cell_type": "code",
   "execution_count": 31,
   "id": "billion-director",
   "metadata": {
    "execution": {
     "iopub.execute_input": "2021-06-05T06:17:37.739873Z",
     "iopub.status.busy": "2021-06-05T06:17:37.739313Z",
     "iopub.status.idle": "2021-06-05T06:17:37.749266Z",
     "shell.execute_reply": "2021-06-05T06:17:37.749723Z",
     "shell.execute_reply.started": "2021-06-05T05:35:39.023084Z"
    },
    "papermill": {
     "duration": 0.103998,
     "end_time": "2021-06-05T06:17:37.749905",
     "exception": false,
     "start_time": "2021-06-05T06:17:37.645907",
     "status": "completed"
    },
    "tags": []
   },
   "outputs": [],
   "source": [
    "df_movie_ctr = df_movie.dropna(subset=['Country Availability'])"
   ]
  },
  {
   "cell_type": "markdown",
   "id": "selective-eleven",
   "metadata": {
    "papermill": {
     "duration": 0.093371,
     "end_time": "2021-06-05T06:17:37.935739",
     "exception": false,
     "start_time": "2021-06-05T06:17:37.842368",
     "status": "completed"
    },
    "tags": []
   },
   "source": [
    "> - Secondly **I create a list** that contains all the genres in the column and their quantity. So **I create a new dataframe** with this datas."
   ]
  },
  {
   "cell_type": "code",
   "execution_count": 32,
   "id": "greater-drain",
   "metadata": {
    "execution": {
     "iopub.execute_input": "2021-06-05T06:17:38.123279Z",
     "iopub.status.busy": "2021-06-05T06:17:38.122700Z",
     "iopub.status.idle": "2021-06-05T06:17:38.147713Z",
     "shell.execute_reply": "2021-06-05T06:17:38.147139Z",
     "shell.execute_reply.started": "2021-06-05T05:35:39.041097Z"
    },
    "papermill": {
     "duration": 0.120465,
     "end_time": "2021-06-05T06:17:38.147848",
     "exception": false,
     "start_time": "2021-06-05T06:17:38.027383",
     "status": "completed"
    },
    "tags": []
   },
   "outputs": [],
   "source": [
    "movie_ctr_list = df_movie_ctr['Country Availability'].str.split(', ') #split the list into names\n",
    "m_ctr_list = {} #create an empty list\n",
    "for countries in movie_ctr_list: # for any countries in movie_ctr_list\n",
    "    for country in countries: # for any country in countries\n",
    "        if (country in m_ctr_list): #if this country is already present in the m_ctr_list\n",
    "            m_ctr_list[country]+=1 # increase his value\n",
    "        else:  # else\n",
    "            m_ctr_list[country]=1 # Create his index in the list\n",
    "m_ctr_df = pd.DataFrame(m_ctr_list.values(),index = m_ctr_list.keys(),\n",
    "                        columns = {'Counts of Country Availability'}) #Create a m_ctr_df\n",
    "m_ctr_df.sort_values(by = 'Counts of Country Availability',ascending = False,inplace = True) #Sort the dataframe in ascending order\n",
    "top_10_m_ctr = m_ctr_df[0:10] "
   ]
  },
  {
   "cell_type": "markdown",
   "id": "funky-astrology",
   "metadata": {
    "papermill": {
     "duration": 0.09181,
     "end_time": "2021-06-05T06:17:38.332617",
     "exception": false,
     "start_time": "2021-06-05T06:17:38.240807",
     "status": "completed"
    },
    "tags": []
   },
   "source": [
    "> - Thirdly, **I draw a bar chart** to better understand which countries have a larger availability about the Netflix Movies."
   ]
  },
  {
   "cell_type": "code",
   "execution_count": 33,
   "id": "continuous-karma",
   "metadata": {
    "execution": {
     "iopub.execute_input": "2021-06-05T06:17:38.523717Z",
     "iopub.status.busy": "2021-06-05T06:17:38.522872Z",
     "iopub.status.idle": "2021-06-05T06:17:38.542766Z",
     "shell.execute_reply": "2021-06-05T06:17:38.542198Z",
     "shell.execute_reply.started": "2021-06-05T05:35:39.074114Z"
    },
    "papermill": {
     "duration": 0.115055,
     "end_time": "2021-06-05T06:17:38.542897",
     "exception": false,
     "start_time": "2021-06-05T06:17:38.427842",
     "status": "completed"
    },
    "tags": []
   },
   "outputs": [
    {
     "data": {
      "text/html": [
       "<div>                            <div id=\"d8fad9fb-b0ac-4cb2-994a-c65548db3265\" class=\"plotly-graph-div\" style=\"height:525px; width:100%;\"></div>            <script type=\"text/javascript\">                require([\"plotly\"], function(Plotly) {                    window.PLOTLYENV=window.PLOTLYENV || {};                                    if (document.getElementById(\"d8fad9fb-b0ac-4cb2-994a-c65548db3265\")) {                    Plotly.newPlot(                        \"d8fad9fb-b0ac-4cb2-994a-c65548db3265\",                        [{\"marker\": {\"color\": [\"DarkRed\", \"FireBrick\", \"Red\", \"Crimson\", \"IndianRed\", \"slategray\", \"gray\", \"dimgrey\", \"DarkSlateGrey\", \"black\"]}, \"text\": [962.0, 624.0, 260.0, 229.0, 225.0, 219.0, 216.0, 161.0, 149.0, 137.0], \"textposition\": \"outside\", \"texttemplate\": \"%{text:.2s}\", \"type\": \"bar\", \"x\": [\"Japan\", \"South Korea\", \"Poland\", \"United Kingdom\", \"Italy\", \"United States\", \"Switzerland,Germany\", \"Czech Republic,Slovakia\", \"Canada\", \"Russia\"], \"y\": [962, 624, 260, 229, 225, 219, 216, 161, 149, 137]}],                        {\"template\": {\"data\": {\"bar\": [{\"error_x\": {\"color\": \"#2a3f5f\"}, \"error_y\": {\"color\": \"#2a3f5f\"}, \"marker\": {\"line\": {\"color\": \"#E5ECF6\", \"width\": 0.5}}, \"type\": \"bar\"}], \"barpolar\": [{\"marker\": {\"line\": {\"color\": \"#E5ECF6\", \"width\": 0.5}}, \"type\": \"barpolar\"}], \"carpet\": [{\"aaxis\": {\"endlinecolor\": \"#2a3f5f\", \"gridcolor\": \"white\", \"linecolor\": \"white\", \"minorgridcolor\": \"white\", \"startlinecolor\": \"#2a3f5f\"}, \"baxis\": {\"endlinecolor\": \"#2a3f5f\", \"gridcolor\": \"white\", \"linecolor\": \"white\", \"minorgridcolor\": \"white\", \"startlinecolor\": \"#2a3f5f\"}, \"type\": \"carpet\"}], \"choropleth\": [{\"colorbar\": {\"outlinewidth\": 0, \"ticks\": \"\"}, \"type\": \"choropleth\"}], \"contour\": [{\"colorbar\": {\"outlinewidth\": 0, \"ticks\": \"\"}, \"colorscale\": [[0.0, \"#0d0887\"], [0.1111111111111111, \"#46039f\"], [0.2222222222222222, \"#7201a8\"], [0.3333333333333333, \"#9c179e\"], [0.4444444444444444, \"#bd3786\"], [0.5555555555555556, \"#d8576b\"], [0.6666666666666666, \"#ed7953\"], [0.7777777777777778, \"#fb9f3a\"], [0.8888888888888888, \"#fdca26\"], [1.0, \"#f0f921\"]], \"type\": \"contour\"}], \"contourcarpet\": [{\"colorbar\": {\"outlinewidth\": 0, \"ticks\": \"\"}, \"type\": \"contourcarpet\"}], \"heatmap\": [{\"colorbar\": {\"outlinewidth\": 0, \"ticks\": \"\"}, \"colorscale\": [[0.0, \"#0d0887\"], [0.1111111111111111, \"#46039f\"], [0.2222222222222222, \"#7201a8\"], [0.3333333333333333, \"#9c179e\"], [0.4444444444444444, \"#bd3786\"], [0.5555555555555556, \"#d8576b\"], [0.6666666666666666, \"#ed7953\"], [0.7777777777777778, \"#fb9f3a\"], [0.8888888888888888, \"#fdca26\"], [1.0, \"#f0f921\"]], \"type\": \"heatmap\"}], \"heatmapgl\": [{\"colorbar\": {\"outlinewidth\": 0, \"ticks\": \"\"}, \"colorscale\": [[0.0, \"#0d0887\"], [0.1111111111111111, \"#46039f\"], [0.2222222222222222, \"#7201a8\"], [0.3333333333333333, \"#9c179e\"], [0.4444444444444444, \"#bd3786\"], [0.5555555555555556, \"#d8576b\"], [0.6666666666666666, \"#ed7953\"], [0.7777777777777778, \"#fb9f3a\"], [0.8888888888888888, \"#fdca26\"], [1.0, \"#f0f921\"]], \"type\": \"heatmapgl\"}], \"histogram\": [{\"marker\": {\"colorbar\": {\"outlinewidth\": 0, \"ticks\": \"\"}}, \"type\": \"histogram\"}], \"histogram2d\": [{\"colorbar\": {\"outlinewidth\": 0, \"ticks\": \"\"}, \"colorscale\": [[0.0, \"#0d0887\"], [0.1111111111111111, \"#46039f\"], [0.2222222222222222, \"#7201a8\"], [0.3333333333333333, \"#9c179e\"], [0.4444444444444444, \"#bd3786\"], [0.5555555555555556, \"#d8576b\"], [0.6666666666666666, \"#ed7953\"], [0.7777777777777778, \"#fb9f3a\"], [0.8888888888888888, \"#fdca26\"], [1.0, \"#f0f921\"]], \"type\": \"histogram2d\"}], \"histogram2dcontour\": [{\"colorbar\": {\"outlinewidth\": 0, \"ticks\": \"\"}, \"colorscale\": [[0.0, \"#0d0887\"], [0.1111111111111111, \"#46039f\"], [0.2222222222222222, \"#7201a8\"], [0.3333333333333333, \"#9c179e\"], [0.4444444444444444, \"#bd3786\"], [0.5555555555555556, \"#d8576b\"], [0.6666666666666666, \"#ed7953\"], [0.7777777777777778, \"#fb9f3a\"], [0.8888888888888888, \"#fdca26\"], [1.0, \"#f0f921\"]], \"type\": \"histogram2dcontour\"}], \"mesh3d\": [{\"colorbar\": {\"outlinewidth\": 0, \"ticks\": \"\"}, \"type\": \"mesh3d\"}], \"parcoords\": [{\"line\": {\"colorbar\": {\"outlinewidth\": 0, \"ticks\": \"\"}}, \"type\": \"parcoords\"}], \"pie\": [{\"automargin\": true, \"type\": \"pie\"}], \"scatter\": [{\"marker\": {\"colorbar\": {\"outlinewidth\": 0, \"ticks\": \"\"}}, \"type\": \"scatter\"}], \"scatter3d\": [{\"line\": {\"colorbar\": {\"outlinewidth\": 0, \"ticks\": \"\"}}, \"marker\": {\"colorbar\": {\"outlinewidth\": 0, \"ticks\": \"\"}}, \"type\": \"scatter3d\"}], \"scattercarpet\": [{\"marker\": {\"colorbar\": {\"outlinewidth\": 0, \"ticks\": \"\"}}, \"type\": \"scattercarpet\"}], \"scattergeo\": [{\"marker\": {\"colorbar\": {\"outlinewidth\": 0, \"ticks\": \"\"}}, \"type\": \"scattergeo\"}], \"scattergl\": [{\"marker\": {\"colorbar\": {\"outlinewidth\": 0, \"ticks\": \"\"}}, \"type\": \"scattergl\"}], \"scattermapbox\": [{\"marker\": {\"colorbar\": {\"outlinewidth\": 0, \"ticks\": \"\"}}, \"type\": \"scattermapbox\"}], \"scatterpolar\": [{\"marker\": {\"colorbar\": {\"outlinewidth\": 0, \"ticks\": \"\"}}, \"type\": \"scatterpolar\"}], \"scatterpolargl\": [{\"marker\": {\"colorbar\": {\"outlinewidth\": 0, \"ticks\": \"\"}}, \"type\": \"scatterpolargl\"}], \"scatterternary\": [{\"marker\": {\"colorbar\": {\"outlinewidth\": 0, \"ticks\": \"\"}}, \"type\": \"scatterternary\"}], \"surface\": [{\"colorbar\": {\"outlinewidth\": 0, \"ticks\": \"\"}, \"colorscale\": [[0.0, \"#0d0887\"], [0.1111111111111111, \"#46039f\"], [0.2222222222222222, \"#7201a8\"], [0.3333333333333333, \"#9c179e\"], [0.4444444444444444, \"#bd3786\"], [0.5555555555555556, \"#d8576b\"], [0.6666666666666666, \"#ed7953\"], [0.7777777777777778, \"#fb9f3a\"], [0.8888888888888888, \"#fdca26\"], [1.0, \"#f0f921\"]], \"type\": \"surface\"}], \"table\": [{\"cells\": {\"fill\": {\"color\": \"#EBF0F8\"}, \"line\": {\"color\": \"white\"}}, \"header\": {\"fill\": {\"color\": \"#C8D4E3\"}, \"line\": {\"color\": \"white\"}}, \"type\": \"table\"}]}, \"layout\": {\"annotationdefaults\": {\"arrowcolor\": \"#2a3f5f\", \"arrowhead\": 0, \"arrowwidth\": 1}, \"autotypenumbers\": \"strict\", \"coloraxis\": {\"colorbar\": {\"outlinewidth\": 0, \"ticks\": \"\"}}, \"colorscale\": {\"diverging\": [[0, \"#8e0152\"], [0.1, \"#c51b7d\"], [0.2, \"#de77ae\"], [0.3, \"#f1b6da\"], [0.4, \"#fde0ef\"], [0.5, \"#f7f7f7\"], [0.6, \"#e6f5d0\"], [0.7, \"#b8e186\"], [0.8, \"#7fbc41\"], [0.9, \"#4d9221\"], [1, \"#276419\"]], \"sequential\": [[0.0, \"#0d0887\"], [0.1111111111111111, \"#46039f\"], [0.2222222222222222, \"#7201a8\"], [0.3333333333333333, \"#9c179e\"], [0.4444444444444444, \"#bd3786\"], [0.5555555555555556, \"#d8576b\"], [0.6666666666666666, \"#ed7953\"], [0.7777777777777778, \"#fb9f3a\"], [0.8888888888888888, \"#fdca26\"], [1.0, \"#f0f921\"]], \"sequentialminus\": [[0.0, \"#0d0887\"], [0.1111111111111111, \"#46039f\"], [0.2222222222222222, \"#7201a8\"], [0.3333333333333333, \"#9c179e\"], [0.4444444444444444, \"#bd3786\"], [0.5555555555555556, \"#d8576b\"], [0.6666666666666666, \"#ed7953\"], [0.7777777777777778, \"#fb9f3a\"], [0.8888888888888888, \"#fdca26\"], [1.0, \"#f0f921\"]]}, \"colorway\": [\"#636efa\", \"#EF553B\", \"#00cc96\", \"#ab63fa\", \"#FFA15A\", \"#19d3f3\", \"#FF6692\", \"#B6E880\", \"#FF97FF\", \"#FECB52\"], \"font\": {\"color\": \"#2a3f5f\"}, \"geo\": {\"bgcolor\": \"white\", \"lakecolor\": \"white\", \"landcolor\": \"#E5ECF6\", \"showlakes\": true, \"showland\": true, \"subunitcolor\": \"white\"}, \"hoverlabel\": {\"align\": \"left\"}, \"hovermode\": \"closest\", \"mapbox\": {\"style\": \"light\"}, \"paper_bgcolor\": \"white\", \"plot_bgcolor\": \"#E5ECF6\", \"polar\": {\"angularaxis\": {\"gridcolor\": \"white\", \"linecolor\": \"white\", \"ticks\": \"\"}, \"bgcolor\": \"#E5ECF6\", \"radialaxis\": {\"gridcolor\": \"white\", \"linecolor\": \"white\", \"ticks\": \"\"}}, \"scene\": {\"xaxis\": {\"backgroundcolor\": \"#E5ECF6\", \"gridcolor\": \"white\", \"gridwidth\": 2, \"linecolor\": \"white\", \"showbackground\": true, \"ticks\": \"\", \"zerolinecolor\": \"white\"}, \"yaxis\": {\"backgroundcolor\": \"#E5ECF6\", \"gridcolor\": \"white\", \"gridwidth\": 2, \"linecolor\": \"white\", \"showbackground\": true, \"ticks\": \"\", \"zerolinecolor\": \"white\"}, \"zaxis\": {\"backgroundcolor\": \"#E5ECF6\", \"gridcolor\": \"white\", \"gridwidth\": 2, \"linecolor\": \"white\", \"showbackground\": true, \"ticks\": \"\", \"zerolinecolor\": \"white\"}}, \"shapedefaults\": {\"line\": {\"color\": \"#2a3f5f\"}}, \"ternary\": {\"aaxis\": {\"gridcolor\": \"white\", \"linecolor\": \"white\", \"ticks\": \"\"}, \"baxis\": {\"gridcolor\": \"white\", \"linecolor\": \"white\", \"ticks\": \"\"}, \"bgcolor\": \"#E5ECF6\", \"caxis\": {\"gridcolor\": \"white\", \"linecolor\": \"white\", \"ticks\": \"\"}}, \"title\": {\"x\": 0.05}, \"xaxis\": {\"automargin\": true, \"gridcolor\": \"white\", \"linecolor\": \"white\", \"ticks\": \"\", \"title\": {\"standoff\": 15}, \"zerolinecolor\": \"white\", \"zerolinewidth\": 2}, \"yaxis\": {\"automargin\": true, \"gridcolor\": \"white\", \"linecolor\": \"white\", \"ticks\": \"\", \"title\": {\"standoff\": 15}, \"zerolinecolor\": \"white\", \"zerolinewidth\": 2}}}, \"title\": {\"text\": \"Which countries have a larger Movie Availability?\"}, \"uniformtext\": {\"minsize\": 8, \"mode\": \"hide\"}, \"xaxis\": {\"title\": {\"font\": {\"size\": 14}, \"text\": \"Countries\"}}, \"yaxis\": {\"title\": {\"font\": {\"size\": 14}, \"text\": \"Quantity\"}}},                        {\"responsive\": true}                    ).then(function(){\n",
       "                            \n",
       "var gd = document.getElementById('d8fad9fb-b0ac-4cb2-994a-c65548db3265');\n",
       "var x = new MutationObserver(function (mutations, observer) {{\n",
       "        var display = window.getComputedStyle(gd).display;\n",
       "        if (!display || display === 'none') {{\n",
       "            console.log([gd, 'removed!']);\n",
       "            Plotly.purge(gd);\n",
       "            observer.disconnect();\n",
       "        }}\n",
       "}});\n",
       "\n",
       "// Listen for the removal of the full notebook cells\n",
       "var notebookContainer = gd.closest('#notebook-container');\n",
       "if (notebookContainer) {{\n",
       "    x.observe(notebookContainer, {childList: true});\n",
       "}}\n",
       "\n",
       "// Listen for the clearing of the current output cell\n",
       "var outputEl = gd.closest('.output');\n",
       "if (outputEl) {{\n",
       "    x.observe(outputEl, {childList: true});\n",
       "}}\n",
       "\n",
       "                        })                };                });            </script>        </div>"
      ]
     },
     "metadata": {},
     "output_type": "display_data"
    }
   ],
   "source": [
    "fig = go.Figure(data=[go.Bar(\n",
    "    x = top_10_m_ctr.index,\n",
    "    y = top_10_m_ctr['Counts of Country Availability'],\n",
    "    text = top_10_m_ctr['Counts of Country Availability'],\n",
    "    textposition='auto',\n",
    "    marker_color=colors_10 # marker color can be a single color value or an iterable\n",
    ")])\n",
    "fig.update_traces(texttemplate='%{text:.2s}', textposition='outside')\n",
    "fig.update_layout(title_text= 'Which countries have a larger Movie Availability?',\n",
    "                  uniformtext_minsize=8, uniformtext_mode='hide',\n",
    "                  yaxis=dict(\n",
    "                  title='Quantity',\n",
    "                  titlefont_size=14),\n",
    "                  xaxis=dict(\n",
    "                  title='Countries',\n",
    "                  titlefont_size=14))"
   ]
  },
  {
   "cell_type": "markdown",
   "id": "passing-restoration",
   "metadata": {
    "papermill": {
     "duration": 0.091795,
     "end_time": "2021-06-05T06:17:38.727800",
     "exception": false,
     "start_time": "2021-06-05T06:17:38.636005",
     "status": "completed"
    },
    "tags": []
   },
   "source": [
    "-----------"
   ]
  },
  {
   "cell_type": "markdown",
   "id": "precious-district",
   "metadata": {
    "papermill": {
     "duration": 0.092889,
     "end_time": "2021-06-05T06:17:38.914913",
     "exception": false,
     "start_time": "2021-06-05T06:17:38.822024",
     "status": "completed"
    },
    "tags": []
   },
   "source": [
    "# 2.7 Duration  ⏲⏳"
   ]
  },
  {
   "cell_type": "markdown",
   "id": "endangered-reliance",
   "metadata": {
    "papermill": {
     "duration": 0.092021,
     "end_time": "2021-06-05T06:17:39.099684",
     "exception": false,
     "start_time": "2021-06-05T06:17:39.007663",
     "status": "completed"
    },
    "tags": []
   },
   "source": [
    "> 📌 Note: Nowadays we are so busy during the day that you have to try to fit everything together if you want to do all the things to do. This also applies to extras such as seeing a movie or a TV series. However, they have a substantial difference that the film is one and therefore normally lasts an hour or more while the TV series that are episodic, which therefore they can be seen a little at a time or all in one go, they are easier as the average episodes last about 30/40 minutes. What do you prefer? Are you from #TeamMovie📽‍️ or #TeamSerie📺 ?\n",
    "\n",
    "But let's find out what this dataframe teaches us about the duration of the various TV series or films"
   ]
  },
  {
   "cell_type": "markdown",
   "id": "driven-mining",
   "metadata": {
    "papermill": {
     "duration": 0.092322,
     "end_time": "2021-06-05T06:17:39.287051",
     "exception": false,
     "start_time": "2021-06-05T06:17:39.194729",
     "status": "completed"
    },
    "tags": []
   },
   "source": [
    "**In the Series 📺 world ...**"
   ]
  },
  {
   "cell_type": "markdown",
   "id": "blind-arbitration",
   "metadata": {
    "papermill": {
     "duration": 0.09483,
     "end_time": "2021-06-05T06:17:39.474805",
     "exception": false,
     "start_time": "2021-06-05T06:17:39.379975",
     "status": "completed"
    },
    "tags": []
   },
   "source": [
    "> Code:\n",
    "\n",
    "> - First of all I create a new series dataframe **dropping the missing values contained in the \"Runtime\" column** and then I counts the values with the function [.value_counts()](https://medium.com/swlh/python-data-analysis-value-counts-115c7ad4ffec#:~:text=General%20usage.%20The%20value_counts%20%28%29%20function%20can%20be,or%20descending%20order%20%2C%20use%20sort%20as%20argument.)."
   ]
  },
  {
   "cell_type": "code",
   "execution_count": 34,
   "id": "extraordinary-spank",
   "metadata": {
    "execution": {
     "iopub.execute_input": "2021-06-05T06:17:39.665517Z",
     "iopub.status.busy": "2021-06-05T06:17:39.664658Z",
     "iopub.status.idle": "2021-06-05T06:17:39.674775Z",
     "shell.execute_reply": "2021-06-05T06:17:39.675155Z",
     "shell.execute_reply.started": "2021-06-05T05:35:39.109149Z"
    },
    "papermill": {
     "duration": 0.106891,
     "end_time": "2021-06-05T06:17:39.675318",
     "exception": false,
     "start_time": "2021-06-05T06:17:39.568427",
     "status": "completed"
    },
    "tags": []
   },
   "outputs": [
    {
     "data": {
      "text/plain": [
       "< 30 minutes    3782\n",
       "Name: Runtime, dtype: int64"
      ]
     },
     "execution_count": 34,
     "metadata": {},
     "output_type": "execute_result"
    }
   ],
   "source": [
    "df_series_drt = df_series.dropna(subset=['Runtime'])\n",
    "df_series_drt['Runtime'].value_counts()"
   ]
  },
  {
   "cell_type": "markdown",
   "id": "electronic-actor",
   "metadata": {
    "papermill": {
     "duration": 0.091583,
     "end_time": "2021-06-05T06:17:39.859354",
     "exception": false,
     "start_time": "2021-06-05T06:17:39.767771",
     "status": "completed"
    },
    "tags": []
   },
   "source": [
    "**... we can see this dataframe telling us that Netflix series episodes are always 30 minutes or less.**"
   ]
  },
  {
   "cell_type": "markdown",
   "id": "pharmaceutical-sitting",
   "metadata": {
    "papermill": {
     "duration": 0.094771,
     "end_time": "2021-06-05T06:17:40.046311",
     "exception": false,
     "start_time": "2021-06-05T06:17:39.951540",
     "status": "completed"
    },
    "tags": []
   },
   "source": [
    "**Meanwhile in the Movie 📽‍️ universe ...**"
   ]
  },
  {
   "cell_type": "markdown",
   "id": "surgical-fight",
   "metadata": {
    "papermill": {
     "duration": 0.112291,
     "end_time": "2021-06-05T06:17:40.251652",
     "exception": false,
     "start_time": "2021-06-05T06:17:40.139361",
     "status": "completed"
    },
    "tags": []
   },
   "source": [
    "> Code:\n",
    "\n",
    "> - First of all I create a new series dataframe **dropping the missing values contained in the \"Runtime\" column**."
   ]
  },
  {
   "cell_type": "code",
   "execution_count": 35,
   "id": "minus-nebraska",
   "metadata": {
    "execution": {
     "iopub.execute_input": "2021-06-05T06:17:40.444197Z",
     "iopub.status.busy": "2021-06-05T06:17:40.443553Z",
     "iopub.status.idle": "2021-06-05T06:17:40.450538Z",
     "shell.execute_reply": "2021-06-05T06:17:40.450977Z",
     "shell.execute_reply.started": "2021-06-05T05:35:39.126516Z"
    },
    "papermill": {
     "duration": 0.106104,
     "end_time": "2021-06-05T06:17:40.451146",
     "exception": false,
     "start_time": "2021-06-05T06:17:40.345042",
     "status": "completed"
    },
    "tags": []
   },
   "outputs": [],
   "source": [
    "df_movie_drt = df_movie.dropna(subset=['Runtime'])"
   ]
  },
  {
   "cell_type": "markdown",
   "id": "built-poetry",
   "metadata": {
    "papermill": {
     "duration": 0.091598,
     "end_time": "2021-06-05T06:17:40.634583",
     "exception": false,
     "start_time": "2021-06-05T06:17:40.542985",
     "status": "completed"
    },
    "tags": []
   },
   "source": [
    "> - Secondly, **I draw a bar chart** to better understand what is the average duration of the Movies."
   ]
  },
  {
   "cell_type": "code",
   "execution_count": 36,
   "id": "spectacular-boutique",
   "metadata": {
    "execution": {
     "iopub.execute_input": "2021-06-05T06:17:40.840229Z",
     "iopub.status.busy": "2021-06-05T06:17:40.839573Z",
     "iopub.status.idle": "2021-06-05T06:17:40.844934Z",
     "shell.execute_reply": "2021-06-05T06:17:40.844507Z",
     "shell.execute_reply.started": "2021-06-05T05:35:39.141336Z"
    },
    "papermill": {
     "duration": 0.118356,
     "end_time": "2021-06-05T06:17:40.845063",
     "exception": false,
     "start_time": "2021-06-05T06:17:40.726707",
     "status": "completed"
    },
    "tags": []
   },
   "outputs": [
    {
     "data": {
      "text/html": [
       "<div>                            <div id=\"2e73a8b0-7575-43f4-846e-948e50517542\" class=\"plotly-graph-div\" style=\"height:525px; width:100%;\"></div>            <script type=\"text/javascript\">                require([\"plotly\"], function(Plotly) {                    window.PLOTLYENV=window.PLOTLYENV || {};                                    if (document.getElementById(\"2e73a8b0-7575-43f4-846e-948e50517542\")) {                    Plotly.newPlot(                        \"2e73a8b0-7575-43f4-846e-948e50517542\",                        [{\"marker\": {\"color\": [\"DarkRed\", \"FireBrick\", \"Red\", \"Crimson\", \"IndianRed\", \"slategray\", \"gray\", \"dimgrey\", \"DarkSlateGrey\", \"black\"]}, \"text\": [9121.0, 2028.0, 334.0, 214.0], \"textposition\": \"outside\", \"texttemplate\": \"%{text:.2s}\", \"type\": \"bar\", \"x\": [\"1-2 hour\", \"> 2 hrs\", \"30-60 mins\", \"< 30 minutes\"], \"y\": [9121, 2028, 334, 214]}],                        {\"template\": {\"data\": {\"bar\": [{\"error_x\": {\"color\": \"#2a3f5f\"}, \"error_y\": {\"color\": \"#2a3f5f\"}, \"marker\": {\"line\": {\"color\": \"#E5ECF6\", \"width\": 0.5}}, \"type\": \"bar\"}], \"barpolar\": [{\"marker\": {\"line\": {\"color\": \"#E5ECF6\", \"width\": 0.5}}, \"type\": \"barpolar\"}], \"carpet\": [{\"aaxis\": {\"endlinecolor\": \"#2a3f5f\", \"gridcolor\": \"white\", \"linecolor\": \"white\", \"minorgridcolor\": \"white\", \"startlinecolor\": \"#2a3f5f\"}, \"baxis\": {\"endlinecolor\": \"#2a3f5f\", \"gridcolor\": \"white\", \"linecolor\": \"white\", \"minorgridcolor\": \"white\", \"startlinecolor\": \"#2a3f5f\"}, \"type\": \"carpet\"}], \"choropleth\": [{\"colorbar\": {\"outlinewidth\": 0, \"ticks\": \"\"}, \"type\": \"choropleth\"}], \"contour\": [{\"colorbar\": {\"outlinewidth\": 0, \"ticks\": \"\"}, \"colorscale\": [[0.0, \"#0d0887\"], [0.1111111111111111, \"#46039f\"], [0.2222222222222222, \"#7201a8\"], [0.3333333333333333, \"#9c179e\"], [0.4444444444444444, \"#bd3786\"], [0.5555555555555556, \"#d8576b\"], [0.6666666666666666, \"#ed7953\"], [0.7777777777777778, \"#fb9f3a\"], [0.8888888888888888, \"#fdca26\"], [1.0, \"#f0f921\"]], \"type\": \"contour\"}], \"contourcarpet\": [{\"colorbar\": {\"outlinewidth\": 0, \"ticks\": \"\"}, \"type\": \"contourcarpet\"}], \"heatmap\": [{\"colorbar\": {\"outlinewidth\": 0, \"ticks\": \"\"}, \"colorscale\": [[0.0, \"#0d0887\"], [0.1111111111111111, \"#46039f\"], [0.2222222222222222, \"#7201a8\"], [0.3333333333333333, \"#9c179e\"], [0.4444444444444444, \"#bd3786\"], [0.5555555555555556, \"#d8576b\"], [0.6666666666666666, \"#ed7953\"], [0.7777777777777778, \"#fb9f3a\"], [0.8888888888888888, \"#fdca26\"], [1.0, \"#f0f921\"]], \"type\": \"heatmap\"}], \"heatmapgl\": [{\"colorbar\": {\"outlinewidth\": 0, \"ticks\": \"\"}, \"colorscale\": [[0.0, \"#0d0887\"], [0.1111111111111111, \"#46039f\"], [0.2222222222222222, \"#7201a8\"], [0.3333333333333333, \"#9c179e\"], [0.4444444444444444, \"#bd3786\"], [0.5555555555555556, \"#d8576b\"], [0.6666666666666666, \"#ed7953\"], [0.7777777777777778, \"#fb9f3a\"], [0.8888888888888888, \"#fdca26\"], [1.0, \"#f0f921\"]], \"type\": \"heatmapgl\"}], \"histogram\": [{\"marker\": {\"colorbar\": {\"outlinewidth\": 0, \"ticks\": \"\"}}, \"type\": \"histogram\"}], \"histogram2d\": [{\"colorbar\": {\"outlinewidth\": 0, \"ticks\": \"\"}, \"colorscale\": [[0.0, \"#0d0887\"], [0.1111111111111111, \"#46039f\"], [0.2222222222222222, \"#7201a8\"], [0.3333333333333333, \"#9c179e\"], [0.4444444444444444, \"#bd3786\"], [0.5555555555555556, \"#d8576b\"], [0.6666666666666666, \"#ed7953\"], [0.7777777777777778, \"#fb9f3a\"], [0.8888888888888888, \"#fdca26\"], [1.0, \"#f0f921\"]], \"type\": \"histogram2d\"}], \"histogram2dcontour\": [{\"colorbar\": {\"outlinewidth\": 0, \"ticks\": \"\"}, \"colorscale\": [[0.0, \"#0d0887\"], [0.1111111111111111, \"#46039f\"], [0.2222222222222222, \"#7201a8\"], [0.3333333333333333, \"#9c179e\"], [0.4444444444444444, \"#bd3786\"], [0.5555555555555556, \"#d8576b\"], [0.6666666666666666, \"#ed7953\"], [0.7777777777777778, \"#fb9f3a\"], [0.8888888888888888, \"#fdca26\"], [1.0, \"#f0f921\"]], \"type\": \"histogram2dcontour\"}], \"mesh3d\": [{\"colorbar\": {\"outlinewidth\": 0, \"ticks\": \"\"}, \"type\": \"mesh3d\"}], \"parcoords\": [{\"line\": {\"colorbar\": {\"outlinewidth\": 0, \"ticks\": \"\"}}, \"type\": \"parcoords\"}], \"pie\": [{\"automargin\": true, \"type\": \"pie\"}], \"scatter\": [{\"marker\": {\"colorbar\": {\"outlinewidth\": 0, \"ticks\": \"\"}}, \"type\": \"scatter\"}], \"scatter3d\": [{\"line\": {\"colorbar\": {\"outlinewidth\": 0, \"ticks\": \"\"}}, \"marker\": {\"colorbar\": {\"outlinewidth\": 0, \"ticks\": \"\"}}, \"type\": \"scatter3d\"}], \"scattercarpet\": [{\"marker\": {\"colorbar\": {\"outlinewidth\": 0, \"ticks\": \"\"}}, \"type\": \"scattercarpet\"}], \"scattergeo\": [{\"marker\": {\"colorbar\": {\"outlinewidth\": 0, \"ticks\": \"\"}}, \"type\": \"scattergeo\"}], \"scattergl\": [{\"marker\": {\"colorbar\": {\"outlinewidth\": 0, \"ticks\": \"\"}}, \"type\": \"scattergl\"}], \"scattermapbox\": [{\"marker\": {\"colorbar\": {\"outlinewidth\": 0, \"ticks\": \"\"}}, \"type\": \"scattermapbox\"}], \"scatterpolar\": [{\"marker\": {\"colorbar\": {\"outlinewidth\": 0, \"ticks\": \"\"}}, \"type\": \"scatterpolar\"}], \"scatterpolargl\": [{\"marker\": {\"colorbar\": {\"outlinewidth\": 0, \"ticks\": \"\"}}, \"type\": \"scatterpolargl\"}], \"scatterternary\": [{\"marker\": {\"colorbar\": {\"outlinewidth\": 0, \"ticks\": \"\"}}, \"type\": \"scatterternary\"}], \"surface\": [{\"colorbar\": {\"outlinewidth\": 0, \"ticks\": \"\"}, \"colorscale\": [[0.0, \"#0d0887\"], [0.1111111111111111, \"#46039f\"], [0.2222222222222222, \"#7201a8\"], [0.3333333333333333, \"#9c179e\"], [0.4444444444444444, \"#bd3786\"], [0.5555555555555556, \"#d8576b\"], [0.6666666666666666, \"#ed7953\"], [0.7777777777777778, \"#fb9f3a\"], [0.8888888888888888, \"#fdca26\"], [1.0, \"#f0f921\"]], \"type\": \"surface\"}], \"table\": [{\"cells\": {\"fill\": {\"color\": \"#EBF0F8\"}, \"line\": {\"color\": \"white\"}}, \"header\": {\"fill\": {\"color\": \"#C8D4E3\"}, \"line\": {\"color\": \"white\"}}, \"type\": \"table\"}]}, \"layout\": {\"annotationdefaults\": {\"arrowcolor\": \"#2a3f5f\", \"arrowhead\": 0, \"arrowwidth\": 1}, \"autotypenumbers\": \"strict\", \"coloraxis\": {\"colorbar\": {\"outlinewidth\": 0, \"ticks\": \"\"}}, \"colorscale\": {\"diverging\": [[0, \"#8e0152\"], [0.1, \"#c51b7d\"], [0.2, \"#de77ae\"], [0.3, \"#f1b6da\"], [0.4, \"#fde0ef\"], [0.5, \"#f7f7f7\"], [0.6, \"#e6f5d0\"], [0.7, \"#b8e186\"], [0.8, \"#7fbc41\"], [0.9, \"#4d9221\"], [1, \"#276419\"]], \"sequential\": [[0.0, \"#0d0887\"], [0.1111111111111111, \"#46039f\"], [0.2222222222222222, \"#7201a8\"], [0.3333333333333333, \"#9c179e\"], [0.4444444444444444, \"#bd3786\"], [0.5555555555555556, \"#d8576b\"], [0.6666666666666666, \"#ed7953\"], [0.7777777777777778, \"#fb9f3a\"], [0.8888888888888888, \"#fdca26\"], [1.0, \"#f0f921\"]], \"sequentialminus\": [[0.0, \"#0d0887\"], [0.1111111111111111, \"#46039f\"], [0.2222222222222222, \"#7201a8\"], [0.3333333333333333, \"#9c179e\"], [0.4444444444444444, \"#bd3786\"], [0.5555555555555556, \"#d8576b\"], [0.6666666666666666, \"#ed7953\"], [0.7777777777777778, \"#fb9f3a\"], [0.8888888888888888, \"#fdca26\"], [1.0, \"#f0f921\"]]}, \"colorway\": [\"#636efa\", \"#EF553B\", \"#00cc96\", \"#ab63fa\", \"#FFA15A\", \"#19d3f3\", \"#FF6692\", \"#B6E880\", \"#FF97FF\", \"#FECB52\"], \"font\": {\"color\": \"#2a3f5f\"}, \"geo\": {\"bgcolor\": \"white\", \"lakecolor\": \"white\", \"landcolor\": \"#E5ECF6\", \"showlakes\": true, \"showland\": true, \"subunitcolor\": \"white\"}, \"hoverlabel\": {\"align\": \"left\"}, \"hovermode\": \"closest\", \"mapbox\": {\"style\": \"light\"}, \"paper_bgcolor\": \"white\", \"plot_bgcolor\": \"#E5ECF6\", \"polar\": {\"angularaxis\": {\"gridcolor\": \"white\", \"linecolor\": \"white\", \"ticks\": \"\"}, \"bgcolor\": \"#E5ECF6\", \"radialaxis\": {\"gridcolor\": \"white\", \"linecolor\": \"white\", \"ticks\": \"\"}}, \"scene\": {\"xaxis\": {\"backgroundcolor\": \"#E5ECF6\", \"gridcolor\": \"white\", \"gridwidth\": 2, \"linecolor\": \"white\", \"showbackground\": true, \"ticks\": \"\", \"zerolinecolor\": \"white\"}, \"yaxis\": {\"backgroundcolor\": \"#E5ECF6\", \"gridcolor\": \"white\", \"gridwidth\": 2, \"linecolor\": \"white\", \"showbackground\": true, \"ticks\": \"\", \"zerolinecolor\": \"white\"}, \"zaxis\": {\"backgroundcolor\": \"#E5ECF6\", \"gridcolor\": \"white\", \"gridwidth\": 2, \"linecolor\": \"white\", \"showbackground\": true, \"ticks\": \"\", \"zerolinecolor\": \"white\"}}, \"shapedefaults\": {\"line\": {\"color\": \"#2a3f5f\"}}, \"ternary\": {\"aaxis\": {\"gridcolor\": \"white\", \"linecolor\": \"white\", \"ticks\": \"\"}, \"baxis\": {\"gridcolor\": \"white\", \"linecolor\": \"white\", \"ticks\": \"\"}, \"bgcolor\": \"#E5ECF6\", \"caxis\": {\"gridcolor\": \"white\", \"linecolor\": \"white\", \"ticks\": \"\"}}, \"title\": {\"x\": 0.05}, \"xaxis\": {\"automargin\": true, \"gridcolor\": \"white\", \"linecolor\": \"white\", \"ticks\": \"\", \"title\": {\"standoff\": 15}, \"zerolinecolor\": \"white\", \"zerolinewidth\": 2}, \"yaxis\": {\"automargin\": true, \"gridcolor\": \"white\", \"linecolor\": \"white\", \"ticks\": \"\", \"title\": {\"standoff\": 15}, \"zerolinecolor\": \"white\", \"zerolinewidth\": 2}}}, \"title\": {\"text\": \"What is the average duration of a movie on Netflix?\"}, \"uniformtext\": {\"minsize\": 8, \"mode\": \"hide\"}, \"xaxis\": {\"title\": {\"font\": {\"size\": 14}, \"text\": \"Duration\"}}, \"yaxis\": {\"title\": {\"font\": {\"size\": 14}, \"text\": \"Quantity\"}}},                        {\"responsive\": true}                    ).then(function(){\n",
       "                            \n",
       "var gd = document.getElementById('2e73a8b0-7575-43f4-846e-948e50517542');\n",
       "var x = new MutationObserver(function (mutations, observer) {{\n",
       "        var display = window.getComputedStyle(gd).display;\n",
       "        if (!display || display === 'none') {{\n",
       "            console.log([gd, 'removed!']);\n",
       "            Plotly.purge(gd);\n",
       "            observer.disconnect();\n",
       "        }}\n",
       "}});\n",
       "\n",
       "// Listen for the removal of the full notebook cells\n",
       "var notebookContainer = gd.closest('#notebook-container');\n",
       "if (notebookContainer) {{\n",
       "    x.observe(notebookContainer, {childList: true});\n",
       "}}\n",
       "\n",
       "// Listen for the clearing of the current output cell\n",
       "var outputEl = gd.closest('.output');\n",
       "if (outputEl) {{\n",
       "    x.observe(outputEl, {childList: true});\n",
       "}}\n",
       "\n",
       "                        })                };                });            </script>        </div>"
      ]
     },
     "metadata": {},
     "output_type": "display_data"
    }
   ],
   "source": [
    "count_d = df_movie_drt['Runtime'].value_counts()\n",
    "fig = go.Figure(data=[go.Bar(\n",
    "    x = count_d.index,\n",
    "    y = count_d,\n",
    "    text = count_d,\n",
    "    textposition='auto',\n",
    "    marker_color=colors_10 # marker color can be a single color value or an iterable\n",
    ")])\n",
    "fig.update_traces(texttemplate='%{text:.2s}', textposition='outside')\n",
    "fig.update_layout(title_text= 'What is the average duration of a movie on Netflix?',\n",
    "                  uniformtext_minsize=8, uniformtext_mode='hide',\n",
    "                  yaxis=dict(\n",
    "                  title='Quantity',\n",
    "                  titlefont_size=14),\n",
    "                  xaxis=dict(\n",
    "                  title='Duration',\n",
    "                  titlefont_size=14))"
   ]
  },
  {
   "cell_type": "markdown",
   "id": "horizontal-beverage",
   "metadata": {
    "papermill": {
     "duration": 0.094347,
     "end_time": "2021-06-05T06:17:41.032734",
     "exception": false,
     "start_time": "2021-06-05T06:17:40.938387",
     "status": "completed"
    },
    "tags": []
   },
   "source": [
    "... As we can see the great majority of the movies are **1-2 hour**"
   ]
  },
  {
   "cell_type": "markdown",
   "id": "significant-immune",
   "metadata": {
    "papermill": {
     "duration": 0.102664,
     "end_time": "2021-06-05T06:17:41.243835",
     "exception": false,
     "start_time": "2021-06-05T06:17:41.141171",
     "status": "completed"
    },
    "tags": []
   },
   "source": [
    "---------------------------"
   ]
  },
  {
   "cell_type": "markdown",
   "id": "excellent-mentor",
   "metadata": {
    "papermill": {
     "duration": 0.092855,
     "end_time": "2021-06-05T06:17:41.442030",
     "exception": false,
     "start_time": "2021-06-05T06:17:41.349175",
     "status": "completed"
    },
    "tags": []
   },
   "source": [
    "# 2.8 Directors 🎬 and actors 🤵 "
   ]
  },
  {
   "cell_type": "markdown",
   "id": "therapeutic-second",
   "metadata": {
    "papermill": {
     "duration": 0.095269,
     "end_time": "2021-06-05T06:17:41.632656",
     "exception": false,
     "start_time": "2021-06-05T06:17:41.537387",
     "status": "completed"
    },
    "tags": []
   },
   "source": [
    "> 📌 Note: Obviously, behind the creation of a film or a TV series there are many people who also work in the rearguards, but let's say that those who put their face on it and influence the success of the product in the foreground are the actors and the director. What is the role that fascinates you the most? Are you from #TeamDirector or #TeamActor?\n",
    "\n",
    "So let's analyze and observe which are the most frequent directors and actors in the Netflix catalog"
   ]
  },
  {
   "cell_type": "markdown",
   "id": "cubic-pitch",
   "metadata": {
    "papermill": {
     "duration": 0.095563,
     "end_time": "2021-06-05T06:17:41.825730",
     "exception": false,
     "start_time": "2021-06-05T06:17:41.730167",
     "status": "completed"
    },
    "tags": []
   },
   "source": [
    "**2.8.1 Directors** 🎬"
   ]
  },
  {
   "cell_type": "markdown",
   "id": "vital-berkeley",
   "metadata": {
    "papermill": {
     "duration": 0.097585,
     "end_time": "2021-06-05T06:17:42.018481",
     "exception": false,
     "start_time": "2021-06-05T06:17:41.920896",
     "status": "completed"
    },
    "tags": []
   },
   "source": [
    "- **In Series 📺**"
   ]
  },
  {
   "cell_type": "code",
   "execution_count": 37,
   "id": "sophisticated-feeling",
   "metadata": {
    "execution": {
     "iopub.execute_input": "2021-06-05T06:17:42.222198Z",
     "iopub.status.busy": "2021-06-05T06:17:42.221290Z",
     "iopub.status.idle": "2021-06-05T06:17:42.226134Z",
     "shell.execute_reply": "2021-06-05T06:17:42.225540Z",
     "shell.execute_reply.started": "2021-06-05T05:35:39.172954Z"
    },
    "papermill": {
     "duration": 0.109475,
     "end_time": "2021-06-05T06:17:42.226270",
     "exception": false,
     "start_time": "2021-06-05T06:17:42.116795",
     "status": "completed"
    },
    "tags": []
   },
   "outputs": [],
   "source": [
    "df_series_dir = df_series.dropna(subset=['Director'])"
   ]
  },
  {
   "cell_type": "code",
   "execution_count": 38,
   "id": "naughty-processor",
   "metadata": {
    "execution": {
     "iopub.execute_input": "2021-06-05T06:17:42.426980Z",
     "iopub.status.busy": "2021-06-05T06:17:42.426185Z",
     "iopub.status.idle": "2021-06-05T06:17:42.430141Z",
     "shell.execute_reply": "2021-06-05T06:17:42.429687Z",
     "shell.execute_reply.started": "2021-06-05T05:35:39.187938Z"
    },
    "papermill": {
     "duration": 0.10807,
     "end_time": "2021-06-05T06:17:42.430282",
     "exception": false,
     "start_time": "2021-06-05T06:17:42.322212",
     "status": "completed"
    },
    "tags": []
   },
   "outputs": [],
   "source": [
    "series_dir_list = df_series_dir['Director'].str.split(', ') #split the list into names\n",
    "s_dir_list = {} #create an empty list\n",
    "for directors in series_dir_list: # for any countries in series_ctr_list\n",
    "    for director in directors: # for any country in countries\n",
    "        if (director in s_dir_list): #if this country is already present in the s_ctr_list\n",
    "            s_dir_list[director]+=1 # increase his value\n",
    "        else:  # else\n",
    "            s_dir_list[director]=1 # Create his index in the list\n",
    "s_dir_df = pd.DataFrame(s_dir_list.values(),index = s_dir_list.keys(),\n",
    "                        columns = {'Director Counts'}) #Create a s_ctr_df\n",
    "s_dir_df.sort_values(by = 'Director Counts',ascending = False,inplace = True) #Sort the dataframe in ascending order\n",
    "top_10_s_dir = s_dir_df[0:10] "
   ]
  },
  {
   "cell_type": "code",
   "execution_count": 39,
   "id": "artistic-sweden",
   "metadata": {
    "execution": {
     "iopub.execute_input": "2021-06-05T06:17:42.636088Z",
     "iopub.status.busy": "2021-06-05T06:17:42.635200Z",
     "iopub.status.idle": "2021-06-05T06:17:42.641146Z",
     "shell.execute_reply": "2021-06-05T06:17:42.640683Z",
     "shell.execute_reply.started": "2021-06-05T05:35:39.203931Z"
    },
    "papermill": {
     "duration": 0.116868,
     "end_time": "2021-06-05T06:17:42.641277",
     "exception": false,
     "start_time": "2021-06-05T06:17:42.524409",
     "status": "completed"
    },
    "tags": []
   },
   "outputs": [
    {
     "data": {
      "text/html": [
       "<div>                            <div id=\"88209d83-3e08-42c5-a194-a32d15a98a62\" class=\"plotly-graph-div\" style=\"height:525px; width:100%;\"></div>            <script type=\"text/javascript\">                require([\"plotly\"], function(Plotly) {                    window.PLOTLYENV=window.PLOTLYENV || {};                                    if (document.getElementById(\"88209d83-3e08-42c5-a194-a32d15a98a62\")) {                    Plotly.newPlot(                        \"88209d83-3e08-42c5-a194-a32d15a98a62\",                        [{\"marker\": {\"color\": [\"DarkRed\", \"FireBrick\", \"Red\", \"Crimson\", \"IndianRed\", \"slategray\", \"gray\", \"dimgrey\", \"DarkSlateGrey\", \"black\"]}, \"text\": [4.0, 3.0, 3.0, 2.0, 2.0, 2.0, 2.0, 2.0, 2.0, 2.0], \"textposition\": \"outside\", \"texttemplate\": \"%{text:.2s}\", \"type\": \"bar\", \"x\": [\"George Lucas\", \"Hideki Takeuchi\", \"Archie Baron\", \"Kenji Kamiyama\", \"K\\u00f4bun Shizuno\", \"Jay Roach\", \"Sergey Tkachev\", \"Nanette Burstein\", \"Wolfgang Petersen\", \"Marcus Dunstan\"], \"y\": [4, 3, 3, 2, 2, 2, 2, 2, 2, 2]}],                        {\"template\": {\"data\": {\"bar\": [{\"error_x\": {\"color\": \"#2a3f5f\"}, \"error_y\": {\"color\": \"#2a3f5f\"}, \"marker\": {\"line\": {\"color\": \"#E5ECF6\", \"width\": 0.5}}, \"type\": \"bar\"}], \"barpolar\": [{\"marker\": {\"line\": {\"color\": \"#E5ECF6\", \"width\": 0.5}}, \"type\": \"barpolar\"}], \"carpet\": [{\"aaxis\": {\"endlinecolor\": \"#2a3f5f\", \"gridcolor\": \"white\", \"linecolor\": \"white\", \"minorgridcolor\": \"white\", \"startlinecolor\": \"#2a3f5f\"}, \"baxis\": {\"endlinecolor\": \"#2a3f5f\", \"gridcolor\": \"white\", \"linecolor\": \"white\", \"minorgridcolor\": \"white\", \"startlinecolor\": \"#2a3f5f\"}, \"type\": \"carpet\"}], \"choropleth\": [{\"colorbar\": {\"outlinewidth\": 0, \"ticks\": \"\"}, \"type\": \"choropleth\"}], \"contour\": [{\"colorbar\": {\"outlinewidth\": 0, \"ticks\": \"\"}, \"colorscale\": [[0.0, \"#0d0887\"], [0.1111111111111111, \"#46039f\"], [0.2222222222222222, \"#7201a8\"], [0.3333333333333333, \"#9c179e\"], [0.4444444444444444, \"#bd3786\"], [0.5555555555555556, \"#d8576b\"], [0.6666666666666666, \"#ed7953\"], [0.7777777777777778, \"#fb9f3a\"], [0.8888888888888888, \"#fdca26\"], [1.0, \"#f0f921\"]], \"type\": \"contour\"}], \"contourcarpet\": [{\"colorbar\": {\"outlinewidth\": 0, \"ticks\": \"\"}, \"type\": \"contourcarpet\"}], \"heatmap\": [{\"colorbar\": {\"outlinewidth\": 0, \"ticks\": \"\"}, \"colorscale\": [[0.0, \"#0d0887\"], [0.1111111111111111, \"#46039f\"], [0.2222222222222222, \"#7201a8\"], [0.3333333333333333, \"#9c179e\"], [0.4444444444444444, \"#bd3786\"], [0.5555555555555556, \"#d8576b\"], [0.6666666666666666, \"#ed7953\"], [0.7777777777777778, \"#fb9f3a\"], [0.8888888888888888, \"#fdca26\"], [1.0, \"#f0f921\"]], \"type\": \"heatmap\"}], \"heatmapgl\": [{\"colorbar\": {\"outlinewidth\": 0, \"ticks\": \"\"}, \"colorscale\": [[0.0, \"#0d0887\"], [0.1111111111111111, \"#46039f\"], [0.2222222222222222, \"#7201a8\"], [0.3333333333333333, \"#9c179e\"], [0.4444444444444444, \"#bd3786\"], [0.5555555555555556, \"#d8576b\"], [0.6666666666666666, \"#ed7953\"], [0.7777777777777778, \"#fb9f3a\"], [0.8888888888888888, \"#fdca26\"], [1.0, \"#f0f921\"]], \"type\": \"heatmapgl\"}], \"histogram\": [{\"marker\": {\"colorbar\": {\"outlinewidth\": 0, \"ticks\": \"\"}}, \"type\": \"histogram\"}], \"histogram2d\": [{\"colorbar\": {\"outlinewidth\": 0, \"ticks\": \"\"}, \"colorscale\": [[0.0, \"#0d0887\"], [0.1111111111111111, \"#46039f\"], [0.2222222222222222, \"#7201a8\"], [0.3333333333333333, \"#9c179e\"], [0.4444444444444444, \"#bd3786\"], [0.5555555555555556, \"#d8576b\"], [0.6666666666666666, \"#ed7953\"], [0.7777777777777778, \"#fb9f3a\"], [0.8888888888888888, \"#fdca26\"], [1.0, \"#f0f921\"]], \"type\": \"histogram2d\"}], \"histogram2dcontour\": [{\"colorbar\": {\"outlinewidth\": 0, \"ticks\": \"\"}, \"colorscale\": [[0.0, \"#0d0887\"], [0.1111111111111111, \"#46039f\"], [0.2222222222222222, \"#7201a8\"], [0.3333333333333333, \"#9c179e\"], [0.4444444444444444, \"#bd3786\"], [0.5555555555555556, \"#d8576b\"], [0.6666666666666666, \"#ed7953\"], [0.7777777777777778, \"#fb9f3a\"], [0.8888888888888888, \"#fdca26\"], [1.0, \"#f0f921\"]], \"type\": \"histogram2dcontour\"}], \"mesh3d\": [{\"colorbar\": {\"outlinewidth\": 0, \"ticks\": \"\"}, \"type\": \"mesh3d\"}], \"parcoords\": [{\"line\": {\"colorbar\": {\"outlinewidth\": 0, \"ticks\": \"\"}}, \"type\": \"parcoords\"}], \"pie\": [{\"automargin\": true, \"type\": \"pie\"}], \"scatter\": [{\"marker\": {\"colorbar\": {\"outlinewidth\": 0, \"ticks\": \"\"}}, \"type\": \"scatter\"}], \"scatter3d\": [{\"line\": {\"colorbar\": {\"outlinewidth\": 0, \"ticks\": \"\"}}, \"marker\": {\"colorbar\": {\"outlinewidth\": 0, \"ticks\": \"\"}}, \"type\": \"scatter3d\"}], \"scattercarpet\": [{\"marker\": {\"colorbar\": {\"outlinewidth\": 0, \"ticks\": \"\"}}, \"type\": \"scattercarpet\"}], \"scattergeo\": [{\"marker\": {\"colorbar\": {\"outlinewidth\": 0, \"ticks\": \"\"}}, \"type\": \"scattergeo\"}], \"scattergl\": [{\"marker\": {\"colorbar\": {\"outlinewidth\": 0, \"ticks\": \"\"}}, \"type\": \"scattergl\"}], \"scattermapbox\": [{\"marker\": {\"colorbar\": {\"outlinewidth\": 0, \"ticks\": \"\"}}, \"type\": \"scattermapbox\"}], \"scatterpolar\": [{\"marker\": {\"colorbar\": {\"outlinewidth\": 0, \"ticks\": \"\"}}, \"type\": \"scatterpolar\"}], \"scatterpolargl\": [{\"marker\": {\"colorbar\": {\"outlinewidth\": 0, \"ticks\": \"\"}}, \"type\": \"scatterpolargl\"}], \"scatterternary\": [{\"marker\": {\"colorbar\": {\"outlinewidth\": 0, \"ticks\": \"\"}}, \"type\": \"scatterternary\"}], \"surface\": [{\"colorbar\": {\"outlinewidth\": 0, \"ticks\": \"\"}, \"colorscale\": [[0.0, \"#0d0887\"], [0.1111111111111111, \"#46039f\"], [0.2222222222222222, \"#7201a8\"], [0.3333333333333333, \"#9c179e\"], [0.4444444444444444, \"#bd3786\"], [0.5555555555555556, \"#d8576b\"], [0.6666666666666666, \"#ed7953\"], [0.7777777777777778, \"#fb9f3a\"], [0.8888888888888888, \"#fdca26\"], [1.0, \"#f0f921\"]], \"type\": \"surface\"}], \"table\": [{\"cells\": {\"fill\": {\"color\": \"#EBF0F8\"}, \"line\": {\"color\": \"white\"}}, \"header\": {\"fill\": {\"color\": \"#C8D4E3\"}, \"line\": {\"color\": \"white\"}}, \"type\": \"table\"}]}, \"layout\": {\"annotationdefaults\": {\"arrowcolor\": \"#2a3f5f\", \"arrowhead\": 0, \"arrowwidth\": 1}, \"autotypenumbers\": \"strict\", \"coloraxis\": {\"colorbar\": {\"outlinewidth\": 0, \"ticks\": \"\"}}, \"colorscale\": {\"diverging\": [[0, \"#8e0152\"], [0.1, \"#c51b7d\"], [0.2, \"#de77ae\"], [0.3, \"#f1b6da\"], [0.4, \"#fde0ef\"], [0.5, \"#f7f7f7\"], [0.6, \"#e6f5d0\"], [0.7, \"#b8e186\"], [0.8, \"#7fbc41\"], [0.9, \"#4d9221\"], [1, \"#276419\"]], \"sequential\": [[0.0, \"#0d0887\"], [0.1111111111111111, \"#46039f\"], [0.2222222222222222, \"#7201a8\"], [0.3333333333333333, \"#9c179e\"], [0.4444444444444444, \"#bd3786\"], [0.5555555555555556, \"#d8576b\"], [0.6666666666666666, \"#ed7953\"], [0.7777777777777778, \"#fb9f3a\"], [0.8888888888888888, \"#fdca26\"], [1.0, \"#f0f921\"]], \"sequentialminus\": [[0.0, \"#0d0887\"], [0.1111111111111111, \"#46039f\"], [0.2222222222222222, \"#7201a8\"], [0.3333333333333333, \"#9c179e\"], [0.4444444444444444, \"#bd3786\"], [0.5555555555555556, \"#d8576b\"], [0.6666666666666666, \"#ed7953\"], [0.7777777777777778, \"#fb9f3a\"], [0.8888888888888888, \"#fdca26\"], [1.0, \"#f0f921\"]]}, \"colorway\": [\"#636efa\", \"#EF553B\", \"#00cc96\", \"#ab63fa\", \"#FFA15A\", \"#19d3f3\", \"#FF6692\", \"#B6E880\", \"#FF97FF\", \"#FECB52\"], \"font\": {\"color\": \"#2a3f5f\"}, \"geo\": {\"bgcolor\": \"white\", \"lakecolor\": \"white\", \"landcolor\": \"#E5ECF6\", \"showlakes\": true, \"showland\": true, \"subunitcolor\": \"white\"}, \"hoverlabel\": {\"align\": \"left\"}, \"hovermode\": \"closest\", \"mapbox\": {\"style\": \"light\"}, \"paper_bgcolor\": \"white\", \"plot_bgcolor\": \"#E5ECF6\", \"polar\": {\"angularaxis\": {\"gridcolor\": \"white\", \"linecolor\": \"white\", \"ticks\": \"\"}, \"bgcolor\": \"#E5ECF6\", \"radialaxis\": {\"gridcolor\": \"white\", \"linecolor\": \"white\", \"ticks\": \"\"}}, \"scene\": {\"xaxis\": {\"backgroundcolor\": \"#E5ECF6\", \"gridcolor\": \"white\", \"gridwidth\": 2, \"linecolor\": \"white\", \"showbackground\": true, \"ticks\": \"\", \"zerolinecolor\": \"white\"}, \"yaxis\": {\"backgroundcolor\": \"#E5ECF6\", \"gridcolor\": \"white\", \"gridwidth\": 2, \"linecolor\": \"white\", \"showbackground\": true, \"ticks\": \"\", \"zerolinecolor\": \"white\"}, \"zaxis\": {\"backgroundcolor\": \"#E5ECF6\", \"gridcolor\": \"white\", \"gridwidth\": 2, \"linecolor\": \"white\", \"showbackground\": true, \"ticks\": \"\", \"zerolinecolor\": \"white\"}}, \"shapedefaults\": {\"line\": {\"color\": \"#2a3f5f\"}}, \"ternary\": {\"aaxis\": {\"gridcolor\": \"white\", \"linecolor\": \"white\", \"ticks\": \"\"}, \"baxis\": {\"gridcolor\": \"white\", \"linecolor\": \"white\", \"ticks\": \"\"}, \"bgcolor\": \"#E5ECF6\", \"caxis\": {\"gridcolor\": \"white\", \"linecolor\": \"white\", \"ticks\": \"\"}}, \"title\": {\"x\": 0.05}, \"xaxis\": {\"automargin\": true, \"gridcolor\": \"white\", \"linecolor\": \"white\", \"ticks\": \"\", \"title\": {\"standoff\": 15}, \"zerolinecolor\": \"white\", \"zerolinewidth\": 2}, \"yaxis\": {\"automargin\": true, \"gridcolor\": \"white\", \"linecolor\": \"white\", \"ticks\": \"\", \"title\": {\"standoff\": 15}, \"zerolinecolor\": \"white\", \"zerolinewidth\": 2}}}, \"title\": {\"text\": \"Which are the directors that have directed more Tv Series?\"}, \"uniformtext\": {\"minsize\": 8, \"mode\": \"hide\"}, \"xaxis\": {\"title\": {\"font\": {\"size\": 14}, \"text\": \"Directors\"}}, \"yaxis\": {\"title\": {\"font\": {\"size\": 14}, \"text\": \"N\\u00b0 of Tv Series he/she directed\"}}},                        {\"responsive\": true}                    ).then(function(){\n",
       "                            \n",
       "var gd = document.getElementById('88209d83-3e08-42c5-a194-a32d15a98a62');\n",
       "var x = new MutationObserver(function (mutations, observer) {{\n",
       "        var display = window.getComputedStyle(gd).display;\n",
       "        if (!display || display === 'none') {{\n",
       "            console.log([gd, 'removed!']);\n",
       "            Plotly.purge(gd);\n",
       "            observer.disconnect();\n",
       "        }}\n",
       "}});\n",
       "\n",
       "// Listen for the removal of the full notebook cells\n",
       "var notebookContainer = gd.closest('#notebook-container');\n",
       "if (notebookContainer) {{\n",
       "    x.observe(notebookContainer, {childList: true});\n",
       "}}\n",
       "\n",
       "// Listen for the clearing of the current output cell\n",
       "var outputEl = gd.closest('.output');\n",
       "if (outputEl) {{\n",
       "    x.observe(outputEl, {childList: true});\n",
       "}}\n",
       "\n",
       "                        })                };                });            </script>        </div>"
      ]
     },
     "metadata": {},
     "output_type": "display_data"
    }
   ],
   "source": [
    "fig = go.Figure(data=[go.Bar(\n",
    "    x = top_10_s_dir.index,\n",
    "    y = top_10_s_dir['Director Counts'],\n",
    "    text = top_10_s_dir['Director Counts'],\n",
    "    textposition='auto',\n",
    "    marker_color=colors_10 # marker color can be a single color value or an iterable\n",
    ")])\n",
    "fig.update_traces(texttemplate='%{text:.2s}', textposition='outside')\n",
    "fig.update_layout(title_text= 'Which are the directors that have directed more Tv Series?',\n",
    "                  uniformtext_minsize=8, uniformtext_mode='hide',\n",
    "                  yaxis=dict(\n",
    "                  title='N° of Tv Series he/she directed',\n",
    "                  titlefont_size=14),\n",
    "                  xaxis=dict(\n",
    "                  title='Directors',\n",
    "                  titlefont_size=14))"
   ]
  },
  {
   "cell_type": "markdown",
   "id": "disabled-track",
   "metadata": {
    "papermill": {
     "duration": 0.092961,
     "end_time": "2021-06-05T06:17:42.828043",
     "exception": false,
     "start_time": "2021-06-05T06:17:42.735082",
     "status": "completed"
    },
    "tags": []
   },
   "source": [
    "As we can see the directors that have directed more Series Tv are **George Lucas**, **Hideki Takeuchi** and **Arcie Baron**."
   ]
  },
  {
   "cell_type": "markdown",
   "id": "nearby-improvement",
   "metadata": {
    "papermill": {
     "duration": 0.093268,
     "end_time": "2021-06-05T06:17:43.016774",
     "exception": false,
     "start_time": "2021-06-05T06:17:42.923506",
     "status": "completed"
    },
    "tags": []
   },
   "source": [
    "- **In the Movies** 📽‍️"
   ]
  },
  {
   "cell_type": "code",
   "execution_count": 40,
   "id": "senior-efficiency",
   "metadata": {
    "execution": {
     "iopub.execute_input": "2021-06-05T06:17:43.214269Z",
     "iopub.status.busy": "2021-06-05T06:17:43.213249Z",
     "iopub.status.idle": "2021-06-05T06:17:43.220179Z",
     "shell.execute_reply": "2021-06-05T06:17:43.219665Z",
     "shell.execute_reply.started": "2021-06-05T05:35:39.234274Z"
    },
    "papermill": {
     "duration": 0.11022,
     "end_time": "2021-06-05T06:17:43.220313",
     "exception": false,
     "start_time": "2021-06-05T06:17:43.110093",
     "status": "completed"
    },
    "tags": []
   },
   "outputs": [],
   "source": [
    "df_movie_dir = df_movie.dropna(subset=['Director'])"
   ]
  },
  {
   "cell_type": "code",
   "execution_count": 41,
   "id": "electoral-valuable",
   "metadata": {
    "execution": {
     "iopub.execute_input": "2021-06-05T06:17:43.429440Z",
     "iopub.status.busy": "2021-06-05T06:17:43.428506Z",
     "iopub.status.idle": "2021-06-05T06:17:43.433096Z",
     "shell.execute_reply": "2021-06-05T06:17:43.432565Z",
     "shell.execute_reply.started": "2021-06-05T05:35:39.251039Z"
    },
    "papermill": {
     "duration": 0.118802,
     "end_time": "2021-06-05T06:17:43.433232",
     "exception": false,
     "start_time": "2021-06-05T06:17:43.314430",
     "status": "completed"
    },
    "tags": []
   },
   "outputs": [],
   "source": [
    "movie_dir_list = df_movie_dir['Director'].str.split(', ') #split the list into names\n",
    "m_dir_list = {} #create an empty list\n",
    "for directors in movie_dir_list: # for any countries in series_ctr_list\n",
    "    for director in directors: # for any country in countries\n",
    "        if (director in m_dir_list): #if this country is already present in the s_ctr_list\n",
    "            m_dir_list[director]+=1 # increase his value\n",
    "        else:  # else\n",
    "            m_dir_list[director]=1 # Create his index in the list\n",
    "m_dir_df = pd.DataFrame(m_dir_list.values(),index = m_dir_list.keys(),\n",
    "                        columns = {'Director Counts'}) #Create a s_ctr_df\n",
    "m_dir_df.sort_values(by = 'Director Counts',ascending = False,inplace = True) #Sort the dataframe in ascending order\n",
    "top_10_m_dir = m_dir_df[0:10] "
   ]
  },
  {
   "cell_type": "code",
   "execution_count": 42,
   "id": "limited-marsh",
   "metadata": {
    "execution": {
     "iopub.execute_input": "2021-06-05T06:17:43.638221Z",
     "iopub.status.busy": "2021-06-05T06:17:43.637536Z",
     "iopub.status.idle": "2021-06-05T06:17:43.643831Z",
     "shell.execute_reply": "2021-06-05T06:17:43.643358Z",
     "shell.execute_reply.started": "2021-06-05T05:35:39.279555Z"
    },
    "papermill": {
     "duration": 0.117055,
     "end_time": "2021-06-05T06:17:43.643972",
     "exception": false,
     "start_time": "2021-06-05T06:17:43.526917",
     "status": "completed"
    },
    "tags": []
   },
   "outputs": [
    {
     "data": {
      "text/html": [
       "<div>                            <div id=\"8fc8d20d-91c9-4157-bdac-aff33fd177ff\" class=\"plotly-graph-div\" style=\"height:525px; width:100%;\"></div>            <script type=\"text/javascript\">                require([\"plotly\"], function(Plotly) {                    window.PLOTLYENV=window.PLOTLYENV || {};                                    if (document.getElementById(\"8fc8d20d-91c9-4157-bdac-aff33fd177ff\")) {                    Plotly.newPlot(                        \"8fc8d20d-91c9-4157-bdac-aff33fd177ff\",                        [{\"marker\": {\"color\": [\"DarkRed\", \"FireBrick\", \"Red\", \"Crimson\", \"IndianRed\", \"slategray\", \"gray\", \"dimgrey\", \"DarkSlateGrey\", \"black\"]}, \"text\": [26.0, 22.0, 21.0, 19.0, 19.0, 18.0, 17.0, 17.0, 16.0, 16.0], \"textposition\": \"outside\", \"texttemplate\": \"%{text:.2s}\", \"type\": \"bar\", \"x\": [\"Steven Spielberg\", \"Johnnie To\", \"Jing Wong\", \"Jan Suter\", \"Ra\\u00fal Campos\", \"Ishir\\u00f4 Honda\", \"Woody Allen\", \"Ridley Scott\", \"Marcus Raboy\", \"Tsutomu Shibayama\"], \"y\": [26, 22, 21, 19, 19, 18, 17, 17, 16, 16]}],                        {\"template\": {\"data\": {\"bar\": [{\"error_x\": {\"color\": \"#2a3f5f\"}, \"error_y\": {\"color\": \"#2a3f5f\"}, \"marker\": {\"line\": {\"color\": \"#E5ECF6\", \"width\": 0.5}}, \"type\": \"bar\"}], \"barpolar\": [{\"marker\": {\"line\": {\"color\": \"#E5ECF6\", \"width\": 0.5}}, \"type\": \"barpolar\"}], \"carpet\": [{\"aaxis\": {\"endlinecolor\": \"#2a3f5f\", \"gridcolor\": \"white\", \"linecolor\": \"white\", \"minorgridcolor\": \"white\", \"startlinecolor\": \"#2a3f5f\"}, \"baxis\": {\"endlinecolor\": \"#2a3f5f\", \"gridcolor\": \"white\", \"linecolor\": \"white\", \"minorgridcolor\": \"white\", \"startlinecolor\": \"#2a3f5f\"}, \"type\": \"carpet\"}], \"choropleth\": [{\"colorbar\": {\"outlinewidth\": 0, \"ticks\": \"\"}, \"type\": \"choropleth\"}], \"contour\": [{\"colorbar\": {\"outlinewidth\": 0, \"ticks\": \"\"}, \"colorscale\": [[0.0, \"#0d0887\"], [0.1111111111111111, \"#46039f\"], [0.2222222222222222, \"#7201a8\"], [0.3333333333333333, \"#9c179e\"], [0.4444444444444444, \"#bd3786\"], [0.5555555555555556, \"#d8576b\"], [0.6666666666666666, \"#ed7953\"], [0.7777777777777778, \"#fb9f3a\"], [0.8888888888888888, \"#fdca26\"], [1.0, \"#f0f921\"]], \"type\": \"contour\"}], \"contourcarpet\": [{\"colorbar\": {\"outlinewidth\": 0, \"ticks\": \"\"}, \"type\": \"contourcarpet\"}], \"heatmap\": [{\"colorbar\": {\"outlinewidth\": 0, \"ticks\": \"\"}, \"colorscale\": [[0.0, \"#0d0887\"], [0.1111111111111111, \"#46039f\"], [0.2222222222222222, \"#7201a8\"], [0.3333333333333333, \"#9c179e\"], [0.4444444444444444, \"#bd3786\"], [0.5555555555555556, \"#d8576b\"], [0.6666666666666666, \"#ed7953\"], [0.7777777777777778, \"#fb9f3a\"], [0.8888888888888888, \"#fdca26\"], [1.0, \"#f0f921\"]], \"type\": \"heatmap\"}], \"heatmapgl\": [{\"colorbar\": {\"outlinewidth\": 0, \"ticks\": \"\"}, \"colorscale\": [[0.0, \"#0d0887\"], [0.1111111111111111, \"#46039f\"], [0.2222222222222222, \"#7201a8\"], [0.3333333333333333, \"#9c179e\"], [0.4444444444444444, \"#bd3786\"], [0.5555555555555556, \"#d8576b\"], [0.6666666666666666, \"#ed7953\"], [0.7777777777777778, \"#fb9f3a\"], [0.8888888888888888, \"#fdca26\"], [1.0, \"#f0f921\"]], \"type\": \"heatmapgl\"}], \"histogram\": [{\"marker\": {\"colorbar\": {\"outlinewidth\": 0, \"ticks\": \"\"}}, \"type\": \"histogram\"}], \"histogram2d\": [{\"colorbar\": {\"outlinewidth\": 0, \"ticks\": \"\"}, \"colorscale\": [[0.0, \"#0d0887\"], [0.1111111111111111, \"#46039f\"], [0.2222222222222222, \"#7201a8\"], [0.3333333333333333, \"#9c179e\"], [0.4444444444444444, \"#bd3786\"], [0.5555555555555556, \"#d8576b\"], [0.6666666666666666, \"#ed7953\"], [0.7777777777777778, \"#fb9f3a\"], [0.8888888888888888, \"#fdca26\"], [1.0, \"#f0f921\"]], \"type\": \"histogram2d\"}], \"histogram2dcontour\": [{\"colorbar\": {\"outlinewidth\": 0, \"ticks\": \"\"}, \"colorscale\": [[0.0, \"#0d0887\"], [0.1111111111111111, \"#46039f\"], [0.2222222222222222, \"#7201a8\"], [0.3333333333333333, \"#9c179e\"], [0.4444444444444444, \"#bd3786\"], [0.5555555555555556, \"#d8576b\"], [0.6666666666666666, \"#ed7953\"], [0.7777777777777778, \"#fb9f3a\"], [0.8888888888888888, \"#fdca26\"], [1.0, \"#f0f921\"]], \"type\": \"histogram2dcontour\"}], \"mesh3d\": [{\"colorbar\": {\"outlinewidth\": 0, \"ticks\": \"\"}, \"type\": \"mesh3d\"}], \"parcoords\": [{\"line\": {\"colorbar\": {\"outlinewidth\": 0, \"ticks\": \"\"}}, \"type\": \"parcoords\"}], \"pie\": [{\"automargin\": true, \"type\": \"pie\"}], \"scatter\": [{\"marker\": {\"colorbar\": {\"outlinewidth\": 0, \"ticks\": \"\"}}, \"type\": \"scatter\"}], \"scatter3d\": [{\"line\": {\"colorbar\": {\"outlinewidth\": 0, \"ticks\": \"\"}}, \"marker\": {\"colorbar\": {\"outlinewidth\": 0, \"ticks\": \"\"}}, \"type\": \"scatter3d\"}], \"scattercarpet\": [{\"marker\": {\"colorbar\": {\"outlinewidth\": 0, \"ticks\": \"\"}}, \"type\": \"scattercarpet\"}], \"scattergeo\": [{\"marker\": {\"colorbar\": {\"outlinewidth\": 0, \"ticks\": \"\"}}, \"type\": \"scattergeo\"}], \"scattergl\": [{\"marker\": {\"colorbar\": {\"outlinewidth\": 0, \"ticks\": \"\"}}, \"type\": \"scattergl\"}], \"scattermapbox\": [{\"marker\": {\"colorbar\": {\"outlinewidth\": 0, \"ticks\": \"\"}}, \"type\": \"scattermapbox\"}], \"scatterpolar\": [{\"marker\": {\"colorbar\": {\"outlinewidth\": 0, \"ticks\": \"\"}}, \"type\": \"scatterpolar\"}], \"scatterpolargl\": [{\"marker\": {\"colorbar\": {\"outlinewidth\": 0, \"ticks\": \"\"}}, \"type\": \"scatterpolargl\"}], \"scatterternary\": [{\"marker\": {\"colorbar\": {\"outlinewidth\": 0, \"ticks\": \"\"}}, \"type\": \"scatterternary\"}], \"surface\": [{\"colorbar\": {\"outlinewidth\": 0, \"ticks\": \"\"}, \"colorscale\": [[0.0, \"#0d0887\"], [0.1111111111111111, \"#46039f\"], [0.2222222222222222, \"#7201a8\"], [0.3333333333333333, \"#9c179e\"], [0.4444444444444444, \"#bd3786\"], [0.5555555555555556, \"#d8576b\"], [0.6666666666666666, \"#ed7953\"], [0.7777777777777778, \"#fb9f3a\"], [0.8888888888888888, \"#fdca26\"], [1.0, \"#f0f921\"]], \"type\": \"surface\"}], \"table\": [{\"cells\": {\"fill\": {\"color\": \"#EBF0F8\"}, \"line\": {\"color\": \"white\"}}, \"header\": {\"fill\": {\"color\": \"#C8D4E3\"}, \"line\": {\"color\": \"white\"}}, \"type\": \"table\"}]}, \"layout\": {\"annotationdefaults\": {\"arrowcolor\": \"#2a3f5f\", \"arrowhead\": 0, \"arrowwidth\": 1}, \"autotypenumbers\": \"strict\", \"coloraxis\": {\"colorbar\": {\"outlinewidth\": 0, \"ticks\": \"\"}}, \"colorscale\": {\"diverging\": [[0, \"#8e0152\"], [0.1, \"#c51b7d\"], [0.2, \"#de77ae\"], [0.3, \"#f1b6da\"], [0.4, \"#fde0ef\"], [0.5, \"#f7f7f7\"], [0.6, \"#e6f5d0\"], [0.7, \"#b8e186\"], [0.8, \"#7fbc41\"], [0.9, \"#4d9221\"], [1, \"#276419\"]], \"sequential\": [[0.0, \"#0d0887\"], [0.1111111111111111, \"#46039f\"], [0.2222222222222222, \"#7201a8\"], [0.3333333333333333, \"#9c179e\"], [0.4444444444444444, \"#bd3786\"], [0.5555555555555556, \"#d8576b\"], [0.6666666666666666, \"#ed7953\"], [0.7777777777777778, \"#fb9f3a\"], [0.8888888888888888, \"#fdca26\"], [1.0, \"#f0f921\"]], \"sequentialminus\": [[0.0, \"#0d0887\"], [0.1111111111111111, \"#46039f\"], [0.2222222222222222, \"#7201a8\"], [0.3333333333333333, \"#9c179e\"], [0.4444444444444444, \"#bd3786\"], [0.5555555555555556, \"#d8576b\"], [0.6666666666666666, \"#ed7953\"], [0.7777777777777778, \"#fb9f3a\"], [0.8888888888888888, \"#fdca26\"], [1.0, \"#f0f921\"]]}, \"colorway\": [\"#636efa\", \"#EF553B\", \"#00cc96\", \"#ab63fa\", \"#FFA15A\", \"#19d3f3\", \"#FF6692\", \"#B6E880\", \"#FF97FF\", \"#FECB52\"], \"font\": {\"color\": \"#2a3f5f\"}, \"geo\": {\"bgcolor\": \"white\", \"lakecolor\": \"white\", \"landcolor\": \"#E5ECF6\", \"showlakes\": true, \"showland\": true, \"subunitcolor\": \"white\"}, \"hoverlabel\": {\"align\": \"left\"}, \"hovermode\": \"closest\", \"mapbox\": {\"style\": \"light\"}, \"paper_bgcolor\": \"white\", \"plot_bgcolor\": \"#E5ECF6\", \"polar\": {\"angularaxis\": {\"gridcolor\": \"white\", \"linecolor\": \"white\", \"ticks\": \"\"}, \"bgcolor\": \"#E5ECF6\", \"radialaxis\": {\"gridcolor\": \"white\", \"linecolor\": \"white\", \"ticks\": \"\"}}, \"scene\": {\"xaxis\": {\"backgroundcolor\": \"#E5ECF6\", \"gridcolor\": \"white\", \"gridwidth\": 2, \"linecolor\": \"white\", \"showbackground\": true, \"ticks\": \"\", \"zerolinecolor\": \"white\"}, \"yaxis\": {\"backgroundcolor\": \"#E5ECF6\", \"gridcolor\": \"white\", \"gridwidth\": 2, \"linecolor\": \"white\", \"showbackground\": true, \"ticks\": \"\", \"zerolinecolor\": \"white\"}, \"zaxis\": {\"backgroundcolor\": \"#E5ECF6\", \"gridcolor\": \"white\", \"gridwidth\": 2, \"linecolor\": \"white\", \"showbackground\": true, \"ticks\": \"\", \"zerolinecolor\": \"white\"}}, \"shapedefaults\": {\"line\": {\"color\": \"#2a3f5f\"}}, \"ternary\": {\"aaxis\": {\"gridcolor\": \"white\", \"linecolor\": \"white\", \"ticks\": \"\"}, \"baxis\": {\"gridcolor\": \"white\", \"linecolor\": \"white\", \"ticks\": \"\"}, \"bgcolor\": \"#E5ECF6\", \"caxis\": {\"gridcolor\": \"white\", \"linecolor\": \"white\", \"ticks\": \"\"}}, \"title\": {\"x\": 0.05}, \"xaxis\": {\"automargin\": true, \"gridcolor\": \"white\", \"linecolor\": \"white\", \"ticks\": \"\", \"title\": {\"standoff\": 15}, \"zerolinecolor\": \"white\", \"zerolinewidth\": 2}, \"yaxis\": {\"automargin\": true, \"gridcolor\": \"white\", \"linecolor\": \"white\", \"ticks\": \"\", \"title\": {\"standoff\": 15}, \"zerolinecolor\": \"white\", \"zerolinewidth\": 2}}}, \"title\": {\"text\": \"Which are the directors that have directed more Movies?\"}, \"uniformtext\": {\"minsize\": 8, \"mode\": \"hide\"}, \"xaxis\": {\"title\": {\"font\": {\"size\": 14}, \"text\": \"Directors\"}}, \"yaxis\": {\"title\": {\"font\": {\"size\": 14}, \"text\": \"N\\u00b0 of Movies he/she directed\"}}},                        {\"responsive\": true}                    ).then(function(){\n",
       "                            \n",
       "var gd = document.getElementById('8fc8d20d-91c9-4157-bdac-aff33fd177ff');\n",
       "var x = new MutationObserver(function (mutations, observer) {{\n",
       "        var display = window.getComputedStyle(gd).display;\n",
       "        if (!display || display === 'none') {{\n",
       "            console.log([gd, 'removed!']);\n",
       "            Plotly.purge(gd);\n",
       "            observer.disconnect();\n",
       "        }}\n",
       "}});\n",
       "\n",
       "// Listen for the removal of the full notebook cells\n",
       "var notebookContainer = gd.closest('#notebook-container');\n",
       "if (notebookContainer) {{\n",
       "    x.observe(notebookContainer, {childList: true});\n",
       "}}\n",
       "\n",
       "// Listen for the clearing of the current output cell\n",
       "var outputEl = gd.closest('.output');\n",
       "if (outputEl) {{\n",
       "    x.observe(outputEl, {childList: true});\n",
       "}}\n",
       "\n",
       "                        })                };                });            </script>        </div>"
      ]
     },
     "metadata": {},
     "output_type": "display_data"
    }
   ],
   "source": [
    "fig = go.Figure(data=[go.Bar(\n",
    "    x = top_10_m_dir.index,\n",
    "    y = top_10_m_dir['Director Counts'],\n",
    "    text = top_10_m_dir['Director Counts'],\n",
    "    textposition='auto',\n",
    "    marker_color=colors_10 # marker color can be a single color value or an iterable\n",
    ")])\n",
    "fig.update_traces(texttemplate='%{text:.2s}', textposition='outside')\n",
    "fig.update_layout(title_text= 'Which are the directors that have directed more Movies?',\n",
    "                  uniformtext_minsize=8, uniformtext_mode='hide',\n",
    "                  yaxis=dict(\n",
    "                  title='N° of Movies he/she directed',\n",
    "                  titlefont_size=14),\n",
    "                  xaxis=dict(\n",
    "                  title='Directors',\n",
    "                  titlefont_size=14))"
   ]
  },
  {
   "cell_type": "markdown",
   "id": "american-greensboro",
   "metadata": {
    "papermill": {
     "duration": 0.096077,
     "end_time": "2021-06-05T06:17:43.835243",
     "exception": false,
     "start_time": "2021-06-05T06:17:43.739166",
     "status": "completed"
    },
    "tags": []
   },
   "source": [
    "As we can see the directors that have directed more Movies are **Steven Spielberg**, **Johnnie To** and **Jing Wong**."
   ]
  },
  {
   "cell_type": "markdown",
   "id": "bored-spank",
   "metadata": {
    "papermill": {
     "duration": 0.094806,
     "end_time": "2021-06-05T06:17:44.023785",
     "exception": false,
     "start_time": "2021-06-05T06:17:43.928979",
     "status": "completed"
    },
    "tags": []
   },
   "source": [
    "**2.8.2 Actors**"
   ]
  },
  {
   "cell_type": "markdown",
   "id": "recreational-restriction",
   "metadata": {
    "papermill": {
     "duration": 0.09661,
     "end_time": "2021-06-05T06:17:44.219064",
     "exception": false,
     "start_time": "2021-06-05T06:17:44.122454",
     "status": "completed"
    },
    "tags": []
   },
   "source": [
    "- **In Series planet**"
   ]
  },
  {
   "cell_type": "code",
   "execution_count": 43,
   "id": "dangerous-lotus",
   "metadata": {
    "execution": {
     "iopub.execute_input": "2021-06-05T06:17:44.415019Z",
     "iopub.status.busy": "2021-06-05T06:17:44.414351Z",
     "iopub.status.idle": "2021-06-05T06:17:44.419110Z",
     "shell.execute_reply": "2021-06-05T06:17:44.418634Z",
     "shell.execute_reply.started": "2021-06-05T05:35:39.306809Z"
    },
    "papermill": {
     "duration": 0.105596,
     "end_time": "2021-06-05T06:17:44.419237",
     "exception": false,
     "start_time": "2021-06-05T06:17:44.313641",
     "status": "completed"
    },
    "tags": []
   },
   "outputs": [],
   "source": [
    "df_series_act = df_series.dropna(subset=['Actors'])"
   ]
  },
  {
   "cell_type": "code",
   "execution_count": 44,
   "id": "attractive-negotiation",
   "metadata": {
    "execution": {
     "iopub.execute_input": "2021-06-05T06:17:44.625414Z",
     "iopub.status.busy": "2021-06-05T06:17:44.614224Z",
     "iopub.status.idle": "2021-06-05T06:17:44.630408Z",
     "shell.execute_reply": "2021-06-05T06:17:44.629946Z",
     "shell.execute_reply.started": "2021-06-05T05:35:39.320790Z"
    },
    "papermill": {
     "duration": 0.117026,
     "end_time": "2021-06-05T06:17:44.630581",
     "exception": false,
     "start_time": "2021-06-05T06:17:44.513555",
     "status": "completed"
    },
    "tags": []
   },
   "outputs": [],
   "source": [
    "series_act_list = df_series_act['Actors'].str.split(', ') #split the list into names\n",
    "s_act_list = {} #create an empty list\n",
    "for actors in series_act_list: # for any countries in series_ctr_list\n",
    "    for actor in actors: # for any country in countries\n",
    "        if (actor in s_act_list): #if this country is already present in the s_ctr_list\n",
    "            s_act_list[actor]+=1 # increase his value\n",
    "        else:  # else\n",
    "            s_act_list[actor]=1 # Create his index in the list\n",
    "s_act_df = pd.DataFrame(s_act_list.values(),index = s_act_list.keys(),\n",
    "                        columns = {'Actor Counts'}) #Create a s_ctr_df\n",
    "s_act_df.sort_values(by = 'Actor Counts',ascending = False,inplace = True) #Sort the dataframe in ascending order\n",
    "top_10_s_act = s_act_df[0:10] "
   ]
  },
  {
   "cell_type": "code",
   "execution_count": 45,
   "id": "deluxe-identity",
   "metadata": {
    "execution": {
     "iopub.execute_input": "2021-06-05T06:17:44.839109Z",
     "iopub.status.busy": "2021-06-05T06:17:44.838432Z",
     "iopub.status.idle": "2021-06-05T06:17:44.842732Z",
     "shell.execute_reply": "2021-06-05T06:17:44.842201Z",
     "shell.execute_reply.started": "2021-06-05T05:35:39.348402Z"
    },
    "papermill": {
     "duration": 0.117529,
     "end_time": "2021-06-05T06:17:44.842870",
     "exception": false,
     "start_time": "2021-06-05T06:17:44.725341",
     "status": "completed"
    },
    "tags": []
   },
   "outputs": [
    {
     "data": {
      "text/html": [
       "<div>                            <div id=\"38312aec-6b2c-4722-a8ee-422bf5438f94\" class=\"plotly-graph-div\" style=\"height:525px; width:100%;\"></div>            <script type=\"text/javascript\">                require([\"plotly\"], function(Plotly) {                    window.PLOTLYENV=window.PLOTLYENV || {};                                    if (document.getElementById(\"38312aec-6b2c-4722-a8ee-422bf5438f94\")) {                    Plotly.newPlot(                        \"38312aec-6b2c-4722-a8ee-422bf5438f94\",                        [{\"marker\": {\"color\": [\"DarkRed\", \"FireBrick\", \"Red\", \"Crimson\", \"IndianRed\", \"slategray\", \"gray\", \"dimgrey\", \"DarkSlateGrey\", \"black\"]}, \"text\": [19.0, 17.0, 15.0, 13.0, 12.0, 11.0, 11.0, 11.0, 10.0, 10.0], \"textposition\": \"outside\", \"texttemplate\": \"%{text:.2s}\", \"type\": \"bar\", \"x\": [\"Johnny Yong Bosch\", \"Kana Hanazawa\", \"Ai Kayano\", \"Ashleigh Ball\", \"Josh Grelle\", \"Saori Hayami\", \"Yoshimasa Hosoya\", \"Mamoru Miyano\", \"Jun Fukuyama\", \"Monica Rial\"], \"y\": [19, 17, 15, 13, 12, 11, 11, 11, 10, 10]}],                        {\"template\": {\"data\": {\"bar\": [{\"error_x\": {\"color\": \"#2a3f5f\"}, \"error_y\": {\"color\": \"#2a3f5f\"}, \"marker\": {\"line\": {\"color\": \"#E5ECF6\", \"width\": 0.5}}, \"type\": \"bar\"}], \"barpolar\": [{\"marker\": {\"line\": {\"color\": \"#E5ECF6\", \"width\": 0.5}}, \"type\": \"barpolar\"}], \"carpet\": [{\"aaxis\": {\"endlinecolor\": \"#2a3f5f\", \"gridcolor\": \"white\", \"linecolor\": \"white\", \"minorgridcolor\": \"white\", \"startlinecolor\": \"#2a3f5f\"}, \"baxis\": {\"endlinecolor\": \"#2a3f5f\", \"gridcolor\": \"white\", \"linecolor\": \"white\", \"minorgridcolor\": \"white\", \"startlinecolor\": \"#2a3f5f\"}, \"type\": \"carpet\"}], \"choropleth\": [{\"colorbar\": {\"outlinewidth\": 0, \"ticks\": \"\"}, \"type\": \"choropleth\"}], \"contour\": [{\"colorbar\": {\"outlinewidth\": 0, \"ticks\": \"\"}, \"colorscale\": [[0.0, \"#0d0887\"], [0.1111111111111111, \"#46039f\"], [0.2222222222222222, \"#7201a8\"], [0.3333333333333333, \"#9c179e\"], [0.4444444444444444, \"#bd3786\"], [0.5555555555555556, \"#d8576b\"], [0.6666666666666666, \"#ed7953\"], [0.7777777777777778, \"#fb9f3a\"], [0.8888888888888888, \"#fdca26\"], [1.0, \"#f0f921\"]], \"type\": \"contour\"}], \"contourcarpet\": [{\"colorbar\": {\"outlinewidth\": 0, \"ticks\": \"\"}, \"type\": \"contourcarpet\"}], \"heatmap\": [{\"colorbar\": {\"outlinewidth\": 0, \"ticks\": \"\"}, \"colorscale\": [[0.0, \"#0d0887\"], [0.1111111111111111, \"#46039f\"], [0.2222222222222222, \"#7201a8\"], [0.3333333333333333, \"#9c179e\"], [0.4444444444444444, \"#bd3786\"], [0.5555555555555556, \"#d8576b\"], [0.6666666666666666, \"#ed7953\"], [0.7777777777777778, \"#fb9f3a\"], [0.8888888888888888, \"#fdca26\"], [1.0, \"#f0f921\"]], \"type\": \"heatmap\"}], \"heatmapgl\": [{\"colorbar\": {\"outlinewidth\": 0, \"ticks\": \"\"}, \"colorscale\": [[0.0, \"#0d0887\"], [0.1111111111111111, \"#46039f\"], [0.2222222222222222, \"#7201a8\"], [0.3333333333333333, \"#9c179e\"], [0.4444444444444444, \"#bd3786\"], [0.5555555555555556, \"#d8576b\"], [0.6666666666666666, \"#ed7953\"], [0.7777777777777778, \"#fb9f3a\"], [0.8888888888888888, \"#fdca26\"], [1.0, \"#f0f921\"]], \"type\": \"heatmapgl\"}], \"histogram\": [{\"marker\": {\"colorbar\": {\"outlinewidth\": 0, \"ticks\": \"\"}}, \"type\": \"histogram\"}], \"histogram2d\": [{\"colorbar\": {\"outlinewidth\": 0, \"ticks\": \"\"}, \"colorscale\": [[0.0, \"#0d0887\"], [0.1111111111111111, \"#46039f\"], [0.2222222222222222, \"#7201a8\"], [0.3333333333333333, \"#9c179e\"], [0.4444444444444444, \"#bd3786\"], [0.5555555555555556, \"#d8576b\"], [0.6666666666666666, \"#ed7953\"], [0.7777777777777778, \"#fb9f3a\"], [0.8888888888888888, \"#fdca26\"], [1.0, \"#f0f921\"]], \"type\": \"histogram2d\"}], \"histogram2dcontour\": [{\"colorbar\": {\"outlinewidth\": 0, \"ticks\": \"\"}, \"colorscale\": [[0.0, \"#0d0887\"], [0.1111111111111111, \"#46039f\"], [0.2222222222222222, \"#7201a8\"], [0.3333333333333333, \"#9c179e\"], [0.4444444444444444, \"#bd3786\"], [0.5555555555555556, \"#d8576b\"], [0.6666666666666666, \"#ed7953\"], [0.7777777777777778, \"#fb9f3a\"], [0.8888888888888888, \"#fdca26\"], [1.0, \"#f0f921\"]], \"type\": \"histogram2dcontour\"}], \"mesh3d\": [{\"colorbar\": {\"outlinewidth\": 0, \"ticks\": \"\"}, \"type\": \"mesh3d\"}], \"parcoords\": [{\"line\": {\"colorbar\": {\"outlinewidth\": 0, \"ticks\": \"\"}}, \"type\": \"parcoords\"}], \"pie\": [{\"automargin\": true, \"type\": \"pie\"}], \"scatter\": [{\"marker\": {\"colorbar\": {\"outlinewidth\": 0, \"ticks\": \"\"}}, \"type\": \"scatter\"}], \"scatter3d\": [{\"line\": {\"colorbar\": {\"outlinewidth\": 0, \"ticks\": \"\"}}, \"marker\": {\"colorbar\": {\"outlinewidth\": 0, \"ticks\": \"\"}}, \"type\": \"scatter3d\"}], \"scattercarpet\": [{\"marker\": {\"colorbar\": {\"outlinewidth\": 0, \"ticks\": \"\"}}, \"type\": \"scattercarpet\"}], \"scattergeo\": [{\"marker\": {\"colorbar\": {\"outlinewidth\": 0, \"ticks\": \"\"}}, \"type\": \"scattergeo\"}], \"scattergl\": [{\"marker\": {\"colorbar\": {\"outlinewidth\": 0, \"ticks\": \"\"}}, \"type\": \"scattergl\"}], \"scattermapbox\": [{\"marker\": {\"colorbar\": {\"outlinewidth\": 0, \"ticks\": \"\"}}, \"type\": \"scattermapbox\"}], \"scatterpolar\": [{\"marker\": {\"colorbar\": {\"outlinewidth\": 0, \"ticks\": \"\"}}, \"type\": \"scatterpolar\"}], \"scatterpolargl\": [{\"marker\": {\"colorbar\": {\"outlinewidth\": 0, \"ticks\": \"\"}}, \"type\": \"scatterpolargl\"}], \"scatterternary\": [{\"marker\": {\"colorbar\": {\"outlinewidth\": 0, \"ticks\": \"\"}}, \"type\": \"scatterternary\"}], \"surface\": [{\"colorbar\": {\"outlinewidth\": 0, \"ticks\": \"\"}, \"colorscale\": [[0.0, \"#0d0887\"], [0.1111111111111111, \"#46039f\"], [0.2222222222222222, \"#7201a8\"], [0.3333333333333333, \"#9c179e\"], [0.4444444444444444, \"#bd3786\"], [0.5555555555555556, \"#d8576b\"], [0.6666666666666666, \"#ed7953\"], [0.7777777777777778, \"#fb9f3a\"], [0.8888888888888888, \"#fdca26\"], [1.0, \"#f0f921\"]], \"type\": \"surface\"}], \"table\": [{\"cells\": {\"fill\": {\"color\": \"#EBF0F8\"}, \"line\": {\"color\": \"white\"}}, \"header\": {\"fill\": {\"color\": \"#C8D4E3\"}, \"line\": {\"color\": \"white\"}}, \"type\": \"table\"}]}, \"layout\": {\"annotationdefaults\": {\"arrowcolor\": \"#2a3f5f\", \"arrowhead\": 0, \"arrowwidth\": 1}, \"autotypenumbers\": \"strict\", \"coloraxis\": {\"colorbar\": {\"outlinewidth\": 0, \"ticks\": \"\"}}, \"colorscale\": {\"diverging\": [[0, \"#8e0152\"], [0.1, \"#c51b7d\"], [0.2, \"#de77ae\"], [0.3, \"#f1b6da\"], [0.4, \"#fde0ef\"], [0.5, \"#f7f7f7\"], [0.6, \"#e6f5d0\"], [0.7, \"#b8e186\"], [0.8, \"#7fbc41\"], [0.9, \"#4d9221\"], [1, \"#276419\"]], \"sequential\": [[0.0, \"#0d0887\"], [0.1111111111111111, \"#46039f\"], [0.2222222222222222, \"#7201a8\"], [0.3333333333333333, \"#9c179e\"], [0.4444444444444444, \"#bd3786\"], [0.5555555555555556, \"#d8576b\"], [0.6666666666666666, \"#ed7953\"], [0.7777777777777778, \"#fb9f3a\"], [0.8888888888888888, \"#fdca26\"], [1.0, \"#f0f921\"]], \"sequentialminus\": [[0.0, \"#0d0887\"], [0.1111111111111111, \"#46039f\"], [0.2222222222222222, \"#7201a8\"], [0.3333333333333333, \"#9c179e\"], [0.4444444444444444, \"#bd3786\"], [0.5555555555555556, \"#d8576b\"], [0.6666666666666666, \"#ed7953\"], [0.7777777777777778, \"#fb9f3a\"], [0.8888888888888888, \"#fdca26\"], [1.0, \"#f0f921\"]]}, \"colorway\": [\"#636efa\", \"#EF553B\", \"#00cc96\", \"#ab63fa\", \"#FFA15A\", \"#19d3f3\", \"#FF6692\", \"#B6E880\", \"#FF97FF\", \"#FECB52\"], \"font\": {\"color\": \"#2a3f5f\"}, \"geo\": {\"bgcolor\": \"white\", \"lakecolor\": \"white\", \"landcolor\": \"#E5ECF6\", \"showlakes\": true, \"showland\": true, \"subunitcolor\": \"white\"}, \"hoverlabel\": {\"align\": \"left\"}, \"hovermode\": \"closest\", \"mapbox\": {\"style\": \"light\"}, \"paper_bgcolor\": \"white\", \"plot_bgcolor\": \"#E5ECF6\", \"polar\": {\"angularaxis\": {\"gridcolor\": \"white\", \"linecolor\": \"white\", \"ticks\": \"\"}, \"bgcolor\": \"#E5ECF6\", \"radialaxis\": {\"gridcolor\": \"white\", \"linecolor\": \"white\", \"ticks\": \"\"}}, \"scene\": {\"xaxis\": {\"backgroundcolor\": \"#E5ECF6\", \"gridcolor\": \"white\", \"gridwidth\": 2, \"linecolor\": \"white\", \"showbackground\": true, \"ticks\": \"\", \"zerolinecolor\": \"white\"}, \"yaxis\": {\"backgroundcolor\": \"#E5ECF6\", \"gridcolor\": \"white\", \"gridwidth\": 2, \"linecolor\": \"white\", \"showbackground\": true, \"ticks\": \"\", \"zerolinecolor\": \"white\"}, \"zaxis\": {\"backgroundcolor\": \"#E5ECF6\", \"gridcolor\": \"white\", \"gridwidth\": 2, \"linecolor\": \"white\", \"showbackground\": true, \"ticks\": \"\", \"zerolinecolor\": \"white\"}}, \"shapedefaults\": {\"line\": {\"color\": \"#2a3f5f\"}}, \"ternary\": {\"aaxis\": {\"gridcolor\": \"white\", \"linecolor\": \"white\", \"ticks\": \"\"}, \"baxis\": {\"gridcolor\": \"white\", \"linecolor\": \"white\", \"ticks\": \"\"}, \"bgcolor\": \"#E5ECF6\", \"caxis\": {\"gridcolor\": \"white\", \"linecolor\": \"white\", \"ticks\": \"\"}}, \"title\": {\"x\": 0.05}, \"xaxis\": {\"automargin\": true, \"gridcolor\": \"white\", \"linecolor\": \"white\", \"ticks\": \"\", \"title\": {\"standoff\": 15}, \"zerolinecolor\": \"white\", \"zerolinewidth\": 2}, \"yaxis\": {\"automargin\": true, \"gridcolor\": \"white\", \"linecolor\": \"white\", \"ticks\": \"\", \"title\": {\"standoff\": 15}, \"zerolinecolor\": \"white\", \"zerolinewidth\": 2}}}, \"title\": {\"text\": \"Which are the actors that have played more Tv Series?\"}, \"uniformtext\": {\"minsize\": 8, \"mode\": \"hide\"}, \"xaxis\": {\"title\": {\"font\": {\"size\": 14}, \"text\": \"Actors\"}}, \"yaxis\": {\"title\": {\"font\": {\"size\": 14}, \"text\": \"N\\u00b0 of Tv Series he/she played\"}}},                        {\"responsive\": true}                    ).then(function(){\n",
       "                            \n",
       "var gd = document.getElementById('38312aec-6b2c-4722-a8ee-422bf5438f94');\n",
       "var x = new MutationObserver(function (mutations, observer) {{\n",
       "        var display = window.getComputedStyle(gd).display;\n",
       "        if (!display || display === 'none') {{\n",
       "            console.log([gd, 'removed!']);\n",
       "            Plotly.purge(gd);\n",
       "            observer.disconnect();\n",
       "        }}\n",
       "}});\n",
       "\n",
       "// Listen for the removal of the full notebook cells\n",
       "var notebookContainer = gd.closest('#notebook-container');\n",
       "if (notebookContainer) {{\n",
       "    x.observe(notebookContainer, {childList: true});\n",
       "}}\n",
       "\n",
       "// Listen for the clearing of the current output cell\n",
       "var outputEl = gd.closest('.output');\n",
       "if (outputEl) {{\n",
       "    x.observe(outputEl, {childList: true});\n",
       "}}\n",
       "\n",
       "                        })                };                });            </script>        </div>"
      ]
     },
     "metadata": {},
     "output_type": "display_data"
    }
   ],
   "source": [
    "fig = go.Figure(data=[go.Bar(\n",
    "    x = top_10_s_act.index,\n",
    "    y = top_10_s_act['Actor Counts'],\n",
    "    text = top_10_s_act['Actor Counts'],\n",
    "    textposition='auto',\n",
    "    marker_color=colors_10 # marker color can be a single color value or an iterable\n",
    ")])\n",
    "fig.update_traces(texttemplate='%{text:.2s}', textposition='outside')\n",
    "fig.update_layout(title_text= 'Which are the actors that have played more Tv Series?',\n",
    "                  uniformtext_minsize=8, uniformtext_mode='hide',\n",
    "                  yaxis=dict(\n",
    "                  title='N° of Tv Series he/she played',\n",
    "                  titlefont_size=14),\n",
    "                  xaxis=dict(\n",
    "                  title='Actors',\n",
    "                  titlefont_size=14))"
   ]
  },
  {
   "cell_type": "markdown",
   "id": "expected-curve",
   "metadata": {
    "papermill": {
     "duration": 0.095718,
     "end_time": "2021-06-05T06:17:45.035321",
     "exception": false,
     "start_time": "2021-06-05T06:17:44.939603",
     "status": "completed"
    },
    "tags": []
   },
   "source": [
    "As we can see the actors that have played more Series are **Johnny Yong Bosch**, **Kana Hanazawa** and **Ai Kayano**."
   ]
  },
  {
   "cell_type": "markdown",
   "id": "overall-lingerie",
   "metadata": {
    "papermill": {
     "duration": 0.097962,
     "end_time": "2021-06-05T06:17:45.230114",
     "exception": false,
     "start_time": "2021-06-05T06:17:45.132152",
     "status": "completed"
    },
    "tags": []
   },
   "source": [
    "- **Meanwhile in the Movies world**"
   ]
  },
  {
   "cell_type": "code",
   "execution_count": 46,
   "id": "decent-jewelry",
   "metadata": {
    "execution": {
     "iopub.execute_input": "2021-06-05T06:17:45.445238Z",
     "iopub.status.busy": "2021-06-05T06:17:45.444633Z",
     "iopub.status.idle": "2021-06-05T06:17:45.451031Z",
     "shell.execute_reply": "2021-06-05T06:17:45.451431Z",
     "shell.execute_reply.started": "2021-06-05T05:35:39.377123Z"
    },
    "papermill": {
     "duration": 0.108645,
     "end_time": "2021-06-05T06:17:45.451629",
     "exception": false,
     "start_time": "2021-06-05T06:17:45.342984",
     "status": "completed"
    },
    "tags": []
   },
   "outputs": [],
   "source": [
    "df_movie_act = df_movie.dropna(subset=['Actors'])"
   ]
  },
  {
   "cell_type": "code",
   "execution_count": 47,
   "id": "separate-summary",
   "metadata": {
    "execution": {
     "iopub.execute_input": "2021-06-05T06:17:45.666965Z",
     "iopub.status.busy": "2021-06-05T06:17:45.661299Z",
     "iopub.status.idle": "2021-06-05T06:17:45.690454Z",
     "shell.execute_reply": "2021-06-05T06:17:45.689962Z",
     "shell.execute_reply.started": "2021-06-05T05:35:39.396258Z"
    },
    "papermill": {
     "duration": 0.143026,
     "end_time": "2021-06-05T06:17:45.690603",
     "exception": false,
     "start_time": "2021-06-05T06:17:45.547577",
     "status": "completed"
    },
    "tags": []
   },
   "outputs": [],
   "source": [
    "movie_act_list = df_movie_act['Actors'].str.split(', ') #split the list into names\n",
    "m_act_list = {} #create an empty list\n",
    "for actors in movie_act_list: # for any countries in series_ctr_list\n",
    "    for actor in actors: # for any country in countries\n",
    "        if (actor in m_act_list): #if this country is already present in the s_ctr_list\n",
    "            m_act_list[actor]+=1 # increase his value\n",
    "        else:  # else\n",
    "            m_act_list[actor]=1 # Create his index in the list\n",
    "m_act_df = pd.DataFrame(m_act_list.values(),index = m_act_list.keys(),\n",
    "                        columns = {'Actor Counts'}) #Create a s_ctr_df\n",
    "m_act_df.sort_values(by = 'Actor Counts',ascending = False,inplace = True) #Sort the dataframe in ascending order\n",
    "top_10_m_act = m_act_df[0:10] "
   ]
  },
  {
   "cell_type": "code",
   "execution_count": 48,
   "id": "interim-spending",
   "metadata": {
    "execution": {
     "iopub.execute_input": "2021-06-05T06:17:45.897923Z",
     "iopub.status.busy": "2021-06-05T06:17:45.897268Z",
     "iopub.status.idle": "2021-06-05T06:17:45.902197Z",
     "shell.execute_reply": "2021-06-05T06:17:45.902586Z",
     "shell.execute_reply.started": "2021-06-05T05:35:39.453181Z"
    },
    "papermill": {
     "duration": 0.116914,
     "end_time": "2021-06-05T06:17:45.902746",
     "exception": false,
     "start_time": "2021-06-05T06:17:45.785832",
     "status": "completed"
    },
    "tags": []
   },
   "outputs": [
    {
     "data": {
      "text/html": [
       "<div>                            <div id=\"6d5334e1-2990-4cc9-8105-8e1be3886539\" class=\"plotly-graph-div\" style=\"height:525px; width:100%;\"></div>            <script type=\"text/javascript\">                require([\"plotly\"], function(Plotly) {                    window.PLOTLYENV=window.PLOTLYENV || {};                                    if (document.getElementById(\"6d5334e1-2990-4cc9-8105-8e1be3886539\")) {                    Plotly.newPlot(                        \"6d5334e1-2990-4cc9-8105-8e1be3886539\",                        [{\"marker\": {\"color\": [\"DarkRed\", \"FireBrick\", \"Red\", \"Crimson\", \"IndianRed\", \"slategray\", \"gray\", \"dimgrey\", \"DarkSlateGrey\", \"black\"]}, \"text\": [38.0, 38.0, 36.0, 34.0, 33.0, 33.0, 33.0, 32.0, 29.0, 29.0], \"textposition\": \"outside\", \"texttemplate\": \"%{text:.2s}\", \"type\": \"bar\", \"x\": [\"Bruce Willis\", \"Jackie Chan\", \"Nicolas Cage\", \"Robert De Niro\", \"Liam Neeson\", \"Adam Sandler\", \"Shah Rukh Khan\", \"Mark Wahlberg\", \"Samuel L. Jackson\", \"Stephen Chow\"], \"y\": [38, 38, 36, 34, 33, 33, 33, 32, 29, 29]}],                        {\"template\": {\"data\": {\"bar\": [{\"error_x\": {\"color\": \"#2a3f5f\"}, \"error_y\": {\"color\": \"#2a3f5f\"}, \"marker\": {\"line\": {\"color\": \"#E5ECF6\", \"width\": 0.5}}, \"type\": \"bar\"}], \"barpolar\": [{\"marker\": {\"line\": {\"color\": \"#E5ECF6\", \"width\": 0.5}}, \"type\": \"barpolar\"}], \"carpet\": [{\"aaxis\": {\"endlinecolor\": \"#2a3f5f\", \"gridcolor\": \"white\", \"linecolor\": \"white\", \"minorgridcolor\": \"white\", \"startlinecolor\": \"#2a3f5f\"}, \"baxis\": {\"endlinecolor\": \"#2a3f5f\", \"gridcolor\": \"white\", \"linecolor\": \"white\", \"minorgridcolor\": \"white\", \"startlinecolor\": \"#2a3f5f\"}, \"type\": \"carpet\"}], \"choropleth\": [{\"colorbar\": {\"outlinewidth\": 0, \"ticks\": \"\"}, \"type\": \"choropleth\"}], \"contour\": [{\"colorbar\": {\"outlinewidth\": 0, \"ticks\": \"\"}, \"colorscale\": [[0.0, \"#0d0887\"], [0.1111111111111111, \"#46039f\"], [0.2222222222222222, \"#7201a8\"], [0.3333333333333333, \"#9c179e\"], [0.4444444444444444, \"#bd3786\"], [0.5555555555555556, \"#d8576b\"], [0.6666666666666666, \"#ed7953\"], [0.7777777777777778, \"#fb9f3a\"], [0.8888888888888888, \"#fdca26\"], [1.0, \"#f0f921\"]], \"type\": \"contour\"}], \"contourcarpet\": [{\"colorbar\": {\"outlinewidth\": 0, \"ticks\": \"\"}, \"type\": \"contourcarpet\"}], \"heatmap\": [{\"colorbar\": {\"outlinewidth\": 0, \"ticks\": \"\"}, \"colorscale\": [[0.0, \"#0d0887\"], [0.1111111111111111, \"#46039f\"], [0.2222222222222222, \"#7201a8\"], [0.3333333333333333, \"#9c179e\"], [0.4444444444444444, \"#bd3786\"], [0.5555555555555556, \"#d8576b\"], [0.6666666666666666, \"#ed7953\"], [0.7777777777777778, \"#fb9f3a\"], [0.8888888888888888, \"#fdca26\"], [1.0, \"#f0f921\"]], \"type\": \"heatmap\"}], \"heatmapgl\": [{\"colorbar\": {\"outlinewidth\": 0, \"ticks\": \"\"}, \"colorscale\": [[0.0, \"#0d0887\"], [0.1111111111111111, \"#46039f\"], [0.2222222222222222, \"#7201a8\"], [0.3333333333333333, \"#9c179e\"], [0.4444444444444444, \"#bd3786\"], [0.5555555555555556, \"#d8576b\"], [0.6666666666666666, \"#ed7953\"], [0.7777777777777778, \"#fb9f3a\"], [0.8888888888888888, \"#fdca26\"], [1.0, \"#f0f921\"]], \"type\": \"heatmapgl\"}], \"histogram\": [{\"marker\": {\"colorbar\": {\"outlinewidth\": 0, \"ticks\": \"\"}}, \"type\": \"histogram\"}], \"histogram2d\": [{\"colorbar\": {\"outlinewidth\": 0, \"ticks\": \"\"}, \"colorscale\": [[0.0, \"#0d0887\"], [0.1111111111111111, \"#46039f\"], [0.2222222222222222, \"#7201a8\"], [0.3333333333333333, \"#9c179e\"], [0.4444444444444444, \"#bd3786\"], [0.5555555555555556, \"#d8576b\"], [0.6666666666666666, \"#ed7953\"], [0.7777777777777778, \"#fb9f3a\"], [0.8888888888888888, \"#fdca26\"], [1.0, \"#f0f921\"]], \"type\": \"histogram2d\"}], \"histogram2dcontour\": [{\"colorbar\": {\"outlinewidth\": 0, \"ticks\": \"\"}, \"colorscale\": [[0.0, \"#0d0887\"], [0.1111111111111111, \"#46039f\"], [0.2222222222222222, \"#7201a8\"], [0.3333333333333333, \"#9c179e\"], [0.4444444444444444, \"#bd3786\"], [0.5555555555555556, \"#d8576b\"], [0.6666666666666666, \"#ed7953\"], [0.7777777777777778, \"#fb9f3a\"], [0.8888888888888888, \"#fdca26\"], [1.0, \"#f0f921\"]], \"type\": \"histogram2dcontour\"}], \"mesh3d\": [{\"colorbar\": {\"outlinewidth\": 0, \"ticks\": \"\"}, \"type\": \"mesh3d\"}], \"parcoords\": [{\"line\": {\"colorbar\": {\"outlinewidth\": 0, \"ticks\": \"\"}}, \"type\": \"parcoords\"}], \"pie\": [{\"automargin\": true, \"type\": \"pie\"}], \"scatter\": [{\"marker\": {\"colorbar\": {\"outlinewidth\": 0, \"ticks\": \"\"}}, \"type\": \"scatter\"}], \"scatter3d\": [{\"line\": {\"colorbar\": {\"outlinewidth\": 0, \"ticks\": \"\"}}, \"marker\": {\"colorbar\": {\"outlinewidth\": 0, \"ticks\": \"\"}}, \"type\": \"scatter3d\"}], \"scattercarpet\": [{\"marker\": {\"colorbar\": {\"outlinewidth\": 0, \"ticks\": \"\"}}, \"type\": \"scattercarpet\"}], \"scattergeo\": [{\"marker\": {\"colorbar\": {\"outlinewidth\": 0, \"ticks\": \"\"}}, \"type\": \"scattergeo\"}], \"scattergl\": [{\"marker\": {\"colorbar\": {\"outlinewidth\": 0, \"ticks\": \"\"}}, \"type\": \"scattergl\"}], \"scattermapbox\": [{\"marker\": {\"colorbar\": {\"outlinewidth\": 0, \"ticks\": \"\"}}, \"type\": \"scattermapbox\"}], \"scatterpolar\": [{\"marker\": {\"colorbar\": {\"outlinewidth\": 0, \"ticks\": \"\"}}, \"type\": \"scatterpolar\"}], \"scatterpolargl\": [{\"marker\": {\"colorbar\": {\"outlinewidth\": 0, \"ticks\": \"\"}}, \"type\": \"scatterpolargl\"}], \"scatterternary\": [{\"marker\": {\"colorbar\": {\"outlinewidth\": 0, \"ticks\": \"\"}}, \"type\": \"scatterternary\"}], \"surface\": [{\"colorbar\": {\"outlinewidth\": 0, \"ticks\": \"\"}, \"colorscale\": [[0.0, \"#0d0887\"], [0.1111111111111111, \"#46039f\"], [0.2222222222222222, \"#7201a8\"], [0.3333333333333333, \"#9c179e\"], [0.4444444444444444, \"#bd3786\"], [0.5555555555555556, \"#d8576b\"], [0.6666666666666666, \"#ed7953\"], [0.7777777777777778, \"#fb9f3a\"], [0.8888888888888888, \"#fdca26\"], [1.0, \"#f0f921\"]], \"type\": \"surface\"}], \"table\": [{\"cells\": {\"fill\": {\"color\": \"#EBF0F8\"}, \"line\": {\"color\": \"white\"}}, \"header\": {\"fill\": {\"color\": \"#C8D4E3\"}, \"line\": {\"color\": \"white\"}}, \"type\": \"table\"}]}, \"layout\": {\"annotationdefaults\": {\"arrowcolor\": \"#2a3f5f\", \"arrowhead\": 0, \"arrowwidth\": 1}, \"autotypenumbers\": \"strict\", \"coloraxis\": {\"colorbar\": {\"outlinewidth\": 0, \"ticks\": \"\"}}, \"colorscale\": {\"diverging\": [[0, \"#8e0152\"], [0.1, \"#c51b7d\"], [0.2, \"#de77ae\"], [0.3, \"#f1b6da\"], [0.4, \"#fde0ef\"], [0.5, \"#f7f7f7\"], [0.6, \"#e6f5d0\"], [0.7, \"#b8e186\"], [0.8, \"#7fbc41\"], [0.9, \"#4d9221\"], [1, \"#276419\"]], \"sequential\": [[0.0, \"#0d0887\"], [0.1111111111111111, \"#46039f\"], [0.2222222222222222, \"#7201a8\"], [0.3333333333333333, \"#9c179e\"], [0.4444444444444444, \"#bd3786\"], [0.5555555555555556, \"#d8576b\"], [0.6666666666666666, \"#ed7953\"], [0.7777777777777778, \"#fb9f3a\"], [0.8888888888888888, \"#fdca26\"], [1.0, \"#f0f921\"]], \"sequentialminus\": [[0.0, \"#0d0887\"], [0.1111111111111111, \"#46039f\"], [0.2222222222222222, \"#7201a8\"], [0.3333333333333333, \"#9c179e\"], [0.4444444444444444, \"#bd3786\"], [0.5555555555555556, \"#d8576b\"], [0.6666666666666666, \"#ed7953\"], [0.7777777777777778, \"#fb9f3a\"], [0.8888888888888888, \"#fdca26\"], [1.0, \"#f0f921\"]]}, \"colorway\": [\"#636efa\", \"#EF553B\", \"#00cc96\", \"#ab63fa\", \"#FFA15A\", \"#19d3f3\", \"#FF6692\", \"#B6E880\", \"#FF97FF\", \"#FECB52\"], \"font\": {\"color\": \"#2a3f5f\"}, \"geo\": {\"bgcolor\": \"white\", \"lakecolor\": \"white\", \"landcolor\": \"#E5ECF6\", \"showlakes\": true, \"showland\": true, \"subunitcolor\": \"white\"}, \"hoverlabel\": {\"align\": \"left\"}, \"hovermode\": \"closest\", \"mapbox\": {\"style\": \"light\"}, \"paper_bgcolor\": \"white\", \"plot_bgcolor\": \"#E5ECF6\", \"polar\": {\"angularaxis\": {\"gridcolor\": \"white\", \"linecolor\": \"white\", \"ticks\": \"\"}, \"bgcolor\": \"#E5ECF6\", \"radialaxis\": {\"gridcolor\": \"white\", \"linecolor\": \"white\", \"ticks\": \"\"}}, \"scene\": {\"xaxis\": {\"backgroundcolor\": \"#E5ECF6\", \"gridcolor\": \"white\", \"gridwidth\": 2, \"linecolor\": \"white\", \"showbackground\": true, \"ticks\": \"\", \"zerolinecolor\": \"white\"}, \"yaxis\": {\"backgroundcolor\": \"#E5ECF6\", \"gridcolor\": \"white\", \"gridwidth\": 2, \"linecolor\": \"white\", \"showbackground\": true, \"ticks\": \"\", \"zerolinecolor\": \"white\"}, \"zaxis\": {\"backgroundcolor\": \"#E5ECF6\", \"gridcolor\": \"white\", \"gridwidth\": 2, \"linecolor\": \"white\", \"showbackground\": true, \"ticks\": \"\", \"zerolinecolor\": \"white\"}}, \"shapedefaults\": {\"line\": {\"color\": \"#2a3f5f\"}}, \"ternary\": {\"aaxis\": {\"gridcolor\": \"white\", \"linecolor\": \"white\", \"ticks\": \"\"}, \"baxis\": {\"gridcolor\": \"white\", \"linecolor\": \"white\", \"ticks\": \"\"}, \"bgcolor\": \"#E5ECF6\", \"caxis\": {\"gridcolor\": \"white\", \"linecolor\": \"white\", \"ticks\": \"\"}}, \"title\": {\"x\": 0.05}, \"xaxis\": {\"automargin\": true, \"gridcolor\": \"white\", \"linecolor\": \"white\", \"ticks\": \"\", \"title\": {\"standoff\": 15}, \"zerolinecolor\": \"white\", \"zerolinewidth\": 2}, \"yaxis\": {\"automargin\": true, \"gridcolor\": \"white\", \"linecolor\": \"white\", \"ticks\": \"\", \"title\": {\"standoff\": 15}, \"zerolinecolor\": \"white\", \"zerolinewidth\": 2}}}, \"title\": {\"text\": \"Which are the actors that have played more Movies?\"}, \"uniformtext\": {\"minsize\": 8, \"mode\": \"hide\"}, \"xaxis\": {\"title\": {\"font\": {\"size\": 14}, \"text\": \"Actors\"}}, \"yaxis\": {\"title\": {\"font\": {\"size\": 14}, \"text\": \"N\\u00b0 of Movies he/she played\"}}},                        {\"responsive\": true}                    ).then(function(){\n",
       "                            \n",
       "var gd = document.getElementById('6d5334e1-2990-4cc9-8105-8e1be3886539');\n",
       "var x = new MutationObserver(function (mutations, observer) {{\n",
       "        var display = window.getComputedStyle(gd).display;\n",
       "        if (!display || display === 'none') {{\n",
       "            console.log([gd, 'removed!']);\n",
       "            Plotly.purge(gd);\n",
       "            observer.disconnect();\n",
       "        }}\n",
       "}});\n",
       "\n",
       "// Listen for the removal of the full notebook cells\n",
       "var notebookContainer = gd.closest('#notebook-container');\n",
       "if (notebookContainer) {{\n",
       "    x.observe(notebookContainer, {childList: true});\n",
       "}}\n",
       "\n",
       "// Listen for the clearing of the current output cell\n",
       "var outputEl = gd.closest('.output');\n",
       "if (outputEl) {{\n",
       "    x.observe(outputEl, {childList: true});\n",
       "}}\n",
       "\n",
       "                        })                };                });            </script>        </div>"
      ]
     },
     "metadata": {},
     "output_type": "display_data"
    }
   ],
   "source": [
    "fig = go.Figure(data=[go.Bar(\n",
    "    x = top_10_m_act.index,\n",
    "    y = top_10_m_act['Actor Counts'],\n",
    "    text = top_10_m_act['Actor Counts'],\n",
    "    textposition='auto',\n",
    "    marker_color=colors_10 # marker color can be a single color value or an iterable\n",
    ")])\n",
    "fig.update_traces(texttemplate='%{text:.2s}', textposition='outside')\n",
    "fig.update_layout(title_text= 'Which are the actors that have played more Movies?',\n",
    "                  uniformtext_minsize=8, uniformtext_mode='hide',\n",
    "                  yaxis=dict(\n",
    "                  title='N° of Movies he/she played',\n",
    "                  titlefont_size=14),\n",
    "                  xaxis=dict(\n",
    "                  title='Actors',\n",
    "                  titlefont_size=14))"
   ]
  },
  {
   "cell_type": "markdown",
   "id": "foreign-messaging",
   "metadata": {
    "papermill": {
     "duration": 0.096128,
     "end_time": "2021-06-05T06:17:46.095372",
     "exception": false,
     "start_time": "2021-06-05T06:17:45.999244",
     "status": "completed"
    },
    "tags": []
   },
   "source": [
    "As we can see the actors that have played more Movies are **Bruce Willis**, **Jackie Chan** and **Nicolas Cage**."
   ]
  },
  {
   "cell_type": "markdown",
   "id": "divine-theorem",
   "metadata": {
    "papermill": {
     "duration": 0.094993,
     "end_time": "2021-06-05T06:17:46.288021",
     "exception": false,
     "start_time": "2021-06-05T06:17:46.193028",
     "status": "completed"
    },
    "tags": []
   },
   "source": [
    "# 2.9 Tv Series 📺 and Movie 📽‍️ Charts by Rotten Tomatoes and IMBd"
   ]
  },
  {
   "cell_type": "markdown",
   "id": "advisory-minnesota",
   "metadata": {
    "papermill": {
     "duration": 0.095321,
     "end_time": "2021-06-05T06:17:46.478669",
     "exception": false,
     "start_time": "2021-06-05T06:17:46.383348",
     "status": "completed"
    },
    "tags": []
   },
   "source": [
    "> 📌 Note: We are not human if we do not judge things, it is in our nature. As happens in all things, even in the film world there are those who give votes, for this reason we are going to analyze 2 of the major websites where you can find reliable reviews and votes that could help us, or advise us, in the search for a Film / TV series to see:\n",
    "> * **Rotten Tomatoes** is an American review-aggregation website for film and television. The company was launched in August 1998 by three undergraduate students at the University of California, Berkeley: Senh Duong, Patrick Y. Lee, and Stephen Wang. Although the name \"Rotten Tomatoes\" connects to the practice of audiences throwing rotten tomatoes when disapproving of a poor stage performance, the original inspiration comes from a scene featuring tomatoes in the Canadian film Léolo (1992).\n",
    "> * **IMDb (an acronym for Internet Movie Database)** is an online database of information related to films, television programs, home videos, video games, and streaming content online – including cast, production crew and personal biographies, plot summaries, trivia, ratings, and fan and critical reviews.  Originally a fan-operated website, the database is now owned and operated by IMDb.com, Inc., a subsidiary of Amazon."
   ]
  },
  {
   "cell_type": "markdown",
   "id": "sealed-vision",
   "metadata": {
    "papermill": {
     "duration": 0.096137,
     "end_time": "2021-06-05T06:17:46.670881",
     "exception": false,
     "start_time": "2021-06-05T06:17:46.574744",
     "status": "completed"
    },
    "tags": []
   },
   "source": [
    "**2.9.1 Tv Series 📺 Charts**"
   ]
  },
  {
   "cell_type": "markdown",
   "id": "biblical-handbook",
   "metadata": {
    "papermill": {
     "duration": 0.09598,
     "end_time": "2021-06-05T06:17:46.862155",
     "exception": false,
     "start_time": "2021-06-05T06:17:46.766175",
     "status": "completed"
    },
    "tags": []
   },
   "source": [
    "- **IMDb**"
   ]
  },
  {
   "cell_type": "code",
   "execution_count": 49,
   "id": "widespread-memory",
   "metadata": {
    "execution": {
     "iopub.execute_input": "2021-06-05T06:17:47.067779Z",
     "iopub.status.busy": "2021-06-05T06:17:47.066890Z",
     "iopub.status.idle": "2021-06-05T06:17:47.069908Z",
     "shell.execute_reply": "2021-06-05T06:17:47.070383Z",
     "shell.execute_reply.started": "2021-06-05T05:35:39.481949Z"
    },
    "papermill": {
     "duration": 0.11199,
     "end_time": "2021-06-05T06:17:47.070607",
     "exception": false,
     "start_time": "2021-06-05T06:17:46.958617",
     "status": "completed"
    },
    "tags": []
   },
   "outputs": [],
   "source": [
    "df_series_imdb = df_series.dropna(subset=['IMDb Score'])\n",
    "df_series_imdb = df_series_imdb.sort_values(by = 'IMDb Score', ascending = False)\n",
    "top_s_imdb_10_list = df_series_imdb[:10]"
   ]
  },
  {
   "cell_type": "code",
   "execution_count": 50,
   "id": "unknown-favor",
   "metadata": {
    "execution": {
     "iopub.execute_input": "2021-06-05T06:17:47.303142Z",
     "iopub.status.busy": "2021-06-05T06:17:47.302382Z",
     "iopub.status.idle": "2021-06-05T06:17:47.307354Z",
     "shell.execute_reply": "2021-06-05T06:17:47.306828Z",
     "shell.execute_reply.started": "2021-06-05T05:35:39.497309Z"
    },
    "papermill": {
     "duration": 0.123988,
     "end_time": "2021-06-05T06:17:47.307500",
     "exception": false,
     "start_time": "2021-06-05T06:17:47.183512",
     "status": "completed"
    },
    "tags": []
   },
   "outputs": [
    {
     "data": {
      "text/html": [
       "<div>                            <div id=\"aba1c868-bdfc-4061-bad0-7849a2ab56f6\" class=\"plotly-graph-div\" style=\"height:525px; width:100%;\"></div>            <script type=\"text/javascript\">                require([\"plotly\"], function(Plotly) {                    window.PLOTLYENV=window.PLOTLYENV || {};                                    if (document.getElementById(\"aba1c868-bdfc-4061-bad0-7849a2ab56f6\")) {                    Plotly.newPlot(                        \"aba1c868-bdfc-4061-bad0-7849a2ab56f6\",                        [{\"marker\": {\"color\": [\"DarkRed\", \"FireBrick\", \"Red\", \"Crimson\", \"IndianRed\", \"slategray\", \"gray\", \"dimgrey\", \"DarkSlateGrey\", \"black\"]}, \"text\": [9.5, 9.5, 9.3, 9.2, 9.2, 9.2, 9.2, 9.1, 9.1, 9.1], \"textposition\": \"outside\", \"texttemplate\": \"%{text:.2s}\", \"type\": \"bar\", \"x\": [\"Flavours of Romania\", \"Breaking Bad\", \"Our Planet\", \"The Last Dance\", \"Rick and Morty\", \"Im Sorry\", \"Avatar: The Last Airbender\", \"Irma\\u0303o do Jorel\", \"Regiment Diaries\", \"Sherlock\"], \"y\": [9.5, 9.5, 9.3, 9.2, 9.2, 9.2, 9.2, 9.1, 9.1, 9.1]}],                        {\"template\": {\"data\": {\"bar\": [{\"error_x\": {\"color\": \"#2a3f5f\"}, \"error_y\": {\"color\": \"#2a3f5f\"}, \"marker\": {\"line\": {\"color\": \"#E5ECF6\", \"width\": 0.5}}, \"type\": \"bar\"}], \"barpolar\": [{\"marker\": {\"line\": {\"color\": \"#E5ECF6\", \"width\": 0.5}}, \"type\": \"barpolar\"}], \"carpet\": [{\"aaxis\": {\"endlinecolor\": \"#2a3f5f\", \"gridcolor\": \"white\", \"linecolor\": \"white\", \"minorgridcolor\": \"white\", \"startlinecolor\": \"#2a3f5f\"}, \"baxis\": {\"endlinecolor\": \"#2a3f5f\", \"gridcolor\": \"white\", \"linecolor\": \"white\", \"minorgridcolor\": \"white\", \"startlinecolor\": \"#2a3f5f\"}, \"type\": \"carpet\"}], \"choropleth\": [{\"colorbar\": {\"outlinewidth\": 0, \"ticks\": \"\"}, \"type\": \"choropleth\"}], \"contour\": [{\"colorbar\": {\"outlinewidth\": 0, \"ticks\": \"\"}, \"colorscale\": [[0.0, \"#0d0887\"], [0.1111111111111111, \"#46039f\"], [0.2222222222222222, \"#7201a8\"], [0.3333333333333333, \"#9c179e\"], [0.4444444444444444, \"#bd3786\"], [0.5555555555555556, \"#d8576b\"], [0.6666666666666666, \"#ed7953\"], [0.7777777777777778, \"#fb9f3a\"], [0.8888888888888888, \"#fdca26\"], [1.0, \"#f0f921\"]], \"type\": \"contour\"}], \"contourcarpet\": [{\"colorbar\": {\"outlinewidth\": 0, \"ticks\": \"\"}, \"type\": \"contourcarpet\"}], \"heatmap\": [{\"colorbar\": {\"outlinewidth\": 0, \"ticks\": \"\"}, \"colorscale\": [[0.0, \"#0d0887\"], [0.1111111111111111, \"#46039f\"], [0.2222222222222222, \"#7201a8\"], [0.3333333333333333, \"#9c179e\"], [0.4444444444444444, \"#bd3786\"], [0.5555555555555556, \"#d8576b\"], [0.6666666666666666, \"#ed7953\"], [0.7777777777777778, \"#fb9f3a\"], [0.8888888888888888, \"#fdca26\"], [1.0, \"#f0f921\"]], \"type\": \"heatmap\"}], \"heatmapgl\": [{\"colorbar\": {\"outlinewidth\": 0, \"ticks\": \"\"}, \"colorscale\": [[0.0, \"#0d0887\"], [0.1111111111111111, \"#46039f\"], [0.2222222222222222, \"#7201a8\"], [0.3333333333333333, \"#9c179e\"], [0.4444444444444444, \"#bd3786\"], [0.5555555555555556, \"#d8576b\"], [0.6666666666666666, \"#ed7953\"], [0.7777777777777778, \"#fb9f3a\"], [0.8888888888888888, \"#fdca26\"], [1.0, \"#f0f921\"]], \"type\": \"heatmapgl\"}], \"histogram\": [{\"marker\": {\"colorbar\": {\"outlinewidth\": 0, \"ticks\": \"\"}}, \"type\": \"histogram\"}], \"histogram2d\": [{\"colorbar\": {\"outlinewidth\": 0, \"ticks\": \"\"}, \"colorscale\": [[0.0, \"#0d0887\"], [0.1111111111111111, \"#46039f\"], [0.2222222222222222, \"#7201a8\"], [0.3333333333333333, \"#9c179e\"], [0.4444444444444444, \"#bd3786\"], [0.5555555555555556, \"#d8576b\"], [0.6666666666666666, \"#ed7953\"], [0.7777777777777778, \"#fb9f3a\"], [0.8888888888888888, \"#fdca26\"], [1.0, \"#f0f921\"]], \"type\": \"histogram2d\"}], \"histogram2dcontour\": [{\"colorbar\": {\"outlinewidth\": 0, \"ticks\": \"\"}, \"colorscale\": [[0.0, \"#0d0887\"], [0.1111111111111111, \"#46039f\"], [0.2222222222222222, \"#7201a8\"], [0.3333333333333333, \"#9c179e\"], [0.4444444444444444, \"#bd3786\"], [0.5555555555555556, \"#d8576b\"], [0.6666666666666666, \"#ed7953\"], [0.7777777777777778, \"#fb9f3a\"], [0.8888888888888888, \"#fdca26\"], [1.0, \"#f0f921\"]], \"type\": \"histogram2dcontour\"}], \"mesh3d\": [{\"colorbar\": {\"outlinewidth\": 0, \"ticks\": \"\"}, \"type\": \"mesh3d\"}], \"parcoords\": [{\"line\": {\"colorbar\": {\"outlinewidth\": 0, \"ticks\": \"\"}}, \"type\": \"parcoords\"}], \"pie\": [{\"automargin\": true, \"type\": \"pie\"}], \"scatter\": [{\"marker\": {\"colorbar\": {\"outlinewidth\": 0, \"ticks\": \"\"}}, \"type\": \"scatter\"}], \"scatter3d\": [{\"line\": {\"colorbar\": {\"outlinewidth\": 0, \"ticks\": \"\"}}, \"marker\": {\"colorbar\": {\"outlinewidth\": 0, \"ticks\": \"\"}}, \"type\": \"scatter3d\"}], \"scattercarpet\": [{\"marker\": {\"colorbar\": {\"outlinewidth\": 0, \"ticks\": \"\"}}, \"type\": \"scattercarpet\"}], \"scattergeo\": [{\"marker\": {\"colorbar\": {\"outlinewidth\": 0, \"ticks\": \"\"}}, \"type\": \"scattergeo\"}], \"scattergl\": [{\"marker\": {\"colorbar\": {\"outlinewidth\": 0, \"ticks\": \"\"}}, \"type\": \"scattergl\"}], \"scattermapbox\": [{\"marker\": {\"colorbar\": {\"outlinewidth\": 0, \"ticks\": \"\"}}, \"type\": \"scattermapbox\"}], \"scatterpolar\": [{\"marker\": {\"colorbar\": {\"outlinewidth\": 0, \"ticks\": \"\"}}, \"type\": \"scatterpolar\"}], \"scatterpolargl\": [{\"marker\": {\"colorbar\": {\"outlinewidth\": 0, \"ticks\": \"\"}}, \"type\": \"scatterpolargl\"}], \"scatterternary\": [{\"marker\": {\"colorbar\": {\"outlinewidth\": 0, \"ticks\": \"\"}}, \"type\": \"scatterternary\"}], \"surface\": [{\"colorbar\": {\"outlinewidth\": 0, \"ticks\": \"\"}, \"colorscale\": [[0.0, \"#0d0887\"], [0.1111111111111111, \"#46039f\"], [0.2222222222222222, \"#7201a8\"], [0.3333333333333333, \"#9c179e\"], [0.4444444444444444, \"#bd3786\"], [0.5555555555555556, \"#d8576b\"], [0.6666666666666666, \"#ed7953\"], [0.7777777777777778, \"#fb9f3a\"], [0.8888888888888888, \"#fdca26\"], [1.0, \"#f0f921\"]], \"type\": \"surface\"}], \"table\": [{\"cells\": {\"fill\": {\"color\": \"#EBF0F8\"}, \"line\": {\"color\": \"white\"}}, \"header\": {\"fill\": {\"color\": \"#C8D4E3\"}, \"line\": {\"color\": \"white\"}}, \"type\": \"table\"}]}, \"layout\": {\"annotationdefaults\": {\"arrowcolor\": \"#2a3f5f\", \"arrowhead\": 0, \"arrowwidth\": 1}, \"autotypenumbers\": \"strict\", \"coloraxis\": {\"colorbar\": {\"outlinewidth\": 0, \"ticks\": \"\"}}, \"colorscale\": {\"diverging\": [[0, \"#8e0152\"], [0.1, \"#c51b7d\"], [0.2, \"#de77ae\"], [0.3, \"#f1b6da\"], [0.4, \"#fde0ef\"], [0.5, \"#f7f7f7\"], [0.6, \"#e6f5d0\"], [0.7, \"#b8e186\"], [0.8, \"#7fbc41\"], [0.9, \"#4d9221\"], [1, \"#276419\"]], \"sequential\": [[0.0, \"#0d0887\"], [0.1111111111111111, \"#46039f\"], [0.2222222222222222, \"#7201a8\"], [0.3333333333333333, \"#9c179e\"], [0.4444444444444444, \"#bd3786\"], [0.5555555555555556, \"#d8576b\"], [0.6666666666666666, \"#ed7953\"], [0.7777777777777778, \"#fb9f3a\"], [0.8888888888888888, \"#fdca26\"], [1.0, \"#f0f921\"]], \"sequentialminus\": [[0.0, \"#0d0887\"], [0.1111111111111111, \"#46039f\"], [0.2222222222222222, \"#7201a8\"], [0.3333333333333333, \"#9c179e\"], [0.4444444444444444, \"#bd3786\"], [0.5555555555555556, \"#d8576b\"], [0.6666666666666666, \"#ed7953\"], [0.7777777777777778, \"#fb9f3a\"], [0.8888888888888888, \"#fdca26\"], [1.0, \"#f0f921\"]]}, \"colorway\": [\"#636efa\", \"#EF553B\", \"#00cc96\", \"#ab63fa\", \"#FFA15A\", \"#19d3f3\", \"#FF6692\", \"#B6E880\", \"#FF97FF\", \"#FECB52\"], \"font\": {\"color\": \"#2a3f5f\"}, \"geo\": {\"bgcolor\": \"white\", \"lakecolor\": \"white\", \"landcolor\": \"#E5ECF6\", \"showlakes\": true, \"showland\": true, \"subunitcolor\": \"white\"}, \"hoverlabel\": {\"align\": \"left\"}, \"hovermode\": \"closest\", \"mapbox\": {\"style\": \"light\"}, \"paper_bgcolor\": \"white\", \"plot_bgcolor\": \"#E5ECF6\", \"polar\": {\"angularaxis\": {\"gridcolor\": \"white\", \"linecolor\": \"white\", \"ticks\": \"\"}, \"bgcolor\": \"#E5ECF6\", \"radialaxis\": {\"gridcolor\": \"white\", \"linecolor\": \"white\", \"ticks\": \"\"}}, \"scene\": {\"xaxis\": {\"backgroundcolor\": \"#E5ECF6\", \"gridcolor\": \"white\", \"gridwidth\": 2, \"linecolor\": \"white\", \"showbackground\": true, \"ticks\": \"\", \"zerolinecolor\": \"white\"}, \"yaxis\": {\"backgroundcolor\": \"#E5ECF6\", \"gridcolor\": \"white\", \"gridwidth\": 2, \"linecolor\": \"white\", \"showbackground\": true, \"ticks\": \"\", \"zerolinecolor\": \"white\"}, \"zaxis\": {\"backgroundcolor\": \"#E5ECF6\", \"gridcolor\": \"white\", \"gridwidth\": 2, \"linecolor\": \"white\", \"showbackground\": true, \"ticks\": \"\", \"zerolinecolor\": \"white\"}}, \"shapedefaults\": {\"line\": {\"color\": \"#2a3f5f\"}}, \"ternary\": {\"aaxis\": {\"gridcolor\": \"white\", \"linecolor\": \"white\", \"ticks\": \"\"}, \"baxis\": {\"gridcolor\": \"white\", \"linecolor\": \"white\", \"ticks\": \"\"}, \"bgcolor\": \"#E5ECF6\", \"caxis\": {\"gridcolor\": \"white\", \"linecolor\": \"white\", \"ticks\": \"\"}}, \"title\": {\"x\": 0.05}, \"xaxis\": {\"automargin\": true, \"gridcolor\": \"white\", \"linecolor\": \"white\", \"ticks\": \"\", \"title\": {\"standoff\": 15}, \"zerolinecolor\": \"white\", \"zerolinewidth\": 2}, \"yaxis\": {\"automargin\": true, \"gridcolor\": \"white\", \"linecolor\": \"white\", \"ticks\": \"\", \"title\": {\"standoff\": 15}, \"zerolinecolor\": \"white\", \"zerolinewidth\": 2}}}, \"title\": {\"text\": \"Which are the most rated Tv Series for IMDb?\"}, \"uniformtext\": {\"minsize\": 8, \"mode\": \"hide\"}, \"xaxis\": {\"title\": {\"font\": {\"size\": 14}, \"text\": \"Titles\"}}, \"yaxis\": {\"title\": {\"font\": {\"size\": 14}, \"text\": \"IMDb Score\"}}},                        {\"responsive\": true}                    ).then(function(){\n",
       "                            \n",
       "var gd = document.getElementById('aba1c868-bdfc-4061-bad0-7849a2ab56f6');\n",
       "var x = new MutationObserver(function (mutations, observer) {{\n",
       "        var display = window.getComputedStyle(gd).display;\n",
       "        if (!display || display === 'none') {{\n",
       "            console.log([gd, 'removed!']);\n",
       "            Plotly.purge(gd);\n",
       "            observer.disconnect();\n",
       "        }}\n",
       "}});\n",
       "\n",
       "// Listen for the removal of the full notebook cells\n",
       "var notebookContainer = gd.closest('#notebook-container');\n",
       "if (notebookContainer) {{\n",
       "    x.observe(notebookContainer, {childList: true});\n",
       "}}\n",
       "\n",
       "// Listen for the clearing of the current output cell\n",
       "var outputEl = gd.closest('.output');\n",
       "if (outputEl) {{\n",
       "    x.observe(outputEl, {childList: true});\n",
       "}}\n",
       "\n",
       "                        })                };                });            </script>        </div>"
      ]
     },
     "metadata": {},
     "output_type": "display_data"
    }
   ],
   "source": [
    "fig = go.Figure(data=[go.Bar(\n",
    "    x = top_s_imdb_10_list['Title'],\n",
    "    y = top_s_imdb_10_list['IMDb Score'],\n",
    "    text = top_s_imdb_10_list['IMDb Score'],\n",
    "    textposition='auto',\n",
    "    marker_color=colors_10 # marker color can be a single color value or an iterable\n",
    ")])\n",
    "fig.update_traces(texttemplate='%{text:.2s}', textposition='outside')\n",
    "fig.update_layout(title_text= 'Which are the most rated Tv Series for IMDb?',\n",
    "                  uniformtext_minsize=8, uniformtext_mode='hide',\n",
    "                  yaxis=dict(\n",
    "                  title='IMDb Score',\n",
    "                  titlefont_size=14),\n",
    "                  xaxis=dict(\n",
    "                  title='Titles',\n",
    "                  titlefont_size=14))"
   ]
  },
  {
   "cell_type": "markdown",
   "id": "demanding-citation",
   "metadata": {
    "papermill": {
     "duration": 0.096529,
     "end_time": "2021-06-05T06:17:47.501650",
     "exception": false,
     "start_time": "2021-06-05T06:17:47.405121",
     "status": "completed"
    },
    "tags": []
   },
   "source": [
    "- **Rotten Tomatoes**"
   ]
  },
  {
   "cell_type": "code",
   "execution_count": 51,
   "id": "elder-kansas",
   "metadata": {
    "execution": {
     "iopub.execute_input": "2021-06-05T06:17:47.699303Z",
     "iopub.status.busy": "2021-06-05T06:17:47.698423Z",
     "iopub.status.idle": "2021-06-05T06:17:47.705931Z",
     "shell.execute_reply": "2021-06-05T06:17:47.706336Z",
     "shell.execute_reply.started": "2021-06-05T05:35:39.525317Z"
    },
    "papermill": {
     "duration": 0.108215,
     "end_time": "2021-06-05T06:17:47.706522",
     "exception": false,
     "start_time": "2021-06-05T06:17:47.598307",
     "status": "completed"
    },
    "tags": []
   },
   "outputs": [],
   "source": [
    "df_series_rt = df_series.dropna(subset=['Rotten Tomatoes Score'])\n",
    "df_series_rt = df_series_rt.sort_values(by = 'Rotten Tomatoes Score', ascending = False)\n",
    "top_s_rt_10_list = df_series_rt[:10]"
   ]
  },
  {
   "cell_type": "code",
   "execution_count": 52,
   "id": "lyric-journalist",
   "metadata": {
    "execution": {
     "iopub.execute_input": "2021-06-05T06:17:47.905456Z",
     "iopub.status.busy": "2021-06-05T06:17:47.904601Z",
     "iopub.status.idle": "2021-06-05T06:17:47.924888Z",
     "shell.execute_reply": "2021-06-05T06:17:47.924417Z",
     "shell.execute_reply.started": "2021-06-05T05:35:39.535984Z"
    },
    "papermill": {
     "duration": 0.12061,
     "end_time": "2021-06-05T06:17:47.925038",
     "exception": false,
     "start_time": "2021-06-05T06:17:47.804428",
     "status": "completed"
    },
    "tags": []
   },
   "outputs": [
    {
     "data": {
      "text/html": [
       "<div>                            <div id=\"434e1234-4899-45f5-8c5b-2c9d4e2799a9\" class=\"plotly-graph-div\" style=\"height:525px; width:100%;\"></div>            <script type=\"text/javascript\">                require([\"plotly\"], function(Plotly) {                    window.PLOTLYENV=window.PLOTLYENV || {};                                    if (document.getElementById(\"434e1234-4899-45f5-8c5b-2c9d4e2799a9\")) {                    Plotly.newPlot(                        \"434e1234-4899-45f5-8c5b-2c9d4e2799a9\",                        [{\"marker\": {\"color\": [\"DarkRed\", \"FireBrick\", \"Red\", \"Crimson\", \"IndianRed\", \"slategray\", \"gray\", \"dimgrey\", \"DarkSlateGrey\", \"black\"]}, \"text\": [100.0, 100.0, 100.0, 100.0, 100.0, 98.0, 97.0, 97.0, 97.0, 97.0], \"textposition\": \"outside\", \"texttemplate\": \"%{text:.2s}\", \"type\": \"bar\", \"x\": [\"A Lion in the House\", \"The Game\", \"Vagabond\", \"The New Land\", \"The Search\", \"Lets Fight Ghost\", \"Monty Pythons Fliegender Zirkus\", \"This Evening\", \"Aliens\", \"Spotlight\"], \"y\": [100.0, 100.0, 100.0, 100.0, 100.0, 98.0, 97.0, 97.0, 97.0, 97.0]}],                        {\"template\": {\"data\": {\"bar\": [{\"error_x\": {\"color\": \"#2a3f5f\"}, \"error_y\": {\"color\": \"#2a3f5f\"}, \"marker\": {\"line\": {\"color\": \"#E5ECF6\", \"width\": 0.5}}, \"type\": \"bar\"}], \"barpolar\": [{\"marker\": {\"line\": {\"color\": \"#E5ECF6\", \"width\": 0.5}}, \"type\": \"barpolar\"}], \"carpet\": [{\"aaxis\": {\"endlinecolor\": \"#2a3f5f\", \"gridcolor\": \"white\", \"linecolor\": \"white\", \"minorgridcolor\": \"white\", \"startlinecolor\": \"#2a3f5f\"}, \"baxis\": {\"endlinecolor\": \"#2a3f5f\", \"gridcolor\": \"white\", \"linecolor\": \"white\", \"minorgridcolor\": \"white\", \"startlinecolor\": \"#2a3f5f\"}, \"type\": \"carpet\"}], \"choropleth\": [{\"colorbar\": {\"outlinewidth\": 0, \"ticks\": \"\"}, \"type\": \"choropleth\"}], \"contour\": [{\"colorbar\": {\"outlinewidth\": 0, \"ticks\": \"\"}, \"colorscale\": [[0.0, \"#0d0887\"], [0.1111111111111111, \"#46039f\"], [0.2222222222222222, \"#7201a8\"], [0.3333333333333333, \"#9c179e\"], [0.4444444444444444, \"#bd3786\"], [0.5555555555555556, \"#d8576b\"], [0.6666666666666666, \"#ed7953\"], [0.7777777777777778, \"#fb9f3a\"], [0.8888888888888888, \"#fdca26\"], [1.0, \"#f0f921\"]], \"type\": \"contour\"}], \"contourcarpet\": [{\"colorbar\": {\"outlinewidth\": 0, \"ticks\": \"\"}, \"type\": \"contourcarpet\"}], \"heatmap\": [{\"colorbar\": {\"outlinewidth\": 0, \"ticks\": \"\"}, \"colorscale\": [[0.0, \"#0d0887\"], [0.1111111111111111, \"#46039f\"], [0.2222222222222222, \"#7201a8\"], [0.3333333333333333, \"#9c179e\"], [0.4444444444444444, \"#bd3786\"], [0.5555555555555556, \"#d8576b\"], [0.6666666666666666, \"#ed7953\"], [0.7777777777777778, \"#fb9f3a\"], [0.8888888888888888, \"#fdca26\"], [1.0, \"#f0f921\"]], \"type\": \"heatmap\"}], \"heatmapgl\": [{\"colorbar\": {\"outlinewidth\": 0, \"ticks\": \"\"}, \"colorscale\": [[0.0, \"#0d0887\"], [0.1111111111111111, \"#46039f\"], [0.2222222222222222, \"#7201a8\"], [0.3333333333333333, \"#9c179e\"], [0.4444444444444444, \"#bd3786\"], [0.5555555555555556, \"#d8576b\"], [0.6666666666666666, \"#ed7953\"], [0.7777777777777778, \"#fb9f3a\"], [0.8888888888888888, \"#fdca26\"], [1.0, \"#f0f921\"]], \"type\": \"heatmapgl\"}], \"histogram\": [{\"marker\": {\"colorbar\": {\"outlinewidth\": 0, \"ticks\": \"\"}}, \"type\": \"histogram\"}], \"histogram2d\": [{\"colorbar\": {\"outlinewidth\": 0, \"ticks\": \"\"}, \"colorscale\": [[0.0, \"#0d0887\"], [0.1111111111111111, \"#46039f\"], [0.2222222222222222, \"#7201a8\"], [0.3333333333333333, \"#9c179e\"], [0.4444444444444444, \"#bd3786\"], [0.5555555555555556, \"#d8576b\"], [0.6666666666666666, \"#ed7953\"], [0.7777777777777778, \"#fb9f3a\"], [0.8888888888888888, \"#fdca26\"], [1.0, \"#f0f921\"]], \"type\": \"histogram2d\"}], \"histogram2dcontour\": [{\"colorbar\": {\"outlinewidth\": 0, \"ticks\": \"\"}, \"colorscale\": [[0.0, \"#0d0887\"], [0.1111111111111111, \"#46039f\"], [0.2222222222222222, \"#7201a8\"], [0.3333333333333333, \"#9c179e\"], [0.4444444444444444, \"#bd3786\"], [0.5555555555555556, \"#d8576b\"], [0.6666666666666666, \"#ed7953\"], [0.7777777777777778, \"#fb9f3a\"], [0.8888888888888888, \"#fdca26\"], [1.0, \"#f0f921\"]], \"type\": \"histogram2dcontour\"}], \"mesh3d\": [{\"colorbar\": {\"outlinewidth\": 0, \"ticks\": \"\"}, \"type\": \"mesh3d\"}], \"parcoords\": [{\"line\": {\"colorbar\": {\"outlinewidth\": 0, \"ticks\": \"\"}}, \"type\": \"parcoords\"}], \"pie\": [{\"automargin\": true, \"type\": \"pie\"}], \"scatter\": [{\"marker\": {\"colorbar\": {\"outlinewidth\": 0, \"ticks\": \"\"}}, \"type\": \"scatter\"}], \"scatter3d\": [{\"line\": {\"colorbar\": {\"outlinewidth\": 0, \"ticks\": \"\"}}, \"marker\": {\"colorbar\": {\"outlinewidth\": 0, \"ticks\": \"\"}}, \"type\": \"scatter3d\"}], \"scattercarpet\": [{\"marker\": {\"colorbar\": {\"outlinewidth\": 0, \"ticks\": \"\"}}, \"type\": \"scattercarpet\"}], \"scattergeo\": [{\"marker\": {\"colorbar\": {\"outlinewidth\": 0, \"ticks\": \"\"}}, \"type\": \"scattergeo\"}], \"scattergl\": [{\"marker\": {\"colorbar\": {\"outlinewidth\": 0, \"ticks\": \"\"}}, \"type\": \"scattergl\"}], \"scattermapbox\": [{\"marker\": {\"colorbar\": {\"outlinewidth\": 0, \"ticks\": \"\"}}, \"type\": \"scattermapbox\"}], \"scatterpolar\": [{\"marker\": {\"colorbar\": {\"outlinewidth\": 0, \"ticks\": \"\"}}, \"type\": \"scatterpolar\"}], \"scatterpolargl\": [{\"marker\": {\"colorbar\": {\"outlinewidth\": 0, \"ticks\": \"\"}}, \"type\": \"scatterpolargl\"}], \"scatterternary\": [{\"marker\": {\"colorbar\": {\"outlinewidth\": 0, \"ticks\": \"\"}}, \"type\": \"scatterternary\"}], \"surface\": [{\"colorbar\": {\"outlinewidth\": 0, \"ticks\": \"\"}, \"colorscale\": [[0.0, \"#0d0887\"], [0.1111111111111111, \"#46039f\"], [0.2222222222222222, \"#7201a8\"], [0.3333333333333333, \"#9c179e\"], [0.4444444444444444, \"#bd3786\"], [0.5555555555555556, \"#d8576b\"], [0.6666666666666666, \"#ed7953\"], [0.7777777777777778, \"#fb9f3a\"], [0.8888888888888888, \"#fdca26\"], [1.0, \"#f0f921\"]], \"type\": \"surface\"}], \"table\": [{\"cells\": {\"fill\": {\"color\": \"#EBF0F8\"}, \"line\": {\"color\": \"white\"}}, \"header\": {\"fill\": {\"color\": \"#C8D4E3\"}, \"line\": {\"color\": \"white\"}}, \"type\": \"table\"}]}, \"layout\": {\"annotationdefaults\": {\"arrowcolor\": \"#2a3f5f\", \"arrowhead\": 0, \"arrowwidth\": 1}, \"autotypenumbers\": \"strict\", \"coloraxis\": {\"colorbar\": {\"outlinewidth\": 0, \"ticks\": \"\"}}, \"colorscale\": {\"diverging\": [[0, \"#8e0152\"], [0.1, \"#c51b7d\"], [0.2, \"#de77ae\"], [0.3, \"#f1b6da\"], [0.4, \"#fde0ef\"], [0.5, \"#f7f7f7\"], [0.6, \"#e6f5d0\"], [0.7, \"#b8e186\"], [0.8, \"#7fbc41\"], [0.9, \"#4d9221\"], [1, \"#276419\"]], \"sequential\": [[0.0, \"#0d0887\"], [0.1111111111111111, \"#46039f\"], [0.2222222222222222, \"#7201a8\"], [0.3333333333333333, \"#9c179e\"], [0.4444444444444444, \"#bd3786\"], [0.5555555555555556, \"#d8576b\"], [0.6666666666666666, \"#ed7953\"], [0.7777777777777778, \"#fb9f3a\"], [0.8888888888888888, \"#fdca26\"], [1.0, \"#f0f921\"]], \"sequentialminus\": [[0.0, \"#0d0887\"], [0.1111111111111111, \"#46039f\"], [0.2222222222222222, \"#7201a8\"], [0.3333333333333333, \"#9c179e\"], [0.4444444444444444, \"#bd3786\"], [0.5555555555555556, \"#d8576b\"], [0.6666666666666666, \"#ed7953\"], [0.7777777777777778, \"#fb9f3a\"], [0.8888888888888888, \"#fdca26\"], [1.0, \"#f0f921\"]]}, \"colorway\": [\"#636efa\", \"#EF553B\", \"#00cc96\", \"#ab63fa\", \"#FFA15A\", \"#19d3f3\", \"#FF6692\", \"#B6E880\", \"#FF97FF\", \"#FECB52\"], \"font\": {\"color\": \"#2a3f5f\"}, \"geo\": {\"bgcolor\": \"white\", \"lakecolor\": \"white\", \"landcolor\": \"#E5ECF6\", \"showlakes\": true, \"showland\": true, \"subunitcolor\": \"white\"}, \"hoverlabel\": {\"align\": \"left\"}, \"hovermode\": \"closest\", \"mapbox\": {\"style\": \"light\"}, \"paper_bgcolor\": \"white\", \"plot_bgcolor\": \"#E5ECF6\", \"polar\": {\"angularaxis\": {\"gridcolor\": \"white\", \"linecolor\": \"white\", \"ticks\": \"\"}, \"bgcolor\": \"#E5ECF6\", \"radialaxis\": {\"gridcolor\": \"white\", \"linecolor\": \"white\", \"ticks\": \"\"}}, \"scene\": {\"xaxis\": {\"backgroundcolor\": \"#E5ECF6\", \"gridcolor\": \"white\", \"gridwidth\": 2, \"linecolor\": \"white\", \"showbackground\": true, \"ticks\": \"\", \"zerolinecolor\": \"white\"}, \"yaxis\": {\"backgroundcolor\": \"#E5ECF6\", \"gridcolor\": \"white\", \"gridwidth\": 2, \"linecolor\": \"white\", \"showbackground\": true, \"ticks\": \"\", \"zerolinecolor\": \"white\"}, \"zaxis\": {\"backgroundcolor\": \"#E5ECF6\", \"gridcolor\": \"white\", \"gridwidth\": 2, \"linecolor\": \"white\", \"showbackground\": true, \"ticks\": \"\", \"zerolinecolor\": \"white\"}}, \"shapedefaults\": {\"line\": {\"color\": \"#2a3f5f\"}}, \"ternary\": {\"aaxis\": {\"gridcolor\": \"white\", \"linecolor\": \"white\", \"ticks\": \"\"}, \"baxis\": {\"gridcolor\": \"white\", \"linecolor\": \"white\", \"ticks\": \"\"}, \"bgcolor\": \"#E5ECF6\", \"caxis\": {\"gridcolor\": \"white\", \"linecolor\": \"white\", \"ticks\": \"\"}}, \"title\": {\"x\": 0.05}, \"xaxis\": {\"automargin\": true, \"gridcolor\": \"white\", \"linecolor\": \"white\", \"ticks\": \"\", \"title\": {\"standoff\": 15}, \"zerolinecolor\": \"white\", \"zerolinewidth\": 2}, \"yaxis\": {\"automargin\": true, \"gridcolor\": \"white\", \"linecolor\": \"white\", \"ticks\": \"\", \"title\": {\"standoff\": 15}, \"zerolinecolor\": \"white\", \"zerolinewidth\": 2}}}, \"title\": {\"text\": \"Which are the most rated Tv Series for Rotten Tomatoes?\"}, \"uniformtext\": {\"minsize\": 8, \"mode\": \"hide\"}, \"xaxis\": {\"title\": {\"font\": {\"size\": 14}, \"text\": \"Titles\"}}, \"yaxis\": {\"title\": {\"font\": {\"size\": 14}, \"text\": \"Rotten Tomatoes Score\"}}},                        {\"responsive\": true}                    ).then(function(){\n",
       "                            \n",
       "var gd = document.getElementById('434e1234-4899-45f5-8c5b-2c9d4e2799a9');\n",
       "var x = new MutationObserver(function (mutations, observer) {{\n",
       "        var display = window.getComputedStyle(gd).display;\n",
       "        if (!display || display === 'none') {{\n",
       "            console.log([gd, 'removed!']);\n",
       "            Plotly.purge(gd);\n",
       "            observer.disconnect();\n",
       "        }}\n",
       "}});\n",
       "\n",
       "// Listen for the removal of the full notebook cells\n",
       "var notebookContainer = gd.closest('#notebook-container');\n",
       "if (notebookContainer) {{\n",
       "    x.observe(notebookContainer, {childList: true});\n",
       "}}\n",
       "\n",
       "// Listen for the clearing of the current output cell\n",
       "var outputEl = gd.closest('.output');\n",
       "if (outputEl) {{\n",
       "    x.observe(outputEl, {childList: true});\n",
       "}}\n",
       "\n",
       "                        })                };                });            </script>        </div>"
      ]
     },
     "metadata": {},
     "output_type": "display_data"
    }
   ],
   "source": [
    "fig = go.Figure(data=[go.Bar(\n",
    "    x = top_s_rt_10_list['Title'],\n",
    "    y = top_s_rt_10_list['Rotten Tomatoes Score'],\n",
    "    text = top_s_rt_10_list['Rotten Tomatoes Score'],\n",
    "    textposition='auto',\n",
    "    marker_color=colors_10 # marker color can be a single color value or an iterable\n",
    ")])\n",
    "fig.update_traces(texttemplate='%{text:.2s}', textposition='outside')\n",
    "fig.update_layout(title_text= 'Which are the most rated Tv Series for Rotten Tomatoes?',\n",
    "                  uniformtext_minsize=8, uniformtext_mode='hide',\n",
    "                  yaxis=dict(\n",
    "                  title='Rotten Tomatoes Score',\n",
    "                  titlefont_size=14),\n",
    "                  xaxis=dict(\n",
    "                  title='Titles',\n",
    "                  titlefont_size=14))"
   ]
  },
  {
   "cell_type": "markdown",
   "id": "occasional-count",
   "metadata": {
    "papermill": {
     "duration": 0.140288,
     "end_time": "2021-06-05T06:17:48.163839",
     "exception": false,
     "start_time": "2021-06-05T06:17:48.023551",
     "status": "completed"
    },
    "tags": []
   },
   "source": [
    "As we can see, **the rankings of the top 10 for the series are completely different**, so before choosing a movie to watch it is best to take a look at both sites so that you can have a comparison and have a wider view"
   ]
  },
  {
   "cell_type": "markdown",
   "id": "engaged-player",
   "metadata": {
    "papermill": {
     "duration": 0.096911,
     "end_time": "2021-06-05T06:17:48.359850",
     "exception": false,
     "start_time": "2021-06-05T06:17:48.262939",
     "status": "completed"
    },
    "tags": []
   },
   "source": [
    "**2.9.2 Movie 📽‍️ Charts**"
   ]
  },
  {
   "cell_type": "markdown",
   "id": "collaborative-patch",
   "metadata": {
    "papermill": {
     "duration": 0.098814,
     "end_time": "2021-06-05T06:17:48.556381",
     "exception": false,
     "start_time": "2021-06-05T06:17:48.457567",
     "status": "completed"
    },
    "tags": []
   },
   "source": [
    "- **IMDb**"
   ]
  },
  {
   "cell_type": "code",
   "execution_count": 53,
   "id": "false-stamp",
   "metadata": {
    "execution": {
     "iopub.execute_input": "2021-06-05T06:17:48.757007Z",
     "iopub.status.busy": "2021-06-05T06:17:48.756005Z",
     "iopub.status.idle": "2021-06-05T06:17:48.768475Z",
     "shell.execute_reply": "2021-06-05T06:17:48.767999Z",
     "shell.execute_reply.started": "2021-06-05T05:35:39.568469Z"
    },
    "papermill": {
     "duration": 0.115406,
     "end_time": "2021-06-05T06:17:48.768615",
     "exception": false,
     "start_time": "2021-06-05T06:17:48.653209",
     "status": "completed"
    },
    "tags": []
   },
   "outputs": [],
   "source": [
    "df_movie_imdb = df_movie.dropna(subset=['IMDb Score'])\n",
    "df_movie_imdb = df_movie_imdb.sort_values(by = 'IMDb Score', ascending = False)\n",
    "top_m_imdb_10_list = df_movie_imdb[:10]"
   ]
  },
  {
   "cell_type": "code",
   "execution_count": 54,
   "id": "scientific-ending",
   "metadata": {
    "execution": {
     "iopub.execute_input": "2021-06-05T06:17:48.983884Z",
     "iopub.status.busy": "2021-06-05T06:17:48.983271Z",
     "iopub.status.idle": "2021-06-05T06:17:48.988091Z",
     "shell.execute_reply": "2021-06-05T06:17:48.988480Z",
     "shell.execute_reply.started": "2021-06-05T05:35:39.587779Z"
    },
    "papermill": {
     "duration": 0.120511,
     "end_time": "2021-06-05T06:17:48.988647",
     "exception": false,
     "start_time": "2021-06-05T06:17:48.868136",
     "status": "completed"
    },
    "tags": []
   },
   "outputs": [
    {
     "data": {
      "text/html": [
       "<div>                            <div id=\"5f38763c-f981-4552-bb83-53c4fdb45f11\" class=\"plotly-graph-div\" style=\"height:525px; width:100%;\"></div>            <script type=\"text/javascript\">                require([\"plotly\"], function(Plotly) {                    window.PLOTLYENV=window.PLOTLYENV || {};                                    if (document.getElementById(\"5f38763c-f981-4552-bb83-53c4fdb45f11\")) {                    Plotly.newPlot(                        \"5f38763c-f981-4552-bb83-53c4fdb45f11\",                        [{\"marker\": {\"color\": [\"DarkRed\", \"FireBrick\", \"Red\", \"Crimson\", \"IndianRed\", \"slategray\", \"gray\", \"dimgrey\", \"DarkSlateGrey\", \"black\"]}, \"text\": [9.7, 9.5, 9.4, 9.3, 9.2, 9.2, 9.1, 9.1, 9.0, 9.0], \"textposition\": \"outside\", \"texttemplate\": \"%{text:.2s}\", \"type\": \"bar\", \"x\": [\"No Festival\", \"Horsin Around\", \"The Dream House\", \"The Shawshank Redemption\", \"The Godfather\", \"Conspiracy\", \"The Consuls Son\", \"One Girl\", \"Green Gold\", \"David Attenborough: A Life on Our Planet\"], \"y\": [9.7, 9.5, 9.4, 9.3, 9.2, 9.2, 9.1, 9.1, 9.0, 9.0]}],                        {\"template\": {\"data\": {\"bar\": [{\"error_x\": {\"color\": \"#2a3f5f\"}, \"error_y\": {\"color\": \"#2a3f5f\"}, \"marker\": {\"line\": {\"color\": \"#E5ECF6\", \"width\": 0.5}}, \"type\": \"bar\"}], \"barpolar\": [{\"marker\": {\"line\": {\"color\": \"#E5ECF6\", \"width\": 0.5}}, \"type\": \"barpolar\"}], \"carpet\": [{\"aaxis\": {\"endlinecolor\": \"#2a3f5f\", \"gridcolor\": \"white\", \"linecolor\": \"white\", \"minorgridcolor\": \"white\", \"startlinecolor\": \"#2a3f5f\"}, \"baxis\": {\"endlinecolor\": \"#2a3f5f\", \"gridcolor\": \"white\", \"linecolor\": \"white\", \"minorgridcolor\": \"white\", \"startlinecolor\": \"#2a3f5f\"}, \"type\": \"carpet\"}], \"choropleth\": [{\"colorbar\": {\"outlinewidth\": 0, \"ticks\": \"\"}, \"type\": \"choropleth\"}], \"contour\": [{\"colorbar\": {\"outlinewidth\": 0, \"ticks\": \"\"}, \"colorscale\": [[0.0, \"#0d0887\"], [0.1111111111111111, \"#46039f\"], [0.2222222222222222, \"#7201a8\"], [0.3333333333333333, \"#9c179e\"], [0.4444444444444444, \"#bd3786\"], [0.5555555555555556, \"#d8576b\"], [0.6666666666666666, \"#ed7953\"], [0.7777777777777778, \"#fb9f3a\"], [0.8888888888888888, \"#fdca26\"], [1.0, \"#f0f921\"]], \"type\": \"contour\"}], \"contourcarpet\": [{\"colorbar\": {\"outlinewidth\": 0, \"ticks\": \"\"}, \"type\": \"contourcarpet\"}], \"heatmap\": [{\"colorbar\": {\"outlinewidth\": 0, \"ticks\": \"\"}, \"colorscale\": [[0.0, \"#0d0887\"], [0.1111111111111111, \"#46039f\"], [0.2222222222222222, \"#7201a8\"], [0.3333333333333333, \"#9c179e\"], [0.4444444444444444, \"#bd3786\"], [0.5555555555555556, \"#d8576b\"], [0.6666666666666666, \"#ed7953\"], [0.7777777777777778, \"#fb9f3a\"], [0.8888888888888888, \"#fdca26\"], [1.0, \"#f0f921\"]], \"type\": \"heatmap\"}], \"heatmapgl\": [{\"colorbar\": {\"outlinewidth\": 0, \"ticks\": \"\"}, \"colorscale\": [[0.0, \"#0d0887\"], [0.1111111111111111, \"#46039f\"], [0.2222222222222222, \"#7201a8\"], [0.3333333333333333, \"#9c179e\"], [0.4444444444444444, \"#bd3786\"], [0.5555555555555556, \"#d8576b\"], [0.6666666666666666, \"#ed7953\"], [0.7777777777777778, \"#fb9f3a\"], [0.8888888888888888, \"#fdca26\"], [1.0, \"#f0f921\"]], \"type\": \"heatmapgl\"}], \"histogram\": [{\"marker\": {\"colorbar\": {\"outlinewidth\": 0, \"ticks\": \"\"}}, \"type\": \"histogram\"}], \"histogram2d\": [{\"colorbar\": {\"outlinewidth\": 0, \"ticks\": \"\"}, \"colorscale\": [[0.0, \"#0d0887\"], [0.1111111111111111, \"#46039f\"], [0.2222222222222222, \"#7201a8\"], [0.3333333333333333, \"#9c179e\"], [0.4444444444444444, \"#bd3786\"], [0.5555555555555556, \"#d8576b\"], [0.6666666666666666, \"#ed7953\"], [0.7777777777777778, \"#fb9f3a\"], [0.8888888888888888, \"#fdca26\"], [1.0, \"#f0f921\"]], \"type\": \"histogram2d\"}], \"histogram2dcontour\": [{\"colorbar\": {\"outlinewidth\": 0, \"ticks\": \"\"}, \"colorscale\": [[0.0, \"#0d0887\"], [0.1111111111111111, \"#46039f\"], [0.2222222222222222, \"#7201a8\"], [0.3333333333333333, \"#9c179e\"], [0.4444444444444444, \"#bd3786\"], [0.5555555555555556, \"#d8576b\"], [0.6666666666666666, \"#ed7953\"], [0.7777777777777778, \"#fb9f3a\"], [0.8888888888888888, \"#fdca26\"], [1.0, \"#f0f921\"]], \"type\": \"histogram2dcontour\"}], \"mesh3d\": [{\"colorbar\": {\"outlinewidth\": 0, \"ticks\": \"\"}, \"type\": \"mesh3d\"}], \"parcoords\": [{\"line\": {\"colorbar\": {\"outlinewidth\": 0, \"ticks\": \"\"}}, \"type\": \"parcoords\"}], \"pie\": [{\"automargin\": true, \"type\": \"pie\"}], \"scatter\": [{\"marker\": {\"colorbar\": {\"outlinewidth\": 0, \"ticks\": \"\"}}, \"type\": \"scatter\"}], \"scatter3d\": [{\"line\": {\"colorbar\": {\"outlinewidth\": 0, \"ticks\": \"\"}}, \"marker\": {\"colorbar\": {\"outlinewidth\": 0, \"ticks\": \"\"}}, \"type\": \"scatter3d\"}], \"scattercarpet\": [{\"marker\": {\"colorbar\": {\"outlinewidth\": 0, \"ticks\": \"\"}}, \"type\": \"scattercarpet\"}], \"scattergeo\": [{\"marker\": {\"colorbar\": {\"outlinewidth\": 0, \"ticks\": \"\"}}, \"type\": \"scattergeo\"}], \"scattergl\": [{\"marker\": {\"colorbar\": {\"outlinewidth\": 0, \"ticks\": \"\"}}, \"type\": \"scattergl\"}], \"scattermapbox\": [{\"marker\": {\"colorbar\": {\"outlinewidth\": 0, \"ticks\": \"\"}}, \"type\": \"scattermapbox\"}], \"scatterpolar\": [{\"marker\": {\"colorbar\": {\"outlinewidth\": 0, \"ticks\": \"\"}}, \"type\": \"scatterpolar\"}], \"scatterpolargl\": [{\"marker\": {\"colorbar\": {\"outlinewidth\": 0, \"ticks\": \"\"}}, \"type\": \"scatterpolargl\"}], \"scatterternary\": [{\"marker\": {\"colorbar\": {\"outlinewidth\": 0, \"ticks\": \"\"}}, \"type\": \"scatterternary\"}], \"surface\": [{\"colorbar\": {\"outlinewidth\": 0, \"ticks\": \"\"}, \"colorscale\": [[0.0, \"#0d0887\"], [0.1111111111111111, \"#46039f\"], [0.2222222222222222, \"#7201a8\"], [0.3333333333333333, \"#9c179e\"], [0.4444444444444444, \"#bd3786\"], [0.5555555555555556, \"#d8576b\"], [0.6666666666666666, \"#ed7953\"], [0.7777777777777778, \"#fb9f3a\"], [0.8888888888888888, \"#fdca26\"], [1.0, \"#f0f921\"]], \"type\": \"surface\"}], \"table\": [{\"cells\": {\"fill\": {\"color\": \"#EBF0F8\"}, \"line\": {\"color\": \"white\"}}, \"header\": {\"fill\": {\"color\": \"#C8D4E3\"}, \"line\": {\"color\": \"white\"}}, \"type\": \"table\"}]}, \"layout\": {\"annotationdefaults\": {\"arrowcolor\": \"#2a3f5f\", \"arrowhead\": 0, \"arrowwidth\": 1}, \"autotypenumbers\": \"strict\", \"coloraxis\": {\"colorbar\": {\"outlinewidth\": 0, \"ticks\": \"\"}}, \"colorscale\": {\"diverging\": [[0, \"#8e0152\"], [0.1, \"#c51b7d\"], [0.2, \"#de77ae\"], [0.3, \"#f1b6da\"], [0.4, \"#fde0ef\"], [0.5, \"#f7f7f7\"], [0.6, \"#e6f5d0\"], [0.7, \"#b8e186\"], [0.8, \"#7fbc41\"], [0.9, \"#4d9221\"], [1, \"#276419\"]], \"sequential\": [[0.0, \"#0d0887\"], [0.1111111111111111, \"#46039f\"], [0.2222222222222222, \"#7201a8\"], [0.3333333333333333, \"#9c179e\"], [0.4444444444444444, \"#bd3786\"], [0.5555555555555556, \"#d8576b\"], [0.6666666666666666, \"#ed7953\"], [0.7777777777777778, \"#fb9f3a\"], [0.8888888888888888, \"#fdca26\"], [1.0, \"#f0f921\"]], \"sequentialminus\": [[0.0, \"#0d0887\"], [0.1111111111111111, \"#46039f\"], [0.2222222222222222, \"#7201a8\"], [0.3333333333333333, \"#9c179e\"], [0.4444444444444444, \"#bd3786\"], [0.5555555555555556, \"#d8576b\"], [0.6666666666666666, \"#ed7953\"], [0.7777777777777778, \"#fb9f3a\"], [0.8888888888888888, \"#fdca26\"], [1.0, \"#f0f921\"]]}, \"colorway\": [\"#636efa\", \"#EF553B\", \"#00cc96\", \"#ab63fa\", \"#FFA15A\", \"#19d3f3\", \"#FF6692\", \"#B6E880\", \"#FF97FF\", \"#FECB52\"], \"font\": {\"color\": \"#2a3f5f\"}, \"geo\": {\"bgcolor\": \"white\", \"lakecolor\": \"white\", \"landcolor\": \"#E5ECF6\", \"showlakes\": true, \"showland\": true, \"subunitcolor\": \"white\"}, \"hoverlabel\": {\"align\": \"left\"}, \"hovermode\": \"closest\", \"mapbox\": {\"style\": \"light\"}, \"paper_bgcolor\": \"white\", \"plot_bgcolor\": \"#E5ECF6\", \"polar\": {\"angularaxis\": {\"gridcolor\": \"white\", \"linecolor\": \"white\", \"ticks\": \"\"}, \"bgcolor\": \"#E5ECF6\", \"radialaxis\": {\"gridcolor\": \"white\", \"linecolor\": \"white\", \"ticks\": \"\"}}, \"scene\": {\"xaxis\": {\"backgroundcolor\": \"#E5ECF6\", \"gridcolor\": \"white\", \"gridwidth\": 2, \"linecolor\": \"white\", \"showbackground\": true, \"ticks\": \"\", \"zerolinecolor\": \"white\"}, \"yaxis\": {\"backgroundcolor\": \"#E5ECF6\", \"gridcolor\": \"white\", \"gridwidth\": 2, \"linecolor\": \"white\", \"showbackground\": true, \"ticks\": \"\", \"zerolinecolor\": \"white\"}, \"zaxis\": {\"backgroundcolor\": \"#E5ECF6\", \"gridcolor\": \"white\", \"gridwidth\": 2, \"linecolor\": \"white\", \"showbackground\": true, \"ticks\": \"\", \"zerolinecolor\": \"white\"}}, \"shapedefaults\": {\"line\": {\"color\": \"#2a3f5f\"}}, \"ternary\": {\"aaxis\": {\"gridcolor\": \"white\", \"linecolor\": \"white\", \"ticks\": \"\"}, \"baxis\": {\"gridcolor\": \"white\", \"linecolor\": \"white\", \"ticks\": \"\"}, \"bgcolor\": \"#E5ECF6\", \"caxis\": {\"gridcolor\": \"white\", \"linecolor\": \"white\", \"ticks\": \"\"}}, \"title\": {\"x\": 0.05}, \"xaxis\": {\"automargin\": true, \"gridcolor\": \"white\", \"linecolor\": \"white\", \"ticks\": \"\", \"title\": {\"standoff\": 15}, \"zerolinecolor\": \"white\", \"zerolinewidth\": 2}, \"yaxis\": {\"automargin\": true, \"gridcolor\": \"white\", \"linecolor\": \"white\", \"ticks\": \"\", \"title\": {\"standoff\": 15}, \"zerolinecolor\": \"white\", \"zerolinewidth\": 2}}}, \"title\": {\"text\": \"Which are the most rated Movies for IMDb?\"}, \"uniformtext\": {\"minsize\": 8, \"mode\": \"hide\"}, \"xaxis\": {\"title\": {\"font\": {\"size\": 14}, \"text\": \"Titles\"}}, \"yaxis\": {\"title\": {\"font\": {\"size\": 14}, \"text\": \"IMDb Score\"}}},                        {\"responsive\": true}                    ).then(function(){\n",
       "                            \n",
       "var gd = document.getElementById('5f38763c-f981-4552-bb83-53c4fdb45f11');\n",
       "var x = new MutationObserver(function (mutations, observer) {{\n",
       "        var display = window.getComputedStyle(gd).display;\n",
       "        if (!display || display === 'none') {{\n",
       "            console.log([gd, 'removed!']);\n",
       "            Plotly.purge(gd);\n",
       "            observer.disconnect();\n",
       "        }}\n",
       "}});\n",
       "\n",
       "// Listen for the removal of the full notebook cells\n",
       "var notebookContainer = gd.closest('#notebook-container');\n",
       "if (notebookContainer) {{\n",
       "    x.observe(notebookContainer, {childList: true});\n",
       "}}\n",
       "\n",
       "// Listen for the clearing of the current output cell\n",
       "var outputEl = gd.closest('.output');\n",
       "if (outputEl) {{\n",
       "    x.observe(outputEl, {childList: true});\n",
       "}}\n",
       "\n",
       "                        })                };                });            </script>        </div>"
      ]
     },
     "metadata": {},
     "output_type": "display_data"
    }
   ],
   "source": [
    "fig = go.Figure(data=[go.Bar(\n",
    "    x = top_m_imdb_10_list['Title'],\n",
    "    y = top_m_imdb_10_list['IMDb Score'],\n",
    "    text = top_m_imdb_10_list['IMDb Score'],\n",
    "    textposition='auto',\n",
    "    marker_color=colors_10 # marker color can be a single color value or an iterable\n",
    ")])\n",
    "fig.update_traces(texttemplate='%{text:.2s}', textposition='outside')\n",
    "fig.update_layout(title_text= 'Which are the most rated Movies for IMDb?',\n",
    "                  uniformtext_minsize=8, uniformtext_mode='hide',\n",
    "                  yaxis=dict(\n",
    "                  title='IMDb Score',\n",
    "                  titlefont_size=14),\n",
    "                  xaxis=dict(\n",
    "                  title='Titles',\n",
    "                  titlefont_size=14))"
   ]
  },
  {
   "cell_type": "markdown",
   "id": "opened-rider",
   "metadata": {
    "papermill": {
     "duration": 0.098863,
     "end_time": "2021-06-05T06:17:49.185825",
     "exception": false,
     "start_time": "2021-06-05T06:17:49.086962",
     "status": "completed"
    },
    "tags": []
   },
   "source": [
    "- **Rotten Tomatoes**"
   ]
  },
  {
   "cell_type": "code",
   "execution_count": 55,
   "id": "joint-collector",
   "metadata": {
    "execution": {
     "iopub.execute_input": "2021-06-05T06:17:49.388739Z",
     "iopub.status.busy": "2021-06-05T06:17:49.387800Z",
     "iopub.status.idle": "2021-06-05T06:17:49.398455Z",
     "shell.execute_reply": "2021-06-05T06:17:49.398002Z",
     "shell.execute_reply.started": "2021-06-05T05:35:39.615996Z"
    },
    "papermill": {
     "duration": 0.114235,
     "end_time": "2021-06-05T06:17:49.398611",
     "exception": false,
     "start_time": "2021-06-05T06:17:49.284376",
     "status": "completed"
    },
    "tags": []
   },
   "outputs": [],
   "source": [
    "df_movie_rt = df_movie.dropna(subset=['Rotten Tomatoes Score'])\n",
    "df_movie_rt = df_movie_rt.sort_values(by = 'Rotten Tomatoes Score', ascending = False)\n",
    "top_m_rt_10_list = df_movie_rt[:10]"
   ]
  },
  {
   "cell_type": "code",
   "execution_count": 56,
   "id": "connected-pasta",
   "metadata": {
    "execution": {
     "iopub.execute_input": "2021-06-05T06:17:49.613144Z",
     "iopub.status.busy": "2021-06-05T06:17:49.607592Z",
     "iopub.status.idle": "2021-06-05T06:17:49.619030Z",
     "shell.execute_reply": "2021-06-05T06:17:49.618541Z",
     "shell.execute_reply.started": "2021-06-05T05:35:39.631213Z"
    },
    "papermill": {
     "duration": 0.121804,
     "end_time": "2021-06-05T06:17:49.619164",
     "exception": false,
     "start_time": "2021-06-05T06:17:49.497360",
     "status": "completed"
    },
    "tags": []
   },
   "outputs": [
    {
     "data": {
      "text/html": [
       "<div>                            <div id=\"2415eeb6-884a-4bf4-b9e6-7ca552e9367b\" class=\"plotly-graph-div\" style=\"height:525px; width:100%;\"></div>            <script type=\"text/javascript\">                require([\"plotly\"], function(Plotly) {                    window.PLOTLYENV=window.PLOTLYENV || {};                                    if (document.getElementById(\"2415eeb6-884a-4bf4-b9e6-7ca552e9367b\")) {                    Plotly.newPlot(                        \"2415eeb6-884a-4bf4-b9e6-7ca552e9367b\",                        [{\"marker\": {\"color\": [\"DarkRed\", \"FireBrick\", \"Red\", \"Crimson\", \"IndianRed\", \"slategray\", \"gray\", \"dimgrey\", \"DarkSlateGrey\", \"black\"]}, \"text\": [100.0, 100.0, 100.0, 100.0, 100.0, 100.0, 100.0, 100.0, 100.0, 100.0], \"textposition\": \"outside\", \"texttemplate\": \"%{text:.2s}\", \"type\": \"bar\", \"x\": [\"Ali Wong: Baby Cobra\", \"Law of Desire\", \"Red Dog: True Blue\", \"Saving Capitalism\", \"The Looming Storm\", \"Modern Times\", \"Ten Years\", \"Team Foxcatcher\", \"ReMastered: The Two Killings of Sam Cooke\", \"Department Q: A Conspiracy of Faith\"], \"y\": [100.0, 100.0, 100.0, 100.0, 100.0, 100.0, 100.0, 100.0, 100.0, 100.0]}],                        {\"template\": {\"data\": {\"bar\": [{\"error_x\": {\"color\": \"#2a3f5f\"}, \"error_y\": {\"color\": \"#2a3f5f\"}, \"marker\": {\"line\": {\"color\": \"#E5ECF6\", \"width\": 0.5}}, \"type\": \"bar\"}], \"barpolar\": [{\"marker\": {\"line\": {\"color\": \"#E5ECF6\", \"width\": 0.5}}, \"type\": \"barpolar\"}], \"carpet\": [{\"aaxis\": {\"endlinecolor\": \"#2a3f5f\", \"gridcolor\": \"white\", \"linecolor\": \"white\", \"minorgridcolor\": \"white\", \"startlinecolor\": \"#2a3f5f\"}, \"baxis\": {\"endlinecolor\": \"#2a3f5f\", \"gridcolor\": \"white\", \"linecolor\": \"white\", \"minorgridcolor\": \"white\", \"startlinecolor\": \"#2a3f5f\"}, \"type\": \"carpet\"}], \"choropleth\": [{\"colorbar\": {\"outlinewidth\": 0, \"ticks\": \"\"}, \"type\": \"choropleth\"}], \"contour\": [{\"colorbar\": {\"outlinewidth\": 0, \"ticks\": \"\"}, \"colorscale\": [[0.0, \"#0d0887\"], [0.1111111111111111, \"#46039f\"], [0.2222222222222222, \"#7201a8\"], [0.3333333333333333, \"#9c179e\"], [0.4444444444444444, \"#bd3786\"], [0.5555555555555556, \"#d8576b\"], [0.6666666666666666, \"#ed7953\"], [0.7777777777777778, \"#fb9f3a\"], [0.8888888888888888, \"#fdca26\"], [1.0, \"#f0f921\"]], \"type\": \"contour\"}], \"contourcarpet\": [{\"colorbar\": {\"outlinewidth\": 0, \"ticks\": \"\"}, \"type\": \"contourcarpet\"}], \"heatmap\": [{\"colorbar\": {\"outlinewidth\": 0, \"ticks\": \"\"}, \"colorscale\": [[0.0, \"#0d0887\"], [0.1111111111111111, \"#46039f\"], [0.2222222222222222, \"#7201a8\"], [0.3333333333333333, \"#9c179e\"], [0.4444444444444444, \"#bd3786\"], [0.5555555555555556, \"#d8576b\"], [0.6666666666666666, \"#ed7953\"], [0.7777777777777778, \"#fb9f3a\"], [0.8888888888888888, \"#fdca26\"], [1.0, \"#f0f921\"]], \"type\": \"heatmap\"}], \"heatmapgl\": [{\"colorbar\": {\"outlinewidth\": 0, \"ticks\": \"\"}, \"colorscale\": [[0.0, \"#0d0887\"], [0.1111111111111111, \"#46039f\"], [0.2222222222222222, \"#7201a8\"], [0.3333333333333333, \"#9c179e\"], [0.4444444444444444, \"#bd3786\"], [0.5555555555555556, \"#d8576b\"], [0.6666666666666666, \"#ed7953\"], [0.7777777777777778, \"#fb9f3a\"], [0.8888888888888888, \"#fdca26\"], [1.0, \"#f0f921\"]], \"type\": \"heatmapgl\"}], \"histogram\": [{\"marker\": {\"colorbar\": {\"outlinewidth\": 0, \"ticks\": \"\"}}, \"type\": \"histogram\"}], \"histogram2d\": [{\"colorbar\": {\"outlinewidth\": 0, \"ticks\": \"\"}, \"colorscale\": [[0.0, \"#0d0887\"], [0.1111111111111111, \"#46039f\"], [0.2222222222222222, \"#7201a8\"], [0.3333333333333333, \"#9c179e\"], [0.4444444444444444, \"#bd3786\"], [0.5555555555555556, \"#d8576b\"], [0.6666666666666666, \"#ed7953\"], [0.7777777777777778, \"#fb9f3a\"], [0.8888888888888888, \"#fdca26\"], [1.0, \"#f0f921\"]], \"type\": \"histogram2d\"}], \"histogram2dcontour\": [{\"colorbar\": {\"outlinewidth\": 0, \"ticks\": \"\"}, \"colorscale\": [[0.0, \"#0d0887\"], [0.1111111111111111, \"#46039f\"], [0.2222222222222222, \"#7201a8\"], [0.3333333333333333, \"#9c179e\"], [0.4444444444444444, \"#bd3786\"], [0.5555555555555556, \"#d8576b\"], [0.6666666666666666, \"#ed7953\"], [0.7777777777777778, \"#fb9f3a\"], [0.8888888888888888, \"#fdca26\"], [1.0, \"#f0f921\"]], \"type\": \"histogram2dcontour\"}], \"mesh3d\": [{\"colorbar\": {\"outlinewidth\": 0, \"ticks\": \"\"}, \"type\": \"mesh3d\"}], \"parcoords\": [{\"line\": {\"colorbar\": {\"outlinewidth\": 0, \"ticks\": \"\"}}, \"type\": \"parcoords\"}], \"pie\": [{\"automargin\": true, \"type\": \"pie\"}], \"scatter\": [{\"marker\": {\"colorbar\": {\"outlinewidth\": 0, \"ticks\": \"\"}}, \"type\": \"scatter\"}], \"scatter3d\": [{\"line\": {\"colorbar\": {\"outlinewidth\": 0, \"ticks\": \"\"}}, \"marker\": {\"colorbar\": {\"outlinewidth\": 0, \"ticks\": \"\"}}, \"type\": \"scatter3d\"}], \"scattercarpet\": [{\"marker\": {\"colorbar\": {\"outlinewidth\": 0, \"ticks\": \"\"}}, \"type\": \"scattercarpet\"}], \"scattergeo\": [{\"marker\": {\"colorbar\": {\"outlinewidth\": 0, \"ticks\": \"\"}}, \"type\": \"scattergeo\"}], \"scattergl\": [{\"marker\": {\"colorbar\": {\"outlinewidth\": 0, \"ticks\": \"\"}}, \"type\": \"scattergl\"}], \"scattermapbox\": [{\"marker\": {\"colorbar\": {\"outlinewidth\": 0, \"ticks\": \"\"}}, \"type\": \"scattermapbox\"}], \"scatterpolar\": [{\"marker\": {\"colorbar\": {\"outlinewidth\": 0, \"ticks\": \"\"}}, \"type\": \"scatterpolar\"}], \"scatterpolargl\": [{\"marker\": {\"colorbar\": {\"outlinewidth\": 0, \"ticks\": \"\"}}, \"type\": \"scatterpolargl\"}], \"scatterternary\": [{\"marker\": {\"colorbar\": {\"outlinewidth\": 0, \"ticks\": \"\"}}, \"type\": \"scatterternary\"}], \"surface\": [{\"colorbar\": {\"outlinewidth\": 0, \"ticks\": \"\"}, \"colorscale\": [[0.0, \"#0d0887\"], [0.1111111111111111, \"#46039f\"], [0.2222222222222222, \"#7201a8\"], [0.3333333333333333, \"#9c179e\"], [0.4444444444444444, \"#bd3786\"], [0.5555555555555556, \"#d8576b\"], [0.6666666666666666, \"#ed7953\"], [0.7777777777777778, \"#fb9f3a\"], [0.8888888888888888, \"#fdca26\"], [1.0, \"#f0f921\"]], \"type\": \"surface\"}], \"table\": [{\"cells\": {\"fill\": {\"color\": \"#EBF0F8\"}, \"line\": {\"color\": \"white\"}}, \"header\": {\"fill\": {\"color\": \"#C8D4E3\"}, \"line\": {\"color\": \"white\"}}, \"type\": \"table\"}]}, \"layout\": {\"annotationdefaults\": {\"arrowcolor\": \"#2a3f5f\", \"arrowhead\": 0, \"arrowwidth\": 1}, \"autotypenumbers\": \"strict\", \"coloraxis\": {\"colorbar\": {\"outlinewidth\": 0, \"ticks\": \"\"}}, \"colorscale\": {\"diverging\": [[0, \"#8e0152\"], [0.1, \"#c51b7d\"], [0.2, \"#de77ae\"], [0.3, \"#f1b6da\"], [0.4, \"#fde0ef\"], [0.5, \"#f7f7f7\"], [0.6, \"#e6f5d0\"], [0.7, \"#b8e186\"], [0.8, \"#7fbc41\"], [0.9, \"#4d9221\"], [1, \"#276419\"]], \"sequential\": [[0.0, \"#0d0887\"], [0.1111111111111111, \"#46039f\"], [0.2222222222222222, \"#7201a8\"], [0.3333333333333333, \"#9c179e\"], [0.4444444444444444, \"#bd3786\"], [0.5555555555555556, \"#d8576b\"], [0.6666666666666666, \"#ed7953\"], [0.7777777777777778, \"#fb9f3a\"], [0.8888888888888888, \"#fdca26\"], [1.0, \"#f0f921\"]], \"sequentialminus\": [[0.0, \"#0d0887\"], [0.1111111111111111, \"#46039f\"], [0.2222222222222222, \"#7201a8\"], [0.3333333333333333, \"#9c179e\"], [0.4444444444444444, \"#bd3786\"], [0.5555555555555556, \"#d8576b\"], [0.6666666666666666, \"#ed7953\"], [0.7777777777777778, \"#fb9f3a\"], [0.8888888888888888, \"#fdca26\"], [1.0, \"#f0f921\"]]}, \"colorway\": [\"#636efa\", \"#EF553B\", \"#00cc96\", \"#ab63fa\", \"#FFA15A\", \"#19d3f3\", \"#FF6692\", \"#B6E880\", \"#FF97FF\", \"#FECB52\"], \"font\": {\"color\": \"#2a3f5f\"}, \"geo\": {\"bgcolor\": \"white\", \"lakecolor\": \"white\", \"landcolor\": \"#E5ECF6\", \"showlakes\": true, \"showland\": true, \"subunitcolor\": \"white\"}, \"hoverlabel\": {\"align\": \"left\"}, \"hovermode\": \"closest\", \"mapbox\": {\"style\": \"light\"}, \"paper_bgcolor\": \"white\", \"plot_bgcolor\": \"#E5ECF6\", \"polar\": {\"angularaxis\": {\"gridcolor\": \"white\", \"linecolor\": \"white\", \"ticks\": \"\"}, \"bgcolor\": \"#E5ECF6\", \"radialaxis\": {\"gridcolor\": \"white\", \"linecolor\": \"white\", \"ticks\": \"\"}}, \"scene\": {\"xaxis\": {\"backgroundcolor\": \"#E5ECF6\", \"gridcolor\": \"white\", \"gridwidth\": 2, \"linecolor\": \"white\", \"showbackground\": true, \"ticks\": \"\", \"zerolinecolor\": \"white\"}, \"yaxis\": {\"backgroundcolor\": \"#E5ECF6\", \"gridcolor\": \"white\", \"gridwidth\": 2, \"linecolor\": \"white\", \"showbackground\": true, \"ticks\": \"\", \"zerolinecolor\": \"white\"}, \"zaxis\": {\"backgroundcolor\": \"#E5ECF6\", \"gridcolor\": \"white\", \"gridwidth\": 2, \"linecolor\": \"white\", \"showbackground\": true, \"ticks\": \"\", \"zerolinecolor\": \"white\"}}, \"shapedefaults\": {\"line\": {\"color\": \"#2a3f5f\"}}, \"ternary\": {\"aaxis\": {\"gridcolor\": \"white\", \"linecolor\": \"white\", \"ticks\": \"\"}, \"baxis\": {\"gridcolor\": \"white\", \"linecolor\": \"white\", \"ticks\": \"\"}, \"bgcolor\": \"#E5ECF6\", \"caxis\": {\"gridcolor\": \"white\", \"linecolor\": \"white\", \"ticks\": \"\"}}, \"title\": {\"x\": 0.05}, \"xaxis\": {\"automargin\": true, \"gridcolor\": \"white\", \"linecolor\": \"white\", \"ticks\": \"\", \"title\": {\"standoff\": 15}, \"zerolinecolor\": \"white\", \"zerolinewidth\": 2}, \"yaxis\": {\"automargin\": true, \"gridcolor\": \"white\", \"linecolor\": \"white\", \"ticks\": \"\", \"title\": {\"standoff\": 15}, \"zerolinecolor\": \"white\", \"zerolinewidth\": 2}}}, \"title\": {\"text\": \"Which are the most rated Movies for Rotten Tomatoes?\"}, \"uniformtext\": {\"minsize\": 8, \"mode\": \"hide\"}, \"xaxis\": {\"title\": {\"font\": {\"size\": 14}, \"text\": \"Titles\"}}, \"yaxis\": {\"title\": {\"font\": {\"size\": 14}, \"text\": \"Rotten Tomatoes Score\"}}},                        {\"responsive\": true}                    ).then(function(){\n",
       "                            \n",
       "var gd = document.getElementById('2415eeb6-884a-4bf4-b9e6-7ca552e9367b');\n",
       "var x = new MutationObserver(function (mutations, observer) {{\n",
       "        var display = window.getComputedStyle(gd).display;\n",
       "        if (!display || display === 'none') {{\n",
       "            console.log([gd, 'removed!']);\n",
       "            Plotly.purge(gd);\n",
       "            observer.disconnect();\n",
       "        }}\n",
       "}});\n",
       "\n",
       "// Listen for the removal of the full notebook cells\n",
       "var notebookContainer = gd.closest('#notebook-container');\n",
       "if (notebookContainer) {{\n",
       "    x.observe(notebookContainer, {childList: true});\n",
       "}}\n",
       "\n",
       "// Listen for the clearing of the current output cell\n",
       "var outputEl = gd.closest('.output');\n",
       "if (outputEl) {{\n",
       "    x.observe(outputEl, {childList: true});\n",
       "}}\n",
       "\n",
       "                        })                };                });            </script>        </div>"
      ]
     },
     "metadata": {},
     "output_type": "display_data"
    }
   ],
   "source": [
    "fig = go.Figure(data=[go.Bar(\n",
    "    x = top_m_rt_10_list['Title'],\n",
    "    y = top_m_rt_10_list['Rotten Tomatoes Score'],\n",
    "    text = top_m_rt_10_list['Rotten Tomatoes Score'],\n",
    "    textposition='auto',\n",
    "    marker_color=colors_10 # marker color can be a single color value or an iterable\n",
    ")])\n",
    "fig.update_traces(texttemplate='%{text:.2s}', textposition='outside')\n",
    "fig.update_layout(title_text= 'Which are the most rated Movies for Rotten Tomatoes?',\n",
    "                  uniformtext_minsize=8, uniformtext_mode='hide',\n",
    "                  yaxis=dict(\n",
    "                  title='Rotten Tomatoes Score',\n",
    "                  titlefont_size=14),\n",
    "                  xaxis=dict(\n",
    "                  title='Titles',\n",
    "                  titlefont_size=14))"
   ]
  },
  {
   "cell_type": "markdown",
   "id": "secure-transfer",
   "metadata": {
    "papermill": {
     "duration": 0.097856,
     "end_time": "2021-06-05T06:17:49.815954",
     "exception": false,
     "start_time": "2021-06-05T06:17:49.718098",
     "status": "completed"
    },
    "tags": []
   },
   "source": [
    "As we had seen for the Series, even in the world of films **the rankings of the top 10 are very different** and therefore it is better to look at both sites to have a comparison and a better view on the product"
   ]
  },
  {
   "cell_type": "markdown",
   "id": "solar-giant",
   "metadata": {
    "papermill": {
     "duration": 0.099344,
     "end_time": "2021-06-05T06:17:50.013728",
     "exception": false,
     "start_time": "2021-06-05T06:17:49.914384",
     "status": "completed"
    },
    "tags": []
   },
   "source": [
    "# 2.10 Top 15 Tv Series and Movie for awards received  🏆 🥇"
   ]
  },
  {
   "cell_type": "markdown",
   "id": "cubic-belize",
   "metadata": {
    "papermill": {
     "duration": 0.100721,
     "end_time": "2021-06-05T06:17:50.213556",
     "exception": false,
     "start_time": "2021-06-05T06:17:50.112835",
     "status": "completed"
    },
    "tags": []
   },
   "source": [
    "> Obviously, in addition to the votes, there are also prizes up for grabs in the film world and among the most famous are the Golden Globes, the Hollywood Film Awards and the Oscars.\n",
    "\n",
    "So let's go see which are the most awarded films and series"
   ]
  },
  {
   "cell_type": "markdown",
   "id": "superb-cable",
   "metadata": {
    "papermill": {
     "duration": 0.121825,
     "end_time": "2021-06-05T06:17:50.434364",
     "exception": false,
     "start_time": "2021-06-05T06:17:50.312539",
     "status": "completed"
    },
    "tags": []
   },
   "source": [
    "- **In the Tv Series  📺 Universe**"
   ]
  },
  {
   "cell_type": "code",
   "execution_count": 57,
   "id": "administrative-behavior",
   "metadata": {
    "execution": {
     "iopub.execute_input": "2021-06-05T06:17:50.641649Z",
     "iopub.status.busy": "2021-06-05T06:17:50.639013Z",
     "iopub.status.idle": "2021-06-05T06:17:50.644057Z",
     "shell.execute_reply": "2021-06-05T06:17:50.644449Z",
     "shell.execute_reply.started": "2021-06-05T05:35:39.659094Z"
    },
    "papermill": {
     "duration": 0.109976,
     "end_time": "2021-06-05T06:17:50.644651",
     "exception": false,
     "start_time": "2021-06-05T06:17:50.534675",
     "status": "completed"
    },
    "tags": []
   },
   "outputs": [],
   "source": [
    "df_series_awr = df_series.dropna(subset=['Awards Received'])\n",
    "df_series_awr = df_series_awr.sort_values(by = 'Awards Received', ascending = False)\n",
    "top_s_awr_15_list = df_series_awr[:15]"
   ]
  },
  {
   "cell_type": "code",
   "execution_count": 58,
   "id": "british-sending",
   "metadata": {
    "execution": {
     "iopub.execute_input": "2021-06-05T06:17:50.860779Z",
     "iopub.status.busy": "2021-06-05T06:17:50.860105Z",
     "iopub.status.idle": "2021-06-05T06:17:50.866063Z",
     "shell.execute_reply": "2021-06-05T06:17:50.865449Z",
     "shell.execute_reply.started": "2021-06-05T05:35:39.674518Z"
    },
    "papermill": {
     "duration": 0.123886,
     "end_time": "2021-06-05T06:17:50.866192",
     "exception": false,
     "start_time": "2021-06-05T06:17:50.742306",
     "status": "completed"
    },
    "tags": []
   },
   "outputs": [
    {
     "data": {
      "text/html": [
       "<div>                            <div id=\"f1afe463-e33d-464f-a20e-c2b9904ee039\" class=\"plotly-graph-div\" style=\"height:525px; width:100%;\"></div>            <script type=\"text/javascript\">                require([\"plotly\"], function(Plotly) {                    window.PLOTLYENV=window.PLOTLYENV || {};                                    if (document.getElementById(\"f1afe463-e33d-464f-a20e-c2b9904ee039\")) {                    Plotly.newPlot(                        \"f1afe463-e33d-464f-a20e-c2b9904ee039\",                        [{\"marker\": {\"color\": [\"DarkRed\", \"FireBrick\", \"FireBrick\", \"Red\", \"Crimson\", \"Crimson\", \"IndianRed\", \"slategray\", \"slategray\", \"gray\", \"gray\", \"dimgrey\", \"dimgrey\", \"DarkSlateGrey\", \"black\"]}, \"text\": [232.0, 152.0, 127.0, 124.0, 119.0, 97.0, 97.0, 97.0, 96.0, 91.0, 85.0, 80.0, 78.0, 77.0, 76.0], \"textposition\": \"outside\", \"texttemplate\": \"%{text:.2s}\", \"type\": \"bar\", \"x\": [\"Sesame Street\", \"Breaking Bad\", \"American Horror Story\", \"Spotlight\", \"Modern Family\", \"The People v. O.J. Simpson\", \"Will and Grace\", \"The Assassination of Gianni Versace\", \"The Queens Gambit\", \"Sherlock\", \"Glee\", \"Greys Anatomy\", \"The Walking Dead\", \"Friends\", \"The Big Bang Theory\"], \"y\": [232.0, 152.0, 127.0, 124.0, 119.0, 97.0, 97.0, 97.0, 96.0, 91.0, 85.0, 80.0, 78.0, 77.0, 76.0]}],                        {\"template\": {\"data\": {\"bar\": [{\"error_x\": {\"color\": \"#2a3f5f\"}, \"error_y\": {\"color\": \"#2a3f5f\"}, \"marker\": {\"line\": {\"color\": \"#E5ECF6\", \"width\": 0.5}}, \"type\": \"bar\"}], \"barpolar\": [{\"marker\": {\"line\": {\"color\": \"#E5ECF6\", \"width\": 0.5}}, \"type\": \"barpolar\"}], \"carpet\": [{\"aaxis\": {\"endlinecolor\": \"#2a3f5f\", \"gridcolor\": \"white\", \"linecolor\": \"white\", \"minorgridcolor\": \"white\", \"startlinecolor\": \"#2a3f5f\"}, \"baxis\": {\"endlinecolor\": \"#2a3f5f\", \"gridcolor\": \"white\", \"linecolor\": \"white\", \"minorgridcolor\": \"white\", \"startlinecolor\": \"#2a3f5f\"}, \"type\": \"carpet\"}], \"choropleth\": [{\"colorbar\": {\"outlinewidth\": 0, \"ticks\": \"\"}, \"type\": \"choropleth\"}], \"contour\": [{\"colorbar\": {\"outlinewidth\": 0, \"ticks\": \"\"}, \"colorscale\": [[0.0, \"#0d0887\"], [0.1111111111111111, \"#46039f\"], [0.2222222222222222, \"#7201a8\"], [0.3333333333333333, \"#9c179e\"], [0.4444444444444444, \"#bd3786\"], [0.5555555555555556, \"#d8576b\"], [0.6666666666666666, \"#ed7953\"], [0.7777777777777778, \"#fb9f3a\"], [0.8888888888888888, \"#fdca26\"], [1.0, \"#f0f921\"]], \"type\": \"contour\"}], \"contourcarpet\": [{\"colorbar\": {\"outlinewidth\": 0, \"ticks\": \"\"}, \"type\": \"contourcarpet\"}], \"heatmap\": [{\"colorbar\": {\"outlinewidth\": 0, \"ticks\": \"\"}, \"colorscale\": [[0.0, \"#0d0887\"], [0.1111111111111111, \"#46039f\"], [0.2222222222222222, \"#7201a8\"], [0.3333333333333333, \"#9c179e\"], [0.4444444444444444, \"#bd3786\"], [0.5555555555555556, \"#d8576b\"], [0.6666666666666666, \"#ed7953\"], [0.7777777777777778, \"#fb9f3a\"], [0.8888888888888888, \"#fdca26\"], [1.0, \"#f0f921\"]], \"type\": \"heatmap\"}], \"heatmapgl\": [{\"colorbar\": {\"outlinewidth\": 0, \"ticks\": \"\"}, \"colorscale\": [[0.0, \"#0d0887\"], [0.1111111111111111, \"#46039f\"], [0.2222222222222222, \"#7201a8\"], [0.3333333333333333, \"#9c179e\"], [0.4444444444444444, \"#bd3786\"], [0.5555555555555556, \"#d8576b\"], [0.6666666666666666, \"#ed7953\"], [0.7777777777777778, \"#fb9f3a\"], [0.8888888888888888, \"#fdca26\"], [1.0, \"#f0f921\"]], \"type\": \"heatmapgl\"}], \"histogram\": [{\"marker\": {\"colorbar\": {\"outlinewidth\": 0, \"ticks\": \"\"}}, \"type\": \"histogram\"}], \"histogram2d\": [{\"colorbar\": {\"outlinewidth\": 0, \"ticks\": \"\"}, \"colorscale\": [[0.0, \"#0d0887\"], [0.1111111111111111, \"#46039f\"], [0.2222222222222222, \"#7201a8\"], [0.3333333333333333, \"#9c179e\"], [0.4444444444444444, \"#bd3786\"], [0.5555555555555556, \"#d8576b\"], [0.6666666666666666, \"#ed7953\"], [0.7777777777777778, \"#fb9f3a\"], [0.8888888888888888, \"#fdca26\"], [1.0, \"#f0f921\"]], \"type\": \"histogram2d\"}], \"histogram2dcontour\": [{\"colorbar\": {\"outlinewidth\": 0, \"ticks\": \"\"}, \"colorscale\": [[0.0, \"#0d0887\"], [0.1111111111111111, \"#46039f\"], [0.2222222222222222, \"#7201a8\"], [0.3333333333333333, \"#9c179e\"], [0.4444444444444444, \"#bd3786\"], [0.5555555555555556, \"#d8576b\"], [0.6666666666666666, \"#ed7953\"], [0.7777777777777778, \"#fb9f3a\"], [0.8888888888888888, \"#fdca26\"], [1.0, \"#f0f921\"]], \"type\": \"histogram2dcontour\"}], \"mesh3d\": [{\"colorbar\": {\"outlinewidth\": 0, \"ticks\": \"\"}, \"type\": \"mesh3d\"}], \"parcoords\": [{\"line\": {\"colorbar\": {\"outlinewidth\": 0, \"ticks\": \"\"}}, \"type\": \"parcoords\"}], \"pie\": [{\"automargin\": true, \"type\": \"pie\"}], \"scatter\": [{\"marker\": {\"colorbar\": {\"outlinewidth\": 0, \"ticks\": \"\"}}, \"type\": \"scatter\"}], \"scatter3d\": [{\"line\": {\"colorbar\": {\"outlinewidth\": 0, \"ticks\": \"\"}}, \"marker\": {\"colorbar\": {\"outlinewidth\": 0, \"ticks\": \"\"}}, \"type\": \"scatter3d\"}], \"scattercarpet\": [{\"marker\": {\"colorbar\": {\"outlinewidth\": 0, \"ticks\": \"\"}}, \"type\": \"scattercarpet\"}], \"scattergeo\": [{\"marker\": {\"colorbar\": {\"outlinewidth\": 0, \"ticks\": \"\"}}, \"type\": \"scattergeo\"}], \"scattergl\": [{\"marker\": {\"colorbar\": {\"outlinewidth\": 0, \"ticks\": \"\"}}, \"type\": \"scattergl\"}], \"scattermapbox\": [{\"marker\": {\"colorbar\": {\"outlinewidth\": 0, \"ticks\": \"\"}}, \"type\": \"scattermapbox\"}], \"scatterpolar\": [{\"marker\": {\"colorbar\": {\"outlinewidth\": 0, \"ticks\": \"\"}}, \"type\": \"scatterpolar\"}], \"scatterpolargl\": [{\"marker\": {\"colorbar\": {\"outlinewidth\": 0, \"ticks\": \"\"}}, \"type\": \"scatterpolargl\"}], \"scatterternary\": [{\"marker\": {\"colorbar\": {\"outlinewidth\": 0, \"ticks\": \"\"}}, \"type\": \"scatterternary\"}], \"surface\": [{\"colorbar\": {\"outlinewidth\": 0, \"ticks\": \"\"}, \"colorscale\": [[0.0, \"#0d0887\"], [0.1111111111111111, \"#46039f\"], [0.2222222222222222, \"#7201a8\"], [0.3333333333333333, \"#9c179e\"], [0.4444444444444444, \"#bd3786\"], [0.5555555555555556, \"#d8576b\"], [0.6666666666666666, \"#ed7953\"], [0.7777777777777778, \"#fb9f3a\"], [0.8888888888888888, \"#fdca26\"], [1.0, \"#f0f921\"]], \"type\": \"surface\"}], \"table\": [{\"cells\": {\"fill\": {\"color\": \"#EBF0F8\"}, \"line\": {\"color\": \"white\"}}, \"header\": {\"fill\": {\"color\": \"#C8D4E3\"}, \"line\": {\"color\": \"white\"}}, \"type\": \"table\"}]}, \"layout\": {\"annotationdefaults\": {\"arrowcolor\": \"#2a3f5f\", \"arrowhead\": 0, \"arrowwidth\": 1}, \"autotypenumbers\": \"strict\", \"coloraxis\": {\"colorbar\": {\"outlinewidth\": 0, \"ticks\": \"\"}}, \"colorscale\": {\"diverging\": [[0, \"#8e0152\"], [0.1, \"#c51b7d\"], [0.2, \"#de77ae\"], [0.3, \"#f1b6da\"], [0.4, \"#fde0ef\"], [0.5, \"#f7f7f7\"], [0.6, \"#e6f5d0\"], [0.7, \"#b8e186\"], [0.8, \"#7fbc41\"], [0.9, \"#4d9221\"], [1, \"#276419\"]], \"sequential\": [[0.0, \"#0d0887\"], [0.1111111111111111, \"#46039f\"], [0.2222222222222222, \"#7201a8\"], [0.3333333333333333, \"#9c179e\"], [0.4444444444444444, \"#bd3786\"], [0.5555555555555556, \"#d8576b\"], [0.6666666666666666, \"#ed7953\"], [0.7777777777777778, \"#fb9f3a\"], [0.8888888888888888, \"#fdca26\"], [1.0, \"#f0f921\"]], \"sequentialminus\": [[0.0, \"#0d0887\"], [0.1111111111111111, \"#46039f\"], [0.2222222222222222, \"#7201a8\"], [0.3333333333333333, \"#9c179e\"], [0.4444444444444444, \"#bd3786\"], [0.5555555555555556, \"#d8576b\"], [0.6666666666666666, \"#ed7953\"], [0.7777777777777778, \"#fb9f3a\"], [0.8888888888888888, \"#fdca26\"], [1.0, \"#f0f921\"]]}, \"colorway\": [\"#636efa\", \"#EF553B\", \"#00cc96\", \"#ab63fa\", \"#FFA15A\", \"#19d3f3\", \"#FF6692\", \"#B6E880\", \"#FF97FF\", \"#FECB52\"], \"font\": {\"color\": \"#2a3f5f\"}, \"geo\": {\"bgcolor\": \"white\", \"lakecolor\": \"white\", \"landcolor\": \"#E5ECF6\", \"showlakes\": true, \"showland\": true, \"subunitcolor\": \"white\"}, \"hoverlabel\": {\"align\": \"left\"}, \"hovermode\": \"closest\", \"mapbox\": {\"style\": \"light\"}, \"paper_bgcolor\": \"white\", \"plot_bgcolor\": \"#E5ECF6\", \"polar\": {\"angularaxis\": {\"gridcolor\": \"white\", \"linecolor\": \"white\", \"ticks\": \"\"}, \"bgcolor\": \"#E5ECF6\", \"radialaxis\": {\"gridcolor\": \"white\", \"linecolor\": \"white\", \"ticks\": \"\"}}, \"scene\": {\"xaxis\": {\"backgroundcolor\": \"#E5ECF6\", \"gridcolor\": \"white\", \"gridwidth\": 2, \"linecolor\": \"white\", \"showbackground\": true, \"ticks\": \"\", \"zerolinecolor\": \"white\"}, \"yaxis\": {\"backgroundcolor\": \"#E5ECF6\", \"gridcolor\": \"white\", \"gridwidth\": 2, \"linecolor\": \"white\", \"showbackground\": true, \"ticks\": \"\", \"zerolinecolor\": \"white\"}, \"zaxis\": {\"backgroundcolor\": \"#E5ECF6\", \"gridcolor\": \"white\", \"gridwidth\": 2, \"linecolor\": \"white\", \"showbackground\": true, \"ticks\": \"\", \"zerolinecolor\": \"white\"}}, \"shapedefaults\": {\"line\": {\"color\": \"#2a3f5f\"}}, \"ternary\": {\"aaxis\": {\"gridcolor\": \"white\", \"linecolor\": \"white\", \"ticks\": \"\"}, \"baxis\": {\"gridcolor\": \"white\", \"linecolor\": \"white\", \"ticks\": \"\"}, \"bgcolor\": \"#E5ECF6\", \"caxis\": {\"gridcolor\": \"white\", \"linecolor\": \"white\", \"ticks\": \"\"}}, \"title\": {\"x\": 0.05}, \"xaxis\": {\"automargin\": true, \"gridcolor\": \"white\", \"linecolor\": \"white\", \"ticks\": \"\", \"title\": {\"standoff\": 15}, \"zerolinecolor\": \"white\", \"zerolinewidth\": 2}, \"yaxis\": {\"automargin\": true, \"gridcolor\": \"white\", \"linecolor\": \"white\", \"ticks\": \"\", \"title\": {\"standoff\": 15}, \"zerolinecolor\": \"white\", \"zerolinewidth\": 2}}}, \"title\": {\"text\": \"Which are the 15 TV series \\ud83d\\udcfa that have received the most awards?\"}, \"uniformtext\": {\"minsize\": 8, \"mode\": \"hide\"}, \"xaxis\": {\"title\": {\"font\": {\"size\": 14}, \"text\": \"Titles\"}}, \"yaxis\": {\"title\": {\"font\": {\"size\": 14}, \"text\": \"Awards Received\"}}},                        {\"responsive\": true}                    ).then(function(){\n",
       "                            \n",
       "var gd = document.getElementById('f1afe463-e33d-464f-a20e-c2b9904ee039');\n",
       "var x = new MutationObserver(function (mutations, observer) {{\n",
       "        var display = window.getComputedStyle(gd).display;\n",
       "        if (!display || display === 'none') {{\n",
       "            console.log([gd, 'removed!']);\n",
       "            Plotly.purge(gd);\n",
       "            observer.disconnect();\n",
       "        }}\n",
       "}});\n",
       "\n",
       "// Listen for the removal of the full notebook cells\n",
       "var notebookContainer = gd.closest('#notebook-container');\n",
       "if (notebookContainer) {{\n",
       "    x.observe(notebookContainer, {childList: true});\n",
       "}}\n",
       "\n",
       "// Listen for the clearing of the current output cell\n",
       "var outputEl = gd.closest('.output');\n",
       "if (outputEl) {{\n",
       "    x.observe(outputEl, {childList: true});\n",
       "}}\n",
       "\n",
       "                        })                };                });            </script>        </div>"
      ]
     },
     "metadata": {},
     "output_type": "display_data"
    }
   ],
   "source": [
    "colors_15 = ['DarkRed', 'FireBrick', 'FireBrick' ,'Red', 'Crimson', 'Crimson', 'IndianRed' , 'slategray', 'slategray' , 'gray' , 'gray', 'dimgrey', 'dimgrey', 'DarkSlateGrey', 'black']\n",
    "fig = go.Figure(data=[go.Bar(\n",
    "    x = top_s_awr_15_list['Title'],\n",
    "    y = top_s_awr_15_list['Awards Received'],\n",
    "    text = top_s_awr_15_list['Awards Received'],\n",
    "    textposition='auto',\n",
    "    marker_color=colors_15 # marker color can be a single color value or an iterable\n",
    ")])\n",
    "fig.update_traces(texttemplate='%{text:.2s}', textposition='outside')\n",
    "fig.update_layout(title_text= 'Which are the 15 TV series 📺 that have received the most awards?',\n",
    "                  uniformtext_minsize=8, uniformtext_mode='hide',\n",
    "                  yaxis=dict(\n",
    "                  title='Awards Received',\n",
    "                  titlefont_size=14),\n",
    "                  xaxis=dict(\n",
    "                  title='Titles',\n",
    "                  titlefont_size=14))"
   ]
  },
  {
   "cell_type": "markdown",
   "id": "growing-dispute",
   "metadata": {
    "papermill": {
     "duration": 0.099477,
     "end_time": "2021-06-05T06:17:51.065355",
     "exception": false,
     "start_time": "2021-06-05T06:17:50.965878",
     "status": "completed"
    },
    "tags": []
   },
   "source": [
    "- **While in the movie 📽‍️ catalog**"
   ]
  },
  {
   "cell_type": "code",
   "execution_count": 59,
   "id": "certified-colorado",
   "metadata": {
    "execution": {
     "iopub.execute_input": "2021-06-05T06:17:51.276948Z",
     "iopub.status.busy": "2021-06-05T06:17:51.276269Z",
     "iopub.status.idle": "2021-06-05T06:17:51.285459Z",
     "shell.execute_reply": "2021-06-05T06:17:51.284855Z",
     "shell.execute_reply.started": "2021-06-05T05:35:39.700469Z"
    },
    "papermill": {
     "duration": 0.117889,
     "end_time": "2021-06-05T06:17:51.285629",
     "exception": false,
     "start_time": "2021-06-05T06:17:51.167740",
     "status": "completed"
    },
    "tags": []
   },
   "outputs": [],
   "source": [
    "df_movie_awr = df_movie.dropna(subset=['Awards Received'])\n",
    "df_movie_awr = df_movie_awr.sort_values(by = 'Awards Received', ascending = False)\n",
    "top_m_awr_15_list = df_movie_awr[:15]"
   ]
  },
  {
   "cell_type": "code",
   "execution_count": 60,
   "id": "dried-medicare",
   "metadata": {
    "execution": {
     "iopub.execute_input": "2021-06-05T06:17:51.502447Z",
     "iopub.status.busy": "2021-06-05T06:17:51.501785Z",
     "iopub.status.idle": "2021-06-05T06:17:51.507328Z",
     "shell.execute_reply": "2021-06-05T06:17:51.506882Z",
     "shell.execute_reply.started": "2021-06-05T05:35:39.718258Z"
    },
    "papermill": {
     "duration": 0.122049,
     "end_time": "2021-06-05T06:17:51.507477",
     "exception": false,
     "start_time": "2021-06-05T06:17:51.385428",
     "status": "completed"
    },
    "tags": []
   },
   "outputs": [
    {
     "data": {
      "text/html": [
       "<div>                            <div id=\"b5b44157-4b62-4566-81f8-f1aaa2b1c2a2\" class=\"plotly-graph-div\" style=\"height:525px; width:100%;\"></div>            <script type=\"text/javascript\">                require([\"plotly\"], function(Plotly) {                    window.PLOTLYENV=window.PLOTLYENV || {};                                    if (document.getElementById(\"b5b44157-4b62-4566-81f8-f1aaa2b1c2a2\")) {                    Plotly.newPlot(                        \"b5b44157-4b62-4566-81f8-f1aaa2b1c2a2\",                        [{\"marker\": {\"color\": [\"DarkRed\", \"FireBrick\", \"FireBrick\", \"Red\", \"Crimson\", \"Crimson\", \"IndianRed\", \"slategray\", \"slategray\", \"gray\", \"gray\", \"dimgrey\", \"dimgrey\", \"DarkSlateGrey\", \"black\"]}, \"text\": [300.0, 251.0, 242.0, 242.0, 241.0, 239.0, 229.0, 210.0, 194.0, 173.0, 164.0, 161.0, 158.0, 156.0, 154.0], \"textposition\": \"outside\", \"texttemplate\": \"%{text:.2s}\", \"type\": \"bar\", \"x\": [\"Parasite\", \"ROMA\", \"12 Years a Slave\", \"La La Land\", \"Mad Max: Fury Road\", \"Gravity\", \"Moonlight\", \"The Lord of the Rings: The Return of the King\", \"Birdman or (The Unexpected Virtue of Ignorance)\", \"The Social Network\", \"No Country for Old Men\", \"The Artist\", \"The Dark Knight\", \"Inception\", \"Slumdog Millionaire\"], \"y\": [300.0, 251.0, 242.0, 242.0, 241.0, 239.0, 229.0, 210.0, 194.0, 173.0, 164.0, 161.0, 158.0, 156.0, 154.0]}],                        {\"template\": {\"data\": {\"bar\": [{\"error_x\": {\"color\": \"#2a3f5f\"}, \"error_y\": {\"color\": \"#2a3f5f\"}, \"marker\": {\"line\": {\"color\": \"#E5ECF6\", \"width\": 0.5}}, \"type\": \"bar\"}], \"barpolar\": [{\"marker\": {\"line\": {\"color\": \"#E5ECF6\", \"width\": 0.5}}, \"type\": \"barpolar\"}], \"carpet\": [{\"aaxis\": {\"endlinecolor\": \"#2a3f5f\", \"gridcolor\": \"white\", \"linecolor\": \"white\", \"minorgridcolor\": \"white\", \"startlinecolor\": \"#2a3f5f\"}, \"baxis\": {\"endlinecolor\": \"#2a3f5f\", \"gridcolor\": \"white\", \"linecolor\": \"white\", \"minorgridcolor\": \"white\", \"startlinecolor\": \"#2a3f5f\"}, \"type\": \"carpet\"}], \"choropleth\": [{\"colorbar\": {\"outlinewidth\": 0, \"ticks\": \"\"}, \"type\": \"choropleth\"}], \"contour\": [{\"colorbar\": {\"outlinewidth\": 0, \"ticks\": \"\"}, \"colorscale\": [[0.0, \"#0d0887\"], [0.1111111111111111, \"#46039f\"], [0.2222222222222222, \"#7201a8\"], [0.3333333333333333, \"#9c179e\"], [0.4444444444444444, \"#bd3786\"], [0.5555555555555556, \"#d8576b\"], [0.6666666666666666, \"#ed7953\"], [0.7777777777777778, \"#fb9f3a\"], [0.8888888888888888, \"#fdca26\"], [1.0, \"#f0f921\"]], \"type\": \"contour\"}], \"contourcarpet\": [{\"colorbar\": {\"outlinewidth\": 0, \"ticks\": \"\"}, \"type\": \"contourcarpet\"}], \"heatmap\": [{\"colorbar\": {\"outlinewidth\": 0, \"ticks\": \"\"}, \"colorscale\": [[0.0, \"#0d0887\"], [0.1111111111111111, \"#46039f\"], [0.2222222222222222, \"#7201a8\"], [0.3333333333333333, \"#9c179e\"], [0.4444444444444444, \"#bd3786\"], [0.5555555555555556, \"#d8576b\"], [0.6666666666666666, \"#ed7953\"], [0.7777777777777778, \"#fb9f3a\"], [0.8888888888888888, \"#fdca26\"], [1.0, \"#f0f921\"]], \"type\": \"heatmap\"}], \"heatmapgl\": [{\"colorbar\": {\"outlinewidth\": 0, \"ticks\": \"\"}, \"colorscale\": [[0.0, \"#0d0887\"], [0.1111111111111111, \"#46039f\"], [0.2222222222222222, \"#7201a8\"], [0.3333333333333333, \"#9c179e\"], [0.4444444444444444, \"#bd3786\"], [0.5555555555555556, \"#d8576b\"], [0.6666666666666666, \"#ed7953\"], [0.7777777777777778, \"#fb9f3a\"], [0.8888888888888888, \"#fdca26\"], [1.0, \"#f0f921\"]], \"type\": \"heatmapgl\"}], \"histogram\": [{\"marker\": {\"colorbar\": {\"outlinewidth\": 0, \"ticks\": \"\"}}, \"type\": \"histogram\"}], \"histogram2d\": [{\"colorbar\": {\"outlinewidth\": 0, \"ticks\": \"\"}, \"colorscale\": [[0.0, \"#0d0887\"], [0.1111111111111111, \"#46039f\"], [0.2222222222222222, \"#7201a8\"], [0.3333333333333333, \"#9c179e\"], [0.4444444444444444, \"#bd3786\"], [0.5555555555555556, \"#d8576b\"], [0.6666666666666666, \"#ed7953\"], [0.7777777777777778, \"#fb9f3a\"], [0.8888888888888888, \"#fdca26\"], [1.0, \"#f0f921\"]], \"type\": \"histogram2d\"}], \"histogram2dcontour\": [{\"colorbar\": {\"outlinewidth\": 0, \"ticks\": \"\"}, \"colorscale\": [[0.0, \"#0d0887\"], [0.1111111111111111, \"#46039f\"], [0.2222222222222222, \"#7201a8\"], [0.3333333333333333, \"#9c179e\"], [0.4444444444444444, \"#bd3786\"], [0.5555555555555556, \"#d8576b\"], [0.6666666666666666, \"#ed7953\"], [0.7777777777777778, \"#fb9f3a\"], [0.8888888888888888, \"#fdca26\"], [1.0, \"#f0f921\"]], \"type\": \"histogram2dcontour\"}], \"mesh3d\": [{\"colorbar\": {\"outlinewidth\": 0, \"ticks\": \"\"}, \"type\": \"mesh3d\"}], \"parcoords\": [{\"line\": {\"colorbar\": {\"outlinewidth\": 0, \"ticks\": \"\"}}, \"type\": \"parcoords\"}], \"pie\": [{\"automargin\": true, \"type\": \"pie\"}], \"scatter\": [{\"marker\": {\"colorbar\": {\"outlinewidth\": 0, \"ticks\": \"\"}}, \"type\": \"scatter\"}], \"scatter3d\": [{\"line\": {\"colorbar\": {\"outlinewidth\": 0, \"ticks\": \"\"}}, \"marker\": {\"colorbar\": {\"outlinewidth\": 0, \"ticks\": \"\"}}, \"type\": \"scatter3d\"}], \"scattercarpet\": [{\"marker\": {\"colorbar\": {\"outlinewidth\": 0, \"ticks\": \"\"}}, \"type\": \"scattercarpet\"}], \"scattergeo\": [{\"marker\": {\"colorbar\": {\"outlinewidth\": 0, \"ticks\": \"\"}}, \"type\": \"scattergeo\"}], \"scattergl\": [{\"marker\": {\"colorbar\": {\"outlinewidth\": 0, \"ticks\": \"\"}}, \"type\": \"scattergl\"}], \"scattermapbox\": [{\"marker\": {\"colorbar\": {\"outlinewidth\": 0, \"ticks\": \"\"}}, \"type\": \"scattermapbox\"}], \"scatterpolar\": [{\"marker\": {\"colorbar\": {\"outlinewidth\": 0, \"ticks\": \"\"}}, \"type\": \"scatterpolar\"}], \"scatterpolargl\": [{\"marker\": {\"colorbar\": {\"outlinewidth\": 0, \"ticks\": \"\"}}, \"type\": \"scatterpolargl\"}], \"scatterternary\": [{\"marker\": {\"colorbar\": {\"outlinewidth\": 0, \"ticks\": \"\"}}, \"type\": \"scatterternary\"}], \"surface\": [{\"colorbar\": {\"outlinewidth\": 0, \"ticks\": \"\"}, \"colorscale\": [[0.0, \"#0d0887\"], [0.1111111111111111, \"#46039f\"], [0.2222222222222222, \"#7201a8\"], [0.3333333333333333, \"#9c179e\"], [0.4444444444444444, \"#bd3786\"], [0.5555555555555556, \"#d8576b\"], [0.6666666666666666, \"#ed7953\"], [0.7777777777777778, \"#fb9f3a\"], [0.8888888888888888, \"#fdca26\"], [1.0, \"#f0f921\"]], \"type\": \"surface\"}], \"table\": [{\"cells\": {\"fill\": {\"color\": \"#EBF0F8\"}, \"line\": {\"color\": \"white\"}}, \"header\": {\"fill\": {\"color\": \"#C8D4E3\"}, \"line\": {\"color\": \"white\"}}, \"type\": \"table\"}]}, \"layout\": {\"annotationdefaults\": {\"arrowcolor\": \"#2a3f5f\", \"arrowhead\": 0, \"arrowwidth\": 1}, \"autotypenumbers\": \"strict\", \"coloraxis\": {\"colorbar\": {\"outlinewidth\": 0, \"ticks\": \"\"}}, \"colorscale\": {\"diverging\": [[0, \"#8e0152\"], [0.1, \"#c51b7d\"], [0.2, \"#de77ae\"], [0.3, \"#f1b6da\"], [0.4, \"#fde0ef\"], [0.5, \"#f7f7f7\"], [0.6, \"#e6f5d0\"], [0.7, \"#b8e186\"], [0.8, \"#7fbc41\"], [0.9, \"#4d9221\"], [1, \"#276419\"]], \"sequential\": [[0.0, \"#0d0887\"], [0.1111111111111111, \"#46039f\"], [0.2222222222222222, \"#7201a8\"], [0.3333333333333333, \"#9c179e\"], [0.4444444444444444, \"#bd3786\"], [0.5555555555555556, \"#d8576b\"], [0.6666666666666666, \"#ed7953\"], [0.7777777777777778, \"#fb9f3a\"], [0.8888888888888888, \"#fdca26\"], [1.0, \"#f0f921\"]], \"sequentialminus\": [[0.0, \"#0d0887\"], [0.1111111111111111, \"#46039f\"], [0.2222222222222222, \"#7201a8\"], [0.3333333333333333, \"#9c179e\"], [0.4444444444444444, \"#bd3786\"], [0.5555555555555556, \"#d8576b\"], [0.6666666666666666, \"#ed7953\"], [0.7777777777777778, \"#fb9f3a\"], [0.8888888888888888, \"#fdca26\"], [1.0, \"#f0f921\"]]}, \"colorway\": [\"#636efa\", \"#EF553B\", \"#00cc96\", \"#ab63fa\", \"#FFA15A\", \"#19d3f3\", \"#FF6692\", \"#B6E880\", \"#FF97FF\", \"#FECB52\"], \"font\": {\"color\": \"#2a3f5f\"}, \"geo\": {\"bgcolor\": \"white\", \"lakecolor\": \"white\", \"landcolor\": \"#E5ECF6\", \"showlakes\": true, \"showland\": true, \"subunitcolor\": \"white\"}, \"hoverlabel\": {\"align\": \"left\"}, \"hovermode\": \"closest\", \"mapbox\": {\"style\": \"light\"}, \"paper_bgcolor\": \"white\", \"plot_bgcolor\": \"#E5ECF6\", \"polar\": {\"angularaxis\": {\"gridcolor\": \"white\", \"linecolor\": \"white\", \"ticks\": \"\"}, \"bgcolor\": \"#E5ECF6\", \"radialaxis\": {\"gridcolor\": \"white\", \"linecolor\": \"white\", \"ticks\": \"\"}}, \"scene\": {\"xaxis\": {\"backgroundcolor\": \"#E5ECF6\", \"gridcolor\": \"white\", \"gridwidth\": 2, \"linecolor\": \"white\", \"showbackground\": true, \"ticks\": \"\", \"zerolinecolor\": \"white\"}, \"yaxis\": {\"backgroundcolor\": \"#E5ECF6\", \"gridcolor\": \"white\", \"gridwidth\": 2, \"linecolor\": \"white\", \"showbackground\": true, \"ticks\": \"\", \"zerolinecolor\": \"white\"}, \"zaxis\": {\"backgroundcolor\": \"#E5ECF6\", \"gridcolor\": \"white\", \"gridwidth\": 2, \"linecolor\": \"white\", \"showbackground\": true, \"ticks\": \"\", \"zerolinecolor\": \"white\"}}, \"shapedefaults\": {\"line\": {\"color\": \"#2a3f5f\"}}, \"ternary\": {\"aaxis\": {\"gridcolor\": \"white\", \"linecolor\": \"white\", \"ticks\": \"\"}, \"baxis\": {\"gridcolor\": \"white\", \"linecolor\": \"white\", \"ticks\": \"\"}, \"bgcolor\": \"#E5ECF6\", \"caxis\": {\"gridcolor\": \"white\", \"linecolor\": \"white\", \"ticks\": \"\"}}, \"title\": {\"x\": 0.05}, \"xaxis\": {\"automargin\": true, \"gridcolor\": \"white\", \"linecolor\": \"white\", \"ticks\": \"\", \"title\": {\"standoff\": 15}, \"zerolinecolor\": \"white\", \"zerolinewidth\": 2}, \"yaxis\": {\"automargin\": true, \"gridcolor\": \"white\", \"linecolor\": \"white\", \"ticks\": \"\", \"title\": {\"standoff\": 15}, \"zerolinecolor\": \"white\", \"zerolinewidth\": 2}}}, \"title\": {\"text\": \"Which are the 15 Movies \\ud83d\\udcfd\\u200d\\ufe0f that have received the most awards?\"}, \"uniformtext\": {\"minsize\": 8, \"mode\": \"hide\"}, \"xaxis\": {\"title\": {\"font\": {\"size\": 14}, \"text\": \"Titles\"}}, \"yaxis\": {\"title\": {\"font\": {\"size\": 14}, \"text\": \"Awards Received\"}}},                        {\"responsive\": true}                    ).then(function(){\n",
       "                            \n",
       "var gd = document.getElementById('b5b44157-4b62-4566-81f8-f1aaa2b1c2a2');\n",
       "var x = new MutationObserver(function (mutations, observer) {{\n",
       "        var display = window.getComputedStyle(gd).display;\n",
       "        if (!display || display === 'none') {{\n",
       "            console.log([gd, 'removed!']);\n",
       "            Plotly.purge(gd);\n",
       "            observer.disconnect();\n",
       "        }}\n",
       "}});\n",
       "\n",
       "// Listen for the removal of the full notebook cells\n",
       "var notebookContainer = gd.closest('#notebook-container');\n",
       "if (notebookContainer) {{\n",
       "    x.observe(notebookContainer, {childList: true});\n",
       "}}\n",
       "\n",
       "// Listen for the clearing of the current output cell\n",
       "var outputEl = gd.closest('.output');\n",
       "if (outputEl) {{\n",
       "    x.observe(outputEl, {childList: true});\n",
       "}}\n",
       "\n",
       "                        })                };                });            </script>        </div>"
      ]
     },
     "metadata": {},
     "output_type": "display_data"
    }
   ],
   "source": [
    "fig = go.Figure(data=[go.Bar(\n",
    "    x = top_m_awr_15_list['Title'],\n",
    "    y = top_m_awr_15_list['Awards Received'],\n",
    "    text = top_m_awr_15_list['Awards Received'],\n",
    "    textposition='auto',\n",
    "    marker_color=colors_15 # marker color can be a single color value or an iterable\n",
    ")])\n",
    "fig.update_traces(texttemplate='%{text:.2s}', textposition='outside')\n",
    "fig.update_layout(title_text= 'Which are the 15 Movies 📽‍️ that have received the most awards?',\n",
    "                  uniformtext_minsize=8, uniformtext_mode='hide',\n",
    "                  yaxis=dict(\n",
    "                  title='Awards Received',\n",
    "                  titlefont_size=14),\n",
    "                  xaxis=dict(\n",
    "                  title='Titles',\n",
    "                  titlefont_size=14))"
   ]
  },
  {
   "cell_type": "markdown",
   "id": "perceived-turtle",
   "metadata": {
    "papermill": {
     "duration": 0.099691,
     "end_time": "2021-06-05T06:17:51.706810",
     "exception": false,
     "start_time": "2021-06-05T06:17:51.607119",
     "status": "completed"
    },
    "tags": []
   },
   "source": [
    "# 2.11 Productivity per year (on Netflix) 📆 "
   ]
  },
  {
   "cell_type": "markdown",
   "id": "considerable-length",
   "metadata": {
    "papermill": {
     "duration": 0.099058,
     "end_time": "2021-06-05T06:17:51.905280",
     "exception": false,
     "start_time": "2021-06-05T06:17:51.806222",
     "status": "completed"
    },
    "tags": []
   },
   "source": [
    "> And finally, as a last topic, let's analyze which was the year in which the most series were released and which was the most films released. What do you think they were?"
   ]
  },
  {
   "cell_type": "markdown",
   "id": "agricultural-minority",
   "metadata": {
    "papermill": {
     "duration": 0.100248,
     "end_time": "2021-06-05T06:17:52.105358",
     "exception": false,
     "start_time": "2021-06-05T06:17:52.005110",
     "status": "completed"
    },
    "tags": []
   },
   "source": [
    "- **2.11.1 Tv Series 📺**"
   ]
  },
  {
   "cell_type": "code",
   "execution_count": 61,
   "id": "japanese-integral",
   "metadata": {
    "execution": {
     "iopub.execute_input": "2021-06-05T06:17:52.313914Z",
     "iopub.status.busy": "2021-06-05T06:17:52.311951Z",
     "iopub.status.idle": "2021-06-05T06:17:52.315899Z",
     "shell.execute_reply": "2021-06-05T06:17:52.316333Z",
     "shell.execute_reply.started": "2021-06-05T05:35:39.754070Z"
    },
    "papermill": {
     "duration": 0.110454,
     "end_time": "2021-06-05T06:17:52.316518",
     "exception": false,
     "start_time": "2021-06-05T06:17:52.206064",
     "status": "completed"
    },
    "tags": []
   },
   "outputs": [],
   "source": [
    "df_series_rel = df_series.dropna(subset=['Released_Year_Net'])"
   ]
  },
  {
   "cell_type": "code",
   "execution_count": 62,
   "id": "muslim-thomas",
   "metadata": {
    "execution": {
     "iopub.execute_input": "2021-06-05T06:17:52.518411Z",
     "iopub.status.busy": "2021-06-05T06:17:52.517854Z",
     "iopub.status.idle": "2021-06-05T06:17:52.524978Z",
     "shell.execute_reply": "2021-06-05T06:17:52.525414Z",
     "shell.execute_reply.started": "2021-06-05T05:35:39.768007Z"
    },
    "papermill": {
     "duration": 0.109579,
     "end_time": "2021-06-05T06:17:52.525619",
     "exception": false,
     "start_time": "2021-06-05T06:17:52.416040",
     "status": "completed"
    },
    "tags": []
   },
   "outputs": [],
   "source": [
    "series_rel_list = df_series_act['Released_Year_Net']\n",
    "s_rel_list = {} #create an empty list\n",
    "for year in series_rel_list: # for any year in series_rel_list\n",
    "    if (year in s_rel_list): #if this year is already present in the s_rel_list\n",
    "        s_rel_list[year]+=1 # increase his value\n",
    "    else:  # else\n",
    "        s_rel_list[year]=1 # Create his index in the list\n",
    "s_rel_df = pd.DataFrame(s_rel_list.values(),index = s_rel_list.keys(),\n",
    "                        columns = {'Year Counts'}) #Create a s_ctr_df\n",
    "s_rel_df.sort_values(by = 'Year Counts',ascending = False,inplace = True) #Sort the dataframe in ascending order\n",
    "top_10_s_rel = s_rel_df[0:10] "
   ]
  },
  {
   "cell_type": "code",
   "execution_count": 63,
   "id": "imperial-action",
   "metadata": {
    "execution": {
     "iopub.execute_input": "2021-06-05T06:17:52.726834Z",
     "iopub.status.busy": "2021-06-05T06:17:52.726243Z",
     "iopub.status.idle": "2021-06-05T06:17:52.745398Z",
     "shell.execute_reply": "2021-06-05T06:17:52.744922Z",
     "shell.execute_reply.started": "2021-06-05T05:35:39.781412Z"
    },
    "papermill": {
     "duration": 0.120596,
     "end_time": "2021-06-05T06:17:52.745546",
     "exception": false,
     "start_time": "2021-06-05T06:17:52.624950",
     "status": "completed"
    },
    "tags": []
   },
   "outputs": [
    {
     "data": {
      "text/html": [
       "<div>                            <div id=\"16aff6e6-2ffe-4c40-a2e9-5fdbbaf5d257\" class=\"plotly-graph-div\" style=\"height:525px; width:100%;\"></div>            <script type=\"text/javascript\">                require([\"plotly\"], function(Plotly) {                    window.PLOTLYENV=window.PLOTLYENV || {};                                    if (document.getElementById(\"16aff6e6-2ffe-4c40-a2e9-5fdbbaf5d257\")) {                    Plotly.newPlot(                        \"16aff6e6-2ffe-4c40-a2e9-5fdbbaf5d257\",                        [{\"marker\": {\"color\": [\"DarkRed\", \"FireBrick\", \"Red\", \"Crimson\", \"IndianRed\", \"slategray\", \"gray\", \"dimgrey\", \"DarkSlateGrey\", \"black\"]}, \"text\": [707.0, 584.0, 531.0, 507.0, 411.0, 328.0, 101.0], \"textposition\": \"outside\", \"texttemplate\": \"%{text:.2s}\", \"type\": \"bar\", \"x\": [2020, 2019, 2015, 2018, 2017, 2016, 2021], \"y\": [707, 584, 531, 507, 411, 328, 101]}],                        {\"template\": {\"data\": {\"bar\": [{\"error_x\": {\"color\": \"#2a3f5f\"}, \"error_y\": {\"color\": \"#2a3f5f\"}, \"marker\": {\"line\": {\"color\": \"#E5ECF6\", \"width\": 0.5}}, \"type\": \"bar\"}], \"barpolar\": [{\"marker\": {\"line\": {\"color\": \"#E5ECF6\", \"width\": 0.5}}, \"type\": \"barpolar\"}], \"carpet\": [{\"aaxis\": {\"endlinecolor\": \"#2a3f5f\", \"gridcolor\": \"white\", \"linecolor\": \"white\", \"minorgridcolor\": \"white\", \"startlinecolor\": \"#2a3f5f\"}, \"baxis\": {\"endlinecolor\": \"#2a3f5f\", \"gridcolor\": \"white\", \"linecolor\": \"white\", \"minorgridcolor\": \"white\", \"startlinecolor\": \"#2a3f5f\"}, \"type\": \"carpet\"}], \"choropleth\": [{\"colorbar\": {\"outlinewidth\": 0, \"ticks\": \"\"}, \"type\": \"choropleth\"}], \"contour\": [{\"colorbar\": {\"outlinewidth\": 0, \"ticks\": \"\"}, \"colorscale\": [[0.0, \"#0d0887\"], [0.1111111111111111, \"#46039f\"], [0.2222222222222222, \"#7201a8\"], [0.3333333333333333, \"#9c179e\"], [0.4444444444444444, \"#bd3786\"], [0.5555555555555556, \"#d8576b\"], [0.6666666666666666, \"#ed7953\"], [0.7777777777777778, \"#fb9f3a\"], [0.8888888888888888, \"#fdca26\"], [1.0, \"#f0f921\"]], \"type\": \"contour\"}], \"contourcarpet\": [{\"colorbar\": {\"outlinewidth\": 0, \"ticks\": \"\"}, \"type\": \"contourcarpet\"}], \"heatmap\": [{\"colorbar\": {\"outlinewidth\": 0, \"ticks\": \"\"}, \"colorscale\": [[0.0, \"#0d0887\"], [0.1111111111111111, \"#46039f\"], [0.2222222222222222, \"#7201a8\"], [0.3333333333333333, \"#9c179e\"], [0.4444444444444444, \"#bd3786\"], [0.5555555555555556, \"#d8576b\"], [0.6666666666666666, \"#ed7953\"], [0.7777777777777778, \"#fb9f3a\"], [0.8888888888888888, \"#fdca26\"], [1.0, \"#f0f921\"]], \"type\": \"heatmap\"}], \"heatmapgl\": [{\"colorbar\": {\"outlinewidth\": 0, \"ticks\": \"\"}, \"colorscale\": [[0.0, \"#0d0887\"], [0.1111111111111111, \"#46039f\"], [0.2222222222222222, \"#7201a8\"], [0.3333333333333333, \"#9c179e\"], [0.4444444444444444, \"#bd3786\"], [0.5555555555555556, \"#d8576b\"], [0.6666666666666666, \"#ed7953\"], [0.7777777777777778, \"#fb9f3a\"], [0.8888888888888888, \"#fdca26\"], [1.0, \"#f0f921\"]], \"type\": \"heatmapgl\"}], \"histogram\": [{\"marker\": {\"colorbar\": {\"outlinewidth\": 0, \"ticks\": \"\"}}, \"type\": \"histogram\"}], \"histogram2d\": [{\"colorbar\": {\"outlinewidth\": 0, \"ticks\": \"\"}, \"colorscale\": [[0.0, \"#0d0887\"], [0.1111111111111111, \"#46039f\"], [0.2222222222222222, \"#7201a8\"], [0.3333333333333333, \"#9c179e\"], [0.4444444444444444, \"#bd3786\"], [0.5555555555555556, \"#d8576b\"], [0.6666666666666666, \"#ed7953\"], [0.7777777777777778, \"#fb9f3a\"], [0.8888888888888888, \"#fdca26\"], [1.0, \"#f0f921\"]], \"type\": \"histogram2d\"}], \"histogram2dcontour\": [{\"colorbar\": {\"outlinewidth\": 0, \"ticks\": \"\"}, \"colorscale\": [[0.0, \"#0d0887\"], [0.1111111111111111, \"#46039f\"], [0.2222222222222222, \"#7201a8\"], [0.3333333333333333, \"#9c179e\"], [0.4444444444444444, \"#bd3786\"], [0.5555555555555556, \"#d8576b\"], [0.6666666666666666, \"#ed7953\"], [0.7777777777777778, \"#fb9f3a\"], [0.8888888888888888, \"#fdca26\"], [1.0, \"#f0f921\"]], \"type\": \"histogram2dcontour\"}], \"mesh3d\": [{\"colorbar\": {\"outlinewidth\": 0, \"ticks\": \"\"}, \"type\": \"mesh3d\"}], \"parcoords\": [{\"line\": {\"colorbar\": {\"outlinewidth\": 0, \"ticks\": \"\"}}, \"type\": \"parcoords\"}], \"pie\": [{\"automargin\": true, \"type\": \"pie\"}], \"scatter\": [{\"marker\": {\"colorbar\": {\"outlinewidth\": 0, \"ticks\": \"\"}}, \"type\": \"scatter\"}], \"scatter3d\": [{\"line\": {\"colorbar\": {\"outlinewidth\": 0, \"ticks\": \"\"}}, \"marker\": {\"colorbar\": {\"outlinewidth\": 0, \"ticks\": \"\"}}, \"type\": \"scatter3d\"}], \"scattercarpet\": [{\"marker\": {\"colorbar\": {\"outlinewidth\": 0, \"ticks\": \"\"}}, \"type\": \"scattercarpet\"}], \"scattergeo\": [{\"marker\": {\"colorbar\": {\"outlinewidth\": 0, \"ticks\": \"\"}}, \"type\": \"scattergeo\"}], \"scattergl\": [{\"marker\": {\"colorbar\": {\"outlinewidth\": 0, \"ticks\": \"\"}}, \"type\": \"scattergl\"}], \"scattermapbox\": [{\"marker\": {\"colorbar\": {\"outlinewidth\": 0, \"ticks\": \"\"}}, \"type\": \"scattermapbox\"}], \"scatterpolar\": [{\"marker\": {\"colorbar\": {\"outlinewidth\": 0, \"ticks\": \"\"}}, \"type\": \"scatterpolar\"}], \"scatterpolargl\": [{\"marker\": {\"colorbar\": {\"outlinewidth\": 0, \"ticks\": \"\"}}, \"type\": \"scatterpolargl\"}], \"scatterternary\": [{\"marker\": {\"colorbar\": {\"outlinewidth\": 0, \"ticks\": \"\"}}, \"type\": \"scatterternary\"}], \"surface\": [{\"colorbar\": {\"outlinewidth\": 0, \"ticks\": \"\"}, \"colorscale\": [[0.0, \"#0d0887\"], [0.1111111111111111, \"#46039f\"], [0.2222222222222222, \"#7201a8\"], [0.3333333333333333, \"#9c179e\"], [0.4444444444444444, \"#bd3786\"], [0.5555555555555556, \"#d8576b\"], [0.6666666666666666, \"#ed7953\"], [0.7777777777777778, \"#fb9f3a\"], [0.8888888888888888, \"#fdca26\"], [1.0, \"#f0f921\"]], \"type\": \"surface\"}], \"table\": [{\"cells\": {\"fill\": {\"color\": \"#EBF0F8\"}, \"line\": {\"color\": \"white\"}}, \"header\": {\"fill\": {\"color\": \"#C8D4E3\"}, \"line\": {\"color\": \"white\"}}, \"type\": \"table\"}]}, \"layout\": {\"annotationdefaults\": {\"arrowcolor\": \"#2a3f5f\", \"arrowhead\": 0, \"arrowwidth\": 1}, \"autotypenumbers\": \"strict\", \"coloraxis\": {\"colorbar\": {\"outlinewidth\": 0, \"ticks\": \"\"}}, \"colorscale\": {\"diverging\": [[0, \"#8e0152\"], [0.1, \"#c51b7d\"], [0.2, \"#de77ae\"], [0.3, \"#f1b6da\"], [0.4, \"#fde0ef\"], [0.5, \"#f7f7f7\"], [0.6, \"#e6f5d0\"], [0.7, \"#b8e186\"], [0.8, \"#7fbc41\"], [0.9, \"#4d9221\"], [1, \"#276419\"]], \"sequential\": [[0.0, \"#0d0887\"], [0.1111111111111111, \"#46039f\"], [0.2222222222222222, \"#7201a8\"], [0.3333333333333333, \"#9c179e\"], [0.4444444444444444, \"#bd3786\"], [0.5555555555555556, \"#d8576b\"], [0.6666666666666666, \"#ed7953\"], [0.7777777777777778, \"#fb9f3a\"], [0.8888888888888888, \"#fdca26\"], [1.0, \"#f0f921\"]], \"sequentialminus\": [[0.0, \"#0d0887\"], [0.1111111111111111, \"#46039f\"], [0.2222222222222222, \"#7201a8\"], [0.3333333333333333, \"#9c179e\"], [0.4444444444444444, \"#bd3786\"], [0.5555555555555556, \"#d8576b\"], [0.6666666666666666, \"#ed7953\"], [0.7777777777777778, \"#fb9f3a\"], [0.8888888888888888, \"#fdca26\"], [1.0, \"#f0f921\"]]}, \"colorway\": [\"#636efa\", \"#EF553B\", \"#00cc96\", \"#ab63fa\", \"#FFA15A\", \"#19d3f3\", \"#FF6692\", \"#B6E880\", \"#FF97FF\", \"#FECB52\"], \"font\": {\"color\": \"#2a3f5f\"}, \"geo\": {\"bgcolor\": \"white\", \"lakecolor\": \"white\", \"landcolor\": \"#E5ECF6\", \"showlakes\": true, \"showland\": true, \"subunitcolor\": \"white\"}, \"hoverlabel\": {\"align\": \"left\"}, \"hovermode\": \"closest\", \"mapbox\": {\"style\": \"light\"}, \"paper_bgcolor\": \"white\", \"plot_bgcolor\": \"#E5ECF6\", \"polar\": {\"angularaxis\": {\"gridcolor\": \"white\", \"linecolor\": \"white\", \"ticks\": \"\"}, \"bgcolor\": \"#E5ECF6\", \"radialaxis\": {\"gridcolor\": \"white\", \"linecolor\": \"white\", \"ticks\": \"\"}}, \"scene\": {\"xaxis\": {\"backgroundcolor\": \"#E5ECF6\", \"gridcolor\": \"white\", \"gridwidth\": 2, \"linecolor\": \"white\", \"showbackground\": true, \"ticks\": \"\", \"zerolinecolor\": \"white\"}, \"yaxis\": {\"backgroundcolor\": \"#E5ECF6\", \"gridcolor\": \"white\", \"gridwidth\": 2, \"linecolor\": \"white\", \"showbackground\": true, \"ticks\": \"\", \"zerolinecolor\": \"white\"}, \"zaxis\": {\"backgroundcolor\": \"#E5ECF6\", \"gridcolor\": \"white\", \"gridwidth\": 2, \"linecolor\": \"white\", \"showbackground\": true, \"ticks\": \"\", \"zerolinecolor\": \"white\"}}, \"shapedefaults\": {\"line\": {\"color\": \"#2a3f5f\"}}, \"ternary\": {\"aaxis\": {\"gridcolor\": \"white\", \"linecolor\": \"white\", \"ticks\": \"\"}, \"baxis\": {\"gridcolor\": \"white\", \"linecolor\": \"white\", \"ticks\": \"\"}, \"bgcolor\": \"#E5ECF6\", \"caxis\": {\"gridcolor\": \"white\", \"linecolor\": \"white\", \"ticks\": \"\"}}, \"title\": {\"x\": 0.05}, \"xaxis\": {\"automargin\": true, \"gridcolor\": \"white\", \"linecolor\": \"white\", \"ticks\": \"\", \"title\": {\"standoff\": 15}, \"zerolinecolor\": \"white\", \"zerolinewidth\": 2}, \"yaxis\": {\"automargin\": true, \"gridcolor\": \"white\", \"linecolor\": \"white\", \"ticks\": \"\", \"title\": {\"standoff\": 15}, \"zerolinecolor\": \"white\", \"zerolinewidth\": 2}}}, \"title\": {\"text\": \"In which year there have been more Tv Series released ?\"}, \"uniformtext\": {\"minsize\": 8, \"mode\": \"hide\"}, \"xaxis\": {\"title\": {\"font\": {\"size\": 14}, \"text\": \"Titles\"}}, \"yaxis\": {\"title\": {\"font\": {\"size\": 14}, \"text\": \"N\\u00b0 of release\"}}},                        {\"responsive\": true}                    ).then(function(){\n",
       "                            \n",
       "var gd = document.getElementById('16aff6e6-2ffe-4c40-a2e9-5fdbbaf5d257');\n",
       "var x = new MutationObserver(function (mutations, observer) {{\n",
       "        var display = window.getComputedStyle(gd).display;\n",
       "        if (!display || display === 'none') {{\n",
       "            console.log([gd, 'removed!']);\n",
       "            Plotly.purge(gd);\n",
       "            observer.disconnect();\n",
       "        }}\n",
       "}});\n",
       "\n",
       "// Listen for the removal of the full notebook cells\n",
       "var notebookContainer = gd.closest('#notebook-container');\n",
       "if (notebookContainer) {{\n",
       "    x.observe(notebookContainer, {childList: true});\n",
       "}}\n",
       "\n",
       "// Listen for the clearing of the current output cell\n",
       "var outputEl = gd.closest('.output');\n",
       "if (outputEl) {{\n",
       "    x.observe(outputEl, {childList: true});\n",
       "}}\n",
       "\n",
       "                        })                };                });            </script>        </div>"
      ]
     },
     "metadata": {},
     "output_type": "display_data"
    }
   ],
   "source": [
    "fig = go.Figure(data=[go.Bar(\n",
    "    x = top_10_s_rel.index,\n",
    "    y = top_10_s_rel['Year Counts'],\n",
    "    text = top_10_s_rel['Year Counts'],\n",
    "    textposition='auto',\n",
    "    marker_color=colors_10 # marker color can be a single color value or an iterable\n",
    ")])\n",
    "fig.update_traces(texttemplate='%{text:.2s}', textposition='outside')\n",
    "fig.update_layout(title_text= 'In which year there have been more Tv Series released ?',\n",
    "                  uniformtext_minsize=8, uniformtext_mode='hide',\n",
    "                  yaxis=dict(\n",
    "                  title='N° of release',\n",
    "                  titlefont_size=14),\n",
    "                  xaxis=dict(\n",
    "                  title='Titles',\n",
    "                  titlefont_size=14))"
   ]
  },
  {
   "cell_type": "markdown",
   "id": "veterinary-maintenance",
   "metadata": {
    "papermill": {
     "duration": 0.100273,
     "end_time": "2021-06-05T06:17:52.946056",
     "exception": false,
     "start_time": "2021-06-05T06:17:52.845783",
     "status": "completed"
    },
    "tags": []
   },
   "source": [
    "- Movie 📽‍️"
   ]
  },
  {
   "cell_type": "code",
   "execution_count": 64,
   "id": "alpha-gathering",
   "metadata": {
    "execution": {
     "iopub.execute_input": "2021-06-05T06:17:53.152412Z",
     "iopub.status.busy": "2021-06-05T06:17:53.151545Z",
     "iopub.status.idle": "2021-06-05T06:17:53.161017Z",
     "shell.execute_reply": "2021-06-05T06:17:53.161427Z",
     "shell.execute_reply.started": "2021-06-05T05:35:39.811777Z"
    },
    "papermill": {
     "duration": 0.112892,
     "end_time": "2021-06-05T06:17:53.161687",
     "exception": false,
     "start_time": "2021-06-05T06:17:53.048795",
     "status": "completed"
    },
    "tags": []
   },
   "outputs": [],
   "source": [
    "df_movie_rel = df_movie.dropna(subset=['Released_Year_Net'])"
   ]
  },
  {
   "cell_type": "code",
   "execution_count": 65,
   "id": "italian-estate",
   "metadata": {
    "execution": {
     "iopub.execute_input": "2021-06-05T06:17:53.366590Z",
     "iopub.status.busy": "2021-06-05T06:17:53.365752Z",
     "iopub.status.idle": "2021-06-05T06:17:53.375277Z",
     "shell.execute_reply": "2021-06-05T06:17:53.375678Z",
     "shell.execute_reply.started": "2021-06-05T05:35:39.828641Z"
    },
    "papermill": {
     "duration": 0.112084,
     "end_time": "2021-06-05T06:17:53.375850",
     "exception": false,
     "start_time": "2021-06-05T06:17:53.263766",
     "status": "completed"
    },
    "tags": []
   },
   "outputs": [],
   "source": [
    "movie_rel_list = df_movie_act['Released_Year_Net']\n",
    "m_rel_list = {} #create an empty list\n",
    "for year in movie_rel_list: # for any year in movie_rel_list\n",
    "    if (year in m_rel_list): #if this year is already present in the m_rel_list\n",
    "        m_rel_list[year]+=1 # increase his value\n",
    "    else:  # else\n",
    "        m_rel_list[year]=1 # Create his index in the list\n",
    "m_rel_df = pd.DataFrame(m_rel_list.values(),index = m_rel_list.keys(),\n",
    "                        columns = {'Year Counts'}) #Create a s_ctr_df\n",
    "m_rel_df.sort_values(by = 'Year Counts',ascending = False,inplace = True) #Sort the dataframe in ascending order\n",
    "top_10_m_rel = m_rel_df[0:10] "
   ]
  },
  {
   "cell_type": "code",
   "execution_count": 66,
   "id": "aggressive-drill",
   "metadata": {
    "execution": {
     "iopub.execute_input": "2021-06-05T06:17:53.579273Z",
     "iopub.status.busy": "2021-06-05T06:17:53.578406Z",
     "iopub.status.idle": "2021-06-05T06:17:53.598310Z",
     "shell.execute_reply": "2021-06-05T06:17:53.597725Z",
     "shell.execute_reply.started": "2021-06-05T05:35:39.843398Z"
    },
    "papermill": {
     "duration": 0.122529,
     "end_time": "2021-06-05T06:17:53.598451",
     "exception": false,
     "start_time": "2021-06-05T06:17:53.475922",
     "status": "completed"
    },
    "tags": []
   },
   "outputs": [
    {
     "data": {
      "text/html": [
       "<div>                            <div id=\"ab72317a-7104-468e-84c1-72cd22eeb415\" class=\"plotly-graph-div\" style=\"height:525px; width:100%;\"></div>            <script type=\"text/javascript\">                require([\"plotly\"], function(Plotly) {                    window.PLOTLYENV=window.PLOTLYENV || {};                                    if (document.getElementById(\"ab72317a-7104-468e-84c1-72cd22eeb415\")) {                    Plotly.newPlot(                        \"ab72317a-7104-468e-84c1-72cd22eeb415\",                        [{\"marker\": {\"color\": [\"DarkRed\", \"FireBrick\", \"Red\", \"Crimson\", \"IndianRed\", \"slategray\", \"gray\", \"dimgrey\", \"DarkSlateGrey\", \"black\"]}, \"text\": [2655.0, 2206.0, 1712.0, 1424.0, 1065.0, 925.0, 399.0], \"textposition\": \"outside\", \"texttemplate\": \"%{text:.2s}\", \"type\": \"bar\", \"x\": [2015, 2020, 2019, 2018, 2017, 2016, 2021], \"y\": [2655, 2206, 1712, 1424, 1065, 925, 399]}],                        {\"template\": {\"data\": {\"bar\": [{\"error_x\": {\"color\": \"#2a3f5f\"}, \"error_y\": {\"color\": \"#2a3f5f\"}, \"marker\": {\"line\": {\"color\": \"#E5ECF6\", \"width\": 0.5}}, \"type\": \"bar\"}], \"barpolar\": [{\"marker\": {\"line\": {\"color\": \"#E5ECF6\", \"width\": 0.5}}, \"type\": \"barpolar\"}], \"carpet\": [{\"aaxis\": {\"endlinecolor\": \"#2a3f5f\", \"gridcolor\": \"white\", \"linecolor\": \"white\", \"minorgridcolor\": \"white\", \"startlinecolor\": \"#2a3f5f\"}, \"baxis\": {\"endlinecolor\": \"#2a3f5f\", \"gridcolor\": \"white\", \"linecolor\": \"white\", \"minorgridcolor\": \"white\", \"startlinecolor\": \"#2a3f5f\"}, \"type\": \"carpet\"}], \"choropleth\": [{\"colorbar\": {\"outlinewidth\": 0, \"ticks\": \"\"}, \"type\": \"choropleth\"}], \"contour\": [{\"colorbar\": {\"outlinewidth\": 0, \"ticks\": \"\"}, \"colorscale\": [[0.0, \"#0d0887\"], [0.1111111111111111, \"#46039f\"], [0.2222222222222222, \"#7201a8\"], [0.3333333333333333, \"#9c179e\"], [0.4444444444444444, \"#bd3786\"], [0.5555555555555556, \"#d8576b\"], [0.6666666666666666, \"#ed7953\"], [0.7777777777777778, \"#fb9f3a\"], [0.8888888888888888, \"#fdca26\"], [1.0, \"#f0f921\"]], \"type\": \"contour\"}], \"contourcarpet\": [{\"colorbar\": {\"outlinewidth\": 0, \"ticks\": \"\"}, \"type\": \"contourcarpet\"}], \"heatmap\": [{\"colorbar\": {\"outlinewidth\": 0, \"ticks\": \"\"}, \"colorscale\": [[0.0, \"#0d0887\"], [0.1111111111111111, \"#46039f\"], [0.2222222222222222, \"#7201a8\"], [0.3333333333333333, \"#9c179e\"], [0.4444444444444444, \"#bd3786\"], [0.5555555555555556, \"#d8576b\"], [0.6666666666666666, \"#ed7953\"], [0.7777777777777778, \"#fb9f3a\"], [0.8888888888888888, \"#fdca26\"], [1.0, \"#f0f921\"]], \"type\": \"heatmap\"}], \"heatmapgl\": [{\"colorbar\": {\"outlinewidth\": 0, \"ticks\": \"\"}, \"colorscale\": [[0.0, \"#0d0887\"], [0.1111111111111111, \"#46039f\"], [0.2222222222222222, \"#7201a8\"], [0.3333333333333333, \"#9c179e\"], [0.4444444444444444, \"#bd3786\"], [0.5555555555555556, \"#d8576b\"], [0.6666666666666666, \"#ed7953\"], [0.7777777777777778, \"#fb9f3a\"], [0.8888888888888888, \"#fdca26\"], [1.0, \"#f0f921\"]], \"type\": \"heatmapgl\"}], \"histogram\": [{\"marker\": {\"colorbar\": {\"outlinewidth\": 0, \"ticks\": \"\"}}, \"type\": \"histogram\"}], \"histogram2d\": [{\"colorbar\": {\"outlinewidth\": 0, \"ticks\": \"\"}, \"colorscale\": [[0.0, \"#0d0887\"], [0.1111111111111111, \"#46039f\"], [0.2222222222222222, \"#7201a8\"], [0.3333333333333333, \"#9c179e\"], [0.4444444444444444, \"#bd3786\"], [0.5555555555555556, \"#d8576b\"], [0.6666666666666666, \"#ed7953\"], [0.7777777777777778, \"#fb9f3a\"], [0.8888888888888888, \"#fdca26\"], [1.0, \"#f0f921\"]], \"type\": \"histogram2d\"}], \"histogram2dcontour\": [{\"colorbar\": {\"outlinewidth\": 0, \"ticks\": \"\"}, \"colorscale\": [[0.0, \"#0d0887\"], [0.1111111111111111, \"#46039f\"], [0.2222222222222222, \"#7201a8\"], [0.3333333333333333, \"#9c179e\"], [0.4444444444444444, \"#bd3786\"], [0.5555555555555556, \"#d8576b\"], [0.6666666666666666, \"#ed7953\"], [0.7777777777777778, \"#fb9f3a\"], [0.8888888888888888, \"#fdca26\"], [1.0, \"#f0f921\"]], \"type\": \"histogram2dcontour\"}], \"mesh3d\": [{\"colorbar\": {\"outlinewidth\": 0, \"ticks\": \"\"}, \"type\": \"mesh3d\"}], \"parcoords\": [{\"line\": {\"colorbar\": {\"outlinewidth\": 0, \"ticks\": \"\"}}, \"type\": \"parcoords\"}], \"pie\": [{\"automargin\": true, \"type\": \"pie\"}], \"scatter\": [{\"marker\": {\"colorbar\": {\"outlinewidth\": 0, \"ticks\": \"\"}}, \"type\": \"scatter\"}], \"scatter3d\": [{\"line\": {\"colorbar\": {\"outlinewidth\": 0, \"ticks\": \"\"}}, \"marker\": {\"colorbar\": {\"outlinewidth\": 0, \"ticks\": \"\"}}, \"type\": \"scatter3d\"}], \"scattercarpet\": [{\"marker\": {\"colorbar\": {\"outlinewidth\": 0, \"ticks\": \"\"}}, \"type\": \"scattercarpet\"}], \"scattergeo\": [{\"marker\": {\"colorbar\": {\"outlinewidth\": 0, \"ticks\": \"\"}}, \"type\": \"scattergeo\"}], \"scattergl\": [{\"marker\": {\"colorbar\": {\"outlinewidth\": 0, \"ticks\": \"\"}}, \"type\": \"scattergl\"}], \"scattermapbox\": [{\"marker\": {\"colorbar\": {\"outlinewidth\": 0, \"ticks\": \"\"}}, \"type\": \"scattermapbox\"}], \"scatterpolar\": [{\"marker\": {\"colorbar\": {\"outlinewidth\": 0, \"ticks\": \"\"}}, \"type\": \"scatterpolar\"}], \"scatterpolargl\": [{\"marker\": {\"colorbar\": {\"outlinewidth\": 0, \"ticks\": \"\"}}, \"type\": \"scatterpolargl\"}], \"scatterternary\": [{\"marker\": {\"colorbar\": {\"outlinewidth\": 0, \"ticks\": \"\"}}, \"type\": \"scatterternary\"}], \"surface\": [{\"colorbar\": {\"outlinewidth\": 0, \"ticks\": \"\"}, \"colorscale\": [[0.0, \"#0d0887\"], [0.1111111111111111, \"#46039f\"], [0.2222222222222222, \"#7201a8\"], [0.3333333333333333, \"#9c179e\"], [0.4444444444444444, \"#bd3786\"], [0.5555555555555556, \"#d8576b\"], [0.6666666666666666, \"#ed7953\"], [0.7777777777777778, \"#fb9f3a\"], [0.8888888888888888, \"#fdca26\"], [1.0, \"#f0f921\"]], \"type\": \"surface\"}], \"table\": [{\"cells\": {\"fill\": {\"color\": \"#EBF0F8\"}, \"line\": {\"color\": \"white\"}}, \"header\": {\"fill\": {\"color\": \"#C8D4E3\"}, \"line\": {\"color\": \"white\"}}, \"type\": \"table\"}]}, \"layout\": {\"annotationdefaults\": {\"arrowcolor\": \"#2a3f5f\", \"arrowhead\": 0, \"arrowwidth\": 1}, \"autotypenumbers\": \"strict\", \"coloraxis\": {\"colorbar\": {\"outlinewidth\": 0, \"ticks\": \"\"}}, \"colorscale\": {\"diverging\": [[0, \"#8e0152\"], [0.1, \"#c51b7d\"], [0.2, \"#de77ae\"], [0.3, \"#f1b6da\"], [0.4, \"#fde0ef\"], [0.5, \"#f7f7f7\"], [0.6, \"#e6f5d0\"], [0.7, \"#b8e186\"], [0.8, \"#7fbc41\"], [0.9, \"#4d9221\"], [1, \"#276419\"]], \"sequential\": [[0.0, \"#0d0887\"], [0.1111111111111111, \"#46039f\"], [0.2222222222222222, \"#7201a8\"], [0.3333333333333333, \"#9c179e\"], [0.4444444444444444, \"#bd3786\"], [0.5555555555555556, \"#d8576b\"], [0.6666666666666666, \"#ed7953\"], [0.7777777777777778, \"#fb9f3a\"], [0.8888888888888888, \"#fdca26\"], [1.0, \"#f0f921\"]], \"sequentialminus\": [[0.0, \"#0d0887\"], [0.1111111111111111, \"#46039f\"], [0.2222222222222222, \"#7201a8\"], [0.3333333333333333, \"#9c179e\"], [0.4444444444444444, \"#bd3786\"], [0.5555555555555556, \"#d8576b\"], [0.6666666666666666, \"#ed7953\"], [0.7777777777777778, \"#fb9f3a\"], [0.8888888888888888, \"#fdca26\"], [1.0, \"#f0f921\"]]}, \"colorway\": [\"#636efa\", \"#EF553B\", \"#00cc96\", \"#ab63fa\", \"#FFA15A\", \"#19d3f3\", \"#FF6692\", \"#B6E880\", \"#FF97FF\", \"#FECB52\"], \"font\": {\"color\": \"#2a3f5f\"}, \"geo\": {\"bgcolor\": \"white\", \"lakecolor\": \"white\", \"landcolor\": \"#E5ECF6\", \"showlakes\": true, \"showland\": true, \"subunitcolor\": \"white\"}, \"hoverlabel\": {\"align\": \"left\"}, \"hovermode\": \"closest\", \"mapbox\": {\"style\": \"light\"}, \"paper_bgcolor\": \"white\", \"plot_bgcolor\": \"#E5ECF6\", \"polar\": {\"angularaxis\": {\"gridcolor\": \"white\", \"linecolor\": \"white\", \"ticks\": \"\"}, \"bgcolor\": \"#E5ECF6\", \"radialaxis\": {\"gridcolor\": \"white\", \"linecolor\": \"white\", \"ticks\": \"\"}}, \"scene\": {\"xaxis\": {\"backgroundcolor\": \"#E5ECF6\", \"gridcolor\": \"white\", \"gridwidth\": 2, \"linecolor\": \"white\", \"showbackground\": true, \"ticks\": \"\", \"zerolinecolor\": \"white\"}, \"yaxis\": {\"backgroundcolor\": \"#E5ECF6\", \"gridcolor\": \"white\", \"gridwidth\": 2, \"linecolor\": \"white\", \"showbackground\": true, \"ticks\": \"\", \"zerolinecolor\": \"white\"}, \"zaxis\": {\"backgroundcolor\": \"#E5ECF6\", \"gridcolor\": \"white\", \"gridwidth\": 2, \"linecolor\": \"white\", \"showbackground\": true, \"ticks\": \"\", \"zerolinecolor\": \"white\"}}, \"shapedefaults\": {\"line\": {\"color\": \"#2a3f5f\"}}, \"ternary\": {\"aaxis\": {\"gridcolor\": \"white\", \"linecolor\": \"white\", \"ticks\": \"\"}, \"baxis\": {\"gridcolor\": \"white\", \"linecolor\": \"white\", \"ticks\": \"\"}, \"bgcolor\": \"#E5ECF6\", \"caxis\": {\"gridcolor\": \"white\", \"linecolor\": \"white\", \"ticks\": \"\"}}, \"title\": {\"x\": 0.05}, \"xaxis\": {\"automargin\": true, \"gridcolor\": \"white\", \"linecolor\": \"white\", \"ticks\": \"\", \"title\": {\"standoff\": 15}, \"zerolinecolor\": \"white\", \"zerolinewidth\": 2}, \"yaxis\": {\"automargin\": true, \"gridcolor\": \"white\", \"linecolor\": \"white\", \"ticks\": \"\", \"title\": {\"standoff\": 15}, \"zerolinecolor\": \"white\", \"zerolinewidth\": 2}}}, \"title\": {\"text\": \"In which year there have been more Movies released ?\"}, \"uniformtext\": {\"minsize\": 8, \"mode\": \"hide\"}, \"xaxis\": {\"title\": {\"font\": {\"size\": 14}, \"text\": \"Titles\"}}, \"yaxis\": {\"title\": {\"font\": {\"size\": 14}, \"text\": \"N\\u00b0 of release\"}}},                        {\"responsive\": true}                    ).then(function(){\n",
       "                            \n",
       "var gd = document.getElementById('ab72317a-7104-468e-84c1-72cd22eeb415');\n",
       "var x = new MutationObserver(function (mutations, observer) {{\n",
       "        var display = window.getComputedStyle(gd).display;\n",
       "        if (!display || display === 'none') {{\n",
       "            console.log([gd, 'removed!']);\n",
       "            Plotly.purge(gd);\n",
       "            observer.disconnect();\n",
       "        }}\n",
       "}});\n",
       "\n",
       "// Listen for the removal of the full notebook cells\n",
       "var notebookContainer = gd.closest('#notebook-container');\n",
       "if (notebookContainer) {{\n",
       "    x.observe(notebookContainer, {childList: true});\n",
       "}}\n",
       "\n",
       "// Listen for the clearing of the current output cell\n",
       "var outputEl = gd.closest('.output');\n",
       "if (outputEl) {{\n",
       "    x.observe(outputEl, {childList: true});\n",
       "}}\n",
       "\n",
       "                        })                };                });            </script>        </div>"
      ]
     },
     "metadata": {},
     "output_type": "display_data"
    }
   ],
   "source": [
    "fig = go.Figure(data=[go.Bar(\n",
    "    x = top_10_m_rel.index,\n",
    "    y = top_10_m_rel['Year Counts'],\n",
    "    text = top_10_m_rel['Year Counts'],\n",
    "    textposition='auto',\n",
    "    marker_color=colors_10 # marker color can be a single color value or an iterable\n",
    ")])\n",
    "fig.update_traces(texttemplate='%{text:.2s}', textposition='outside')\n",
    "fig.update_layout(title_text= 'In which year there have been more Movies released ?',\n",
    "                  uniformtext_minsize=8, uniformtext_mode='hide',\n",
    "                  yaxis=dict(\n",
    "                  title='N° of release',\n",
    "                  titlefont_size=14),\n",
    "                  xaxis=dict(\n",
    "                  title='Titles',\n",
    "                  titlefont_size=14))"
   ]
  },
  {
   "cell_type": "markdown",
   "id": "atmospheric-casting",
   "metadata": {
    "papermill": {
     "duration": 0.100572,
     "end_time": "2021-06-05T06:17:53.799486",
     "exception": false,
     "start_time": "2021-06-05T06:17:53.698914",
     "status": "completed"
    },
    "tags": []
   },
   "source": [
    "**Thank you so much for looking at this notebook, I hope you enjoyed it and if so I would invite you to put an upvote. If you have found any errors, please write them to me in the comments or even if you have any suggestions for improving the notebook. thank you very much again and good Kaggling!**"
   ]
  }
 ],
 "metadata": {
  "kernelspec": {
   "display_name": "Python 3",
   "language": "python",
   "name": "python3"
  },
  "language_info": {
   "codemirror_mode": {
    "name": "ipython",
    "version": 3
   },
   "file_extension": ".py",
   "mimetype": "text/x-python",
   "name": "python",
   "nbconvert_exporter": "python",
   "pygments_lexer": "ipython3",
   "version": "3.7.10"
  },
  "papermill": {
   "default_parameters": {},
   "duration": 172.230881,
   "end_time": "2021-06-05T06:17:55.242934",
   "environment_variables": {},
   "exception": null,
   "input_path": "__notebook__.ipynb",
   "output_path": "__notebook__.ipynb",
   "parameters": {},
   "start_time": "2021-06-05T06:15:03.012053",
   "version": "2.3.3"
  }
 },
 "nbformat": 4,
 "nbformat_minor": 5
}
